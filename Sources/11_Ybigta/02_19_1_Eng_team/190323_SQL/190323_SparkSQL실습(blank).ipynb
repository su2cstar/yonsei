{
 "cells": [
  {
   "cell_type": "markdown",
   "metadata": {},
   "source": [
    "# 190323 SparkSQL 실습"
   ]
  },
  {
   "cell_type": "code",
   "execution_count": 2,
   "metadata": {},
   "outputs": [
    {
     "data": {
      "text/html": [
       "<style scoped>\n",
       "  .ansiout {\n",
       "    display: block;\n",
       "    unicode-bidi: embed;\n",
       "    white-space: pre-wrap;\n",
       "    word-wrap: break-word;\n",
       "    word-break: break-all;\n",
       "    font-family: \"Source Code Pro\", \"Menlo\", monospace;;\n",
       "    font-size: 13px;\n",
       "    color: #555;\n",
       "    margin-left: 4px;\n",
       "    line-height: 19px;\n",
       "  }\n",
       "</style>\n",
       "<div class=\"ansiout\"><span class=\"ansired\">Out[</span><span class=\"ansired\">1</span><span class=\"ansired\">]: </span>&lt;SparkContext master=local[8] appName=Databricks Shell&gt;\n",
       "</div>"
      ]
     },
     "metadata": {},
     "output_type": "display_data"
    }
   ],
   "source": [
    "sc"
   ]
  },
  {
   "cell_type": "code",
   "execution_count": 3,
   "metadata": {},
   "outputs": [
    {
     "data": {
      "text/html": [
       "<style scoped>\n",
       "  .ansiout {\n",
       "    display: block;\n",
       "    unicode-bidi: embed;\n",
       "    white-space: pre-wrap;\n",
       "    word-wrap: break-word;\n",
       "    word-break: break-all;\n",
       "    font-family: \"Source Code Pro\", \"Menlo\", monospace;;\n",
       "    font-size: 13px;\n",
       "    color: #555;\n",
       "    margin-left: 4px;\n",
       "    line-height: 19px;\n",
       "  }\n",
       "</style>\n",
       "<div class=\"ansiout\"></div>"
      ]
     },
     "metadata": {},
     "output_type": "display_data"
    }
   ],
   "source": [
    "import collections\n",
    "\n",
    "from pyspark import StorageLevel\n",
    "from pyspark.sql import Row\n",
    "from pyspark.sql import SparkSession\n",
    "from pyspark.sql.functions import *\n",
    "from pyspark.sql import functions\n",
    "from pyspark.sql.types import *\n",
    "from pyspark.sql.window import Window\n",
    "import time\n",
    "from pyspark.sql.functions import udf\n",
    "from pyspark.sql.types import *"
   ]
  },
  {
   "cell_type": "markdown",
   "metadata": {},
   "source": [
    "## 데이터 불러오기\n",
    "\n",
    "이 데이터는 2001년부터 2019년까지의 모든 야구 경기를 나타낸 데이터입니다.\n",
    "\n",
    "- team1, team2 : 경기에 참여한 팀\n",
    "- teams : team1 + team2\n",
    "- stadium : 해당 경기를 치룬 경기장\n",
    "- etc : 해당 경기의 상태 (제대로 경기를 했는지, 그렇지 못하면 무슨 사유로 취소되었는지)\n",
    "- year, day_of_week, date : 그 경기가 이루어진 년도, 요일, 날짜에 대한 데이터"
   ]
  },
  {
   "cell_type": "code",
   "execution_count": 5,
   "metadata": {},
   "outputs": [
    {
     "data": {
      "text/html": [
       "<style scoped>\n",
       "  .ansiout {\n",
       "    display: block;\n",
       "    unicode-bidi: embed;\n",
       "    white-space: pre-wrap;\n",
       "    word-wrap: break-word;\n",
       "    word-break: break-all;\n",
       "    font-family: \"Source Code Pro\", \"Menlo\", monospace;;\n",
       "    font-size: 13px;\n",
       "    color: #555;\n",
       "    margin-left: 4px;\n",
       "    line-height: 19px;\n",
       "  }\n",
       "</style>\n",
       "<div class=\"ansiout\">+-----+-----+-------+---+----+-----------+----+---------+\n",
       "team1|team2|stadium|etc|year|day_of_week|date|    teams|\n",
       "+-----+-----+-------+---+----+-----------+----+---------+\n",
       " 삼성|   NC|   창원|  -|2019|         토|3.23|  삼성 NC|\n",
       " 한화| 두산|   잠실|  -|2019|         토|3.23|한화 두산|\n",
       "   KT|   SK|   문학|  -|2019|         토|3.23|    KT SK|\n",
       "   LG|  KIA|   광주|  -|2019|         토|3.23|   LG KIA|\n",
       " 키움| 롯데|   사직|  -|2019|         토|3.23|키움 롯데|\n",
       " 삼성|   NC|   창원|  -|2019|         일|3.24|  삼성 NC|\n",
       " 한화| 두산|   잠실|  -|2019|         일|3.24|한화 두산|\n",
       "   KT|   SK|   문학|  -|2019|         일|3.24|    KT SK|\n",
       "   LG|  KIA|   광주|  -|2019|         일|3.24|   LG KIA|\n",
       " 키움| 롯데|   사직|  -|2019|         일|3.24|키움 롯데|\n",
       "   KT|   NC|   창원|  -|2019|         화|3.26|    KT NC|\n",
       " 키움| 두산|   잠실|  -|2019|         화|3.26|키움 두산|\n",
       "   LG|   SK|   문학|  -|2019|         화|3.26|    LG SK|\n",
       " 한화|  KIA|   광주|  -|2019|         화|3.26| 한화 KIA|\n",
       " 삼성| 롯데|   사직|  -|2019|         화|3.26|삼성 롯데|\n",
       "   KT|   NC|   창원|  -|2019|         수|3.27|    KT NC|\n",
       " 키움| 두산|   잠실|  -|2019|         수|3.27|키움 두산|\n",
       "   LG|   SK|   문학|  -|2019|         수|3.27|    LG SK|\n",
       " 한화|  KIA|   광주|  -|2019|         수|3.27| 한화 KIA|\n",
       " 삼성| 롯데|   사직|  -|2019|         수|3.27|삼성 롯데|\n",
       "+-----+-----+-------+---+----+-----------+----+---------+\n",
       "only showing top 20 rows\n",
       "\n",
       "</div>"
      ]
     },
     "metadata": {},
     "output_type": "display_data"
    }
   ],
   "source": [
    "stadium = spark.read.csv(\"/FileStore/tables/stadium.csv\", header = True)\n",
    "stadium.show()"
   ]
  },
  {
   "cell_type": "code",
   "execution_count": 6,
   "metadata": {},
   "outputs": [
    {
     "data": {
      "text/html": [
       "<style scoped>\n",
       "  .ansiout {\n",
       "    display: block;\n",
       "    unicode-bidi: embed;\n",
       "    white-space: pre-wrap;\n",
       "    word-wrap: break-word;\n",
       "    word-break: break-all;\n",
       "    font-family: \"Source Code Pro\", \"Menlo\", monospace;;\n",
       "    font-size: 13px;\n",
       "    color: #555;\n",
       "    margin-left: 4px;\n",
       "    line-height: 19px;\n",
       "  }\n",
       "</style>\n",
       "<div class=\"ansiout\">root\n",
       "-- team1: string (nullable = true)\n",
       "-- team2: string (nullable = true)\n",
       "-- stadium: string (nullable = true)\n",
       "-- etc: string (nullable = true)\n",
       "-- year: string (nullable = true)\n",
       "-- day_of_week: string (nullable = true)\n",
       "-- date: string (nullable = true)\n",
       "-- teams: string (nullable = true)\n",
       "\n",
       "</div>"
      ]
     },
     "metadata": {},
     "output_type": "display_data"
    }
   ],
   "source": [
    "stadium.printSchema()"
   ]
  },
  {
   "cell_type": "markdown",
   "metadata": {},
   "source": [
    "## 야구 팀은 뭐가 있지?... 그 팀은 몇 번 경기를 했을까?\n",
    "18개의 팀이 나오지만 2001년부터의 데이터가 모여있기 때문에 현재는 없어진 팀들도 있습니다.\n",
    "\n",
    "현재는 두산, SK, 키움, 롯데, NC, 삼성, KT, KIA, LG, 한화로 10개 팀이 있습니다."
   ]
  },
  {
   "cell_type": "code",
   "execution_count": 8,
   "metadata": {},
   "outputs": [
    {
     "data": {
      "text/html": [
       "<style scoped>\n",
       "  .ansiout {\n",
       "    display: block;\n",
       "    unicode-bidi: embed;\n",
       "    white-space: pre-wrap;\n",
       "    word-wrap: break-word;\n",
       "    word-break: break-all;\n",
       "    font-family: \"Source Code Pro\", \"Menlo\", monospace;;\n",
       "    font-size: 13px;\n",
       "    color: #555;\n",
       "    margin-left: 4px;\n",
       "    line-height: 19px;\n",
       "  }\n",
       "</style>\n",
       "<div class=\"ansiout\">+--------+-----+\n",
       "   team1|count|\n",
       "+--------+-----+\n",
       "    키움|   71|\n",
       "    WEST|    3|\n",
       "    롯데| 1332|\n",
       "    현대|  455|\n",
       "      NC|  515|\n",
       "    넥센|  688|\n",
       "    삼성| 1339|\n",
       "      KT|  389|\n",
       "     KIA| 1328|\n",
       "      SK| 1337|\n",
       "    두산| 1345|\n",
       "      LG| 1320|\n",
       "히어로즈|   67|\n",
       "    한화| 1325|\n",
       "    EAST|    2|\n",
       "    드림|    2|\n",
       "    나눔|    2|\n",
       "    우리|   63|\n",
       "+--------+-----+\n",
       "\n",
       "</div>"
      ]
     },
     "metadata": {},
     "output_type": "display_data"
    }
   ],
   "source": [
    "stadium.groupBy('team1').count().show()"
   ]
  },
  {
   "cell_type": "markdown",
   "metadata": {},
   "source": [
    "## Q1. 팀 개수 한 번에 세고 싶다면?\n",
    "Hint : stadium.select()를 하고 괄호 안에 중복되지 않는 값을 세는 메소드를 넣어줍니다."
   ]
  },
  {
   "cell_type": "code",
   "execution_count": 10,
   "metadata": {},
   "outputs": [
    {
     "data": {
      "text/html": [
       "<style scoped>\n",
       "  .ansiout {\n",
       "    display: block;\n",
       "    unicode-bidi: embed;\n",
       "    white-space: pre-wrap;\n",
       "    word-wrap: break-word;\n",
       "    word-break: break-all;\n",
       "    font-family: \"Source Code Pro\", \"Menlo\", monospace;;\n",
       "    font-size: 13px;\n",
       "    color: #555;\n",
       "    margin-left: 4px;\n",
       "    line-height: 19px;\n",
       "  }\n",
       "</style>\n",
       "<div class=\"ansiout\">+---------------------+\n",
       "count(DISTINCT team1)|\n",
       "+---------------------+\n",
       "                   18|\n",
       "+---------------------+\n",
       "\n",
       "</div>"
      ]
     },
     "metadata": {},
     "output_type": "display_data"
    }
   ],
   "source": []
  },
  {
   "cell_type": "markdown",
   "metadata": {},
   "source": [
    "## Q2. etc에는 무슨 데이터들이 들어가있을까요?"
   ]
  },
  {
   "cell_type": "code",
   "execution_count": 12,
   "metadata": {},
   "outputs": [
    {
     "data": {
      "text/html": [
       "<style scoped>\n",
       "  .ansiout {\n",
       "    display: block;\n",
       "    unicode-bidi: embed;\n",
       "    white-space: pre-wrap;\n",
       "    word-wrap: break-word;\n",
       "    word-break: break-all;\n",
       "    font-family: \"Source Code Pro\", \"Menlo\", monospace;;\n",
       "    font-size: 13px;\n",
       "    color: #555;\n",
       "    margin-left: 4px;\n",
       "    line-height: 19px;\n",
       "  }\n",
       "</style>\n",
       "<div class=\"ansiout\">+------------+-----+\n",
       "         etc|count|\n",
       "+------------+-----+\n",
       "        기타|    3|\n",
       "    우천취소|  546|\n",
       "           -|11028|\n",
       "미세먼지취소|    4|\n",
       "그라운드사정|    2|\n",
       "+------------+-----+\n",
       "\n",
       "</div>"
      ]
     },
     "metadata": {},
     "output_type": "display_data"
    }
   ],
   "source": []
  },
  {
   "cell_type": "markdown",
   "metadata": {},
   "source": [
    "## 각 년도별 총 경기 횟수"
   ]
  },
  {
   "cell_type": "code",
   "execution_count": 14,
   "metadata": {},
   "outputs": [
    {
     "data": {
      "text/html": [
       "<style scoped>\n",
       "  .ansiout {\n",
       "    display: block;\n",
       "    unicode-bidi: embed;\n",
       "    white-space: pre-wrap;\n",
       "    word-wrap: break-word;\n",
       "    word-break: break-all;\n",
       "    font-family: \"Source Code Pro\", \"Menlo\", monospace;;\n",
       "    font-size: 13px;\n",
       "    color: #555;\n",
       "    margin-left: 4px;\n",
       "    line-height: 19px;\n",
       "  }\n",
       "</style>\n",
       "<div class=\"ansiout\">+----+-----+\n",
       "year|count|\n",
       "+----+-----+\n",
       "2019|  715|\n",
       "2018|  762|\n",
       "2017|  761|\n",
       "2016|  784|\n",
       "2015|  802|\n",
       "2014|  637|\n",
       "2013|  635|\n",
       "2012|  606|\n",
       "2011|  610|\n",
       "2010|  595|\n",
       "2009|  532|\n",
       "2008|  504|\n",
       "2007|  504|\n",
       "2006|  504|\n",
       "2005|  504|\n",
       "2004|  532|\n",
       "2003|  532|\n",
       "2002|  532|\n",
       "2001|  532|\n",
       "+----+-----+\n",
       "\n",
       "</div>"
      ]
     },
     "metadata": {},
     "output_type": "display_data"
    }
   ],
   "source": [
    "# asc : 오름차순 / desc : 내림차순\n",
    "stadium.sort(desc('year')).groupBy('year').count().show()"
   ]
  },
  {
   "cell_type": "markdown",
   "metadata": {},
   "source": [
    "## 2019년 시즌 경기 중 각 경기장에서 일어나는 경기의 수\n",
    "\n",
    "잠실은 두산과 LG가 같이 홈으로 사용하여 count가 타 구장에 비해 2배 높을 수밖에 없습니다."
   ]
  },
  {
   "cell_type": "code",
   "execution_count": 16,
   "metadata": {},
   "outputs": [
    {
     "data": {
      "text/html": [
       "<style scoped>\n",
       "  .ansiout {\n",
       "    display: block;\n",
       "    unicode-bidi: embed;\n",
       "    white-space: pre-wrap;\n",
       "    word-wrap: break-word;\n",
       "    word-break: break-all;\n",
       "    font-family: \"Source Code Pro\", \"Menlo\", monospace;;\n",
       "    font-size: 13px;\n",
       "    color: #555;\n",
       "    margin-left: 4px;\n",
       "    line-height: 19px;\n",
       "  }\n",
       "</style>\n",
       "<div class=\"ansiout\">+-------+-----+\n",
       "stadium|count|\n",
       "+-------+-----+\n",
       "   고척|   72|\n",
       "   광주|   71|\n",
       "   대구|   72|\n",
       "   대전|   72|\n",
       "   문학|   71|\n",
       "   사직|   71|\n",
       "   수원|   72|\n",
       "   잠실|  143|\n",
       "   창원|   71|\n",
       "+-------+-----+\n",
       "\n",
       "</div>"
      ]
     },
     "metadata": {},
     "output_type": "display_data"
    }
   ],
   "source": [
    "stadium.where(stadium['year'] == 2019).sort(asc('stadium')).groupBy('stadium').count().show()"
   ]
  },
  {
   "cell_type": "markdown",
   "metadata": {},
   "source": [
    "## 특정 팀이 참여한 경기만 뽑아보기\n",
    "\n",
    "각자 원하시는 팀 이름을 넣어주세용"
   ]
  },
  {
   "cell_type": "code",
   "execution_count": 18,
   "metadata": {},
   "outputs": [
    {
     "data": {
      "text/html": [
       "<style scoped>\n",
       "  .ansiout {\n",
       "    display: block;\n",
       "    unicode-bidi: embed;\n",
       "    white-space: pre-wrap;\n",
       "    word-wrap: break-word;\n",
       "    word-break: break-all;\n",
       "    font-family: \"Source Code Pro\", \"Menlo\", monospace;;\n",
       "    font-size: 13px;\n",
       "    color: #555;\n",
       "    margin-left: 4px;\n",
       "    line-height: 19px;\n",
       "  }\n",
       "</style>\n",
       "<div class=\"ansiout\"></div>"
      ]
     },
     "metadata": {},
     "output_type": "display_data"
    }
   ],
   "source": [
    "team = stadium.filter(\"teams like '%두산%'\")"
   ]
  },
  {
   "cell_type": "code",
   "execution_count": 19,
   "metadata": {},
   "outputs": [
    {
     "data": {
      "text/html": [
       "<style scoped>\n",
       "  .ansiout {\n",
       "    display: block;\n",
       "    unicode-bidi: embed;\n",
       "    white-space: pre-wrap;\n",
       "    word-wrap: break-word;\n",
       "    word-break: break-all;\n",
       "    font-family: \"Source Code Pro\", \"Menlo\", monospace;;\n",
       "    font-size: 13px;\n",
       "    color: #555;\n",
       "    margin-left: 4px;\n",
       "    line-height: 19px;\n",
       "  }\n",
       "</style>\n",
       "<div class=\"ansiout\">+-----+-----+-------+---+----+-----------+----+---------+\n",
       "team1|team2|stadium|etc|year|day_of_week|date|    teams|\n",
       "+-----+-----+-------+---+----+-----------+----+---------+\n",
       " 한화| 두산|   잠실|  -|2019|         토|3.23|한화 두산|\n",
       " 한화| 두산|   잠실|  -|2019|         일|3.24|한화 두산|\n",
       " 키움| 두산|   잠실|  -|2019|         화|3.26|키움 두산|\n",
       " 키움| 두산|   잠실|  -|2019|         수|3.27|키움 두산|\n",
       " 키움| 두산|   잠실|  -|2019|         목|3.28|키움 두산|\n",
       " 두산| 삼성|   대구|  -|2019|         금|3.29|두산 삼성|\n",
       " 두산| 삼성|   대구|  -|2019|         토| 3.3|두산 삼성|\n",
       " 두산| 삼성|   대구|  -|2019|         일|3.31|두산 삼성|\n",
       "   KT| 두산|   잠실|  -|2019|         화|4.02|  KT 두산|\n",
       "   KT| 두산|   잠실|  -|2019|         수|4.03|  KT 두산|\n",
       "   KT| 두산|   잠실|  -|2019|         목|4.04|  KT 두산|\n",
       "   NC| 두산|   잠실|  -|2019|         금|4.05|  NC 두산|\n",
       "   NC| 두산|   잠실|  -|2019|         토|4.06|  NC 두산|\n",
       "   NC| 두산|   잠실|  -|2019|         일|4.07|  NC 두산|\n",
       " 두산| 롯데|   사직|  -|2019|         화|4.09|두산 롯데|\n",
       " 두산| 롯데|   사직|  -|2019|         수| 4.1|두산 롯데|\n",
       " 두산| 롯데|   사직|  -|2019|         목|4.11|두산 롯데|\n",
       " 두산|   LG|   잠실|  -|2019|         금|4.12|  두산 LG|\n",
       " 두산|   LG|   잠실|  -|2019|         토|4.13|  두산 LG|\n",
       " 두산|   LG|   잠실|  -|2019|         일|4.14|  두산 LG|\n",
       "+-----+-----+-------+---+----+-----------+----+---------+\n",
       "only showing top 20 rows\n",
       "\n",
       "</div>"
      ]
     },
     "metadata": {},
     "output_type": "display_data"
    }
   ],
   "source": [
    "team.show()"
   ]
  },
  {
   "cell_type": "markdown",
   "metadata": {},
   "source": [
    "## Q3. 그 팀이 2018년에 각각 어느 경기장에서 몇 번을 경기했을까요? (내림차순 정렬)\n",
    "2018년 총 경기 횟수 144회\n",
    "\n",
    "한 시즌에 A 팀이 B 팀과 경기하는 횟수는 보통 16회\n",
    "\n",
    "따라서 홈 구장을 제외하고 타 구장에선 보통 8번 정도 경기를 하게 되고, 나머지는 모두 홈 구장에서 경기가 이루어집니다."
   ]
  },
  {
   "cell_type": "code",
   "execution_count": 21,
   "metadata": {},
   "outputs": [
    {
     "data": {
      "text/html": [
       "<style scoped>\n",
       "  .ansiout {\n",
       "    display: block;\n",
       "    unicode-bidi: embed;\n",
       "    white-space: pre-wrap;\n",
       "    word-wrap: break-word;\n",
       "    word-break: break-all;\n",
       "    font-family: \"Source Code Pro\", \"Menlo\", monospace;;\n",
       "    font-size: 13px;\n",
       "    color: #555;\n",
       "    margin-left: 4px;\n",
       "    line-height: 19px;\n",
       "  }\n",
       "</style>\n",
       "<div class=\"ansiout\">+-------+-----+\n",
       "stadium|count|\n",
       "+-------+-----+\n",
       "   잠실|   87|\n",
       "   사직|   10|\n",
       "   대전|    8|\n",
       "   수원|    8|\n",
       "   문학|    8|\n",
       "   대구|    8|\n",
       "   마산|    8|\n",
       "   고척|    8|\n",
       "   광주|    8|\n",
       "+-------+-----+\n",
       "\n",
       "</div>"
      ]
     },
     "metadata": {},
     "output_type": "display_data"
    }
   ],
   "source": []
  },
  {
   "cell_type": "markdown",
   "metadata": {},
   "source": [
    "## Q4. 미세먼지취소였던 날의 경기를 뽑아주세요"
   ]
  },
  {
   "cell_type": "code",
   "execution_count": 23,
   "metadata": {},
   "outputs": [
    {
     "data": {
      "text/html": [
       "<style scoped>\n",
       "  .ansiout {\n",
       "    display: block;\n",
       "    unicode-bidi: embed;\n",
       "    white-space: pre-wrap;\n",
       "    word-wrap: break-word;\n",
       "    word-break: break-all;\n",
       "    font-family: \"Source Code Pro\", \"Menlo\", monospace;;\n",
       "    font-size: 13px;\n",
       "    color: #555;\n",
       "    margin-left: 4px;\n",
       "    line-height: 19px;\n",
       "  }\n",
       "</style>\n",
       "<div class=\"ansiout\">+-----+-----+-------+------------+----+-----------+----+--------+\n",
       "team1|team2|stadium|         etc|year|day_of_week|date|   teams|\n",
       "+-----+-----+-------+------------+----+-----------+----+--------+\n",
       "   NC| 두산|   잠실|미세먼지취소|2018|         금|4.06| NC 두산|\n",
       " 삼성|   SK|   문학|미세먼지취소|2018|         금|4.06| 삼성 SK|\n",
       " 한화|   KT|   수원|미세먼지취소|2018|         금|4.06| 한화 KT|\n",
       " 롯데|  KIA|   광주|미세먼지취소|2018|         일|4.15|롯데 KIA|\n",
       "+-----+-----+-------+------------+----+-----------+----+--------+\n",
       "\n",
       "</div>"
      ]
     },
     "metadata": {},
     "output_type": "display_data"
    }
   ],
   "source": []
  },
  {
   "cell_type": "code",
   "execution_count": 24,
   "metadata": {
    "collapsed": true
   },
   "outputs": [],
   "source": []
  }
 ],
 "metadata": {
  "kernelspec": {
   "display_name": "Python 3",
   "language": "python",
   "name": "python3"
  },
  "language_info": {
   "codemirror_mode": {
    "name": "ipython",
    "version": 3
   },
   "file_extension": ".py",
   "mimetype": "text/x-python",
   "name": "python",
   "nbconvert_exporter": "python",
   "pygments_lexer": "ipython3",
   "version": "3.6.1"
  },
  "name": "190323_SparkSQL실습",
  "notebookId": 3881224680899638
 },
 "nbformat": 4,
 "nbformat_minor": 1
}
