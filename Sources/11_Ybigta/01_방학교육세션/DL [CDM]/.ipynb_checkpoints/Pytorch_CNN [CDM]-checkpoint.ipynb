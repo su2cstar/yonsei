{
 "cells": [
  {
   "cell_type": "markdown",
   "metadata": {
    "colab_type": "text",
    "id": "i_py-EPN430Z"
   },
   "source": [
    "# 1. GPU 설정"
   ]
  },
  {
   "cell_type": "markdown",
   "metadata": {
    "colab_type": "text",
    "id": "5lrqDW6g5AYv"
   },
   "source": [
    "- Google Colaboratory에서 딥러닝 학습을 진행하실 때에는 반드시 GPU 설정이 제대로 되어있는지 확인해야 합니다.\n",
    "- 위의 메뉴에서 '런타임 - 런타임 유형 변경 - 하드웨어 가속기'에서 GPU를 선택해줍니다."
   ]
  },
  {
   "cell_type": "markdown",
   "metadata": {
    "colab_type": "text",
    "id": "vhS7RRNY5O0i"
   },
   "source": [
    "# 2. Pytorch 설치"
   ]
  },
  {
   "cell_type": "markdown",
   "metadata": {
    "colab_type": "text",
    "id": "E_lbAsdn5izz"
   },
   "source": [
    "- Google Colaboratory에서 최근 들어 Pytorch도 기본적으로 제공을 하기 시작해서 이 과정은 생략해도 됩니다. \n",
    "- 런타임 최초 연결시 PIL(Python Image Library)에서 오류가 발생할 수 있으니, 오류가 발생한 경우 런타임을 다시 연결해주면 해결됩니다."
   ]
  },
  {
   "cell_type": "code",
   "execution_count": 1,
   "metadata": {
    "colab": {},
    "colab_type": "code",
    "id": "6YTQSs2A5Til"
   },
   "outputs": [
    {
     "name": "stdout",
     "output_type": "stream",
     "text": [
      "Collecting torch\n",
      "  Downloading https://files.pythonhosted.org/packages/5f/e9/bac4204fe9cb1a002ec6140b47f51affda1655379fe302a1caef421f9846/torch-0.1.2.post1.tar.gz\n",
      "    Complete output from command python setup.py egg_info:\n",
      "    Traceback (most recent call last):\n",
      "      File \"<string>\", line 1, in <module>\n",
      "      File \"C:\\Users\\ahn92\\AppData\\Local\\Temp\\pip-install-rqqpodfw\\torch\\setup.py\", line 11, in <module>\n",
      "        raise RuntimeError(README)\n",
      "    RuntimeError: PyTorch does not currently provide packages for PyPI (see status at https://github.com/pytorch/pytorch/issues/566).\n",
      "    \n",
      "    Please follow the instructions at http://pytorch.org/ to install with miniconda instead.\n",
      "    \n",
      "    \n",
      "    ----------------------------------------\n"
     ]
    },
    {
     "name": "stderr",
     "output_type": "stream",
     "text": [
      "Command \"python setup.py egg_info\" failed with error code 1 in C:\\Users\\ahn92\\AppData\\Local\\Temp\\pip-install-rqqpodfw\\torch\\\n",
      "You are using pip version 18.1, however version 19.0.2 is available.\n",
      "You should consider upgrading via the 'python -m pip install --upgrade pip' command.\n"
     ]
    },
    {
     "name": "stdout",
     "output_type": "stream",
     "text": [
      "Collecting torchvision\n",
      "  Downloading https://files.pythonhosted.org/packages/ca/0d/f00b2885711e08bd71242ebe7b96561e6f6d01fdb4b9dcf4d37e2e13c5e1/torchvision-0.2.1-py2.py3-none-any.whl (54kB)\n",
      "Requirement already satisfied: numpy in c:\\users\\ahn92\\anaconda3\\lib\\site-packages (from torchvision) (1.14.3)\n",
      "Collecting torch (from torchvision)\n",
      "  Using cached https://files.pythonhosted.org/packages/5f/e9/bac4204fe9cb1a002ec6140b47f51affda1655379fe302a1caef421f9846/torch-0.1.2.post1.tar.gz\n",
      "    Complete output from command python setup.py egg_info:\n",
      "    Traceback (most recent call last):\n",
      "      File \"<string>\", line 1, in <module>\n",
      "      File \"C:\\Users\\ahn92\\AppData\\Local\\Temp\\pip-install-xhi55cln\\torch\\setup.py\", line 11, in <module>\n",
      "        raise RuntimeError(README)\n",
      "    RuntimeError: PyTorch does not currently provide packages for PyPI (see status at https://github.com/pytorch/pytorch/issues/566).\n",
      "    \n",
      "    Please follow the instructions at http://pytorch.org/ to install with miniconda instead.\n",
      "    \n",
      "    \n",
      "    ----------------------------------------\n"
     ]
    },
    {
     "name": "stderr",
     "output_type": "stream",
     "text": [
      "Command \"python setup.py egg_info\" failed with error code 1 in C:\\Users\\ahn92\\AppData\\Local\\Temp\\pip-install-xhi55cln\\torch\\\n",
      "You are using pip version 18.1, however version 19.0.2 is available.\n",
      "You should consider upgrading via the 'python -m pip install --upgrade pip' command.\n"
     ]
    }
   ],
   "source": [
    "!pip install torch\n",
    "!pip install torchvision"
   ]
  },
  {
   "cell_type": "markdown",
   "metadata": {
    "colab_type": "text",
    "id": "rsHs6did5VZi"
   },
   "source": [
    "# 3. Import"
   ]
  },
  {
   "cell_type": "code",
   "execution_count": 0,
   "metadata": {
    "colab": {},
    "colab_type": "code",
    "id": "sclFIcTm55bO"
   },
   "outputs": [],
   "source": [
    "import torch\n",
    "import torch.nn as nn\n",
    "import torchvision\n",
    "import torchvision.transforms as transforms\n",
    "import torchvision.models as models\n",
    "import torch.optim as optim\n",
    "import torch.nn.functional as F\n",
    "\n",
    "import matplotlib.pyplot as plt\n",
    "import numpy as np"
   ]
  },
  {
   "cell_type": "markdown",
   "metadata": {
    "colab_type": "text",
    "id": "4-uFlFZm566C"
   },
   "source": [
    "# 4. Data Loader"
   ]
  },
  {
   "cell_type": "markdown",
   "metadata": {
    "colab_type": "text",
    "id": "W0m8SEno6CBD"
   },
   "source": [
    "- Pytorch의 데이터 로더는 크게 __'Dataset'__과 __'Data Loader'__로 구분되어 있습니다.\n",
    "- 1) __Dataset__ : 학습에 사용한 데이터셋 전체를 의미합니다. <br>  &nbsp; &nbsp; &nbsp; &nbsp; &nbsp; &nbsp; &nbsp; &nbsp; &nbsp; &nbsp; &nbsp; Dataset의 파라미터 중 하나인 __transform__을 통해 전체 데이터에 일괄적으로 변형을 줄 수 있습니다.\n",
    "<br> \n",
    "- 2) __Data Loader__ : Dataset에서 데이터를 읽어와 모델에 입력으로 제공해주는역할을 합니다. "
   ]
  },
  {
   "cell_type": "markdown",
   "metadata": {
    "colab_type": "text",
    "id": "3aMVPAKr6BJw"
   },
   "source": [
    "이번 실습에는 __CIFAR 10__이라는 데이터를 사용하도록 하겠습니다.\n",
    "<br>CIFAR 10은 Pytorch에서 기본적으로 제공하는 데이터셋이기 때문에 별도로 데이터를 다운로드 해줄 필요가 없습니다."
   ]
  },
  {
   "cell_type": "markdown",
   "metadata": {
    "colab_type": "text",
    "id": "j84SI3OQ6h_u"
   },
   "source": [
    "![CIFAR_10](http://solarisailab.com/wp-content/uploads/2017/06/cifar-10_labels.png)"
   ]
  },
  {
   "cell_type": "code",
   "execution_count": 0,
   "metadata": {
    "colab": {},
    "colab_type": "code",
    "id": "GbbC0Esj6_6f"
   },
   "outputs": [],
   "source": [
    "# Transform\n",
    "\n",
    "transform = transforms.Compose([transforms.ToTensor(),\n",
    "                                transforms.Normalize((0.5, 0.5, 0.5), (0.5, 0.5, 0.5))])"
   ]
  },
  {
   "cell_type": "markdown",
   "metadata": {
    "colab_type": "text",
    "id": "oipZuB7d75A8"
   },
   "source": [
    "### 1) Train"
   ]
  },
  {
   "cell_type": "code",
   "execution_count": 0,
   "metadata": {
    "colab": {},
    "colab_type": "code",
    "id": "frG28jNN6r8j"
   },
   "outputs": [],
   "source": [
    "# Train Dataset 선언\n",
    "\n",
    "trainset = torchvision.datasets.CIFAR10(root='./data', train=True, download=True, transform=transform)"
   ]
  },
  {
   "cell_type": "code",
   "execution_count": 0,
   "metadata": {
    "colab": {},
    "colab_type": "code",
    "id": "hcpJwq_x697F"
   },
   "outputs": [],
   "source": [
    "# Train Data Loader 선언\n",
    "\n",
    "trainloader = torch.utils.data.DataLoader(trainset, batch_size=4, shuffle=True, num_workers=2)"
   ]
  },
  {
   "cell_type": "markdown",
   "metadata": {
    "colab_type": "text",
    "id": "EqNTGvEl70rS"
   },
   "source": [
    "### 2) Test"
   ]
  },
  {
   "cell_type": "code",
   "execution_count": 6,
   "metadata": {
    "colab": {
     "base_uri": "https://localhost:8080/",
     "height": 35
    },
    "colab_type": "code",
    "executionInfo": {
     "elapsed": 10223,
     "status": "ok",
     "timestamp": 1550131290916,
     "user": {
      "displayName": "Dongmin Choi",
      "photoUrl": "",
      "userId": "09977954582062536659"
     },
     "user_tz": -540
    },
    "id": "kc7s_c8Q7-N3",
    "outputId": "62796dfc-d46f-4e88-e394-bae57a7edad0"
   },
   "outputs": [
    {
     "name": "stdout",
     "output_type": "stream",
     "text": [
      "Files already downloaded and verified\n"
     ]
    }
   ],
   "source": [
    "# Test Dataset 선언 (Train과 동일한 transform 사용)\n",
    "\n",
    "testset = torchvision.datasets.CIFAR10(root='./data', train=False, download=True, transform=transform)"
   ]
  },
  {
   "cell_type": "code",
   "execution_count": 0,
   "metadata": {
    "colab": {},
    "colab_type": "code",
    "id": "-VemHcp98EEe"
   },
   "outputs": [],
   "source": [
    "# Test Data Loader 선언\n",
    "\n",
    "testloader = torch.utils.data.DataLoader(testset, batch_size=4, shuffle=False, num_workers=2)"
   ]
  },
  {
   "cell_type": "markdown",
   "metadata": {
    "colab_type": "text",
    "id": "urfiS8Cm8GNR"
   },
   "source": [
    "### 3) CIFAR 10의 클래스"
   ]
  },
  {
   "cell_type": "code",
   "execution_count": 0,
   "metadata": {
    "colab": {},
    "colab_type": "code",
    "id": "S5lAQiTr8M6A"
   },
   "outputs": [],
   "source": [
    "classes = ('plane', 'car', 'bird', 'cat', 'deer', 'dog', 'frog', 'horse', 'ship', 'truck')"
   ]
  },
  {
   "cell_type": "markdown",
   "metadata": {
    "colab_type": "text",
    "id": "nWBmejLP8NwC"
   },
   "source": [
    "# 5. 모델 (네트워크)"
   ]
  },
  {
   "cell_type": "markdown",
   "metadata": {
    "colab_type": "text",
    "id": "oqkLTIw88YAr"
   },
   "source": [
    "- 이번 실습에는 Classification 모델 중 하나인 __'Resnet18'__을 사용하도록 하겠습니다.\n",
    "- 마찬가지로 Pytorch는 많은 딥러닝 모델도 기본적으로 제공하기 때문에 코드 한 줄로 편리하게 모델을 불러올 수 있습니다."
   ]
  },
  {
   "cell_type": "code",
   "execution_count": 0,
   "metadata": {
    "colab": {},
    "colab_type": "code",
    "id": "HjESIU3m8U2R"
   },
   "outputs": [],
   "source": [
    "# CNN 모델 선언\n",
    "\n",
    "class Net(nn.Module):\n",
    "    def __init__(self):\n",
    "        super(Net, self).__init__()\n",
    "        self.conv1 = nn.Conv2d(3, 6, 5)\n",
    "        self.pool = nn.MaxPool2d(2, 2)\n",
    "        self.conv2 = nn.Conv2d(6, 16, 5)\n",
    "        self.fc1 = nn.Linear(16 * 5 * 5, 120)\n",
    "        self.fc2 = nn.Linear(120, 84)\n",
    "        self.fc3 = nn.Linear(84, 10)\n",
    "\n",
    "    def forward(self, x):\n",
    "        x = self.pool(F.relu(self.conv1(x)))\n",
    "        x = self.pool(F.relu(self.conv2(x)))\n",
    "        x = x.view(-1, 16 * 5 * 5)\n",
    "        x = F.relu(self.fc1(x))\n",
    "        x = F.relu(self.fc2(x))\n",
    "        x = self.fc3(x)\n",
    "        return x"
   ]
  },
  {
   "cell_type": "code",
   "execution_count": 0,
   "metadata": {
    "colab": {},
    "colab_type": "code",
    "id": "inHKe-_XAxSm"
   },
   "outputs": [],
   "source": [
    "model = Net()"
   ]
  },
  {
   "cell_type": "markdown",
   "metadata": {
    "colab_type": "text",
    "id": "Uw5sDItg8lji"
   },
   "source": [
    "# 6. 손실함수(Loss function)과 Optimizer"
   ]
  },
  {
   "cell_type": "markdown",
   "metadata": {
    "colab_type": "text",
    "id": "SvtvaDyY8wzx"
   },
   "source": [
    "- Multi-label Classification에서 가장 흔히 사용하는 loss 중 하나인 __'Cross Entropy Loss'__를 사용하도록 하겠습니다.\n",
    "- 그리고 Optimizer는 주로 __'Adam'__과 __'SGD (Stochastic Gradient Descent)'__가 사용되고 이번 실습에는 __SGD__를 사용하겠습니다."
   ]
  },
  {
   "cell_type": "code",
   "execution_count": 0,
   "metadata": {
    "colab": {},
    "colab_type": "code",
    "id": "SRB_7RZJ8vXo"
   },
   "outputs": [],
   "source": [
    "# Loss function 선언\n",
    "\n",
    "criterion = nn.CrossEntropyLoss()"
   ]
  },
  {
   "cell_type": "code",
   "execution_count": 0,
   "metadata": {
    "colab": {},
    "colab_type": "code",
    "id": "LUIFZvKb9GxL"
   },
   "outputs": [],
   "source": [
    "# Optimizer SGD 선언\n",
    "\n",
    "optimizer = optim.SGD(model.parameters(), lr=0.001, momentum=0.9)"
   ]
  },
  {
   "cell_type": "markdown",
   "metadata": {
    "colab_type": "text",
    "id": "Wore5ipG9L8d"
   },
   "source": [
    "# 7. GPU in Pytorch"
   ]
  },
  {
   "cell_type": "markdown",
   "metadata": {
    "colab_type": "text",
    "id": "MOrpSfyu9QSQ"
   },
   "source": [
    "- Pytorch에서 GPU를 사용하려면 __모델과 데이터를 GPU 설정(Cuda)으로 바꿔주어야 합니다.__"
   ]
  },
  {
   "cell_type": "code",
   "execution_count": 13,
   "metadata": {
    "colab": {
     "base_uri": "https://localhost:8080/",
     "height": 35
    },
    "colab_type": "code",
    "executionInfo": {
     "elapsed": 10205,
     "status": "ok",
     "timestamp": 1550131290923,
     "user": {
      "displayName": "Dongmin Choi",
      "photoUrl": "",
      "userId": "09977954582062536659"
     },
     "user_tz": -540
    },
    "id": "nuSr5oiH9eda",
    "outputId": "0e938f0a-e470-4319-fea6-96111fd180ab"
   },
   "outputs": [
    {
     "name": "stdout",
     "output_type": "stream",
     "text": [
      "True\n"
     ]
    }
   ],
   "source": [
    "# GPU 사용이 가능한 환경인지 확인\n",
    "\n",
    "print(torch.cuda.is_available())"
   ]
  },
  {
   "cell_type": "code",
   "execution_count": 14,
   "metadata": {
    "colab": {
     "base_uri": "https://localhost:8080/",
     "height": 35
    },
    "colab_type": "code",
    "executionInfo": {
     "elapsed": 10200,
     "status": "ok",
     "timestamp": 1550131290923,
     "user": {
      "displayName": "Dongmin Choi",
      "photoUrl": "",
      "userId": "09977954582062536659"
     },
     "user_tz": -540
    },
    "id": "ULomI2zR9m-m",
    "outputId": "5db28d16-8913-4f5b-cda9-603989b8a200"
   },
   "outputs": [
    {
     "name": "stdout",
     "output_type": "stream",
     "text": [
      "cuda\n"
     ]
    }
   ],
   "source": [
    "# GPU 사용 가능 여부를 바탕으로 'GPU(cuda)'와 'CPU' 중 어떤 것을 바탕으로 학습을 할지 설정\n",
    "\n",
    "device = torch.device('cuda' if torch.cuda.is_available() else 'cpu')\n",
    "print(device)"
   ]
  },
  {
   "cell_type": "code",
   "execution_count": 0,
   "metadata": {
    "colab": {},
    "colab_type": "code",
    "id": "nEyHATF4916d"
   },
   "outputs": [],
   "source": [
    "# 모델 GPU 설정\n",
    "\n",
    "model.to(device)"
   ]
  },
  {
   "cell_type": "markdown",
   "metadata": {
    "colab_type": "text",
    "id": "zxgm3xCi-B-h"
   },
   "source": [
    "# 8. 학습"
   ]
  },
  {
   "cell_type": "markdown",
   "metadata": {
    "colab_type": "text",
    "id": "us6XTuDY-spg"
   },
   "source": [
    "![Term](https://image.slidesharecdn.com/random-171120113837/95/-43-638.jpg?cb=1511177981)\n",
    "<br>※ https://www.slideshare.net/w0ong/ss-82372826"
   ]
  },
  {
   "cell_type": "markdown",
   "metadata": {
    "colab_type": "text",
    "id": "udKSX8wP-H6E"
   },
   "source": [
    "- __Epoch__ : 전체 데이터셋을 학습하는 횟수\n",
    "- __Batch Size__ : 데이터셋을 쪼갠 크기\n",
    "- __Iteration (= Step)__ : Batch size 단위로 학습한 횟수"
   ]
  },
  {
   "cell_type": "code",
   "execution_count": 0,
   "metadata": {
    "colab": {},
    "colab_type": "code",
    "id": "s_dBx6D4-mvx"
   },
   "outputs": [],
   "source": [
    "# 전체 데이터셋을 몇 번 학습할 지 설정\n",
    "\n",
    "epochs = 2"
   ]
  },
  {
   "cell_type": "code",
   "execution_count": 0,
   "metadata": {
    "colab": {},
    "colab_type": "code",
    "id": "8hCxoRTI_BFJ"
   },
   "outputs": [],
   "source": [
    "# 학습 진행\n",
    "\n",
    "for epoch in range(epochs):\n",
    "    print('\\n===> Epoch [%d/%d]' % (epoch+1, epochs))\n",
    "    \n",
    "    running_loss = 0.0\n",
    "\n",
    "    for i, data in enumerate(trainloader, 0):\n",
    "      \n",
    "        # Data Load\n",
    "        inputs, labels = data\n",
    "        inputs, labels = inputs.to(device), labels.to(device)\n",
    "        \n",
    "        # Zero the parameter gradients\n",
    "        optimizer.zero_grad()\n",
    "\n",
    "        # Forward\n",
    "        outputs = model(inputs)\n",
    "        loss = criterion(outputs, labels)\n",
    "        \n",
    "        # Backward\n",
    "        loss.backward()\n",
    "        \n",
    "        # Optimization\n",
    "        optimizer.step()\n",
    "\n",
    "        # Print statistics\n",
    "        running_loss += loss.item()\n",
    "        \n",
    "        if i % 2000 == 1999:    # Print every 2000 mini-batches\n",
    "            print('      - Iteration [%5d / %5d] --- Loss: %.3f' %\n",
    "                  (i+1, len(trainloader), running_loss / 2000))\n",
    "            running_loss = 0.0"
   ]
  },
  {
   "cell_type": "markdown",
   "metadata": {
    "colab_type": "text",
    "id": "gJtcVLGO_c0l"
   },
   "source": [
    "# 9. Test"
   ]
  },
  {
   "cell_type": "code",
   "execution_count": 0,
   "metadata": {
    "colab": {},
    "colab_type": "code",
    "id": "DmXBXpy8CKeu"
   },
   "outputs": [],
   "source": [
    "class_correct = list(0. for i in range(10))\n",
    "class_total = list(0. for i in range(10))\n",
    "\n",
    "\n",
    "with torch.no_grad(): # Freeze model\n",
    "  \n",
    "    for data in testloader:\n",
    "        \n",
    "        # Data Load\n",
    "        images, labels = data\n",
    "        images, labels = images.to(device), labels.to(device)\n",
    "        \n",
    "        # Predict\n",
    "        outputs = model(images)\n",
    "        _, predicted = torch.max(outputs, 1)\n",
    "        \n",
    "        # Calculuate\n",
    "        c = (predicted == labels).squeeze()\n",
    "        for i in range(4):\n",
    "            label = labels[i]\n",
    "            class_correct[label] += c[i].item()\n",
    "            class_total[label] += 1\n",
    "\n",
    "for i in range(10):\n",
    "    print('Accuracy of %5s : %2d %%' % (classes[i], 100 * class_correct[i] / class_total[i]))"
   ]
  }
 ],
 "metadata": {
  "accelerator": "GPU",
  "colab": {
   "collapsed_sections": [],
   "name": "Pytorch_CNN [CDM].ipynb",
   "provenance": [],
   "version": "0.3.2"
  },
  "kernelspec": {
   "display_name": "Python 3",
   "language": "python",
   "name": "python3"
  },
  "language_info": {
   "codemirror_mode": {
    "name": "ipython",
    "version": 3
   },
   "file_extension": ".py",
   "mimetype": "text/x-python",
   "name": "python",
   "nbconvert_exporter": "python",
   "pygments_lexer": "ipython3",
   "version": "3.6.5"
  }
 },
 "nbformat": 4,
 "nbformat_minor": 1
}
