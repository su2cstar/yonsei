{
 "cells": [
  {
   "cell_type": "markdown",
   "metadata": {},
   "source": [
    "# Decision Tree 실습_190131\n",
    "-----\n",
    "based on ISLR Lab"
   ]
  },
  {
   "cell_type": "markdown",
   "metadata": {},
   "source": [
    "### Decision Tree\n",
    "* 강력한 분류기: training accuracy 를 100%로 만들 수 있다.\n",
    "* Overfitting: Tree 가 충분히 커지면 Training Accuracy 는 100% => test set에서의 낮은 예측력\n",
    "* Overfitting 의 방지: Tree 가 커지지 못하도록 잘라낸다. ==> prunning\n",
    "* 계층적 분류기: 먼저 수행된 split 에서 data 가 잘못 split 되면 그 밑으로 error 가 전파되는 특징!"
   ]
  },
  {
   "cell_type": "markdown",
   "metadata": {},
   "source": [
    "<img src = 'DecisionTree.png'>"
   ]
  },
  {
   "cell_type": "code",
   "execution_count": 1,
   "metadata": {
    "collapsed": true
   },
   "outputs": [],
   "source": [
    "# 시각화 및 분석에 쓸 라이브러리 불러오기\n",
    "import pandas as pd\n",
    "import numpy as np\n",
    "\n",
    "import matplotlib.pyplot as plt\n",
    "import seaborn as sns\n",
    "%matplotlib inline\n",
    "\n",
    "# 행과 열 세팅\n",
    "pd.set_option(\"max_rows\",999)\n",
    "pd.set_option(\"max_columns\",999)\n",
    "plt.style.use('seaborn')"
   ]
  },
  {
   "cell_type": "markdown",
   "metadata": {},
   "source": [
    "## 1. Classification Trees"
   ]
  },
  {
   "cell_type": "code",
   "execution_count": 2,
   "metadata": {
    "collapsed": true
   },
   "outputs": [],
   "source": [
    "# Carseats.csv 불러오기\n",
    "carseats = pd.read_csv('Carseats.csv')"
   ]
  },
  {
   "cell_type": "code",
   "execution_count": 3,
   "metadata": {},
   "outputs": [
    {
     "data": {
      "text/html": [
       "<div>\n",
       "<style scoped>\n",
       "    .dataframe tbody tr th:only-of-type {\n",
       "        vertical-align: middle;\n",
       "    }\n",
       "\n",
       "    .dataframe tbody tr th {\n",
       "        vertical-align: top;\n",
       "    }\n",
       "\n",
       "    .dataframe thead th {\n",
       "        text-align: right;\n",
       "    }\n",
       "</style>\n",
       "<table border=\"1\" class=\"dataframe\">\n",
       "  <thead>\n",
       "    <tr style=\"text-align: right;\">\n",
       "      <th></th>\n",
       "      <th>Sales</th>\n",
       "      <th>CompPrice</th>\n",
       "      <th>Income</th>\n",
       "      <th>Advertising</th>\n",
       "      <th>Population</th>\n",
       "      <th>Price</th>\n",
       "      <th>ShelveLoc</th>\n",
       "      <th>Age</th>\n",
       "      <th>Education</th>\n",
       "      <th>Urban</th>\n",
       "      <th>US</th>\n",
       "    </tr>\n",
       "  </thead>\n",
       "  <tbody>\n",
       "    <tr>\n",
       "      <th>0</th>\n",
       "      <td>9.50</td>\n",
       "      <td>138</td>\n",
       "      <td>73</td>\n",
       "      <td>11</td>\n",
       "      <td>276</td>\n",
       "      <td>120</td>\n",
       "      <td>Bad</td>\n",
       "      <td>42</td>\n",
       "      <td>17</td>\n",
       "      <td>Yes</td>\n",
       "      <td>Yes</td>\n",
       "    </tr>\n",
       "    <tr>\n",
       "      <th>1</th>\n",
       "      <td>11.22</td>\n",
       "      <td>111</td>\n",
       "      <td>48</td>\n",
       "      <td>16</td>\n",
       "      <td>260</td>\n",
       "      <td>83</td>\n",
       "      <td>Good</td>\n",
       "      <td>65</td>\n",
       "      <td>10</td>\n",
       "      <td>Yes</td>\n",
       "      <td>Yes</td>\n",
       "    </tr>\n",
       "    <tr>\n",
       "      <th>2</th>\n",
       "      <td>10.06</td>\n",
       "      <td>113</td>\n",
       "      <td>35</td>\n",
       "      <td>10</td>\n",
       "      <td>269</td>\n",
       "      <td>80</td>\n",
       "      <td>Medium</td>\n",
       "      <td>59</td>\n",
       "      <td>12</td>\n",
       "      <td>Yes</td>\n",
       "      <td>Yes</td>\n",
       "    </tr>\n",
       "    <tr>\n",
       "      <th>3</th>\n",
       "      <td>7.40</td>\n",
       "      <td>117</td>\n",
       "      <td>100</td>\n",
       "      <td>4</td>\n",
       "      <td>466</td>\n",
       "      <td>97</td>\n",
       "      <td>Medium</td>\n",
       "      <td>55</td>\n",
       "      <td>14</td>\n",
       "      <td>Yes</td>\n",
       "      <td>Yes</td>\n",
       "    </tr>\n",
       "    <tr>\n",
       "      <th>4</th>\n",
       "      <td>4.15</td>\n",
       "      <td>141</td>\n",
       "      <td>64</td>\n",
       "      <td>3</td>\n",
       "      <td>340</td>\n",
       "      <td>128</td>\n",
       "      <td>Bad</td>\n",
       "      <td>38</td>\n",
       "      <td>13</td>\n",
       "      <td>Yes</td>\n",
       "      <td>No</td>\n",
       "    </tr>\n",
       "  </tbody>\n",
       "</table>\n",
       "</div>"
      ],
      "text/plain": [
       "   Sales  CompPrice  Income  Advertising  Population  Price ShelveLoc  Age  \\\n",
       "0   9.50        138      73           11         276    120       Bad   42   \n",
       "1  11.22        111      48           16         260     83      Good   65   \n",
       "2  10.06        113      35           10         269     80    Medium   59   \n",
       "3   7.40        117     100            4         466     97    Medium   55   \n",
       "4   4.15        141      64            3         340    128       Bad   38   \n",
       "\n",
       "   Education Urban   US  \n",
       "0         17   Yes  Yes  \n",
       "1         10   Yes  Yes  \n",
       "2         12   Yes  Yes  \n",
       "3         14   Yes  Yes  \n",
       "4         13   Yes   No  "
      ]
     },
     "execution_count": 3,
     "metadata": {},
     "output_type": "execute_result"
    }
   ],
   "source": [
    "carseats.head()"
   ]
  },
  {
   "cell_type": "markdown",
   "metadata": {},
   "source": [
    "<변수설명>\n",
    "\n",
    "- Sales - Unit sales (in thousands) at each location\n",
    "\n",
    "- CompPrice - Price charged by competitor at each location\n",
    "\n",
    "- Income - Community income level (in thousands of dollars)\n",
    "\n",
    "- Advertising - Local advertising budget for company at each location (in thousands of dollars)\n",
    "\n",
    "- Population - Population size in region (in thousands)\n",
    "\n",
    "- Price - Price company charges for car seats at each site\n",
    "\n",
    "- ShelveLoc - A factor with levels Bad, Good and Medium indicating the quality of the shelving location for the car seats at each site\n",
    "\n",
    "- Age - Average age of the local population\n",
    "\n",
    "- Education - Education level at each location\n",
    "\n",
    "- Urban - A factor with levels No and Yes to indicate whether the store is in an urban or rural location\n",
    "\n",
    "- US - A factor with levels No and Yes to indicate whether the store is in the US or not"
   ]
  },
  {
   "cell_type": "code",
   "execution_count": 4,
   "metadata": {},
   "outputs": [
    {
     "data": {
      "text/plain": [
       "(400, 11)"
      ]
     },
     "execution_count": 4,
     "metadata": {},
     "output_type": "execute_result"
    }
   ],
   "source": [
    "# 데이터 형태 확인\n",
    "carseats.shape"
   ]
  },
  {
   "cell_type": "code",
   "execution_count": 5,
   "metadata": {},
   "outputs": [
    {
     "name": "stdout",
     "output_type": "stream",
     "text": [
      "<class 'pandas.core.frame.DataFrame'>\n",
      "RangeIndex: 400 entries, 0 to 399\n",
      "Data columns (total 11 columns):\n",
      "Sales          400 non-null float64\n",
      "CompPrice      400 non-null int64\n",
      "Income         400 non-null int64\n",
      "Advertising    400 non-null int64\n",
      "Population     400 non-null int64\n",
      "Price          400 non-null int64\n",
      "ShelveLoc      400 non-null object\n",
      "Age            400 non-null int64\n",
      "Education      400 non-null int64\n",
      "Urban          400 non-null object\n",
      "US             400 non-null object\n",
      "dtypes: float64(1), int64(7), object(3)\n",
      "memory usage: 34.5+ KB\n"
     ]
    }
   ],
   "source": [
    "# 데이터의 전반적인 정보\n",
    "carseats.info()"
   ]
  },
  {
   "cell_type": "code",
   "execution_count": 6,
   "metadata": {},
   "outputs": [
    {
     "data": {
      "text/plain": [
       "Sales          0\n",
       "CompPrice      0\n",
       "Income         0\n",
       "Advertising    0\n",
       "Population     0\n",
       "Price          0\n",
       "ShelveLoc      0\n",
       "Age            0\n",
       "Education      0\n",
       "Urban          0\n",
       "US             0\n",
       "dtype: int64"
      ]
     },
     "execution_count": 6,
     "metadata": {},
     "output_type": "execute_result"
    }
   ],
   "source": [
    "# 데이터의 컬럼별로 null값 개수 확인\n",
    "carseats.isna().sum()"
   ]
  },
  {
   "cell_type": "code",
   "execution_count": 7,
   "metadata": {
    "collapsed": true
   },
   "outputs": [],
   "source": [
    "# Sales(numeric)가 8000달러 이상이면 Yes,아니면 No 값을 가지는 High(categorical) 변수 생성\n",
    "# map: 입력받은 자료형의 각 요소가 함수 f에 의해 수행된 결과를 묶어서 리턴하는 함수\n",
    "carseats['High'] = (carseats['Sales']>8).map({True:'Yes',False:'No'})"
   ]
  },
  {
   "cell_type": "code",
   "execution_count": 8,
   "metadata": {},
   "outputs": [
    {
     "data": {
      "text/plain": [
       "0       True\n",
       "1       True\n",
       "2       True\n",
       "3      False\n",
       "4      False\n",
       "5       True\n",
       "6      False\n",
       "7       True\n",
       "8      False\n",
       "9      False\n",
       "10      True\n",
       "11      True\n",
       "12     False\n",
       "13      True\n",
       "14      True\n",
       "15      True\n",
       "16     False\n",
       "17      True\n",
       "18      True\n",
       "19      True\n",
       "20     False\n",
       "21      True\n",
       "22     False\n",
       "23     False\n",
       "24      True\n",
       "25      True\n",
       "26      True\n",
       "27     False\n",
       "28     False\n",
       "29     False\n",
       "30      True\n",
       "31      True\n",
       "32     False\n",
       "33      True\n",
       "34     False\n",
       "35      True\n",
       "36      True\n",
       "37     False\n",
       "38     False\n",
       "39     False\n",
       "40     False\n",
       "41     False\n",
       "42      True\n",
       "43     False\n",
       "44     False\n",
       "45     False\n",
       "46      True\n",
       "47     False\n",
       "48     False\n",
       "49      True\n",
       "50     False\n",
       "51     False\n",
       "52     False\n",
       "53     False\n",
       "54     False\n",
       "55     False\n",
       "56      True\n",
       "57     False\n",
       "58     False\n",
       "59     False\n",
       "60      True\n",
       "61     False\n",
       "62     False\n",
       "63      True\n",
       "64     False\n",
       "65     False\n",
       "66      True\n",
       "67      True\n",
       "68      True\n",
       "69     False\n",
       "70      True\n",
       "71     False\n",
       "72     False\n",
       "73      True\n",
       "74     False\n",
       "75      True\n",
       "76      True\n",
       "77     False\n",
       "78     False\n",
       "79      True\n",
       "80      True\n",
       "81     False\n",
       "82      True\n",
       "83     False\n",
       "84     False\n",
       "85      True\n",
       "86      True\n",
       "87      True\n",
       "88     False\n",
       "89     False\n",
       "90     False\n",
       "91     False\n",
       "92     False\n",
       "93      True\n",
       "94      True\n",
       "95     False\n",
       "96      True\n",
       "97     False\n",
       "98      True\n",
       "99     False\n",
       "100    False\n",
       "101    False\n",
       "102    False\n",
       "103    False\n",
       "104    False\n",
       "105    False\n",
       "106    False\n",
       "107     True\n",
       "108    False\n",
       "109     True\n",
       "110     True\n",
       "111    False\n",
       "112    False\n",
       "113    False\n",
       "114     True\n",
       "115     True\n",
       "116    False\n",
       "117     True\n",
       "118    False\n",
       "119    False\n",
       "120    False\n",
       "121     True\n",
       "122    False\n",
       "123     True\n",
       "124     True\n",
       "125     True\n",
       "126     True\n",
       "127    False\n",
       "128    False\n",
       "129    False\n",
       "130     True\n",
       "131    False\n",
       "132     True\n",
       "133    False\n",
       "134    False\n",
       "135    False\n",
       "136    False\n",
       "137    False\n",
       "138     True\n",
       "139     True\n",
       "140    False\n",
       "141    False\n",
       "142    False\n",
       "143    False\n",
       "144     True\n",
       "145     True\n",
       "146    False\n",
       "147     True\n",
       "148    False\n",
       "149     True\n",
       "150     True\n",
       "151     True\n",
       "152    False\n",
       "153    False\n",
       "154    False\n",
       "155    False\n",
       "156    False\n",
       "157     True\n",
       "158     True\n",
       "159     True\n",
       "160    False\n",
       "161    False\n",
       "162    False\n",
       "163    False\n",
       "164     True\n",
       "165    False\n",
       "166    False\n",
       "167    False\n",
       "168    False\n",
       "169     True\n",
       "170     True\n",
       "171     True\n",
       "172     True\n",
       "173    False\n",
       "174    False\n",
       "175    False\n",
       "176    False\n",
       "177     True\n",
       "178     True\n",
       "179    False\n",
       "180    False\n",
       "181    False\n",
       "182    False\n",
       "183    False\n",
       "184     True\n",
       "185     True\n",
       "186     True\n",
       "187    False\n",
       "188     True\n",
       "189     True\n",
       "190     True\n",
       "191    False\n",
       "192    False\n",
       "193     True\n",
       "194    False\n",
       "195    False\n",
       "196    False\n",
       "197    False\n",
       "198    False\n",
       "199    False\n",
       "200    False\n",
       "201    False\n",
       "202    False\n",
       "203    False\n",
       "204     True\n",
       "205    False\n",
       "206    False\n",
       "207     True\n",
       "208    False\n",
       "209    False\n",
       "210    False\n",
       "211     True\n",
       "212     True\n",
       "213     True\n",
       "214    False\n",
       "215    False\n",
       "216    False\n",
       "217    False\n",
       "218     True\n",
       "219     True\n",
       "220     True\n",
       "221    False\n",
       "222    False\n",
       "223    False\n",
       "224    False\n",
       "225    False\n",
       "226    False\n",
       "227     True\n",
       "228    False\n",
       "229     True\n",
       "230    False\n",
       "231     True\n",
       "232     True\n",
       "233     True\n",
       "234     True\n",
       "235    False\n",
       "236     True\n",
       "237     True\n",
       "238    False\n",
       "239    False\n",
       "240     True\n",
       "241     True\n",
       "242    False\n",
       "243    False\n",
       "244     True\n",
       "245     True\n",
       "246    False\n",
       "247    False\n",
       "248    False\n",
       "249    False\n",
       "250     True\n",
       "251    False\n",
       "252     True\n",
       "253    False\n",
       "254     True\n",
       "255    False\n",
       "256    False\n",
       "257     True\n",
       "258    False\n",
       "259    False\n",
       "260    False\n",
       "261    False\n",
       "262    False\n",
       "263    False\n",
       "264    False\n",
       "265    False\n",
       "266     True\n",
       "267    False\n",
       "268    False\n",
       "269    False\n",
       "270     True\n",
       "271    False\n",
       "272     True\n",
       "273     True\n",
       "274    False\n",
       "275    False\n",
       "276    False\n",
       "277    False\n",
       "278    False\n",
       "279    False\n",
       "280    False\n",
       "281     True\n",
       "282    False\n",
       "283    False\n",
       "284    False\n",
       "285    False\n",
       "286    False\n",
       "287    False\n",
       "288    False\n",
       "289     True\n",
       "290     True\n",
       "291    False\n",
       "292     True\n",
       "293     True\n",
       "294     True\n",
       "295    False\n",
       "296     True\n",
       "297    False\n",
       "298     True\n",
       "299     True\n",
       "300     True\n",
       "301    False\n",
       "302    False\n",
       "303     True\n",
       "304     True\n",
       "305     True\n",
       "306    False\n",
       "307    False\n",
       "308     True\n",
       "309     True\n",
       "310     True\n",
       "311    False\n",
       "312    False\n",
       "313     True\n",
       "314    False\n",
       "315    False\n",
       "316     True\n",
       "317    False\n",
       "318     True\n",
       "319    False\n",
       "320    False\n",
       "321    False\n",
       "322     True\n",
       "323     True\n",
       "324    False\n",
       "325     True\n",
       "326    False\n",
       "327    False\n",
       "328    False\n",
       "329     True\n",
       "330    False\n",
       "331     True\n",
       "332    False\n",
       "333    False\n",
       "334    False\n",
       "335    False\n",
       "336    False\n",
       "337     True\n",
       "338    False\n",
       "339     True\n",
       "340    False\n",
       "341    False\n",
       "342    False\n",
       "343    False\n",
       "344     True\n",
       "345    False\n",
       "346     True\n",
       "347    False\n",
       "348     True\n",
       "349     True\n",
       "350     True\n",
       "351     True\n",
       "352     True\n",
       "353     True\n",
       "354    False\n",
       "355    False\n",
       "356    False\n",
       "357     True\n",
       "358    False\n",
       "359    False\n",
       "360     True\n",
       "361     True\n",
       "362    False\n",
       "363     True\n",
       "364     True\n",
       "365    False\n",
       "366    False\n",
       "367     True\n",
       "368     True\n",
       "369     True\n",
       "370    False\n",
       "371     True\n",
       "372    False\n",
       "373    False\n",
       "374     True\n",
       "375    False\n",
       "376     True\n",
       "377    False\n",
       "378    False\n",
       "379    False\n",
       "380     True\n",
       "381    False\n",
       "382    False\n",
       "383     True\n",
       "384     True\n",
       "385    False\n",
       "386    False\n",
       "387     True\n",
       "388     True\n",
       "389     True\n",
       "390    False\n",
       "391    False\n",
       "392    False\n",
       "393    False\n",
       "394    False\n",
       "395     True\n",
       "396    False\n",
       "397    False\n",
       "398    False\n",
       "399     True\n",
       "Name: Sales, dtype: bool"
      ]
     },
     "execution_count": 8,
     "metadata": {},
     "output_type": "execute_result"
    }
   ],
   "source": [
    "carseats['Sales']>8"
   ]
  },
  {
   "cell_type": "code",
   "execution_count": 9,
   "metadata": {},
   "outputs": [
    {
     "data": {
      "text/html": [
       "<div>\n",
       "<style scoped>\n",
       "    .dataframe tbody tr th:only-of-type {\n",
       "        vertical-align: middle;\n",
       "    }\n",
       "\n",
       "    .dataframe tbody tr th {\n",
       "        vertical-align: top;\n",
       "    }\n",
       "\n",
       "    .dataframe thead th {\n",
       "        text-align: right;\n",
       "    }\n",
       "</style>\n",
       "<table border=\"1\" class=\"dataframe\">\n",
       "  <thead>\n",
       "    <tr style=\"text-align: right;\">\n",
       "      <th></th>\n",
       "      <th>Sales</th>\n",
       "      <th>CompPrice</th>\n",
       "      <th>Income</th>\n",
       "      <th>Advertising</th>\n",
       "      <th>Population</th>\n",
       "      <th>Price</th>\n",
       "      <th>ShelveLoc</th>\n",
       "      <th>Age</th>\n",
       "      <th>Education</th>\n",
       "      <th>Urban</th>\n",
       "      <th>US</th>\n",
       "      <th>High</th>\n",
       "    </tr>\n",
       "  </thead>\n",
       "  <tbody>\n",
       "    <tr>\n",
       "      <th>0</th>\n",
       "      <td>9.50</td>\n",
       "      <td>138</td>\n",
       "      <td>73</td>\n",
       "      <td>11</td>\n",
       "      <td>276</td>\n",
       "      <td>120</td>\n",
       "      <td>Bad</td>\n",
       "      <td>42</td>\n",
       "      <td>17</td>\n",
       "      <td>Yes</td>\n",
       "      <td>Yes</td>\n",
       "      <td>Yes</td>\n",
       "    </tr>\n",
       "    <tr>\n",
       "      <th>1</th>\n",
       "      <td>11.22</td>\n",
       "      <td>111</td>\n",
       "      <td>48</td>\n",
       "      <td>16</td>\n",
       "      <td>260</td>\n",
       "      <td>83</td>\n",
       "      <td>Good</td>\n",
       "      <td>65</td>\n",
       "      <td>10</td>\n",
       "      <td>Yes</td>\n",
       "      <td>Yes</td>\n",
       "      <td>Yes</td>\n",
       "    </tr>\n",
       "    <tr>\n",
       "      <th>2</th>\n",
       "      <td>10.06</td>\n",
       "      <td>113</td>\n",
       "      <td>35</td>\n",
       "      <td>10</td>\n",
       "      <td>269</td>\n",
       "      <td>80</td>\n",
       "      <td>Medium</td>\n",
       "      <td>59</td>\n",
       "      <td>12</td>\n",
       "      <td>Yes</td>\n",
       "      <td>Yes</td>\n",
       "      <td>Yes</td>\n",
       "    </tr>\n",
       "    <tr>\n",
       "      <th>3</th>\n",
       "      <td>7.40</td>\n",
       "      <td>117</td>\n",
       "      <td>100</td>\n",
       "      <td>4</td>\n",
       "      <td>466</td>\n",
       "      <td>97</td>\n",
       "      <td>Medium</td>\n",
       "      <td>55</td>\n",
       "      <td>14</td>\n",
       "      <td>Yes</td>\n",
       "      <td>Yes</td>\n",
       "      <td>No</td>\n",
       "    </tr>\n",
       "    <tr>\n",
       "      <th>4</th>\n",
       "      <td>4.15</td>\n",
       "      <td>141</td>\n",
       "      <td>64</td>\n",
       "      <td>3</td>\n",
       "      <td>340</td>\n",
       "      <td>128</td>\n",
       "      <td>Bad</td>\n",
       "      <td>38</td>\n",
       "      <td>13</td>\n",
       "      <td>Yes</td>\n",
       "      <td>No</td>\n",
       "      <td>No</td>\n",
       "    </tr>\n",
       "  </tbody>\n",
       "</table>\n",
       "</div>"
      ],
      "text/plain": [
       "   Sales  CompPrice  Income  Advertising  Population  Price ShelveLoc  Age  \\\n",
       "0   9.50        138      73           11         276    120       Bad   42   \n",
       "1  11.22        111      48           16         260     83      Good   65   \n",
       "2  10.06        113      35           10         269     80    Medium   59   \n",
       "3   7.40        117     100            4         466     97    Medium   55   \n",
       "4   4.15        141      64            3         340    128       Bad   38   \n",
       "\n",
       "   Education Urban   US High  \n",
       "0         17   Yes  Yes  Yes  \n",
       "1         10   Yes  Yes  Yes  \n",
       "2         12   Yes  Yes  Yes  \n",
       "3         14   Yes  Yes   No  \n",
       "4         13   Yes   No   No  "
      ]
     },
     "execution_count": 9,
     "metadata": {},
     "output_type": "execute_result"
    }
   ],
   "source": [
    "carseats.head()"
   ]
  },
  {
   "cell_type": "code",
   "execution_count": 10,
   "metadata": {
    "collapsed": true
   },
   "outputs": [],
   "source": [
    "# 불필요한 변수 삭제\n",
    "del carseats['Sales']"
   ]
  },
  {
   "cell_type": "code",
   "execution_count": 11,
   "metadata": {
    "collapsed": true
   },
   "outputs": [],
   "source": [
    "# LabelEncoder: Encode labels with value between 0 and n_classes-1\n",
    "from sklearn.preprocessing import LabelEncoder\n",
    "\n",
    "le = LabelEncoder()\n",
    "\n",
    "# fit_transform: Fit label encoder and return encoded labels\n",
    "# 범주형 변수: ShelveLoc, Urban, US\n",
    "carseats['ShelveLoc'] = le.fit_transform(carseats['ShelveLoc'])\n",
    "carseats['Urban'] = le.fit_transform(carseats['Urban'])\n",
    "carseats['US'] = le.fit_transform(carseats['US'])"
   ]
  },
  {
   "cell_type": "code",
   "execution_count": 12,
   "metadata": {},
   "outputs": [
    {
     "data": {
      "text/html": [
       "<div>\n",
       "<style scoped>\n",
       "    .dataframe tbody tr th:only-of-type {\n",
       "        vertical-align: middle;\n",
       "    }\n",
       "\n",
       "    .dataframe tbody tr th {\n",
       "        vertical-align: top;\n",
       "    }\n",
       "\n",
       "    .dataframe thead th {\n",
       "        text-align: right;\n",
       "    }\n",
       "</style>\n",
       "<table border=\"1\" class=\"dataframe\">\n",
       "  <thead>\n",
       "    <tr style=\"text-align: right;\">\n",
       "      <th></th>\n",
       "      <th>CompPrice</th>\n",
       "      <th>Income</th>\n",
       "      <th>Advertising</th>\n",
       "      <th>Population</th>\n",
       "      <th>Price</th>\n",
       "      <th>ShelveLoc</th>\n",
       "      <th>Age</th>\n",
       "      <th>Education</th>\n",
       "      <th>Urban</th>\n",
       "      <th>US</th>\n",
       "      <th>High</th>\n",
       "    </tr>\n",
       "  </thead>\n",
       "  <tbody>\n",
       "    <tr>\n",
       "      <th>0</th>\n",
       "      <td>138</td>\n",
       "      <td>73</td>\n",
       "      <td>11</td>\n",
       "      <td>276</td>\n",
       "      <td>120</td>\n",
       "      <td>0</td>\n",
       "      <td>42</td>\n",
       "      <td>17</td>\n",
       "      <td>1</td>\n",
       "      <td>1</td>\n",
       "      <td>Yes</td>\n",
       "    </tr>\n",
       "    <tr>\n",
       "      <th>1</th>\n",
       "      <td>111</td>\n",
       "      <td>48</td>\n",
       "      <td>16</td>\n",
       "      <td>260</td>\n",
       "      <td>83</td>\n",
       "      <td>1</td>\n",
       "      <td>65</td>\n",
       "      <td>10</td>\n",
       "      <td>1</td>\n",
       "      <td>1</td>\n",
       "      <td>Yes</td>\n",
       "    </tr>\n",
       "    <tr>\n",
       "      <th>2</th>\n",
       "      <td>113</td>\n",
       "      <td>35</td>\n",
       "      <td>10</td>\n",
       "      <td>269</td>\n",
       "      <td>80</td>\n",
       "      <td>2</td>\n",
       "      <td>59</td>\n",
       "      <td>12</td>\n",
       "      <td>1</td>\n",
       "      <td>1</td>\n",
       "      <td>Yes</td>\n",
       "    </tr>\n",
       "    <tr>\n",
       "      <th>3</th>\n",
       "      <td>117</td>\n",
       "      <td>100</td>\n",
       "      <td>4</td>\n",
       "      <td>466</td>\n",
       "      <td>97</td>\n",
       "      <td>2</td>\n",
       "      <td>55</td>\n",
       "      <td>14</td>\n",
       "      <td>1</td>\n",
       "      <td>1</td>\n",
       "      <td>No</td>\n",
       "    </tr>\n",
       "    <tr>\n",
       "      <th>4</th>\n",
       "      <td>141</td>\n",
       "      <td>64</td>\n",
       "      <td>3</td>\n",
       "      <td>340</td>\n",
       "      <td>128</td>\n",
       "      <td>0</td>\n",
       "      <td>38</td>\n",
       "      <td>13</td>\n",
       "      <td>1</td>\n",
       "      <td>0</td>\n",
       "      <td>No</td>\n",
       "    </tr>\n",
       "  </tbody>\n",
       "</table>\n",
       "</div>"
      ],
      "text/plain": [
       "   CompPrice  Income  Advertising  Population  Price  ShelveLoc  Age  \\\n",
       "0        138      73           11         276    120          0   42   \n",
       "1        111      48           16         260     83          1   65   \n",
       "2        113      35           10         269     80          2   59   \n",
       "3        117     100            4         466     97          2   55   \n",
       "4        141      64            3         340    128          0   38   \n",
       "\n",
       "   Education  Urban  US High  \n",
       "0         17      1   1  Yes  \n",
       "1         10      1   1  Yes  \n",
       "2         12      1   1  Yes  \n",
       "3         14      1   1   No  \n",
       "4         13      1   0   No  "
      ]
     },
     "execution_count": 12,
     "metadata": {},
     "output_type": "execute_result"
    }
   ],
   "source": [
    "carseats.head()"
   ]
  },
  {
   "cell_type": "markdown",
   "metadata": {},
   "source": [
    "이 데이터를 이용해서 High 여부(Sales가 높은지 아닌지)를 예측해볼게요!"
   ]
  },
  {
   "cell_type": "code",
   "execution_count": 13,
   "metadata": {
    "collapsed": true
   },
   "outputs": [],
   "source": [
    "# 설명변수, 반응변수 설정\n",
    "X = carseats.loc[:, 'CompPrice':'US'  ] # 설명변수 (CompPrice 변수부터 US 변수까지 선택)\n",
    "y = carseats.loc[:, 'High'  ] # 반응변수\n",
    "\n",
    "# train, test set으로 나누기\n",
    "from sklearn.model_selection import train_test_split\n",
    "\n",
    "X_train, X_test, y_train, y_test = train_test_split( X, y,test_size=0.3 ,random_state=42 )"
   ]
  },
  {
   "cell_type": "code",
   "execution_count": 14,
   "metadata": {
    "collapsed": true
   },
   "outputs": [],
   "source": [
    "# DecisionTreeClassifier\n",
    "from sklearn.tree import DecisionTreeClassifier\n",
    "\n",
    "tree_carseats = DecisionTreeClassifier(min_samples_leaf=5, max_depth=6) # 모델 생성 (더 자세한 parameter는 shift+tab)\n",
    "                                                                        # min_samples_leaf: The minimum number of samples required to be at a leaf node, smoothing 효과\n",
    "tree_carseats.fit(  X_train, y_train ) # 적합하고\n",
    "y_pred = tree_carseats.predict(X_test) # 예측한 값들을 y_pred라는 변수명으로 저장"
   ]
  },
  {
   "cell_type": "code",
   "execution_count": 15,
   "metadata": {},
   "outputs": [
    {
     "data": {
      "text/plain": [
       "array(['No', 'No', 'Yes', 'No', 'No', 'No', 'Yes', 'Yes', 'No', 'Yes'],\n",
       "      dtype=object)"
      ]
     },
     "execution_count": 15,
     "metadata": {},
     "output_type": "execute_result"
    }
   ],
   "source": [
    "y_pred[:10] # 예측한 값은 대략 이렇게 생겼어요!"
   ]
  },
  {
   "cell_type": "code",
   "execution_count": 16,
   "metadata": {},
   "outputs": [
    {
     "data": {
      "text/plain": [
       "(0.8607142857142858, 0.675)"
      ]
     },
     "execution_count": 16,
     "metadata": {},
     "output_type": "execute_result"
    }
   ],
   "source": [
    "# score: Returns the mean accuracy on the given data and labels\n",
    "tree_carseats.score(X_train,y_train), tree_carseats.score(X_test,y_test)  #train과 test set에서의 모델 성능 확인"
   ]
  },
  {
   "cell_type": "code",
   "execution_count": 17,
   "metadata": {},
   "outputs": [
    {
     "data": {
      "text/plain": [
       "<matplotlib.axes._subplots.AxesSubplot at 0x291523bc4e0>"
      ]
     },
     "execution_count": 17,
     "metadata": {},
     "output_type": "execute_result"
    },
    {
     "data": {
      "image/png": "[encoded data removed]",
      "text/plain": [
       "<Figure size 432x288 with 1 Axes>"
      ]
     },
     "metadata": {},
     "output_type": "display_data"
    }
   ],
   "source": [
    "# scikitplot 미설치 시 Anaconda prompt에서 pip install scikit-plot 실행\n",
    "# https://scikit-plot.readthedocs.io/en/stable/Quickstart.html 참고\n",
    "# plot_feature_importances: plot feature importances of a tree-based sklearn estimator\n",
    "from scikitplot.estimators import plot_feature_importances\n",
    "\n",
    "plot_feature_importances( tree_carseats  ,feature_names=X.columns,x_tick_rotation=45)"
   ]
  },
  {
   "cell_type": "code",
   "execution_count": 18,
   "metadata": {
    "scrolled": false
   },
   "outputs": [
    {
     "data": {
      "image/svg+xml": [
       "<?xml version=\"1.0\" encoding=\"UTF-8\" standalone=\"no\"?>\r\n",
       "<!DOCTYPE svg PUBLIC \"-//W3C//DTD SVG 1.1//EN\"\r\n",
       " \"http://www.w3.org/Graphics/SVG/1.1/DTD/svg11.dtd\">\r\n",
       "<!-- Generated by graphviz version 2.38.0 (20140413.2041)\r\n",
       " -->\r\n",
       "<!-- Title: Tree Pages: 1 -->\r\n",
       "<svg width=\"1903pt\" height=\"790pt\"\r\n",
       " viewBox=\"0.00 0.00 1903.00 790.00\" xmlns=\"http://www.w3.org/2000/svg\" xmlns:xlink=\"http://www.w3.org/1999/xlink\">\r\n",
       "<g id=\"graph0\" class=\"graph\" transform=\"scale(1 1) rotate(0) translate(4 786)\">\r\n",
       "<title>Tree</title>\r\n",
       "<polygon fill=\"white\" stroke=\"none\" points=\"-4,4 -4,-786 1899,-786 1899,4 -4,4\"/>\r\n",
       "<!-- 0 -->\r\n",
       "<g id=\"node1\" class=\"node\"><title>0</title>\r\n",
       "<path fill=\"#e58139\" fill-opacity=\"0.360784\" stroke=\"black\" d=\"M509.5,-782C509.5,-782 403.5,-782 403.5,-782 397.5,-782 391.5,-776 391.5,-770 391.5,-770 391.5,-711 391.5,-711 391.5,-705 397.5,-699 403.5,-699 403.5,-699 509.5,-699 509.5,-699 515.5,-699 521.5,-705 521.5,-711 521.5,-711 521.5,-770 521.5,-770 521.5,-776 515.5,-782 509.5,-782\"/>\r\n",
       "<text text-anchor=\"start\" x=\"418\" y=\"-766.8\" font-family=\"Helvetica,sans-Serif\" font-size=\"14.00\">Price ≤ 92.5</text>\r\n",
       "<text text-anchor=\"start\" x=\"419\" y=\"-751.8\" font-family=\"Helvetica,sans-Serif\" font-size=\"14.00\">gini = 0.475</text>\r\n",
       "<text text-anchor=\"start\" x=\"409\" y=\"-736.8\" font-family=\"Helvetica,sans-Serif\" font-size=\"14.00\">samples = 280</text>\r\n",
       "<text text-anchor=\"start\" x=\"399.5\" y=\"-721.8\" font-family=\"Helvetica,sans-Serif\" font-size=\"14.00\">value = [171, 109]</text>\r\n",
       "<text text-anchor=\"start\" x=\"423\" y=\"-706.8\" font-family=\"Helvetica,sans-Serif\" font-size=\"14.00\">class = No</text>\r\n",
       "</g>\r\n",
       "<!-- 1 -->\r\n",
       "<g id=\"node2\" class=\"node\"><title>1</title>\r\n",
       "<path fill=\"#399de5\" fill-opacity=\"0.772549\" stroke=\"black\" d=\"M414,-663C414,-663 319,-663 319,-663 313,-663 307,-657 307,-651 307,-651 307,-592 307,-592 307,-586 313,-580 319,-580 319,-580 414,-580 414,-580 420,-580 426,-586 426,-592 426,-592 426,-651 426,-651 426,-657 420,-663 414,-663\"/>\r\n",
       "<text text-anchor=\"start\" x=\"315\" y=\"-647.8\" font-family=\"Helvetica,sans-Serif\" font-size=\"14.00\">ShelveLoc ≤ 0.5</text>\r\n",
       "<text text-anchor=\"start\" x=\"329\" y=\"-632.8\" font-family=\"Helvetica,sans-Serif\" font-size=\"14.00\">gini = 0.301</text>\r\n",
       "<text text-anchor=\"start\" x=\"323\" y=\"-617.8\" font-family=\"Helvetica,sans-Serif\" font-size=\"14.00\">samples = 38</text>\r\n",
       "<text text-anchor=\"start\" x=\"322\" y=\"-602.8\" font-family=\"Helvetica,sans-Serif\" font-size=\"14.00\">value = [7, 31]</text>\r\n",
       "<text text-anchor=\"start\" x=\"329.5\" y=\"-587.8\" font-family=\"Helvetica,sans-Serif\" font-size=\"14.00\">class = Yes</text>\r\n",
       "</g>\r\n",
       "<!-- 0&#45;&gt;1 -->\r\n",
       "<g id=\"edge1\" class=\"edge\"><title>0&#45;&gt;1</title>\r\n",
       "<path fill=\"none\" stroke=\"black\" d=\"M425.275,-698.907C418.364,-689.923 410.973,-680.315 403.846,-671.05\"/>\r\n",
       "<polygon fill=\"black\" stroke=\"black\" points=\"406.541,-668.813 397.67,-663.021 400.993,-673.081 406.541,-668.813\"/>\r\n",
       "<text text-anchor=\"middle\" x=\"394.436\" y=\"-684.111\" font-family=\"Helvetica,sans-Serif\" font-size=\"14.00\">True</text>\r\n",
       "</g>\r\n",
       "<!-- 8 -->\r\n",
       "<g id=\"node9\" class=\"node\"><title>8</title>\r\n",
       "<path fill=\"#e58139\" fill-opacity=\"0.525490\" stroke=\"black\" d=\"M595.5,-663C595.5,-663 497.5,-663 497.5,-663 491.5,-663 485.5,-657 485.5,-651 485.5,-651 485.5,-592 485.5,-592 485.5,-586 491.5,-580 497.5,-580 497.5,-580 595.5,-580 595.5,-580 601.5,-580 607.5,-586 607.5,-592 607.5,-592 607.5,-651 607.5,-651 607.5,-657 601.5,-663 595.5,-663\"/>\r\n",
       "<text text-anchor=\"start\" x=\"495\" y=\"-647.8\" font-family=\"Helvetica,sans-Serif\" font-size=\"14.00\">ShelveLoc ≤ 0.5</text>\r\n",
       "<text text-anchor=\"start\" x=\"509\" y=\"-632.8\" font-family=\"Helvetica,sans-Serif\" font-size=\"14.00\">gini = 0.437</text>\r\n",
       "<text text-anchor=\"start\" x=\"499\" y=\"-617.8\" font-family=\"Helvetica,sans-Serif\" font-size=\"14.00\">samples = 242</text>\r\n",
       "<text text-anchor=\"start\" x=\"493.5\" y=\"-602.8\" font-family=\"Helvetica,sans-Serif\" font-size=\"14.00\">value = [164, 78]</text>\r\n",
       "<text text-anchor=\"start\" x=\"513\" y=\"-587.8\" font-family=\"Helvetica,sans-Serif\" font-size=\"14.00\">class = No</text>\r\n",
       "</g>\r\n",
       "<!-- 0&#45;&gt;8 -->\r\n",
       "<g id=\"edge8\" class=\"edge\"><title>0&#45;&gt;8</title>\r\n",
       "<path fill=\"none\" stroke=\"black\" d=\"M487.725,-698.907C494.636,-689.923 502.027,-680.315 509.154,-671.05\"/>\r\n",
       "<polygon fill=\"black\" stroke=\"black\" points=\"512.007,-673.081 515.33,-663.021 506.459,-668.813 512.007,-673.081\"/>\r\n",
       "<text text-anchor=\"middle\" x=\"518.564\" y=\"-684.111\" font-family=\"Helvetica,sans-Serif\" font-size=\"14.00\">False</text>\r\n",
       "</g>\r\n",
       "<!-- 2 -->\r\n",
       "<g id=\"node3\" class=\"node\"><title>2</title>\r\n",
       "<path fill=\"#e58139\" fill-opacity=\"0.333333\" stroke=\"black\" d=\"M205.5,-544C205.5,-544 121.5,-544 121.5,-544 115.5,-544 109.5,-538 109.5,-532 109.5,-532 109.5,-473 109.5,-473 109.5,-467 115.5,-461 121.5,-461 121.5,-461 205.5,-461 205.5,-461 211.5,-461 217.5,-467 217.5,-473 217.5,-473 217.5,-532 217.5,-532 217.5,-538 211.5,-544 205.5,-544\"/>\r\n",
       "<text text-anchor=\"start\" x=\"117.5\" y=\"-528.8\" font-family=\"Helvetica,sans-Serif\" font-size=\"14.00\">Income ≤ 65.0</text>\r\n",
       "<text text-anchor=\"start\" x=\"130\" y=\"-513.8\" font-family=\"Helvetica,sans-Serif\" font-size=\"14.00\">gini = 0.48</text>\r\n",
       "<text text-anchor=\"start\" x=\"120\" y=\"-498.8\" font-family=\"Helvetica,sans-Serif\" font-size=\"14.00\">samples = 10</text>\r\n",
       "<text text-anchor=\"start\" x=\"123\" y=\"-483.8\" font-family=\"Helvetica,sans-Serif\" font-size=\"14.00\">value = [6, 4]</text>\r\n",
       "<text text-anchor=\"start\" x=\"130\" y=\"-468.8\" font-family=\"Helvetica,sans-Serif\" font-size=\"14.00\">class = No</text>\r\n",
       "</g>\r\n",
       "<!-- 1&#45;&gt;2 -->\r\n",
       "<g id=\"edge2\" class=\"edge\"><title>1&#45;&gt;2</title>\r\n",
       "<path fill=\"none\" stroke=\"black\" d=\"M306.965,-586.187C281.744,-571.65 252.327,-554.696 226.719,-539.937\"/>\r\n",
       "<polygon fill=\"black\" stroke=\"black\" points=\"228.245,-536.776 217.833,-534.815 224.749,-542.841 228.245,-536.776\"/>\r\n",
       "</g>\r\n",
       "<!-- 5 -->\r\n",
       "<g id=\"node6\" class=\"node\"><title>5</title>\r\n",
       "<path fill=\"#399de5\" fill-opacity=\"0.964706\" stroke=\"black\" d=\"M418,-544C418,-544 315,-544 315,-544 309,-544 303,-538 303,-532 303,-532 303,-473 303,-473 303,-467 309,-461 315,-461 315,-461 418,-461 418,-461 424,-461 430,-467 430,-473 430,-473 430,-532 430,-532 430,-538 424,-544 418,-544\"/>\r\n",
       "<text text-anchor=\"start\" x=\"311\" y=\"-528.8\" font-family=\"Helvetica,sans-Serif\" font-size=\"14.00\">Population ≤ 82.5</text>\r\n",
       "<text text-anchor=\"start\" x=\"329\" y=\"-513.8\" font-family=\"Helvetica,sans-Serif\" font-size=\"14.00\">gini = 0.069</text>\r\n",
       "<text text-anchor=\"start\" x=\"323\" y=\"-498.8\" font-family=\"Helvetica,sans-Serif\" font-size=\"14.00\">samples = 28</text>\r\n",
       "<text text-anchor=\"start\" x=\"322\" y=\"-483.8\" font-family=\"Helvetica,sans-Serif\" font-size=\"14.00\">value = [1, 27]</text>\r\n",
       "<text text-anchor=\"start\" x=\"329.5\" y=\"-468.8\" font-family=\"Helvetica,sans-Serif\" font-size=\"14.00\">class = Yes</text>\r\n",
       "</g>\r\n",
       "<!-- 1&#45;&gt;5 -->\r\n",
       "<g id=\"edge5\" class=\"edge\"><title>1&#45;&gt;5</title>\r\n",
       "<path fill=\"none\" stroke=\"black\" d=\"M366.5,-579.907C366.5,-571.649 366.5,-562.864 366.5,-554.302\"/>\r\n",
       "<polygon fill=\"black\" stroke=\"black\" points=\"370,-554.021 366.5,-544.021 363,-554.021 370,-554.021\"/>\r\n",
       "</g>\r\n",
       "<!-- 3 -->\r\n",
       "<g id=\"node4\" class=\"node\"><title>3</title>\r\n",
       "<path fill=\"#e58139\" fill-opacity=\"0.749020\" stroke=\"black\" d=\"M85,-417.5C85,-417.5 12,-417.5 12,-417.5 6,-417.5 0,-411.5 0,-405.5 0,-405.5 0,-361.5 0,-361.5 0,-355.5 6,-349.5 12,-349.5 12,-349.5 85,-349.5 85,-349.5 91,-349.5 97,-355.5 97,-361.5 97,-361.5 97,-405.5 97,-405.5 97,-411.5 91,-417.5 85,-417.5\"/>\r\n",
       "<text text-anchor=\"start\" x=\"15\" y=\"-402.3\" font-family=\"Helvetica,sans-Serif\" font-size=\"14.00\">gini = 0.32</text>\r\n",
       "<text text-anchor=\"start\" x=\"9\" y=\"-387.3\" font-family=\"Helvetica,sans-Serif\" font-size=\"14.00\">samples = 5</text>\r\n",
       "<text text-anchor=\"start\" x=\"8\" y=\"-372.3\" font-family=\"Helvetica,sans-Serif\" font-size=\"14.00\">value = [4, 1]</text>\r\n",
       "<text text-anchor=\"start\" x=\"15\" y=\"-357.3\" font-family=\"Helvetica,sans-Serif\" font-size=\"14.00\">class = No</text>\r\n",
       "</g>\r\n",
       "<!-- 2&#45;&gt;3 -->\r\n",
       "<g id=\"edge3\" class=\"edge\"><title>2&#45;&gt;3</title>\r\n",
       "<path fill=\"none\" stroke=\"black\" d=\"M123.601,-460.907C112.213,-449.321 99.8055,-436.698 88.4163,-425.111\"/>\r\n",
       "<polygon fill=\"black\" stroke=\"black\" points=\"90.606,-422.345 81.1,-417.667 85.6137,-427.252 90.606,-422.345\"/>\r\n",
       "</g>\r\n",
       "<!-- 4 -->\r\n",
       "<g id=\"node5\" class=\"node\"><title>4</title>\r\n",
       "<path fill=\"#399de5\" fill-opacity=\"0.333333\" stroke=\"black\" d=\"M200,-417.5C200,-417.5 127,-417.5 127,-417.5 121,-417.5 115,-411.5 115,-405.5 115,-405.5 115,-361.5 115,-361.5 115,-355.5 121,-349.5 127,-349.5 127,-349.5 200,-349.5 200,-349.5 206,-349.5 212,-355.5 212,-361.5 212,-361.5 212,-405.5 212,-405.5 212,-411.5 206,-417.5 200,-417.5\"/>\r\n",
       "<text text-anchor=\"start\" x=\"130\" y=\"-402.3\" font-family=\"Helvetica,sans-Serif\" font-size=\"14.00\">gini = 0.48</text>\r\n",
       "<text text-anchor=\"start\" x=\"124\" y=\"-387.3\" font-family=\"Helvetica,sans-Serif\" font-size=\"14.00\">samples = 5</text>\r\n",
       "<text text-anchor=\"start\" x=\"123\" y=\"-372.3\" font-family=\"Helvetica,sans-Serif\" font-size=\"14.00\">value = [2, 3]</text>\r\n",
       "<text text-anchor=\"start\" x=\"126.5\" y=\"-357.3\" font-family=\"Helvetica,sans-Serif\" font-size=\"14.00\">class = Yes</text>\r\n",
       "</g>\r\n",
       "<!-- 2&#45;&gt;4 -->\r\n",
       "<g id=\"edge4\" class=\"edge\"><title>2&#45;&gt;4</title>\r\n",
       "<path fill=\"none\" stroke=\"black\" d=\"M163.5,-460.907C163.5,-450.204 163.5,-438.615 163.5,-427.776\"/>\r\n",
       "<polygon fill=\"black\" stroke=\"black\" points=\"167,-427.667 163.5,-417.667 160,-427.667 167,-427.667\"/>\r\n",
       "</g>\r\n",
       "<!-- 6 -->\r\n",
       "<g id=\"node7\" class=\"node\"><title>6</title>\r\n",
       "<path fill=\"#399de5\" fill-opacity=\"0.749020\" stroke=\"black\" d=\"M315,-417.5C315,-417.5 242,-417.5 242,-417.5 236,-417.5 230,-411.5 230,-405.5 230,-405.5 230,-361.5 230,-361.5 230,-355.5 236,-349.5 242,-349.5 242,-349.5 315,-349.5 315,-349.5 321,-349.5 327,-355.5 327,-361.5 327,-361.5 327,-405.5 327,-405.5 327,-411.5 321,-417.5 315,-417.5\"/>\r\n",
       "<text text-anchor=\"start\" x=\"245\" y=\"-402.3\" font-family=\"Helvetica,sans-Serif\" font-size=\"14.00\">gini = 0.32</text>\r\n",
       "<text text-anchor=\"start\" x=\"239\" y=\"-387.3\" font-family=\"Helvetica,sans-Serif\" font-size=\"14.00\">samples = 5</text>\r\n",
       "<text text-anchor=\"start\" x=\"238\" y=\"-372.3\" font-family=\"Helvetica,sans-Serif\" font-size=\"14.00\">value = [1, 4]</text>\r\n",
       "<text text-anchor=\"start\" x=\"241.5\" y=\"-357.3\" font-family=\"Helvetica,sans-Serif\" font-size=\"14.00\">class = Yes</text>\r\n",
       "</g>\r\n",
       "<!-- 5&#45;&gt;6 -->\r\n",
       "<g id=\"edge6\" class=\"edge\"><title>5&#45;&gt;6</title>\r\n",
       "<path fill=\"none\" stroke=\"black\" d=\"M335.969,-460.907C327.42,-449.542 318.121,-437.178 309.544,-425.774\"/>\r\n",
       "<polygon fill=\"black\" stroke=\"black\" points=\"312.254,-423.555 303.446,-417.667 306.66,-427.763 312.254,-423.555\"/>\r\n",
       "</g>\r\n",
       "<!-- 7 -->\r\n",
       "<g id=\"node8\" class=\"node\"><title>7</title>\r\n",
       "<path fill=\"#399de5\" stroke=\"black\" d=\"M438,-417.5C438,-417.5 357,-417.5 357,-417.5 351,-417.5 345,-411.5 345,-405.5 345,-405.5 345,-361.5 345,-361.5 345,-355.5 351,-349.5 357,-349.5 357,-349.5 438,-349.5 438,-349.5 444,-349.5 450,-355.5 450,-361.5 450,-361.5 450,-405.5 450,-405.5 450,-411.5 444,-417.5 438,-417.5\"/>\r\n",
       "<text text-anchor=\"start\" x=\"368.5\" y=\"-402.3\" font-family=\"Helvetica,sans-Serif\" font-size=\"14.00\">gini = 0.0</text>\r\n",
       "<text text-anchor=\"start\" x=\"354\" y=\"-387.3\" font-family=\"Helvetica,sans-Serif\" font-size=\"14.00\">samples = 23</text>\r\n",
       "<text text-anchor=\"start\" x=\"353\" y=\"-372.3\" font-family=\"Helvetica,sans-Serif\" font-size=\"14.00\">value = [0, 23]</text>\r\n",
       "<text text-anchor=\"start\" x=\"360.5\" y=\"-357.3\" font-family=\"Helvetica,sans-Serif\" font-size=\"14.00\">class = Yes</text>\r\n",
       "</g>\r\n",
       "<!-- 5&#45;&gt;7 -->\r\n",
       "<g id=\"edge7\" class=\"edge\"><title>5&#45;&gt;7</title>\r\n",
       "<path fill=\"none\" stroke=\"black\" d=\"M377.255,-460.907C380.12,-450.094 383.225,-438.376 386.122,-427.441\"/>\r\n",
       "<polygon fill=\"black\" stroke=\"black\" points=\"389.534,-428.23 388.712,-417.667 382.768,-426.437 389.534,-428.23\"/>\r\n",
       "</g>\r\n",
       "<!-- 9 -->\r\n",
       "<g id=\"node10\" class=\"node\"><title>9</title>\r\n",
       "<path fill=\"#e58139\" fill-opacity=\"0.945098\" stroke=\"black\" d=\"M596,-544C596,-544 497,-544 497,-544 491,-544 485,-538 485,-532 485,-532 485,-473 485,-473 485,-467 491,-461 497,-461 497,-461 596,-461 596,-461 602,-461 608,-467 608,-473 608,-473 608,-532 608,-532 608,-538 602,-544 596,-544\"/>\r\n",
       "<text text-anchor=\"start\" x=\"493\" y=\"-528.8\" font-family=\"Helvetica,sans-Serif\" font-size=\"14.00\">Education ≤ 10.5</text>\r\n",
       "<text text-anchor=\"start\" x=\"509\" y=\"-513.8\" font-family=\"Helvetica,sans-Serif\" font-size=\"14.00\">gini = 0.098</text>\r\n",
       "<text text-anchor=\"start\" x=\"503\" y=\"-498.8\" font-family=\"Helvetica,sans-Serif\" font-size=\"14.00\">samples = 58</text>\r\n",
       "<text text-anchor=\"start\" x=\"502\" y=\"-483.8\" font-family=\"Helvetica,sans-Serif\" font-size=\"14.00\">value = [55, 3]</text>\r\n",
       "<text text-anchor=\"start\" x=\"513\" y=\"-468.8\" font-family=\"Helvetica,sans-Serif\" font-size=\"14.00\">class = No</text>\r\n",
       "</g>\r\n",
       "<!-- 8&#45;&gt;9 -->\r\n",
       "<g id=\"edge9\" class=\"edge\"><title>8&#45;&gt;9</title>\r\n",
       "<path fill=\"none\" stroke=\"black\" d=\"M546.5,-579.907C546.5,-571.649 546.5,-562.864 546.5,-554.302\"/>\r\n",
       "<polygon fill=\"black\" stroke=\"black\" points=\"550,-554.021 546.5,-544.021 543,-554.021 550,-554.021\"/>\r\n",
       "</g>\r\n",
       "<!-- 14 -->\r\n",
       "<g id=\"node15\" class=\"node\"><title>14</title>\r\n",
       "<path fill=\"#e58139\" fill-opacity=\"0.313725\" stroke=\"black\" d=\"M892.5,-544C892.5,-544 794.5,-544 794.5,-544 788.5,-544 782.5,-538 782.5,-532 782.5,-532 782.5,-473 782.5,-473 782.5,-467 788.5,-461 794.5,-461 794.5,-461 892.5,-461 892.5,-461 898.5,-461 904.5,-467 904.5,-473 904.5,-473 904.5,-532 904.5,-532 904.5,-538 898.5,-544 892.5,-544\"/>\r\n",
       "<text text-anchor=\"start\" x=\"808.5\" y=\"-528.8\" font-family=\"Helvetica,sans-Serif\" font-size=\"14.00\">Age ≤ 60.5</text>\r\n",
       "<text text-anchor=\"start\" x=\"806\" y=\"-513.8\" font-family=\"Helvetica,sans-Serif\" font-size=\"14.00\">gini = 0.483</text>\r\n",
       "<text text-anchor=\"start\" x=\"796\" y=\"-498.8\" font-family=\"Helvetica,sans-Serif\" font-size=\"14.00\">samples = 184</text>\r\n",
       "<text text-anchor=\"start\" x=\"790.5\" y=\"-483.8\" font-family=\"Helvetica,sans-Serif\" font-size=\"14.00\">value = [109, 75]</text>\r\n",
       "<text text-anchor=\"start\" x=\"810\" y=\"-468.8\" font-family=\"Helvetica,sans-Serif\" font-size=\"14.00\">class = No</text>\r\n",
       "</g>\r\n",
       "<!-- 8&#45;&gt;14 -->\r\n",
       "<g id=\"edge14\" class=\"edge\"><title>8&#45;&gt;14</title>\r\n",
       "<path fill=\"none\" stroke=\"black\" d=\"M607.678,-596.399C655.697,-577.483 722.607,-551.124 772.895,-531.314\"/>\r\n",
       "<polygon fill=\"black\" stroke=\"black\" points=\"774.38,-534.491 782.401,-527.569 771.814,-527.978 774.38,-534.491\"/>\r\n",
       "</g>\r\n",
       "<!-- 10 -->\r\n",
       "<g id=\"node11\" class=\"node\"><title>10</title>\r\n",
       "<path fill=\"#e58139\" fill-opacity=\"0.333333\" stroke=\"black\" d=\"M553,-417.5C553,-417.5 480,-417.5 480,-417.5 474,-417.5 468,-411.5 468,-405.5 468,-405.5 468,-361.5 468,-361.5 468,-355.5 474,-349.5 480,-349.5 480,-349.5 553,-349.5 553,-349.5 559,-349.5 565,-355.5 565,-361.5 565,-361.5 565,-405.5 565,-405.5 565,-411.5 559,-417.5 553,-417.5\"/>\r\n",
       "<text text-anchor=\"start\" x=\"483\" y=\"-402.3\" font-family=\"Helvetica,sans-Serif\" font-size=\"14.00\">gini = 0.48</text>\r\n",
       "<text text-anchor=\"start\" x=\"477\" y=\"-387.3\" font-family=\"Helvetica,sans-Serif\" font-size=\"14.00\">samples = 5</text>\r\n",
       "<text text-anchor=\"start\" x=\"476\" y=\"-372.3\" font-family=\"Helvetica,sans-Serif\" font-size=\"14.00\">value = [3, 2]</text>\r\n",
       "<text text-anchor=\"start\" x=\"483\" y=\"-357.3\" font-family=\"Helvetica,sans-Serif\" font-size=\"14.00\">class = No</text>\r\n",
       "</g>\r\n",
       "<!-- 9&#45;&gt;10 -->\r\n",
       "<g id=\"edge10\" class=\"edge\"><title>9&#45;&gt;10</title>\r\n",
       "<path fill=\"none\" stroke=\"black\" d=\"M536.092,-460.907C533.319,-450.094 530.314,-438.376 527.511,-427.441\"/>\r\n",
       "<polygon fill=\"black\" stroke=\"black\" points=\"530.878,-426.484 525.004,-417.667 524.098,-428.223 530.878,-426.484\"/>\r\n",
       "</g>\r\n",
       "<!-- 11 -->\r\n",
       "<g id=\"node12\" class=\"node\"><title>11</title>\r\n",
       "<path fill=\"#e58139\" fill-opacity=\"0.980392\" stroke=\"black\" d=\"M679.5,-425C679.5,-425 595.5,-425 595.5,-425 589.5,-425 583.5,-419 583.5,-413 583.5,-413 583.5,-354 583.5,-354 583.5,-348 589.5,-342 595.5,-342 595.5,-342 679.5,-342 679.5,-342 685.5,-342 691.5,-348 691.5,-354 691.5,-354 691.5,-413 691.5,-413 691.5,-419 685.5,-425 679.5,-425\"/>\r\n",
       "<text text-anchor=\"start\" x=\"591.5\" y=\"-409.8\" font-family=\"Helvetica,sans-Serif\" font-size=\"14.00\">Income ≤ 98.5</text>\r\n",
       "<text text-anchor=\"start\" x=\"600\" y=\"-394.8\" font-family=\"Helvetica,sans-Serif\" font-size=\"14.00\">gini = 0.037</text>\r\n",
       "<text text-anchor=\"start\" x=\"594\" y=\"-379.8\" font-family=\"Helvetica,sans-Serif\" font-size=\"14.00\">samples = 53</text>\r\n",
       "<text text-anchor=\"start\" x=\"593\" y=\"-364.8\" font-family=\"Helvetica,sans-Serif\" font-size=\"14.00\">value = [52, 1]</text>\r\n",
       "<text text-anchor=\"start\" x=\"604\" y=\"-349.8\" font-family=\"Helvetica,sans-Serif\" font-size=\"14.00\">class = No</text>\r\n",
       "</g>\r\n",
       "<!-- 9&#45;&gt;11 -->\r\n",
       "<g id=\"edge11\" class=\"edge\"><title>9&#45;&gt;11</title>\r\n",
       "<path fill=\"none\" stroke=\"black\" d=\"M578.072,-460.907C585.06,-451.923 592.533,-442.315 599.739,-433.05\"/>\r\n",
       "<polygon fill=\"black\" stroke=\"black\" points=\"602.607,-435.063 605.984,-425.021 597.082,-430.766 602.607,-435.063\"/>\r\n",
       "</g>\r\n",
       "<!-- 12 -->\r\n",
       "<g id=\"node13\" class=\"node\"><title>12</title>\r\n",
       "<path fill=\"#e58139\" stroke=\"black\" d=\"M559,-298.5C559,-298.5 478,-298.5 478,-298.5 472,-298.5 466,-292.5 466,-286.5 466,-286.5 466,-242.5 466,-242.5 466,-236.5 472,-230.5 478,-230.5 478,-230.5 559,-230.5 559,-230.5 565,-230.5 571,-236.5 571,-242.5 571,-242.5 571,-286.5 571,-286.5 571,-292.5 565,-298.5 559,-298.5\"/>\r\n",
       "<text text-anchor=\"start\" x=\"489.5\" y=\"-283.3\" font-family=\"Helvetica,sans-Serif\" font-size=\"14.00\">gini = 0.0</text>\r\n",
       "<text text-anchor=\"start\" x=\"475\" y=\"-268.3\" font-family=\"Helvetica,sans-Serif\" font-size=\"14.00\">samples = 48</text>\r\n",
       "<text text-anchor=\"start\" x=\"474\" y=\"-253.3\" font-family=\"Helvetica,sans-Serif\" font-size=\"14.00\">value = [48, 0]</text>\r\n",
       "<text text-anchor=\"start\" x=\"485\" y=\"-238.3\" font-family=\"Helvetica,sans-Serif\" font-size=\"14.00\">class = No</text>\r\n",
       "</g>\r\n",
       "<!-- 11&#45;&gt;12 -->\r\n",
       "<g id=\"edge12\" class=\"edge\"><title>11&#45;&gt;12</title>\r\n",
       "<path fill=\"none\" stroke=\"black\" d=\"M596.214,-341.907C584.317,-330.211 571.345,-317.457 559.468,-305.78\"/>\r\n",
       "<polygon fill=\"black\" stroke=\"black\" points=\"561.818,-303.182 552.234,-298.667 556.911,-308.174 561.818,-303.182\"/>\r\n",
       "</g>\r\n",
       "<!-- 13 -->\r\n",
       "<g id=\"node14\" class=\"node\"><title>13</title>\r\n",
       "<path fill=\"#e58139\" fill-opacity=\"0.749020\" stroke=\"black\" d=\"M674,-298.5C674,-298.5 601,-298.5 601,-298.5 595,-298.5 589,-292.5 589,-286.5 589,-286.5 589,-242.5 589,-242.5 589,-236.5 595,-230.5 601,-230.5 601,-230.5 674,-230.5 674,-230.5 680,-230.5 686,-236.5 686,-242.5 686,-242.5 686,-286.5 686,-286.5 686,-292.5 680,-298.5 674,-298.5\"/>\r\n",
       "<text text-anchor=\"start\" x=\"604\" y=\"-283.3\" font-family=\"Helvetica,sans-Serif\" font-size=\"14.00\">gini = 0.32</text>\r\n",
       "<text text-anchor=\"start\" x=\"598\" y=\"-268.3\" font-family=\"Helvetica,sans-Serif\" font-size=\"14.00\">samples = 5</text>\r\n",
       "<text text-anchor=\"start\" x=\"597\" y=\"-253.3\" font-family=\"Helvetica,sans-Serif\" font-size=\"14.00\">value = [4, 1]</text>\r\n",
       "<text text-anchor=\"start\" x=\"604\" y=\"-238.3\" font-family=\"Helvetica,sans-Serif\" font-size=\"14.00\">class = No</text>\r\n",
       "</g>\r\n",
       "<!-- 11&#45;&gt;13 -->\r\n",
       "<g id=\"edge13\" class=\"edge\"><title>11&#45;&gt;13</title>\r\n",
       "<path fill=\"none\" stroke=\"black\" d=\"M637.5,-341.907C637.5,-331.204 637.5,-319.615 637.5,-308.776\"/>\r\n",
       "<polygon fill=\"black\" stroke=\"black\" points=\"641,-308.667 637.5,-298.667 634,-308.667 641,-308.667\"/>\r\n",
       "</g>\r\n",
       "<!-- 15 -->\r\n",
       "<g id=\"node16\" class=\"node\"><title>15</title>\r\n",
       "<path fill=\"#399de5\" fill-opacity=\"0.176471\" stroke=\"black\" d=\"M888,-425C888,-425 799,-425 799,-425 793,-425 787,-419 787,-413 787,-413 787,-354 787,-354 787,-348 793,-342 799,-342 799,-342 888,-342 888,-342 894,-342 900,-348 900,-354 900,-354 900,-413 900,-413 900,-419 894,-425 888,-425\"/>\r\n",
       "<text text-anchor=\"start\" x=\"797.5\" y=\"-409.8\" font-family=\"Helvetica,sans-Serif\" font-size=\"14.00\">Income ≤ 34.5</text>\r\n",
       "<text text-anchor=\"start\" x=\"806\" y=\"-394.8\" font-family=\"Helvetica,sans-Serif\" font-size=\"14.00\">gini = 0.495</text>\r\n",
       "<text text-anchor=\"start\" x=\"796\" y=\"-379.8\" font-family=\"Helvetica,sans-Serif\" font-size=\"14.00\">samples = 113</text>\r\n",
       "<text text-anchor=\"start\" x=\"795\" y=\"-364.8\" font-family=\"Helvetica,sans-Serif\" font-size=\"14.00\">value = [51, 62]</text>\r\n",
       "<text text-anchor=\"start\" x=\"806.5\" y=\"-349.8\" font-family=\"Helvetica,sans-Serif\" font-size=\"14.00\">class = Yes</text>\r\n",
       "</g>\r\n",
       "<!-- 14&#45;&gt;15 -->\r\n",
       "<g id=\"edge15\" class=\"edge\"><title>14&#45;&gt;15</title>\r\n",
       "<path fill=\"none\" stroke=\"black\" d=\"M843.5,-460.907C843.5,-452.649 843.5,-443.864 843.5,-435.302\"/>\r\n",
       "<polygon fill=\"black\" stroke=\"black\" points=\"847,-435.021 843.5,-425.021 840,-435.021 847,-435.021\"/>\r\n",
       "</g>\r\n",
       "<!-- 28 -->\r\n",
       "<g id=\"node29\" class=\"node\"><title>28</title>\r\n",
       "<path fill=\"#e58139\" fill-opacity=\"0.776471\" stroke=\"black\" d=\"M1309.5,-425C1309.5,-425 1211.5,-425 1211.5,-425 1205.5,-425 1199.5,-419 1199.5,-413 1199.5,-413 1199.5,-354 1199.5,-354 1199.5,-348 1205.5,-342 1211.5,-342 1211.5,-342 1309.5,-342 1309.5,-342 1315.5,-342 1321.5,-348 1321.5,-354 1321.5,-354 1321.5,-413 1321.5,-413 1321.5,-419 1315.5,-425 1309.5,-425\"/>\r\n",
       "<text text-anchor=\"start\" x=\"1207.5\" y=\"-409.8\" font-family=\"Helvetica,sans-Serif\" font-size=\"14.00\">Advertising ≤ 8.5</text>\r\n",
       "<text text-anchor=\"start\" x=\"1223\" y=\"-394.8\" font-family=\"Helvetica,sans-Serif\" font-size=\"14.00\">gini = 0.299</text>\r\n",
       "<text text-anchor=\"start\" x=\"1217\" y=\"-379.8\" font-family=\"Helvetica,sans-Serif\" font-size=\"14.00\">samples = 71</text>\r\n",
       "<text text-anchor=\"start\" x=\"1212\" y=\"-364.8\" font-family=\"Helvetica,sans-Serif\" font-size=\"14.00\">value = [58, 13]</text>\r\n",
       "<text text-anchor=\"start\" x=\"1227\" y=\"-349.8\" font-family=\"Helvetica,sans-Serif\" font-size=\"14.00\">class = No</text>\r\n",
       "</g>\r\n",
       "<!-- 14&#45;&gt;28 -->\r\n",
       "<g id=\"edge28\" class=\"edge\"><title>14&#45;&gt;28</title>\r\n",
       "<path fill=\"none\" stroke=\"black\" d=\"M904.582,-484.362C980.295,-463.119 1109.11,-426.977 1189.25,-404.492\"/>\r\n",
       "<polygon fill=\"black\" stroke=\"black\" points=\"1190.57,-407.755 1199.25,-401.684 1188.68,-401.016 1190.57,-407.755\"/>\r\n",
       "</g>\r\n",
       "<!-- 16 -->\r\n",
       "<g id=\"node17\" class=\"node\"><title>16</title>\r\n",
       "<path fill=\"#e58139\" fill-opacity=\"0.800000\" stroke=\"black\" d=\"M827,-306C827,-306 716,-306 716,-306 710,-306 704,-300 704,-294 704,-294 704,-235 704,-235 704,-229 710,-223 716,-223 716,-223 827,-223 827,-223 833,-223 839,-229 839,-235 839,-235 839,-294 839,-294 839,-300 833,-306 827,-306\"/>\r\n",
       "<text text-anchor=\"start\" x=\"712\" y=\"-290.8\" font-family=\"Helvetica,sans-Serif\" font-size=\"14.00\">Population ≤ 379.5</text>\r\n",
       "<text text-anchor=\"start\" x=\"734\" y=\"-275.8\" font-family=\"Helvetica,sans-Serif\" font-size=\"14.00\">gini = 0.278</text>\r\n",
       "<text text-anchor=\"start\" x=\"728\" y=\"-260.8\" font-family=\"Helvetica,sans-Serif\" font-size=\"14.00\">samples = 24</text>\r\n",
       "<text text-anchor=\"start\" x=\"727\" y=\"-245.8\" font-family=\"Helvetica,sans-Serif\" font-size=\"14.00\">value = [20, 4]</text>\r\n",
       "<text text-anchor=\"start\" x=\"738\" y=\"-230.8\" font-family=\"Helvetica,sans-Serif\" font-size=\"14.00\">class = No</text>\r\n",
       "</g>\r\n",
       "<!-- 15&#45;&gt;16 -->\r\n",
       "<g id=\"edge16\" class=\"edge\"><title>15&#45;&gt;16</title>\r\n",
       "<path fill=\"none\" stroke=\"black\" d=\"M818.52,-341.907C813.103,-333.105 807.317,-323.703 801.723,-314.612\"/>\r\n",
       "<polygon fill=\"black\" stroke=\"black\" points=\"804.658,-312.703 796.436,-306.021 798.696,-316.372 804.658,-312.703\"/>\r\n",
       "</g>\r\n",
       "<!-- 21 -->\r\n",
       "<g id=\"node22\" class=\"node\"><title>21</title>\r\n",
       "<path fill=\"#399de5\" fill-opacity=\"0.466667\" stroke=\"black\" d=\"M964,-306C964,-306 869,-306 869,-306 863,-306 857,-300 857,-294 857,-294 857,-235 857,-235 857,-229 863,-223 869,-223 869,-223 964,-223 964,-223 970,-223 976,-229 976,-235 976,-235 976,-294 976,-294 976,-300 970,-306 964,-306\"/>\r\n",
       "<text text-anchor=\"start\" x=\"865\" y=\"-290.8\" font-family=\"Helvetica,sans-Serif\" font-size=\"14.00\">ShelveLoc ≤ 1.5</text>\r\n",
       "<text text-anchor=\"start\" x=\"879\" y=\"-275.8\" font-family=\"Helvetica,sans-Serif\" font-size=\"14.00\">gini = 0.454</text>\r\n",
       "<text text-anchor=\"start\" x=\"873\" y=\"-260.8\" font-family=\"Helvetica,sans-Serif\" font-size=\"14.00\">samples = 89</text>\r\n",
       "<text text-anchor=\"start\" x=\"868\" y=\"-245.8\" font-family=\"Helvetica,sans-Serif\" font-size=\"14.00\">value = [31, 58]</text>\r\n",
       "<text text-anchor=\"start\" x=\"879.5\" y=\"-230.8\" font-family=\"Helvetica,sans-Serif\" font-size=\"14.00\">class = Yes</text>\r\n",
       "</g>\r\n",
       "<!-- 15&#45;&gt;21 -->\r\n",
       "<g id=\"edge21\" class=\"edge\"><title>15&#45;&gt;21</title>\r\n",
       "<path fill=\"none\" stroke=\"black\" d=\"M868.827,-341.907C874.319,-333.105 880.185,-323.703 885.857,-314.612\"/>\r\n",
       "<polygon fill=\"black\" stroke=\"black\" points=\"888.894,-316.358 891.218,-306.021 882.955,-312.652 888.894,-316.358\"/>\r\n",
       "</g>\r\n",
       "<!-- 17 -->\r\n",
       "<g id=\"node18\" class=\"node\"><title>17</title>\r\n",
       "<path fill=\"#e58139\" fill-opacity=\"0.941176\" stroke=\"black\" d=\"M693,-187C693,-187 612,-187 612,-187 606,-187 600,-181 600,-175 600,-175 600,-116 600,-116 600,-110 606,-104 612,-104 612,-104 693,-104 693,-104 699,-104 705,-110 705,-116 705,-116 705,-175 705,-175 705,-181 699,-187 693,-187\"/>\r\n",
       "<text text-anchor=\"start\" x=\"617.5\" y=\"-171.8\" font-family=\"Helvetica,sans-Serif\" font-size=\"14.00\">Age ≤ 56.5</text>\r\n",
       "<text text-anchor=\"start\" x=\"615\" y=\"-156.8\" font-family=\"Helvetica,sans-Serif\" font-size=\"14.00\">gini = 0.105</text>\r\n",
       "<text text-anchor=\"start\" x=\"609\" y=\"-141.8\" font-family=\"Helvetica,sans-Serif\" font-size=\"14.00\">samples = 18</text>\r\n",
       "<text text-anchor=\"start\" x=\"608\" y=\"-126.8\" font-family=\"Helvetica,sans-Serif\" font-size=\"14.00\">value = [17, 1]</text>\r\n",
       "<text text-anchor=\"start\" x=\"619\" y=\"-111.8\" font-family=\"Helvetica,sans-Serif\" font-size=\"14.00\">class = No</text>\r\n",
       "</g>\r\n",
       "<!-- 16&#45;&gt;17 -->\r\n",
       "<g id=\"edge17\" class=\"edge\"><title>16&#45;&gt;17</title>\r\n",
       "<path fill=\"none\" stroke=\"black\" d=\"M730.214,-222.907C720.799,-213.651 710.711,-203.732 701.024,-194.209\"/>\r\n",
       "<polygon fill=\"black\" stroke=\"black\" points=\"703.298,-191.536 693.713,-187.021 698.39,-196.527 703.298,-191.536\"/>\r\n",
       "</g>\r\n",
       "<!-- 20 -->\r\n",
       "<g id=\"node21\" class=\"node\"><title>20</title>\r\n",
       "<path fill=\"none\" stroke=\"black\" d=\"M808,-179.5C808,-179.5 735,-179.5 735,-179.5 729,-179.5 723,-173.5 723,-167.5 723,-167.5 723,-123.5 723,-123.5 723,-117.5 729,-111.5 735,-111.5 735,-111.5 808,-111.5 808,-111.5 814,-111.5 820,-117.5 820,-123.5 820,-123.5 820,-167.5 820,-167.5 820,-173.5 814,-179.5 808,-179.5\"/>\r\n",
       "<text text-anchor=\"start\" x=\"742.5\" y=\"-164.3\" font-family=\"Helvetica,sans-Serif\" font-size=\"14.00\">gini = 0.5</text>\r\n",
       "<text text-anchor=\"start\" x=\"732\" y=\"-149.3\" font-family=\"Helvetica,sans-Serif\" font-size=\"14.00\">samples = 6</text>\r\n",
       "<text text-anchor=\"start\" x=\"731\" y=\"-134.3\" font-family=\"Helvetica,sans-Serif\" font-size=\"14.00\">value = [3, 3]</text>\r\n",
       "<text text-anchor=\"start\" x=\"738\" y=\"-119.3\" font-family=\"Helvetica,sans-Serif\" font-size=\"14.00\">class = No</text>\r\n",
       "</g>\r\n",
       "<!-- 16&#45;&gt;20 -->\r\n",
       "<g id=\"edge20\" class=\"edge\"><title>16&#45;&gt;20</title>\r\n",
       "<path fill=\"none\" stroke=\"black\" d=\"M771.5,-222.907C771.5,-212.204 771.5,-200.615 771.5,-189.776\"/>\r\n",
       "<polygon fill=\"black\" stroke=\"black\" points=\"775,-189.667 771.5,-179.667 768,-189.667 775,-189.667\"/>\r\n",
       "</g>\r\n",
       "<!-- 18 -->\r\n",
       "<g id=\"node19\" class=\"node\"><title>18</title>\r\n",
       "<path fill=\"#e58139\" stroke=\"black\" d=\"M576,-68C576,-68 495,-68 495,-68 489,-68 483,-62 483,-56 483,-56 483,-12 483,-12 483,-6 489,-0 495,-0 495,-0 576,-0 576,-0 582,-0 588,-6 588,-12 588,-12 588,-56 588,-56 588,-62 582,-68 576,-68\"/>\r\n",
       "<text text-anchor=\"start\" x=\"506.5\" y=\"-52.8\" font-family=\"Helvetica,sans-Serif\" font-size=\"14.00\">gini = 0.0</text>\r\n",
       "<text text-anchor=\"start\" x=\"492\" y=\"-37.8\" font-family=\"Helvetica,sans-Serif\" font-size=\"14.00\">samples = 13</text>\r\n",
       "<text text-anchor=\"start\" x=\"491\" y=\"-22.8\" font-family=\"Helvetica,sans-Serif\" font-size=\"14.00\">value = [13, 0]</text>\r\n",
       "<text text-anchor=\"start\" x=\"502\" y=\"-7.8\" font-family=\"Helvetica,sans-Serif\" font-size=\"14.00\">class = No</text>\r\n",
       "</g>\r\n",
       "<!-- 17&#45;&gt;18 -->\r\n",
       "<g id=\"edge18\" class=\"edge\"><title>17&#45;&gt;18</title>\r\n",
       "<path fill=\"none\" stroke=\"black\" d=\"M608.934,-103.726C598.993,-94.423 588.436,-84.5428 578.519,-75.2612\"/>\r\n",
       "<polygon fill=\"black\" stroke=\"black\" points=\"580.773,-72.5774 571.08,-68.2996 575.99,-77.6882 580.773,-72.5774\"/>\r\n",
       "</g>\r\n",
       "<!-- 19 -->\r\n",
       "<g id=\"node20\" class=\"node\"><title>19</title>\r\n",
       "<path fill=\"#e58139\" fill-opacity=\"0.749020\" stroke=\"black\" d=\"M691,-68C691,-68 618,-68 618,-68 612,-68 606,-62 606,-56 606,-56 606,-12 606,-12 606,-6 612,-0 618,-0 618,-0 691,-0 691,-0 697,-0 703,-6 703,-12 703,-12 703,-56 703,-56 703,-62 697,-68 691,-68\"/>\r\n",
       "<text text-anchor=\"start\" x=\"621\" y=\"-52.8\" font-family=\"Helvetica,sans-Serif\" font-size=\"14.00\">gini = 0.32</text>\r\n",
       "<text text-anchor=\"start\" x=\"615\" y=\"-37.8\" font-family=\"Helvetica,sans-Serif\" font-size=\"14.00\">samples = 5</text>\r\n",
       "<text text-anchor=\"start\" x=\"614\" y=\"-22.8\" font-family=\"Helvetica,sans-Serif\" font-size=\"14.00\">value = [4, 1]</text>\r\n",
       "<text text-anchor=\"start\" x=\"621\" y=\"-7.8\" font-family=\"Helvetica,sans-Serif\" font-size=\"14.00\">class = No</text>\r\n",
       "</g>\r\n",
       "<!-- 17&#45;&gt;19 -->\r\n",
       "<g id=\"edge19\" class=\"edge\"><title>17&#45;&gt;19</title>\r\n",
       "<path fill=\"none\" stroke=\"black\" d=\"M653.245,-103.726C653.395,-95.5175 653.553,-86.8595 653.704,-78.56\"/>\r\n",
       "<polygon fill=\"black\" stroke=\"black\" points=\"657.208,-78.3619 653.892,-68.2996 650.21,-78.234 657.208,-78.3619\"/>\r\n",
       "</g>\r\n",
       "<!-- 22 -->\r\n",
       "<g id=\"node23\" class=\"node\"><title>22</title>\r\n",
       "<path fill=\"#399de5\" fill-opacity=\"0.960784\" stroke=\"black\" d=\"M931,-187C931,-187 850,-187 850,-187 844,-187 838,-181 838,-175 838,-175 838,-116 838,-116 838,-110 844,-104 850,-104 850,-104 931,-104 931,-104 937,-104 943,-110 943,-116 943,-116 943,-175 943,-175 943,-181 937,-187 931,-187\"/>\r\n",
       "<text text-anchor=\"start\" x=\"855.5\" y=\"-171.8\" font-family=\"Helvetica,sans-Serif\" font-size=\"14.00\">Age ≤ 30.5</text>\r\n",
       "<text text-anchor=\"start\" x=\"853\" y=\"-156.8\" font-family=\"Helvetica,sans-Serif\" font-size=\"14.00\">gini = 0.074</text>\r\n",
       "<text text-anchor=\"start\" x=\"847\" y=\"-141.8\" font-family=\"Helvetica,sans-Serif\" font-size=\"14.00\">samples = 26</text>\r\n",
       "<text text-anchor=\"start\" x=\"846\" y=\"-126.8\" font-family=\"Helvetica,sans-Serif\" font-size=\"14.00\">value = [1, 25]</text>\r\n",
       "<text text-anchor=\"start\" x=\"853.5\" y=\"-111.8\" font-family=\"Helvetica,sans-Serif\" font-size=\"14.00\">class = Yes</text>\r\n",
       "</g>\r\n",
       "<!-- 21&#45;&gt;22 -->\r\n",
       "<g id=\"edge22\" class=\"edge\"><title>21&#45;&gt;22</title>\r\n",
       "<path fill=\"none\" stroke=\"black\" d=\"M907.479,-222.907C905.624,-214.558 903.649,-205.671 901.727,-197.02\"/>\r\n",
       "<polygon fill=\"black\" stroke=\"black\" points=\"905.091,-196.023 899.505,-187.021 898.257,-197.542 905.091,-196.023\"/>\r\n",
       "</g>\r\n",
       "<!-- 25 -->\r\n",
       "<g id=\"node26\" class=\"node\"><title>25</title>\r\n",
       "<path fill=\"#399de5\" fill-opacity=\"0.090196\" stroke=\"black\" d=\"M1062,-187C1062,-187 973,-187 973,-187 967,-187 961,-181 961,-175 961,-175 961,-116 961,-116 961,-110 967,-104 973,-104 973,-104 1062,-104 1062,-104 1068,-104 1074,-110 1074,-116 1074,-116 1074,-175 1074,-175 1074,-181 1068,-187 1062,-187\"/>\r\n",
       "<text text-anchor=\"start\" x=\"975\" y=\"-171.8\" font-family=\"Helvetica,sans-Serif\" font-size=\"14.00\">Price ≤ 109.5</text>\r\n",
       "<text text-anchor=\"start\" x=\"980\" y=\"-156.8\" font-family=\"Helvetica,sans-Serif\" font-size=\"14.00\">gini = 0.499</text>\r\n",
       "<text text-anchor=\"start\" x=\"974\" y=\"-141.8\" font-family=\"Helvetica,sans-Serif\" font-size=\"14.00\">samples = 63</text>\r\n",
       "<text text-anchor=\"start\" x=\"969\" y=\"-126.8\" font-family=\"Helvetica,sans-Serif\" font-size=\"14.00\">value = [30, 33]</text>\r\n",
       "<text text-anchor=\"start\" x=\"980.5\" y=\"-111.8\" font-family=\"Helvetica,sans-Serif\" font-size=\"14.00\">class = Yes</text>\r\n",
       "</g>\r\n",
       "<!-- 21&#45;&gt;25 -->\r\n",
       "<g id=\"edge25\" class=\"edge\"><title>21&#45;&gt;25</title>\r\n",
       "<path fill=\"none\" stroke=\"black\" d=\"M951.541,-222.907C959.376,-213.832 967.759,-204.121 975.831,-194.769\"/>\r\n",
       "<polygon fill=\"black\" stroke=\"black\" points=\"978.635,-196.878 982.52,-187.021 973.337,-192.303 978.635,-196.878\"/>\r\n",
       "</g>\r\n",
       "<!-- 23 -->\r\n",
       "<g id=\"node24\" class=\"node\"><title>23</title>\r\n",
       "<path fill=\"#399de5\" fill-opacity=\"0.749020\" stroke=\"black\" d=\"M808,-68C808,-68 735,-68 735,-68 729,-68 723,-62 723,-56 723,-56 723,-12 723,-12 723,-6 729,-0 735,-0 735,-0 808,-0 808,-0 814,-0 820,-6 820,-12 820,-12 820,-56 820,-56 820,-62 814,-68 808,-68\"/>\r\n",
       "<text text-anchor=\"start\" x=\"738\" y=\"-52.8\" font-family=\"Helvetica,sans-Serif\" font-size=\"14.00\">gini = 0.32</text>\r\n",
       "<text text-anchor=\"start\" x=\"732\" y=\"-37.8\" font-family=\"Helvetica,sans-Serif\" font-size=\"14.00\">samples = 5</text>\r\n",
       "<text text-anchor=\"start\" x=\"731\" y=\"-22.8\" font-family=\"Helvetica,sans-Serif\" font-size=\"14.00\">value = [1, 4]</text>\r\n",
       "<text text-anchor=\"start\" x=\"734.5\" y=\"-7.8\" font-family=\"Helvetica,sans-Serif\" font-size=\"14.00\">class = Yes</text>\r\n",
       "</g>\r\n",
       "<!-- 22&#45;&gt;23 -->\r\n",
       "<g id=\"edge23\" class=\"edge\"><title>22&#45;&gt;23</title>\r\n",
       "<path fill=\"none\" stroke=\"black\" d=\"M846.189,-103.726C836.078,-94.423 825.341,-84.5428 815.254,-75.2612\"/>\r\n",
       "<polygon fill=\"black\" stroke=\"black\" points=\"817.417,-72.4953 807.689,-68.2996 812.677,-77.6464 817.417,-72.4953\"/>\r\n",
       "</g>\r\n",
       "<!-- 24 -->\r\n",
       "<g id=\"node25\" class=\"node\"><title>24</title>\r\n",
       "<path fill=\"#399de5\" stroke=\"black\" d=\"M931,-68C931,-68 850,-68 850,-68 844,-68 838,-62 838,-56 838,-56 838,-12 838,-12 838,-6 844,-0 850,-0 850,-0 931,-0 931,-0 937,-0 943,-6 943,-12 943,-12 943,-56 943,-56 943,-62 937,-68 931,-68\"/>\r\n",
       "<text text-anchor=\"start\" x=\"861.5\" y=\"-52.8\" font-family=\"Helvetica,sans-Serif\" font-size=\"14.00\">gini = 0.0</text>\r\n",
       "<text text-anchor=\"start\" x=\"847\" y=\"-37.8\" font-family=\"Helvetica,sans-Serif\" font-size=\"14.00\">samples = 21</text>\r\n",
       "<text text-anchor=\"start\" x=\"846\" y=\"-22.8\" font-family=\"Helvetica,sans-Serif\" font-size=\"14.00\">value = [0, 21]</text>\r\n",
       "<text text-anchor=\"start\" x=\"853.5\" y=\"-7.8\" font-family=\"Helvetica,sans-Serif\" font-size=\"14.00\">class = Yes</text>\r\n",
       "</g>\r\n",
       "<!-- 22&#45;&gt;24 -->\r\n",
       "<g id=\"edge24\" class=\"edge\"><title>22&#45;&gt;24</title>\r\n",
       "<path fill=\"none\" stroke=\"black\" d=\"M890.5,-103.726C890.5,-95.5175 890.5,-86.8595 890.5,-78.56\"/>\r\n",
       "<polygon fill=\"black\" stroke=\"black\" points=\"894,-78.2996 890.5,-68.2996 887,-78.2996 894,-78.2996\"/>\r\n",
       "</g>\r\n",
       "<!-- 26 -->\r\n",
       "<g id=\"node27\" class=\"node\"><title>26</title>\r\n",
       "<path fill=\"#399de5\" fill-opacity=\"0.874510\" stroke=\"black\" d=\"M1054,-68C1054,-68 973,-68 973,-68 967,-68 961,-62 961,-56 961,-56 961,-12 961,-12 961,-6 967,-0 973,-0 973,-0 1054,-0 1054,-0 1060,-0 1066,-6 1066,-12 1066,-12 1066,-56 1066,-56 1066,-62 1060,-68 1054,-68\"/>\r\n",
       "<text text-anchor=\"start\" x=\"976\" y=\"-52.8\" font-family=\"Helvetica,sans-Serif\" font-size=\"14.00\">gini = 0.198</text>\r\n",
       "<text text-anchor=\"start\" x=\"970\" y=\"-37.8\" font-family=\"Helvetica,sans-Serif\" font-size=\"14.00\">samples = 18</text>\r\n",
       "<text text-anchor=\"start\" x=\"969\" y=\"-22.8\" font-family=\"Helvetica,sans-Serif\" font-size=\"14.00\">value = [2, 16]</text>\r\n",
       "<text text-anchor=\"start\" x=\"976.5\" y=\"-7.8\" font-family=\"Helvetica,sans-Serif\" font-size=\"14.00\">class = Yes</text>\r\n",
       "</g>\r\n",
       "<!-- 25&#45;&gt;26 -->\r\n",
       "<g id=\"edge26\" class=\"edge\"><title>25&#45;&gt;26</title>\r\n",
       "<path fill=\"none\" stroke=\"black\" d=\"M1016.01,-103.726C1015.71,-95.5175 1015.39,-86.8595 1015.09,-78.56\"/>\r\n",
       "<polygon fill=\"black\" stroke=\"black\" points=\"1018.58,-78.1651 1014.72,-68.2996 1011.58,-78.4207 1018.58,-78.1651\"/>\r\n",
       "</g>\r\n",
       "<!-- 27 -->\r\n",
       "<g id=\"node28\" class=\"node\"><title>27</title>\r\n",
       "<path fill=\"#e58139\" fill-opacity=\"0.392157\" stroke=\"black\" d=\"M1185,-68C1185,-68 1096,-68 1096,-68 1090,-68 1084,-62 1084,-56 1084,-56 1084,-12 1084,-12 1084,-6 1090,-0 1096,-0 1096,-0 1185,-0 1185,-0 1191,-0 1197,-6 1197,-12 1197,-12 1197,-56 1197,-56 1197,-62 1191,-68 1185,-68\"/>\r\n",
       "<text text-anchor=\"start\" x=\"1107\" y=\"-52.8\" font-family=\"Helvetica,sans-Serif\" font-size=\"14.00\">gini = 0.47</text>\r\n",
       "<text text-anchor=\"start\" x=\"1097\" y=\"-37.8\" font-family=\"Helvetica,sans-Serif\" font-size=\"14.00\">samples = 45</text>\r\n",
       "<text text-anchor=\"start\" x=\"1092\" y=\"-22.8\" font-family=\"Helvetica,sans-Serif\" font-size=\"14.00\">value = [28, 17]</text>\r\n",
       "<text text-anchor=\"start\" x=\"1107\" y=\"-7.8\" font-family=\"Helvetica,sans-Serif\" font-size=\"14.00\">class = No</text>\r\n",
       "</g>\r\n",
       "<!-- 25&#45;&gt;27 -->\r\n",
       "<g id=\"edge27\" class=\"edge\"><title>25&#45;&gt;27</title>\r\n",
       "<path fill=\"none\" stroke=\"black\" d=\"M1063.3,-103.726C1073.85,-94.3318 1085.07,-84.349 1095.58,-74.9883\"/>\r\n",
       "<polygon fill=\"black\" stroke=\"black\" points=\"1097.95,-77.5631 1103.09,-68.2996 1093.3,-72.3347 1097.95,-77.5631\"/>\r\n",
       "</g>\r\n",
       "<!-- 29 -->\r\n",
       "<g id=\"node30\" class=\"node\"><title>29</title>\r\n",
       "<path fill=\"#e58139\" fill-opacity=\"0.933333\" stroke=\"black\" d=\"M1318.5,-306C1318.5,-306 1202.5,-306 1202.5,-306 1196.5,-306 1190.5,-300 1190.5,-294 1190.5,-294 1190.5,-235 1190.5,-235 1190.5,-229 1196.5,-223 1202.5,-223 1202.5,-223 1318.5,-223 1318.5,-223 1324.5,-223 1330.5,-229 1330.5,-235 1330.5,-235 1330.5,-294 1330.5,-294 1330.5,-300 1324.5,-306 1318.5,-306\"/>\r\n",
       "<text text-anchor=\"start\" x=\"1198.5\" y=\"-290.8\" font-family=\"Helvetica,sans-Serif\" font-size=\"14.00\">CompPrice ≤ 128.5</text>\r\n",
       "<text text-anchor=\"start\" x=\"1227\" y=\"-275.8\" font-family=\"Helvetica,sans-Serif\" font-size=\"14.00\">gini = 0.12</text>\r\n",
       "<text text-anchor=\"start\" x=\"1217\" y=\"-260.8\" font-family=\"Helvetica,sans-Serif\" font-size=\"14.00\">samples = 47</text>\r\n",
       "<text text-anchor=\"start\" x=\"1216\" y=\"-245.8\" font-family=\"Helvetica,sans-Serif\" font-size=\"14.00\">value = [44, 3]</text>\r\n",
       "<text text-anchor=\"start\" x=\"1227\" y=\"-230.8\" font-family=\"Helvetica,sans-Serif\" font-size=\"14.00\">class = No</text>\r\n",
       "</g>\r\n",
       "<!-- 28&#45;&gt;29 -->\r\n",
       "<g id=\"edge29\" class=\"edge\"><title>28&#45;&gt;29</title>\r\n",
       "<path fill=\"none\" stroke=\"black\" d=\"M1260.5,-341.907C1260.5,-333.649 1260.5,-324.864 1260.5,-316.302\"/>\r\n",
       "<polygon fill=\"black\" stroke=\"black\" points=\"1264,-316.021 1260.5,-306.021 1257,-316.021 1264,-316.021\"/>\r\n",
       "</g>\r\n",
       "<!-- 34 -->\r\n",
       "<g id=\"node35\" class=\"node\"><title>34</title>\r\n",
       "<path fill=\"#e58139\" fill-opacity=\"0.286275\" stroke=\"black\" d=\"M1611,-306C1611,-306 1500,-306 1500,-306 1494,-306 1488,-300 1488,-294 1488,-294 1488,-235 1488,-235 1488,-229 1494,-223 1500,-223 1500,-223 1611,-223 1611,-223 1617,-223 1623,-229 1623,-235 1623,-235 1623,-294 1623,-294 1623,-300 1617,-306 1611,-306\"/>\r\n",
       "<text text-anchor=\"start\" x=\"1496\" y=\"-290.8\" font-family=\"Helvetica,sans-Serif\" font-size=\"14.00\">Population ≤ 355.0</text>\r\n",
       "<text text-anchor=\"start\" x=\"1518\" y=\"-275.8\" font-family=\"Helvetica,sans-Serif\" font-size=\"14.00\">gini = 0.486</text>\r\n",
       "<text text-anchor=\"start\" x=\"1512\" y=\"-260.8\" font-family=\"Helvetica,sans-Serif\" font-size=\"14.00\">samples = 24</text>\r\n",
       "<text text-anchor=\"start\" x=\"1507\" y=\"-245.8\" font-family=\"Helvetica,sans-Serif\" font-size=\"14.00\">value = [14, 10]</text>\r\n",
       "<text text-anchor=\"start\" x=\"1522\" y=\"-230.8\" font-family=\"Helvetica,sans-Serif\" font-size=\"14.00\">class = No</text>\r\n",
       "</g>\r\n",
       "<!-- 28&#45;&gt;34 -->\r\n",
       "<g id=\"edge34\" class=\"edge\"><title>28&#45;&gt;34</title>\r\n",
       "<path fill=\"none\" stroke=\"black\" d=\"M1321.62,-358.258C1367.03,-340.248 1429.3,-315.551 1478.17,-296.168\"/>\r\n",
       "<polygon fill=\"black\" stroke=\"black\" points=\"1479.76,-299.306 1487.76,-292.366 1477.17,-292.8 1479.76,-299.306\"/>\r\n",
       "</g>\r\n",
       "<!-- 30 -->\r\n",
       "<g id=\"node31\" class=\"node\"><title>30</title>\r\n",
       "<path fill=\"#e58139\" stroke=\"black\" d=\"M1240,-179.5C1240,-179.5 1159,-179.5 1159,-179.5 1153,-179.5 1147,-173.5 1147,-167.5 1147,-167.5 1147,-123.5 1147,-123.5 1147,-117.5 1153,-111.5 1159,-111.5 1159,-111.5 1240,-111.5 1240,-111.5 1246,-111.5 1252,-117.5 1252,-123.5 1252,-123.5 1252,-167.5 1252,-167.5 1252,-173.5 1246,-179.5 1240,-179.5\"/>\r\n",
       "<text text-anchor=\"start\" x=\"1170.5\" y=\"-164.3\" font-family=\"Helvetica,sans-Serif\" font-size=\"14.00\">gini = 0.0</text>\r\n",
       "<text text-anchor=\"start\" x=\"1156\" y=\"-149.3\" font-family=\"Helvetica,sans-Serif\" font-size=\"14.00\">samples = 28</text>\r\n",
       "<text text-anchor=\"start\" x=\"1155\" y=\"-134.3\" font-family=\"Helvetica,sans-Serif\" font-size=\"14.00\">value = [28, 0]</text>\r\n",
       "<text text-anchor=\"start\" x=\"1166\" y=\"-119.3\" font-family=\"Helvetica,sans-Serif\" font-size=\"14.00\">class = No</text>\r\n",
       "</g>\r\n",
       "<!-- 29&#45;&gt;30 -->\r\n",
       "<g id=\"edge30\" class=\"edge\"><title>29&#45;&gt;30</title>\r\n",
       "<path fill=\"none\" stroke=\"black\" d=\"M1239.34,-222.907C1233.58,-211.873 1227.34,-199.898 1221.54,-188.773\"/>\r\n",
       "<polygon fill=\"black\" stroke=\"black\" points=\"1224.52,-186.916 1216.79,-179.667 1218.31,-190.152 1224.52,-186.916\"/>\r\n",
       "</g>\r\n",
       "<!-- 31 -->\r\n",
       "<g id=\"node32\" class=\"node\"><title>31</title>\r\n",
       "<path fill=\"#e58139\" fill-opacity=\"0.811765\" stroke=\"black\" d=\"M1363,-187C1363,-187 1282,-187 1282,-187 1276,-187 1270,-181 1270,-175 1270,-175 1270,-116 1270,-116 1270,-110 1276,-104 1282,-104 1282,-104 1363,-104 1363,-104 1369,-104 1375,-110 1375,-116 1375,-116 1375,-175 1375,-175 1375,-181 1369,-187 1363,-187\"/>\r\n",
       "<text text-anchor=\"start\" x=\"1280\" y=\"-171.8\" font-family=\"Helvetica,sans-Serif\" font-size=\"14.00\">Price ≤ 130.5</text>\r\n",
       "<text text-anchor=\"start\" x=\"1285\" y=\"-156.8\" font-family=\"Helvetica,sans-Serif\" font-size=\"14.00\">gini = 0.266</text>\r\n",
       "<text text-anchor=\"start\" x=\"1279\" y=\"-141.8\" font-family=\"Helvetica,sans-Serif\" font-size=\"14.00\">samples = 19</text>\r\n",
       "<text text-anchor=\"start\" x=\"1278\" y=\"-126.8\" font-family=\"Helvetica,sans-Serif\" font-size=\"14.00\">value = [16, 3]</text>\r\n",
       "<text text-anchor=\"start\" x=\"1289\" y=\"-111.8\" font-family=\"Helvetica,sans-Serif\" font-size=\"14.00\">class = No</text>\r\n",
       "</g>\r\n",
       "<!-- 29&#45;&gt;31 -->\r\n",
       "<g id=\"edge31\" class=\"edge\"><title>29&#45;&gt;31</title>\r\n",
       "<path fill=\"none\" stroke=\"black\" d=\"M1282.01,-222.907C1286.63,-214.195 1291.55,-204.897 1296.33,-195.893\"/>\r\n",
       "<polygon fill=\"black\" stroke=\"black\" points=\"1299.44,-197.496 1301.03,-187.021 1293.25,-194.218 1299.44,-197.496\"/>\r\n",
       "</g>\r\n",
       "<!-- 32 -->\r\n",
       "<g id=\"node33\" class=\"node\"><title>32</title>\r\n",
       "<path fill=\"#e58139\" fill-opacity=\"0.498039\" stroke=\"black\" d=\"M1300,-68C1300,-68 1227,-68 1227,-68 1221,-68 1215,-62 1215,-56 1215,-56 1215,-12 1215,-12 1215,-6 1221,-0 1227,-0 1227,-0 1300,-0 1300,-0 1306,-0 1312,-6 1312,-12 1312,-12 1312,-56 1312,-56 1312,-62 1306,-68 1300,-68\"/>\r\n",
       "<text text-anchor=\"start\" x=\"1226\" y=\"-52.8\" font-family=\"Helvetica,sans-Serif\" font-size=\"14.00\">gini = 0.444</text>\r\n",
       "<text text-anchor=\"start\" x=\"1224\" y=\"-37.8\" font-family=\"Helvetica,sans-Serif\" font-size=\"14.00\">samples = 9</text>\r\n",
       "<text text-anchor=\"start\" x=\"1223\" y=\"-22.8\" font-family=\"Helvetica,sans-Serif\" font-size=\"14.00\">value = [6, 3]</text>\r\n",
       "<text text-anchor=\"start\" x=\"1230\" y=\"-7.8\" font-family=\"Helvetica,sans-Serif\" font-size=\"14.00\">class = No</text>\r\n",
       "</g>\r\n",
       "<!-- 31&#45;&gt;32 -->\r\n",
       "<g id=\"edge32\" class=\"edge\"><title>31&#45;&gt;32</title>\r\n",
       "<path fill=\"none\" stroke=\"black\" d=\"M1300.53,-103.726C1295.86,-95.0615 1290.92,-85.8962 1286.23,-77.1802\"/>\r\n",
       "<polygon fill=\"black\" stroke=\"black\" points=\"1289.27,-75.4428 1281.44,-68.2996 1283.1,-78.7632 1289.27,-75.4428\"/>\r\n",
       "</g>\r\n",
       "<!-- 33 -->\r\n",
       "<g id=\"node34\" class=\"node\"><title>33</title>\r\n",
       "<path fill=\"#e58139\" stroke=\"black\" d=\"M1423,-68C1423,-68 1342,-68 1342,-68 1336,-68 1330,-62 1330,-56 1330,-56 1330,-12 1330,-12 1330,-6 1336,-0 1342,-0 1342,-0 1423,-0 1423,-0 1429,-0 1435,-6 1435,-12 1435,-12 1435,-56 1435,-56 1435,-62 1429,-68 1423,-68\"/>\r\n",
       "<text text-anchor=\"start\" x=\"1353.5\" y=\"-52.8\" font-family=\"Helvetica,sans-Serif\" font-size=\"14.00\">gini = 0.0</text>\r\n",
       "<text text-anchor=\"start\" x=\"1339\" y=\"-37.8\" font-family=\"Helvetica,sans-Serif\" font-size=\"14.00\">samples = 10</text>\r\n",
       "<text text-anchor=\"start\" x=\"1338\" y=\"-22.8\" font-family=\"Helvetica,sans-Serif\" font-size=\"14.00\">value = [10, 0]</text>\r\n",
       "<text text-anchor=\"start\" x=\"1349\" y=\"-7.8\" font-family=\"Helvetica,sans-Serif\" font-size=\"14.00\">class = No</text>\r\n",
       "</g>\r\n",
       "<!-- 31&#45;&gt;33 -->\r\n",
       "<g id=\"edge33\" class=\"edge\"><title>31&#45;&gt;33</title>\r\n",
       "<path fill=\"none\" stroke=\"black\" d=\"M1344.84,-103.726C1349.59,-95.0615 1354.61,-85.8962 1359.39,-77.1802\"/>\r\n",
       "<polygon fill=\"black\" stroke=\"black\" points=\"1362.52,-78.7513 1364.25,-68.2996 1356.38,-75.3875 1362.52,-78.7513\"/>\r\n",
       "</g>\r\n",
       "<!-- 35 -->\r\n",
       "<g id=\"node36\" class=\"node\"><title>35</title>\r\n",
       "<path fill=\"#e58139\" fill-opacity=\"0.819608\" stroke=\"black\" d=\"M1596,-187C1596,-187 1515,-187 1515,-187 1509,-187 1503,-181 1503,-175 1503,-175 1503,-116 1503,-116 1503,-110 1509,-104 1515,-104 1515,-104 1596,-104 1596,-104 1602,-104 1608,-110 1608,-116 1608,-116 1608,-175 1608,-175 1608,-181 1602,-187 1596,-187\"/>\r\n",
       "<text text-anchor=\"start\" x=\"1520.5\" y=\"-171.8\" font-family=\"Helvetica,sans-Serif\" font-size=\"14.00\">Age ≤ 63.5</text>\r\n",
       "<text text-anchor=\"start\" x=\"1522\" y=\"-156.8\" font-family=\"Helvetica,sans-Serif\" font-size=\"14.00\">gini = 0.26</text>\r\n",
       "<text text-anchor=\"start\" x=\"1512\" y=\"-141.8\" font-family=\"Helvetica,sans-Serif\" font-size=\"14.00\">samples = 13</text>\r\n",
       "<text text-anchor=\"start\" x=\"1511\" y=\"-126.8\" font-family=\"Helvetica,sans-Serif\" font-size=\"14.00\">value = [11, 2]</text>\r\n",
       "<text text-anchor=\"start\" x=\"1522\" y=\"-111.8\" font-family=\"Helvetica,sans-Serif\" font-size=\"14.00\">class = No</text>\r\n",
       "</g>\r\n",
       "<!-- 34&#45;&gt;35 -->\r\n",
       "<g id=\"edge35\" class=\"edge\"><title>34&#45;&gt;35</title>\r\n",
       "<path fill=\"none\" stroke=\"black\" d=\"M1555.5,-222.907C1555.5,-214.649 1555.5,-205.864 1555.5,-197.302\"/>\r\n",
       "<polygon fill=\"black\" stroke=\"black\" points=\"1559,-197.021 1555.5,-187.021 1552,-197.021 1559,-197.021\"/>\r\n",
       "</g>\r\n",
       "<!-- 38 -->\r\n",
       "<g id=\"node39\" class=\"node\"><title>38</title>\r\n",
       "<path fill=\"#399de5\" fill-opacity=\"0.623529\" stroke=\"black\" d=\"M1771,-187C1771,-187 1692,-187 1692,-187 1686,-187 1680,-181 1680,-175 1680,-175 1680,-116 1680,-116 1680,-110 1686,-104 1692,-104 1692,-104 1771,-104 1771,-104 1777,-104 1783,-110 1783,-116 1783,-116 1783,-175 1783,-175 1783,-181 1777,-187 1771,-187\"/>\r\n",
       "<text text-anchor=\"start\" x=\"1689\" y=\"-171.8\" font-family=\"Helvetica,sans-Serif\" font-size=\"14.00\">Price ≤ 112.5</text>\r\n",
       "<text text-anchor=\"start\" x=\"1694\" y=\"-156.8\" font-family=\"Helvetica,sans-Serif\" font-size=\"14.00\">gini = 0.397</text>\r\n",
       "<text text-anchor=\"start\" x=\"1688\" y=\"-141.8\" font-family=\"Helvetica,sans-Serif\" font-size=\"14.00\">samples = 11</text>\r\n",
       "<text text-anchor=\"start\" x=\"1691\" y=\"-126.8\" font-family=\"Helvetica,sans-Serif\" font-size=\"14.00\">value = [3, 8]</text>\r\n",
       "<text text-anchor=\"start\" x=\"1694.5\" y=\"-111.8\" font-family=\"Helvetica,sans-Serif\" font-size=\"14.00\">class = Yes</text>\r\n",
       "</g>\r\n",
       "<!-- 34&#45;&gt;38 -->\r\n",
       "<g id=\"edge38\" class=\"edge\"><title>34&#45;&gt;38</title>\r\n",
       "<path fill=\"none\" stroke=\"black\" d=\"M1616.56,-222.907C1634.31,-211.11 1653.67,-198.237 1671.36,-186.477\"/>\r\n",
       "<polygon fill=\"black\" stroke=\"black\" points=\"1673.51,-189.254 1679.9,-180.803 1669.63,-183.425 1673.51,-189.254\"/>\r\n",
       "</g>\r\n",
       "<!-- 36 -->\r\n",
       "<g id=\"node37\" class=\"node\"><title>36</title>\r\n",
       "<path fill=\"#e58139\" fill-opacity=\"0.333333\" stroke=\"black\" d=\"M1538,-68C1538,-68 1465,-68 1465,-68 1459,-68 1453,-62 1453,-56 1453,-56 1453,-12 1453,-12 1453,-6 1459,-0 1465,-0 1465,-0 1538,-0 1538,-0 1544,-0 1550,-6 1550,-12 1550,-12 1550,-56 1550,-56 1550,-62 1544,-68 1538,-68\"/>\r\n",
       "<text text-anchor=\"start\" x=\"1468\" y=\"-52.8\" font-family=\"Helvetica,sans-Serif\" font-size=\"14.00\">gini = 0.48</text>\r\n",
       "<text text-anchor=\"start\" x=\"1462\" y=\"-37.8\" font-family=\"Helvetica,sans-Serif\" font-size=\"14.00\">samples = 5</text>\r\n",
       "<text text-anchor=\"start\" x=\"1461\" y=\"-22.8\" font-family=\"Helvetica,sans-Serif\" font-size=\"14.00\">value = [3, 2]</text>\r\n",
       "<text text-anchor=\"start\" x=\"1468\" y=\"-7.8\" font-family=\"Helvetica,sans-Serif\" font-size=\"14.00\">class = No</text>\r\n",
       "</g>\r\n",
       "<!-- 35&#45;&gt;36 -->\r\n",
       "<g id=\"edge36\" class=\"edge\"><title>35&#45;&gt;36</title>\r\n",
       "<path fill=\"none\" stroke=\"black\" d=\"M1535.39,-103.726C1531.16,-95.1527 1526.69,-86.0891 1522.44,-77.4555\"/>\r\n",
       "<polygon fill=\"black\" stroke=\"black\" points=\"1525.48,-75.7203 1517.92,-68.2996 1519.21,-78.8164 1525.48,-75.7203\"/>\r\n",
       "</g>\r\n",
       "<!-- 37 -->\r\n",
       "<g id=\"node38\" class=\"node\"><title>37</title>\r\n",
       "<path fill=\"#e58139\" stroke=\"black\" d=\"M1653,-68C1653,-68 1580,-68 1580,-68 1574,-68 1568,-62 1568,-56 1568,-56 1568,-12 1568,-12 1568,-6 1574,-0 1580,-0 1580,-0 1653,-0 1653,-0 1659,-0 1665,-6 1665,-12 1665,-12 1665,-56 1665,-56 1665,-62 1659,-68 1653,-68\"/>\r\n",
       "<text text-anchor=\"start\" x=\"1587.5\" y=\"-52.8\" font-family=\"Helvetica,sans-Serif\" font-size=\"14.00\">gini = 0.0</text>\r\n",
       "<text text-anchor=\"start\" x=\"1577\" y=\"-37.8\" font-family=\"Helvetica,sans-Serif\" font-size=\"14.00\">samples = 8</text>\r\n",
       "<text text-anchor=\"start\" x=\"1576\" y=\"-22.8\" font-family=\"Helvetica,sans-Serif\" font-size=\"14.00\">value = [8, 0]</text>\r\n",
       "<text text-anchor=\"start\" x=\"1583\" y=\"-7.8\" font-family=\"Helvetica,sans-Serif\" font-size=\"14.00\">class = No</text>\r\n",
       "</g>\r\n",
       "<!-- 35&#45;&gt;37 -->\r\n",
       "<g id=\"edge37\" class=\"edge\"><title>35&#45;&gt;37</title>\r\n",
       "<path fill=\"none\" stroke=\"black\" d=\"M1578.21,-103.726C1583.04,-95.0615 1588.15,-85.8962 1593,-77.1802\"/>\r\n",
       "<polygon fill=\"black\" stroke=\"black\" points=\"1596.14,-78.7389 1597.95,-68.2996 1590.03,-75.3322 1596.14,-78.7389\"/>\r\n",
       "</g>\r\n",
       "<!-- 39 -->\r\n",
       "<g id=\"node40\" class=\"node\"><title>39</title>\r\n",
       "<path fill=\"#399de5\" stroke=\"black\" d=\"M1768,-68C1768,-68 1695,-68 1695,-68 1689,-68 1683,-62 1683,-56 1683,-56 1683,-12 1683,-12 1683,-6 1689,-0 1695,-0 1695,-0 1768,-0 1768,-0 1774,-0 1780,-6 1780,-12 1780,-12 1780,-56 1780,-56 1780,-62 1774,-68 1768,-68\"/>\r\n",
       "<text text-anchor=\"start\" x=\"1702.5\" y=\"-52.8\" font-family=\"Helvetica,sans-Serif\" font-size=\"14.00\">gini = 0.0</text>\r\n",
       "<text text-anchor=\"start\" x=\"1692\" y=\"-37.8\" font-family=\"Helvetica,sans-Serif\" font-size=\"14.00\">samples = 5</text>\r\n",
       "<text text-anchor=\"start\" x=\"1691\" y=\"-22.8\" font-family=\"Helvetica,sans-Serif\" font-size=\"14.00\">value = [0, 5]</text>\r\n",
       "<text text-anchor=\"start\" x=\"1694.5\" y=\"-7.8\" font-family=\"Helvetica,sans-Serif\" font-size=\"14.00\">class = Yes</text>\r\n",
       "</g>\r\n",
       "<!-- 38&#45;&gt;39 -->\r\n",
       "<g id=\"edge39\" class=\"edge\"><title>38&#45;&gt;39</title>\r\n",
       "<path fill=\"none\" stroke=\"black\" d=\"M1731.5,-103.726C1731.5,-95.5175 1731.5,-86.8595 1731.5,-78.56\"/>\r\n",
       "<polygon fill=\"black\" stroke=\"black\" points=\"1735,-78.2996 1731.5,-68.2996 1728,-78.2996 1735,-78.2996\"/>\r\n",
       "</g>\r\n",
       "<!-- 40 -->\r\n",
       "<g id=\"node41\" class=\"node\"><title>40</title>\r\n",
       "<path fill=\"none\" stroke=\"black\" d=\"M1883,-68C1883,-68 1810,-68 1810,-68 1804,-68 1798,-62 1798,-56 1798,-56 1798,-12 1798,-12 1798,-6 1804,-0 1810,-0 1810,-0 1883,-0 1883,-0 1889,-0 1895,-6 1895,-12 1895,-12 1895,-56 1895,-56 1895,-62 1889,-68 1883,-68\"/>\r\n",
       "<text text-anchor=\"start\" x=\"1817.5\" y=\"-52.8\" font-family=\"Helvetica,sans-Serif\" font-size=\"14.00\">gini = 0.5</text>\r\n",
       "<text text-anchor=\"start\" x=\"1807\" y=\"-37.8\" font-family=\"Helvetica,sans-Serif\" font-size=\"14.00\">samples = 6</text>\r\n",
       "<text text-anchor=\"start\" x=\"1806\" y=\"-22.8\" font-family=\"Helvetica,sans-Serif\" font-size=\"14.00\">value = [3, 3]</text>\r\n",
       "<text text-anchor=\"start\" x=\"1813\" y=\"-7.8\" font-family=\"Helvetica,sans-Serif\" font-size=\"14.00\">class = No</text>\r\n",
       "</g>\r\n",
       "<!-- 38&#45;&gt;40 -->\r\n",
       "<g id=\"edge40\" class=\"edge\"><title>38&#45;&gt;40</title>\r\n",
       "<path fill=\"none\" stroke=\"black\" d=\"M1774.32,-103.726C1784.09,-94.423 1794.47,-84.5428 1804.22,-75.2612\"/>\r\n",
       "<polygon fill=\"black\" stroke=\"black\" points=\"1806.7,-77.7301 1811.53,-68.2996 1801.87,-72.6606 1806.7,-77.7301\"/>\r\n",
       "</g>\r\n",
       "</g>\r\n",
       "</svg>\r\n"
      ],
      "text/plain": [
       "<graphviz.files.Source at 0x291524b38d0>"
      ]
     },
     "execution_count": 18,
     "metadata": {},
     "output_type": "execute_result"
    }
   ],
   "source": [
    "## graphviz 설치는 이번 실습에서 생략합니다!\n",
    "## 아래 링크를 참고해서 설치해보세요(*환경변수 PATH에 graphviz의 경로를 추가해 주어야 합니다)\n",
    "## https://graphviz.gitlab.io/download/\n",
    "## http://jalbum.com/board_fasH18/25459 (Windows)\n",
    "## http://macappstore.org/graphviz-2/ (Mac)\n",
    "\n",
    "\n",
    "from graphviz import Source\n",
    "from sklearn.tree import export_graphviz # export_graphviz: Export a decision tree in DOT(텍스트로 표현한 그래프 표현언어) format\n",
    "\n",
    "tree_carseats_graph = export_graphviz(tree_carseats,\n",
    "                                     out_file=None,\n",
    "                                     feature_names=X.columns,\n",
    "                                     class_names=tree_carseats.classes_,\n",
    "                                     filled=True,\n",
    "                                     rounded=True,\n",
    "                                     special_characters=True)\n",
    "Source(tree_carseats_graph)"
   ]
  },
  {
   "cell_type": "code",
   "execution_count": 19,
   "metadata": {},
   "outputs": [
    {
     "name": "stdout",
     "output_type": "stream",
     "text": [
      "              precision    recall  f1-score   support\n",
      "\n",
      "          No       0.66      0.83      0.73        65\n",
      "         Yes       0.71      0.49      0.58        55\n",
      "\n",
      "   micro avg       0.68      0.68      0.68       120\n",
      "   macro avg       0.68      0.66      0.66       120\n",
      "weighted avg       0.68      0.68      0.66       120\n",
      "\n"
     ]
    }
   ],
   "source": [
    "from sklearn.metrics import classification_report\n",
    "\n",
    "print(classification_report( y_test, y_pred))"
   ]
  },
  {
   "cell_type": "code",
   "execution_count": 20,
   "metadata": {},
   "outputs": [
    {
     "data": {
      "text/plain": [
       "<matplotlib.axes._subplots.AxesSubplot at 0x29152761438>"
      ]
     },
     "execution_count": 20,
     "metadata": {},
     "output_type": "execute_result"
    },
    {
     "data": {
      "image/png": "[encoded data removed]",
      "text/plain": [
       "<Figure size 432x288 with 2 Axes>"
      ]
     },
     "metadata": {},
     "output_type": "display_data"
    }
   ],
   "source": [
    "from scikitplot.metrics import plot_confusion_matrix\n",
    "\n",
    "plot_confusion_matrix( y_test, y_pred)"
   ]
  },
  {
   "cell_type": "markdown",
   "metadata": {},
   "source": [
    "## 2. Regression Trees"
   ]
  },
  {
   "cell_type": "code",
   "execution_count": 21,
   "metadata": {
    "collapsed": true
   },
   "outputs": [],
   "source": [
    "# Boston.csv 불러오기\n",
    "boston = pd.read_csv('Boston.csv', index_col=0)             # index_col: index로 삼을 열을 설정"
   ]
  },
  {
   "cell_type": "code",
   "execution_count": 22,
   "metadata": {},
   "outputs": [
    {
     "data": {
      "text/html": [
       "<div>\n",
       "<style scoped>\n",
       "    .dataframe tbody tr th:only-of-type {\n",
       "        vertical-align: middle;\n",
       "    }\n",
       "\n",
       "    .dataframe tbody tr th {\n",
       "        vertical-align: top;\n",
       "    }\n",
       "\n",
       "    .dataframe thead th {\n",
       "        text-align: right;\n",
       "    }\n",
       "</style>\n",
       "<table border=\"1\" class=\"dataframe\">\n",
       "  <thead>\n",
       "    <tr style=\"text-align: right;\">\n",
       "      <th></th>\n",
       "      <th>crim</th>\n",
       "      <th>zn</th>\n",
       "      <th>indus</th>\n",
       "      <th>chas</th>\n",
       "      <th>nox</th>\n",
       "      <th>rm</th>\n",
       "      <th>age</th>\n",
       "      <th>dis</th>\n",
       "      <th>rad</th>\n",
       "      <th>tax</th>\n",
       "      <th>ptratio</th>\n",
       "      <th>black</th>\n",
       "      <th>lstat</th>\n",
       "      <th>medv</th>\n",
       "    </tr>\n",
       "  </thead>\n",
       "  <tbody>\n",
       "    <tr>\n",
       "      <th>1</th>\n",
       "      <td>0.00632</td>\n",
       "      <td>18.0</td>\n",
       "      <td>2.31</td>\n",
       "      <td>0</td>\n",
       "      <td>0.538</td>\n",
       "      <td>6.575</td>\n",
       "      <td>65.2</td>\n",
       "      <td>4.0900</td>\n",
       "      <td>1</td>\n",
       "      <td>296</td>\n",
       "      <td>15.3</td>\n",
       "      <td>396.90</td>\n",
       "      <td>4.98</td>\n",
       "      <td>24.0</td>\n",
       "    </tr>\n",
       "    <tr>\n",
       "      <th>2</th>\n",
       "      <td>0.02731</td>\n",
       "      <td>0.0</td>\n",
       "      <td>7.07</td>\n",
       "      <td>0</td>\n",
       "      <td>0.469</td>\n",
       "      <td>6.421</td>\n",
       "      <td>78.9</td>\n",
       "      <td>4.9671</td>\n",
       "      <td>2</td>\n",
       "      <td>242</td>\n",
       "      <td>17.8</td>\n",
       "      <td>396.90</td>\n",
       "      <td>9.14</td>\n",
       "      <td>21.6</td>\n",
       "    </tr>\n",
       "    <tr>\n",
       "      <th>3</th>\n",
       "      <td>0.02729</td>\n",
       "      <td>0.0</td>\n",
       "      <td>7.07</td>\n",
       "      <td>0</td>\n",
       "      <td>0.469</td>\n",
       "      <td>7.185</td>\n",
       "      <td>61.1</td>\n",
       "      <td>4.9671</td>\n",
       "      <td>2</td>\n",
       "      <td>242</td>\n",
       "      <td>17.8</td>\n",
       "      <td>392.83</td>\n",
       "      <td>4.03</td>\n",
       "      <td>34.7</td>\n",
       "    </tr>\n",
       "    <tr>\n",
       "      <th>4</th>\n",
       "      <td>0.03237</td>\n",
       "      <td>0.0</td>\n",
       "      <td>2.18</td>\n",
       "      <td>0</td>\n",
       "      <td>0.458</td>\n",
       "      <td>6.998</td>\n",
       "      <td>45.8</td>\n",
       "      <td>6.0622</td>\n",
       "      <td>3</td>\n",
       "      <td>222</td>\n",
       "      <td>18.7</td>\n",
       "      <td>394.63</td>\n",
       "      <td>2.94</td>\n",
       "      <td>33.4</td>\n",
       "    </tr>\n",
       "    <tr>\n",
       "      <th>5</th>\n",
       "      <td>0.06905</td>\n",
       "      <td>0.0</td>\n",
       "      <td>2.18</td>\n",
       "      <td>0</td>\n",
       "      <td>0.458</td>\n",
       "      <td>7.147</td>\n",
       "      <td>54.2</td>\n",
       "      <td>6.0622</td>\n",
       "      <td>3</td>\n",
       "      <td>222</td>\n",
       "      <td>18.7</td>\n",
       "      <td>396.90</td>\n",
       "      <td>5.33</td>\n",
       "      <td>36.2</td>\n",
       "    </tr>\n",
       "  </tbody>\n",
       "</table>\n",
       "</div>"
      ],
      "text/plain": [
       "      crim    zn  indus  chas    nox     rm   age     dis  rad  tax  ptratio  \\\n",
       "1  0.00632  18.0   2.31     0  0.538  6.575  65.2  4.0900    1  296     15.3   \n",
       "2  0.02731   0.0   7.07     0  0.469  6.421  78.9  4.9671    2  242     17.8   \n",
       "3  0.02729   0.0   7.07     0  0.469  7.185  61.1  4.9671    2  242     17.8   \n",
       "4  0.03237   0.0   2.18     0  0.458  6.998  45.8  6.0622    3  222     18.7   \n",
       "5  0.06905   0.0   2.18     0  0.458  7.147  54.2  6.0622    3  222     18.7   \n",
       "\n",
       "    black  lstat  medv  \n",
       "1  396.90   4.98  24.0  \n",
       "2  396.90   9.14  21.6  \n",
       "3  392.83   4.03  34.7  \n",
       "4  394.63   2.94  33.4  \n",
       "5  396.90   5.33  36.2  "
      ]
     },
     "execution_count": 22,
     "metadata": {},
     "output_type": "execute_result"
    }
   ],
   "source": [
    "boston.head()"
   ]
  },
  {
   "cell_type": "markdown",
   "metadata": {},
   "source": [
    "<변수설명>\n",
    "- CRIM - per capita crime rate by town\n",
    "- ZN - proportion of residential land zoned for lots over 25,000 sq.ft.\n",
    "- INDUS - proportion of non-retail business acres per town.\n",
    "- CHAS - Charles River dummy variable (1 if tract bounds river; 0 otherwise)\n",
    "- NOX - nitric oxides concentration (parts per 10 million)\n",
    "- RM - average number of rooms per dwelling\n",
    "- AGE - proportion of owner-occupied units built prior to 1940\n",
    "- DIS - weighted distances to five Boston employment centres\n",
    "- RAD - index of accessibility to radial highways\n",
    "- TAX - full-value property-tax rate per \\$10,000\n",
    "- PTRATIO - pupil-teacher ratio by town\n",
    "- BLACK - 1000(Bk - 0.63)^2 where Bk is the proportion of blacks by town\n",
    "- LSTAT - % lower status of the population\n",
    "- MEDV - Median value of owner-occupied homes in \\$1000's"
   ]
  },
  {
   "cell_type": "code",
   "execution_count": 23,
   "metadata": {
    "collapsed": true
   },
   "outputs": [],
   "source": [
    "# 설명변수, 반응변수 설정\n",
    "X = boston.loc[:,'crim':'lstat'   ]  \n",
    "y = boston.loc[:, 'medv'  ]\n",
    "\n",
    "# train, test set으로 나누기\n",
    "X_train, X_test, y_train, y_test = train_test_split( X, y,test_size=0.3 ,random_state=42 )"
   ]
  },
  {
   "cell_type": "code",
   "execution_count": 24,
   "metadata": {
    "collapsed": true
   },
   "outputs": [],
   "source": [
    "# DecisionTreeRegressor\n",
    "from sklearn.tree import DecisionTreeRegressor\n",
    "\n",
    "tree_boston = DecisionTreeRegressor(min_samples_leaf=5  , max_depth= 2 ) #모델 생성\n",
    "tree_boston.fit( X_train, y_train) # 적합하고\n",
    "y_pred = tree_boston.predict( X_test ) # 예측값들을 y_pred에 저장"
   ]
  },
  {
   "cell_type": "code",
   "execution_count": 25,
   "metadata": {},
   "outputs": [
    {
     "data": {
      "text/plain": [
       "(0.6995411306336253, 0.6758436094969433)"
      ]
     },
     "execution_count": 25,
     "metadata": {},
     "output_type": "execute_result"
    }
   ],
   "source": [
    "tree_boston.score( X_train, y_train), tree_boston.score( X_test, y_test) #train과 test set에서의 모델 성능 확인"
   ]
  },
  {
   "cell_type": "code",
   "execution_count": 26,
   "metadata": {},
   "outputs": [
    {
     "data": {
      "image/svg+xml": [
       "<?xml version=\"1.0\" encoding=\"UTF-8\" standalone=\"no\"?>\r\n",
       "<!DOCTYPE svg PUBLIC \"-//W3C//DTD SVG 1.1//EN\"\r\n",
       " \"http://www.w3.org/Graphics/SVG/1.1/DTD/svg11.dtd\">\r\n",
       "<!-- Generated by graphviz version 2.38.0 (20140413.2041)\r\n",
       " -->\r\n",
       "<!-- Title: Tree Pages: 1 -->\r\n",
       "<svg width=\"505pt\" height=\"269pt\"\r\n",
       " viewBox=\"0.00 0.00 504.50 269.00\" xmlns=\"http://www.w3.org/2000/svg\" xmlns:xlink=\"http://www.w3.org/1999/xlink\">\r\n",
       "<g id=\"graph0\" class=\"graph\" transform=\"scale(1 1) rotate(0) translate(4 265)\">\r\n",
       "<title>Tree</title>\r\n",
       "<polygon fill=\"white\" stroke=\"none\" points=\"-4,4 -4,-265 500.5,-265 500.5,4 -4,4\"/>\r\n",
       "<!-- 0 -->\r\n",
       "<g id=\"node1\" class=\"node\"><title>0</title>\r\n",
       "<path fill=\"#e58139\" fill-opacity=\"0.274510\" stroke=\"black\" d=\"M292,-261C292,-261 205,-261 205,-261 199,-261 193,-255 193,-249 193,-249 193,-205 193,-205 193,-199 199,-193 205,-193 205,-193 292,-193 292,-193 298,-193 304,-199 304,-205 304,-205 304,-249 304,-249 304,-255 298,-261 292,-261\"/>\r\n",
       "<text text-anchor=\"start\" x=\"214\" y=\"-245.8\" font-family=\"Helvetica,sans-Serif\" font-size=\"14.00\">rm ≤ 6.941</text>\r\n",
       "<text text-anchor=\"start\" x=\"204\" y=\"-230.8\" font-family=\"Helvetica,sans-Serif\" font-size=\"14.00\">mse = 87.897</text>\r\n",
       "<text text-anchor=\"start\" x=\"201\" y=\"-215.8\" font-family=\"Helvetica,sans-Serif\" font-size=\"14.00\">samples = 354</text>\r\n",
       "<text text-anchor=\"start\" x=\"201.5\" y=\"-200.8\" font-family=\"Helvetica,sans-Serif\" font-size=\"14.00\">value = 23.016</text>\r\n",
       "</g>\r\n",
       "<!-- 1 -->\r\n",
       "<g id=\"node2\" class=\"node\"><title>1</title>\r\n",
       "<path fill=\"#e58139\" fill-opacity=\"0.176471\" stroke=\"black\" d=\"M228,-157C228,-157 141,-157 141,-157 135,-157 129,-151 129,-145 129,-145 129,-101 129,-101 129,-95 135,-89 141,-89 141,-89 228,-89 228,-89 234,-89 240,-95 240,-101 240,-101 240,-145 240,-145 240,-151 234,-157 228,-157\"/>\r\n",
       "<text text-anchor=\"start\" x=\"149.5\" y=\"-141.8\" font-family=\"Helvetica,sans-Serif\" font-size=\"14.00\">lstat ≤ 14.4</text>\r\n",
       "<text text-anchor=\"start\" x=\"140\" y=\"-126.8\" font-family=\"Helvetica,sans-Serif\" font-size=\"14.00\">mse = 41.295</text>\r\n",
       "<text text-anchor=\"start\" x=\"137\" y=\"-111.8\" font-family=\"Helvetica,sans-Serif\" font-size=\"14.00\">samples = 292</text>\r\n",
       "<text text-anchor=\"start\" x=\"137.5\" y=\"-96.8\" font-family=\"Helvetica,sans-Serif\" font-size=\"14.00\">value = 20.084</text>\r\n",
       "</g>\r\n",
       "<!-- 0&#45;&gt;1 -->\r\n",
       "<g id=\"edge1\" class=\"edge\"><title>0&#45;&gt;1</title>\r\n",
       "<path fill=\"none\" stroke=\"black\" d=\"M227.721,-192.884C222.3,-184.243 216.387,-174.819 210.723,-165.793\"/>\r\n",
       "<polygon fill=\"black\" stroke=\"black\" points=\"213.673,-163.91 205.394,-157.299 207.744,-167.63 213.673,-163.91\"/>\r\n",
       "<text text-anchor=\"middle\" x=\"199.815\" y=\"-177.969\" font-family=\"Helvetica,sans-Serif\" font-size=\"14.00\">True</text>\r\n",
       "</g>\r\n",
       "<!-- 4 -->\r\n",
       "<g id=\"node5\" class=\"node\"><title>4</title>\r\n",
       "<path fill=\"#e58139\" fill-opacity=\"0.737255\" stroke=\"black\" d=\"M356.5,-157C356.5,-157 270.5,-157 270.5,-157 264.5,-157 258.5,-151 258.5,-145 258.5,-145 258.5,-101 258.5,-101 258.5,-95 264.5,-89 270.5,-89 270.5,-89 356.5,-89 356.5,-89 362.5,-89 368.5,-95 368.5,-101 368.5,-101 368.5,-145 368.5,-145 368.5,-151 362.5,-157 356.5,-157\"/>\r\n",
       "<text text-anchor=\"start\" x=\"279\" y=\"-141.8\" font-family=\"Helvetica,sans-Serif\" font-size=\"14.00\">rm ≤ 7.437</text>\r\n",
       "<text text-anchor=\"start\" x=\"269\" y=\"-126.8\" font-family=\"Helvetica,sans-Serif\" font-size=\"14.00\">mse = 76.221</text>\r\n",
       "<text text-anchor=\"start\" x=\"270\" y=\"-111.8\" font-family=\"Helvetica,sans-Serif\" font-size=\"14.00\">samples = 62</text>\r\n",
       "<text text-anchor=\"start\" x=\"266.5\" y=\"-96.8\" font-family=\"Helvetica,sans-Serif\" font-size=\"14.00\">value = 36.824</text>\r\n",
       "</g>\r\n",
       "<!-- 0&#45;&gt;4 -->\r\n",
       "<g id=\"edge4\" class=\"edge\"><title>0&#45;&gt;4</title>\r\n",
       "<path fill=\"none\" stroke=\"black\" d=\"M269.604,-192.884C275.11,-184.243 281.115,-174.819 286.867,-165.793\"/>\r\n",
       "<polygon fill=\"black\" stroke=\"black\" points=\"289.857,-167.614 292.28,-157.299 283.954,-163.852 289.857,-167.614\"/>\r\n",
       "<text text-anchor=\"middle\" x=\"297.688\" y=\"-178.007\" font-family=\"Helvetica,sans-Serif\" font-size=\"14.00\">False</text>\r\n",
       "</g>\r\n",
       "<!-- 2 -->\r\n",
       "<g id=\"node3\" class=\"node\"><title>2</title>\r\n",
       "<path fill=\"#e58139\" fill-opacity=\"0.290196\" stroke=\"black\" d=\"M99,-53C99,-53 12,-53 12,-53 6,-53 0,-47 0,-41 0,-41 0,-12 0,-12 0,-6 6,-0 12,-0 12,-0 99,-0 99,-0 105,-0 111,-6 111,-12 111,-12 111,-41 111,-41 111,-47 105,-53 99,-53\"/>\r\n",
       "<text text-anchor=\"start\" x=\"11\" y=\"-37.8\" font-family=\"Helvetica,sans-Serif\" font-size=\"14.00\">mse = 26.114</text>\r\n",
       "<text text-anchor=\"start\" x=\"8\" y=\"-22.8\" font-family=\"Helvetica,sans-Serif\" font-size=\"14.00\">samples = 178</text>\r\n",
       "<text text-anchor=\"start\" x=\"12.5\" y=\"-7.8\" font-family=\"Helvetica,sans-Serif\" font-size=\"14.00\">value = 23.47</text>\r\n",
       "</g>\r\n",
       "<!-- 1&#45;&gt;2 -->\r\n",
       "<g id=\"edge2\" class=\"edge\"><title>1&#45;&gt;2</title>\r\n",
       "<path fill=\"none\" stroke=\"black\" d=\"M139.382,-88.9485C126.27,-79.3431 111.98,-68.8747 98.9709,-59.345\"/>\r\n",
       "<polygon fill=\"black\" stroke=\"black\" points=\"100.768,-56.3228 90.6326,-53.2367 96.6313,-61.9698 100.768,-56.3228\"/>\r\n",
       "</g>\r\n",
       "<!-- 3 -->\r\n",
       "<g id=\"node4\" class=\"node\"><title>3</title>\r\n",
       "<path fill=\"none\" stroke=\"black\" d=\"M228,-53C228,-53 141,-53 141,-53 135,-53 129,-47 129,-41 129,-41 129,-12 129,-12 129,-6 135,-0 141,-0 141,-0 228,-0 228,-0 234,-0 240,-6 240,-12 240,-12 240,-41 240,-41 240,-47 234,-53 228,-53\"/>\r\n",
       "<text text-anchor=\"start\" x=\"140\" y=\"-37.8\" font-family=\"Helvetica,sans-Serif\" font-size=\"14.00\">mse = 19.151</text>\r\n",
       "<text text-anchor=\"start\" x=\"137\" y=\"-22.8\" font-family=\"Helvetica,sans-Serif\" font-size=\"14.00\">samples = 114</text>\r\n",
       "<text text-anchor=\"start\" x=\"137.5\" y=\"-7.8\" font-family=\"Helvetica,sans-Serif\" font-size=\"14.00\">value = 14.797</text>\r\n",
       "</g>\r\n",
       "<!-- 1&#45;&gt;3 -->\r\n",
       "<g id=\"edge3\" class=\"edge\"><title>1&#45;&gt;3</title>\r\n",
       "<path fill=\"none\" stroke=\"black\" d=\"M184.5,-88.9485C184.5,-80.7153 184.5,-71.848 184.5,-63.4814\"/>\r\n",
       "<polygon fill=\"black\" stroke=\"black\" points=\"188,-63.2367 184.5,-53.2367 181,-63.2367 188,-63.2367\"/>\r\n",
       "</g>\r\n",
       "<!-- 5 -->\r\n",
       "<g id=\"node6\" class=\"node\"><title>5</title>\r\n",
       "<path fill=\"#e58139\" fill-opacity=\"0.584314\" stroke=\"black\" d=\"M356.5,-53C356.5,-53 270.5,-53 270.5,-53 264.5,-53 258.5,-47 258.5,-41 258.5,-41 258.5,-12 258.5,-12 258.5,-6 264.5,-0 270.5,-0 270.5,-0 356.5,-0 356.5,-0 362.5,-0 368.5,-6 368.5,-12 368.5,-12 368.5,-41 368.5,-41 368.5,-47 362.5,-53 356.5,-53\"/>\r\n",
       "<text text-anchor=\"start\" x=\"269\" y=\"-37.8\" font-family=\"Helvetica,sans-Serif\" font-size=\"14.00\">mse = 39.454</text>\r\n",
       "<text text-anchor=\"start\" x=\"270\" y=\"-22.8\" font-family=\"Helvetica,sans-Serif\" font-size=\"14.00\">samples = 39</text>\r\n",
       "<text text-anchor=\"start\" x=\"266.5\" y=\"-7.8\" font-family=\"Helvetica,sans-Serif\" font-size=\"14.00\">value = 32.241</text>\r\n",
       "</g>\r\n",
       "<!-- 4&#45;&gt;5 -->\r\n",
       "<g id=\"edge5\" class=\"edge\"><title>4&#45;&gt;5</title>\r\n",
       "<path fill=\"none\" stroke=\"black\" d=\"M313.5,-88.9485C313.5,-80.7153 313.5,-71.848 313.5,-63.4814\"/>\r\n",
       "<polygon fill=\"black\" stroke=\"black\" points=\"317,-63.2367 313.5,-53.2367 310,-63.2367 317,-63.2367\"/>\r\n",
       "</g>\r\n",
       "<!-- 6 -->\r\n",
       "<g id=\"node7\" class=\"node\"><title>6</title>\r\n",
       "<path fill=\"#e58139\" stroke=\"black\" d=\"M484.5,-53C484.5,-53 398.5,-53 398.5,-53 392.5,-53 386.5,-47 386.5,-41 386.5,-41 386.5,-12 386.5,-12 386.5,-6 392.5,-0 398.5,-0 398.5,-0 484.5,-0 484.5,-0 490.5,-0 496.5,-6 496.5,-12 496.5,-12 496.5,-41 496.5,-41 496.5,-47 490.5,-53 484.5,-53\"/>\r\n",
       "<text text-anchor=\"start\" x=\"397\" y=\"-37.8\" font-family=\"Helvetica,sans-Serif\" font-size=\"14.00\">mse = 42.551</text>\r\n",
       "<text text-anchor=\"start\" x=\"398\" y=\"-22.8\" font-family=\"Helvetica,sans-Serif\" font-size=\"14.00\">samples = 23</text>\r\n",
       "<text text-anchor=\"start\" x=\"394.5\" y=\"-7.8\" font-family=\"Helvetica,sans-Serif\" font-size=\"14.00\">value = 44.596</text>\r\n",
       "</g>\r\n",
       "<!-- 4&#45;&gt;6 -->\r\n",
       "<g id=\"edge6\" class=\"edge\"><title>4&#45;&gt;6</title>\r\n",
       "<path fill=\"none\" stroke=\"black\" d=\"M358.268,-88.9485C371.279,-79.3431 385.458,-68.8747 398.366,-59.345\"/>\r\n",
       "<polygon fill=\"black\" stroke=\"black\" points=\"400.673,-61.992 406.64,-53.2367 396.516,-56.3605 400.673,-61.992\"/>\r\n",
       "</g>\r\n",
       "</g>\r\n",
       "</svg>\r\n"
      ],
      "text/plain": [
       "<graphviz.files.Source at 0x291527fceb8>"
      ]
     },
     "execution_count": 26,
     "metadata": {},
     "output_type": "execute_result"
    }
   ],
   "source": [
    "## 트리 그래프 그리기\n",
    "tree_boston_graph = export_graphviz(tree_boston, \n",
    "                                    out_file=None, \n",
    "                                    feature_names=X.columns,\n",
    "                                    filled=True, \n",
    "                                    rounded=True,  \n",
    "                                    special_characters=True)\n",
    "\n",
    "Source(tree_boston_graph)"
   ]
  },
  {
   "cell_type": "markdown",
   "metadata": {},
   "source": [
    "\n",
    "\n"
   ]
  },
  {
   "cell_type": "markdown",
   "metadata": {},
   "source": [
    "&nbsp;  \n",
    "&nbsp;  \n",
    "&nbsp;  \n",
    "&nbsp;  \n",
    "&nbsp;  \n",
    "&nbsp;  \n",
    "&nbsp;  \n",
    "&nbsp;  "
   ]
  },
  {
   "cell_type": "markdown",
   "metadata": {},
   "source": [
    "# RandomForest 실습_190131\n",
    "---\n",
    "based on 12기 김지혁님 강의자료"
   ]
  },
  {
   "cell_type": "markdown",
   "metadata": {},
   "source": [
    "### RandomForest\n",
    "- 임의성(randomness)을 관측치(observation)뿐만 아니라 변수(feature, variable)에도 적용 => 차원축소 효과\n",
    "- 다양성을 극대화 하여 예측력이 상당히 우수한 편이고 다수의 트리의 예측 결과를 종합하여 의사결정을 진행하기 때문에 안정   성도 상당히 높다는 장점  \n",
    "- 다수의 트리를 이용한 의사결정 기법을 이용하기 때문에 기존의 트리가 갖는 장점 중 하나인 설명력을 잃게 된다는 단점"
   ]
  },
  {
   "cell_type": "markdown",
   "metadata": {},
   "source": [
    "# Data"
   ]
  },
  {
   "cell_type": "code",
   "execution_count": 27,
   "metadata": {
    "collapsed": true
   },
   "outputs": [],
   "source": [
    "# titanic 데이터 불러오기\n",
    "# index로 사용할 열을 PassengerId로 설정\n",
    "titanic = pd.read_csv('titanic.csv',index_col='PassengerId')"
   ]
  },
  {
   "cell_type": "code",
   "execution_count": 28,
   "metadata": {},
   "outputs": [
    {
     "data": {
      "text/html": [
       "<div>\n",
       "<style scoped>\n",
       "    .dataframe tbody tr th:only-of-type {\n",
       "        vertical-align: middle;\n",
       "    }\n",
       "\n",
       "    .dataframe tbody tr th {\n",
       "        vertical-align: top;\n",
       "    }\n",
       "\n",
       "    .dataframe thead th {\n",
       "        text-align: right;\n",
       "    }\n",
       "</style>\n",
       "<table border=\"1\" class=\"dataframe\">\n",
       "  <thead>\n",
       "    <tr style=\"text-align: right;\">\n",
       "      <th></th>\n",
       "      <th>Survived</th>\n",
       "      <th>Pclass</th>\n",
       "      <th>Name</th>\n",
       "      <th>Sex</th>\n",
       "      <th>Age</th>\n",
       "      <th>SibSp</th>\n",
       "      <th>Parch</th>\n",
       "      <th>Ticket</th>\n",
       "      <th>Fare</th>\n",
       "      <th>Cabin</th>\n",
       "      <th>Embarked</th>\n",
       "    </tr>\n",
       "    <tr>\n",
       "      <th>PassengerId</th>\n",
       "      <th></th>\n",
       "      <th></th>\n",
       "      <th></th>\n",
       "      <th></th>\n",
       "      <th></th>\n",
       "      <th></th>\n",
       "      <th></th>\n",
       "      <th></th>\n",
       "      <th></th>\n",
       "      <th></th>\n",
       "      <th></th>\n",
       "    </tr>\n",
       "  </thead>\n",
       "  <tbody>\n",
       "    <tr>\n",
       "      <th>1</th>\n",
       "      <td>0</td>\n",
       "      <td>3</td>\n",
       "      <td>Braund, Mr. Owen Harris</td>\n",
       "      <td>male</td>\n",
       "      <td>22.0</td>\n",
       "      <td>1</td>\n",
       "      <td>0</td>\n",
       "      <td>A/5 21171</td>\n",
       "      <td>7.2500</td>\n",
       "      <td>NaN</td>\n",
       "      <td>S</td>\n",
       "    </tr>\n",
       "    <tr>\n",
       "      <th>2</th>\n",
       "      <td>1</td>\n",
       "      <td>1</td>\n",
       "      <td>Cumings, Mrs. John Bradley (Florence Briggs Th...</td>\n",
       "      <td>female</td>\n",
       "      <td>38.0</td>\n",
       "      <td>1</td>\n",
       "      <td>0</td>\n",
       "      <td>PC 17599</td>\n",
       "      <td>71.2833</td>\n",
       "      <td>C85</td>\n",
       "      <td>C</td>\n",
       "    </tr>\n",
       "    <tr>\n",
       "      <th>3</th>\n",
       "      <td>1</td>\n",
       "      <td>3</td>\n",
       "      <td>Heikkinen, Miss. Laina</td>\n",
       "      <td>female</td>\n",
       "      <td>26.0</td>\n",
       "      <td>0</td>\n",
       "      <td>0</td>\n",
       "      <td>STON/O2. 3101282</td>\n",
       "      <td>7.9250</td>\n",
       "      <td>NaN</td>\n",
       "      <td>S</td>\n",
       "    </tr>\n",
       "    <tr>\n",
       "      <th>4</th>\n",
       "      <td>1</td>\n",
       "      <td>1</td>\n",
       "      <td>Futrelle, Mrs. Jacques Heath (Lily May Peel)</td>\n",
       "      <td>female</td>\n",
       "      <td>35.0</td>\n",
       "      <td>1</td>\n",
       "      <td>0</td>\n",
       "      <td>113803</td>\n",
       "      <td>53.1000</td>\n",
       "      <td>C123</td>\n",
       "      <td>S</td>\n",
       "    </tr>\n",
       "    <tr>\n",
       "      <th>5</th>\n",
       "      <td>0</td>\n",
       "      <td>3</td>\n",
       "      <td>Allen, Mr. William Henry</td>\n",
       "      <td>male</td>\n",
       "      <td>35.0</td>\n",
       "      <td>0</td>\n",
       "      <td>0</td>\n",
       "      <td>373450</td>\n",
       "      <td>8.0500</td>\n",
       "      <td>NaN</td>\n",
       "      <td>S</td>\n",
       "    </tr>\n",
       "  </tbody>\n",
       "</table>\n",
       "</div>"
      ],
      "text/plain": [
       "             Survived  Pclass  \\\n",
       "PassengerId                     \n",
       "1                   0       3   \n",
       "2                   1       1   \n",
       "3                   1       3   \n",
       "4                   1       1   \n",
       "5                   0       3   \n",
       "\n",
       "                                                          Name     Sex   Age  \\\n",
       "PassengerId                                                                    \n",
       "1                                      Braund, Mr. Owen Harris    male  22.0   \n",
       "2            Cumings, Mrs. John Bradley (Florence Briggs Th...  female  38.0   \n",
       "3                                       Heikkinen, Miss. Laina  female  26.0   \n",
       "4                 Futrelle, Mrs. Jacques Heath (Lily May Peel)  female  35.0   \n",
       "5                                     Allen, Mr. William Henry    male  35.0   \n",
       "\n",
       "             SibSp  Parch            Ticket     Fare Cabin Embarked  \n",
       "PassengerId                                                          \n",
       "1                1      0         A/5 21171   7.2500   NaN        S  \n",
       "2                1      0          PC 17599  71.2833   C85        C  \n",
       "3                0      0  STON/O2. 3101282   7.9250   NaN        S  \n",
       "4                1      0            113803  53.1000  C123        S  \n",
       "5                0      0            373450   8.0500   NaN        S  "
      ]
     },
     "execution_count": 28,
     "metadata": {},
     "output_type": "execute_result"
    }
   ],
   "source": [
    "titanic.head()"
   ]
  },
  {
   "cell_type": "markdown",
   "metadata": {},
   "source": [
    "<변수설명>\n",
    "- survived: A Boolean indicating whether the passenger survived or not (0 = No; 1 = Yes); this is our target\n",
    "- pclass: Passenger class (1 = 1st; 2 = 2nd; 3 = 3rd)\n",
    "- name: A field rich in information as it contains title and family names\n",
    "- sex: male/female\n",
    "- age: Age (a significant portion of values are missing)\n",
    "- sibsp: Number of siblings/spouses aboard\n",
    "- parch: Number of parents/children aboard\n",
    "- ticket: Ticket number\n",
    "- fare: Passenger fare (British Pound)\n",
    "- cabin: Does the location of the cabin influence chances of survival?\n",
    "- embarked: Port of embarkation (C = Cherbourg; Q = Queenstown; S = Southampton)"
   ]
  },
  {
   "cell_type": "markdown",
   "metadata": {},
   "source": [
    "<table>\n",
    "    <thead>\n",
    "        <tr>\n",
    "            <th>변수</th>\n",
    "            <th>정의</th>\n",
    "            <th>key</th>\n",
    "        </tr>\n",
    "    </thead>\n",
    "    <tbody>\n",
    "        <tr>\n",
    "            <td>survived</td>\n",
    "            <td>생존여부</td>\n",
    "            <td>0 = No, 1 = Yes</td>\n",
    "        </tr>\n",
    "        <tr>\n",
    "            <td>pclass</td>\n",
    "            <td>승객 클래스</td>\n",
    "            <td>1 = 1st, 2 = 2nd, 3 = 3rd</td>\n",
    "        </tr>\n",
    "        <tr>\n",
    "            <td>sex\t</td>\n",
    "            <td>성별</td>\n",
    "            <td>male, female</td>\n",
    "        </tr>\n",
    "        <tr>\n",
    "            <td>Age</td>\n",
    "            <td>나이</td>\n",
    "            <td></td>\n",
    "        </tr>\n",
    "        <tr>\n",
    "            <td>sibsp</td>\n",
    "            <td>같이 승선한 형재자매 혹은 배우자 수</td>\n",
    "            <td></td>\n",
    "        </tr>\n",
    "        <tr>\n",
    "            <td>parch</td>\n",
    "            <td>같이 승선한 부모 혹은 자녀 수</td>\n",
    "            <td></td>\n",
    "        </tr>\n",
    "        <tr>\n",
    "            <td>Ticket</td>\n",
    "            <td>티켓 번호</td>\n",
    "            <td></td>\n",
    "        </tr>\n",
    "        <tr>\n",
    "            <td>fare</td>\n",
    "            <td>요금</td>\n",
    "            <td></td>\n",
    "        </tr>\n",
    "        <tr>\n",
    "            <td>cabin</td>\n",
    "            <td>구역 번호</td>\n",
    "            <td></td>\n",
    "        <tr>\n",
    "            <td>embarked</td>\n",
    "            <td>고객이 승선한 항구</td>\n",
    "            <td>C = Cherbourg, Q = Queenstown, S = Southampton</td>\n",
    "        </tr>\n",
    "    </tbody>\n",
    "</table>"
   ]
  },
  {
   "cell_type": "code",
   "execution_count": 29,
   "metadata": {
    "collapsed": true,
    "scrolled": true
   },
   "outputs": [],
   "source": [
    "# 불필요한 변수 삭제\n",
    "del titanic['Ticket']\n",
    "del titanic['Name']"
   ]
  },
  {
   "cell_type": "markdown",
   "metadata": {},
   "source": [
    "데이터 길이와 null값 여부를 체크해봅시다!"
   ]
  },
  {
   "cell_type": "code",
   "execution_count": 30,
   "metadata": {},
   "outputs": [
    {
     "data": {
      "text/plain": [
       "(891, 9)"
      ]
     },
     "execution_count": 30,
     "metadata": {},
     "output_type": "execute_result"
    }
   ],
   "source": [
    "# 데이터의 형태 확인\n",
    "titanic.shape"
   ]
  },
  {
   "cell_type": "code",
   "execution_count": 31,
   "metadata": {},
   "outputs": [
    {
     "name": "stdout",
     "output_type": "stream",
     "text": [
      "<class 'pandas.core.frame.DataFrame'>\n",
      "Int64Index: 891 entries, 1 to 891\n",
      "Data columns (total 9 columns):\n",
      "Survived    891 non-null int64\n",
      "Pclass      891 non-null int64\n",
      "Sex         891 non-null object\n",
      "Age         714 non-null float64\n",
      "SibSp       891 non-null int64\n",
      "Parch       891 non-null int64\n",
      "Fare        891 non-null float64\n",
      "Cabin       204 non-null object\n",
      "Embarked    889 non-null object\n",
      "dtypes: float64(2), int64(4), object(3)\n",
      "memory usage: 69.6+ KB\n"
     ]
    }
   ],
   "source": [
    "# 데이터의 전반적인 정보\n",
    "titanic.info()"
   ]
  },
  {
   "cell_type": "code",
   "execution_count": 32,
   "metadata": {},
   "outputs": [
    {
     "data": {
      "text/plain": [
       "Survived    0.000000\n",
       "Pclass      0.000000\n",
       "Sex         0.000000\n",
       "Age         0.198653\n",
       "SibSp       0.000000\n",
       "Parch       0.000000\n",
       "Fare        0.000000\n",
       "Cabin       0.771044\n",
       "Embarked    0.002245\n",
       "dtype: float64"
      ]
     },
     "execution_count": 32,
     "metadata": {},
     "output_type": "execute_result"
    }
   ],
   "source": [
    "# 데이터의 null값 확인\n",
    "titanic.isna().sum()/len(titanic)"
   ]
  },
  {
   "cell_type": "markdown",
   "metadata": {},
   "source": [
    "Age와 Cabin 그리고 Embarked에서 null값이 발견되었습니다. 심지어 Cabin은 null값이 무려 687개입니다!<br>\n",
    "데이터의 길이가 891개임을 감안할 때, 이용하기 매우 어려운 컬럼으로 보입니다<br>\n",
    "Null 값이 있는 Column 은 제거해줍시다"
   ]
  },
  {
   "cell_type": "code",
   "execution_count": 33,
   "metadata": {
    "collapsed": true,
    "scrolled": true
   },
   "outputs": [],
   "source": [
    "#  null값이 많은 컬럼 제거\n",
    "del titanic[\"Cabin\"]\n",
    "del titanic[\"Age\"]"
   ]
  },
  {
   "cell_type": "code",
   "execution_count": 34,
   "metadata": {
    "collapsed": true
   },
   "outputs": [],
   "source": [
    "# ‘any’ : If any NA values are present, drop that row or column\n",
    "titanic = titanic.dropna(how='any')"
   ]
  },
  {
   "cell_type": "code",
   "execution_count": 35,
   "metadata": {},
   "outputs": [
    {
     "data": {
      "text/plain": [
       "(889, 7)"
      ]
     },
     "execution_count": 35,
     "metadata": {},
     "output_type": "execute_result"
    }
   ],
   "source": [
    "titanic.shape"
   ]
  },
  {
   "cell_type": "markdown",
   "metadata": {},
   "source": [
    "### 0. Histogram"
   ]
  },
  {
   "cell_type": "code",
   "execution_count": 36,
   "metadata": {},
   "outputs": [
    {
     "data": {
      "text/plain": [
       "array([[<matplotlib.axes._subplots.AxesSubplot object at 0x000002915287B550>,\n",
       "        <matplotlib.axes._subplots.AxesSubplot object at 0x00000291528A5E80>],\n",
       "       [<matplotlib.axes._subplots.AxesSubplot object at 0x00000291528D28D0>,\n",
       "        <matplotlib.axes._subplots.AxesSubplot object at 0x0000029152901390>],\n",
       "       [<matplotlib.axes._subplots.AxesSubplot object at 0x0000029152927E10>,\n",
       "        <matplotlib.axes._subplots.AxesSubplot object at 0x0000029152927E48>]],\n",
       "      dtype=object)"
      ]
     },
     "execution_count": 36,
     "metadata": {},
     "output_type": "execute_result"
    },
    {
     "data": {
      "image/png": "[encoded data removed]",
      "text/plain": [
       "<Figure size 1080x864 with 6 Axes>"
      ]
     },
     "metadata": {},
     "output_type": "display_data"
    }
   ],
   "source": [
    "# histogram 그리기\n",
    "titanic.hist(bins = 50, figsize = (15,12))"
   ]
  },
  {
   "cell_type": "markdown",
   "metadata": {},
   "source": [
    "### 1-1. Integer - Float : barchart (doc: https://matplotlib.org/api/_as_gen/matplotlib.pyplot.bar.html)"
   ]
  },
  {
   "cell_type": "code",
   "execution_count": 37,
   "metadata": {
    "scrolled": false
   },
   "outputs": [
    {
     "data": {
      "text/plain": [
       "Text(0,0.5,'Survived Ratio')"
      ]
     },
     "execution_count": 37,
     "metadata": {},
     "output_type": "execute_result"
    },
    {
     "data": {
      "image/png": "[encoded data removed]",
      "text/plain": [
       "<Figure size 432x288 with 1 Axes>"
      ]
     },
     "metadata": {},
     "output_type": "display_data"
    }
   ],
   "source": [
    "# Parch로 groupby하여 Survived의 mean을 bargraph로 표현\n",
    "stat = titanic.groupby('Parch')['Survived'].mean()\n",
    "plt.bar(x=stat.index.values, height=stat.values)\n",
    "plt.xlabel('Parch')\n",
    "plt.ylabel('Survived Ratio')"
   ]
  },
  {
   "cell_type": "markdown",
   "metadata": {},
   "source": [
    "### 1-2. Category - Float : barchart"
   ]
  },
  {
   "cell_type": "code",
   "execution_count": 38,
   "metadata": {
    "scrolled": true
   },
   "outputs": [
    {
     "data": {
      "text/plain": [
       "<BarContainer object of 2 artists>"
      ]
     },
     "execution_count": 38,
     "metadata": {},
     "output_type": "execute_result"
    },
    {
     "data": {
      "image/png": "[encoded data removed]",
      "text/plain": [
       "<Figure size 432x288 with 1 Axes>"
      ]
     },
     "metadata": {},
     "output_type": "display_data"
    }
   ],
   "source": [
    "# Sex로 groupby하여 Survived의 mean을 bargraph로 표현\n",
    "stat = titanic.groupby('Sex')['Survived'].mean()\n",
    "plt.bar(x=stat.index.values , height=stat.values )"
   ]
  },
  {
   "cell_type": "markdown",
   "metadata": {},
   "source": [
    "### 2. Category - Float : box plot (doc https://seaborn.pydata.org/generated/seaborn.boxplot.html)"
   ]
  },
  {
   "cell_type": "code",
   "execution_count": 39,
   "metadata": {
    "scrolled": false
   },
   "outputs": [
    {
     "data": {
      "text/plain": [
       "<matplotlib.axes._subplots.AxesSubplot at 0x29152c7a160>"
      ]
     },
     "execution_count": 39,
     "metadata": {},
     "output_type": "execute_result"
    },
    {
     "data": {
      "image/png": "[encoded data removed]",
      "text/plain": [
       "<Figure size 432x288 with 1 Axes>"
      ]
     },
     "metadata": {},
     "output_type": "display_data"
    }
   ],
   "source": [
    "# boxplot으로 표현\n",
    "sns.boxplot(x='Pclass', y='Fare', data=titanic) "
   ]
  },
  {
   "cell_type": "code",
   "execution_count": 40,
   "metadata": {
    "scrolled": true
   },
   "outputs": [
    {
     "data": {
      "text/plain": [
       "<matplotlib.axes._subplots.AxesSubplot at 0x29152d1f908>"
      ]
     },
     "execution_count": 40,
     "metadata": {},
     "output_type": "execute_result"
    },
    {
     "data": {
      "image/png": "[encoded data removed]",
      "text/plain": [
       "<Figure size 432x288 with 1 Axes>"
      ]
     },
     "metadata": {},
     "output_type": "display_data"
    }
   ],
   "source": [
    "sns.boxplot(x='Pclass', y='Survived', data=titanic)"
   ]
  },
  {
   "cell_type": "code",
   "execution_count": 41,
   "metadata": {
    "scrolled": false
   },
   "outputs": [
    {
     "data": {
      "text/plain": [
       "<seaborn.axisgrid.FacetGrid at 0x29152d663c8>"
      ]
     },
     "execution_count": 41,
     "metadata": {},
     "output_type": "execute_result"
    },
    {
     "data": {
      "image/png": "[encoded data removed]",
      "text/plain": [
       "<Figure size 360x360 with 1 Axes>"
      ]
     },
     "metadata": {},
     "output_type": "display_data"
    }
   ],
   "source": [
    "# lmplot: visualize a linear relationship\n",
    "#         draw a scatterplot of two variables x and y, and then fit the regression model y ~ x and plot the resulting regression line and a 95% confidence interval for that regression\n",
    "sns.lmplot(x='Fare',y='Survived', data=titanic, logistic=True)"
   ]
  },
  {
   "cell_type": "markdown",
   "metadata": {},
   "source": [
    "# 1) Classification : 승객은 살았는가 죽었는가?"
   ]
  },
  {
   "cell_type": "markdown",
   "metadata": {},
   "source": [
    "## 0.Dummify(더미화)"
   ]
  },
  {
   "cell_type": "code",
   "execution_count": 42,
   "metadata": {},
   "outputs": [
    {
     "name": "stdout",
     "output_type": "stream",
     "text": [
      "<class 'pandas.core.frame.DataFrame'>\n",
      "Int64Index: 889 entries, 1 to 891\n",
      "Data columns (total 7 columns):\n",
      "Survived    889 non-null int64\n",
      "Pclass      889 non-null int64\n",
      "Sex         889 non-null object\n",
      "SibSp       889 non-null int64\n",
      "Parch       889 non-null int64\n",
      "Fare        889 non-null float64\n",
      "Embarked    889 non-null object\n",
      "dtypes: float64(1), int64(4), object(2)\n",
      "memory usage: 95.6+ KB\n"
     ]
    }
   ],
   "source": [
    "titanic.info()"
   ]
  },
  {
   "cell_type": "code",
   "execution_count": 43,
   "metadata": {},
   "outputs": [
    {
     "data": {
      "text/html": [
       "<div>\n",
       "<style scoped>\n",
       "    .dataframe tbody tr th:only-of-type {\n",
       "        vertical-align: middle;\n",
       "    }\n",
       "\n",
       "    .dataframe tbody tr th {\n",
       "        vertical-align: top;\n",
       "    }\n",
       "\n",
       "    .dataframe thead th {\n",
       "        text-align: right;\n",
       "    }\n",
       "</style>\n",
       "<table border=\"1\" class=\"dataframe\">\n",
       "  <thead>\n",
       "    <tr style=\"text-align: right;\">\n",
       "      <th></th>\n",
       "      <th>Sex_female</th>\n",
       "      <th>Sex_male</th>\n",
       "    </tr>\n",
       "    <tr>\n",
       "      <th>PassengerId</th>\n",
       "      <th></th>\n",
       "      <th></th>\n",
       "    </tr>\n",
       "  </thead>\n",
       "  <tbody>\n",
       "    <tr>\n",
       "      <th>1</th>\n",
       "      <td>0</td>\n",
       "      <td>1</td>\n",
       "    </tr>\n",
       "    <tr>\n",
       "      <th>2</th>\n",
       "      <td>1</td>\n",
       "      <td>0</td>\n",
       "    </tr>\n",
       "    <tr>\n",
       "      <th>3</th>\n",
       "      <td>1</td>\n",
       "      <td>0</td>\n",
       "    </tr>\n",
       "    <tr>\n",
       "      <th>4</th>\n",
       "      <td>1</td>\n",
       "      <td>0</td>\n",
       "    </tr>\n",
       "    <tr>\n",
       "      <th>5</th>\n",
       "      <td>0</td>\n",
       "      <td>1</td>\n",
       "    </tr>\n",
       "  </tbody>\n",
       "</table>\n",
       "</div>"
      ],
      "text/plain": [
       "             Sex_female  Sex_male\n",
       "PassengerId                      \n",
       "1                     0         1\n",
       "2                     1         0\n",
       "3                     1         0\n",
       "4                     1         0\n",
       "5                     0         1"
      ]
     },
     "execution_count": 43,
     "metadata": {},
     "output_type": "execute_result"
    }
   ],
   "source": [
    "# pd.get_dummies( \"categorical data\" )\n",
    "pd.get_dummies(titanic['Sex'],prefix='Sex').head()"
   ]
  },
  {
   "cell_type": "code",
   "execution_count": 44,
   "metadata": {
    "collapsed": true,
    "scrolled": true
   },
   "outputs": [],
   "source": [
    "# Sex와 Embarked의 더미변수를 생성한 뒤 titanic data에 이어붙이기\n",
    "dummy_sex = pd.get_dummies(titanic['Sex'],prefix='Sex')\n",
    "dummy_embarked = pd.get_dummies(titanic['Embarked'],prefix='Embarked')\n",
    "\n",
    "titanic_dummy = pd.concat([titanic, dummy_sex, dummy_embarked], axis=1)\n",
    "\n",
    "# 더미변수를 생성했으므로 기존의 categorical 변수 삭제\n",
    "del titanic_dummy['Sex']\n",
    "del titanic_dummy['Embarked']"
   ]
  },
  {
   "cell_type": "code",
   "execution_count": 45,
   "metadata": {},
   "outputs": [
    {
     "data": {
      "text/html": [
       "<div>\n",
       "<style scoped>\n",
       "    .dataframe tbody tr th:only-of-type {\n",
       "        vertical-align: middle;\n",
       "    }\n",
       "\n",
       "    .dataframe tbody tr th {\n",
       "        vertical-align: top;\n",
       "    }\n",
       "\n",
       "    .dataframe thead th {\n",
       "        text-align: right;\n",
       "    }\n",
       "</style>\n",
       "<table border=\"1\" class=\"dataframe\">\n",
       "  <thead>\n",
       "    <tr style=\"text-align: right;\">\n",
       "      <th></th>\n",
       "      <th>Survived</th>\n",
       "      <th>Pclass</th>\n",
       "      <th>SibSp</th>\n",
       "      <th>Parch</th>\n",
       "      <th>Fare</th>\n",
       "      <th>Sex_female</th>\n",
       "      <th>Sex_male</th>\n",
       "      <th>Embarked_C</th>\n",
       "      <th>Embarked_Q</th>\n",
       "      <th>Embarked_S</th>\n",
       "    </tr>\n",
       "    <tr>\n",
       "      <th>PassengerId</th>\n",
       "      <th></th>\n",
       "      <th></th>\n",
       "      <th></th>\n",
       "      <th></th>\n",
       "      <th></th>\n",
       "      <th></th>\n",
       "      <th></th>\n",
       "      <th></th>\n",
       "      <th></th>\n",
       "      <th></th>\n",
       "    </tr>\n",
       "  </thead>\n",
       "  <tbody>\n",
       "    <tr>\n",
       "      <th>1</th>\n",
       "      <td>0</td>\n",
       "      <td>3</td>\n",
       "      <td>1</td>\n",
       "      <td>0</td>\n",
       "      <td>7.2500</td>\n",
       "      <td>0</td>\n",
       "      <td>1</td>\n",
       "      <td>0</td>\n",
       "      <td>0</td>\n",
       "      <td>1</td>\n",
       "    </tr>\n",
       "    <tr>\n",
       "      <th>2</th>\n",
       "      <td>1</td>\n",
       "      <td>1</td>\n",
       "      <td>1</td>\n",
       "      <td>0</td>\n",
       "      <td>71.2833</td>\n",
       "      <td>1</td>\n",
       "      <td>0</td>\n",
       "      <td>1</td>\n",
       "      <td>0</td>\n",
       "      <td>0</td>\n",
       "    </tr>\n",
       "    <tr>\n",
       "      <th>3</th>\n",
       "      <td>1</td>\n",
       "      <td>3</td>\n",
       "      <td>0</td>\n",
       "      <td>0</td>\n",
       "      <td>7.9250</td>\n",
       "      <td>1</td>\n",
       "      <td>0</td>\n",
       "      <td>0</td>\n",
       "      <td>0</td>\n",
       "      <td>1</td>\n",
       "    </tr>\n",
       "    <tr>\n",
       "      <th>4</th>\n",
       "      <td>1</td>\n",
       "      <td>1</td>\n",
       "      <td>1</td>\n",
       "      <td>0</td>\n",
       "      <td>53.1000</td>\n",
       "      <td>1</td>\n",
       "      <td>0</td>\n",
       "      <td>0</td>\n",
       "      <td>0</td>\n",
       "      <td>1</td>\n",
       "    </tr>\n",
       "    <tr>\n",
       "      <th>5</th>\n",
       "      <td>0</td>\n",
       "      <td>3</td>\n",
       "      <td>0</td>\n",
       "      <td>0</td>\n",
       "      <td>8.0500</td>\n",
       "      <td>0</td>\n",
       "      <td>1</td>\n",
       "      <td>0</td>\n",
       "      <td>0</td>\n",
       "      <td>1</td>\n",
       "    </tr>\n",
       "  </tbody>\n",
       "</table>\n",
       "</div>"
      ],
      "text/plain": [
       "             Survived  Pclass  SibSp  Parch     Fare  Sex_female  Sex_male  \\\n",
       "PassengerId                                                                  \n",
       "1                   0       3      1      0   7.2500           0         1   \n",
       "2                   1       1      1      0  71.2833           1         0   \n",
       "3                   1       3      0      0   7.9250           1         0   \n",
       "4                   1       1      1      0  53.1000           1         0   \n",
       "5                   0       3      0      0   8.0500           0         1   \n",
       "\n",
       "             Embarked_C  Embarked_Q  Embarked_S  \n",
       "PassengerId                                      \n",
       "1                     0           0           1  \n",
       "2                     1           0           0  \n",
       "3                     0           0           1  \n",
       "4                     0           0           1  \n",
       "5                     0           0           1  "
      ]
     },
     "execution_count": 45,
     "metadata": {},
     "output_type": "execute_result"
    }
   ],
   "source": [
    "titanic_dummy.head()"
   ]
  },
  {
   "cell_type": "markdown",
   "metadata": {},
   "source": [
    "## 1. Split Data into Train and Test Data"
   ]
  },
  {
   "cell_type": "code",
   "execution_count": 46,
   "metadata": {},
   "outputs": [
    {
     "data": {
      "text/plain": [
       "Index(['Survived', 'Pclass', 'SibSp', 'Parch', 'Fare', 'Sex_female',\n",
       "       'Sex_male', 'Embarked_C', 'Embarked_Q', 'Embarked_S'],\n",
       "      dtype='object')"
      ]
     },
     "execution_count": 46,
     "metadata": {},
     "output_type": "execute_result"
    }
   ],
   "source": [
    "# 이렇게 해두면 이용할 컬럼을 선택할 때 편해요!\n",
    "titanic_dummy.columns"
   ]
  },
  {
   "cell_type": "code",
   "execution_count": 47,
   "metadata": {
    "collapsed": true
   },
   "outputs": [],
   "source": [
    "# 이용할 컬럼 선택\n",
    "features = ['Pclass', 'SibSp', 'Parch', 'Fare','Sex_female', 'Sex_male', 'Embarked_C', 'Embarked_Q', 'Embarked_S']"
   ]
  },
  {
   "cell_type": "code",
   "execution_count": 48,
   "metadata": {
    "collapsed": true
   },
   "outputs": [],
   "source": [
    "# 타겟컬럼과 아닌 컬럼들을 분리\n",
    "X = titanic_dummy[features ]\n",
    "y = titanic_dummy[ 'Survived']\n",
    "\n",
    "# train, test set으로 나누기\n",
    "from sklearn.model_selection import train_test_split\n",
    "\n",
    "X_train, X_test, y_train, y_test =  train_test_split(X, y, test_size = 0.3, random_state = 10)"
   ]
  },
  {
   "cell_type": "markdown",
   "metadata": {},
   "source": [
    "## 2.Build the RandomForestClassifier"
   ]
  },
  {
   "cell_type": "code",
   "execution_count": 49,
   "metadata": {
    "collapsed": true
   },
   "outputs": [],
   "source": [
    "from sklearn.ensemble import RandomForestClassifier\n",
    "\n",
    "# RandomForestClassifier 생성\n",
    "rfc_titanic = RandomForestClassifier(n_estimators = 500, # The number of trees in the forest\n",
    "                            min_samples_leaf = 2,  # A smaller leaf makes the model more prone to capturing noise in train data\n",
    "                            max_depth = 3,\n",
    "                            max_features = 'auto') # auto: sqrt(n_features)"
   ]
  },
  {
   "cell_type": "markdown",
   "metadata": {},
   "source": [
    "## 3.Train the Model"
   ]
  },
  {
   "cell_type": "code",
   "execution_count": 50,
   "metadata": {},
   "outputs": [
    {
     "data": {
      "text/plain": [
       "RandomForestClassifier(bootstrap=True, class_weight=None, criterion='gini',\n",
       "            max_depth=3, max_features='auto', max_leaf_nodes=None,\n",
       "            min_impurity_decrease=0.0, min_impurity_split=None,\n",
       "            min_samples_leaf=2, min_samples_split=2,\n",
       "            min_weight_fraction_leaf=0.0, n_estimators=500, n_jobs=None,\n",
       "            oob_score=False, random_state=None, verbose=0,\n",
       "            warm_start=False)"
      ]
     },
     "execution_count": 50,
     "metadata": {},
     "output_type": "execute_result"
    }
   ],
   "source": [
    "# 모델 학습\n",
    "rfc_titanic.fit(X_train, y_train)"
   ]
  },
  {
   "cell_type": "markdown",
   "metadata": {},
   "source": [
    "## 4.Predict the result"
   ]
  },
  {
   "cell_type": "code",
   "execution_count": 51,
   "metadata": {},
   "outputs": [
    {
     "data": {
      "text/plain": [
       "array([1, 0, 0, 1, 0, 0, 1, 1, 0, 0, 0, 1, 0, 0, 0, 0, 1, 0, 0, 0, 0, 0,\n",
       "       1, 0, 0, 0, 1, 0, 0, 1, 1, 1, 1, 1, 1, 0, 1, 0, 0, 0, 0, 0, 0, 0,\n",
       "       0, 0, 0, 1, 1, 0, 1, 0, 0, 0, 0, 1, 0, 0, 0, 0, 1, 1, 0, 1, 0, 0,\n",
       "       0, 0, 0, 1, 1, 0, 0, 0, 0, 0, 0, 0, 0, 0, 0, 1, 0, 1, 1, 0, 0, 1,\n",
       "       0, 0, 1, 0, 1, 0, 0, 0, 0, 0, 0, 0, 0, 0, 1, 0, 0, 0, 0, 1, 0, 0,\n",
       "       1, 0, 0, 1, 0, 0, 0, 0, 0, 0, 0, 0, 0, 0, 1, 0, 0, 0, 0, 1, 1, 1,\n",
       "       1, 1, 0, 1, 0, 0, 0, 0, 0, 0, 0, 0, 1, 0, 0, 0, 0, 0, 0, 1, 0, 1,\n",
       "       1, 1, 0, 1, 0, 0, 0, 0, 1, 1, 0, 0, 0, 0, 0, 1, 0, 0, 1, 0, 0, 0,\n",
       "       0, 0, 0, 1, 0, 0, 0, 0, 0, 0, 0, 0, 0, 0, 0, 0, 0, 0, 0, 1, 0, 1,\n",
       "       0, 0, 0, 0, 1, 1, 0, 0, 0, 1, 0, 0, 0, 0, 1, 0, 0, 0, 0, 0, 0, 0,\n",
       "       1, 1, 1, 1, 1, 0, 0, 1, 1, 0, 0, 1, 0, 0, 0, 0, 1, 0, 0, 1, 0, 0,\n",
       "       0, 0, 0, 1, 1, 1, 1, 0, 1, 1, 0, 0, 0, 1, 1, 0, 0, 0, 0, 0, 1, 0,\n",
       "       1, 0, 1], dtype=int64)"
      ]
     },
     "execution_count": 51,
     "metadata": {},
     "output_type": "execute_result"
    }
   ],
   "source": [
    "# Survived 여부를 예측\n",
    "rfc_titanic.predict(X_test)"
   ]
  },
  {
   "cell_type": "code",
   "execution_count": 52,
   "metadata": {},
   "outputs": [
    {
     "data": {
      "text/html": [
       "<div>\n",
       "<style scoped>\n",
       "    .dataframe tbody tr th:only-of-type {\n",
       "        vertical-align: middle;\n",
       "    }\n",
       "\n",
       "    .dataframe tbody tr th {\n",
       "        vertical-align: top;\n",
       "    }\n",
       "\n",
       "    .dataframe thead th {\n",
       "        text-align: right;\n",
       "    }\n",
       "</style>\n",
       "<table border=\"1\" class=\"dataframe\">\n",
       "  <thead>\n",
       "    <tr style=\"text-align: right;\">\n",
       "      <th></th>\n",
       "      <th>Dead</th>\n",
       "      <th>Survived</th>\n",
       "    </tr>\n",
       "  </thead>\n",
       "  <tbody>\n",
       "    <tr>\n",
       "      <th>0</th>\n",
       "      <td>0.220023</td>\n",
       "      <td>0.779977</td>\n",
       "    </tr>\n",
       "    <tr>\n",
       "      <th>1</th>\n",
       "      <td>0.643122</td>\n",
       "      <td>0.356878</td>\n",
       "    </tr>\n",
       "    <tr>\n",
       "      <th>2</th>\n",
       "      <td>0.870199</td>\n",
       "      <td>0.129801</td>\n",
       "    </tr>\n",
       "    <tr>\n",
       "      <th>3</th>\n",
       "      <td>0.077603</td>\n",
       "      <td>0.922397</td>\n",
       "    </tr>\n",
       "    <tr>\n",
       "      <th>4</th>\n",
       "      <td>0.762104</td>\n",
       "      <td>0.237896</td>\n",
       "    </tr>\n",
       "  </tbody>\n",
       "</table>\n",
       "</div>"
      ],
      "text/plain": [
       "       Dead  Survived\n",
       "0  0.220023  0.779977\n",
       "1  0.643122  0.356878\n",
       "2  0.870199  0.129801\n",
       "3  0.077603  0.922397\n",
       "4  0.762104  0.237896"
      ]
     },
     "execution_count": 52,
     "metadata": {},
     "output_type": "execute_result"
    }
   ],
   "source": [
    "# Survived or Dead 에 대한 예측 확률을 보여줌\n",
    "# predict_proba: 분류기가 각 샘플에 부여한 클래스별 확률 확인가능\n",
    "pd.DataFrame(rfc_titanic.predict_proba(X_test) , columns = [\"Dead\",\"Survived\"]).head()"
   ]
  },
  {
   "cell_type": "markdown",
   "metadata": {},
   "source": [
    "## 5. Validate the result"
   ]
  },
  {
   "cell_type": "code",
   "execution_count": 53,
   "metadata": {},
   "outputs": [
    {
     "data": {
      "text/plain": [
       "0.8014981273408239"
      ]
     },
     "execution_count": 53,
     "metadata": {},
     "output_type": "execute_result"
    }
   ],
   "source": [
    "# score :  mean accuarcy\n",
    "rfc_titanic.score(X_test,y_test)   # test set으로 RandomForestClassifier의 성능 평가"
   ]
  },
  {
   "cell_type": "markdown",
   "metadata": {},
   "source": [
    "## 6. Confusion Matrix"
   ]
  },
  {
   "cell_type": "code",
   "execution_count": 54,
   "metadata": {
    "collapsed": true
   },
   "outputs": [],
   "source": [
    "# 예측 결과를 y_pred 이라는 변수명으로 저장\n",
    "y_pred = rfc_titanic.predict(X_test)"
   ]
  },
  {
   "cell_type": "code",
   "execution_count": 55,
   "metadata": {},
   "outputs": [
    {
     "data": {
      "text/html": [
       "<div>\n",
       "<style scoped>\n",
       "    .dataframe tbody tr th:only-of-type {\n",
       "        vertical-align: middle;\n",
       "    }\n",
       "\n",
       "    .dataframe tbody tr th {\n",
       "        vertical-align: top;\n",
       "    }\n",
       "\n",
       "    .dataframe thead th {\n",
       "        text-align: right;\n",
       "    }\n",
       "</style>\n",
       "<table border=\"1\" class=\"dataframe\">\n",
       "  <thead>\n",
       "    <tr style=\"text-align: right;\">\n",
       "      <th>Prediction</th>\n",
       "      <th>0</th>\n",
       "      <th>1</th>\n",
       "    </tr>\n",
       "    <tr>\n",
       "      <th>Actual</th>\n",
       "      <th></th>\n",
       "      <th></th>\n",
       "    </tr>\n",
       "  </thead>\n",
       "  <tbody>\n",
       "    <tr>\n",
       "      <th>0</th>\n",
       "      <td>152</td>\n",
       "      <td>17</td>\n",
       "    </tr>\n",
       "    <tr>\n",
       "      <th>1</th>\n",
       "      <td>36</td>\n",
       "      <td>62</td>\n",
       "    </tr>\n",
       "  </tbody>\n",
       "</table>\n",
       "</div>"
      ],
      "text/plain": [
       "Prediction    0   1\n",
       "Actual             \n",
       "0           152  17\n",
       "1            36  62"
      ]
     },
     "execution_count": 55,
     "metadata": {},
     "output_type": "execute_result"
    }
   ],
   "source": [
    "# Create confusion matrix\n",
    "pd.crosstab(y_test, y_pred, rownames = [\"Actual\"], colnames =[\"Prediction\"] )"
   ]
  },
  {
   "cell_type": "markdown",
   "metadata": {},
   "source": [
    "## 7. Feature Importance"
   ]
  },
  {
   "cell_type": "code",
   "execution_count": 56,
   "metadata": {},
   "outputs": [
    {
     "data": {
      "text/plain": [
       "<matplotlib.axes._subplots.AxesSubplot at 0x29155746358>"
      ]
     },
     "execution_count": 56,
     "metadata": {},
     "output_type": "execute_result"
    },
    {
     "data": {
      "image/png": "[encoded data removed]",
      "text/plain": [
       "<Figure size 432x288 with 1 Axes>"
      ]
     },
     "metadata": {},
     "output_type": "display_data"
    }
   ],
   "source": [
    "# feature importance\n",
    "from scikitplot.estimators import plot_feature_importances\n",
    "\n",
    "plot_feature_importances( rfc_titanic , feature_names=X.columns, x_tick_rotation=45)"
   ]
  },
  {
   "cell_type": "markdown",
   "metadata": {},
   "source": [
    "# 2) Regression - 요금을 예측해봅시다!"
   ]
  },
  {
   "cell_type": "markdown",
   "metadata": {},
   "source": [
    "이번에는 Regression 모델을 이용하여 승객의 **요금(Fare)**을 예측해보도록 하겠습니다\n",
    "- 더미화된 데이터까지는 과정이 동일하니 더미화된 데이터를 다시 불러옵니다"
   ]
  },
  {
   "cell_type": "code",
   "execution_count": 57,
   "metadata": {},
   "outputs": [
    {
     "data": {
      "text/html": [
       "<div>\n",
       "<style scoped>\n",
       "    .dataframe tbody tr th:only-of-type {\n",
       "        vertical-align: middle;\n",
       "    }\n",
       "\n",
       "    .dataframe tbody tr th {\n",
       "        vertical-align: top;\n",
       "    }\n",
       "\n",
       "    .dataframe thead th {\n",
       "        text-align: right;\n",
       "    }\n",
       "</style>\n",
       "<table border=\"1\" class=\"dataframe\">\n",
       "  <thead>\n",
       "    <tr style=\"text-align: right;\">\n",
       "      <th></th>\n",
       "      <th>Survived</th>\n",
       "      <th>Pclass</th>\n",
       "      <th>SibSp</th>\n",
       "      <th>Parch</th>\n",
       "      <th>Fare</th>\n",
       "      <th>Sex_female</th>\n",
       "      <th>Sex_male</th>\n",
       "      <th>Embarked_C</th>\n",
       "      <th>Embarked_Q</th>\n",
       "      <th>Embarked_S</th>\n",
       "    </tr>\n",
       "    <tr>\n",
       "      <th>PassengerId</th>\n",
       "      <th></th>\n",
       "      <th></th>\n",
       "      <th></th>\n",
       "      <th></th>\n",
       "      <th></th>\n",
       "      <th></th>\n",
       "      <th></th>\n",
       "      <th></th>\n",
       "      <th></th>\n",
       "      <th></th>\n",
       "    </tr>\n",
       "  </thead>\n",
       "  <tbody>\n",
       "    <tr>\n",
       "      <th>1</th>\n",
       "      <td>0</td>\n",
       "      <td>3</td>\n",
       "      <td>1</td>\n",
       "      <td>0</td>\n",
       "      <td>7.2500</td>\n",
       "      <td>0</td>\n",
       "      <td>1</td>\n",
       "      <td>0</td>\n",
       "      <td>0</td>\n",
       "      <td>1</td>\n",
       "    </tr>\n",
       "    <tr>\n",
       "      <th>2</th>\n",
       "      <td>1</td>\n",
       "      <td>1</td>\n",
       "      <td>1</td>\n",
       "      <td>0</td>\n",
       "      <td>71.2833</td>\n",
       "      <td>1</td>\n",
       "      <td>0</td>\n",
       "      <td>1</td>\n",
       "      <td>0</td>\n",
       "      <td>0</td>\n",
       "    </tr>\n",
       "    <tr>\n",
       "      <th>3</th>\n",
       "      <td>1</td>\n",
       "      <td>3</td>\n",
       "      <td>0</td>\n",
       "      <td>0</td>\n",
       "      <td>7.9250</td>\n",
       "      <td>1</td>\n",
       "      <td>0</td>\n",
       "      <td>0</td>\n",
       "      <td>0</td>\n",
       "      <td>1</td>\n",
       "    </tr>\n",
       "    <tr>\n",
       "      <th>4</th>\n",
       "      <td>1</td>\n",
       "      <td>1</td>\n",
       "      <td>1</td>\n",
       "      <td>0</td>\n",
       "      <td>53.1000</td>\n",
       "      <td>1</td>\n",
       "      <td>0</td>\n",
       "      <td>0</td>\n",
       "      <td>0</td>\n",
       "      <td>1</td>\n",
       "    </tr>\n",
       "    <tr>\n",
       "      <th>5</th>\n",
       "      <td>0</td>\n",
       "      <td>3</td>\n",
       "      <td>0</td>\n",
       "      <td>0</td>\n",
       "      <td>8.0500</td>\n",
       "      <td>0</td>\n",
       "      <td>1</td>\n",
       "      <td>0</td>\n",
       "      <td>0</td>\n",
       "      <td>1</td>\n",
       "    </tr>\n",
       "  </tbody>\n",
       "</table>\n",
       "</div>"
      ],
      "text/plain": [
       "             Survived  Pclass  SibSp  Parch     Fare  Sex_female  Sex_male  \\\n",
       "PassengerId                                                                  \n",
       "1                   0       3      1      0   7.2500           0         1   \n",
       "2                   1       1      1      0  71.2833           1         0   \n",
       "3                   1       3      0      0   7.9250           1         0   \n",
       "4                   1       1      1      0  53.1000           1         0   \n",
       "5                   0       3      0      0   8.0500           0         1   \n",
       "\n",
       "             Embarked_C  Embarked_Q  Embarked_S  \n",
       "PassengerId                                      \n",
       "1                     0           0           1  \n",
       "2                     1           0           0  \n",
       "3                     0           0           1  \n",
       "4                     0           0           1  \n",
       "5                     0           0           1  "
      ]
     },
     "execution_count": 57,
     "metadata": {},
     "output_type": "execute_result"
    }
   ],
   "source": [
    "titanic_dummy.head()"
   ]
  },
  {
   "cell_type": "markdown",
   "metadata": {},
   "source": [
    "- 예측에 사용할 변수와 예측할 변수(target)를 다시 설정해 줍니다"
   ]
  },
  {
   "cell_type": "markdown",
   "metadata": {},
   "source": [
    "## 1. Split Data into Train and Test Data"
   ]
  },
  {
   "cell_type": "code",
   "execution_count": 58,
   "metadata": {},
   "outputs": [
    {
     "data": {
      "text/plain": [
       "Index(['Survived', 'Pclass', 'SibSp', 'Parch', 'Fare', 'Sex_female',\n",
       "       'Sex_male', 'Embarked_C', 'Embarked_Q', 'Embarked_S'],\n",
       "      dtype='object')"
      ]
     },
     "execution_count": 58,
     "metadata": {},
     "output_type": "execute_result"
    }
   ],
   "source": [
    "# 이렇게 해두면 이용할 컬럼을 선택할 때 편해요!\n",
    "titanic_dummy.columns"
   ]
  },
  {
   "cell_type": "code",
   "execution_count": 59,
   "metadata": {
    "collapsed": true
   },
   "outputs": [],
   "source": [
    "# 이용할 컬럼 선택\n",
    "features = ['Pclass', 'SibSp', 'Parch', 'Survived','Sex_female', 'Sex_male', 'Embarked_C', 'Embarked_Q', 'Embarked_S']"
   ]
  },
  {
   "cell_type": "code",
   "execution_count": 60,
   "metadata": {
    "collapsed": true
   },
   "outputs": [],
   "source": [
    "# 설명변수와 반응변수 설정\n",
    "X = titanic_dummy[features ] \n",
    "y = titanic_dummy[ 'Fare']\n",
    "\n",
    "# Train, test set으로 나누기\n",
    "X_train, X_test, y_train, y_test =  train_test_split(X,y,test_size=0.3, random_state=10)"
   ]
  },
  {
   "cell_type": "markdown",
   "metadata": {},
   "source": [
    "## 2.Build the RandomForestRegressor"
   ]
  },
  {
   "cell_type": "code",
   "execution_count": 61,
   "metadata": {
    "collapsed": true
   },
   "outputs": [],
   "source": [
    "# 모델 생성\n",
    "from sklearn.ensemble import RandomForestRegressor\n",
    "\n",
    "rfr_titanic = RandomForestRegressor(\n",
    "                            n_estimators = 1000, \n",
    "                            min_samples_leaf = 3, \n",
    "                            max_depth = 50, \n",
    "                            max_features = 5, # maximum number of features Random Forest is allowed to try in individual tree\n",
    "                            )"
   ]
  },
  {
   "cell_type": "markdown",
   "metadata": {},
   "source": [
    "## 3.Train the Model"
   ]
  },
  {
   "cell_type": "code",
   "execution_count": 62,
   "metadata": {},
   "outputs": [
    {
     "data": {
      "text/plain": [
       "RandomForestRegressor(bootstrap=True, criterion='mse', max_depth=50,\n",
       "           max_features=5, max_leaf_nodes=None, min_impurity_decrease=0.0,\n",
       "           min_impurity_split=None, min_samples_leaf=3,\n",
       "           min_samples_split=2, min_weight_fraction_leaf=0.0,\n",
       "           n_estimators=1000, n_jobs=None, oob_score=False,\n",
       "           random_state=None, verbose=0, warm_start=False)"
      ]
     },
     "execution_count": 62,
     "metadata": {},
     "output_type": "execute_result"
    }
   ],
   "source": [
    "# 모델 학습\n",
    "rfr_titanic.fit(X_train,y_train)"
   ]
  },
  {
   "cell_type": "markdown",
   "metadata": {},
   "source": [
    "## 4.Predict the result"
   ]
  },
  {
   "cell_type": "code",
   "execution_count": 63,
   "metadata": {},
   "outputs": [
    {
     "data": {
      "text/plain": [
       "array([ 14.5622542 ,  58.62069413,   9.13347847, 126.26816555,\n",
       "         8.21040372,  28.65796246,   8.15502202,   9.90744174,\n",
       "         9.17419263,  14.23806923,  73.76753902,  35.46664813,\n",
       "        16.78382283,   9.17419263,  25.87747961,   9.13347847,\n",
       "        91.45657553,  13.03571952,   9.13347847,  30.83722912,\n",
       "         9.13347847,   8.21040372, 126.26816555,  15.19055347,\n",
       "         9.13347847,   9.13347847,  16.80932618,  15.84255942,\n",
       "         9.17419263,  89.43005833, 117.84588496,   8.15502202,\n",
       "       116.55290163,  21.99939104,   8.15502202,   9.13347847,\n",
       "        24.56113273, 136.52819022,  59.51613811,   9.13347847,\n",
       "        77.2281477 ,   9.13347847,   9.13347847,   9.17419263,\n",
       "        65.33875471,  30.0491053 , 118.63289704,  19.64911436,\n",
       "         8.15502202,  51.40641723,  14.14583792,   9.13347847,\n",
       "        13.03571952,  28.65796246,   9.13347847,  76.29583876,\n",
       "        30.76388028,  31.10147152,  37.83291351,  18.69596607,\n",
       "        89.43005833, 108.74300357,  15.84255942, 113.89239279,\n",
       "         9.13347847,  58.62069413,   9.13347847,  15.19055347,\n",
       "        13.03571952,   8.32911123,  15.90706698,   9.13347847,\n",
       "        33.538656  ,   9.13347847,   9.13347847,  29.51188645,\n",
       "        18.49770563,   9.13347847,  15.19055347,  37.83291351,\n",
       "        13.03571952,  14.5622542 ,  26.59762935,   8.32911123,\n",
       "        15.90706698,  28.03959442, 130.00681999,  24.73695461,\n",
       "        15.84255942,  15.19055347,  19.17043337,   9.13347847,\n",
       "        71.74079642,  73.76753902,  13.03571952,  14.03413628,\n",
       "        18.69596607,   9.13347847,   9.13347847,  37.83291351,\n",
       "        73.76753902,  15.19055347, 126.26816555,   9.13347847,\n",
       "         9.13347847,  28.65796246,  30.15255715,  24.56113273,\n",
       "         9.13347847,  13.03571952,  89.43005833,   9.13347847,\n",
       "        37.83291351, 130.41604061,  15.19055347,   9.13347847,\n",
       "        15.92428557,  82.71227377,  15.84255942,  37.83291351,\n",
       "        73.76753902,  23.39994506,  29.11034792,   9.13347847,\n",
       "       116.55290163,  15.19055347,   9.13347847,   9.13347847,\n",
       "         9.17419263, 126.26816555,  24.73695461, 100.00987521,\n",
       "        89.43005833,  19.90939675,  26.69947085,  16.9938903 ,\n",
       "         9.13347847,  61.13664219,  37.83291351,  18.69596607,\n",
       "        15.19055347,   9.17419263,   9.13347847,   9.13347847,\n",
       "        71.74079642,  58.62069413,  18.82156835,  37.83291351,\n",
       "         9.17419263, 130.00681999,  30.83722912, 126.26816555,\n",
       "        26.69947085,   8.15502202,  16.80932618,  14.5622542 ,\n",
       "        28.65796246,  91.45657553,  15.19055347,   9.13347847,\n",
       "        30.76388028,  26.59762935,  30.72803986,  14.14583792,\n",
       "         8.21040372,  13.03571952,  15.19055347,   8.21040372,\n",
       "         9.13347847,   8.74509968,   9.17419263,  58.62069413,\n",
       "       110.30650733,   9.13347847,  15.19055347,   9.13347847,\n",
       "         9.13347847,  15.19055347,   8.21040372,  14.5622542 ,\n",
       "        37.83291351,  15.19055347,  33.16592762,   9.13347847,\n",
       "        37.83291351,   8.21040372,  65.33875471,  16.92946271,\n",
       "         9.13347847,   9.17419263,   9.13347847,  26.69947085,\n",
       "        99.40526331,  28.65796246,  26.69947085,   8.62773238,\n",
       "        23.18890811, 110.30650733,   9.13347847,   9.13347847,\n",
       "        30.83722912,  33.16592762, 142.56167045,  14.32351036,\n",
       "         9.13347847,   9.13347847,  30.83722912,  17.32201258,\n",
       "         9.13347847,  37.83291351,  15.19055347,  13.85474096,\n",
       "        29.51782537,   9.17419263,   9.13347847,  65.94252677,\n",
       "        15.84255942,   9.13347847,  15.84255942,  18.50977684,\n",
       "        19.79764565,  14.14583792,  16.00639438,  29.51782537,\n",
       "        91.45657553,   9.13347847,  10.72954058,  25.52724188,\n",
       "        89.43005833,   9.13347847,  14.23806923, 145.69748184,\n",
       "        28.65796246,  65.94252677,  77.62417021,   9.13347847,\n",
       "        78.17304161,   9.13347847,   9.13347847,  16.9938903 ,\n",
       "        30.60783841,   9.13347847,  73.76753902,  15.84255942,\n",
       "        15.84255942,   8.62773238,   8.74509968,  24.73695461,\n",
       "       147.30478271,   9.13347847,  14.5622542 ,  71.74079642,\n",
       "         8.21040372,  73.76753902,  15.19055347,   8.74509968,\n",
       "        89.43005833,  30.60783841,  23.82344022,  15.19055347,\n",
       "        15.84255942,   9.13347847, 116.55290163,  17.28783921,\n",
       "        19.6581251 ,   9.13347847,  26.70032194])"
      ]
     },
     "execution_count": 63,
     "metadata": {},
     "output_type": "execute_result"
    }
   ],
   "source": [
    "# X_test set으로 y 예측\n",
    "rfr_titanic.predict(X_test)"
   ]
  },
  {
   "cell_type": "markdown",
   "metadata": {},
   "source": [
    "## 5. Validate the result"
   ]
  },
  {
   "cell_type": "code",
   "execution_count": 64,
   "metadata": {},
   "outputs": [
    {
     "data": {
      "text/plain": [
       "0.5109140903232521"
      ]
     },
     "execution_count": 64,
     "metadata": {},
     "output_type": "execute_result"
    }
   ],
   "source": [
    "# 얼마나 잘 예측했는지 확인\n",
    "rfr_titanic.score(X_test, y_test)  # test set으로 RandomForestRegressor의 성능 평가"
   ]
  },
  {
   "cell_type": "markdown",
   "metadata": {},
   "source": [
    "## 6. Feature Importance"
   ]
  },
  {
   "cell_type": "code",
   "execution_count": 65,
   "metadata": {},
   "outputs": [
    {
     "data": {
      "text/plain": [
       "<matplotlib.axes._subplots.AxesSubplot at 0x291558bd240>"
      ]
     },
     "execution_count": 65,
     "metadata": {},
     "output_type": "execute_result"
    },
    {
     "data": {
      "image/png": "[encoded data removed]",
      "text/plain": [
       "<Figure size 432x288 with 1 Axes>"
      ]
     },
     "metadata": {},
     "output_type": "display_data"
    }
   ],
   "source": [
    "# feature importance\n",
    "plot_feature_importances(rfr_titanic, feature_names=X.columns, x_tick_rotation=30)"
   ]
  },
  {
   "cell_type": "markdown",
   "metadata": {},
   "source": [
    "&nbsp;  \n",
    "&nbsp;  \n",
    "&nbsp;  \n",
    "&nbsp;  \n",
    "&nbsp;  \n",
    "&nbsp;  \n",
    "&nbsp;  \n",
    "&nbsp;  "
   ]
  },
  {
   "cell_type": "markdown",
   "metadata": {},
   "source": [
    "# Boosting 실습_190131\n",
    "---\n",
    "based on 9기 박성남님 강의자료"
   ]
  },
  {
   "cell_type": "markdown",
   "metadata": {},
   "source": [
    "### Boosting\n",
    "- Bagging의 변형으로,모델이 잘 예측하지 못하는 부분을 개선하기 위한 방법\n",
    "- 이전 모델의 오류를 고려하는 연속 앙상블 기법\n",
    "- 이전 모델이 예측하지 못한 Error 데이터에 가중치를 부여하여 다음 모델이 더 잘 예측하도록 함\n",
    "- bias 감소\n"
   ]
  },
  {
   "cell_type": "code",
   "execution_count": 66,
   "metadata": {
    "collapsed": true
   },
   "outputs": [],
   "source": [
    "# Boston 데이터를 사용할 것이므로 train,test set 재설정\n",
    "# 설명변수, 반응변수 설정\n",
    "X = boston.loc[:,'crim':'lstat'   ]  \n",
    "y = boston.loc[:, 'medv'  ]\n",
    "\n",
    "# train, test set으로 나누기\n",
    "X_train, X_test, y_train, y_test = train_test_split( X, y,test_size=0.3 ,random_state=42 )"
   ]
  },
  {
   "cell_type": "markdown",
   "metadata": {},
   "source": [
    "## 1. GradientBoosting"
   ]
  },
  {
   "cell_type": "markdown",
   "metadata": {},
   "source": [
    "#### Step 1 :  Parameter를 적당한 값으로 고정"
   ]
  },
  {
   "cell_type": "code",
   "execution_count": 67,
   "metadata": {
    "collapsed": true
   },
   "outputs": [],
   "source": [
    "from sklearn.ensemble import GradientBoostingRegressor\n",
    "\n",
    "gbm_boston = GradientBoostingRegressor(n_estimators=500, learning_rate=0.01,   # 모델 생성\n",
    "                                     max_depth=4,random_state=42)\n",
    "gbm_boston.fit(X_train,y_train)   # 적합하고\n",
    "y_pred = gbm_boston.predict(X_test)  # 예측한 값을 y_pred에 저장"
   ]
  },
  {
   "cell_type": "code",
   "execution_count": 68,
   "metadata": {},
   "outputs": [
    {
     "name": "stdout",
     "output_type": "stream",
     "text": [
      "Score : 0.8279542259493221\n"
     ]
    }
   ],
   "source": [
    "from sklearn.model_selection import cross_val_score\n",
    "\n",
    "print(\"Score : {}\".format(np.mean(cross_val_score(gbm_boston, X_train, y_train, cv=5)))) # cross validation score의 평균"
   ]
  },
  {
   "cell_type": "code",
   "execution_count": 69,
   "metadata": {},
   "outputs": [
    {
     "data": {
      "text/plain": [
       "<matplotlib.axes._subplots.AxesSubplot at 0x29155969828>"
      ]
     },
     "execution_count": 69,
     "metadata": {},
     "output_type": "execute_result"
    },
    {
     "data": {
      "image/png": "[encoded data removed]",
      "text/plain": [
       "<Figure size 432x288 with 1 Axes>"
      ]
     },
     "metadata": {},
     "output_type": "display_data"
    }
   ],
   "source": [
    "# feature importance\n",
    "plot_feature_importances(gbm_boston, feature_names=X.columns, x_tick_rotation=45)"
   ]
  },
  {
   "cell_type": "markdown",
   "metadata": {},
   "source": [
    "#### Step 2 : Boosting Parameters 최적화"
   ]
  },
  {
   "cell_type": "code",
   "execution_count": 70,
   "metadata": {
    "collapsed": true
   },
   "outputs": [],
   "source": [
    "# GridSearchCV를 진행할 파라미터 조합\n",
    "gbm_params_1 = {\n",
    "    'min_samples_split' : [int(n*p*0.01) for p in range(2,8,2) for n in [len(X_train)]], # The minimum number of samples required to split an internal node\n",
    "    'min_samples_leaf' : [3,5,10], # The minimum number of samples required to be at a leaf node\n",
    "    'max_depth' : [5,7],\n",
    "    'max_features' : ['sqrt'],\n",
    "    'subsample' : [0.5, 0.8], # The fraction of samples to be used for fitting the individual base learners\n",
    "}"
   ]
  },
  {
   "cell_type": "code",
   "execution_count": 71,
   "metadata": {},
   "outputs": [
    {
     "name": "stdout",
     "output_type": "stream",
     "text": [
      "Fitting 3 folds for each of 36 candidates, totalling 108 fits\n"
     ]
    },
    {
     "name": "stderr",
     "output_type": "stream",
     "text": [
      "[Parallel(n_jobs=1)]: Using backend SequentialBackend with 1 concurrent workers.\n",
      "[Parallel(n_jobs=1)]: Done 108 out of 108 | elapsed:   38.1s finished\n"
     ]
    },
    {
     "data": {
      "text/plain": [
       "GridSearchCV(cv=3, error_score='raise-deprecating',\n",
       "       estimator=GradientBoostingRegressor(alpha=0.9, criterion='friedman_mse', init=None,\n",
       "             learning_rate=0.01, loss='ls', max_depth=4, max_features=None,\n",
       "             max_leaf_nodes=None, min_impurity_decrease=0.0,\n",
       "             min_impurity_split=None, min_samples_leaf=1,\n",
       "             min_samp...te=42, subsample=1.0, tol=0.0001,\n",
       "             validation_fraction=0.1, verbose=0, warm_start=False),\n",
       "       fit_params=None, iid='warn', n_jobs=None,\n",
       "       param_grid={'min_samples_split': [7, 14, 21], 'min_samples_leaf': [3, 5, 10], 'max_depth': [5, 7], 'max_features': ['sqrt'], 'subsample': [0.5, 0.8]},\n",
       "       pre_dispatch='2*n_jobs', refit=True, return_train_score='warn',\n",
       "       scoring=None, verbose=1)"
      ]
     },
     "execution_count": 71,
     "metadata": {},
     "output_type": "execute_result"
    }
   ],
   "source": [
    "# GridSearchCV\n",
    "from sklearn.model_selection import GridSearchCV\n",
    "\n",
    "gbm_boston_grid1 = GridSearchCV( gbm_boston , param_grid=gbm_params_1, cv=3, verbose=1 ) # verbose: Controls the verbosity(자세한 정도)-the higher, the more messages\n",
    "gbm_boston_grid1.fit(X_train, y_train)"
   ]
  },
  {
   "cell_type": "code",
   "execution_count": 72,
   "metadata": {},
   "outputs": [
    {
     "name": "stdout",
     "output_type": "stream",
     "text": [
      "Best Score : 0.8446176333165792\n",
      "Best Params : {'max_depth': 7, 'max_features': 'sqrt', 'min_samples_leaf': 3, 'min_samples_split': 14, 'subsample': 0.5}\n"
     ]
    }
   ],
   "source": [
    "print(\"Best Score : {}\".format(gbm_boston_grid1.best_score_  ))\n",
    "print(\"Best Params : {}\".format(gbm_boston_grid1.best_params_  ))"
   ]
  },
  {
   "cell_type": "code",
   "execution_count": 73,
   "metadata": {
    "collapsed": true
   },
   "outputs": [],
   "source": [
    "best_gbm_model = gbm_boston_grid1.best_estimator_       # 주어진 parameter의 조합으로 생성된 최적 모델"
   ]
  },
  {
   "cell_type": "markdown",
   "metadata": {},
   "source": [
    "####  Step 3 : 다시 최적의 Core Parameter 찾기"
   ]
  },
  {
   "cell_type": "code",
   "execution_count": 74,
   "metadata": {},
   "outputs": [
    {
     "name": "stdout",
     "output_type": "stream",
     "text": [
      "Fitting 5 folds for each of 30 candidates, totalling 150 fits\n"
     ]
    },
    {
     "name": "stderr",
     "output_type": "stream",
     "text": [
      "[Parallel(n_jobs=1)]: Using backend SequentialBackend with 1 concurrent workers.\n",
      "[Parallel(n_jobs=1)]: Done 150 out of 150 | elapsed:   15.8s finished\n",
      "C:\\Users\\wldnf\\Anaconda3\\lib\\site-packages\\sklearn\\model_selection\\_search.py:841: DeprecationWarning: The default of the `iid` parameter will change from True to False in version 0.22 and will be removed in 0.24. This will change numeric results when test-set sizes are unequal.\n",
      "  DeprecationWarning)\n"
     ]
    },
    {
     "data": {
      "text/plain": [
       "GridSearchCV(cv=5, error_score='raise-deprecating',\n",
       "       estimator=GradientBoostingRegressor(alpha=0.9, criterion='friedman_mse', init=None,\n",
       "             learning_rate=0.01, loss='ls', max_depth=7,\n",
       "             max_features='sqrt', max_leaf_nodes=None,\n",
       "             min_impurity_decrease=0.0, min_impurity_split=None,\n",
       "             min_samples_leaf=3, min_sa...       subsample=0.5, tol=0.0001, validation_fraction=0.1, verbose=0,\n",
       "             warm_start=False),\n",
       "       fit_params=None, iid='warn', n_jobs=None,\n",
       "       param_grid={'learning_rate': [0.01, 0.05, 0.07, 0.1, 0.2], 'n_estimators': [80, 100, 120, 140, 160, 180]},\n",
       "       pre_dispatch='2*n_jobs', refit=True, return_train_score='warn',\n",
       "       scoring=None, verbose=1)"
      ]
     },
     "execution_count": 74,
     "metadata": {},
     "output_type": "execute_result"
    }
   ],
   "source": [
    "gbm_params_2 = {\n",
    "    'learning_rate' : [0.01, 0.05, 0.07, 0.1, 0.2],\n",
    "    'n_estimators' : [n for n in range(80,200,20)]\n",
    "}\n",
    "gbm_boston_grid2 = GridSearchCV(  best_gbm_model  , param_grid= gbm_params_2 , cv=5, verbose=1)\n",
    "gbm_boston_grid2.fit(X_train, y_train)"
   ]
  },
  {
   "cell_type": "code",
   "execution_count": 75,
   "metadata": {},
   "outputs": [
    {
     "name": "stdout",
     "output_type": "stream",
     "text": [
      "Best Score : 0.8548905181568388\n",
      "Best Params : {'learning_rate': 0.05, 'n_estimators': 180}\n"
     ]
    }
   ],
   "source": [
    "print(\"Best Score : {}\".format(gbm_boston_grid2.best_score_))\n",
    "print(\"Best Params : {}\".format(gbm_boston_grid2.best_params_))"
   ]
  },
  {
   "cell_type": "code",
   "execution_count": 76,
   "metadata": {
    "collapsed": true
   },
   "outputs": [],
   "source": [
    "best_gbm_model = gbm_boston_grid2.best_estimator_   # 주어진 parameter의 조합으로 생성된 최적 모델"
   ]
  },
  {
   "cell_type": "code",
   "execution_count": 77,
   "metadata": {},
   "outputs": [
    {
     "name": "stdout",
     "output_type": "stream",
     "text": [
      "Score : 0.8545822275092307\n"
     ]
    }
   ],
   "source": [
    "print(\"Score : {}\".format(np.mean(cross_val_score(best_gbm_model, X_train, y_train, cv=5))))"
   ]
  },
  {
   "cell_type": "markdown",
   "metadata": {},
   "source": [
    "## 2. AdaBoost"
   ]
  },
  {
   "cell_type": "code",
   "execution_count": 78,
   "metadata": {
    "collapsed": true
   },
   "outputs": [],
   "source": [
    "from sklearn.ensemble import AdaBoostRegressor"
   ]
  },
  {
   "cell_type": "markdown",
   "metadata": {},
   "source": [
    "####  Step 1 : Core Parameters 바로 최적화"
   ]
  },
  {
   "cell_type": "code",
   "execution_count": 79,
   "metadata": {
    "collapsed": true
   },
   "outputs": [],
   "source": [
    "# AdaBoost의 parameter 조합\n",
    "ada_params = {\n",
    "    'learning_rate' : [ 0.01,0.05,0.1,0.2  ],\n",
    "    'n_estimators' :  [ n for n in range(80,200,20)  ]\n",
    "}"
   ]
  },
  {
   "cell_type": "code",
   "execution_count": 80,
   "metadata": {},
   "outputs": [
    {
     "name": "stdout",
     "output_type": "stream",
     "text": [
      "Fitting 3 folds for each of 24 candidates, totalling 72 fits\n"
     ]
    },
    {
     "name": "stderr",
     "output_type": "stream",
     "text": [
      "[Parallel(n_jobs=1)]: Using backend SequentialBackend with 1 concurrent workers.\n",
      "[Parallel(n_jobs=1)]: Done  72 out of  72 | elapsed:   24.7s finished\n"
     ]
    },
    {
     "data": {
      "text/plain": [
       "GridSearchCV(cv=3, error_score='raise-deprecating',\n",
       "       estimator=AdaBoostRegressor(base_estimator=None, learning_rate=1.0, loss='linear',\n",
       "         n_estimators=50, random_state=None),\n",
       "       fit_params=None, iid='warn', n_jobs=None,\n",
       "       param_grid={'learning_rate': [0.01, 0.05, 0.1, 0.2], 'n_estimators': [80, 100, 120, 140, 160, 180]},\n",
       "       pre_dispatch='2*n_jobs', refit=True, return_train_score='warn',\n",
       "       scoring=None, verbose=1)"
      ]
     },
     "execution_count": 80,
     "metadata": {},
     "output_type": "execute_result"
    }
   ],
   "source": [
    "# GridSearchCV\n",
    "ada_boston_grid = GridSearchCV(AdaBoostRegressor(), param_grid= ada_params, cv= 3, verbose= 1)\n",
    "ada_boston_grid.fit(X_train, y_train)"
   ]
  },
  {
   "cell_type": "code",
   "execution_count": 81,
   "metadata": {},
   "outputs": [
    {
     "name": "stdout",
     "output_type": "stream",
     "text": [
      "Best Score : 0.7677068102722465\n",
      "Best Params : {'learning_rate': 0.1, 'n_estimators': 160}\n"
     ]
    }
   ],
   "source": [
    "# best score와 best params 출력\n",
    "print(\"Best Score : {}\".format(ada_boston_grid.best_score_  ))\n",
    "print(\"Best Params : {}\".format(ada_boston_grid.best_params_  ))"
   ]
  },
  {
   "cell_type": "code",
   "execution_count": 82,
   "metadata": {
    "collapsed": true
   },
   "outputs": [],
   "source": [
    "best_ada_model = ada_boston_grid.best_estimator_        # 주어진 parameter의 조합으로 생성된 최적 모델"
   ]
  },
  {
   "cell_type": "markdown",
   "metadata": {},
   "source": [
    "## Model selection"
   ]
  },
  {
   "cell_type": "code",
   "execution_count": 83,
   "metadata": {
    "collapsed": true
   },
   "outputs": [],
   "source": [
    "models_score = []\n",
    "for grid in [gbm_boston_grid2, ada_boston_grid]:\n",
    "    models_score.append([grid.best_estimator_.__class__.__name__, grid.best_score_])\n",
    "models_score = pd.DataFrame(models_score, columns = ['model', 'score'])"
   ]
  },
  {
   "cell_type": "code",
   "execution_count": 84,
   "metadata": {
    "scrolled": false
   },
   "outputs": [
    {
     "data": {
      "text/plain": [
       "<matplotlib.axes._subplots.AxesSubplot at 0x29155ab5f60>"
      ]
     },
     "execution_count": 84,
     "metadata": {},
     "output_type": "execute_result"
    },
    {
     "data": {
      "image/png": "[encoded data removed]",
      "text/plain": [
       "<Figure size 432x288 with 1 Axes>"
      ]
     },
     "metadata": {},
     "output_type": "display_data"
    }
   ],
   "source": [
    "sns.barplot(x='score', y='model', data= models_score  )"
   ]
  },
  {
   "cell_type": "markdown",
   "metadata": {},
   "source": [
    "- catboost/xgboost 등등 다양한 boosting 모델이 있으니 참고해서 실습해보세요:)"
   ]
  },
  {
   "cell_type": "code",
   "execution_count": 85,
   "metadata": {
    "collapsed": true
   },
   "outputs": [],
   "source": [
    "## Models for Classification\n",
    "# from xgboost import XGBClassifier\n",
    "# from catboost import CatBoostClassifier\n",
    "# from sklearn.ensemble import AdaBoostClassifier, GradientBoostingClassifier\n",
    "# from lightgbm import LGBMClassifier\n",
    "\n",
    "## Models for Regression\n",
    "# from xgboost import XGBRegressor\n",
    "# from catboost import CatBoostRegressor\n",
    "# from sklearn.ensemble import AdaBoostRegressor, GradientBoostingRegressor\n",
    "# from lightgbm import LGBMClassifier, LGBMRegressor"
   ]
  }
 ],
 "metadata": {
  "kernelspec": {
   "display_name": "Python 3",
   "language": "python",
   "name": "python3"
  },
  "language_info": {
   "codemirror_mode": {
    "name": "ipython",
    "version": 3
   },
   "file_extension": ".py",
   "mimetype": "text/x-python",
   "name": "python",
   "nbconvert_exporter": "python",
   "pygments_lexer": "ipython3",
   "version": "3.6.8"
  }
 },
 "nbformat": 4,
 "nbformat_minor": 2
}
