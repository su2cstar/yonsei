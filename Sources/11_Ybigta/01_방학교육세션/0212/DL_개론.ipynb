{
  "nbformat": 4,
  "nbformat_minor": 0,
  "metadata": {
    "colab": {
      "name": "DL 개론.ipynb",
      "version": "0.3.2",
      "provenance": [],
      "collapsed_sections": []
    },
    "kernelspec": {
      "name": "python3",
      "display_name": "Python 3"
    },
    "accelerator": "GPU"
  },
  "cells": [
    {
      "metadata": {
        "id": "L1iRv6yroAKJ",
        "colab_type": "text"
      },
      "cell_type": "markdown",
      "source": [
        "<p align=\"center\">\n",
        "    <img src=\"https://s3-ap-south-1.amazonaws.com/av-blog-media/wp-content/uploads/2018/02/pytorch-logo-flat-300x210.png\">\n",
        "</p>\n",
        "\n",
        "다양한 딥러닝 프레임워크가 있지만 오늘은 파이토치를 CIFAR-10 데이터셋에 이용해 간단한 MLP를 실습해보겠습니다.\n",
        "\n",
        "파이토치는 파이썬에서 그냥 `torch` 라는 이름으로 불러올 수 있습니다.\n",
        "\n",
        "구글 콜랩에 기본적으로 설치가 안되어있을수도 있으니 먼저 설치해줄게요"
      ]
    },
    {
      "metadata": {
        "id": "Y0yk6uvtmj8f",
        "colab_type": "code",
        "colab": {
          "base_uri": "https://localhost:8080/",
          "height": 374
        },
        "outputId": "59484e15-49b6-4ecb-8b3b-4d0a05a57570"
      },
      "cell_type": "code",
      "source": [
        "!pip install torch  # Requirement already satisfied 라고 뜨는걸 보니 요즘엔 기본적으로 깔려오는가 보네요\n",
        "!wget https://www.cs.toronto.edu/~kriz/cifar-10-python.tar.gz  # CIFAR-10 데이터를 받아옵니다\n",
        "!tar -xvzf cifar-10-python.tar.gz  # 압축을 풀어줄게요"
      ],
      "execution_count": 2,
      "outputs": [
        {
          "output_type": "stream",
          "text": [
            "Requirement already satisfied: torch in /usr/local/lib/python3.6/dist-packages (1.0.0)\n",
            "--2019-02-12 07:06:14--  https://www.cs.toronto.edu/~kriz/cifar-10-python.tar.gz\n",
            "Resolving www.cs.toronto.edu (www.cs.toronto.edu)... 128.100.3.30\n",
            "Connecting to www.cs.toronto.edu (www.cs.toronto.edu)|128.100.3.30|:443... connected.\n",
            "HTTP request sent, awaiting response... 200 OK\n",
            "Length: 170498071 (163M) [application/x-gzip]\n",
            "Saving to: ‘cifar-10-python.tar.gz’\n",
            "\n",
            "cifar-10-python.tar 100%[===================>] 162.60M  5.41MB/s    in 18s     \n",
            "\n",
            "2019-02-12 07:06:32 (9.16 MB/s) - ‘cifar-10-python.tar.gz’ saved [170498071/170498071]\n",
            "\n",
            "cifar-10-batches-py/\n",
            "cifar-10-batches-py/data_batch_4\n",
            "cifar-10-batches-py/readme.html\n",
            "cifar-10-batches-py/test_batch\n",
            "cifar-10-batches-py/data_batch_3\n",
            "cifar-10-batches-py/batches.meta\n",
            "cifar-10-batches-py/data_batch_2\n",
            "cifar-10-batches-py/data_batch_5\n",
            "cifar-10-batches-py/data_batch_1\n"
          ],
          "name": "stdout"
        }
      ]
    },
    {
      "metadata": {
        "id": "_9yirhlUyhfT",
        "colab_type": "code",
        "colab": {
          "base_uri": "https://localhost:8080/",
          "height": 34
        },
        "outputId": "db76296f-73b2-4a3a-83ab-fd43bc3d3551"
      },
      "cell_type": "code",
      "source": [
        "!ls"
      ],
      "execution_count": 3,
      "outputs": [
        {
          "output_type": "stream",
          "text": [
            "cifar-10-batches-py  cifar-10-python.tar.gz  sample_data\n"
          ],
          "name": "stdout"
        }
      ]
    },
    {
      "metadata": {
        "id": "D6ayDUDtpi6p",
        "colab_type": "code",
        "colab": {
          "base_uri": "https://localhost:8080/",
          "height": 170
        },
        "outputId": "84eab71f-a690-4148-d287-e5269dfe6aba"
      },
      "cell_type": "code",
      "source": [
        "!ls -l cifar-10-batches-py  # 구조를 한번 볼게요. data_batch_x가 5개 있는데 데이터 설명에 의하면 피클링된 딕셔너리라고 합니다."
      ],
      "execution_count": 4,
      "outputs": [
        {
          "output_type": "stream",
          "text": [
            "total 181876\n",
            "-rw-r--r-- 1 2156 1103      158 Mar 31  2009 batches.meta\n",
            "-rw-r--r-- 1 2156 1103 31035704 Mar 31  2009 data_batch_1\n",
            "-rw-r--r-- 1 2156 1103 31035320 Mar 31  2009 data_batch_2\n",
            "-rw-r--r-- 1 2156 1103 31035999 Mar 31  2009 data_batch_3\n",
            "-rw-r--r-- 1 2156 1103 31035696 Mar 31  2009 data_batch_4\n",
            "-rw-r--r-- 1 2156 1103 31035623 Mar 31  2009 data_batch_5\n",
            "-rw-r--r-- 1 2156 1103       88 Jun  4  2009 readme.html\n",
            "-rw-r--r-- 1 2156 1103 31035526 Mar 31  2009 test_batch\n"
          ],
          "name": "stdout"
        }
      ]
    },
    {
      "metadata": {
        "id": "2B19cBpk0mQL",
        "colab_type": "text"
      },
      "cell_type": "markdown",
      "source": [
        "## Data Loader"
      ]
    },
    {
      "metadata": {
        "id": "Zv1zP0bNs8zQ",
        "colab_type": "code",
        "colab": {}
      },
      "cell_type": "code",
      "source": [
        "# 그럼 unpickling을 할 수 있도록 함수를 짜줍시다\n",
        "\n",
        "import pickle, os\n",
        "\n",
        "def unpickle(fpath):\n",
        "    with open(fpath, 'rb') as f:\n",
        "        data = pickle.load(f, encoding='bytes')\n",
        "    return data"
      ],
      "execution_count": 0,
      "outputs": []
    },
    {
      "metadata": {
        "id": "89Bo1c5DoWgI",
        "colab_type": "code",
        "colab": {}
      },
      "cell_type": "code",
      "source": [
        "import torch\n",
        "from torch import nn\n",
        "import numpy as np\n",
        "\n",
        "base_path = 'cifar-10-batches-py'\n",
        "fname = 'data_batch_1'  # 튜토리얼이니 간단하게 1번 데이터셋만 써봅시다\n",
        "\n",
        "fpath = os.path.join(base_path, fname)\n",
        "dict_ = unpickle(fpath)"
      ],
      "execution_count": 0,
      "outputs": []
    },
    {
      "metadata": {
        "id": "UffUB_7hzOiw",
        "colab_type": "code",
        "colab": {
          "base_uri": "https://localhost:8080/",
          "height": 34
        },
        "outputId": "909e549e-5c8d-41b1-c532-752ee289a2e9"
      },
      "cell_type": "code",
      "source": [
        "dict_.keys()"
      ],
      "execution_count": 7,
      "outputs": [
        {
          "output_type": "execute_result",
          "data": {
            "text/plain": [
              "dict_keys([b'batch_label', b'labels', b'data', b'filenames'])"
            ]
          },
          "metadata": {
            "tags": []
          },
          "execution_count": 7
        }
      ]
    },
    {
      "metadata": {
        "id": "mDXv3uEyzP34",
        "colab_type": "code",
        "colab": {
          "base_uri": "https://localhost:8080/",
          "height": 51
        },
        "outputId": "7adeef73-585b-410d-ed32-d3632fd8ed63"
      },
      "cell_type": "code",
      "source": [
        "X_train = dict_[b'data']\n",
        "y_list  = dict_[b'labels']\n",
        "\n",
        "n_row, n_dim = X_train.shape\n",
        "n_cls = 10\n",
        "\n",
        "y_true  = np.zeros((n_row, n_cls), dtype=np.uint8)\n",
        "y_true[np.arange(n_row), y_list] = 1\n",
        "\n",
        "\n",
        "print('X_train.shape: ', X_train.shape)\n",
        "print('y_true.shape:  ', y_true.shape)"
      ],
      "execution_count": 8,
      "outputs": [
        {
          "output_type": "stream",
          "text": [
            "X_train.shape:  (10000, 3072)\n",
            "y_true.shape:   (10000, 10)\n"
          ],
          "name": "stdout"
        }
      ]
    },
    {
      "metadata": {
        "id": "TbCaha7v27qb",
        "colab_type": "code",
        "colab": {
          "base_uri": "https://localhost:8080/",
          "height": 102
        },
        "outputId": "c9871895-4422-4640-8c5e-0adf482b5e13"
      },
      "cell_type": "code",
      "source": [
        "# 제대로 됐는지 확인\n",
        "y_true[:5]"
      ],
      "execution_count": 9,
      "outputs": [
        {
          "output_type": "execute_result",
          "data": {
            "text/plain": [
              "array([[0, 0, 0, 0, 0, 0, 1, 0, 0, 0],\n",
              "       [0, 0, 0, 0, 0, 0, 0, 0, 0, 1],\n",
              "       [0, 0, 0, 0, 0, 0, 0, 0, 0, 1],\n",
              "       [0, 0, 0, 0, 1, 0, 0, 0, 0, 0],\n",
              "       [0, 1, 0, 0, 0, 0, 0, 0, 0, 0]], dtype=uint8)"
            ]
          },
          "metadata": {
            "tags": []
          },
          "execution_count": 9
        }
      ]
    },
    {
      "metadata": {
        "id": "UQKLZ5r551Hs",
        "colab_type": "code",
        "colab": {}
      },
      "cell_type": "code",
      "source": [
        "# 데이터 10000개에 대해 매번 경사를 구하기는 힘드니, 미니배치를 사용할 수 있게 함수를 짜줍니다\n",
        "\n",
        "def minibatch(X, y, size):\n",
        "    nrow = X.shape[0]\n",
        "    idx = np.random.choice(np.arange(nrow), size)\n",
        "    return X[idx], y[idx]"
      ],
      "execution_count": 0,
      "outputs": []
    },
    {
      "metadata": {
        "id": "KtsXJyCO0to7",
        "colab_type": "text"
      },
      "cell_type": "markdown",
      "source": [
        "## (아주 간단한) 시각화"
      ]
    },
    {
      "metadata": {
        "id": "Jld2q_Ckt5EG",
        "colab_type": "code",
        "colab": {
          "base_uri": "https://localhost:8080/",
          "height": 166
        },
        "outputId": "37967ea4-6522-445d-bfb5-3a16b0ca2821"
      },
      "cell_type": "code",
      "source": [
        "import matplotlib.pyplot as plt\n",
        "\n",
        "idx = 1  # 시각화하려는 데이터 번호\n",
        "img = X_train[idx].reshape([3,32,32]).transpose([1,2,0])\n",
        "label = y_true[idx]\n",
        "\n",
        "print('label:', label)\n",
        "plt.figure(figsize=(1.5,1.5))\n",
        "plt.axis('off')\n",
        "plt.imshow(img)"
      ],
      "execution_count": 7,
      "outputs": [
        {
          "output_type": "stream",
          "text": [
            "label: [0 0 0 0 0 0 0 0 0 1]\n"
          ],
          "name": "stdout"
        },
        {
          "output_type": "execute_result",
          "data": {
            "text/plain": [
              "<matplotlib.image.AxesImage at 0x7fe691d9bac8>"
            ]
          },
          "metadata": {
            "tags": []
          },
          "execution_count": 7
        },
        {
          "output_type": "display_data",
          "data": {
            "image/png": "[encoded data removed]",
            "text/plain": [
              "<Figure size 108x108 with 1 Axes>"
            ]
          },
          "metadata": {
            "tags": []
          }
        }
      ]
    },
    {
      "metadata": {
        "id": "bniCProFzyE4",
        "colab_type": "text"
      },
      "cell_type": "markdown",
      "source": [
        "## 모델링\n",
        "\n",
        "```\n",
        "# 기본 골자\n",
        "class MyModel(torch.nn.Module):\n",
        "    def __init__(self):\n",
        "        super(MyModel, self).__init__()\n",
        "        pass\n",
        "    \n",
        "    def forward(self, x):\n",
        "        return x\n",
        "```"
      ]
    },
    {
      "metadata": {
        "id": "dW5xmoYH07td",
        "colab_type": "code",
        "colab": {}
      },
      "cell_type": "code",
      "source": [
        "# https://pytorch.org/docs/stable/nn.html#linear-layers\n",
        "\n",
        "class LinearClassifier(nn.Module):\n",
        "    def __init__(self, n_in, n_out):\n",
        "        super(LinearClassifier, self).__init__()\n",
        "        self.layer = nn.Linear(n_in, n_out)  # W가 랜덤으로 생성됨\n",
        "    \n",
        "    def forward(self, x):\n",
        "        if not isinstance(x, torch.Tensor):\n",
        "            x = torch.tensor(x, dtype=torch.float32)\n",
        "        x = self.layer(x)\n",
        "        return x"
      ],
      "execution_count": 0,
      "outputs": []
    },
    {
      "metadata": {
        "id": "_rfKpUuz4Chm",
        "colab_type": "code",
        "colab": {}
      },
      "cell_type": "code",
      "source": [
        "model = LinearClassifier(n_dim, n_cls)"
      ],
      "execution_count": 0,
      "outputs": []
    },
    {
      "metadata": {
        "id": "gNaDd7v97HWz",
        "colab_type": "code",
        "colab": {}
      },
      "cell_type": "code",
      "source": [
        "X_batch, y_batch = minibatch(X_train, y_true, 4)"
      ],
      "execution_count": 0,
      "outputs": []
    },
    {
      "metadata": {
        "id": "ulY2hX9u7hSB",
        "colab_type": "code",
        "colab": {
          "base_uri": "https://localhost:8080/",
          "height": 221
        },
        "outputId": "98291c9d-53b9-4488-f7a0-237d293daa30"
      },
      "cell_type": "code",
      "source": [
        "output = model(X_batch)\n",
        "print('Output shape:', output.shape)\n",
        "print('Actual output:\\n', output)  # raw class score를 logit이라고도 부릅니다. 얘네를 exponentiate 한 후 비율을 구하면 softmax의 아웃풋이 됩니다.\n",
        "print('Predicted labels:', output.argmax(dim=1))\n",
        "print('True labels:     ', np.argmax(y_batch, axis=1))"
      ],
      "execution_count": 17,
      "outputs": [
        {
          "output_type": "stream",
          "text": [
            "Output shape: torch.Size([4, 10])\n",
            "Actual output:\n",
            " tensor([[ -37.1305,   59.7090,   34.6117,   17.4214,  -65.5523,   85.8139,\n",
            "          -31.1532,   59.8931,   59.7251,  -95.2393],\n",
            "        [  21.1037,  104.3964,   89.4687,   53.3366,  -36.9933,   78.6085,\n",
            "          -75.7398,   63.4855,   54.6945,  -97.7436],\n",
            "        [ -41.9172,   77.1968,  -10.9243,   10.4547,   -6.6623,    3.9538,\n",
            "          -98.5574,   31.5553,  -26.6848, -150.1195],\n",
            "        [ -17.7222,   42.6076,   49.5088,  -19.9929,  -28.9665,   27.0795,\n",
            "           -7.9767,    5.3331,   35.8892,  -81.9889]], grad_fn=<AddmmBackward>)\n",
            "Predicted labels: tensor([5, 1, 1, 2])\n",
            "True labels:      [4 0 5 2]\n"
          ],
          "name": "stdout"
        }
      ]
    },
    {
      "metadata": {
        "id": "I9mIGuEg_kZX",
        "colab_type": "text"
      },
      "cell_type": "markdown",
      "source": [
        "## Defining Optimizer\n",
        "\n",
        "발표에서는 backprop을 통해 W에 대한 경사를 구하고, 그 경사를 다시 W에 적용해야 한다고 말씀드렸는데, 대부분의 딥러닝 프레임워크들은 이 과정을 옵티마이저라는 클래스를 통해 아주 간단하게 구현할 수 있도록 기능을 제공하고 있습니다."
      ]
    },
    {
      "metadata": {
        "id": "Oigfq1vq_yNH",
        "colab_type": "code",
        "colab": {}
      },
      "cell_type": "code",
      "source": [
        "optimizer = torch.optim.SGD(model.parameters(), lr=0.001)"
      ],
      "execution_count": 0,
      "outputs": []
    },
    {
      "metadata": {
        "id": "neKY8lpS87og",
        "colab_type": "text"
      },
      "cell_type": "markdown",
      "source": [
        "## Defining Loss\n",
        "\n",
        "Forward inference는 간단하게 되도록 짰습니다. 하지만 아직 Linear 레이어의 가중치들 (W)이 랜덤으로 생성돼서 그런지 예측값들이 영 별로네요.\n",
        "\n",
        "이제는 Loss를 정의하고 Loss를 W에 대해 경사를 구한 후, 경사를 바탕으로 W를 업데이트 하는 과정을 짜보겠습니다"
      ]
    },
    {
      "metadata": {
        "id": "ToSI3D7r9csh",
        "colab_type": "code",
        "colab": {}
      },
      "cell_type": "code",
      "source": [
        "criterion = nn.BCEWithLogitsLoss()\n",
        "loss = criterion(output, torch.tensor(y_batch, dtype=torch.float32))"
      ],
      "execution_count": 0,
      "outputs": []
    },
    {
      "metadata": {
        "id": "lvuHxYcI98Kk",
        "colab_type": "code",
        "colab": {}
      },
      "cell_type": "code",
      "source": [
        "optimizer.zero_grad()\n",
        "loss.backward()\n",
        "optimizer.step()"
      ],
      "execution_count": 0,
      "outputs": []
    },
    {
      "metadata": {
        "id": "K8IHg-xMA1aV",
        "colab_type": "text"
      },
      "cell_type": "markdown",
      "source": [
        "![alt text](http://cs231n.github.io/assets/stepsize.jpg)\n",
        "\n",
        "위 코드에서 `step()`을 한번 하면, 사진에서 화살표 방향으로 조금 움직인거라 생각하시면 됩니다.\n",
        "\n",
        "파란지점이 loss가 최소화되는 지점이라 생각하면, 이번 한번의 `step()`으로는 아직 갈길이 멀죠.\n",
        "\n",
        "따라서 딥러닝을 할때는 아래의 과정을 루프로 돌리며 계속 계산을 하게 됩니다.\n",
        "\n",
        "1. 미니배치를 뽑음\n",
        "2. score 계산\n",
        "3. loss 계산\n",
        "4. loss를 W에 대해 backprop\n",
        "5. `optimizer.step()`"
      ]
    },
    {
      "metadata": {
        "id": "stgyXdrzBxH6",
        "colab_type": "code",
        "colab": {}
      },
      "cell_type": "code",
      "source": [
        ""
      ],
      "execution_count": 0,
      "outputs": []
    },
    {
      "metadata": {
        "id": "OeNwRxcTCGJr",
        "colab_type": "text"
      },
      "cell_type": "markdown",
      "source": [
        "## 루프로 돌려보자"
      ]
    },
    {
      "metadata": {
        "id": "sJp48g2sCHry",
        "colab_type": "code",
        "colab": {}
      },
      "cell_type": "code",
      "source": [
        "n_steps = 10000\n",
        "batch_size = 64\n",
        "\n",
        "for i in range(n_steps):\n",
        "    X_batch, y_batch = minibatch(X_train, y_true, batch_size)\n",
        "    output = model(X_batch)\n",
        "    loss = criterion(output, torch.tensor(y_batch, dtype=torch.float32))\n",
        "    if i % 500 == 0:\n",
        "        print(f'Step [{i} / {n_steps}] | loss: {loss}')\n",
        "    \n",
        "    optimizer.zero_grad()\n",
        "    loss.backward()\n",
        "    optimizer.step()"
      ],
      "execution_count": 0,
      "outputs": []
    },
    {
      "metadata": {
        "id": "EbqfHSTdCsND",
        "colab_type": "code",
        "colab": {}
      },
      "cell_type": "code",
      "source": [
        "sample_X, sample_y = minibatch(X_train, y_true, 1)"
      ],
      "execution_count": 0,
      "outputs": []
    },
    {
      "metadata": {
        "id": "nQiKib8DD8NH",
        "colab_type": "code",
        "colab": {
          "base_uri": "https://localhost:8080/",
          "height": 166
        },
        "outputId": "f1658fe8-4aa7-4ac4-845d-870de846e50f"
      },
      "cell_type": "code",
      "source": [
        "img = sample_X.reshape(3,32,32).transpose([1,2,0])\n",
        "print('label:', sample_y.argmax(axis=1))\n",
        "plt.figure(figsize=(1.5,1.5))\n",
        "plt.axis('off')\n",
        "plt.imshow(img)"
      ],
      "execution_count": 21,
      "outputs": [
        {
          "output_type": "stream",
          "text": [
            "label: [9]\n"
          ],
          "name": "stdout"
        },
        {
          "output_type": "execute_result",
          "data": {
            "text/plain": [
              "<matplotlib.image.AxesImage at 0x7fe690405940>"
            ]
          },
          "metadata": {
            "tags": []
          },
          "execution_count": 21
        },
        {
          "output_type": "display_data",
          "data": {
            "image/png": "[encoded data removed]",
            "text/plain": [
              "<Figure size 108x108 with 1 Axes>"
            ]
          },
          "metadata": {
            "tags": []
          }
        }
      ]
    },
    {
      "metadata": {
        "id": "wjvYcYOVEDg9",
        "colab_type": "code",
        "colab": {
          "base_uri": "https://localhost:8080/",
          "height": 68
        },
        "outputId": "f9a050f4-dc5a-4e10-91ad-1032c3fef8b8"
      },
      "cell_type": "code",
      "source": [
        "model(sample_X)"
      ],
      "execution_count": 22,
      "outputs": [
        {
          "output_type": "execute_result",
          "data": {
            "text/plain": [
              "tensor([[ -677.8120,  -742.8472, -1987.2703,   259.4281,  -737.1789, -1394.9772,\n",
              "         -2199.3174,  -124.6948,  -693.7646,   408.6739]],\n",
              "       grad_fn=<AddmmBackward>)"
            ]
          },
          "metadata": {
            "tags": []
          },
          "execution_count": 22
        }
      ]
    },
    {
      "metadata": {
        "id": "a0gfKV8_E1zv",
        "colab_type": "text"
      },
      "cell_type": "markdown",
      "source": [
        "## Checking accuracy"
      ]
    },
    {
      "metadata": {
        "id": "nusr7-1CE3lT",
        "colab_type": "code",
        "colab": {
          "base_uri": "https://localhost:8080/",
          "height": 34
        },
        "outputId": "06b7af0e-0567-4afb-c7af-2143a34aab7a"
      },
      "cell_type": "code",
      "source": [
        "total = model(X_train)\n",
        "pred = total.argmax(dim=1).numpy()\n",
        "(np.array(y_list) - pred == 0).sum() / n_row  # accuracy on train set"
      ],
      "execution_count": 57,
      "outputs": [
        {
          "output_type": "stream",
          "text": [
            "0.2255\n"
          ],
          "name": "stdout"
        }
      ]
    },
    {
      "metadata": {
        "id": "0Ev_Ls_mFwYD",
        "colab_type": "text"
      },
      "cell_type": "markdown",
      "source": [
        "# MLP"
      ]
    },
    {
      "metadata": {
        "id": "-fE5QZ2WFxUm",
        "colab_type": "code",
        "colab": {}
      },
      "cell_type": "code",
      "source": [
        "class MLP(nn.Module):\n",
        "    def __init__(self, n_in, n_out):\n",
        "        super(MLP, self).__init__()\n",
        "        self.h = 400  # number of hidden units\n",
        "        \n",
        "        # ------ TODO: define three nn.Linear layers ------- #\n",
        "        #                                                    #\n",
        "        #                                                    #\n",
        "        # -------------------------------------------------- #\n",
        "        \n",
        "        # ---------- TODO: define a ReLU function ---------- #\n",
        "        #                                                    #\n",
        "        #                                                    #\n",
        "        # -------------------------------------------------- #\n",
        "\n",
        "        \n",
        "    def forward(self, x):\n",
        "        if not isinstance(x, torch.Tensor):\n",
        "            x = torch.tensor(x, dtype=torch.float32).to(device)\n",
        "            \n",
        "        # --- TODO: forward propagate through the layers --- #\n",
        "        #                                                    #\n",
        "        #                                                    #\n",
        "        # -------------------------------------------------- #\n",
        "        \n",
        "        return x"
      ],
      "execution_count": 0,
      "outputs": []
    },
    {
      "metadata": {
        "id": "XOiiMuX9GS7o",
        "colab_type": "code",
        "colab": {}
      },
      "cell_type": "code",
      "source": [
        "device = 'cuda' if torch.cuda.is_available() else 'cpu'\n",
        "model = MLP(n_dim, n_cls).to(device)  # device가 지금은 'cuda'라서 GPU에서 돌아요!"
      ],
      "execution_count": 0,
      "outputs": []
    },
    {
      "metadata": {
        "id": "Pzx8f1CyGVw_",
        "colab_type": "code",
        "colab": {}
      },
      "cell_type": "code",
      "source": [
        "# https://pytorch.org/docs/stable/optim.html  여기 참고해서 어떤 옵티마이저가 있는지 한번 확인해보세요!\n",
        "optimizer = pass # define optimizer"
      ],
      "execution_count": 0,
      "outputs": []
    },
    {
      "metadata": {
        "id": "ZQgu7SJUGkcR",
        "colab_type": "code",
        "colab": {}
      },
      "cell_type": "code",
      "source": [
        "# https://pytorch.org/docs/stable/nn.html#loss-functions  여기에서 loss function들은 어떻게 있는지 확인해보세요!\n",
        "criterion = nn.BCEWithLogitsLoss()"
      ],
      "execution_count": 0,
      "outputs": []
    },
    {
      "metadata": {
        "id": "UrRifROyGox4",
        "colab_type": "code",
        "colab": {
          "base_uri": "https://localhost:8080/",
          "height": 1037
        },
        "outputId": "91939b35-92c9-44bb-87bf-2c514c81b8da"
      },
      "cell_type": "code",
      "source": [
        "n_steps = 30000\n",
        "batch_size = 64\n",
        "\n",
        "for i in range(n_steps):\n",
        "    X_batch, y_batch = minibatch(X_train, y_true, batch_size)\n",
        "    output = model(X_batch)\n",
        "    loss = criterion(output, torch.tensor(y_batch, dtype=torch.float32).to(device))\n",
        "    if i % 500 == 0:\n",
        "        print(f'Step [{i} / {n_steps}] | loss: {loss}')\n",
        "    \n",
        "    optimizer.zero_grad()\n",
        "    loss.backward()\n",
        "    optimizer.step()"
      ],
      "execution_count": 73,
      "outputs": [
        {
          "output_type": "stream",
          "text": [
            "Step [0 / 30000] | loss: 0.19526973366737366\n",
            "Step [500 / 30000] | loss: 0.14716064929962158\n",
            "Step [1000 / 30000] | loss: 0.15943506360054016\n",
            "Step [1500 / 30000] | loss: 0.16370323300361633\n",
            "Step [2000 / 30000] | loss: 0.16242757439613342\n",
            "Step [2500 / 30000] | loss: 0.16038461029529572\n",
            "Step [3000 / 30000] | loss: 0.13436144590377808\n",
            "Step [3500 / 30000] | loss: 0.1369234323501587\n",
            "Step [4000 / 30000] | loss: 0.16454572975635529\n",
            "Step [4500 / 30000] | loss: 0.14131863415241241\n",
            "Step [5000 / 30000] | loss: 0.11575169861316681\n",
            "Step [5500 / 30000] | loss: 0.13749276101589203\n",
            "Step [6000 / 30000] | loss: 0.16824816167354584\n",
            "Step [6500 / 30000] | loss: 0.1504296213388443\n",
            "Step [7000 / 30000] | loss: 0.14504443109035492\n",
            "Step [7500 / 30000] | loss: 0.1387624442577362\n",
            "Step [8000 / 30000] | loss: 0.14606936275959015\n",
            "Step [8500 / 30000] | loss: 0.13666744530200958\n",
            "Step [9000 / 30000] | loss: 0.17618730664253235\n",
            "Step [9500 / 30000] | loss: 0.14012610912322998\n",
            "Step [10000 / 30000] | loss: 0.15798698365688324\n",
            "Step [10500 / 30000] | loss: 0.12516506016254425\n",
            "Step [11000 / 30000] | loss: 0.12744192779064178\n",
            "Step [11500 / 30000] | loss: 0.12794189155101776\n",
            "Step [12000 / 30000] | loss: 0.15526609122753143\n",
            "Step [12500 / 30000] | loss: 0.15357346832752228\n",
            "Step [13000 / 30000] | loss: 0.11539991199970245\n",
            "Step [13500 / 30000] | loss: 0.12265700101852417\n",
            "Step [14000 / 30000] | loss: 0.14784252643585205\n",
            "Step [14500 / 30000] | loss: 0.1264747828245163\n",
            "Step [15000 / 30000] | loss: 0.12831024825572968\n",
            "Step [15500 / 30000] | loss: 0.1462067812681198\n",
            "Step [16000 / 30000] | loss: 0.15824608504772186\n",
            "Step [16500 / 30000] | loss: 0.1275448054075241\n",
            "Step [17000 / 30000] | loss: 0.15858912467956543\n",
            "Step [17500 / 30000] | loss: 0.139792799949646\n",
            "Step [18000 / 30000] | loss: 0.12258657068014145\n",
            "Step [18500 / 30000] | loss: 0.1315537393093109\n",
            "Step [19000 / 30000] | loss: 0.11633457988500595\n",
            "Step [19500 / 30000] | loss: 0.1534554660320282\n",
            "Step [20000 / 30000] | loss: 0.14331158995628357\n",
            "Step [20500 / 30000] | loss: 0.10822656005620956\n",
            "Step [21000 / 30000] | loss: 0.13262958824634552\n",
            "Step [21500 / 30000] | loss: 0.1481359899044037\n",
            "Step [22000 / 30000] | loss: 0.13909807801246643\n",
            "Step [22500 / 30000] | loss: 0.13209882378578186\n",
            "Step [23000 / 30000] | loss: 0.14385388791561127\n",
            "Step [23500 / 30000] | loss: 0.13886316120624542\n",
            "Step [24000 / 30000] | loss: 0.1380540132522583\n",
            "Step [24500 / 30000] | loss: 0.11469727009534836\n",
            "Step [25000 / 30000] | loss: 0.10505304485559464\n",
            "Step [25500 / 30000] | loss: 0.1383785456418991\n",
            "Step [26000 / 30000] | loss: 0.1293141394853592\n",
            "Step [26500 / 30000] | loss: 0.1175922378897667\n",
            "Step [27000 / 30000] | loss: 0.12207193672657013\n",
            "Step [27500 / 30000] | loss: 0.12221045792102814\n",
            "Step [28000 / 30000] | loss: 0.14241249859333038\n",
            "Step [28500 / 30000] | loss: 0.14030030369758606\n",
            "Step [29000 / 30000] | loss: 0.12482626736164093\n",
            "Step [29500 / 30000] | loss: 0.12636293470859528\n"
          ],
          "name": "stdout"
        }
      ]
    },
    {
      "metadata": {
        "id": "P6GmsL9WGsRf",
        "colab_type": "code",
        "colab": {
          "base_uri": "https://localhost:8080/",
          "height": 34
        },
        "outputId": "85d256ef-cb31-4616-84db-df69e9cf6ec6"
      },
      "cell_type": "code",
      "source": [
        "total = model(X_train)\n",
        "pred = total.argmax(dim=1).cpu().numpy()\n",
        "(np.array(y_list) - pred == 0).sum() / n_row  # accuracy on train set"
      ],
      "execution_count": 74,
      "outputs": [
        {
          "output_type": "execute_result",
          "data": {
            "text/plain": [
              "0.8089"
            ]
          },
          "metadata": {
            "tags": []
          },
          "execution_count": 74
        }
      ]
    },
    {
      "metadata": {
        "id": "MILa_7EUJzzT",
        "colab_type": "text"
      },
      "cell_type": "markdown",
      "source": [
        "### On test set"
      ]
    },
    {
      "metadata": {
        "id": "0WklF-zsHZXJ",
        "colab_type": "code",
        "colab": {}
      },
      "cell_type": "code",
      "source": [
        "data_ = unpickle(os.path.join(base_path,'test_batch'))\n",
        "X_test = data_[b'data']\n",
        "y_test = np.array(data_[b'labels'])"
      ],
      "execution_count": 0,
      "outputs": []
    },
    {
      "metadata": {
        "id": "-0DdJ4RpJheR",
        "colab_type": "code",
        "colab": {
          "base_uri": "https://localhost:8080/",
          "height": 34
        },
        "outputId": "46906ede-22b3-41ca-9f4a-520530e70f79"
      },
      "cell_type": "code",
      "source": [
        "total = model(X_test)\n",
        "pred = total.argmax(dim=1).cpu().numpy()\n",
        "(y_test - pred == 0).sum() / X_test.shape[0]  # accuracy on train set"
      ],
      "execution_count": 82,
      "outputs": [
        {
          "output_type": "execute_result",
          "data": {
            "text/plain": [
              "0.4201"
            ]
          },
          "metadata": {
            "tags": []
          },
          "execution_count": 82
        }
      ]
    },
    {
      "metadata": {
        "id": "6i2adlT1J5Ll",
        "colab_type": "code",
        "colab": {}
      },
      "cell_type": "code",
      "source": [
        ""
      ],
      "execution_count": 0,
      "outputs": []
    }
  ]
}