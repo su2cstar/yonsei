{
 "cells": [
  {
   "cell_type": "code",
   "execution_count": 2,
   "metadata": {},
   "outputs": [],
   "source": [
    "import numpy as np"
   ]
  },
  {
   "cell_type": "markdown",
   "metadata": {},
   "source": [
    "## Note\n",
    "\n",
    "1. 모든 답은 `x` 변수에 assign 해주세요. e.g., `x = np.array([1,2,3])`"
   ]
  },
  {
   "cell_type": "markdown",
   "metadata": {},
   "source": [
    "### 1. array 만들기"
   ]
  },
  {
   "cell_type": "markdown",
   "metadata": {},
   "source": [
    "가장 기본적이지만, 가장 자주 쓰이는 array 만드는 방법 몇가지부터 연습해보겠습니다."
   ]
  },
  {
   "cell_type": "code",
   "execution_count": 3,
   "metadata": {},
   "outputs": [
    {
     "name": "stdout",
     "output_type": "stream",
     "text": [
      "# 1\n",
      "[[1 2 3]\n",
      " [4 5 6]]\n",
      "\n"
     ]
    }
   ],
   "source": [
    "# 1. 다음과 같이 생긴 어레이를 만들어보세요. (hint: np.array)\n",
    "#\n",
    "#           array([[1, 2, 3],\n",
    "#                  [4, 5, 6]])\n",
    "#\n",
    "# ---------------------- TODO ---------------------- #\n",
    "#                                                    #\n",
    "x = np.array([[1, 2, 3],[4, 5, 6]])      \n",
    "#                         #\n",
    "#                                                    #\n",
    "# -------------------------------------------------- #\n",
    "print('# 1')\n",
    "print(x)\n",
    "print()"
   ]
  },
  {
   "cell_type": "code",
   "execution_count": 4,
   "metadata": {},
   "outputs": [
    {
     "name": "stdout",
     "output_type": "stream",
     "text": [
      "# 2\n",
      "[[0. 0. 0.]\n",
      " [0. 0. 0.]]\n",
      "\n"
     ]
    }
   ],
   "source": [
    "# 2. shape이 (2,3)인 제로행렬을 만들어 보세요.  (hint: np.zeros)\n",
    "# ---------------------- TODO ---------------------- #\n",
    "#                                                    #\n",
    "x=np.zeros([2,3])\n",
    "#                                                    #\n",
    "# -------------------------------------------------- #\n",
    "print('# 2')\n",
    "print(x)\n",
    "print()"
   ]
  },
  {
   "cell_type": "code",
   "execution_count": 5,
   "metadata": {},
   "outputs": [
    {
     "name": "stdout",
     "output_type": "stream",
     "text": [
      "# 3\n",
      "[[3. 3. 3.]\n",
      " [3. 3. 3.]]\n",
      "\n"
     ]
    }
   ],
   "source": [
    "# 3. shape이 (2,3)이고 모든 원소가 3인 행렬을 만들어 보세요.  (hint: np.full)\n",
    "# ---------------------- TODO ---------------------- #\n",
    "#                                                    #\n",
    "x = 3 * np.ones([2,3])\n",
    "#                                                    #\n",
    "# -------------------------------------------------- #\n",
    "print('# 3')\n",
    "print(x)\n",
    "print()"
   ]
  },
  {
   "cell_type": "code",
   "execution_count": 6,
   "metadata": {},
   "outputs": [
    {
     "name": "stdout",
     "output_type": "stream",
     "text": [
      "# 4\n",
      "[[ 1.28587132 -0.17990778  0.20289596]\n",
      " [ 0.04402351 -1.36521753  0.41280623]]\n",
      "\n"
     ]
    }
   ],
   "source": [
    "# 4. shape이 (2,3)인 랜덤 행렬을 만들어 보세요.  (hint: np.random.randn)\n",
    "# ---------------------- TODO ---------------------- #\n",
    "#                                                    #\n",
    "x=np.random.randn(6).reshape([2,3])\n",
    "#                                                    #\n",
    "# -------------------------------------------------- #\n",
    "print('# 4')\n",
    "print(x)\n",
    "print()"
   ]
  },
  {
   "cell_type": "code",
   "execution_count": 7,
   "metadata": {},
   "outputs": [
    {
     "name": "stdout",
     "output_type": "stream",
     "text": [
      "# 5\n",
      "[[  4  -2   5]\n",
      " [ -5  -1 -10]]\n",
      "\n"
     ]
    }
   ],
   "source": [
    "# 5. shape이 (2,3)인 랜덤 \"정수\" 행렬을 만들어 보세요.   (hint: np.random.randint)\n",
    "# 각 원소의 값은 -10부터 10 사이로 지정 해주세요.\n",
    "# ---------------------- TODO ---------------------- #\n",
    "#                                                    #\n",
    "x=np.random.randint(-10,10,6).reshape([2,3])\n",
    "\n",
    "#                                                    #\n",
    "# -------------------------------------------------- #\n",
    "print('# 5')\n",
    "print(x)\n",
    "print()"
   ]
  },
  {
   "cell_type": "markdown",
   "metadata": {},
   "source": [
    "### 2. Indexing & Slicing 연습"
   ]
  },
  {
   "cell_type": "code",
   "execution_count": 34,
   "metadata": {},
   "outputs": [],
   "source": [
    "A = np.array([\n",
    "    [9,8,7],\n",
    "    [6,5,4],\n",
    "    [3,2,1]\n",
    "])\n",
    "\n",
    "B = np.array([\n",
    "    [0,3,0],\n",
    "    [7,0,0],\n",
    "    [0,0,1]\n",
    "])"
   ]
  },
  {
   "cell_type": "code",
   "execution_count": 35,
   "metadata": {},
   "outputs": [
    {
     "name": "stdout",
     "output_type": "stream",
     "text": [
      "# 1\n",
      "[6 5 4]\n",
      "\n"
     ]
    }
   ],
   "source": [
    "# 1. A 행렬에서 1번 행에 접근하려면 어떻게 해야 할까요?\n",
    "#   주의: 숫자는 항상 0부터 시작합니다. 따라서 1행은 [6,5,4] 행을 의미합니다.\n",
    "# ---------------------- TODO ---------------------- #\n",
    "#                                                    #\n",
    "x= A[1]\n",
    "#                                                    #\n",
    "# -------------------------------------------------- #\n",
    "print('# 1')\n",
    "print(x)\n",
    "print()"
   ]
  },
  {
   "cell_type": "code",
   "execution_count": 36,
   "metadata": {},
   "outputs": [
    {
     "name": "stdout",
     "output_type": "stream",
     "text": [
      "# 2\n",
      "4\n",
      "\n"
     ]
    }
   ],
   "source": [
    "# 2. A 행렬에서 원소 '4'에 접근하려면 어떻게 해야 할까요? '4'는 1행 2열에 있습니다.\n",
    "# ---------------------- TODO ---------------------- #\n",
    "#                                                    #\n",
    "x=A[1,2]\n",
    "#                                                    #\n",
    "# -------------------------------------------------- #\n",
    "print('# 2')\n",
    "print(x)\n",
    "print()"
   ]
  },
  {
   "cell_type": "code",
   "execution_count": 37,
   "metadata": {},
   "outputs": [
    {
     "name": "stdout",
     "output_type": "stream",
     "text": [
      "# 3\n",
      "[7 4 1]\n",
      "\n"
     ]
    }
   ],
   "source": [
    "# 3. A 행렬에서 2번 열에 접근하려면 어떻게 해야 할까요?\n",
    "#   주의: 넘파이에서 1차원 벡터는 원래 데이터가 행이든 열이든 항상 row vector로 나옵니다.\n",
    "#\n",
    "#   따라서 desired output은 [7 4 1] 입니다.\n",
    "#\n",
    "# ---------------------- TODO ---------------------- #\n",
    "#                                                    #\n",
    "x=A[:,2]\n",
    "#                                                    #\n",
    "# -------------------------------------------------- #\n",
    "print('# 3')\n",
    "print(x)\n",
    "print()"
   ]
  },
  {
   "cell_type": "code",
   "execution_count": 38,
   "metadata": {},
   "outputs": [
    {
     "name": "stdout",
     "output_type": "stream",
     "text": [
      "# 4\n",
      "[[6 5]\n",
      " [3 2]]\n",
      "\n"
     ]
    }
   ],
   "source": [
    "# 4. A 행렬에서 1~2행 & 0~1열을 뽑으려면 어떻게 해야 할까요?\n",
    "#\n",
    "#   desired output: [[6 5]\n",
    "#                    [3 2]]\n",
    "#\n",
    "# ---------------------- TODO ---------------------- #\n",
    "#                                                    #\n",
    "x=A[1:3,0:2]\n",
    "#                                                    #\n",
    "# -------------------------------------------------- #\n",
    "print('# 4')\n",
    "print(x)\n",
    "print()"
   ]
  },
  {
   "cell_type": "code",
   "execution_count": 62,
   "metadata": {},
   "outputs": [
    {
     "name": "stdout",
     "output_type": "stream",
     "text": [
      "# 5\n",
      "[3, 7, 1]\n",
      "\n"
     ]
    }
   ],
   "source": [
    "# 5. (고급 인덱싱) B 행렬에서 0이 아닌 원소들을 전부 뽑고 싶습니다. 어떻게 해야 할까요?\n",
    "#   좌표는 다음과 같습니다: ([0,1], [1,0], [2,2])\n",
    "#   c.f. https://docs.scipy.org/doc/numpy-1.15.0/user/basics.indexing.html#indexing-multi-dimensional-arrays\n",
    "#   Note: 4번과 대조해보세요. 행렬 안에서 작은 '행렬'을 추출 할때와, 여기저기서 '원소'를 추출 할때의 syntax가 다릅니다!\n",
    "#\n",
    "#   desired output: [3 7 1]\n",
    "#\n",
    "# ---------------------- TODO ---------------------- #\n",
    "#                                                    #\n",
    "x=list(map(lambda x : B[x[0],x[1]],np.argwhere(B)))\n",
    "#                                                    #\n",
    "# -------------------------------------------------- #\n",
    "print('# 5')\n",
    "print(x)\n",
    "print()"
   ]
  },
  {
   "cell_type": "code",
   "execution_count": 14,
   "metadata": {},
   "outputs": [
    {
     "name": "stdout",
     "output_type": "stream",
     "text": [
      "# 6\n",
      "[[0 1]\n",
      " [1 0]\n",
      " [2 2]]\n",
      "\n"
     ]
    }
   ],
   "source": [
    "# 6. (고급 인덱싱) B 행렬에서 0이 아닌 원소들의 좌표들을 전부 뽑고 싶습니다. 어떻게 해야 할까요? (hint: np.argwhere)\n",
    "#\n",
    "#   desired output: [[0 1]\n",
    "#                    [1 0]\n",
    "#                    [2 2]]\n",
    "#\n",
    "# ---------------------- TODO ---------------------- #\n",
    "#                                                    #\n",
    "x=np.argwhere(B)\n",
    "#                                                    #\n",
    "# -------------------------------------------------- #\n",
    "print('# 6')\n",
    "print(x)\n",
    "print()"
   ]
  },
  {
   "cell_type": "code",
   "execution_count": 15,
   "metadata": {},
   "outputs": [
    {
     "name": "stdout",
     "output_type": "stream",
     "text": [
      "# 7\n",
      "[[0 1]\n",
      " [1 0]]\n",
      "\n"
     ]
    }
   ],
   "source": [
    "# 7. (고급 인덱싱) B 행렬에서 2보다 큰 원소들의 좌표들을 전부 뽑고 싶습니다. 어떻게 해야 할까요? (hint: np.argwhere)\n",
    "#   어려우시면 (B > 2) 를 한번 출력해보세요. 그리고 파이썬에서 True는 1, False는 0으로 취급될 수 있습니다. (자세한건 truthy, falsy 검색)\n",
    "#\n",
    "#   desired output: [[0 1]\n",
    "#                    [1 0]]\n",
    "#\n",
    "# ---------------------- TODO ---------------------- #\n",
    "#                                                    #\n",
    "x=np.argwhere(B>2)\n",
    "#                                                    #\n",
    "# -------------------------------------------------- #\n",
    "print('# 7')\n",
    "print(x)\n",
    "print()"
   ]
  },
  {
   "cell_type": "markdown",
   "metadata": {},
   "source": [
    "### 3. Axis 관련 연습"
   ]
  },
  {
   "cell_type": "code",
   "execution_count": 63,
   "metadata": {},
   "outputs": [],
   "source": [
    "A = np.array([  # A.shape == (3,3)\n",
    "    [1,0,0],\n",
    "    [1,0,0],\n",
    "    [0,0,1]\n",
    "])\n",
    "\n",
    "B = np.array([  # B.shape == (2,2,3)\n",
    "    [\n",
    "        [ 0, 1, 2],\n",
    "        [ 3, 4, 5]\n",
    "    ],\n",
    "    [\n",
    "        [ 6, 7, 8],\n",
    "        [ 9,10,11]\n",
    "    ]\n",
    "])"
   ]
  },
  {
   "cell_type": "code",
   "execution_count": 64,
   "metadata": {},
   "outputs": [
    {
     "name": "stdout",
     "output_type": "stream",
     "text": [
      "# 1\n",
      "[1 1 1]\n",
      "\n"
     ]
    }
   ],
   "source": [
    "# 1. A의 각 행을 합한 벡터를 만들어 보세요. (가로로 더합니다) (hint: A.sum())\n",
    "#\n",
    "#   desired output: [1 1 1]  (가로로 더했지만 넘파이는 기본적으로 row vector로 반환합니다)\n",
    "#\n",
    "# ---------------------- TODO ---------------------- #\n",
    "#                                                    #\n",
    "x=A.sum(axis=1)\n",
    "#                                                    #\n",
    "# -------------------------------------------------- #\n",
    "print('# 1')\n",
    "print(x)\n",
    "print()"
   ]
  },
  {
   "cell_type": "code",
   "execution_count": 65,
   "metadata": {},
   "outputs": [
    {
     "name": "stdout",
     "output_type": "stream",
     "text": [
      "# 2\n",
      "[[1]\n",
      " [1]\n",
      " [1]]\n",
      "\n"
     ]
    }
   ],
   "source": [
    "# 2. A의 각 행을 합한 벡터를 열벡터로 나오게 보세요. (1번에서 쓴 함수에 parameter 하나만 수정하면 됩니다.)\n",
    "#    Note: sum 뿐만이 아니라 형태를 유지했으면 좋겠다.. 싶은 함수들은 찾아보면 대부분 이 parameter가 존재합니다.\n",
    "#    c.f. https://docs.scipy.org/doc/numpy/reference/generated/numpy.sum.html\n",
    "#\n",
    "#   desired output: [[1]\n",
    "#                    [1]\n",
    "#                    [1]]\n",
    "#\n",
    "# ---------------------- TODO ---------------------- #\n",
    "#                                                    #\n",
    "x=A.sum(axis=1, keepdims= True)\n",
    "#                                                    #\n",
    "# -------------------------------------------------- #\n",
    "print('# 2')\n",
    "print(x)\n",
    "print()"
   ]
  },
  {
   "cell_type": "code",
   "execution_count": 66,
   "metadata": {},
   "outputs": [
    {
     "name": "stdout",
     "output_type": "stream",
     "text": [
      "# 3\n",
      "[[1.5 2.5 3.5]\n",
      " [7.5 8.5 9.5]]\n",
      "x.shape == (2, 3)\n",
      "\n"
     ]
    }
   ],
   "source": [
    "# 3. B의 1번 축을 기준으로 평균을 내보세요. (그리고 왜 그렇게 나왔을지 생각해보세요)\n",
    "#\n",
    "#   desired output: [[1.5 2.5 3.5]\n",
    "#                    [7.5 8.5 9.5]]\n",
    "#\n",
    "# ---------------------- TODO ---------------------- #\n",
    "#                                                    #\n",
    "x=B.mean(axis=1)\n",
    "#                                                    #\n",
    "# -------------------------------------------------- #\n",
    "print('# 3')\n",
    "print(x)\n",
    "print('x.shape ==', x.shape)\n",
    "print()"
   ]
  },
  {
   "cell_type": "code",
   "execution_count": 67,
   "metadata": {},
   "outputs": [
    {
     "name": "stdout",
     "output_type": "stream",
     "text": [
      "# 4\n",
      "[[[1.5 2.5 3.5]]\n",
      "\n",
      " [[7.5 8.5 9.5]]]\n",
      "x.shape == (2, 1, 3)\n",
      "\n"
     ]
    }
   ],
   "source": [
    "# 4. 3번에 keepdims 를 True로 놓고 다시 돌려보세요. 3번의 결과와 shape의 차이를 보세요.\n",
    "#\n",
    "#    Note: 넘파이의 다차원 배열들은 2차원으로 project 해서 보여줄 수 밖에 없는 한계 때문에\n",
    "#          시각적으로 이해하기가 어려울 때가 있습니다. 그럴때 shape을 보면서 디버깅\n",
    "#          하는게 개인적으로 굉장히 편한것 같습니다.\n",
    "#\n",
    "#   desired output: [[[1.5 2.5 3.5]]\n",
    "#\n",
    "#                    [[7.5 8.5 9.5]]]\n",
    "#\n",
    "# ---------------------- TODO ---------------------- #\n",
    "#                                                    #\n",
    "x=B.mean(axis=1,keepdims=1)\n",
    "#                                                    #\n",
    "# -------------------------------------------------- #\n",
    "print('# 4')\n",
    "print(x)\n",
    "print('x.shape ==', x.shape)\n",
    "print()"
   ]
  },
  {
   "cell_type": "code",
   "execution_count": 77,
   "metadata": {},
   "outputs": [
    {
     "data": {
      "text/plain": [
       "array([[[ 0,  3],\n",
       "        [ 1,  4],\n",
       "        [ 2,  5]],\n",
       "\n",
       "       [[ 6,  9],\n",
       "        [ 7, 10],\n",
       "        [ 8, 11]]])"
      ]
     },
     "execution_count": 77,
     "metadata": {},
     "output_type": "execute_result"
    }
   ],
   "source": []
  },
  {
   "cell_type": "code",
   "execution_count": 78,
   "metadata": {},
   "outputs": [
    {
     "name": "stdout",
     "output_type": "stream",
     "text": [
      "# 5\n",
      "[[[ 0  3]\n",
      "  [ 1  4]\n",
      "  [ 2  5]]\n",
      "\n",
      " [[ 6  9]\n",
      "  [ 7 10]\n",
      "  [ 8 11]]]\n",
      "\n"
     ]
    }
   ],
   "source": [
    "# 5. B의 1번과 2번 축을 서로 바꿔보세요.    (hint: B.transpose())\n",
    "#   Note: shape 기준으로 (2,2,3) --> (2,3,2)\n",
    "#\n",
    "#   desired output:   [[[ 0  3]\n",
    "#                       [ 1  4]\n",
    "#                       [ 2  5]]\n",
    "#\n",
    "#                      [[ 6  9]\n",
    "#                       [ 7 10]\n",
    "#                       [ 8 11]]]\n",
    "#\n",
    "# ---------------------- TODO ---------------------- #\n",
    "#                                                    #\n",
    "x=np.transpose(B,(0,2,1))\n",
    "#                                                    #\n",
    "# -------------------------------------------------- #\n",
    "print('# 5')\n",
    "print(x)\n",
    "print()"
   ]
  },
  {
   "cell_type": "code",
   "execution_count": 83,
   "metadata": {},
   "outputs": [
    {
     "name": "stdout",
     "output_type": "stream",
     "text": [
      "# 6\n",
      "x.shape ==  (1, 2, 2, 3)\n",
      "\n"
     ]
    }
   ],
   "source": [
    "# 6. B 행렬의 shape 맨앞에 새로운 축을 추가해보세요. (None / np.newaxis)\n",
    "#   c.f. https://docs.scipy.org/doc/numpy-1.13.0/reference/arrays.indexing.html#numpy.newaxis\n",
    "#\n",
    "#   desired output: shape 기준으로 (2,2,3) --> (1,2,2,3)\n",
    "#\n",
    "# ---------------------- TODO ---------------------- #\n",
    "#                                                    #\n",
    "x = B[np.newaxis,:]\n",
    "#                                                    #\n",
    "# -------------------------------------------------- #\n",
    "print('# 6')\n",
    "print('x.shape == ', x.shape)\n",
    "print()"
   ]
  },
  {
   "cell_type": "code",
   "execution_count": 84,
   "metadata": {},
   "outputs": [
    {
     "name": "stdout",
     "output_type": "stream",
     "text": [
      "# 7\n",
      "x.shape ==  (2, 1, 2, 3)\n",
      "\n"
     ]
    }
   ],
   "source": [
    "# 7. 새로운 축을 B의 1번 축으로 추가해보세요.\n",
    "#\n",
    "#   desired output: shape 기준으로 (2,2,3) --> (2,1,2,3)\n",
    "#\n",
    "# ---------------------- TODO ---------------------- #\n",
    "#                                                    #\n",
    "x = B[:,np.newaxis]\n",
    "#                                                    #\n",
    "# -------------------------------------------------- #\n",
    "print('# 7')\n",
    "print('x.shape == ', x.shape)\n",
    "print()"
   ]
  },
  {
   "cell_type": "markdown",
   "metadata": {},
   "source": [
    "### 4. 자주 쓰이는 함수들"
   ]
  },
  {
   "cell_type": "code",
   "execution_count": 28,
   "metadata": {},
   "outputs": [
    {
     "name": "stdout",
     "output_type": "stream",
     "text": [
      "arr: [ 0  1  2  3  4  5  6  7  8  9 10 11]\n",
      "mat:\n",
      "[[6 9 6]\n",
      " [1 1 2]]\n"
     ]
    }
   ],
   "source": [
    "np.random.seed(1)  # random number generation을 위한 seed 값을 설정해줍니다.\n",
    "                   # 디버깅을 하거나, 아니면 지금처럼 이 주피터 파일을 돌리는 유저들이\n",
    "                   # 전부 같은 결과를 얻게 하기위해 사용합니다.\n",
    "\n",
    "arr = np.arange(12)\n",
    "mat = np.random.randint(1,10, (2,3))\n",
    "\n",
    "print(\"arr:\", arr)\n",
    "print(\"mat:\")\n",
    "print(mat)"
   ]
  },
  {
   "cell_type": "code",
   "execution_count": 29,
   "metadata": {},
   "outputs": [
    {
     "name": "stdout",
     "output_type": "stream",
     "text": [
      "# 1\n",
      "x.shape ==  (3, 4)\n",
      "\n"
     ]
    }
   ],
   "source": [
    "# 1. arr를 (3, 4)로 shape을 변환해보세요\n",
    "# ---------------------- TODO ---------------------- #\n",
    "#                                                    #\n",
    "x=arr.reshape([3,4])\n",
    "#                                                    #\n",
    "# -------------------------------------------------- #\n",
    "print('# 1')\n",
    "print('x.shape == ', x.shape)\n",
    "print()"
   ]
  },
  {
   "cell_type": "code",
   "execution_count": 30,
   "metadata": {},
   "outputs": [
    {
     "name": "stdout",
     "output_type": "stream",
     "text": [
      "# 1\n",
      "[9 2]\n",
      "\n"
     ]
    }
   ],
   "source": [
    "# 2. mat의 행마다 가장 큰 값을 뽑아보세요.\n",
    "#\n",
    "#   desired output: [9 2]\n",
    "#\n",
    "# ---------------------- TODO ---------------------- #\n",
    "#                                                    #\n",
    "x=mat.max(axis=1)\n",
    "#                                                    #\n",
    "# -------------------------------------------------- #\n",
    "print('# 1')\n",
    "print(x)\n",
    "print()"
   ]
  },
  {
   "cell_type": "markdown",
   "metadata": {},
   "source": [
    "### 마치며...\n",
    "\n",
    "1. [레퍼런스 페이지](https://docs.scipy.org/doc/numpy/)를 꼭 활용하세요!\n",
    "2. 수치를 다루다가 '이런 함수 있으면 편할거같은데..' 싶어서 찾아보면 넘파이에 거의 다 있습니다! 구글링 꼭 하세요!\n",
    "3. 결국은 짬입니다. 많이 써보는게 답입니다."
   ]
  }
 ],
 "metadata": {
  "kernelspec": {
   "display_name": "Python 3",
   "language": "python",
   "name": "python3"
  },
  "language_info": {
   "codemirror_mode": {
    "name": "ipython",
    "version": 3
   },
   "file_extension": ".py",
   "mimetype": "text/x-python",
   "name": "python",
   "nbconvert_exporter": "python",
   "pygments_lexer": "ipython3",
   "version": "3.6.5"
  }
 },
 "nbformat": 4,
 "nbformat_minor": 2
}
