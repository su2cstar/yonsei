{
 "cells": [
  {
   "cell_type": "code",
   "execution_count": 2,
   "metadata": {
    "collapsed": true
   },
   "outputs": [],
   "source": [
    "import warnings\n",
    "warnings.filterwarnings(\"ignore\")\n",
    "\n",
    "# loading packages\n",
    "# basic + dates \n",
    "import numpy as np\n",
    "import pandas as pd\n",
    "from pandas import datetime\n",
    "\n",
    "# data visualization\n",
    "import matplotlib.pyplot as plt\n",
    "import seaborn as sns # advanced vizs\n",
    "%matplotlib inline\n",
    "\n",
    "# statistics\n",
    "from statsmodels.distributions.empirical_distribution import ECDF\n",
    "\n",
    "# time series analysis\n",
    "from statsmodels.tsa.seasonal import seasonal_decompose\n",
    "from statsmodels.graphics.tsaplots import plot_acf, plot_pacf\n",
    "\n",
    "# prophet by Facebook\n",
    "from fbprophet import Prophet"
   ]
  },
  {
   "cell_type": "code",
   "execution_count": 3,
   "metadata": {
    "collapsed": true
   },
   "outputs": [],
   "source": [
    "testanswer=pd.read_csv(\"C://Users//Owner//Desktop//newtest.csv\",  \n",
    "                    low_memory = False)\n",
    "A=testanswer.groupby('Store')['Sales'].aggregate(lambda x: list(x))"
   ]
  },
  {
   "cell_type": "code",
   "execution_count": 4,
   "metadata": {
    "collapsed": true
   },
   "outputs": [],
   "source": [
    "def rmspe(y, yhat):\n",
    "    return np.sqrt(np.mean((yhat/y-1) ** 2))"
   ]
  },
  {
   "cell_type": "code",
   "execution_count": 5,
   "metadata": {},
   "outputs": [
    {
     "name": "stderr",
     "output_type": "stream",
     "text": [
      "INFO:fbprophet:Disabling yearly seasonality. Run prophet with yearly_seasonality=True to override this.\n",
      "INFO:fbprophet:Disabling daily seasonality. Run prophet with daily_seasonality=True to override this.\n"
     ]
    },
    {
     "name": "stdout",
     "output_type": "stream",
     "text": [
      "[0, 0.4664448846836518]\n"
     ]
    },
    {
     "name": "stderr",
     "output_type": "stream",
     "text": [
      "INFO:fbprophet:Disabling yearly seasonality. Run prophet with yearly_seasonality=True to override this.\n",
      "INFO:fbprophet:Disabling daily seasonality. Run prophet with daily_seasonality=True to override this.\n"
     ]
    },
    {
     "name": "stdout",
     "output_type": "stream",
     "text": [
      "[0, 0.4664448846836518, 0.5380062469283732]\n"
     ]
    },
    {
     "name": "stderr",
     "output_type": "stream",
     "text": [
      "INFO:fbprophet:Disabling yearly seasonality. Run prophet with yearly_seasonality=True to override this.\n",
      "INFO:fbprophet:Disabling daily seasonality. Run prophet with daily_seasonality=True to override this.\n"
     ]
    },
    {
     "name": "stdout",
     "output_type": "stream",
     "text": [
      "[0, 0.4664448846836518, 0.5380062469283732, 0.4822675808402173]\n"
     ]
    }
   ],
   "source": [
    "df = pd.read_csv(\"C://Users//Owner//Desktop//newtrain.csv\",  \n",
    "                    low_memory = False)\n",
    "df2 =  pd.read_csv(\"C://Users//Owner//Desktop//train.csv\",  \n",
    "                    low_memory = False)\n",
    "df3 =  pd.read_csv(\"C://Users//Owner//Desktop//newtest.csv\",  \n",
    "                    low_memory = False)\n",
    "# remove closed stores and those with no sales\n",
    "df = df[(df[\"Open\"] != 0) & (df['Sales'] != 0)]\n",
    "i=1\n",
    "rmspe1=[0]\n",
    "\n",
    "for i in range(1,4):\n",
    "    sales = df[df.Store == i].loc[:, ['Date', 'Sales','Promo']]\n",
    "\n",
    "    sales['Date'] = pd.DatetimeIndex(sales['Date'])\n",
    "    sales = sales.rename(columns = {'Date': 'ds',\n",
    "                                'Sales': 'y'})\n",
    "    state_dates = df2[(df2.Store==i) & ((df2.StateHoliday == 'a') | (df2.StateHoliday == 'b') & (df2.StateHoliday == 'c'))].loc[:, 'Date'].values\n",
    "    school_dates = df2[(df2.Store==i) & (df2.SchoolHoliday == 1)].loc[:, 'Date'].values\n",
    "\n",
    "\n",
    "    state = pd.DataFrame({'holiday': 'state_holiday',\n",
    "                      'ds': pd.to_datetime(state_dates)})\n",
    "    school = pd.DataFrame({'holiday': 'school_holiday',\n",
    "                      'ds': pd.to_datetime(school_dates)})\n",
    "\n",
    "    holidays = pd.concat((state, school)) \n",
    "\n",
    "    my_model = Prophet(holidays = holidays)\n",
    "    my_model.add_regressor('Promo')\n",
    "    my_model.fit(sales)\n",
    "\n",
    "    future_dates = my_model.make_future_dataframe(periods = 22*7)\n",
    "    a=np.array(pd.concat((df[df.Store == i].loc[:, 'Promo'], df3[df3.Store == i].loc[:, 'Promo'])))\n",
    "    b=np.array((0,0,0))\n",
    "    c=np.append(a,b)\n",
    "    future_dates['Promo']=c\n",
    "    forecast = my_model.predict(future_dates)\n",
    "    fc = forecast[['ds', 'yhat']].rename(columns = {'Date': 'ds', 'Forecast': 'yhat'})\n",
    "    yhat=fc['yhat'][606:757]\n",
    "    y=A[i]\n",
    "    yhat=np.array(yhat)\n",
    "    y=np.array(y)\n",
    "    y=y[np.where(y>0)]\n",
    "    yhat=yhat[np.where(y>0)]\n",
    "    rmspe1.append(rmspe(y,yhat))\n",
    "    print(rmspe1)"
   ]
  },
  {
   "cell_type": "code",
   "execution_count": 6,
   "metadata": {},
   "outputs": [
    {
     "name": "stderr",
     "output_type": "stream",
     "text": [
      "INFO:fbprophet:Disabling yearly seasonality. Run prophet with yearly_seasonality=True to override this.\n",
      "INFO:fbprophet:Disabling daily seasonality. Run prophet with daily_seasonality=True to override this.\n"
     ]
    },
    {
     "name": "stdout",
     "output_type": "stream",
     "text": [
      "[0, 0.37956624798575783]\n"
     ]
    },
    {
     "name": "stderr",
     "output_type": "stream",
     "text": [
      "INFO:fbprophet:Disabling yearly seasonality. Run prophet with yearly_seasonality=True to override this.\n",
      "INFO:fbprophet:Disabling daily seasonality. Run prophet with daily_seasonality=True to override this.\n"
     ]
    },
    {
     "name": "stdout",
     "output_type": "stream",
     "text": [
      "[0, 0.37956624798575783, 0.45942839745182357]\n"
     ]
    },
    {
     "name": "stderr",
     "output_type": "stream",
     "text": [
      "INFO:fbprophet:Disabling yearly seasonality. Run prophet with yearly_seasonality=True to override this.\n",
      "INFO:fbprophet:Disabling daily seasonality. Run prophet with daily_seasonality=True to override this.\n"
     ]
    },
    {
     "name": "stdout",
     "output_type": "stream",
     "text": [
      "[0, 0.37956624798575783, 0.45942839745182357, 0.39852793758581084]\n"
     ]
    }
   ],
   "source": [
    "df = pd.read_csv(\"C://Users//Owner//Desktop//newtrain.csv\",  \n",
    "                    low_memory = False)\n",
    "df2 =  pd.read_csv(\"C://Users//Owner//Desktop//train.csv\",  \n",
    "                    low_memory = False)\n",
    "df3 =  pd.read_csv(\"C://Users//Owner//Desktop//newtest.csv\",  \n",
    "                    low_memory = False)\n",
    "# remove closed stores and those with no sales\n",
    "df = df[(df[\"Open\"] != 0) & (df['Sales'] != 0)]\n",
    "i=1\n",
    "rmspe1=[0]\n",
    "\n",
    "for i in range(1,4):\n",
    "    sales = df[df.Store == i].loc[:, ['Date', 'Sales']]\n",
    "\n",
    "    sales['Date'] = pd.DatetimeIndex(sales['Date'])\n",
    "    sales = sales.rename(columns = {'Date': 'ds',\n",
    "                                'Sales': 'y'})\n",
    "    state_dates = df2[(df2.Store==i) & ((df2.StateHoliday == 'a') | (df2.StateHoliday == 'b') & (df2.StateHoliday == 'c'))].loc[:, 'Date'].values\n",
    "    school_dates = df2[(df2.Store==i) & (df2.SchoolHoliday == 1)].loc[:, 'Date'].values\n",
    "\n",
    "\n",
    "    state = pd.DataFrame({'holiday': 'state_holiday',\n",
    "                      'ds': pd.to_datetime(state_dates)})\n",
    "    school = pd.DataFrame({'holiday': 'school_holiday',\n",
    "                      'ds': pd.to_datetime(school_dates)})\n",
    "\n",
    "    holidays = pd.concat((state, school)) \n",
    "\n",
    "    my_model = Prophet(holidays = holidays)\n",
    "   \n",
    "    my_model.fit(sales)\n",
    "\n",
    "    future_dates = my_model.make_future_dataframe(periods = 22*7)\n",
    "   \n",
    "  \n",
    "    forecast = my_model.predict(future_dates)\n",
    "    fc = forecast[['ds', 'yhat']].rename(columns = {'Date': 'ds', 'Forecast': 'yhat'})\n",
    "    yhat=fc['yhat'][606:757]\n",
    "    y=A[i]\n",
    "    yhat=np.array(yhat)\n",
    "    y=np.array(y)\n",
    "    y=y[np.where(y>0)]\n",
    "    yhat=yhat[np.where(y>0)]\n",
    "    rmspe1.append(rmspe(y,yhat))\n",
    "    print(rmspe1)"
   ]
  },
  {
   "cell_type": "code",
   "execution_count": null,
   "metadata": {
    "collapsed": true
   },
   "outputs": [],
   "source": []
  }
 ],
 "metadata": {
  "kernelspec": {
   "display_name": "Python 3",
   "language": "python",
   "name": "python3"
  },
  "language_info": {
   "codemirror_mode": {
    "name": "ipython",
    "version": 3
   },
   "file_extension": ".py",
   "mimetype": "text/x-python",
   "name": "python",
   "nbconvert_exporter": "python",
   "pygments_lexer": "ipython3",
   "version": "3.6.3"
  }
 },
 "nbformat": 4,
 "nbformat_minor": 2
}
