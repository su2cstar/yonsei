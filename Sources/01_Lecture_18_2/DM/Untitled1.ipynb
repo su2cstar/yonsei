{
 "cells": [
  {
   "cell_type": "code",
   "execution_count": 2,
   "metadata": {},
   "outputs": [],
   "source": [
    "import matplotlib.pyplot as plt\n",
    "%matplotlib inline  "
   ]
  },
  {
   "cell_type": "code",
   "execution_count": 3,
   "metadata": {},
   "outputs": [],
   "source": [
    "titanic = [\n",
    "[1,1,\"Smith, Mrs. Lucien Philip\",\"F\",18],\n",
    "[0,3,\"Gustafsson, Mr. Karl Gideon\",\"M\",19],\n",
    "[1,3,\"Jalsevac, Mr. Ivan\",\"M\",29],\n",
    "[0,2,\"Hiltunen, Miss. Marta\",\"F\",18],\n",
    "[0,2,\"Fillbrook, Mr. Joseph Charles\",\"M\",18],\n",
    "[1,3,\"McCoy, Miss. Alicia\",\"F\",25],\n",
    "[0,3,\"Lindahl, Miss. Agda Thorilda Viktoria\",\"F\",25],\n",
    "[0,2,\"Butler, Mr. Reginald Fenton\",\"M\",25],\n",
    "[0,3,\"Harknett, Miss. Alice Phoebe\",\"F\",32],\n",
    "[0,3,\"O'Brien, Mr. Timothy\",\"M\",49],\n",
    "[1,1,\"Wilson, Miss. Helen Alice\",\"F\",31],\n",
    "[0,3,\"Sage, Mr. Frederick\",\"M\",38],\n",
    "[0,3,\"Palsson, Miss. Stina Viola\",\"F\",33],\n",
    "[1,3,\"O'Brien, Mrs. Thomas\",\"F\",37],\n",
    "[1,3,\"Persson, Mr. Ernst Ulrik\",\"M\",25],\n",
    "[1,1,\"Hays, Mrs. Charles Melville\",\"F\",52],\n",
    "[0,3,\"Vander Planke, Miss. Augusta Maria\",\"F\",18],\n",
    "[0,3,\"Brobeck, Mr. Karl Rudolf\",\"M\",22],\n",
    "[1,1,\"Salomon, Mr. Abraham L\",\"M\",63],\n",
    "[0,1,\"Chisholm, Mr. Roderick Robert Crispin\",\"M\",51],\n",
    "[0,3,\"Leinonen, Mr. Antti Gustaf\",\"M\",32],\n",
    "]\n",
    "# 리스트 데이터 구성 (왼쪽부터)\n",
    "# 생존여부(1:생존, 0:비생존), 객실등급(1~3), 승객이름, 성별(‘M’:남, ‘F’:여), 나이\n"
   ]
  },
  {
   "cell_type": "code",
   "execution_count": 15,
   "metadata": {},
   "outputs": [],
   "source": [
    "# 해당 index 번호의 최대값을 retrun하는 함수\n",
    "def getmax(lst,ind):\n",
    "    mx = lst[0][ind]\n",
    "    for i in range(len(lst)):\n",
    "        if mx <= lst[i][ind]:\n",
    "            mx = lst[i][ind]\n",
    "    return mx"
   ]
  },
  {
   "cell_type": "code",
   "execution_count": 19,
   "metadata": {},
   "outputs": [],
   "source": [
    "# 해당 index 번호의 최소값을 retrun하는 함수\n",
    "def getmin(lst,ind):\n",
    "    mn = lst[0][ind]\n",
    "    for i in range(len(lst)):\n",
    "        if mn >= lst[i][ind]:\n",
    "            mn = lst[i][ind]\n",
    "    return mn"
   ]
  },
  {
   "cell_type": "code",
   "execution_count": 22,
   "metadata": {},
   "outputs": [],
   "source": [
    "# 해당 index 번호의 평균을 retrun하는 함수\n",
    "def getmean(lst,ind):\n",
    "    mn = 0\n",
    "    for i in range(len(lst)):\n",
    "        mn = mn + lst[i][ind]\n",
    "    mn = mn / len(lst)\n",
    "    return mn    "
   ]
  },
  {
   "cell_type": "code",
   "execution_count": 25,
   "metadata": {},
   "outputs": [],
   "source": [
    "# 해당 list를 해당 성별에 해당하는 값들만 갖는 list로 분할하는 함수\n",
    "def spltsex(lst,sex='M',ind=3):\n",
    "    spltlst=[]\n",
    "    for i in range(len(lst)):\n",
    "        if lst[i][ind]==sex:\n",
    "            spltlst.append(lst[i])\n",
    "    return spltlst"
   ]
  },
  {
   "cell_type": "code",
   "execution_count": 27,
   "metadata": {},
   "outputs": [
    {
     "data": {
      "text/plain": [
       "[[1, 1, 'Smith, Mrs. Lucien Philip', 'F', 18],\n",
       " [0, 2, 'Hiltunen, Miss. Marta', 'F', 18],\n",
       " [1, 3, 'McCoy, Miss. Alicia', 'F', 25],\n",
       " [0, 3, 'Lindahl, Miss. Agda Thorilda Viktoria', 'F', 25],\n",
       " [0, 3, 'Harknett, Miss. Alice Phoebe', 'F', 32],\n",
       " [1, 1, 'Wilson, Miss. Helen Alice', 'F', 31],\n",
       " [0, 3, 'Palsson, Miss. Stina Viola', 'F', 33],\n",
       " [1, 3, \"O'Brien, Mrs. Thomas\", 'F', 37],\n",
       " [1, 1, 'Hays, Mrs. Charles Melville', 'F', 52],\n",
       " [0, 3, 'Vander Planke, Miss. Augusta Maria', 'F', 18]]"
      ]
     },
     "execution_count": 27,
     "metadata": {},
     "output_type": "execute_result"
    }
   ],
   "source": [
    "spltsex(titanic,'F')"
   ]
  },
  {
   "cell_type": "code",
   "execution_count": 31,
   "metadata": {},
   "outputs": [
    {
     "name": "stdout",
     "output_type": "stream",
     "text": [
      "(최연소) 남 : 1 여: 2\n",
      "(최고령) 남 : 1 여: 2\n",
      "(평균연령) 남 : 1 여: 2\n"
     ]
    }
   ],
   "source": [
    "print(\"(최연소) 남 : %d 여: %s\" %(1,2))\n",
    "print(\"(최고령) 남 : %d 여: %s\" %(1,2))\n",
    "print(\"(평균연령) 남 : %d 여: %s\" %(1,2))"
   ]
  },
  {
   "cell_type": "code",
   "execution_count": 32,
   "metadata": {},
   "outputs": [],
   "source": [
    "?sorted()"
   ]
  },
  {
   "cell_type": "code",
   "execution_count": 37,
   "metadata": {},
   "outputs": [
    {
     "data": {
      "text/plain": [
       "[[1, 1, 'Salomon, Mr. Abraham L', 'M', 63],\n",
       " [1, 1, 'Hays, Mrs. Charles Melville', 'F', 52],\n",
       " [0, 1, 'Chisholm, Mr. Roderick Robert Crispin', 'M', 51],\n",
       " [0, 3, \"O'Brien, Mr. Timothy\", 'M', 49],\n",
       " [0, 3, 'Sage, Mr. Frederick', 'M', 38],\n",
       " [1, 3, \"O'Brien, Mrs. Thomas\", 'F', 37],\n",
       " [0, 3, 'Palsson, Miss. Stina Viola', 'F', 33],\n",
       " [0, 3, 'Harknett, Miss. Alice Phoebe', 'F', 32],\n",
       " [0, 3, 'Leinonen, Mr. Antti Gustaf', 'M', 32],\n",
       " [1, 1, 'Wilson, Miss. Helen Alice', 'F', 31],\n",
       " [1, 3, 'Jalsevac, Mr. Ivan', 'M', 29],\n",
       " [1, 3, 'McCoy, Miss. Alicia', 'F', 25],\n",
       " [0, 3, 'Lindahl, Miss. Agda Thorilda Viktoria', 'F', 25],\n",
       " [0, 2, 'Butler, Mr. Reginald Fenton', 'M', 25],\n",
       " [1, 3, 'Persson, Mr. Ernst Ulrik', 'M', 25],\n",
       " [0, 3, 'Brobeck, Mr. Karl Rudolf', 'M', 22],\n",
       " [0, 3, 'Gustafsson, Mr. Karl Gideon', 'M', 19],\n",
       " [1, 1, 'Smith, Mrs. Lucien Philip', 'F', 18],\n",
       " [0, 2, 'Hiltunen, Miss. Marta', 'F', 18],\n",
       " [0, 2, 'Fillbrook, Mr. Joseph Charles', 'M', 18],\n",
       " [0, 3, 'Vander Planke, Miss. Augusta Maria', 'F', 18]]"
      ]
     },
     "execution_count": 37,
     "metadata": {},
     "output_type": "execute_result"
    }
   ],
   "source": [
    "sorted(titanic, key = lambda x : x[4] , reverse = True)"
   ]
  },
  {
   "cell_type": "code",
   "execution_count": 38,
   "metadata": {},
   "outputs": [
    {
     "name": "stdout",
     "output_type": "stream",
     "text": [
      "[[1, 1, 'Smith, Mrs. Lucien Philip', 'F', 18], [0, 3, 'Gustafsson, Mr. Karl Gideon', 'M', 19], [1, 3, 'Jalsevac, Mr. Ivan', 'M', 29], [0, 2, 'Hiltunen, Miss. Marta', 'F', 18], [0, 2, 'Fillbrook, Mr. Joseph Charles', 'M', 18], [1, 3, 'McCoy, Miss. Alicia', 'F', 25], [0, 3, 'Lindahl, Miss. Agda Thorilda Viktoria', 'F', 25], [0, 2, 'Butler, Mr. Reginald Fenton', 'M', 25], [0, 3, 'Harknett, Miss. Alice Phoebe', 'F', 32], [0, 3, \"O'Brien, Mr. Timothy\", 'M', 49], [1, 1, 'Wilson, Miss. Helen Alice', 'F', 31], [0, 3, 'Sage, Mr. Frederick', 'M', 38], [0, 3, 'Palsson, Miss. Stina Viola', 'F', 33], [1, 3, \"O'Brien, Mrs. Thomas\", 'F', 37], [1, 3, 'Persson, Mr. Ernst Ulrik', 'M', 25], [1, 1, 'Hays, Mrs. Charles Melville', 'F', 52], [0, 3, 'Vander Planke, Miss. Augusta Maria', 'F', 18], [0, 3, 'Brobeck, Mr. Karl Rudolf', 'M', 22], [1, 1, 'Salomon, Mr. Abraham L', 'M', 63], [0, 1, 'Chisholm, Mr. Roderick Robert Crispin', 'M', 51], [0, 3, 'Leinonen, Mr. Antti Gustaf', 'M', 32]]\n"
     ]
    }
   ],
   "source": [
    "print(titanic)"
   ]
  },
  {
   "cell_type": "code",
   "execution_count": 39,
   "metadata": {},
   "outputs": [],
   "source": [
    "?print()"
   ]
  },
  {
   "cell_type": "code",
   "execution_count": 42,
   "metadata": {},
   "outputs": [
    {
     "data": {
      "text/plain": [
       "63"
      ]
     },
     "execution_count": 42,
     "metadata": {},
     "output_type": "execute_result"
    }
   ],
   "source": [
    "max(titanic, key = lambda x : x[4])[4]"
   ]
  },
  {
   "cell_type": "code",
   "execution_count": null,
   "metadata": {},
   "outputs": [],
   "source": []
  }
 ],
 "metadata": {
  "kernelspec": {
   "display_name": "Python 3",
   "language": "python",
   "name": "python3"
  },
  "language_info": {
   "codemirror_mode": {
    "name": "ipython",
    "version": 3
   },
   "file_extension": ".py",
   "mimetype": "text/x-python",
   "name": "python",
   "nbconvert_exporter": "python",
   "pygments_lexer": "ipython3",
   "version": "3.6.5"
  }
 },
 "nbformat": 4,
 "nbformat_minor": 2
}
