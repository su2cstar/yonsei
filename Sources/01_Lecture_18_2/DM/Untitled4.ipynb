{
 "cells": [
  {
   "cell_type": "code",
   "execution_count": 140,
   "metadata": {},
   "outputs": [],
   "source": [
    "import numpy as np\n",
    "import pandas as pd\n",
    "import math\n",
    "from numpy.linalg import *\n",
    "import time\n",
    "import matplotlib as mpl\n",
    "import matplotlib.pyplot as plt\n",
    "from mpl_toolkits.mplot3d import Axes3D\n",
    "%matplotlib inline  \n",
    "\n",
    "#input term\n",
    "trfname='pid.dat'\n",
    "tstfname='pidtest.dat'\n",
    "form=','\n",
    "\n",
    "\n",
    "sh=0\n",
    "\n",
    "\n",
    "\n",
    "col = 7\n",
    "\n",
    "train = np.genfromtxt(trfname, delimiter=form, skip_header=sh)\n",
    "test = np.genfromtxt(tstfname, delimiter=form, skip_header=sh)\n",
    "\n",
    "#calculate term\n",
    "X = np.delete(train, col, 1) # input variable\n",
    "Y = train[:,col] # target variable\n",
    "\n",
    "n = len(train) # number of obs\n",
    "p = X.shape[1] # number of variables\n",
    "\n",
    "testX = np.delete(test, col, 1) # input variable\n",
    "testY = test[:,col] # target variable\n",
    "testn = len(test)\n",
    "\n",
    "g = np.array(list(set(Y))) # unique value of target variable\n",
    "k = len(g) # number of unique values\n",
    "\n",
    "tmp = np.zeros((X.shape[0],X.shape[1]+1))\n",
    "tmp[:,0]= np.ones(n)\n",
    "tmp[:,1:] = X\n",
    "Xj= tmp\n",
    "beta = np.ones(p+1)/10\n",
    "Yb = np.array(list(map(int,Y==g[1])))\n",
    "\n",
    "testmp = np.zeros((testX.shape[0],testX.shape[1]+1))\n",
    "testmp[:,0]= np.ones(testn)\n",
    "testmp[:,1:] = testX\n",
    "testXj = testmp\n",
    "testYb = np.array(list(map(int,testY==g[1])))\n",
    "\n",
    "def loglike(beta):\n",
    "    a=-Yb.T.dot(Xj).dot(beta)+sum(np.log(1+np.exp(Xj.dot(beta))))\n",
    "    return a\n",
    "opt = minimize(loglike , beta )\n",
    "betahat = opt.x\n",
    "\n",
    "def gety(x):\n",
    "    if x>=cutoff:\n",
    "        return g[1]\n",
    "    elif x<cutoff:\n",
    "        return g[0]\n",
    "    \n",
    "yhat = np.exp(Xj.dot(betahat))/(1+np.exp(Xj.dot(betahat)))\n",
    "Yhat = np.array(list(map(gety,yhat)))\n",
    "\n",
    "testyhat = np.exp(testXj.dot(betahat))/(1+np.exp(testXj.dot(betahat)))\n",
    "testYhat = np.array(list(map(gety,testyhat)))   \n"
   ]
  },
  {
   "cell_type": "code",
   "execution_count": 142,
   "metadata": {},
   "outputs": [],
   "source": []
  },
  {
   "cell_type": "code",
   "execution_count": 143,
   "metadata": {},
   "outputs": [],
   "source": [
    "cutoff = 0.5\n"
   ]
  },
  {
   "cell_type": "code",
   "execution_count": 144,
   "metadata": {},
   "outputs": [],
   "source": [
    "yhat = np.exp(Xj.dot(betahat))/(1+np.exp(Xj.dot(betahat)))\n",
    "Yhat = np.array(list(map(gety,yhat)))\n",
    "\n",
    "testyhat = np.exp(testXj.dot(betahat))/(1+np.exp(testXj.dot(betahat)))\n",
    "testYhat = np.array(list(map(gety,testyhat)))\n"
   ]
  },
  {
   "cell_type": "code",
   "execution_count": 146,
   "metadata": {},
   "outputs": [
    {
     "data": {
      "text/plain": [
       "array([1., 1., 1., 1., 1., 1., 1., 1., 1., 1., 1., 1., 1., 1., 1., 1., 1.,\n",
       "       1., 2., 2., 2., 2., 2., 2., 2., 2., 2., 2., 2., 2., 2., 2., 2., 2.,\n",
       "       2., 2., 2., 2., 2., 2., 2., 2., 2., 2., 2., 2., 2., 2., 2., 2., 2.,\n",
       "       2., 2., 2., 1., 1., 1., 1., 1., 1., 1., 1., 1., 1., 1., 1., 1., 1.,\n",
       "       1., 1., 1., 1., 2., 2., 2., 2., 2., 2., 2., 2., 2., 2., 2., 2., 2.,\n",
       "       2., 2., 2., 2., 2., 2., 2., 2., 2., 2., 2., 2., 2., 2., 2., 2., 2.,\n",
       "       2., 2., 2., 2., 2., 2., 1., 1., 1., 1., 1., 1., 1., 1., 1., 1., 1.,\n",
       "       1., 1., 1., 1., 1., 1., 1., 2., 2., 2., 2., 2., 2., 2., 2., 2., 2.,\n",
       "       2., 2., 2., 2., 2., 2., 2., 2., 2., 2., 2., 2., 2., 2., 2., 2., 2.,\n",
       "       2., 2., 2., 2., 2., 2., 2., 2., 2., 1., 1., 1., 1., 1., 1., 1., 1.,\n",
       "       1., 1., 1., 1., 1., 1., 1., 1., 1., 1., 2., 2., 2., 2., 2., 2., 2.,\n",
       "       2., 2., 2., 2., 2., 2., 2., 2., 2., 2., 2., 2., 2., 2., 2., 2., 2.,\n",
       "       2., 2., 2., 2., 2., 2., 2., 1., 1., 1., 1., 1., 1., 1., 1., 1., 1.,\n",
       "       1., 1., 1., 1., 1.])"
      ]
     },
     "execution_count": 146,
     "metadata": {},
     "output_type": "execute_result"
    }
   ],
   "source": []
  }
 ],
 "metadata": {
  "kernelspec": {
   "display_name": "Python 3",
   "language": "python",
   "name": "python3"
  },
  "language_info": {
   "codemirror_mode": {
    "name": "ipython",
    "version": 3
   },
   "file_extension": ".py",
   "mimetype": "text/x-python",
   "name": "python",
   "nbconvert_exporter": "python",
   "pygments_lexer": "ipython3",
   "version": "3.6.5"
  }
 },
 "nbformat": 4,
 "nbformat_minor": 2
}
