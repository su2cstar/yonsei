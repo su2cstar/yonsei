{
 "cells": [
  {
   "cell_type": "code",
   "execution_count": 1,
   "metadata": {},
   "outputs": [],
   "source": [
    "import numpy as np\n",
    "import pandas as pd\n",
    "import matplotlib.pyplot as plt\n",
    "%matplotlib inline  "
   ]
  },
  {
   "cell_type": "code",
   "execution_count": 2,
   "metadata": {},
   "outputs": [
    {
     "name": "stdout",
     "output_type": "stream",
     "text": [
      "2개\n",
      "아상의\n",
      "DL\n",
      "분석서버로\n",
      "구성된\n",
      "경우,\n",
      "두\n",
      "서버\n",
      "사이에\n",
      "집계\n",
      "결과가\n",
      "다를\n",
      "수\n",
      "있다.\n",
      "(약\n",
      "0.05%\n",
      "이하이긴하나...)\n",
      "이\n",
      "경우,\n",
      "보고서를\n",
      "보는\n",
      "사람에\n",
      "따라\n",
      "운이\n",
      "없으면\n",
      "집계\n",
      "수치가\n",
      "감소하는\n",
      "현상이\n",
      "생길\n",
      "수도\n",
      "있다.\n"
     ]
    }
   ],
   "source": [
    "doc_text = \"\"\"2개 아상의 DL 분석서버로 구성된 경우,\n",
    " 두 서버 사이에 집계 결과가 다를 수 있다. (약 0.05% 이하이긴하나...) 이 경우,\n",
    " 보고서를 보는 사람에 따라 운이 없으면 집계 수치가 감소하는 현상이 생길 수도 있다.\"\"\"\n",
    "doc = doc_text.split()\n",
    "for w in doc:\n",
    "    print(w)"
   ]
  },
  {
   "cell_type": "code",
   "execution_count": 4,
   "metadata": {},
   "outputs": [
    {
     "name": "stdout",
     "output_type": "stream",
     "text": [
      "0 : 2개\n",
      "1 : 아상의\n",
      "2 : DL\n",
      "3 : 분석서버로\n",
      "4 : 구성된\n",
      "5 : 경우,\n",
      "6 : 두\n",
      "7 : 서버\n",
      "8 : 사이에\n",
      "9 : 집계\n",
      "10 : 결과가\n",
      "11 : 다를\n",
      "12 : 수\n",
      "13 : 있다.\n",
      "14 : (약\n",
      "15 : 0.05%\n",
      "16 : 이하이긴하나...)\n",
      "17 : 이\n",
      "18 : 경우,\n",
      "19 : 보고서를\n",
      "20 : 보는\n",
      "21 : 사람에\n",
      "22 : 따라\n",
      "23 : 운이\n",
      "24 : 없으면\n",
      "25 : 집계\n",
      "26 : 수치가\n",
      "27 : 감소하는\n",
      "28 : 현상이\n",
      "29 : 생길\n",
      "30 : 수도\n",
      "31 : 있다.\n"
     ]
    }
   ],
   "source": [
    "\n",
    "for i, w in enumerate(doc):\n",
    "    print(\"%d : %s\" % (i, w))\n"
   ]
  },
  {
   "cell_type": "code",
   "execution_count": 5,
   "metadata": {},
   "outputs": [
    {
     "name": "stdout",
     "output_type": "stream",
     "text": [
      "0\n",
      "1\n",
      "2\n",
      "3\n",
      "4\n",
      "5\n",
      "6\n",
      "7\n",
      "8\n",
      "9\n",
      "10\n",
      "11\n",
      "12\n",
      "13\n",
      "14\n",
      "15\n",
      "16\n",
      "17\n",
      "18\n",
      "19\n",
      "20\n",
      "21\n",
      "22\n",
      "23\n",
      "24\n",
      "25\n",
      "26\n",
      "27\n",
      "28\n",
      "29\n",
      "30\n",
      "31\n"
     ]
    }
   ],
   "source": [
    "for i, _ in enumerate(doc):\n",
    "    print(i)"
   ]
  },
  {
   "cell_type": "code",
   "execution_count": 9,
   "metadata": {},
   "outputs": [
    {
     "data": {
      "image/png": "[encoded data removed]",
      "text/plain": [
       "<Figure size 432x288 with 1 Axes>"
      ]
     },
     "metadata": {},
     "output_type": "display_data"
    }
   ],
   "source": [
    "movies = [\"Annie Hall\", \"Ben-Hur\", \"Casablanca\", \"Gandhi\", \"West Side Story\"]\n",
    "num_oscars = [5, 11, 3, 8, 10]\n",
    "# bars are by default width 0.8, so we'll add 0.1 to the left coordinates\n",
    "# so that each bar is centered\n",
    "xs = [i + 0.1 for i, _ in enumerate(movies)]\n",
    "# plot bars with left x-coordinates [xs], heights [num_oscars]\n",
    "plt.bar(xs, num_oscars)\n",
    "plt.ylabel(\"# of Academy Awards\")\n",
    "plt.title(\"My Favorite Movies\")\n",
    "# label x-axis with movie names at bar centers\n",
    "plt.xticks([i for i, _ in enumerate(movies)], movies)\n",
    "plt.show()\n"
   ]
  },
  {
   "cell_type": "code",
   "execution_count": 10,
   "metadata": {},
   "outputs": [
    {
     "ename": "ModuleNotFoundError",
     "evalue": "No module named 'wordcloud'",
     "output_type": "error",
     "traceback": [
      "\u001b[1;31m---------------------------------------------------------------------------\u001b[0m",
      "\u001b[1;31mModuleNotFoundError\u001b[0m                       Traceback (most recent call last)",
      "\u001b[1;32m<ipython-input-10-dc1828f2a80e>\u001b[0m in \u001b[0;36m<module>\u001b[1;34m()\u001b[0m\n\u001b[1;32m----> 1\u001b[1;33m \u001b[1;32mimport\u001b[0m \u001b[0mwordcloud\u001b[0m\u001b[1;33m\u001b[0m\u001b[0m\n\u001b[0m",
      "\u001b[1;31mModuleNotFoundError\u001b[0m: No module named 'wordcloud'"
     ]
    }
   ],
   "source": [
    "import wordcloud"
   ]
  },
  {
   "cell_type": "code",
   "execution_count": null,
   "metadata": {},
   "outputs": [],
   "source": []
  }
 ],
 "metadata": {
  "kernelspec": {
   "display_name": "Python 3",
   "language": "python",
   "name": "python3"
  },
  "language_info": {
   "codemirror_mode": {
    "name": "ipython",
    "version": 3
   },
   "file_extension": ".py",
   "mimetype": "text/x-python",
   "name": "python",
   "nbconvert_exporter": "python",
   "pygments_lexer": "ipython3",
   "version": "3.6.5"
  }
 },
 "nbformat": 4,
 "nbformat_minor": 2
}
