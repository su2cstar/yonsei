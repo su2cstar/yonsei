{
 "cells": [
  {
   "cell_type": "code",
   "execution_count": 1,
   "metadata": {},
   "outputs": [],
   "source": [
    "import pandas as pd\n",
    "import numpy as np\n",
    "from collections import Counter"
   ]
  },
  {
   "cell_type": "code",
   "execution_count": 101,
   "metadata": {},
   "outputs": [
    {
     "name": "stdout",
     "output_type": "stream",
     "text": [
      "Write your train data file name : pid.dat\n",
      "Write your test data file name : pidtest.dat\n",
      "Select the data coding format(1 = 'a b c' or 2 = 'a,b,c'): 2\n",
      "Select the data header format(1 = with header or 2 = no header): 2\n",
      "Select column# where your y vlaues exist: 8\n"
     ]
    }
   ],
   "source": [
    "#input term\n",
    "trfname=input(\"Write your train data file name : \")\n",
    "tstfname=input(\"Write your test data file name : \")\n",
    "sep=input(\"Select the data coding format(1 = 'a b c' or 2 = 'a,b,c'): \")\n",
    "if sep=='1':\n",
    "    form=' '\n",
    "elif sep=='2':\n",
    "    form=','\n",
    "\n",
    "\n",
    "hd=input(\"Select the data header format(1 = with header or 2 = no header): \")\n",
    "if hd=='1':\n",
    "    header='infer'\n",
    "elif hd=='2':\n",
    "    header=None\n",
    "\n",
    "\n",
    "cl=input(\"Select column# where your y vlaues exist: \")\n",
    "yno = int(cl)-1\n",
    "\n",
    "\n",
    "train = pd.read_csv(trfname,sep=form,header=header)\n",
    "test = pd.read_csv(tstfname,sep=form,header=header)\n",
    "\n",
    "yCol=train.columns[yno]"
   ]
  },
  {
   "cell_type": "code",
   "execution_count": 102,
   "metadata": {},
   "outputs": [],
   "source": [
    "X = train.drop(yCol,1)\n",
    "Y = train.iloc[:, yno]\n",
    "df = pd.concat([X, Y], axis=1)\n",
    "\n",
    "tX = test.drop(yCol,1)\n",
    "tY = test.iloc[:, yno]\n",
    "tdf = pd.concat([tX, tY], axis=1)\n",
    "unqCnt = []\n",
    "for i in range(X.shape[1]):\n",
    "    unqCnt += [len(set(X.iloc[:,i]))]\n",
    "uqCnt = np.array(unqCnt)"
   ]
  },
  {
   "cell_type": "code",
   "execution_count": 103,
   "metadata": {},
   "outputs": [],
   "source": [
    "unqCnt = []\n",
    "for i in range(X.shape[1]):\n",
    "    unqCnt += [len(set(X.iloc[:,i]))]\n",
    "uqCnt = np.array(unqCnt)\n",
    "\n",
    "cateVarInd = np.where(uqCnt<=10)[0] # index of the categoral values\n",
    "numerVarInd = np.where(uqCnt>10)[0] # index of the numerical values"
   ]
  },
  {
   "cell_type": "code",
   "execution_count": 104,
   "metadata": {},
   "outputs": [],
   "source": [
    "def speLst(lst):\n",
    "    n = len(lst)\n",
    "    ctgry=[]\n",
    "    for i in range(1,2**(n-1)):\n",
    "        ctgry.append(list('{:#b}'.format(i)[2:].zfill(n)))\n",
    "\n",
    "    boolCtgry = [[bool(int(y)) for y in x] for x in ctgry]\n",
    "\n",
    "    g1 = []\n",
    "    for i in boolCtgry:\n",
    "        g1.append(sorted(np.array(lst)[i]))\n",
    "    return g1"
   ]
  },
  {
   "cell_type": "code",
   "execution_count": 105,
   "metadata": {},
   "outputs": [],
   "source": [
    "dicInd = dict()\n",
    "for i in cateVarInd:\n",
    "    dicInd.update({i:speLst(list(set(X.iloc[:,i])))})"
   ]
  },
  {
   "cell_type": "code",
   "execution_count": 106,
   "metadata": {
    "scrolled": true
   },
   "outputs": [],
   "source": [
    "def calcGini(vec):\n",
    "    return 1 - (sum(vec==min(Y))/len(vec))**2-(sum(vec==max(Y))/len(vec))"
   ]
  },
  {
   "cell_type": "code",
   "execution_count": 107,
   "metadata": {},
   "outputs": [],
   "source": [
    "def searchCoffcat(df,i):\n",
    "    out = []\n",
    "    for j in dicInd[i]:\n",
    "        g1ind = j\n",
    "        g2ind = [x for x in list(set(df.iloc[:,i])) if x not in g1ind]\n",
    "        g1 = df[list(map(lambda x:x in g1ind,df.iloc[:,i]))]\n",
    "        g2 = df[list(map(lambda x:x in g2ind,df.iloc[:,i]))]\n",
    "        wGini = len(g1)*calcGini(g1[yCol])+len(g2)*calcGini(g2[yCol])\n",
    "        out.append([wGini,j])  \n",
    "    return sorted(out , key = lambda x : x[0])[0]"
   ]
  },
  {
   "cell_type": "code",
   "execution_count": 108,
   "metadata": {},
   "outputs": [],
   "source": [
    "def searchCoff(df , cInd):\n",
    "    out = []\n",
    "    for i in sorted(list(set(df[cInd])))[:-1]:\n",
    "        g1 = df[df[cInd] <= i]\n",
    "        g2 = df[df[cInd] > i]\n",
    "        wGini = len(g1)*calcGini(g1[yCol])+len(g2)*calcGini(g2[yCol])\n",
    "        out.append([wGini,i])\n",
    "    return sorted(out , key = lambda x : x[0])[0]"
   ]
  },
  {
   "cell_type": "code",
   "execution_count": 109,
   "metadata": {},
   "outputs": [],
   "source": [
    "ret = []\n",
    "for i in numerVarInd:\n",
    "    ret.append([i]+searchCoff(df,i))"
   ]
  },
  {
   "cell_type": "code",
   "execution_count": 110,
   "metadata": {},
   "outputs": [],
   "source": [
    "retCat = []\n",
    "for i in cateVarInd:\n",
    "    retCat.append([i]+searchCoffcat(df,i))"
   ]
  },
  {
   "cell_type": "code",
   "execution_count": 111,
   "metadata": {},
   "outputs": [],
   "source": [
    "retall = ret + retCat"
   ]
  },
  {
   "cell_type": "code",
   "execution_count": 112,
   "metadata": {},
   "outputs": [],
   "source": [
    "resCat = sorted(retall, key = lambda x : x[1])[0]"
   ]
  },
  {
   "cell_type": "code",
   "execution_count": 113,
   "metadata": {},
   "outputs": [
    {
     "data": {
      "text/plain": [
       "[1, 39.420875420875426, 146]"
      ]
     },
     "execution_count": 113,
     "metadata": {},
     "output_type": "execute_result"
    }
   ],
   "source": [
    "resCat"
   ]
  },
  {
   "cell_type": "code",
   "execution_count": 40,
   "metadata": {},
   "outputs": [],
   "source": [
    "if resCat[0] in cateVarInd:\n",
    "    g1 = df[list(map(lambda x:x in resCat[2], df.iloc[:,resCat[0]]))]\n",
    "    g2 = df[list(map(lambda x:x not in resCat[2], df.iloc[:,resCat[0]]))]\n",
    "    #g2 = df[df[res[0]] > res[2]]\n",
    "else:\n",
    "    g1 = df[df[resCat[0]] <= resCat[2]]\n",
    "    g2 = df[df[resCat[0]] > resCat[2]]"
   ]
  },
  {
   "cell_type": "code",
   "execution_count": 41,
   "metadata": {},
   "outputs": [],
   "source": [
    "if Counter(g1[yCol])[min(Y)] > Counter(g1[yCol])[max(Y)]:\n",
    "    g1val = min(Y)\n",
    "    g2val = max(Y)\n",
    "else:\n",
    "    g1val = max(Y)\n",
    "    g2val = min(Y)"
   ]
  },
  {
   "cell_type": "code",
   "execution_count": 42,
   "metadata": {},
   "outputs": [],
   "source": [
    "def getYhat(vec):\n",
    "    if resCat[0] in cateVarInd:\n",
    "        if vec[resCat[0]] in resCat[2]:\n",
    "            return g1val\n",
    "        else:\n",
    "            return g2val\n",
    "    else:\n",
    "        if vec[resCat[0]] <= resCat[2]:\n",
    "            return g1val\n",
    "        else:\n",
    "            return g2val"
   ]
  },
  {
   "cell_type": "code",
   "execution_count": 43,
   "metadata": {},
   "outputs": [],
   "source": [
    "rslt= []\n",
    "for i in range(X.shape[0]):\n",
    "    rslt.append(getYhat(X.iloc[i,:]))\n",
    "rslt = np.array(rslt)\n",
    "\n",
    "cont = pd.crosstab(Y,rslt)\n",
    "cont.columns.name = 'Resub Class'\n",
    "cont.index.name = 'Actual Class'\n",
    "acc = sum(np.diag(cont))/len(Y)\n",
    "spe = cont.iloc[0,0]/sum(cont.iloc[0,:])\n",
    "sens = cont.iloc[1,1]/sum(cont.iloc[1,:])\n",
    "predy = pd.DataFrame([range(1,(len(X)+1)),Y,rslt]).transpose()\n",
    "predy.columns=['ID','Actual class','Resub pred']"
   ]
  },
  {
   "cell_type": "code",
   "execution_count": 23,
   "metadata": {},
   "outputs": [],
   "source": [
    "trslt= []\n",
    "for i in range(tX.shape[0]):\n",
    "    trslt.append(getYhat(tX.iloc[i,:]))\n",
    "trslt = np.array(trslt)\n",
    "\n",
    "tcont = pd.crosstab(tY,trslt)\n",
    "tcont.columns.name = 'Test Class'\n",
    "tcont.index.name = 'Actual Class'\n",
    "tacc = sum(np.diag(tcont))/len(tY)\n",
    "tspe = tcont.iloc[0,0]/sum(tcont.iloc[0,:])\n",
    "tsens = tcont.iloc[1,1]/sum(tcont.iloc[1,:])\n",
    "tpredy = pd.DataFrame([range(1,(len(tX)+1)),tY,trslt]).transpose()\n",
    "tpredy.columns=['ID','Actual class','Test pred']"
   ]
  },
  {
   "cell_type": "code",
   "execution_count": 72,
   "metadata": {},
   "outputs": [
    {
     "data": {
      "text/plain": [
       "[2, 381.4113401428271, ['Male']]"
      ]
     },
     "execution_count": 72,
     "metadata": {},
     "output_type": "execute_result"
    }
   ],
   "source": [
    "resCat"
   ]
  },
  {
   "cell_type": "code",
   "execution_count": null,
   "metadata": {},
   "outputs": [],
   "source": []
  },
  {
   "cell_type": "code",
   "execution_count": null,
   "metadata": {},
   "outputs": [],
   "source": [
    "fname = input('Write your output file name : ')\n",
    "\n",
    "print(predy.to_string(index=False))\n",
    "print(cont)\n",
    "print(\"Overall accuracy = %0.3f\" %(acc))\n",
    "print(\"Sensitivity = %0.3f\" %(sens))\n",
    "print(\"Specificity = %0.3f\" %(spe))\n",
    "\n",
    "print(tpredy.to_string(index=False))\n",
    "print(tcont)\n",
    "print(\"Overall accuracy = %0.3f\" %(tacc))\n",
    "print(\"Sensitivity = %0.3f\" %(tsens))\n",
    "print(\"Specificity = %0.3f\" %(tspe))\n",
    "\n",
    "#file output\n",
    "out = open(fname, 'w')\n",
    "with pd.option_context('display.max_rows', None, 'display.max_columns', None):\n",
    "    print(predy.to_string(index=False),file=out)\n",
    "    print(\"\",file=out)\n",
    "    print(\"Confusion Matrix (Resubstitution)\",file=out)\n",
    "    print(cont,file=out)\n",
    "    print(\"\",file=out)\n",
    "    print(\"Model Summary (Resubstitution)\",file=out)\n",
    "    print(\"Overall accuracy = %0.3f\" %(acc),file=out)\n",
    "    print(\"Sensitivity = %0.3f\" %(sens),file=out)\n",
    "    print(\"Specificity = %0.3f\" %(spe),file=out)\n",
    "    print(\"\",file=out)\n",
    "    print(tpredy.to_string(index=False),file=out)\n",
    "    print(\"\",file=out)\n",
    "    print(\"Confusion Matrix (Test)\",file=out)\n",
    "    print(tcont,file=out)\n",
    "    print(\"\",file=out)\n",
    "    print(\"Model Summary (Test)\",file=out)\n",
    "    print(\"Overall accuracy = %0.3f\" %(tacc),file=out)\n",
    "    print(\"Sensitivity = %0.3f\" %(tsens),file=out)\n",
    "    print(\"Specificity = %0.3f\" %(tspe),file=out)\n",
    "out.close()"
   ]
  },
  {
   "cell_type": "code",
   "execution_count": 49,
   "metadata": {},
   "outputs": [],
   "source": [
    "resCat[2]\n",
    "a= ['1','2']"
   ]
  },
  {
   "cell_type": "code",
   "execution_count": 71,
   "metadata": {},
   "outputs": [
    {
     "name": "stdout",
     "output_type": "stream",
     "text": [
      "Tree Structure\n",
      "\tNode1 : Sex in {'Male'} (1490,711)\n",
      "\t Node2 : No (1364,367)\n",
      "\t Node2 : Yes (126,344)\n"
     ]
    }
   ],
   "source": [
    "print('Tree Structure')\n",
    "print('\\tNode1 : %s in %s (%d,%d)' %(df.columns[[resCat[0]]][0],set(resCat[2]),Counter(train[yCol])[g1val],Counter(train[yCol])[g2val]))\n",
    "print('\\t Node2 : %s (%d,%d)' %(g1val,Counter(g1[yCol])[g1val],Counter(g1[yCol])[g2val]))\n",
    "print('\\t Node2 : %s (%d,%d)' %(g2val,Counter(g2[yCol])[g1val],Counter(g2[yCol])[g2val]))"
   ]
  },
  {
   "cell_type": "code",
   "execution_count": 80,
   "metadata": {},
   "outputs": [
    {
     "data": {
      "text/plain": [
       "True"
      ]
     },
     "execution_count": 80,
     "metadata": {},
     "output_type": "execute_result"
    }
   ],
   "source": [
    "g1.iloc[:,resCat[0]][0]==resCat[2][0]"
   ]
  },
  {
   "cell_type": "code",
   "execution_count": 76,
   "metadata": {},
   "outputs": [
    {
     "data": {
      "text/plain": [
       "[2, 381.4113401428271, ['Male']]"
      ]
     },
     "execution_count": 76,
     "metadata": {},
     "output_type": "execute_result"
    }
   ],
   "source": [
    "resCat"
   ]
  },
  {
   "cell_type": "code",
   "execution_count": 82,
   "metadata": {},
   "outputs": [
    {
     "name": "stdout",
     "output_type": "stream",
     "text": [
      "\t Node2 : True (1364,367)\n"
     ]
    },
    {
     "ename": "KeyError",
     "evalue": "0",
     "output_type": "error",
     "traceback": [
      "\u001b[1;31m---------------------------------------------------------------------------\u001b[0m",
      "\u001b[1;31mKeyError\u001b[0m                                  Traceback (most recent call last)",
      "\u001b[1;32m<ipython-input-82-40278035c396>\u001b[0m in \u001b[0;36m<module>\u001b[1;34m()\u001b[0m\n\u001b[0;32m      1\u001b[0m \u001b[0mprint\u001b[0m\u001b[1;33m(\u001b[0m\u001b[1;34m'\\t Node2 : %s (%d,%d)'\u001b[0m \u001b[1;33m%\u001b[0m\u001b[1;33m(\u001b[0m\u001b[0mstr\u001b[0m\u001b[1;33m(\u001b[0m\u001b[0mg1\u001b[0m\u001b[1;33m.\u001b[0m\u001b[0miloc\u001b[0m\u001b[1;33m[\u001b[0m\u001b[1;33m:\u001b[0m\u001b[1;33m,\u001b[0m\u001b[0mresCat\u001b[0m\u001b[1;33m[\u001b[0m\u001b[1;36m0\u001b[0m\u001b[1;33m]\u001b[0m\u001b[1;33m]\u001b[0m\u001b[1;33m[\u001b[0m\u001b[1;36m0\u001b[0m\u001b[1;33m]\u001b[0m\u001b[1;33m==\u001b[0m\u001b[0mresCat\u001b[0m\u001b[1;33m[\u001b[0m\u001b[1;36m2\u001b[0m\u001b[1;33m]\u001b[0m\u001b[1;33m[\u001b[0m\u001b[1;36m0\u001b[0m\u001b[1;33m]\u001b[0m\u001b[1;33m)\u001b[0m\u001b[1;33m,\u001b[0m\u001b[0mCounter\u001b[0m\u001b[1;33m(\u001b[0m\u001b[0mg1\u001b[0m\u001b[1;33m[\u001b[0m\u001b[0myCol\u001b[0m\u001b[1;33m]\u001b[0m\u001b[1;33m)\u001b[0m\u001b[1;33m[\u001b[0m\u001b[0mg1val\u001b[0m\u001b[1;33m]\u001b[0m\u001b[1;33m,\u001b[0m\u001b[0mCounter\u001b[0m\u001b[1;33m(\u001b[0m\u001b[0mg1\u001b[0m\u001b[1;33m[\u001b[0m\u001b[0myCol\u001b[0m\u001b[1;33m]\u001b[0m\u001b[1;33m)\u001b[0m\u001b[1;33m[\u001b[0m\u001b[0mg2val\u001b[0m\u001b[1;33m]\u001b[0m\u001b[1;33m)\u001b[0m\u001b[1;33m)\u001b[0m\u001b[1;33m\u001b[0m\u001b[0m\n\u001b[1;32m----> 2\u001b[1;33m \u001b[0mprint\u001b[0m\u001b[1;33m(\u001b[0m\u001b[1;34m'\\t Node2 : %s (%d,%d)'\u001b[0m \u001b[1;33m%\u001b[0m\u001b[1;33m(\u001b[0m\u001b[0mstr\u001b[0m\u001b[1;33m(\u001b[0m\u001b[0mg2\u001b[0m\u001b[1;33m.\u001b[0m\u001b[0miloc\u001b[0m\u001b[1;33m[\u001b[0m\u001b[1;33m:\u001b[0m\u001b[1;33m,\u001b[0m\u001b[0mresCat\u001b[0m\u001b[1;33m[\u001b[0m\u001b[1;36m0\u001b[0m\u001b[1;33m]\u001b[0m\u001b[1;33m]\u001b[0m\u001b[1;33m[\u001b[0m\u001b[1;36m0\u001b[0m\u001b[1;33m]\u001b[0m\u001b[1;33m==\u001b[0m\u001b[0mresCat\u001b[0m\u001b[1;33m[\u001b[0m\u001b[1;36m2\u001b[0m\u001b[1;33m]\u001b[0m\u001b[1;33m[\u001b[0m\u001b[1;36m0\u001b[0m\u001b[1;33m]\u001b[0m\u001b[1;33m)\u001b[0m\u001b[1;33m,\u001b[0m\u001b[0mCounter\u001b[0m\u001b[1;33m(\u001b[0m\u001b[0mg2\u001b[0m\u001b[1;33m[\u001b[0m\u001b[0myCol\u001b[0m\u001b[1;33m]\u001b[0m\u001b[1;33m)\u001b[0m\u001b[1;33m[\u001b[0m\u001b[0mg1val\u001b[0m\u001b[1;33m]\u001b[0m\u001b[1;33m,\u001b[0m\u001b[0mCounter\u001b[0m\u001b[1;33m(\u001b[0m\u001b[0mg2\u001b[0m\u001b[1;33m[\u001b[0m\u001b[0myCol\u001b[0m\u001b[1;33m]\u001b[0m\u001b[1;33m)\u001b[0m\u001b[1;33m[\u001b[0m\u001b[0mg2val\u001b[0m\u001b[1;33m]\u001b[0m\u001b[1;33m)\u001b[0m\u001b[1;33m)\u001b[0m\u001b[1;33m\u001b[0m\u001b[0m\n\u001b[0m",
      "\u001b[1;32m~\\Anaconda3\\lib\\site-packages\\pandas\\core\\series.py\u001b[0m in \u001b[0;36m__getitem__\u001b[1;34m(self, key)\u001b[0m\n\u001b[0;32m    764\u001b[0m         \u001b[0mkey\u001b[0m \u001b[1;33m=\u001b[0m \u001b[0mcom\u001b[0m\u001b[1;33m.\u001b[0m\u001b[0m_apply_if_callable\u001b[0m\u001b[1;33m(\u001b[0m\u001b[0mkey\u001b[0m\u001b[1;33m,\u001b[0m \u001b[0mself\u001b[0m\u001b[1;33m)\u001b[0m\u001b[1;33m\u001b[0m\u001b[0m\n\u001b[0;32m    765\u001b[0m         \u001b[1;32mtry\u001b[0m\u001b[1;33m:\u001b[0m\u001b[1;33m\u001b[0m\u001b[0m\n\u001b[1;32m--> 766\u001b[1;33m             \u001b[0mresult\u001b[0m \u001b[1;33m=\u001b[0m \u001b[0mself\u001b[0m\u001b[1;33m.\u001b[0m\u001b[0mindex\u001b[0m\u001b[1;33m.\u001b[0m\u001b[0mget_value\u001b[0m\u001b[1;33m(\u001b[0m\u001b[0mself\u001b[0m\u001b[1;33m,\u001b[0m \u001b[0mkey\u001b[0m\u001b[1;33m)\u001b[0m\u001b[1;33m\u001b[0m\u001b[0m\n\u001b[0m\u001b[0;32m    767\u001b[0m \u001b[1;33m\u001b[0m\u001b[0m\n\u001b[0;32m    768\u001b[0m             \u001b[1;32mif\u001b[0m \u001b[1;32mnot\u001b[0m \u001b[0mis_scalar\u001b[0m\u001b[1;33m(\u001b[0m\u001b[0mresult\u001b[0m\u001b[1;33m)\u001b[0m\u001b[1;33m:\u001b[0m\u001b[1;33m\u001b[0m\u001b[0m\n",
      "\u001b[1;32m~\\Anaconda3\\lib\\site-packages\\pandas\\core\\indexes\\base.py\u001b[0m in \u001b[0;36mget_value\u001b[1;34m(self, series, key)\u001b[0m\n\u001b[0;32m   3101\u001b[0m         \u001b[1;32mtry\u001b[0m\u001b[1;33m:\u001b[0m\u001b[1;33m\u001b[0m\u001b[0m\n\u001b[0;32m   3102\u001b[0m             return self._engine.get_value(s, k,\n\u001b[1;32m-> 3103\u001b[1;33m                                           tz=getattr(series.dtype, 'tz', None))\n\u001b[0m\u001b[0;32m   3104\u001b[0m         \u001b[1;32mexcept\u001b[0m \u001b[0mKeyError\u001b[0m \u001b[1;32mas\u001b[0m \u001b[0me1\u001b[0m\u001b[1;33m:\u001b[0m\u001b[1;33m\u001b[0m\u001b[0m\n\u001b[0;32m   3105\u001b[0m             \u001b[1;32mif\u001b[0m \u001b[0mlen\u001b[0m\u001b[1;33m(\u001b[0m\u001b[0mself\u001b[0m\u001b[1;33m)\u001b[0m \u001b[1;33m>\u001b[0m \u001b[1;36m0\u001b[0m \u001b[1;32mand\u001b[0m \u001b[0mself\u001b[0m\u001b[1;33m.\u001b[0m\u001b[0minferred_type\u001b[0m \u001b[1;32min\u001b[0m \u001b[1;33m[\u001b[0m\u001b[1;34m'integer'\u001b[0m\u001b[1;33m,\u001b[0m \u001b[1;34m'boolean'\u001b[0m\u001b[1;33m]\u001b[0m\u001b[1;33m:\u001b[0m\u001b[1;33m\u001b[0m\u001b[0m\n",
      "\u001b[1;32mpandas\\_libs\\index.pyx\u001b[0m in \u001b[0;36mpandas._libs.index.IndexEngine.get_value\u001b[1;34m()\u001b[0m\n",
      "\u001b[1;32mpandas\\_libs\\index.pyx\u001b[0m in \u001b[0;36mpandas._libs.index.IndexEngine.get_value\u001b[1;34m()\u001b[0m\n",
      "\u001b[1;32mpandas\\_libs\\index.pyx\u001b[0m in \u001b[0;36mpandas._libs.index.IndexEngine.get_loc\u001b[1;34m()\u001b[0m\n",
      "\u001b[1;32mpandas\\_libs\\hashtable_class_helper.pxi\u001b[0m in \u001b[0;36mpandas._libs.hashtable.Int64HashTable.get_item\u001b[1;34m()\u001b[0m\n",
      "\u001b[1;32mpandas\\_libs\\hashtable_class_helper.pxi\u001b[0m in \u001b[0;36mpandas._libs.hashtable.Int64HashTable.get_item\u001b[1;34m()\u001b[0m\n",
      "\u001b[1;31mKeyError\u001b[0m: 0"
     ]
    }
   ],
   "source": [
    "print('\\t Node2 : %s (%d,%d)' %(str(g1.iloc[:,resCat[0]][0]==resCat[2][0]),Counter(g1[yCol])[g1val],Counter(g1[yCol])[g2val]))\n",
    "print('\\t Node2 : %s (%d,%d)' %(str(g2.iloc[:,resCat[0]][0]==resCat[2][0]),Counter(g2[yCol])[g1val],Counter(g2[yCol])[g2val]))"
   ]
  },
  {
   "cell_type": "code",
   "execution_count": 100,
   "metadata": {},
   "outputs": [
    {
     "data": {
      "text/plain": [
       "'Female'"
      ]
     },
     "execution_count": 100,
     "metadata": {},
     "output_type": "execute_result"
    }
   ],
   "source": [
    "g2.iloc[:,resCat[0]].iloc[0]"
   ]
  },
  {
   "cell_type": "code",
   "execution_count": null,
   "metadata": {},
   "outputs": [],
   "source": []
  }
 ],
 "metadata": {
  "kernelspec": {
   "display_name": "Python 3",
   "language": "python",
   "name": "python3"
  },
  "language_info": {
   "codemirror_mode": {
    "name": "ipython",
    "version": 3
   },
   "file_extension": ".py",
   "mimetype": "text/x-python",
   "name": "python",
   "nbconvert_exporter": "python",
   "pygments_lexer": "ipython3",
   "version": "3.6.5"
  }
 },
 "nbformat": 4,
 "nbformat_minor": 2
}
