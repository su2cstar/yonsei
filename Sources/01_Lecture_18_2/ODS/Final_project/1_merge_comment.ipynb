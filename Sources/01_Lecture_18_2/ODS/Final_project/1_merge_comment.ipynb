{
 "cells": [
  {
   "cell_type": "markdown",
   "metadata": {},
   "source": [
    "##영화평데이터 전체를 merge하고 장르별로 merge해서 csv로 출력해준다"
   ]
  },
  {
   "cell_type": "code",
   "execution_count": 13,
   "metadata": {},
   "outputs": [],
   "source": [
    "import pandas as pd\n",
    "import numpy as np"
   ]
  },
  {
   "cell_type": "code",
   "execution_count": 14,
   "metadata": {},
   "outputs": [],
   "source": [
    "path = 'comments/'"
   ]
  },
  {
   "cell_type": "code",
   "execution_count": 15,
   "metadata": {},
   "outputs": [],
   "source": [
    "MvDf = pd.read_csv('MvDf.csv')"
   ]
  },
  {
   "cell_type": "code",
   "execution_count": 16,
   "metadata": {},
   "outputs": [],
   "source": [
    "#장르명 전처리\n",
    "genre = []\n",
    "for i in MvDf['Genre']:\n",
    "    if i =='멜로/애정/로맨스':\n",
    "        genre.append('멜로애정로맨스')\n",
    "    else:\n",
    "        genre.append(i)\n",
    "MvDf['newGenre'] = genre"
   ]
  },
  {
   "cell_type": "code",
   "execution_count": 17,
   "metadata": {},
   "outputs": [],
   "source": [
    "def getGenre(gType):\n",
    "    lst = []\n",
    "    for i in MvDf['newGenre']:\n",
    "        try:\n",
    "            lst.append(gType in i)\n",
    "        except:\n",
    "            lst.append(False)\n",
    "    return(lst)"
   ]
  },
  {
   "cell_type": "code",
   "execution_count": 5,
   "metadata": {},
   "outputs": [],
   "source": [
    "##전체 합치기\n",
    "mno = pd.read_csv('MvDf.csv')['MovieNo']\n",
    "all_df = []\n",
    "for i in mno:\n",
    "    try:\n",
    "        df = pd.read_csv(path+str(i)+'.txt',index_col = None, sep='\\t',header=None)\n",
    "        all_df.append(df)\n",
    "    except:\n",
    "        1==1\n",
    "merged_df = pd.concat(all_df, axis=0, ignore_index=True)"
   ]
  },
  {
   "cell_type": "code",
   "execution_count": 6,
   "metadata": {},
   "outputs": [],
   "source": [
    "merged_df.to_csv('merged_df/'+'merged_comments.csv')"
   ]
  },
  {
   "cell_type": "code",
   "execution_count": 18,
   "metadata": {},
   "outputs": [],
   "source": [
    "def mergeByGenre(gType):\n",
    "    lst =getGenre(gType)\n",
    "    mno =MvDf['MovieNo'][lst]\n",
    "    all_df = []\n",
    "    for i in mno:\n",
    "        try:\n",
    "            df = pd.read_csv(path+str(i)+'.txt',index_col = None, sep='\\t',header=None)\n",
    "            all_df.append(df)\n",
    "        except:\n",
    "            1==1\n",
    "    merged_df = pd.concat(all_df, axis=0, ignore_index=True)\n",
    "    merged_df.to_csv('merged_df/'+gType+'merged_comments.csv')\n",
    "    return(merged_df)"
   ]
  },
  {
   "cell_type": "code",
   "execution_count": 19,
   "metadata": {},
   "outputs": [],
   "source": [
    "for i in set(MvDf['newGenre']):\n",
    "    try:\n",
    "        mergeByGenre(i)\n",
    "    except:\n",
    "        1==1"
   ]
  },
  {
   "cell_type": "code",
   "execution_count": null,
   "metadata": {},
   "outputs": [],
   "source": []
  }
 ],
 "metadata": {
  "kernelspec": {
   "display_name": "Python 3",
   "language": "python",
   "name": "python3"
  },
  "language_info": {
   "codemirror_mode": {
    "name": "ipython",
    "version": 3
   },
   "file_extension": ".py",
   "mimetype": "text/x-python",
   "name": "python",
   "nbconvert_exporter": "python",
   "pygments_lexer": "ipython3",
   "version": "3.6.5"
  }
 },
 "nbformat": 4,
 "nbformat_minor": 2
}
