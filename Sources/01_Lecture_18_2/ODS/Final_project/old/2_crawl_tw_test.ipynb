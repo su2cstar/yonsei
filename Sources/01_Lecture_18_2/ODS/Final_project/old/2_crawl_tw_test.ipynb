{
 "cells": [
  {
   "cell_type": "code",
   "execution_count": 1,
   "metadata": {},
   "outputs": [],
   "source": [
    "import pandas as pd\n",
    "import re"
   ]
  },
  {
   "cell_type": "code",
   "execution_count": 2,
   "metadata": {},
   "outputs": [],
   "source": [
    "## 트위터 api 준비\n",
    "from twython import Twython\n",
    "\n",
    "APP_KEY='9YZNN1Nec1BnHApzLseYtEIi8' \n",
    "APP_SECRET='ktUDazXe5Qmkn8OFgKs8KO9KIWycIuCxD1kPCRF8RwEkVuaE3Z'\n",
    "OAUTH_TOKEN='1061859779008557056-yRZX6t2HSJyQmuaFY0CpuJbkaybSpu'\n",
    "OAUTH_TOKEN_SECRET='ifIbGQDOiIX3To6tX3IRCdKdb3pALwh2gHEgLCG7L0aCL'\n",
    "\n",
    "twitter = Twython(APP_KEY, APP_SECRET, OAUTH_TOKEN, OAUTH_TOKEN_SECRET)"
   ]
  },
  {
   "cell_type": "code",
   "execution_count": 3,
   "metadata": {},
   "outputs": [],
   "source": [
    "## 함수에 넣기위한 일주일 날짜 저장\n",
    "from datetime import datetime, timedelta"
   ]
  },
  {
   "cell_type": "code",
   "execution_count": 4,
   "metadata": {},
   "outputs": [],
   "source": [
    "ymd = []\n",
    "for i in range(7):\n",
    "    day = datetime.today()- timedelta(i)\n",
    "    ymd.append('%s-%2s-%s' % ( day.year, day.month, day.day ))"
   ]
  },
  {
   "cell_type": "code",
   "execution_count": 16,
   "metadata": {},
   "outputs": [],
   "source": [
    "##영화제목 지정\n",
    "mvName = '신비한 동물'"
   ]
  },
  {
   "cell_type": "code",
   "execution_count": 17,
   "metadata": {},
   "outputs": [],
   "source": [
    "## 일주일간 일간 최대 100개의 twit 검색하여 testdata 생성\n",
    "raw_test = []\n",
    "for til in ymd:\n",
    "    tweets = twitter.search(q=mvName, count=100, until = til)\n",
    "    #data = [(t['user']['screen_name'], t['text'], t['created_at']) for t in tweets['statuses']]\n",
    "    data2 = [t['text']  for t in tweets['statuses']]\n",
    "    raw_test = raw_test + data2"
   ]
  },
  {
   "cell_type": "code",
   "execution_count": 18,
   "metadata": {},
   "outputs": [],
   "source": [
    "##텍스트 전처리 후 저장\n",
    "# RT @ 제거\n",
    "st1 = list(map(lambda x : re.sub(r'\\bRT\\s*@(\\w+):','',x) , raw_test))\n",
    "# 특수문자등 제거\n",
    "st2 = list(map(lambda x : re.sub(r'[^\\s\\d\\w]','',x) , st1))\n",
    "# url 제거\n",
    "st3 = list(map(lambda x : re.sub(r'http[a-zA-z0-9]*','',x) , st2))\n",
    "re_test = pd.DataFrame(list(set(st3)))\n",
    "re_test.to_csv('re_test.csv')"
   ]
  },
  {
   "cell_type": "code",
   "execution_count": 20,
   "metadata": {},
   "outputs": [
    {
     "data": {
      "text/plain": [
       "(283, 1)"
      ]
     },
     "execution_count": 20,
     "metadata": {},
     "output_type": "execute_result"
    }
   ],
   "source": [
    "re_test.shape"
   ]
  },
  {
   "cell_type": "code",
   "execution_count": null,
   "metadata": {},
   "outputs": [],
   "source": []
  }
 ],
 "metadata": {
  "kernelspec": {
   "display_name": "Python 3",
   "language": "python",
   "name": "python3"
  },
  "language_info": {
   "codemirror_mode": {
    "name": "ipython",
    "version": 3
   },
   "file_extension": ".py",
   "mimetype": "text/x-python",
   "name": "python",
   "nbconvert_exporter": "python",
   "pygments_lexer": "ipython3",
   "version": "3.6.6"
  }
 },
 "nbformat": 4,
 "nbformat_minor": 2
}
