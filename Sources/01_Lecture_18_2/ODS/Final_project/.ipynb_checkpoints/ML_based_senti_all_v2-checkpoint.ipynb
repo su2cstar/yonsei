{
 "cells": [
  {
   "cell_type": "code",
   "execution_count": 2,
   "metadata": {},
   "outputs": [],
   "source": [
    "import re\n",
    "import os\n",
    "import time\n",
    "from concurrent.futures import ThreadPoolExecutor\n",
    "\n",
    "import pandas as pd\n",
    "import numpy as np\n",
    "import konlpy.tag\n",
    "import nltk\n",
    "\n",
    "from konlpy.tag import Komoran\n",
    "from konlpy.tag import Twitter\n",
    "\n",
    "from sklearn.feature_extraction.text import TfidfVectorizer\n",
    "from sklearn.naive_bayes import MultinomialNB\n",
    "from sklearn.linear_model import SGDClassifier\n",
    "from sklearn.metrics import accuracy_score\n",
    "from sklearn.linear_model import LogisticRegression\n",
    "from sklearn.neighbors import KNeighborsClassifier\n",
    "from sklearn.cluster import KMeans"
   ]
  },
  {
   "cell_type": "code",
   "execution_count": 4,
   "metadata": {},
   "outputs": [],
   "source": [
    "df = pd.read_csv('merged_df/merged_comments.csv')"
   ]
  },
  {
   "cell_type": "code",
   "execution_count": 6,
   "metadata": {},
   "outputs": [],
   "source": [
    "MvDf = pd.read_csv('MvDf.csv')"
   ]
  },
  {
   "cell_type": "code",
   "execution_count": 7,
   "metadata": {},
   "outputs": [
    {
     "data": {
      "text/plain": [
       "{'SF',\n",
       " nan,\n",
       " '가족',\n",
       " '공연실황',\n",
       " '공포',\n",
       " '다큐멘터리',\n",
       " '드라마',\n",
       " '멜로/애정/로맨스',\n",
       " '모험',\n",
       " '무협',\n",
       " '뮤지컬',\n",
       " '미스터리',\n",
       " '범죄',\n",
       " '블랙코미디',\n",
       " '서스펜스',\n",
       " '스릴러',\n",
       " '애니메이션',\n",
       " '액션',\n",
       " '에로',\n",
       " '전쟁',\n",
       " '코미디',\n",
       " '판타지'}"
      ]
     },
     "execution_count": 7,
     "metadata": {},
     "output_type": "execute_result"
    }
   ],
   "source": [
    "set(MvDf['Genre'])"
   ]
  },
  {
   "cell_type": "code",
   "execution_count": 8,
   "metadata": {},
   "outputs": [],
   "source": [
    "Genre = '액션'"
   ]
  },
  {
   "cell_type": "code",
   "execution_count": 31,
   "metadata": {},
   "outputs": [],
   "source": [
    "df = pd.read_csv('merged_df/'+Genre+'merged_comments.csv',engine='python',encoding='UTF8')"
   ]
  },
  {
   "cell_type": "code",
   "execution_count": 33,
   "metadata": {},
   "outputs": [],
   "source": [
    "scores = tuple(df.iloc[:,3])\n",
    "texts = tuple(df.iloc[:,4])"
   ]
  },
  {
   "cell_type": "code",
   "execution_count": 34,
   "metadata": {},
   "outputs": [],
   "source": [
    "filtered_texts = []\n",
    "filtered_labels = []\n",
    "\n",
    "for text, score in zip(texts, scores):\n",
    "    if 4 <= score <= 8:\n",
    "        continue\n",
    "        \n",
    "    # 평점 기준으로 문서에 label을 부여\n",
    "    # 1 ~ 4 -> 부정, -1\n",
    "    # 8 ~ 10 -> 긍정, 1\n",
    "    filtered_texts.append(text)\n",
    "    filtered_labels.append(1 if score > 8 else 0)"
   ]
  },
  {
   "cell_type": "code",
   "execution_count": 35,
   "metadata": {},
   "outputs": [],
   "source": [
    "# train test split\n",
    "from sklearn.model_selection import train_test_split\n",
    "train_texts, test_texts, train_labels, test_labels = train_test_split(filtered_texts, filtered_labels, test_size=0.3, random_state=0)"
   ]
  },
  {
   "cell_type": "code",
   "execution_count": 36,
   "metadata": {},
   "outputs": [],
   "source": [
    "def tfidf_extractor(corpus):\n",
    "    # returns a tf-idf based DTM\n",
    "    vectorizer = TfidfVectorizer(min_df=1, \n",
    "                                 norm='l2',\n",
    "                                 smooth_idf=True,\n",
    "                                 use_idf=True,\n",
    "                                 ngram_range=(1,1))\n",
    "    features = vectorizer.fit_transform(corpus)\n",
    "    return vectorizer, features"
   ]
  },
  {
   "cell_type": "code",
   "execution_count": 37,
   "metadata": {},
   "outputs": [],
   "source": [
    "# tfidf matrix를 사용한 경우\n",
    "tfidf_vectorizer, train_tfidf_features = tfidf_extractor(train_texts)\n",
    "test_tfidf_features = tfidf_vectorizer.transform(test_texts)"
   ]
  },
  {
   "cell_type": "code",
   "execution_count": 38,
   "metadata": {},
   "outputs": [
    {
     "data": {
      "text/plain": [
       "((115838, 202611), (49645, 202611))"
      ]
     },
     "execution_count": 38,
     "metadata": {},
     "output_type": "execute_result"
    }
   ],
   "source": [
    "train_tfidf_features.shape, test_tfidf_features.shape"
   ]
  },
  {
   "cell_type": "code",
   "execution_count": 39,
   "metadata": {},
   "outputs": [
    {
     "data": {
      "text/plain": [
       "(115838, 49645)"
      ]
     },
     "execution_count": 39,
     "metadata": {},
     "output_type": "execute_result"
    }
   ],
   "source": [
    "len(train_labels), len(test_labels)"
   ]
  },
  {
   "cell_type": "code",
   "execution_count": 40,
   "metadata": {},
   "outputs": [
    {
     "name": "stdout",
     "output_type": "stream",
     "text": [
      "19307 96531 \n",
      " 8491 41154\n"
     ]
    }
   ],
   "source": [
    "print(train_labels.count(0),train_labels.count(1),'\\n',test_labels.count(0),test_labels.count(1))"
   ]
  },
  {
   "cell_type": "code",
   "execution_count": 41,
   "metadata": {
    "scrolled": true
   },
   "outputs": [
    {
     "name": "stderr",
     "output_type": "stream",
     "text": [
      "C:\\Users\\ahn92\\Anaconda3\\lib\\site-packages\\sklearn\\linear_model\\logistic.py:432: FutureWarning: Default solver will be changed to 'lbfgs' in 0.22. Specify a solver to silence this warning.\n",
      "  FutureWarning)\n"
     ]
    },
    {
     "name": "stdout",
     "output_type": "stream",
     "text": [
      "Misclassified samples: 6961 out of 49645\n",
      "Accuracy: 0.86\n",
      "Wall time: 773 ms\n"
     ]
    }
   ],
   "source": [
    "%%time\n",
    "lr = LogisticRegression(C=0.1, penalty='l1', random_state=0) # Lasso regression\n",
    "lr.fit(train_tfidf_features, train_labels) # 학습\n",
    "lr_pred_labels = lr.predict(test_tfidf_features)\n",
    "print('Misclassified samples: {} out of {}'.format((lr_pred_labels != test_labels).sum(),len(test_labels)))\n",
    "print('Accuracy: %.2f' % accuracy_score(test_labels, lr_pred_labels))"
   ]
  },
  {
   "cell_type": "code",
   "execution_count": 42,
   "metadata": {},
   "outputs": [
    {
     "name": "stdout",
     "output_type": "stream",
     "text": [
      "Misclassified samples: 7246 out of 49645\n",
      "Accuracy: 0.85\n",
      "Wall time: 135 ms\n"
     ]
    }
   ],
   "source": [
    "%%time\n",
    "MNB=MultinomialNB()\n",
    "MNB.fit(train_tfidf_features, train_labels) \n",
    "nb_pred_labels = MNB.predict(test_tfidf_features)\n",
    "print('Misclassified samples: {} out of {}'.format((nb_pred_labels != test_labels).sum(),len(test_labels)))\n",
    "print('Accuracy: %.2f' % accuracy_score(test_labels, nb_pred_labels))"
   ]
  },
  {
   "cell_type": "code",
   "execution_count": 43,
   "metadata": {
    "scrolled": true
   },
   "outputs": [
    {
     "name": "stderr",
     "output_type": "stream",
     "text": [
      "C:\\Users\\ahn92\\Anaconda3\\lib\\site-packages\\sklearn\\linear_model\\stochastic_gradient.py:144: FutureWarning: max_iter and tol parameters have been added in SGDClassifier in 0.19. If both are left unset, they default to max_iter=5 and tol=None. If tol is not None, max_iter defaults to max_iter=1000. From 0.21, default max_iter will be 1000, and default tol will be 1e-3.\n",
      "  FutureWarning)\n"
     ]
    },
    {
     "name": "stdout",
     "output_type": "stream",
     "text": [
      "Misclassified samples: 6895 out of 49645\n",
      "Accuracy: 0.86\n",
      "Wall time: 323 ms\n"
     ]
    }
   ],
   "source": [
    "%%time\n",
    "sgd=SGDClassifier()\n",
    "sgd.fit(train_tfidf_features, train_labels) \n",
    "sgd_pred_labels = sgd.predict(test_tfidf_features)\n",
    "print('Misclassified samples: {} out of {}'.format((sgd_pred_labels != test_labels).sum(),len(test_labels)))\n",
    "print('Accuracy: %.2f' % accuracy_score(test_labels, sgd_pred_labels))"
   ]
  },
  {
   "cell_type": "code",
   "execution_count": 44,
   "metadata": {},
   "outputs": [
    {
     "data": {
      "text/plain": [
       "\"\\n%%time\\nknn=KMeans(n_clusters=2)\\nknn.fit(train_tfidf_features, train_labels) \\npred_labels = knn.predict(test_tfidf_features)\\nprint('Misclassified samples: {} out of {}'.format((pred_labels != test_labels).sum(),len(test_labels)))\\nprint('Accuracy: %.2f' % accuracy_score(test_labels, pred_labels))\\n\""
      ]
     },
     "execution_count": 44,
     "metadata": {},
     "output_type": "execute_result"
    }
   ],
   "source": [
    "'''\n",
    "%%time\n",
    "knn=KMeans(n_clusters=2)\n",
    "knn.fit(train_tfidf_features, train_labels) \n",
    "pred_labels = knn.predict(test_tfidf_features)\n",
    "print('Misclassified samples: {} out of {}'.format((pred_labels != test_labels).sum(),len(test_labels)))\n",
    "print('Accuracy: %.2f' % accuracy_score(test_labels, pred_labels))\n",
    "'''"
   ]
  },
  {
   "cell_type": "code",
   "execution_count": 45,
   "metadata": {},
   "outputs": [
    {
     "data": {
      "text/plain": [
       "\"\\n%%time\\nfrom sklearn.ensemble import RandomForestClassifier\\nRFT = RandomForestClassifier(n_estimators =100)\\nRFT.fit(train_tfidf_features, train_labels) \\npred_labels = RFT.predict(test_tfidf_features)\\nprint('Misclassified samples: {} out of {}'.format((pred_labels != test_labels).sum(),len(test_labels)))\\nprint('Accuracy: %.2f' % accuracy_score(test_labels, pred_labels))\\n\""
      ]
     },
     "execution_count": 45,
     "metadata": {},
     "output_type": "execute_result"
    }
   ],
   "source": [
    "## 2h 43m accuracy 0.86\n",
    "'''\n",
    "%%time\n",
    "from sklearn.ensemble import RandomForestClassifier\n",
    "RFT = RandomForestClassifier(n_estimators =100)\n",
    "RFT.fit(train_tfidf_features, train_labels) \n",
    "pred_labels = RFT.predict(test_tfidf_features)\n",
    "print('Misclassified samples: {} out of {}'.format((pred_labels != test_labels).sum(),len(test_labels)))\n",
    "print('Accuracy: %.2f' % accuracy_score(test_labels, pred_labels))\n",
    "'''"
   ]
  },
  {
   "cell_type": "code",
   "execution_count": 46,
   "metadata": {},
   "outputs": [
    {
     "data": {
      "text/plain": [
       "\"\\n%%time\\nfrom sklearn.svm import SVC\\nsinvecma = SVC()\\nsinvecma.fit(train_tfidf_features, train_labels) \\npred_labels = sinvecma.predict(test_tfidf_features)\\nprint('Misclassified samples: {} out of {}'.format((pred_labels != test_labels).sum(),len(test_labels)))\\nprint('Accuracy: %.2f' % accuracy_score(test_labels, pred_labels))\\n\""
      ]
     },
     "execution_count": 46,
     "metadata": {},
     "output_type": "execute_result"
    }
   ],
   "source": [
    "'''\n",
    "%%time\n",
    "from sklearn.svm import SVC\n",
    "sinvecma = SVC()\n",
    "sinvecma.fit(train_tfidf_features, train_labels) \n",
    "pred_labels = sinvecma.predict(test_tfidf_features)\n",
    "print('Misclassified samples: {} out of {}'.format((pred_labels != test_labels).sum(),len(test_labels)))\n",
    "print('Accuracy: %.2f' % accuracy_score(test_labels, pred_labels))\n",
    "'''"
   ]
  },
  {
   "cell_type": "code",
   "execution_count": 47,
   "metadata": {},
   "outputs": [],
   "source": [
    "ddf = pd.DataFrame([test_texts,list(nb_pred_labels),test_labels]).transpose()"
   ]
  },
  {
   "cell_type": "code",
   "execution_count": 48,
   "metadata": {},
   "outputs": [],
   "source": [
    "ddf.columns=['text','predicted_senti','true_senti']"
   ]
  },
  {
   "cell_type": "code",
   "execution_count": 49,
   "metadata": {},
   "outputs": [
    {
     "data": {
      "text/html": [
       "<div>\n",
       "<style scoped>\n",
       "    .dataframe tbody tr th:only-of-type {\n",
       "        vertical-align: middle;\n",
       "    }\n",
       "\n",
       "    .dataframe tbody tr th {\n",
       "        vertical-align: top;\n",
       "    }\n",
       "\n",
       "    .dataframe thead th {\n",
       "        text-align: right;\n",
       "    }\n",
       "</style>\n",
       "<table border=\"1\" class=\"dataframe\">\n",
       "  <thead>\n",
       "    <tr style=\"text-align: right;\">\n",
       "      <th></th>\n",
       "      <th>text</th>\n",
       "      <th>predicted_senti</th>\n",
       "      <th>true_senti</th>\n",
       "    </tr>\n",
       "  </thead>\n",
       "  <tbody>\n",
       "    <tr>\n",
       "      <th>7</th>\n",
       "      <td>'장동건 얼굴 1점, 현빈 얼굴 1점씩 2점.'</td>\n",
       "      <td>1</td>\n",
       "      <td>0</td>\n",
       "    </tr>\n",
       "    <tr>\n",
       "      <th>17</th>\n",
       "      <td>'진짜 개연성도 내용도 없다'</td>\n",
       "      <td>1</td>\n",
       "      <td>0</td>\n",
       "    </tr>\n",
       "    <tr>\n",
       "      <th>21</th>\n",
       "      <td>'나 원래 마블 믿고봣는대OO이건 쫌 아냐 케릭터들도 다 논리 모순 오지고 영화가 ...</td>\n",
       "      <td>1</td>\n",
       "      <td>0</td>\n",
       "    </tr>\n",
       "    <tr>\n",
       "      <th>39</th>\n",
       "      <td>'흠ㅜㅜ....;;;'</td>\n",
       "      <td>1</td>\n",
       "      <td>0</td>\n",
       "    </tr>\n",
       "    <tr>\n",
       "      <th>41</th>\n",
       "      <td>'마블영화의 오점오락영화도아닌것이 아주 지루함'</td>\n",
       "      <td>1</td>\n",
       "      <td>0</td>\n",
       "    </tr>\n",
       "    <tr>\n",
       "      <th>44</th>\n",
       "      <td>'이 영화보다 게임영상 보는게 더 재미있는거 실화냐jQuery224007125229...</td>\n",
       "      <td>1</td>\n",
       "      <td>0</td>\n",
       "    </tr>\n",
       "    <tr>\n",
       "      <th>46</th>\n",
       "      <td>'이거저거 다 담아보려다가 망한 영화, 임팩트도 없고 늘어지고 같은 내용을 반복하다...</td>\n",
       "      <td>1</td>\n",
       "      <td>0</td>\n",
       "    </tr>\n",
       "    <tr>\n",
       "      <th>55</th>\n",
       "      <td>'전혀 와닿지 읺는 억지스런 내용은 물론 집중하기 힘든 어색한 연기들의 연속.. 선...</td>\n",
       "      <td>1</td>\n",
       "      <td>0</td>\n",
       "    </tr>\n",
       "    <tr>\n",
       "      <th>63</th>\n",
       "      <td>'영화보는동안 한번도 재미있는 순간이 없다...'</td>\n",
       "      <td>1</td>\n",
       "      <td>0</td>\n",
       "    </tr>\n",
       "    <tr>\n",
       "      <th>78</th>\n",
       "      <td>'해리포터 수준 아이들 영화좋아하면 강추 어른이보기엠 최악'</td>\n",
       "      <td>1</td>\n",
       "      <td>0</td>\n",
       "    </tr>\n",
       "  </tbody>\n",
       "</table>\n",
       "</div>"
      ],
      "text/plain": [
       "                                                 text predicted_senti  \\\n",
       "7                          '장동건 얼굴 1점, 현빈 얼굴 1점씩 2점.'               1   \n",
       "17                                   '진짜 개연성도 내용도 없다'               1   \n",
       "21  '나 원래 마블 믿고봣는대OO이건 쫌 아냐 케릭터들도 다 논리 모순 오지고 영화가 ...               1   \n",
       "39                                       '흠ㅜㅜ....;;;'               1   \n",
       "41                         '마블영화의 오점오락영화도아닌것이 아주 지루함'               1   \n",
       "44  '이 영화보다 게임영상 보는게 더 재미있는거 실화냐jQuery224007125229...               1   \n",
       "46  '이거저거 다 담아보려다가 망한 영화, 임팩트도 없고 늘어지고 같은 내용을 반복하다...               1   \n",
       "55  '전혀 와닿지 읺는 억지스런 내용은 물론 집중하기 힘든 어색한 연기들의 연속.. 선...               1   \n",
       "63                        '영화보는동안 한번도 재미있는 순간이 없다...'               1   \n",
       "78                  '해리포터 수준 아이들 영화좋아하면 강추 어른이보기엠 최악'               1   \n",
       "\n",
       "   true_senti  \n",
       "7           0  \n",
       "17          0  \n",
       "21          0  \n",
       "39          0  \n",
       "41          0  \n",
       "44          0  \n",
       "46          0  \n",
       "55          0  \n",
       "63          0  \n",
       "78          0  "
      ]
     },
     "execution_count": 49,
     "metadata": {},
     "output_type": "execute_result"
    }
   ],
   "source": [
    "ddf[ddf['predicted_senti']!=ddf['true_senti']].head(10)"
   ]
  },
  {
   "cell_type": "code",
   "execution_count": 50,
   "metadata": {},
   "outputs": [
    {
     "data": {
      "text/html": [
       "<div>\n",
       "<style scoped>\n",
       "    .dataframe tbody tr th:only-of-type {\n",
       "        vertical-align: middle;\n",
       "    }\n",
       "\n",
       "    .dataframe tbody tr th {\n",
       "        vertical-align: top;\n",
       "    }\n",
       "\n",
       "    .dataframe thead th {\n",
       "        text-align: right;\n",
       "    }\n",
       "</style>\n",
       "<table border=\"1\" class=\"dataframe\">\n",
       "  <thead>\n",
       "    <tr style=\"text-align: right;\">\n",
       "      <th></th>\n",
       "      <th>text</th>\n",
       "      <th>predicted_senti</th>\n",
       "      <th>true_senti</th>\n",
       "    </tr>\n",
       "  </thead>\n",
       "  <tbody>\n",
       "    <tr>\n",
       "      <th>0</th>\n",
       "      <td>'초반부에 ost나올때 소름돋음..액션 스토리 유머 빠지는게 하나도 없어요!! 스케...</td>\n",
       "      <td>1</td>\n",
       "      <td>1</td>\n",
       "    </tr>\n",
       "    <tr>\n",
       "      <th>1</th>\n",
       "      <td>'완전 재미있었습니다!!'</td>\n",
       "      <td>1</td>\n",
       "      <td>1</td>\n",
       "    </tr>\n",
       "    <tr>\n",
       "      <th>2</th>\n",
       "      <td>'저는 정말 재밌게 봤어요!!'</td>\n",
       "      <td>1</td>\n",
       "      <td>1</td>\n",
       "    </tr>\n",
       "    <tr>\n",
       "      <th>3</th>\n",
       "      <td>'재밌음 2시간넘는 시간 지루할틈이없어요 ㅋㅋ'</td>\n",
       "      <td>1</td>\n",
       "      <td>1</td>\n",
       "    </tr>\n",
       "    <tr>\n",
       "      <th>4</th>\n",
       "      <td>'최고의 액션, 노 스턴트, 시원하고 짜릿하다. 월타 gv로 봤고 강추합니다'</td>\n",
       "      <td>1</td>\n",
       "      <td>1</td>\n",
       "    </tr>\n",
       "    <tr>\n",
       "      <th>5</th>\n",
       "      <td>'역시 미션임파서벌 최고'</td>\n",
       "      <td>1</td>\n",
       "      <td>1</td>\n",
       "    </tr>\n",
       "    <tr>\n",
       "      <th>6</th>\n",
       "      <td>'와..진짜 시간 가는줄 모르고봄..첨엔 먼데이 이해안갔는데 먼데이 죽을때 이해했음...</td>\n",
       "      <td>1</td>\n",
       "      <td>1</td>\n",
       "    </tr>\n",
       "    <tr>\n",
       "      <th>8</th>\n",
       "      <td>'정말정말 재밌어요!!!굿입니다용ㅎㅎ'</td>\n",
       "      <td>1</td>\n",
       "      <td>1</td>\n",
       "    </tr>\n",
       "    <tr>\n",
       "      <th>9</th>\n",
       "      <td>'난 다 좋았다...캐릭터들도..조인성도.'</td>\n",
       "      <td>1</td>\n",
       "      <td>1</td>\n",
       "    </tr>\n",
       "    <tr>\n",
       "      <th>10</th>\n",
       "      <td>'역쉬 마블!!!기대를져버리지않네요~~재미지게 잘봤습니다'</td>\n",
       "      <td>1</td>\n",
       "      <td>1</td>\n",
       "    </tr>\n",
       "  </tbody>\n",
       "</table>\n",
       "</div>"
      ],
      "text/plain": [
       "                                                 text predicted_senti  \\\n",
       "0   '초반부에 ost나올때 소름돋음..액션 스토리 유머 빠지는게 하나도 없어요!! 스케...               1   \n",
       "1                                      '완전 재미있었습니다!!'               1   \n",
       "2                                   '저는 정말 재밌게 봤어요!!'               1   \n",
       "3                          '재밌음 2시간넘는 시간 지루할틈이없어요 ㅋㅋ'               1   \n",
       "4         '최고의 액션, 노 스턴트, 시원하고 짜릿하다. 월타 gv로 봤고 강추합니다'               1   \n",
       "5                                      '역시 미션임파서벌 최고'               1   \n",
       "6   '와..진짜 시간 가는줄 모르고봄..첨엔 먼데이 이해안갔는데 먼데이 죽을때 이해했음...               1   \n",
       "8                               '정말정말 재밌어요!!!굿입니다용ㅎㅎ'               1   \n",
       "9                            '난 다 좋았다...캐릭터들도..조인성도.'               1   \n",
       "10                   '역쉬 마블!!!기대를져버리지않네요~~재미지게 잘봤습니다'               1   \n",
       "\n",
       "   true_senti  \n",
       "0           1  \n",
       "1           1  \n",
       "2           1  \n",
       "3           1  \n",
       "4           1  \n",
       "5           1  \n",
       "6           1  \n",
       "8           1  \n",
       "9           1  \n",
       "10          1  "
      ]
     },
     "execution_count": 50,
     "metadata": {},
     "output_type": "execute_result"
    }
   ],
   "source": [
    "ddf[ddf['predicted_senti']==ddf['true_senti']].head(10)"
   ]
  },
  {
   "cell_type": "code",
   "execution_count": 51,
   "metadata": {},
   "outputs": [],
   "source": [
    "tw_test = pd.read_csv('re_test.csv')\n",
    "tw_test.iloc[:,1]\n",
    "tw_lst=list(set(tw_test.iloc[:,1]))"
   ]
  },
  {
   "cell_type": "code",
   "execution_count": 57,
   "metadata": {},
   "outputs": [],
   "source": [
    "tw_lst=['''시간 아깝다''']"
   ]
  },
  {
   "cell_type": "code",
   "execution_count": 58,
   "metadata": {},
   "outputs": [],
   "source": [
    "tw_lst_features = tfidf_vectorizer.transform(tw_lst)"
   ]
  },
  {
   "cell_type": "code",
   "execution_count": 59,
   "metadata": {},
   "outputs": [],
   "source": [
    "tw_nb_pred_labels = lr.predict(tw_lst_features)"
   ]
  },
  {
   "cell_type": "code",
   "execution_count": 60,
   "metadata": {},
   "outputs": [],
   "source": [
    "tdf = pd.DataFrame([tw_lst,list(tw_nb_pred_labels)]).transpose()"
   ]
  },
  {
   "cell_type": "code",
   "execution_count": 61,
   "metadata": {},
   "outputs": [
    {
     "data": {
      "text/html": [
       "<div>\n",
       "<style scoped>\n",
       "    .dataframe tbody tr th:only-of-type {\n",
       "        vertical-align: middle;\n",
       "    }\n",
       "\n",
       "    .dataframe tbody tr th {\n",
       "        vertical-align: top;\n",
       "    }\n",
       "\n",
       "    .dataframe thead th {\n",
       "        text-align: right;\n",
       "    }\n",
       "</style>\n",
       "<table border=\"1\" class=\"dataframe\">\n",
       "  <thead>\n",
       "    <tr style=\"text-align: right;\">\n",
       "      <th></th>\n",
       "      <th>0</th>\n",
       "      <th>1</th>\n",
       "    </tr>\n",
       "  </thead>\n",
       "  <tbody>\n",
       "    <tr>\n",
       "      <th>0</th>\n",
       "      <td>시간 아깝다</td>\n",
       "      <td>0</td>\n",
       "    </tr>\n",
       "  </tbody>\n",
       "</table>\n",
       "</div>"
      ],
      "text/plain": [
       "        0  1\n",
       "0  시간 아깝다  0"
      ]
     },
     "execution_count": 61,
     "metadata": {},
     "output_type": "execute_result"
    }
   ],
   "source": [
    "tdf"
   ]
  },
  {
   "cell_type": "code",
   "execution_count": null,
   "metadata": {},
   "outputs": [],
   "source": []
  }
 ],
 "metadata": {
  "kernelspec": {
   "display_name": "Python 3",
   "language": "python",
   "name": "python3"
  },
  "language_info": {
   "codemirror_mode": {
    "name": "ipython",
    "version": 3
   },
   "file_extension": ".py",
   "mimetype": "text/x-python",
   "name": "python",
   "nbconvert_exporter": "python",
   "pygments_lexer": "ipython3",
   "version": "3.6.5"
  }
 },
 "nbformat": 4,
 "nbformat_minor": 2
}
