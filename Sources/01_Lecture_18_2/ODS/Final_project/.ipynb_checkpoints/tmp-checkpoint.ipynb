{
 "cells": [
  {
   "cell_type": "code",
   "execution_count": 7,
   "metadata": {},
   "outputs": [],
   "source": [
    "import urllib\n",
    "import urllib.request\n",
    "import urllib.parse\n",
    "import bs4\n",
    "import re\n",
    "import os\n",
    "import time\n",
    "from concurrent.futures import ThreadPoolExecutor\n",
    "import pandas as pd\n",
    "import numpy as np\n",
    "import konlpy.tag\n",
    "import nltk\n",
    "import json\n",
    "#import pandas as pd\n",
    "#import numpy as np\n",
    "from konlpy.tag import Komoran\n",
    "from konlpy.tag import Twitter\n",
    "from time import time\n",
    "import pickle\n",
    "import os\n",
    "\n",
    "from sklearn.feature_extraction.text import TfidfVectorizer\n",
    "from sklearn.naive_bayes import MultinomialNB\n",
    "from sklearn.linear_model import SGDClassifier\n",
    "from sklearn.pipeline import Pipeline\n",
    "from sklearn.metrics import accuracy_score\n",
    "#import re"
   ]
  },
  {
   "cell_type": "code",
   "execution_count": 9,
   "metadata": {},
   "outputs": [],
   "source": [
    "from sklearn.linear_model import LogisticRegression\n",
    "#from sklearn.metrics import accuracy_score"
   ]
  },
  {
   "cell_type": "code",
   "execution_count": 10,
   "metadata": {},
   "outputs": [],
   "source": [
    "df = pd.read_csv('merged_comments.csv')"
   ]
  },
  {
   "cell_type": "code",
   "execution_count": 11,
   "metadata": {},
   "outputs": [],
   "source": [
    "scores = tuple(df.iloc[:,3])\n",
    "texts = tuple(df.iloc[:,4])"
   ]
  },
  {
   "cell_type": "code",
   "execution_count": 12,
   "metadata": {},
   "outputs": [],
   "source": [
    "filtered_texts = []\n",
    "filtered_labels = []\n",
    "\n",
    "for text, score in zip(texts, scores):\n",
    "    if 4 <= score <= 8:\n",
    "        continue\n",
    "        \n",
    "    # 평점 기준으로 문서에 label을 부여\n",
    "    # 1 ~ 4 -> 부정, -1\n",
    "    # 8 ~ 10 -> 긍정, 1\n",
    "    filtered_texts.append(text)\n",
    "    filtered_labels.append(1 if score > 8 else -1)"
   ]
  },
  {
   "cell_type": "code",
   "execution_count": 13,
   "metadata": {},
   "outputs": [],
   "source": [
    "# You can also use the following method\n",
    "from sklearn.model_selection import train_test_split\n",
    "train_texts, test_texts, train_labels, test_labels = train_test_split(filtered_texts, filtered_labels, test_size=0.3, random_state=0)"
   ]
  },
  {
   "cell_type": "code",
   "execution_count": 14,
   "metadata": {},
   "outputs": [],
   "source": [
    "def tfidf_extractor(corpus):\n",
    "    # returns a tf-idf based DTM\n",
    "    vectorizer = TfidfVectorizer(min_df=1, \n",
    "                                 norm='l2',\n",
    "                                 smooth_idf=True,\n",
    "                                 use_idf=True,\n",
    "                                 ngram_range=(1,1))\n",
    "    features = vectorizer.fit_transform(corpus)\n",
    "    return vectorizer, features"
   ]
  },
  {
   "cell_type": "code",
   "execution_count": 15,
   "metadata": {},
   "outputs": [],
   "source": [
    "# tfidf matrix를 사용한 경우\n",
    "tfidf_vectorizer, train_tfidf_features = tfidf_extractor(train_texts)\n",
    "test_tfidf_features = tfidf_vectorizer.transform(test_texts)"
   ]
  },
  {
   "cell_type": "code",
   "execution_count": 36,
   "metadata": {},
   "outputs": [
    {
     "name": "stdout",
     "output_type": "stream",
     "text": [
      "Misclassified samples: 24484 out of 170106\n",
      "Accuracy: 0.86\n",
      "CPU times: user 1.58 s, sys: 20 ms, total: 1.6 s\n",
      "Wall time: 1.6 s\n"
     ]
    }
   ],
   "source": [
    "%%time\n",
    "lr = LogisticRegression(C=0.1, penalty='l1', random_state=0) # Lasso regression\n",
    "lr.fit(train_tfidf_features, train_labels) # 학습\n",
    "pred_labels = lr.predict(test_tfidf_features)\n",
    "print('Misclassified samples: {} out of {}'.format((pred_labels != test_labels).sum(),len(test_labels)))\n",
    "print('Accuracy: %.2f' % accuracy_score(test_labels, pred_labels))"
   ]
  },
  {
   "cell_type": "code",
   "execution_count": 17,
   "metadata": {},
   "outputs": [
    {
     "name": "stdout",
     "output_type": "stream",
     "text": [
      "Misclassified samples: 24123 out of 170106\n",
      "Accuracy: 0.86\n",
      "CPU times: user 163 ms, sys: 3.94 ms, total: 167 ms\n",
      "Wall time: 166 ms\n"
     ]
    }
   ],
   "source": [
    "\n",
    "MNB=MultinomialNB()\n",
    "MNB.fit(train_tfidf_features, train_labels) \n",
    "pred_labels = MNB.predict(test_tfidf_features)\n",
    "print('Misclassified samples: {} out of {}'.format((pred_labels != test_labels).sum(),len(test_labels)))\n",
    "print('Accuracy: %.2f' % accuracy_score(test_labels, pred_labels))"
   ]
  },
  {
   "cell_type": "code",
   "execution_count": 18,
   "metadata": {},
   "outputs": [],
   "source": [
    "from sklearn.ensemble import RandomForestClassifier"
   ]
  },
  {
   "cell_type": "code",
   "execution_count": 19,
   "metadata": {},
   "outputs": [],
   "source": [
    "RFT = RandomForestClassifier(n_estimators =100)"
   ]
  },
  {
   "cell_type": "code",
   "execution_count": 20,
   "metadata": {},
   "outputs": [
    {
     "name": "stdout",
     "output_type": "stream",
     "text": [
      "Misclassified samples: 24494 out of 170106\n",
      "Accuracy: 0.86\n",
      "CPU times: user 2h 43min 54s, sys: 837 ms, total: 2h 43min 54s\n",
      "Wall time: 2h 43min 54s\n"
     ]
    }
   ],
   "source": [
    "%%time\n",
    "RFT.fit(train_tfidf_features, train_labels) \n",
    "pred_labels = RFT.predict(test_tfidf_features)\n",
    "print('Misclassified samples: {} out of {}'.format((pred_labels != test_labels).sum(),len(test_labels)))\n",
    "print('Accuracy: %.2f' % accuracy_score(test_labels, pred_labels))"
   ]
  },
  {
   "cell_type": "code",
   "execution_count": 37,
   "metadata": {},
   "outputs": [],
   "source": [
    "from sklearn.svm import SVC"
   ]
  },
  {
   "cell_type": "code",
   "execution_count": 39,
   "metadata": {},
   "outputs": [],
   "source": [
    "sinvecma = SVC()"
   ]
  },
  {
   "cell_type": "code",
   "execution_count": null,
   "metadata": {},
   "outputs": [
    {
     "name": "stderr",
     "output_type": "stream",
     "text": [
      "/home/jydev/anaconda3/lib/python3.6/site-packages/sklearn/svm/base.py:196: FutureWarning: The default value of gamma will change from 'auto' to 'scale' in version 0.22 to account better for unscaled features. Set gamma explicitly to 'auto' or 'scale' to avoid this warning.\n",
      "  \"avoid this warning.\", FutureWarning)\n"
     ]
    }
   ],
   "source": [
    "%%time\n",
    "sinvecma.fit(train_tfidf_features, train_labels) \n",
    "pred_labels = sinvecma.predict(test_tfidf_features)\n",
    "print('Misclassified samples: {} out of {}'.format((pred_labels != test_labels).sum(),len(test_labels)))\n",
    "print('Accuracy: %.2f' % accuracy_score(test_labels, pred_labels))"
   ]
  },
  {
   "cell_type": "code",
   "execution_count": 31,
   "metadata": {},
   "outputs": [],
   "source": [
    "ddf = pd.DataFrame([test_texts,list(pred_labels),test_labels]).transpose()"
   ]
  },
  {
   "cell_type": "code",
   "execution_count": 34,
   "metadata": {},
   "outputs": [
    {
     "data": {
      "text/html": [
       "<div>\n",
       "<style scoped>\n",
       "    .dataframe tbody tr th:only-of-type {\n",
       "        vertical-align: middle;\n",
       "    }\n",
       "\n",
       "    .dataframe tbody tr th {\n",
       "        vertical-align: top;\n",
       "    }\n",
       "\n",
       "    .dataframe thead th {\n",
       "        text-align: right;\n",
       "    }\n",
       "</style>\n",
       "<table border=\"1\" class=\"dataframe\">\n",
       "  <thead>\n",
       "    <tr style=\"text-align: right;\">\n",
       "      <th></th>\n",
       "      <th>0</th>\n",
       "      <th>1</th>\n",
       "      <th>2</th>\n",
       "    </tr>\n",
       "  </thead>\n",
       "  <tbody>\n",
       "    <tr>\n",
       "      <th>6</th>\n",
       "      <td>'믿고안보는 손예진..'</td>\n",
       "      <td>1</td>\n",
       "      <td>-1</td>\n",
       "    </tr>\n",
       "    <tr>\n",
       "      <th>16</th>\n",
       "      <td>'똥구멍은 음식의 영양분을 흡수 후 남은 찌거기와 가스가 배출되는 곳. 주용도에 맞...</td>\n",
       "      <td>1</td>\n",
       "      <td>-1</td>\n",
       "    </tr>\n",
       "    <tr>\n",
       "      <th>20</th>\n",
       "      <td>'평점조작하는건 쫌 아니자나 아무리그래도'</td>\n",
       "      <td>-1</td>\n",
       "      <td>1</td>\n",
       "    </tr>\n",
       "    <tr>\n",
       "      <th>24</th>\n",
       "      <td>'또또 이상하게 흥행하네 요즘 한국영화가 얼마나 노잼이면 이런 영화가 빨리다니'</td>\n",
       "      <td>1</td>\n",
       "      <td>-1</td>\n",
       "    </tr>\n",
       "    <tr>\n",
       "      <th>27</th>\n",
       "      <td>'네이버네티즌 평점은 못믿겠어요 굉장히 비합리적 평론가 관람객 평점만 남기길'</td>\n",
       "      <td>1</td>\n",
       "      <td>-1</td>\n",
       "    </tr>\n",
       "  </tbody>\n",
       "</table>\n",
       "</div>"
      ],
      "text/plain": [
       "                                                    0   1   2\n",
       "6                                       '믿고안보는 손예진..'   1  -1\n",
       "16  '똥구멍은 음식의 영양분을 흡수 후 남은 찌거기와 가스가 배출되는 곳. 주용도에 맞...   1  -1\n",
       "20                            '평점조작하는건 쫌 아니자나 아무리그래도'  -1   1\n",
       "24       '또또 이상하게 흥행하네 요즘 한국영화가 얼마나 노잼이면 이런 영화가 빨리다니'   1  -1\n",
       "27        '네이버네티즌 평점은 못믿겠어요 굉장히 비합리적 평론가 관람객 평점만 남기길'   1  -1"
      ]
     },
     "execution_count": 34,
     "metadata": {},
     "output_type": "execute_result"
    }
   ],
   "source": [
    "ddf[ddf[1]!=ddf[2]].head()"
   ]
  },
  {
   "cell_type": "code",
   "execution_count": null,
   "metadata": {},
   "outputs": [],
   "source": []
  },
  {
   "cell_type": "code",
   "execution_count": 16,
   "metadata": {},
   "outputs": [],
   "source": [
    "komoran = Komoran()\n",
    "def tokenizer_noun(doc):\n",
    "    return komoran.nouns(doc)\n",
    "\n",
    "def tokenizer_morphs(doc):\n",
    "    return komoran.morphs(doc)"
   ]
  },
  {
   "cell_type": "code",
   "execution_count": 17,
   "metadata": {},
   "outputs": [],
   "source": [
    "tfidf = TfidfVectorizer(tokenizer=tokenizer_morphs)"
   ]
  },
  {
   "cell_type": "code",
   "execution_count": 18,
   "metadata": {},
   "outputs": [],
   "source": [
    "multi_nbc = Pipeline([('vect', tfidf), ('nbc', MultinomialNB())])"
   ]
  },
  {
   "cell_type": "code",
   "execution_count": 21,
   "metadata": {},
   "outputs": [
    {
     "ename": "AttributeError",
     "evalue": "lower not found",
     "output_type": "error",
     "traceback": [
      "\u001b[1;31m---------------------------------------------------------------------------\u001b[0m",
      "\u001b[1;31mAttributeError\u001b[0m                            Traceback (most recent call last)",
      "\u001b[1;32m<ipython-input-21-7ba66627efce>\u001b[0m in \u001b[0;36m<module>\u001b[1;34m()\u001b[0m\n\u001b[0;32m      1\u001b[0m \u001b[1;31m#lr = LogisticRegression(C=0.1, penalty='l1', random_state=0) # Lasso regression\u001b[0m\u001b[1;33m\u001b[0m\u001b[1;33m\u001b[0m\u001b[0m\n\u001b[1;32m----> 2\u001b[1;33m \u001b[0mmulti_nbc\u001b[0m\u001b[1;33m.\u001b[0m\u001b[0mfit\u001b[0m\u001b[1;33m(\u001b[0m\u001b[0mtrain_tfidf_features\u001b[0m\u001b[1;33m,\u001b[0m \u001b[0mtrain_labels\u001b[0m\u001b[1;33m)\u001b[0m \u001b[1;31m# 학습\u001b[0m\u001b[1;33m\u001b[0m\u001b[0m\n\u001b[0m\u001b[0;32m      3\u001b[0m \u001b[1;31m#pred_labels = lr.predict(test_tfidf_features)\u001b[0m\u001b[1;33m\u001b[0m\u001b[1;33m\u001b[0m\u001b[0m\n\u001b[0;32m      4\u001b[0m \u001b[1;31m#print('Misclassified samples: {} out of {}'.format((pred_labels != test_labels).sum(),len(test_labels)))\u001b[0m\u001b[1;33m\u001b[0m\u001b[1;33m\u001b[0m\u001b[0m\n\u001b[0;32m      5\u001b[0m \u001b[1;31m#print('Accuracy: %.2f' % accuracy_score(test_labels, pred_labels))\u001b[0m\u001b[1;33m\u001b[0m\u001b[1;33m\u001b[0m\u001b[0m\n",
      "\u001b[1;32m~\\Anaconda3\\lib\\site-packages\\sklearn\\pipeline.py\u001b[0m in \u001b[0;36mfit\u001b[1;34m(self, X, y, **fit_params)\u001b[0m\n\u001b[0;32m    263\u001b[0m             \u001b[0mThis\u001b[0m \u001b[0mestimator\u001b[0m\u001b[1;33m\u001b[0m\u001b[0m\n\u001b[0;32m    264\u001b[0m         \"\"\"\n\u001b[1;32m--> 265\u001b[1;33m         \u001b[0mXt\u001b[0m\u001b[1;33m,\u001b[0m \u001b[0mfit_params\u001b[0m \u001b[1;33m=\u001b[0m \u001b[0mself\u001b[0m\u001b[1;33m.\u001b[0m\u001b[0m_fit\u001b[0m\u001b[1;33m(\u001b[0m\u001b[0mX\u001b[0m\u001b[1;33m,\u001b[0m \u001b[0my\u001b[0m\u001b[1;33m,\u001b[0m \u001b[1;33m**\u001b[0m\u001b[0mfit_params\u001b[0m\u001b[1;33m)\u001b[0m\u001b[1;33m\u001b[0m\u001b[0m\n\u001b[0m\u001b[0;32m    266\u001b[0m         \u001b[1;32mif\u001b[0m \u001b[0mself\u001b[0m\u001b[1;33m.\u001b[0m\u001b[0m_final_estimator\u001b[0m \u001b[1;32mis\u001b[0m \u001b[1;32mnot\u001b[0m \u001b[1;32mNone\u001b[0m\u001b[1;33m:\u001b[0m\u001b[1;33m\u001b[0m\u001b[0m\n\u001b[0;32m    267\u001b[0m             \u001b[0mself\u001b[0m\u001b[1;33m.\u001b[0m\u001b[0m_final_estimator\u001b[0m\u001b[1;33m.\u001b[0m\u001b[0mfit\u001b[0m\u001b[1;33m(\u001b[0m\u001b[0mXt\u001b[0m\u001b[1;33m,\u001b[0m \u001b[0my\u001b[0m\u001b[1;33m,\u001b[0m \u001b[1;33m**\u001b[0m\u001b[0mfit_params\u001b[0m\u001b[1;33m)\u001b[0m\u001b[1;33m\u001b[0m\u001b[0m\n",
      "\u001b[1;32m~\\Anaconda3\\lib\\site-packages\\sklearn\\pipeline.py\u001b[0m in \u001b[0;36m_fit\u001b[1;34m(self, X, y, **fit_params)\u001b[0m\n\u001b[0;32m    228\u001b[0m                 Xt, fitted_transformer = fit_transform_one_cached(\n\u001b[0;32m    229\u001b[0m                     \u001b[0mcloned_transformer\u001b[0m\u001b[1;33m,\u001b[0m \u001b[0mXt\u001b[0m\u001b[1;33m,\u001b[0m \u001b[0my\u001b[0m\u001b[1;33m,\u001b[0m \u001b[1;32mNone\u001b[0m\u001b[1;33m,\u001b[0m\u001b[1;33m\u001b[0m\u001b[0m\n\u001b[1;32m--> 230\u001b[1;33m                     **fit_params_steps[name])\n\u001b[0m\u001b[0;32m    231\u001b[0m                 \u001b[1;31m# Replace the transformer of the step with the fitted\u001b[0m\u001b[1;33m\u001b[0m\u001b[1;33m\u001b[0m\u001b[0m\n\u001b[0;32m    232\u001b[0m                 \u001b[1;31m# transformer. This is necessary when loading the transformer\u001b[0m\u001b[1;33m\u001b[0m\u001b[1;33m\u001b[0m\u001b[0m\n",
      "\u001b[1;32m~\\Anaconda3\\lib\\site-packages\\sklearn\\externals\\joblib\\memory.py\u001b[0m in \u001b[0;36m__call__\u001b[1;34m(self, *args, **kwargs)\u001b[0m\n\u001b[0;32m    327\u001b[0m \u001b[1;33m\u001b[0m\u001b[0m\n\u001b[0;32m    328\u001b[0m     \u001b[1;32mdef\u001b[0m \u001b[0m__call__\u001b[0m\u001b[1;33m(\u001b[0m\u001b[0mself\u001b[0m\u001b[1;33m,\u001b[0m \u001b[1;33m*\u001b[0m\u001b[0margs\u001b[0m\u001b[1;33m,\u001b[0m \u001b[1;33m**\u001b[0m\u001b[0mkwargs\u001b[0m\u001b[1;33m)\u001b[0m\u001b[1;33m:\u001b[0m\u001b[1;33m\u001b[0m\u001b[0m\n\u001b[1;32m--> 329\u001b[1;33m         \u001b[1;32mreturn\u001b[0m \u001b[0mself\u001b[0m\u001b[1;33m.\u001b[0m\u001b[0mfunc\u001b[0m\u001b[1;33m(\u001b[0m\u001b[1;33m*\u001b[0m\u001b[0margs\u001b[0m\u001b[1;33m,\u001b[0m \u001b[1;33m**\u001b[0m\u001b[0mkwargs\u001b[0m\u001b[1;33m)\u001b[0m\u001b[1;33m\u001b[0m\u001b[0m\n\u001b[0m\u001b[0;32m    330\u001b[0m \u001b[1;33m\u001b[0m\u001b[0m\n\u001b[0;32m    331\u001b[0m     \u001b[1;32mdef\u001b[0m \u001b[0mcall_and_shelve\u001b[0m\u001b[1;33m(\u001b[0m\u001b[0mself\u001b[0m\u001b[1;33m,\u001b[0m \u001b[1;33m*\u001b[0m\u001b[0margs\u001b[0m\u001b[1;33m,\u001b[0m \u001b[1;33m**\u001b[0m\u001b[0mkwargs\u001b[0m\u001b[1;33m)\u001b[0m\u001b[1;33m:\u001b[0m\u001b[1;33m\u001b[0m\u001b[0m\n",
      "\u001b[1;32m~\\Anaconda3\\lib\\site-packages\\sklearn\\pipeline.py\u001b[0m in \u001b[0;36m_fit_transform_one\u001b[1;34m(transformer, X, y, weight, **fit_params)\u001b[0m\n\u001b[0;32m    612\u001b[0m \u001b[1;32mdef\u001b[0m \u001b[0m_fit_transform_one\u001b[0m\u001b[1;33m(\u001b[0m\u001b[0mtransformer\u001b[0m\u001b[1;33m,\u001b[0m \u001b[0mX\u001b[0m\u001b[1;33m,\u001b[0m \u001b[0my\u001b[0m\u001b[1;33m,\u001b[0m \u001b[0mweight\u001b[0m\u001b[1;33m,\u001b[0m \u001b[1;33m**\u001b[0m\u001b[0mfit_params\u001b[0m\u001b[1;33m)\u001b[0m\u001b[1;33m:\u001b[0m\u001b[1;33m\u001b[0m\u001b[0m\n\u001b[0;32m    613\u001b[0m     \u001b[1;32mif\u001b[0m \u001b[0mhasattr\u001b[0m\u001b[1;33m(\u001b[0m\u001b[0mtransformer\u001b[0m\u001b[1;33m,\u001b[0m \u001b[1;34m'fit_transform'\u001b[0m\u001b[1;33m)\u001b[0m\u001b[1;33m:\u001b[0m\u001b[1;33m\u001b[0m\u001b[0m\n\u001b[1;32m--> 614\u001b[1;33m         \u001b[0mres\u001b[0m \u001b[1;33m=\u001b[0m \u001b[0mtransformer\u001b[0m\u001b[1;33m.\u001b[0m\u001b[0mfit_transform\u001b[0m\u001b[1;33m(\u001b[0m\u001b[0mX\u001b[0m\u001b[1;33m,\u001b[0m \u001b[0my\u001b[0m\u001b[1;33m,\u001b[0m \u001b[1;33m**\u001b[0m\u001b[0mfit_params\u001b[0m\u001b[1;33m)\u001b[0m\u001b[1;33m\u001b[0m\u001b[0m\n\u001b[0m\u001b[0;32m    615\u001b[0m     \u001b[1;32melse\u001b[0m\u001b[1;33m:\u001b[0m\u001b[1;33m\u001b[0m\u001b[0m\n\u001b[0;32m    616\u001b[0m         \u001b[0mres\u001b[0m \u001b[1;33m=\u001b[0m \u001b[0mtransformer\u001b[0m\u001b[1;33m.\u001b[0m\u001b[0mfit\u001b[0m\u001b[1;33m(\u001b[0m\u001b[0mX\u001b[0m\u001b[1;33m,\u001b[0m \u001b[0my\u001b[0m\u001b[1;33m,\u001b[0m \u001b[1;33m**\u001b[0m\u001b[0mfit_params\u001b[0m\u001b[1;33m)\u001b[0m\u001b[1;33m.\u001b[0m\u001b[0mtransform\u001b[0m\u001b[1;33m(\u001b[0m\u001b[0mX\u001b[0m\u001b[1;33m)\u001b[0m\u001b[1;33m\u001b[0m\u001b[0m\n",
      "\u001b[1;32m~\\Anaconda3\\lib\\site-packages\\sklearn\\feature_extraction\\text.py\u001b[0m in \u001b[0;36mfit_transform\u001b[1;34m(self, raw_documents, y)\u001b[0m\n\u001b[0;32m   1581\u001b[0m         \"\"\"\n\u001b[0;32m   1582\u001b[0m         \u001b[0mself\u001b[0m\u001b[1;33m.\u001b[0m\u001b[0m_check_params\u001b[0m\u001b[1;33m(\u001b[0m\u001b[1;33m)\u001b[0m\u001b[1;33m\u001b[0m\u001b[0m\n\u001b[1;32m-> 1583\u001b[1;33m         \u001b[0mX\u001b[0m \u001b[1;33m=\u001b[0m \u001b[0msuper\u001b[0m\u001b[1;33m(\u001b[0m\u001b[0mTfidfVectorizer\u001b[0m\u001b[1;33m,\u001b[0m \u001b[0mself\u001b[0m\u001b[1;33m)\u001b[0m\u001b[1;33m.\u001b[0m\u001b[0mfit_transform\u001b[0m\u001b[1;33m(\u001b[0m\u001b[0mraw_documents\u001b[0m\u001b[1;33m)\u001b[0m\u001b[1;33m\u001b[0m\u001b[0m\n\u001b[0m\u001b[0;32m   1584\u001b[0m         \u001b[0mself\u001b[0m\u001b[1;33m.\u001b[0m\u001b[0m_tfidf\u001b[0m\u001b[1;33m.\u001b[0m\u001b[0mfit\u001b[0m\u001b[1;33m(\u001b[0m\u001b[0mX\u001b[0m\u001b[1;33m)\u001b[0m\u001b[1;33m\u001b[0m\u001b[0m\n\u001b[0;32m   1585\u001b[0m         \u001b[1;31m# X is already a transformed view of raw_documents so\u001b[0m\u001b[1;33m\u001b[0m\u001b[1;33m\u001b[0m\u001b[0m\n",
      "\u001b[1;32m~\\Anaconda3\\lib\\site-packages\\sklearn\\feature_extraction\\text.py\u001b[0m in \u001b[0;36mfit_transform\u001b[1;34m(self, raw_documents, y)\u001b[0m\n\u001b[0;32m   1010\u001b[0m \u001b[1;33m\u001b[0m\u001b[0m\n\u001b[0;32m   1011\u001b[0m         vocabulary, X = self._count_vocab(raw_documents,\n\u001b[1;32m-> 1012\u001b[1;33m                                           self.fixed_vocabulary_)\n\u001b[0m\u001b[0;32m   1013\u001b[0m \u001b[1;33m\u001b[0m\u001b[0m\n\u001b[0;32m   1014\u001b[0m         \u001b[1;32mif\u001b[0m \u001b[0mself\u001b[0m\u001b[1;33m.\u001b[0m\u001b[0mbinary\u001b[0m\u001b[1;33m:\u001b[0m\u001b[1;33m\u001b[0m\u001b[0m\n",
      "\u001b[1;32m~\\Anaconda3\\lib\\site-packages\\sklearn\\feature_extraction\\text.py\u001b[0m in \u001b[0;36m_count_vocab\u001b[1;34m(self, raw_documents, fixed_vocab)\u001b[0m\n\u001b[0;32m    920\u001b[0m         \u001b[1;32mfor\u001b[0m \u001b[0mdoc\u001b[0m \u001b[1;32min\u001b[0m \u001b[0mraw_documents\u001b[0m\u001b[1;33m:\u001b[0m\u001b[1;33m\u001b[0m\u001b[0m\n\u001b[0;32m    921\u001b[0m             \u001b[0mfeature_counter\u001b[0m \u001b[1;33m=\u001b[0m \u001b[1;33m{\u001b[0m\u001b[1;33m}\u001b[0m\u001b[1;33m\u001b[0m\u001b[0m\n\u001b[1;32m--> 922\u001b[1;33m             \u001b[1;32mfor\u001b[0m \u001b[0mfeature\u001b[0m \u001b[1;32min\u001b[0m \u001b[0manalyze\u001b[0m\u001b[1;33m(\u001b[0m\u001b[0mdoc\u001b[0m\u001b[1;33m)\u001b[0m\u001b[1;33m:\u001b[0m\u001b[1;33m\u001b[0m\u001b[0m\n\u001b[0m\u001b[0;32m    923\u001b[0m                 \u001b[1;32mtry\u001b[0m\u001b[1;33m:\u001b[0m\u001b[1;33m\u001b[0m\u001b[0m\n\u001b[0;32m    924\u001b[0m                     \u001b[0mfeature_idx\u001b[0m \u001b[1;33m=\u001b[0m \u001b[0mvocabulary\u001b[0m\u001b[1;33m[\u001b[0m\u001b[0mfeature\u001b[0m\u001b[1;33m]\u001b[0m\u001b[1;33m\u001b[0m\u001b[0m\n",
      "\u001b[1;32m~\\Anaconda3\\lib\\site-packages\\sklearn\\feature_extraction\\text.py\u001b[0m in \u001b[0;36m<lambda>\u001b[1;34m(doc)\u001b[0m\n\u001b[0;32m    306\u001b[0m                                                tokenize)\n\u001b[0;32m    307\u001b[0m             return lambda doc: self._word_ngrams(\n\u001b[1;32m--> 308\u001b[1;33m                 tokenize(preprocess(self.decode(doc))), stop_words)\n\u001b[0m\u001b[0;32m    309\u001b[0m \u001b[1;33m\u001b[0m\u001b[0m\n\u001b[0;32m    310\u001b[0m         \u001b[1;32melse\u001b[0m\u001b[1;33m:\u001b[0m\u001b[1;33m\u001b[0m\u001b[0m\n",
      "\u001b[1;32m~\\Anaconda3\\lib\\site-packages\\sklearn\\feature_extraction\\text.py\u001b[0m in \u001b[0;36m<lambda>\u001b[1;34m(x)\u001b[0m\n\u001b[0;32m    254\u001b[0m \u001b[1;33m\u001b[0m\u001b[0m\n\u001b[0;32m    255\u001b[0m         \u001b[1;32mif\u001b[0m \u001b[0mself\u001b[0m\u001b[1;33m.\u001b[0m\u001b[0mlowercase\u001b[0m\u001b[1;33m:\u001b[0m\u001b[1;33m\u001b[0m\u001b[0m\n\u001b[1;32m--> 256\u001b[1;33m             \u001b[1;32mreturn\u001b[0m \u001b[1;32mlambda\u001b[0m \u001b[0mx\u001b[0m\u001b[1;33m:\u001b[0m \u001b[0mstrip_accents\u001b[0m\u001b[1;33m(\u001b[0m\u001b[0mx\u001b[0m\u001b[1;33m.\u001b[0m\u001b[0mlower\u001b[0m\u001b[1;33m(\u001b[0m\u001b[1;33m)\u001b[0m\u001b[1;33m)\u001b[0m\u001b[1;33m\u001b[0m\u001b[0m\n\u001b[0m\u001b[0;32m    257\u001b[0m         \u001b[1;32melse\u001b[0m\u001b[1;33m:\u001b[0m\u001b[1;33m\u001b[0m\u001b[0m\n\u001b[0;32m    258\u001b[0m             \u001b[1;32mreturn\u001b[0m \u001b[0mstrip_accents\u001b[0m\u001b[1;33m\u001b[0m\u001b[0m\n",
      "\u001b[1;32m~\\Anaconda3\\lib\\site-packages\\scipy\\sparse\\base.py\u001b[0m in \u001b[0;36m__getattr__\u001b[1;34m(self, attr)\u001b[0m\n\u001b[0;32m    684\u001b[0m             \u001b[1;32mreturn\u001b[0m \u001b[0mself\u001b[0m\u001b[1;33m.\u001b[0m\u001b[0mgetnnz\u001b[0m\u001b[1;33m(\u001b[0m\u001b[1;33m)\u001b[0m\u001b[1;33m\u001b[0m\u001b[0m\n\u001b[0;32m    685\u001b[0m         \u001b[1;32melse\u001b[0m\u001b[1;33m:\u001b[0m\u001b[1;33m\u001b[0m\u001b[0m\n\u001b[1;32m--> 686\u001b[1;33m             \u001b[1;32mraise\u001b[0m \u001b[0mAttributeError\u001b[0m\u001b[1;33m(\u001b[0m\u001b[0mattr\u001b[0m \u001b[1;33m+\u001b[0m \u001b[1;34m\" not found\"\u001b[0m\u001b[1;33m)\u001b[0m\u001b[1;33m\u001b[0m\u001b[0m\n\u001b[0m\u001b[0;32m    687\u001b[0m \u001b[1;33m\u001b[0m\u001b[0m\n\u001b[0;32m    688\u001b[0m     \u001b[1;32mdef\u001b[0m \u001b[0mtranspose\u001b[0m\u001b[1;33m(\u001b[0m\u001b[0mself\u001b[0m\u001b[1;33m,\u001b[0m \u001b[0maxes\u001b[0m\u001b[1;33m=\u001b[0m\u001b[1;32mNone\u001b[0m\u001b[1;33m,\u001b[0m \u001b[0mcopy\u001b[0m\u001b[1;33m=\u001b[0m\u001b[1;32mFalse\u001b[0m\u001b[1;33m)\u001b[0m\u001b[1;33m:\u001b[0m\u001b[1;33m\u001b[0m\u001b[0m\n",
      "\u001b[1;31mAttributeError\u001b[0m: lower not found"
     ]
    }
   ],
   "source": [
    "#lr = LogisticRegression(C=0.1, penalty='l1', random_state=0) # Lasso regression\n",
    "multi_nbc.fit(train_tfidf_features, train_labels) # 학습\n",
    "#pred_labels = lr.predict(test_tfidf_features)\n",
    "#print('Misclassified samples: {} out of {}'.format((pred_labels != test_labels).sum(),len(test_labels)))\n",
    "#print('Accuracy: %.2f' % accuracy_score(test_labels, pred_labels))"
   ]
  },
  {
   "cell_type": "code",
   "execution_count": 22,
   "metadata": {},
   "outputs": [
    {
     "data": {
      "text/plain": [
       "<396912x574866 sparse matrix of type '<class 'numpy.float64'>'\n",
       "\twith 3125932 stored elements in Compressed Sparse Row format>"
      ]
     },
     "execution_count": 22,
     "metadata": {},
     "output_type": "execute_result"
    }
   ],
   "source": []
  },
  {
   "cell_type": "code",
   "execution_count": null,
   "metadata": {},
   "outputs": [],
   "source": []
  },
  {
   "cell_type": "code",
   "execution_count": null,
   "metadata": {},
   "outputs": [],
   "source": []
  },
  {
   "cell_type": "code",
   "execution_count": null,
   "metadata": {},
   "outputs": [],
   "source": []
  },
  {
   "cell_type": "code",
   "execution_count": null,
   "metadata": {},
   "outputs": [],
   "source": []
  },
  {
   "cell_type": "code",
   "execution_count": null,
   "metadata": {},
   "outputs": [],
   "source": []
  },
  {
   "cell_type": "code",
   "execution_count": 26,
   "metadata": {},
   "outputs": [],
   "source": [
    "df_movie = df.iloc[:,3:5]"
   ]
  },
  {
   "cell_type": "code",
   "execution_count": 27,
   "metadata": {},
   "outputs": [],
   "source": [
    "df_movie.columns = ['rating','review']"
   ]
  },
  {
   "cell_type": "code",
   "execution_count": 29,
   "metadata": {},
   "outputs": [
    {
     "data": {
      "text/plain": [
       "(773123, 2)"
      ]
     },
     "execution_count": 29,
     "metadata": {},
     "output_type": "execute_result"
    }
   ],
   "source": [
    "df_movie.head()\n",
    "df_movie.shape"
   ]
  },
  {
   "cell_type": "code",
   "execution_count": 30,
   "metadata": {},
   "outputs": [],
   "source": [
    "emotion_class = [\n",
    "    \"POS\" if df_movie.iloc[i]['rating'] >= 8\n",
    "    else\n",
    "    \"NEU\" if df_movie.iloc[i]['rating'] >= 4\n",
    "    else\n",
    "    \"NEG\"\n",
    "    for i in range(df_movie.shape[0])\n",
    "]\n",
    "df_movie[\"class\"] = emotion_class"
   ]
  },
  {
   "cell_type": "code",
   "execution_count": 31,
   "metadata": {},
   "outputs": [],
   "source": [
    "df_movie.to_pickle(\"./df_movie_review.pkl\")"
   ]
  },
  {
   "cell_type": "code",
   "execution_count": 32,
   "metadata": {},
   "outputs": [],
   "source": [
    "df_movie = pd.read_pickle(\"./df_movie_review.pkl\")"
   ]
  },
  {
   "cell_type": "code",
   "execution_count": 33,
   "metadata": {},
   "outputs": [
    {
     "name": "stderr",
     "output_type": "stream",
     "text": [
      "/home/jydev/anaconda3/lib/python3.6/site-packages/konlpy/tag/_okt.py:16: UserWarning: \"Twitter\" has changed to \"Okt\" since KoNLPy v0.4.5.\n",
      "  warn('\"Twitter\" has changed to \"Okt\" since KoNLPy v0.4.5.')\n"
     ]
    }
   ],
   "source": [
    "twitter = Twitter()\n",
    "def tokenizer_twitter_morphs(doc):\n",
    "    return twitter.morphs(doc)\n",
    "\n",
    "def tokenizer_twitter_noun(doc):\n",
    "    return twitter.nouns(doc)\n",
    "\n",
    "def tokenizer_twitter_pos(doc):\n",
    "    return twitter.pos(doc, norm=True, stem=True)"
   ]
  },
  {
   "cell_type": "code",
   "execution_count": 34,
   "metadata": {},
   "outputs": [],
   "source": [
    "komoran = Komoran()\n",
    "def tokenizer_noun(doc):\n",
    "    return komoran.nouns(doc)\n",
    "\n",
    "def tokenizer_morphs(doc):\n",
    "    return komoran.morphs(doc)\n"
   ]
  },
  {
   "cell_type": "code",
   "execution_count": 35,
   "metadata": {},
   "outputs": [],
   "source": [
    "df_movie['token_review'] = df_movie['review'].apply(tokenizer_twitter_morphs)"
   ]
  },
  {
   "cell_type": "code",
   "execution_count": 36,
   "metadata": {},
   "outputs": [],
   "source": [
    "tokens = [ t for d in df_movie['token_review'] for t in d]"
   ]
  },
  {
   "cell_type": "code",
   "execution_count": 37,
   "metadata": {},
   "outputs": [],
   "source": [
    "text = nltk.Text(tokens, name='NMSC')"
   ]
  },
  {
   "cell_type": "code",
   "execution_count": 38,
   "metadata": {},
   "outputs": [
    {
     "name": "stdout",
     "output_type": "stream",
     "text": [
      "[(\"'\", 1240597), ('이', 293090), ('영화', 271217), ('.', 235590), ('에', 153745), ('가', 142202), ('들', 133177), ('의', 126391), ('도', 118771), ('을', 116041)]\n"
     ]
    }
   ],
   "source": [
    "print(text.vocab().most_common(10))"
   ]
  },
  {
   "cell_type": "code",
   "execution_count": 39,
   "metadata": {},
   "outputs": [
    {
     "name": "stdout",
     "output_type": "stream",
     "text": [
      "[('뵐것', 1), ('따하면서', 1), ('잘만들어놓고', 1), ('아니었으면하고', 1), ('챙녀', 1), ('쓰다듬는데', 1), ('해줘야하는지', 1), ('나푠', 1), ('밀고가던가', 1), ('케랑', 1), ('쉰다고', 1), ('밟아서', 1), ('각다귀', 1), ('그리워하는거지', 1), ('담질', 1), ('맞았다하면', 1), ('비실한데', 1), ('할퀴기', 1), ('싀팔', 1)]\n"
     ]
    }
   ],
   "source": [
    "print(text.vocab().most_common()[:-20:-1])"
   ]
  },
  {
   "cell_type": "code",
   "execution_count": 28,
   "metadata": {},
   "outputs": [],
   "source": [
    "#import seaborn as sns"
   ]
  },
  {
   "cell_type": "code",
   "execution_count": 29,
   "metadata": {},
   "outputs": [],
   "source": [
    "#sns.set_style(\"darkgrid\")\n",
    "#sns.set_palette('hls')"
   ]
  },
  {
   "cell_type": "code",
   "execution_count": 30,
   "metadata": {},
   "outputs": [
    {
     "data": {
      "image/png": "[encoded data removed]",
      "text/plain": [
       "<Figure size 432x288 with 1 Axes>"
      ]
     },
     "metadata": {},
     "output_type": "display_data"
    }
   ],
   "source": [
    "#text.plot(20)"
   ]
  },
  {
   "cell_type": "code",
   "execution_count": 31,
   "metadata": {},
   "outputs": [
    {
     "name": "stdout",
     "output_type": "stream",
     "text": [
      "Displaying 25 of 25 matches:\n",
      " 영화 재밌나요 ? 재밌으면 추천 재미없으면 비추 눌러주세요 그리 까 내릴 \n",
      " 볼 만 했어요 ! 얘 들 아 뭔가 착각 하는 모양 인데 이 거 마블 영화 가 아니라 소니 영화 야 ㅋㅋ 8 청 불로 갔어야 했다 완전 애 들용\n",
      " 들 아 뭔가 착각 하는 모양 인데 이 거 마블 영화 가 아니라 소니 영화 야 ㅋㅋ 8 청 불로 갔어야 했다 완전 애 들용 베놈 임 이 거 보고\n",
      "어도 연출 만 잘 하면 됨 . 톰 하디 의 감정 연기 가 자연스러워서 영화 의 질 이 올라감 . 초반 부 베놈 의 광기 와 카리스마 가 후반 부\n",
      "드 에서 말 잘 듣는 개 로 변한 느낌 다 좋은데 .. 아무리 히어로 영화 가 좀 유치하지만 .. 앞뒤 없이 급 착해지면 어쩌 자는거냐 ... \n",
      "갑자기 개연 성 없이 베놈 특유 의 카리스마 사라지고 친구 된거 하고 영화 러닝 타임 상 심비오트 에 대한 설명 이 좀 부족했다 정도 ? 톰하디\n",
      " 있을듯 근데 개봉 본은 뭔가 어정쩡해져서 A 급 을 표방 한 B 급 영화 된 느낌 뭔가 아쉬움 재미 는 있었는데 베놈 이 악행 을 한 것 도 \n",
      " 누가 2 개 라고 했냐 진짜 재미있는데 ㅠㅠ 왜 평점 낮냐 재밌는데 영화 너무 짧다 ㅠ 무 삭제 나오면 또 봐야겠음 씹 다크 안티히어로 가 악\n",
      "면 때문 일지 도 모르지만 , 팬 으로서 보기 에는 여러 모로 아쉬운 영화 . 뭔가 헛 웃음 나오는게 \" 네 가 나를 바꿨다 \" 진짜 그건 ..\n",
      "ㅠ 비쥬 얼 과 분위기 는 진짜 최고 ㅋㅋ 정말 멋있고 정말 재밌었던 영화 : ) 데드풀 처럼 좀더 강렬하게 나 와도 됐을듯 신 과 함께 같은걸\n",
      " 초반 은 지루함 톰 하디 표 베놈 을 본 거 자체 가 축복 임 폭망 영화 까지는 아닌듯 .... 볼 만 했음 톰 하디 연기 , 액션 씬 , 베\n",
      ". 개연 성 하나 없이 스토리 말아먹었으면 액션 이라도 높여야 되는데 영화 등급 이랑 같이 베놈 등급 을 내려 버렸네 ... 그냥 목소리 좋은 \n",
      " 하는 바램 이다 ... 저 는 볼 만 했습니다 마블 팬 이지만 단독 영화 도 나름 괜찮았어요 쿠키 영상 한 개 에요 다 들 오래 기다리지 마시\n",
      "몸 에 딱 맞는 베놈 수트 지금 베댓 전부 다 9시 에올라옴 ㅋㅋㅋㅋ 영화 보기는하셨어요 ? 안시성 알 바 님 들 얼마 받고 일해 요 ? 중후 \n",
      "오는 건 아쉽지만 cj 롯데 판 한국영 화 보단 훨씬 낫다 !! 국산 영화 맹신 찌질 이 들 이 여 기와 서 평점 어지러 낮추네 스윗 한 베놈 \n",
      "더 좋았을듯 ㅎ 그래도 정말 재밌었어요 ㅎ 내 여자친구 여지 껀 마블 영화 보면서 다 잤다 ... 베놈 은 안 잤다 .. 처음 으로 ... 데드\n",
      "... 여자친구 는 베놈 이 젤 재밌단다 . 나도 재밌었음 마블 최고 영화 는 아님 개인 적 인 마블 최고 영화 는 시빌 워 WE '' RE V\n",
      "다 . 나도 재밌었음 마블 최고 영화 는 아님 개인 적 인 마블 최고 영화 는 시빌 워 WE '' RE VENOM !! 베놈 과 에디 가 꽁 냥\n",
      "거 문제 될거 없고 귀여운 베놈 이 되는 이유 도 알 수 있어요 마블 영화 계열 맞음 잼있음 에디 배놈 케미 좋아요 ㅋㅋㅋㅋ 재미 는 있다 개연\n",
      "오토바이 액션씬 보다 마지막 에 빌런 과 싸우는 액션씬 은 진짜 다른 영화 와 비교 할수 없을 정도 로 재미있었고 멋있었고 소름끼쳤다 . 짧지만\n",
      "연기 너무 잘 해요 블랙 팬서 보다 확실히 재밌다 . 처음 으로 외국 영화 안졸고잘 봤다 ㅋㅋㅋ 추천 합니다 . 내 인생 영화 베놈 다음 편도 \n",
      " 처음 으로 외국 영화 안졸고잘 봤다 ㅋㅋㅋ 추천 합니다 . 내 인생 영화 베놈 다음 편도 어서어서 나와라 !!! 솔직히 깔 정도 는 아님 걍 \n",
      "디 는 역시 톰 하디 근데 나도 모르게 베놈 에게 정듬 재밌어요 마블 영화 좋아하시는 분 들 강추 개 재밌는데 왜 들 난리 지 ㅋ 감동 적 행복\n",
      "보 니까 한국영 화 만 무조건 빨 아 재 끼는 애 들 이네 좀 제대로 영화 좀 봐라 나름 임팩트 있고 재밌었다 청 불이였음 더 자극 적이였겠지내\n",
      "랙 팬서 앤트맨 보다 두 세배 는 재밌다 ㅋㅋㅋ 나 랑 여친 은 마블 영화 보다 재밋 게 봤는데 평점 왜 이러냐 평점 낮은 순 봐라 ㅋㅋ 안시성\n"
     ]
    }
   ],
   "source": [
    "#text.concordance('영화')"
   ]
  },
  {
   "cell_type": "code",
   "execution_count": 22,
   "metadata": {},
   "outputs": [],
   "source": [
    "X_train = df_movie.loc[:, 'review'].values\n",
    "y_train = df_movie.loc[:, 'class'].values"
   ]
  },
  {
   "cell_type": "code",
   "execution_count": 23,
   "metadata": {},
   "outputs": [],
   "source": [
    "tfidf = TfidfVectorizer(tokenizer=tokenizer_morphs)"
   ]
  },
  {
   "cell_type": "code",
   "execution_count": 123,
   "metadata": {},
   "outputs": [],
   "source": [
    "multi_nbc = Pipeline([('vect', tfidf), ('nbc', MultinomialNB())])"
   ]
  },
  {
   "cell_type": "code",
   "execution_count": 124,
   "metadata": {},
   "outputs": [],
   "source": [
    "sgd_clf = Pipeline([('vect', tfidf), ('sgd', SGDClassifier(loss='hinge', penalty='l2', alpha=1e-3, random_state=42))])"
   ]
  },
  {
   "cell_type": "code",
   "execution_count": 125,
   "metadata": {},
   "outputs": [
    {
     "name": "stdout",
     "output_type": "stream",
     "text": [
      "Time: 3.915861s\n"
     ]
    },
    {
     "name": "stderr",
     "output_type": "stream",
     "text": [
      "C:\\Users\\ahn92\\Anaconda3\\lib\\site-packages\\sklearn\\linear_model\\stochastic_gradient.py:128: FutureWarning: max_iter and tol parameters have been added in <class 'sklearn.linear_model.stochastic_gradient.SGDClassifier'> in 0.19. If both are left unset, they default to max_iter=5 and tol=None. If tol is not None, max_iter defaults to max_iter=1000. From 0.21, default max_iter will be 1000, and default tol will be 1e-3.\n",
      "  \"and default tol will be 1e-3.\" % type(self), FutureWarning)\n"
     ]
    }
   ],
   "source": [
    "start = time()\n",
    "sgd_clf.fit(X_train, y_train)\n",
    "end = time()\n",
    "print('Time: {:f}s'.format(end-start))"
   ]
  },
  {
   "cell_type": "code",
   "execution_count": 142,
   "metadata": {},
   "outputs": [
    {
     "data": {
      "text/plain": [
       "100"
      ]
     },
     "execution_count": 142,
     "metadata": {},
     "output_type": "execute_result"
    }
   ],
   "source": [
    "len(testset)"
   ]
  },
  {
   "cell_type": "code",
   "execution_count": 139,
   "metadata": {},
   "outputs": [],
   "source": [
    "y_pred = sgd_clf.predict(testset)\n",
    "#print(\"테스트 정확도: {:.3f}\".format(accuracy_score(y_train, y_pred)))"
   ]
  },
  {
   "cell_type": "code",
   "execution_count": 140,
   "metadata": {},
   "outputs": [],
   "source": [
    "tmp=pd.DataFrame(testset)\n",
    "tmp['y_pred']=y_pred"
   ]
  },
  {
   "cell_type": "code",
   "execution_count": 141,
   "metadata": {},
   "outputs": [
    {
     "name": "stdout",
     "output_type": "stream",
     "text": [
      "2          동네사람들 영화보러가실 트친분없나용인예매권그냥 드려요 낼까지 쓸수잇어요ㅜㅜㅜㅜㅜ\n",
      "5       시내의 옛 레코드가게에 옛날 사람들이 붐빈다 광장시장 빈대떡 사고 동네에 와 굴...\n",
      "19                                미친 야와 동네사람들쇼코오네신솔로없대요\n",
      "20    어제 봤던 길냥이 사람들이 안 해치고 애들이 가끔 먹을 것도 줘서 그럭저럭 이 동네...\n",
      "43                                미친 야와 동네사람들쇼코오네신솔로없대요\n",
      "58                                미친 야와 동네사람들쇼코오네신솔로없대요\n",
      "60    아 동네 사람들 고현탁 보세요 고딩 일찐 이면서 바나나 우유에 빨대 꼽고 빨아마심 ...\n",
      "61                                미친 야와 동네사람들쇼코오네신솔로없대요\n",
      "65                                미친 야와 동네사람들쇼코오네신솔로없대요\n",
      "73                                미친 야와 동네사람들쇼코오네신솔로없대요\n",
      "76                                      동네사람들봣는데 음뭔가 ㄴㅈ\n",
      "79                                미친 야와 동네사람들쇼코오네신솔로없대요\n",
      "80                                미친 야와 동네사람들쇼코오네신솔로없대요\n",
      "84                                미친 야와 동네사람들쇼코오네신솔로없대요\n",
      "99                                미친 야와 동네사람들쇼코오네신솔로없대요\n",
      "Name: 0, dtype: object\n"
     ]
    }
   ],
   "source": [
    "print(tmp[tmp['y_pred']!=\"POS\"][0])#[17])"
   ]
  },
  {
   "cell_type": "code",
   "execution_count": 149,
   "metadata": {},
   "outputs": [],
   "source": [
    "from twython import Twython\n",
    "\n",
    "APP_KEY='9YZNN1Nec1BnHApzLseYtEIi8' \n",
    "\n",
    "APP_SECRET='ktUDazXe5Qmkn8OFgKs8KO9KIWycIuCxD1kPCRF8RwEkVuaE3Z'\n",
    "\n",
    "OAUTH_TOKEN='1061859779008557056-yRZX6t2HSJyQmuaFY0CpuJbkaybSpu'\n",
    "\n",
    "OAUTH_TOKEN_SECRET='ifIbGQDOiIX3To6tX3IRCdKdb3pALwh2gHEgLCG7L0aCL'\n",
    "\n",
    "twitterr = Twython(APP_KEY, APP_SECRET, OAUTH_TOKEN, OAUTH_TOKEN_SECRET)"
   ]
  },
  {
   "cell_type": "code",
   "execution_count": 164,
   "metadata": {},
   "outputs": [],
   "source": [
    "tweets = twitterr.search(q='보헤미안 랩소디', count=200)\n",
    "data = [(t['user']['screen_name'], t['text'], t['created_at']) for t in tweets['statuses']]"
   ]
  },
  {
   "cell_type": "code",
   "execution_count": 167,
   "metadata": {},
   "outputs": [],
   "source": [
    "?twitterr.search(q='클레', count=200)"
   ]
  },
  {
   "cell_type": "code",
   "execution_count": 151,
   "metadata": {},
   "outputs": [],
   "source": [
    "data2 = [t['text']  for t in tweets['statuses']]\n",
    "tary=np.array(data2)\n",
    "step1 =list(map(lambda x : re.sub(r'[^\\s\\d\\w\\.\\?\\!\\,]','',x),tary))\n",
    "hangul = re.compile('[^ ㄱ-ㅣ가-힣]+') \n",
    "\n",
    "result = list(map(lambda x : hangul.sub('', x),step1))\n",
    "testset = np.array(result)"
   ]
  },
  {
   "cell_type": "code",
   "execution_count": 153,
   "metadata": {},
   "outputs": [
    {
     "data": {
      "text/plain": [
       "100"
      ]
     },
     "execution_count": 153,
     "metadata": {},
     "output_type": "execute_result"
    }
   ],
   "source": [
    "len(testset)"
   ]
  },
  {
   "cell_type": "code",
   "execution_count": 137,
   "metadata": {},
   "outputs": [
    {
     "ename": "AttributeError",
     "evalue": "'numpy.ndarray' object has no attribute 'apply'",
     "output_type": "error",
     "traceback": [
      "\u001b[1;31m---------------------------------------------------------------------------\u001b[0m",
      "\u001b[1;31mAttributeError\u001b[0m                            Traceback (most recent call last)",
      "\u001b[1;32m<ipython-input-137-54851dba5ac1>\u001b[0m in \u001b[0;36m<module>\u001b[1;34m()\u001b[0m\n\u001b[1;32m----> 1\u001b[1;33m \u001b[0mdata22\u001b[0m\u001b[1;33m=\u001b[0m\u001b[0mnp\u001b[0m\u001b[1;33m.\u001b[0m\u001b[0marray\u001b[0m\u001b[1;33m(\u001b[0m\u001b[0mdata2\u001b[0m\u001b[1;33m)\u001b[0m\u001b[1;33m.\u001b[0m\u001b[0mapply\u001b[0m\u001b[1;33m(\u001b[0m\u001b[1;32mlambda\u001b[0m \u001b[0mx\u001b[0m \u001b[1;33m:\u001b[0m \u001b[0mre\u001b[0m\u001b[1;33m.\u001b[0m\u001b[0msub\u001b[0m\u001b[1;33m(\u001b[0m\u001b[1;34mr'[^\\s\\d\\w\\.\\?\\!\\,]'\u001b[0m\u001b[1;33m,\u001b[0m\u001b[1;34m''\u001b[0m\u001b[1;33m,\u001b[0m \u001b[0mx\u001b[0m\u001b[1;33m[\u001b[0m\u001b[1;34m'title'\u001b[0m\u001b[1;33m]\u001b[0m\u001b[1;33m)\u001b[0m\u001b[1;33m,\u001b[0m\u001b[0maxis\u001b[0m \u001b[1;33m=\u001b[0m\u001b[1;36m1\u001b[0m\u001b[1;33m)\u001b[0m\u001b[1;33m\u001b[0m\u001b[0m\n\u001b[0m",
      "\u001b[1;31mAttributeError\u001b[0m: 'numpy.ndarray' object has no attribute 'apply'"
     ]
    }
   ],
   "source": [
    "#data22=np.array(data2).apply(lambda x : re.sub(r'[^\\s\\d\\w\\.\\?\\!\\,]','', x['title']),axis =1)"
   ]
  },
  {
   "cell_type": "code",
   "execution_count": 85,
   "metadata": {},
   "outputs": [
    {
     "name": "stdout",
     "output_type": "stream",
     "text": [
      "Time: 28.507340s\n"
     ]
    }
   ],
   "source": [
    "start = time()\n",
    "multi_nbc.fit(X_train, y_train)\n",
    "end = time()\n",
    "print('Time: {:f}s'.format(end-start))"
   ]
  },
  {
   "cell_type": "code",
   "execution_count": null,
   "metadata": {},
   "outputs": [],
   "source": []
  },
  {
   "cell_type": "code",
   "execution_count": 86,
   "metadata": {},
   "outputs": [
    {
     "name": "stdout",
     "output_type": "stream",
     "text": [
      "테스트 정확도: 0.801\n"
     ]
    }
   ],
   "source": [
    "y_pred = multi_nbc.predict(X_train)\n",
    "print(\"테스트 정확도: {:.3f}\".format(accuracy_score(y_train, y_pred)))"
   ]
  },
  {
   "cell_type": "code",
   "execution_count": 87,
   "metadata": {},
   "outputs": [],
   "source": [
    "out = pd.DataFrame()"
   ]
  },
  {
   "cell_type": "code",
   "execution_count": 88,
   "metadata": {},
   "outputs": [],
   "source": [
    "out['X_train']=X_train\n",
    "out['y_pred']=y_pred\n",
    "out['y_train']=y_train"
   ]
  },
  {
   "cell_type": "code",
   "execution_count": 91,
   "metadata": {},
   "outputs": [
    {
     "data": {
      "text/html": [
       "<div>\n",
       "<style scoped>\n",
       "    .dataframe tbody tr th:only-of-type {\n",
       "        vertical-align: middle;\n",
       "    }\n",
       "\n",
       "    .dataframe tbody tr th {\n",
       "        vertical-align: top;\n",
       "    }\n",
       "\n",
       "    .dataframe thead th {\n",
       "        text-align: right;\n",
       "    }\n",
       "</style>\n",
       "<table border=\"1\" class=\"dataframe\">\n",
       "  <thead>\n",
       "    <tr style=\"text-align: right;\">\n",
       "      <th></th>\n",
       "      <th>X_train</th>\n",
       "      <th>y_pred</th>\n",
       "      <th>y_train</th>\n",
       "    </tr>\n",
       "  </thead>\n",
       "  <tbody>\n",
       "    <tr>\n",
       "      <th>19</th>\n",
       "      <td>검돌이 베놈 다시만나 행복해</td>\n",
       "      <td>NEG</td>\n",
       "      <td>NEG</td>\n",
       "    </tr>\n",
       "    <tr>\n",
       "      <th>520</th>\n",
       "      <td>코인급 떵락이다볼거면 공짜로</td>\n",
       "      <td>NEG</td>\n",
       "      <td>NEG</td>\n",
       "    </tr>\n",
       "    <tr>\n",
       "      <th>527</th>\n",
       "      <td>다정한 이웃 스파이더맨에 맞먹는 일심동체 친구 베놈</td>\n",
       "      <td>NEG</td>\n",
       "      <td>NEG</td>\n",
       "    </tr>\n",
       "    <tr>\n",
       "      <th>542</th>\n",
       "      <td>막판에 캐릭터 넷이 한꺼번에 치고받는 장면이 제일 괜찮았고....전체적으로 굉장히 ...</td>\n",
       "      <td>NEG</td>\n",
       "      <td>NEG</td>\n",
       "    </tr>\n",
       "    <tr>\n",
       "      <th>543</th>\n",
       "      <td>무언가가 부족한느낌의 영호ㅓ</td>\n",
       "      <td>NEG</td>\n",
       "      <td>NEG</td>\n",
       "    </tr>\n",
       "    <tr>\n",
       "      <th>1184</th>\n",
       "      <td>Ip tv 에 무료로 올라오면 적적할때 딴짓하면서 틀어놓기 딱좋은수준..예고편 액션...</td>\n",
       "      <td>NEG</td>\n",
       "      <td>NEG</td>\n",
       "    </tr>\n",
       "    <tr>\n",
       "      <th>1210</th>\n",
       "      <td>꼬맹이들영화같다..</td>\n",
       "      <td>NEG</td>\n",
       "      <td>NEG</td>\n",
       "    </tr>\n",
       "    <tr>\n",
       "      <th>1226</th>\n",
       "      <td>개연성 밥 말아 먹음ㅋㅋㅋㅋ</td>\n",
       "      <td>NEG</td>\n",
       "      <td>NEG</td>\n",
       "    </tr>\n",
       "    <tr>\n",
       "      <th>1240</th>\n",
       "      <td>누가 악인인지 주인공이 무슨권리로 인민 재판을한단건지??  마지막에 베놈이 깡패머리...</td>\n",
       "      <td>NEG</td>\n",
       "      <td>NEG</td>\n",
       "    </tr>\n",
       "    <tr>\n",
       "      <th>1247</th>\n",
       "      <td>베놈은 마블등급컷 5등급이니까 그냥 공무원시험준비해</td>\n",
       "      <td>NEG</td>\n",
       "      <td>NEG</td>\n",
       "    </tr>\n",
       "    <tr>\n",
       "      <th>1835</th>\n",
       "      <td>Mr.V - 당신을 위한 데이트 코치</td>\n",
       "      <td>NEG</td>\n",
       "      <td>NEG</td>\n",
       "    </tr>\n",
       "    <tr>\n",
       "      <th>1964</th>\n",
       "      <td>내년 추석 TV에서 만납시다</td>\n",
       "      <td>NEG</td>\n",
       "      <td>NEG</td>\n",
       "    </tr>\n",
       "    <tr>\n",
       "      <th>2075</th>\n",
       "      <td>영화수준떨어짐무슨스파이더맨도아니고스토리보면 가관!ㅋㅋㅋㅋ내용없고비쥬얼도개판 진짜프레...</td>\n",
       "      <td>NEG</td>\n",
       "      <td>NEG</td>\n",
       "    </tr>\n",
       "    <tr>\n",
       "      <th>2557</th>\n",
       "      <td>개연성 일도 없고 이게 무슨 이야기인지...ㅜㅠ 진심 영화관에서 잠만 자고 왔네.....</td>\n",
       "      <td>NEG</td>\n",
       "      <td>NEG</td>\n",
       "    </tr>\n",
       "    <tr>\n",
       "      <th>2581</th>\n",
       "      <td>텐센트에서 제작비 대서 그런지 짱깨냄새 많이 나는 유치한 b급 영화임.</td>\n",
       "      <td>NEG</td>\n",
       "      <td>NEG</td>\n",
       "    </tr>\n",
       "    <tr>\n",
       "      <th>2730</th>\n",
       "      <td>실패한 서사, 힘 못쓰는 피카레스크형 주인공</td>\n",
       "      <td>NEG</td>\n",
       "      <td>NEG</td>\n",
       "    </tr>\n",
       "    <tr>\n",
       "      <th>2775</th>\n",
       "      <td>베놈은 대체 왜 지구를 지키려는거냐</td>\n",
       "      <td>NEG</td>\n",
       "      <td>NEG</td>\n",
       "    </tr>\n",
       "    <tr>\n",
       "      <th>2892</th>\n",
       "      <td>대체 얼마나 망쳐야 메타스코어 29점이 나오냐?</td>\n",
       "      <td>NEG</td>\n",
       "      <td>NEG</td>\n",
       "    </tr>\n",
       "    <tr>\n",
       "      <th>2911</th>\n",
       "      <td>좋은 재료를 버무린 싸구려 비빔밥</td>\n",
       "      <td>NEG</td>\n",
       "      <td>NEG</td>\n",
       "    </tr>\n",
       "    <tr>\n",
       "      <th>2912</th>\n",
       "      <td>베놈 공감 vs 암수살인 비공</td>\n",
       "      <td>NEG</td>\n",
       "      <td>NEG</td>\n",
       "    </tr>\n",
       "    <tr>\n",
       "      <th>2914</th>\n",
       "      <td>망작 배우가 아깝다 ㅡㅡ</td>\n",
       "      <td>NEG</td>\n",
       "      <td>NEG</td>\n",
       "    </tr>\n",
       "    <tr>\n",
       "      <th>2954</th>\n",
       "      <td>미이라 같은 영화 기획된 유니버스를 말아먹음</td>\n",
       "      <td>NEG</td>\n",
       "      <td>NEG</td>\n",
       "    </tr>\n",
       "    <tr>\n",
       "      <th>2955</th>\n",
       "      <td>개연성 제로에다 대놓고 설정파괴. 악랄하고 이기적인 베놈이 별 같잖은 이유로 급착해...</td>\n",
       "      <td>NEG</td>\n",
       "      <td>NEG</td>\n",
       "    </tr>\n",
       "    <tr>\n",
       "      <th>2977</th>\n",
       "      <td>역시 중국 텐센트 자본이 들어가면 망하네....중국화....억지 스토리에 유치찬란</td>\n",
       "      <td>NEG</td>\n",
       "      <td>NEG</td>\n",
       "    </tr>\n",
       "    <tr>\n",
       "      <th>2994</th>\n",
       "      <td>중국 자본의 폐헤 삭제 30분 어디갔냐...</td>\n",
       "      <td>NEG</td>\n",
       "      <td>NEG</td>\n",
       "    </tr>\n",
       "    <tr>\n",
       "      <th>3012</th>\n",
       "      <td>메타 29 로튼 32 명백한 맹독닦이다 빨아대지마라</td>\n",
       "      <td>NEG</td>\n",
       "      <td>NEG</td>\n",
       "    </tr>\n",
       "    <tr>\n",
       "      <th>3018</th>\n",
       "      <td>베놈의 급 심성변화도 별로고 외계인이 숙주로 삼았다가 떠나면 숙주는 죽더만 톰하디 ...</td>\n",
       "      <td>NEG</td>\n",
       "      <td>NEG</td>\n",
       "    </tr>\n",
       "    <tr>\n",
       "      <th>3070</th>\n",
       "      <td>믿고 거르는 중국자본 텐센트</td>\n",
       "      <td>NEG</td>\n",
       "      <td>NEG</td>\n",
       "    </tr>\n",
       "    <tr>\n",
       "      <th>3534</th>\n",
       "      <td>낚였다 제대로 낚였다 ..</td>\n",
       "      <td>NEG</td>\n",
       "      <td>NEG</td>\n",
       "    </tr>\n",
       "    <tr>\n",
       "      <th>3741</th>\n",
       "      <td>중국자본이라 각본이 이렇다고 말해줘...</td>\n",
       "      <td>NEG</td>\n",
       "      <td>NEG</td>\n",
       "    </tr>\n",
       "    <tr>\n",
       "      <th>...</th>\n",
       "      <td>...</td>\n",
       "      <td>...</td>\n",
       "      <td>...</td>\n",
       "    </tr>\n",
       "    <tr>\n",
       "      <th>12547</th>\n",
       "      <td>뎃글알바 하지마셈ㅋ뎃알바 다 암</td>\n",
       "      <td>NEG</td>\n",
       "      <td>NEG</td>\n",
       "    </tr>\n",
       "    <tr>\n",
       "      <th>12548</th>\n",
       "      <td>이거볼바에 다른거봐라ㅋㅋㅋ 쓰레기영화</td>\n",
       "      <td>NEG</td>\n",
       "      <td>NEG</td>\n",
       "    </tr>\n",
       "    <tr>\n",
       "      <th>12553</th>\n",
       "      <td>이게영화냐 동영상이냐</td>\n",
       "      <td>NEG</td>\n",
       "      <td>NEG</td>\n",
       "    </tr>\n",
       "    <tr>\n",
       "      <th>12556</th>\n",
       "      <td>영화초반 전범기 장난치냐?? 소니에서 만들었다더니 욱일기 슬쩍 집어넣으면 모를줄 알...</td>\n",
       "      <td>NEG</td>\n",
       "      <td>NEG</td>\n",
       "    </tr>\n",
       "    <tr>\n",
       "      <th>12557</th>\n",
       "      <td>느금마사로 급 화해 vs 그냥 지구가 좋아진 베놈... 배대슈 의문의 재평가행</td>\n",
       "      <td>NEG</td>\n",
       "      <td>NEG</td>\n",
       "    </tr>\n",
       "    <tr>\n",
       "      <th>12559</th>\n",
       "      <td>돈아깝고시간아깝고 ;; 검색한 데이터도 아까울지경 ...;; 형편없음 그냥 초딩들 ...</td>\n",
       "      <td>NEG</td>\n",
       "      <td>NEG</td>\n",
       "    </tr>\n",
       "    <tr>\n",
       "      <th>12571</th>\n",
       "      <td>부모님이 삭제됬네요 개OOOO15세이상인데 3인청소년예약인데 학생증불지참했다고 못보...</td>\n",
       "      <td>NEG</td>\n",
       "      <td>NEG</td>\n",
       "    </tr>\n",
       "    <tr>\n",
       "      <th>12596</th>\n",
       "      <td>제점수는요..영화보다 잠듬한 삼십분지나야 베놈시작</td>\n",
       "      <td>NEG</td>\n",
       "      <td>NEG</td>\n",
       "    </tr>\n",
       "    <tr>\n",
       "      <th>12600</th>\n",
       "      <td>정말 최악의 영화.... 마블의 탈을 쓴 쓰레기</td>\n",
       "      <td>NEG</td>\n",
       "      <td>NEG</td>\n",
       "    </tr>\n",
       "    <tr>\n",
       "      <th>12606</th>\n",
       "      <td>ㅡ ㅅ ㅡ 2018 기대작이었. 초반부는 졸렸다.. 자막 시인성 그지. 갑자기 액션...</td>\n",
       "      <td>NEG</td>\n",
       "      <td>NEG</td>\n",
       "    </tr>\n",
       "    <tr>\n",
       "      <th>12625</th>\n",
       "      <td>그냥 광고 그대로인 영화</td>\n",
       "      <td>NEG</td>\n",
       "      <td>NEG</td>\n",
       "    </tr>\n",
       "    <tr>\n",
       "      <th>12632</th>\n",
       "      <td>베놈과 배우 커리어에 큰 혹</td>\n",
       "      <td>NEG</td>\n",
       "      <td>NEG</td>\n",
       "    </tr>\n",
       "    <tr>\n",
       "      <th>12633</th>\n",
       "      <td>갈기갈기 찢는거 기대 했는뎅 ㅠ</td>\n",
       "      <td>NEG</td>\n",
       "      <td>NEG</td>\n",
       "    </tr>\n",
       "    <tr>\n",
       "      <th>12649</th>\n",
       "      <td>김현웅 최영민 윤승만 우리가 보고 평점 써주겠다</td>\n",
       "      <td>NEG</td>\n",
       "      <td>NEG</td>\n",
       "    </tr>\n",
       "    <tr>\n",
       "      <th>12650</th>\n",
       "      <td>지나가던 개 주워다가 영화찍었냐</td>\n",
       "      <td>NEG</td>\n",
       "      <td>NEG</td>\n",
       "    </tr>\n",
       "    <tr>\n",
       "      <th>12653</th>\n",
       "      <td>부실한 설정이랑 스토리그나마 남은 액션도 평범</td>\n",
       "      <td>NEG</td>\n",
       "      <td>NEG</td>\n",
       "    </tr>\n",
       "    <tr>\n",
       "      <th>12654</th>\n",
       "      <td>텐센트 로그 보고 기겁을 했네 ㅅㅂ 중국자본!! 소니는 어메이징 스파이더맨을 벗어날...</td>\n",
       "      <td>NEG</td>\n",
       "      <td>NEG</td>\n",
       "    </tr>\n",
       "    <tr>\n",
       "      <th>12658</th>\n",
       "      <td>욱일기가 초반에 등장한다 역겹다</td>\n",
       "      <td>NEG</td>\n",
       "      <td>NEG</td>\n",
       "    </tr>\n",
       "    <tr>\n",
       "      <th>12664</th>\n",
       "      <td>벌써부터 알바질들이냐? 10점은 거르시면 됩니다 재미도없고 스토리도 편집돼서 산으로...</td>\n",
       "      <td>NEG</td>\n",
       "      <td>NEG</td>\n",
       "    </tr>\n",
       "    <tr>\n",
       "      <th>12665</th>\n",
       "      <td>...ㅁ ㅏ블영화중에..젤유치하구젤지루...ㅠㅠㅠ</td>\n",
       "      <td>NEG</td>\n",
       "      <td>NEG</td>\n",
       "    </tr>\n",
       "    <tr>\n",
       "      <th>12671</th>\n",
       "      <td>010 3680 0686 장난전화환영영화안봐떠오</td>\n",
       "      <td>NEG</td>\n",
       "      <td>NEG</td>\n",
       "    </tr>\n",
       "    <tr>\n",
       "      <th>12676</th>\n",
       "      <td>네놈 이 뭔가요? 포스터가 반말이라 비츄</td>\n",
       "      <td>NEG</td>\n",
       "      <td>NEG</td>\n",
       "    </tr>\n",
       "    <tr>\n",
       "      <th>12677</th>\n",
       "      <td>무슨 스토리 흐름이 케로로야ㅋㅋ지구정복할려는 외계생물이 안간한테 접근하고 기회를 틈...</td>\n",
       "      <td>NEG</td>\n",
       "      <td>NEG</td>\n",
       "    </tr>\n",
       "    <tr>\n",
       "      <th>12681</th>\n",
       "      <td>설정구멍이 뻥뻥 개억지 개연성베놈이 아니라 똥놈</td>\n",
       "      <td>NEG</td>\n",
       "      <td>NEG</td>\n",
       "    </tr>\n",
       "    <tr>\n",
       "      <th>12682</th>\n",
       "      <td>해외판 추석특선영화 (저급한 말장난과 신파극의 콜라보레이션)</td>\n",
       "      <td>NEG</td>\n",
       "      <td>NEG</td>\n",
       "    </tr>\n",
       "    <tr>\n",
       "      <th>12685</th>\n",
       "      <td>쓰레기영화중 하나...  급식 배려해주다가 쫄딱 망하게 생긴 영화</td>\n",
       "      <td>NEG</td>\n",
       "      <td>NEG</td>\n",
       "    </tr>\n",
       "    <tr>\n",
       "      <th>12690</th>\n",
       "      <td>줮블영화 특징: 권선징악</td>\n",
       "      <td>NEG</td>\n",
       "      <td>NEG</td>\n",
       "    </tr>\n",
       "    <tr>\n",
       "      <th>12691</th>\n",
       "      <td>별 한개도 과분한 쓰레기...</td>\n",
       "      <td>NEG</td>\n",
       "      <td>NEG</td>\n",
       "    </tr>\n",
       "    <tr>\n",
       "      <th>12692</th>\n",
       "      <td>미국엔 베놈 우리나라옆에 왜놈 ㅅㅅㅅㅅ</td>\n",
       "      <td>NEG</td>\n",
       "      <td>NEG</td>\n",
       "    </tr>\n",
       "    <tr>\n",
       "      <th>12708</th>\n",
       "      <td>영화수준이 딱 광주폭동같음</td>\n",
       "      <td>NEG</td>\n",
       "      <td>NEG</td>\n",
       "    </tr>\n",
       "  </tbody>\n",
       "</table>\n",
       "<p>266 rows × 3 columns</p>\n",
       "</div>"
      ],
      "text/plain": [
       "                                                 X_train y_pred y_train\n",
       "19                                       검돌이 베놈 다시만나 행복해    NEG     NEG\n",
       "520                                      코인급 떵락이다볼거면 공짜로    NEG     NEG\n",
       "527                         다정한 이웃 스파이더맨에 맞먹는 일심동체 친구 베놈    NEG     NEG\n",
       "542    막판에 캐릭터 넷이 한꺼번에 치고받는 장면이 제일 괜찮았고....전체적으로 굉장히 ...    NEG     NEG\n",
       "543                                      무언가가 부족한느낌의 영호ㅓ    NEG     NEG\n",
       "1184   Ip tv 에 무료로 올라오면 적적할때 딴짓하면서 틀어놓기 딱좋은수준..예고편 액션...    NEG     NEG\n",
       "1210                                          꼬맹이들영화같다..    NEG     NEG\n",
       "1226                                     개연성 밥 말아 먹음ㅋㅋㅋㅋ    NEG     NEG\n",
       "1240   누가 악인인지 주인공이 무슨권리로 인민 재판을한단건지??  마지막에 베놈이 깡패머리...    NEG     NEG\n",
       "1247                        베놈은 마블등급컷 5등급이니까 그냥 공무원시험준비해    NEG     NEG\n",
       "1835                                Mr.V - 당신을 위한 데이트 코치    NEG     NEG\n",
       "1964                                     내년 추석 TV에서 만납시다    NEG     NEG\n",
       "2075   영화수준떨어짐무슨스파이더맨도아니고스토리보면 가관!ㅋㅋㅋㅋ내용없고비쥬얼도개판 진짜프레...    NEG     NEG\n",
       "2557   개연성 일도 없고 이게 무슨 이야기인지...ㅜㅠ 진심 영화관에서 잠만 자고 왔네.....    NEG     NEG\n",
       "2581             텐센트에서 제작비 대서 그런지 짱깨냄새 많이 나는 유치한 b급 영화임.    NEG     NEG\n",
       "2730                            실패한 서사, 힘 못쓰는 피카레스크형 주인공    NEG     NEG\n",
       "2775                                 베놈은 대체 왜 지구를 지키려는거냐    NEG     NEG\n",
       "2892                          대체 얼마나 망쳐야 메타스코어 29점이 나오냐?    NEG     NEG\n",
       "2911                                  좋은 재료를 버무린 싸구려 비빔밥    NEG     NEG\n",
       "2912                                    베놈 공감 vs 암수살인 비공    NEG     NEG\n",
       "2914                                       망작 배우가 아깝다 ㅡㅡ    NEG     NEG\n",
       "2954                            미이라 같은 영화 기획된 유니버스를 말아먹음    NEG     NEG\n",
       "2955   개연성 제로에다 대놓고 설정파괴. 악랄하고 이기적인 베놈이 별 같잖은 이유로 급착해...    NEG     NEG\n",
       "2977       역시 중국 텐센트 자본이 들어가면 망하네....중국화....억지 스토리에 유치찬란    NEG     NEG\n",
       "2994                            중국 자본의 폐헤 삭제 30분 어디갔냐...    NEG     NEG\n",
       "3012                        메타 29 로튼 32 명백한 맹독닦이다 빨아대지마라    NEG     NEG\n",
       "3018   베놈의 급 심성변화도 별로고 외계인이 숙주로 삼았다가 떠나면 숙주는 죽더만 톰하디 ...    NEG     NEG\n",
       "3070                                     믿고 거르는 중국자본 텐센트    NEG     NEG\n",
       "3534                                      낚였다 제대로 낚였다 ..    NEG     NEG\n",
       "3741                              중국자본이라 각본이 이렇다고 말해줘...    NEG     NEG\n",
       "...                                                  ...    ...     ...\n",
       "12547                                  뎃글알바 하지마셈ㅋ뎃알바 다 암    NEG     NEG\n",
       "12548                               이거볼바에 다른거봐라ㅋㅋㅋ 쓰레기영화    NEG     NEG\n",
       "12553                                        이게영화냐 동영상이냐    NEG     NEG\n",
       "12556  영화초반 전범기 장난치냐?? 소니에서 만들었다더니 욱일기 슬쩍 집어넣으면 모를줄 알...    NEG     NEG\n",
       "12557        느금마사로 급 화해 vs 그냥 지구가 좋아진 베놈... 배대슈 의문의 재평가행    NEG     NEG\n",
       "12559  돈아깝고시간아깝고 ;; 검색한 데이터도 아까울지경 ...;; 형편없음 그냥 초딩들 ...    NEG     NEG\n",
       "12571  부모님이 삭제됬네요 개OOOO15세이상인데 3인청소년예약인데 학생증불지참했다고 못보...    NEG     NEG\n",
       "12596                        제점수는요..영화보다 잠듬한 삼십분지나야 베놈시작    NEG     NEG\n",
       "12600                         정말 최악의 영화.... 마블의 탈을 쓴 쓰레기    NEG     NEG\n",
       "12606  ㅡ ㅅ ㅡ 2018 기대작이었. 초반부는 졸렸다.. 자막 시인성 그지. 갑자기 액션...    NEG     NEG\n",
       "12625                                      그냥 광고 그대로인 영화    NEG     NEG\n",
       "12632                                    베놈과 배우 커리어에 큰 혹    NEG     NEG\n",
       "12633                                  갈기갈기 찢는거 기대 했는뎅 ㅠ    NEG     NEG\n",
       "12649                         김현웅 최영민 윤승만 우리가 보고 평점 써주겠다    NEG     NEG\n",
       "12650                                  지나가던 개 주워다가 영화찍었냐    NEG     NEG\n",
       "12653                          부실한 설정이랑 스토리그나마 남은 액션도 평범    NEG     NEG\n",
       "12654  텐센트 로그 보고 기겁을 했네 ㅅㅂ 중국자본!! 소니는 어메이징 스파이더맨을 벗어날...    NEG     NEG\n",
       "12658                                  욱일기가 초반에 등장한다 역겹다    NEG     NEG\n",
       "12664  벌써부터 알바질들이냐? 10점은 거르시면 됩니다 재미도없고 스토리도 편집돼서 산으로...    NEG     NEG\n",
       "12665                        ...ㅁ ㅏ블영화중에..젤유치하구젤지루...ㅠㅠㅠ    NEG     NEG\n",
       "12671                         010 3680 0686 장난전화환영영화안봐떠오    NEG     NEG\n",
       "12676                             네놈 이 뭔가요? 포스터가 반말이라 비츄    NEG     NEG\n",
       "12677  무슨 스토리 흐름이 케로로야ㅋㅋ지구정복할려는 외계생물이 안간한테 접근하고 기회를 틈...    NEG     NEG\n",
       "12681                         설정구멍이 뻥뻥 개억지 개연성베놈이 아니라 똥놈    NEG     NEG\n",
       "12682                  해외판 추석특선영화 (저급한 말장난과 신파극의 콜라보레이션)    NEG     NEG\n",
       "12685               쓰레기영화중 하나...  급식 배려해주다가 쫄딱 망하게 생긴 영화    NEG     NEG\n",
       "12690                                      줮블영화 특징: 권선징악    NEG     NEG\n",
       "12691                                   별 한개도 과분한 쓰레기...    NEG     NEG\n",
       "12692                              미국엔 베놈 우리나라옆에 왜놈 ㅅㅅㅅㅅ    NEG     NEG\n",
       "12708                                     영화수준이 딱 광주폭동같음    NEG     NEG\n",
       "\n",
       "[266 rows x 3 columns]"
      ]
     },
     "execution_count": 91,
     "metadata": {},
     "output_type": "execute_result"
    }
   ],
   "source": [
    "out[y_pred=='NEG']\n"
   ]
  },
  {
   "cell_type": "code",
   "execution_count": 90,
   "metadata": {},
   "outputs": [
    {
     "data": {
      "text/html": [
       "<div>\n",
       "<style scoped>\n",
       "    .dataframe tbody tr th:only-of-type {\n",
       "        vertical-align: middle;\n",
       "    }\n",
       "\n",
       "    .dataframe tbody tr th {\n",
       "        vertical-align: top;\n",
       "    }\n",
       "\n",
       "    .dataframe thead th {\n",
       "        text-align: right;\n",
       "    }\n",
       "</style>\n",
       "<table border=\"1\" class=\"dataframe\">\n",
       "  <thead>\n",
       "    <tr style=\"text-align: right;\">\n",
       "      <th></th>\n",
       "      <th>X_train</th>\n",
       "      <th>y_pred</th>\n",
       "      <th>y_train</th>\n",
       "    </tr>\n",
       "  </thead>\n",
       "  <tbody>\n",
       "  </tbody>\n",
       "</table>\n",
       "</div>"
      ],
      "text/plain": [
       "Empty DataFrame\n",
       "Columns: [X_train, y_pred, y_train]\n",
       "Index: []"
      ]
     },
     "execution_count": 90,
     "metadata": {},
     "output_type": "execute_result"
    }
   ],
   "source": [
    "a[a['y_pred']=='NEU']"
   ]
  },
  {
   "cell_type": "code",
   "execution_count": 126,
   "metadata": {},
   "outputs": [
    {
     "data": {
      "text/plain": [
       "2      POS\n",
       "12     POS\n",
       "13     POS\n",
       "14     POS\n",
       "16     POS\n",
       "21     POS\n",
       "23     POS\n",
       "24     POS\n",
       "27     POS\n",
       "28     POS\n",
       "32     POS\n",
       "33     POS\n",
       "36     POS\n",
       "37     POS\n",
       "42     POS\n",
       "47     POS\n",
       "49     POS\n",
       "53     POS\n",
       "59     POS\n",
       "61     POS\n",
       "74     POS\n",
       "75     POS\n",
       "76     POS\n",
       "78     POS\n",
       "81     POS\n",
       "82     POS\n",
       "85     POS\n",
       "87     POS\n",
       "90     POS\n",
       "91     POS\n",
       "      ... \n",
       "218    POS\n",
       "219    POS\n",
       "221    POS\n",
       "226    POS\n",
       "227    POS\n",
       "234    POS\n",
       "238    POS\n",
       "240    POS\n",
       "242    POS\n",
       "250    POS\n",
       "258    POS\n",
       "259    POS\n",
       "260    POS\n",
       "270    POS\n",
       "273    POS\n",
       "277    POS\n",
       "278    POS\n",
       "279    POS\n",
       "283    POS\n",
       "297    POS\n",
       "298    POS\n",
       "305    POS\n",
       "306    POS\n",
       "316    POS\n",
       "317    POS\n",
       "330    POS\n",
       "333    POS\n",
       "341    POS\n",
       "352    POS\n",
       "356    POS\n",
       "Name: y_pred, Length: 108, dtype: object"
      ]
     },
     "execution_count": 126,
     "metadata": {},
     "output_type": "execute_result"
    }
   ],
   "source": []
  },
  {
   "cell_type": "code",
   "execution_count": null,
   "metadata": {},
   "outputs": [],
   "source": []
  }
 ],
 "metadata": {
  "kernelspec": {
   "display_name": "Python 3",
   "language": "python",
   "name": "python3"
  },
  "language_info": {
   "codemirror_mode": {
    "name": "ipython",
    "version": 3
   },
   "file_extension": ".py",
   "mimetype": "text/x-python",
   "name": "python",
   "nbconvert_exporter": "python",
   "pygments_lexer": "ipython3",
   "version": "3.6.6"
  }
 },
 "nbformat": 4,
 "nbformat_minor": 2
}
