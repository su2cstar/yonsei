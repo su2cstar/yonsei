{
 "cells": [
  {
   "cell_type": "code",
   "execution_count": 1,
   "metadata": {},
   "outputs": [],
   "source": [
    "import re\n",
    "import os\n",
    "import time\n",
    "from concurrent.futures import ThreadPoolExecutor\n",
    "\n",
    "import pandas as pd\n",
    "import numpy as np\n",
    "import konlpy.tag\n",
    "import nltk\n",
    "\n",
    "from konlpy.tag import Komoran\n",
    "from konlpy.tag import Twitter\n",
    "\n",
    "from sklearn.feature_extraction.text import TfidfVectorizer\n",
    "from sklearn.naive_bayes import MultinomialNB\n",
    "from sklearn.linear_model import SGDClassifier\n",
    "from sklearn.metrics import accuracy_score\n",
    "from sklearn.linear_model import LogisticRegression\n",
    "from sklearn.neighbors import KNeighborsClassifier\n",
    "from sklearn.cluster import KMeans"
   ]
  },
  {
   "cell_type": "code",
   "execution_count": 2,
   "metadata": {},
   "outputs": [],
   "source": [
    "df = pd.read_csv('merged_comments.csv')"
   ]
  },
  {
   "cell_type": "code",
   "execution_count": 3,
   "metadata": {},
   "outputs": [],
   "source": [
    "scores = tuple(df.iloc[:,3])\n",
    "texts = tuple(df.iloc[:,4])"
   ]
  },
  {
   "cell_type": "code",
   "execution_count": 4,
   "metadata": {},
   "outputs": [],
   "source": [
    "filtered_texts = []\n",
    "filtered_labels = []\n",
    "\n",
    "for text, score in zip(texts, scores):\n",
    "    if 4 <= score <= 8:\n",
    "        continue\n",
    "        \n",
    "    # 평점 기준으로 문서에 label을 부여\n",
    "    # 1 ~ 4 -> 부정, -1\n",
    "    # 8 ~ 10 -> 긍정, 1\n",
    "    filtered_texts.append(text)\n",
    "    filtered_labels.append(1 if score > 8 else 0)"
   ]
  },
  {
   "cell_type": "code",
   "execution_count": 5,
   "metadata": {},
   "outputs": [],
   "source": [
    "# train test split\n",
    "from sklearn.model_selection import train_test_split\n",
    "train_texts, test_texts, train_labels, test_labels = train_test_split(filtered_texts, filtered_labels, test_size=0.3, random_state=0)"
   ]
  },
  {
   "cell_type": "code",
   "execution_count": 6,
   "metadata": {},
   "outputs": [],
   "source": [
    "def tfidf_extractor(corpus):\n",
    "    # returns a tf-idf based DTM\n",
    "    vectorizer = TfidfVectorizer(min_df=1, \n",
    "                                 norm='l2',\n",
    "                                 smooth_idf=True,\n",
    "                                 use_idf=True,\n",
    "                                 ngram_range=(1,1))\n",
    "    features = vectorizer.fit_transform(corpus)\n",
    "    return vectorizer, features"
   ]
  },
  {
   "cell_type": "code",
   "execution_count": 7,
   "metadata": {},
   "outputs": [],
   "source": [
    "# tfidf matrix를 사용한 경우\n",
    "tfidf_vectorizer, train_tfidf_features = tfidf_extractor(train_texts)\n",
    "test_tfidf_features = tfidf_vectorizer.transform(test_texts)"
   ]
  },
  {
   "cell_type": "code",
   "execution_count": 8,
   "metadata": {},
   "outputs": [
    {
     "data": {
      "text/plain": [
       "((396912, 574866), (170106, 574866))"
      ]
     },
     "execution_count": 8,
     "metadata": {},
     "output_type": "execute_result"
    }
   ],
   "source": [
    "train_tfidf_features.shape, test_tfidf_features.shape"
   ]
  },
  {
   "cell_type": "code",
   "execution_count": 9,
   "metadata": {},
   "outputs": [
    {
     "data": {
      "text/plain": [
       "(396912, 170106)"
      ]
     },
     "execution_count": 9,
     "metadata": {},
     "output_type": "execute_result"
    }
   ],
   "source": [
    "len(train_labels), len(test_labels)"
   ]
  },
  {
   "cell_type": "code",
   "execution_count": 15,
   "metadata": {},
   "outputs": [
    {
     "name": "stderr",
     "output_type": "stream",
     "text": [
      "/home/jydev/anaconda3/lib/python3.6/site-packages/sklearn/linear_model/logistic.py:432: FutureWarning: Default solver will be changed to 'lbfgs' in 0.22. Specify a solver to silence this warning.\n",
      "  FutureWarning)\n"
     ]
    },
    {
     "name": "stdout",
     "output_type": "stream",
     "text": [
      "Misclassified samples: 24484 out of 170106\n",
      "Accuracy: 0.86\n",
      "CPU times: user 1.57 s, sys: 36.1 ms, total: 1.61 s\n",
      "Wall time: 1.6 s\n"
     ]
    }
   ],
   "source": [
    "%%time\n",
    "lr = LogisticRegression(C=0.1, penalty='l1', random_state=0) # Lasso regression\n",
    "lr.fit(train_tfidf_features, train_labels) # 학습\n",
    "lr_pred_labels = lr.predict(test_tfidf_features)\n",
    "print('Misclassified samples: {} out of {}'.format((lr_pred_labels != test_labels).sum(),len(test_labels)))\n",
    "print('Accuracy: %.2f' % accuracy_score(test_labels, lr_pred_labels))"
   ]
  },
  {
   "cell_type": "code",
   "execution_count": 16,
   "metadata": {},
   "outputs": [
    {
     "name": "stdout",
     "output_type": "stream",
     "text": [
      "Misclassified samples: 24123 out of 170106\n",
      "Accuracy: 0.86\n",
      "CPU times: user 167 ms, sys: 3.94 ms, total: 171 ms\n",
      "Wall time: 169 ms\n"
     ]
    }
   ],
   "source": [
    "%%time\n",
    "MNB=MultinomialNB()\n",
    "MNB.fit(train_tfidf_features, train_labels) \n",
    "nb_pred_labels = MNB.predict(test_tfidf_features)\n",
    "print('Misclassified samples: {} out of {}'.format((nb_pred_labels != test_labels).sum(),len(test_labels)))\n",
    "print('Accuracy: %.2f' % accuracy_score(test_labels, nb_pred_labels))"
   ]
  },
  {
   "cell_type": "code",
   "execution_count": 17,
   "metadata": {},
   "outputs": [
    {
     "name": "stderr",
     "output_type": "stream",
     "text": [
      "/home/jydev/anaconda3/lib/python3.6/site-packages/sklearn/linear_model/stochastic_gradient.py:144: FutureWarning: max_iter and tol parameters have been added in SGDClassifier in 0.19. If both are left unset, they default to max_iter=5 and tol=None. If tol is not None, max_iter defaults to max_iter=1000. From 0.21, default max_iter will be 1000, and default tol will be 1e-3.\n",
      "  FutureWarning)\n"
     ]
    },
    {
     "name": "stdout",
     "output_type": "stream",
     "text": [
      "Misclassified samples: 29723 out of 170106\n",
      "Accuracy: 0.83\n",
      "CPU times: user 1.7 s, sys: 11 ms, total: 1.71 s\n",
      "Wall time: 549 ms\n"
     ]
    }
   ],
   "source": [
    "%%time\n",
    "sgd=SGDClassifier()\n",
    "sgd.fit(train_tfidf_features, train_labels) \n",
    "sgd_pred_labels = sgd.predict(test_tfidf_features)\n",
    "print('Misclassified samples: {} out of {}'.format((sgd_pred_labels != test_labels).sum(),len(test_labels)))\n",
    "print('Accuracy: %.2f' % accuracy_score(test_labels, sgd_pred_labels))"
   ]
  },
  {
   "cell_type": "code",
   "execution_count": null,
   "metadata": {},
   "outputs": [],
   "source": [
    "'''\n",
    "%%time\n",
    "knn=KMeans(n_clusters=2)\n",
    "knn.fit(train_tfidf_features, train_labels) \n",
    "pred_labels = knn.predict(test_tfidf_features)\n",
    "print('Misclassified samples: {} out of {}'.format((pred_labels != test_labels).sum(),len(test_labels)))\n",
    "print('Accuracy: %.2f' % accuracy_score(test_labels, pred_labels))\n",
    "'''"
   ]
  },
  {
   "cell_type": "code",
   "execution_count": null,
   "metadata": {},
   "outputs": [],
   "source": [
    "## 2h 43m accuracy 0.86\n",
    "'''\n",
    "%%time\n",
    "from sklearn.ensemble import RandomForestClassifier\n",
    "RFT = RandomForestClassifier(n_estimators =100)\n",
    "RFT.fit(train_tfidf_features, train_labels) \n",
    "pred_labels = RFT.predict(test_tfidf_features)\n",
    "print('Misclassified samples: {} out of {}'.format((pred_labels != test_labels).sum(),len(test_labels)))\n",
    "print('Accuracy: %.2f' % accuracy_score(test_labels, pred_labels))\n",
    "'''"
   ]
  },
  {
   "cell_type": "code",
   "execution_count": null,
   "metadata": {},
   "outputs": [],
   "source": [
    "'''\n",
    "%%time\n",
    "from sklearn.svm import SVC\n",
    "sinvecma = SVC()\n",
    "sinvecma.fit(train_tfidf_features, train_labels) \n",
    "pred_labels = sinvecma.predict(test_tfidf_features)\n",
    "print('Misclassified samples: {} out of {}'.format((pred_labels != test_labels).sum(),len(test_labels)))\n",
    "print('Accuracy: %.2f' % accuracy_score(test_labels, pred_labels))\n",
    "'''"
   ]
  },
  {
   "cell_type": "code",
   "execution_count": 18,
   "metadata": {},
   "outputs": [],
   "source": [
    "ddf = pd.DataFrame([test_texts,list(nb_pred_labels),test_labels]).transpose()"
   ]
  },
  {
   "cell_type": "code",
   "execution_count": 26,
   "metadata": {},
   "outputs": [],
   "source": [
    "ddf.columns=['text','predicted_senti','true_senti']"
   ]
  },
  {
   "cell_type": "code",
   "execution_count": 28,
   "metadata": {},
   "outputs": [
    {
     "data": {
      "text/html": [
       "<div>\n",
       "<style scoped>\n",
       "    .dataframe tbody tr th:only-of-type {\n",
       "        vertical-align: middle;\n",
       "    }\n",
       "\n",
       "    .dataframe tbody tr th {\n",
       "        vertical-align: top;\n",
       "    }\n",
       "\n",
       "    .dataframe thead th {\n",
       "        text-align: right;\n",
       "    }\n",
       "</style>\n",
       "<table border=\"1\" class=\"dataframe\">\n",
       "  <thead>\n",
       "    <tr style=\"text-align: right;\">\n",
       "      <th></th>\n",
       "      <th>text</th>\n",
       "      <th>predicted_senti</th>\n",
       "      <th>true_senti</th>\n",
       "    </tr>\n",
       "  </thead>\n",
       "  <tbody>\n",
       "    <tr>\n",
       "      <th>6</th>\n",
       "      <td>'믿고안보는 손예진..'</td>\n",
       "      <td>1</td>\n",
       "      <td>0</td>\n",
       "    </tr>\n",
       "    <tr>\n",
       "      <th>10</th>\n",
       "      <td>'조조영화 끝나기도전에 평점 올라오는건 뭐지'</td>\n",
       "      <td>1</td>\n",
       "      <td>0</td>\n",
       "    </tr>\n",
       "    <tr>\n",
       "      <th>15</th>\n",
       "      <td>'몇몇 개그로 웃긴 장면 빼고는 그다지 재미가 없음.'</td>\n",
       "      <td>1</td>\n",
       "      <td>0</td>\n",
       "    </tr>\n",
       "    <tr>\n",
       "      <th>16</th>\n",
       "      <td>'똥구멍은 음식의 영양분을 흡수 후 남은 찌거기와 가스가 배출되는 곳. 주용도에 맞...</td>\n",
       "      <td>1</td>\n",
       "      <td>0</td>\n",
       "    </tr>\n",
       "    <tr>\n",
       "      <th>20</th>\n",
       "      <td>'평점조작하는건 쫌 아니자나 아무리그래도'</td>\n",
       "      <td>0</td>\n",
       "      <td>1</td>\n",
       "    </tr>\n",
       "    <tr>\n",
       "      <th>24</th>\n",
       "      <td>'또또 이상하게 흥행하네 요즘 한국영화가 얼마나 노잼이면 이런 영화가 빨리다니'</td>\n",
       "      <td>1</td>\n",
       "      <td>0</td>\n",
       "    </tr>\n",
       "    <tr>\n",
       "      <th>26</th>\n",
       "      <td>'10자쓰기도아깝다10자'</td>\n",
       "      <td>1</td>\n",
       "      <td>0</td>\n",
       "    </tr>\n",
       "    <tr>\n",
       "      <th>27</th>\n",
       "      <td>'네이버네티즌 평점은 못믿겠어요 굉장히 비합리적 평론가 관람객 평점만 남기길'</td>\n",
       "      <td>1</td>\n",
       "      <td>0</td>\n",
       "    </tr>\n",
       "    <tr>\n",
       "      <th>28</th>\n",
       "      <td>'이 영화 볼빠에 비행기 왕복으로 타는게 이득입니다'</td>\n",
       "      <td>1</td>\n",
       "      <td>0</td>\n",
       "    </tr>\n",
       "    <tr>\n",
       "      <th>34</th>\n",
       "      <td>'기대이하네요. 한국에선 염력이란 소재가 참신한데 풀어내는 방식과 스토리가 너무 진...</td>\n",
       "      <td>1</td>\n",
       "      <td>0</td>\n",
       "    </tr>\n",
       "  </tbody>\n",
       "</table>\n",
       "</div>"
      ],
      "text/plain": [
       "                                                 text predicted_senti  \\\n",
       "6                                       '믿고안보는 손예진..'               1   \n",
       "10                          '조조영화 끝나기도전에 평점 올라오는건 뭐지'               1   \n",
       "15                     '몇몇 개그로 웃긴 장면 빼고는 그다지 재미가 없음.'               1   \n",
       "16  '똥구멍은 음식의 영양분을 흡수 후 남은 찌거기와 가스가 배출되는 곳. 주용도에 맞...               1   \n",
       "20                            '평점조작하는건 쫌 아니자나 아무리그래도'               0   \n",
       "24       '또또 이상하게 흥행하네 요즘 한국영화가 얼마나 노잼이면 이런 영화가 빨리다니'               1   \n",
       "26                                     '10자쓰기도아깝다10자'               1   \n",
       "27        '네이버네티즌 평점은 못믿겠어요 굉장히 비합리적 평론가 관람객 평점만 남기길'               1   \n",
       "28                      '이 영화 볼빠에 비행기 왕복으로 타는게 이득입니다'               1   \n",
       "34  '기대이하네요. 한국에선 염력이란 소재가 참신한데 풀어내는 방식과 스토리가 너무 진...               1   \n",
       "\n",
       "   true_senti  \n",
       "6           0  \n",
       "10          0  \n",
       "15          0  \n",
       "16          0  \n",
       "20          1  \n",
       "24          0  \n",
       "26          0  \n",
       "27          0  \n",
       "28          0  \n",
       "34          0  "
      ]
     },
     "execution_count": 28,
     "metadata": {},
     "output_type": "execute_result"
    }
   ],
   "source": [
    "ddf[ddf['predicted_senti']!=ddf['true_senti']].head(10)"
   ]
  },
  {
   "cell_type": "code",
   "execution_count": 29,
   "metadata": {},
   "outputs": [
    {
     "data": {
      "text/html": [
       "<div>\n",
       "<style scoped>\n",
       "    .dataframe tbody tr th:only-of-type {\n",
       "        vertical-align: middle;\n",
       "    }\n",
       "\n",
       "    .dataframe tbody tr th {\n",
       "        vertical-align: top;\n",
       "    }\n",
       "\n",
       "    .dataframe thead th {\n",
       "        text-align: right;\n",
       "    }\n",
       "</style>\n",
       "<table border=\"1\" class=\"dataframe\">\n",
       "  <thead>\n",
       "    <tr style=\"text-align: right;\">\n",
       "      <th></th>\n",
       "      <th>text</th>\n",
       "      <th>predicted_senti</th>\n",
       "      <th>true_senti</th>\n",
       "    </tr>\n",
       "  </thead>\n",
       "  <tbody>\n",
       "    <tr>\n",
       "      <th>0</th>\n",
       "      <td>'안 지루했고 아프리카, 여자, 흑인을 주요소로 신선하게 이야기를 풀어나가는게 도전...</td>\n",
       "      <td>1</td>\n",
       "      <td>1</td>\n",
       "    </tr>\n",
       "    <tr>\n",
       "      <th>1</th>\n",
       "      <td>'엑스포스 다 죽을때 웃겨 죽는줄 ㅎㅎ'</td>\n",
       "      <td>1</td>\n",
       "      <td>1</td>\n",
       "    </tr>\n",
       "    <tr>\n",
       "      <th>2</th>\n",
       "      <td>'3탄 나오겠네... 이거 3탄 안나오면 소비자 기만 수준임. 판을 아주 다 깔아 ...</td>\n",
       "      <td>1</td>\n",
       "      <td>1</td>\n",
       "    </tr>\n",
       "    <tr>\n",
       "      <th>3</th>\n",
       "      <td>'안도 사쿠라의 연기를 보면 \"어쩜 저렇게 연기를 잘할까\"라는 감탄이 아니라 \"정말...</td>\n",
       "      <td>1</td>\n",
       "      <td>1</td>\n",
       "    </tr>\n",
       "    <tr>\n",
       "      <th>4</th>\n",
       "      <td>'7살아들이 너무 재미있게 봤어요'</td>\n",
       "      <td>1</td>\n",
       "      <td>1</td>\n",
       "    </tr>\n",
       "    <tr>\n",
       "      <th>5</th>\n",
       "      <td>'미소는 담배와 위스키한잔으로 겨우 버티는것이다. 집 없어도 내 인생이 있다며 자족...</td>\n",
       "      <td>1</td>\n",
       "      <td>1</td>\n",
       "    </tr>\n",
       "    <tr>\n",
       "      <th>7</th>\n",
       "      <td>'이 영화보고 7년 사귀고 헤어진 여자친구 다시 만날 수 있었습니다. 현실적이라 좋...</td>\n",
       "      <td>1</td>\n",
       "      <td>1</td>\n",
       "    </tr>\n",
       "    <tr>\n",
       "      <th>8</th>\n",
       "      <td>'감동적이고 너무 재미있었어요눈물도 났음ㅋ'</td>\n",
       "      <td>1</td>\n",
       "      <td>1</td>\n",
       "    </tr>\n",
       "    <tr>\n",
       "      <th>9</th>\n",
       "      <td>'장 꼬여서 방구 존내 나옴.'</td>\n",
       "      <td>1</td>\n",
       "      <td>1</td>\n",
       "    </tr>\n",
       "    <tr>\n",
       "      <th>11</th>\n",
       "      <td>'난 넘 재밌게 봤는데 3편 꼭 나왔으면'</td>\n",
       "      <td>1</td>\n",
       "      <td>1</td>\n",
       "    </tr>\n",
       "  </tbody>\n",
       "</table>\n",
       "</div>"
      ],
      "text/plain": [
       "                                                 text predicted_senti  \\\n",
       "0   '안 지루했고 아프리카, 여자, 흑인을 주요소로 신선하게 이야기를 풀어나가는게 도전...               1   \n",
       "1                              '엑스포스 다 죽을때 웃겨 죽는줄 ㅎㅎ'               1   \n",
       "2   '3탄 나오겠네... 이거 3탄 안나오면 소비자 기만 수준임. 판을 아주 다 깔아 ...               1   \n",
       "3   '안도 사쿠라의 연기를 보면 \"어쩜 저렇게 연기를 잘할까\"라는 감탄이 아니라 \"정말...               1   \n",
       "4                                 '7살아들이 너무 재미있게 봤어요'               1   \n",
       "5   '미소는 담배와 위스키한잔으로 겨우 버티는것이다. 집 없어도 내 인생이 있다며 자족...               1   \n",
       "7   '이 영화보고 7년 사귀고 헤어진 여자친구 다시 만날 수 있었습니다. 현실적이라 좋...               1   \n",
       "8                            '감동적이고 너무 재미있었어요눈물도 났음ㅋ'               1   \n",
       "9                                   '장 꼬여서 방구 존내 나옴.'               1   \n",
       "11                            '난 넘 재밌게 봤는데 3편 꼭 나왔으면'               1   \n",
       "\n",
       "   true_senti  \n",
       "0           1  \n",
       "1           1  \n",
       "2           1  \n",
       "3           1  \n",
       "4           1  \n",
       "5           1  \n",
       "7           1  \n",
       "8           1  \n",
       "9           1  \n",
       "11          1  "
      ]
     },
     "execution_count": 29,
     "metadata": {},
     "output_type": "execute_result"
    }
   ],
   "source": [
    "ddf[ddf['predicted_senti']==ddf['true_senti']].head(10)"
   ]
  },
  {
   "cell_type": "code",
   "execution_count": null,
   "metadata": {},
   "outputs": [],
   "source": []
  }
 ],
 "metadata": {
  "kernelspec": {
   "display_name": "Python 3",
   "language": "python",
   "name": "python3"
  },
  "language_info": {
   "codemirror_mode": {
    "name": "ipython",
    "version": 3
   },
   "file_extension": ".py",
   "mimetype": "text/x-python",
   "name": "python",
   "nbconvert_exporter": "python",
   "pygments_lexer": "ipython3",
   "version": "3.6.6"
  }
 },
 "nbformat": 4,
 "nbformat_minor": 2
}
