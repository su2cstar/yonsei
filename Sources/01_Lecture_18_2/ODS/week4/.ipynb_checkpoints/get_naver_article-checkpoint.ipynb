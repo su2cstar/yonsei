{
 "cells": [
  {
   "cell_type": "code",
   "execution_count": 1,
   "metadata": {
    "collapsed": true
   },
   "outputs": [],
   "source": [
    "import requests\n",
    "from bs4 import BeautifulSoup"
   ]
  },
  {
   "cell_type": "code",
   "execution_count": 2,
   "metadata": {
    "collapsed": true
   },
   "outputs": [],
   "source": [
    "def get_article(url):\n",
    "    # Obtain three types of information about a news article\n",
    "    r = requests.get(url)\n",
    "    soup = BeautifulSoup(r.text, 'lxml')\n",
    "    news_title = soup.title.text\n",
    "    publisher = soup.find('meta', attrs={'name':'twitter:creator'}).get('content')\n",
    "    news_content = soup.find('div', attrs = {'id':'articleBodyContents'}).text\n",
    "    news_content = news_content.split('{}')[1].strip()\n",
    "    return news_title, publisher, news_content"
   ]
  },
  {
   "cell_type": "code",
   "execution_count": 3,
   "metadata": {
    "collapsed": true
   },
   "outputs": [],
   "source": [
    "url = 'https://news.naver.com/main/read.nhn?oid=421&sid1=101&aid=0003525799&mid=shm&mode=LSD&nh=20180808204753'\n",
    "title, publisher, content = get_article(url)"
   ]
  },
  {
   "cell_type": "code",
   "execution_count": 4,
   "metadata": {},
   "outputs": [
    {
     "name": "stdout",
     "output_type": "stream",
     "text": [
      "국토부, BMW 운행중지명령 검토…발동시 14일 이후 적용(종합2보) : 네이버 뉴스\n",
      "뉴스1\n",
      "김현미 장관 \"안전진단 미흡차량 운행중지명령 검토\"  늑장리콜·차량결함 은폐축소 제작사 '퇴출' 경고© News1 방은영 디자이너(서울=뉴스1) 김희준 기자 = 정부가 안전진단을 못 받았거나 안전진단 결과 위험성이 있는 것으로 판단된 BMW 차량에 대해 운행정지명령을 발동하는 방안을 검토한다. 운행정지명령이 발동되면 해당 차량에 대한 긴급안전진단이 종료되는 14일 이후 각 지자체를 중심으로 해당명령이 시행될 전망이다. 김현미 국토교통부 장관은 8일 경기도 화성에 있는 교통안전공단 자동차안전연구원을 방문, 긴급 브리핑을 통해 “정부는 현재 국민의 안전을 위해 안전진단을 받지 않은 차량과 안전진단 결과 위험이 있는 것으로 판단된 차량에 대해 운행정지 명령을 발동하는 방안을 검토하고 있다”고 말했다. 그는 \"리콜 대상 BMW 차량 소유주들이 본인의 잘못이 아님에도 이미 큰 불편을 겪고 있다는 점을 잘 알고 있지만 터널이나 주유소, 주차장 등 공공장소에서의 예기치 못한 차량 화재가 발생하면 더 큰 사고로 이어질 수 있다”고 이유를 설명했다.현행 자동차관리법 37조에 따르면 운행중지명령은 시장·군수·구청장의 권한이다. 따라서 국토부는 이에 근거해 운행정지명령을 발동할 경우 전국 지자체에 협조요청을 할 공산이 크다. 지자체가 요청을 받아들이게 되면 BMW 차량에 대한 긴급안전진단이 끝나는 14일 이후부터 안전진단을 받지 않았거나 안전진단 결과 화재 위험이 있다고 판명됐지만 부품을 교체하지 못한 BMW 차량을 대상으로 번호판 영치와 운행중지명령을 내리게 된다. 김 장관은 또 이날 브리핑에서 \"화재발생 원인에 대해 제기된 모든 원인에 대해 철저하게 조사할 계획\"이라며 \"많은 전문가의 참여를 통해 조사 기간을 단축시켜 최대한 올해 안에 조사를 완료하겠다\"고 강조했다. 특히 김 장관은 \"대한민국 국민의 생명이 걸린 문제인데 일반적인 조사기간인 10개월은 너무 길다\"며 \"소비자들의 불안이 조속히 해결될 수 있도록 정부가 할 수 있는 모든 조치를 취하겠다\"고 약속했다. 김 장관은 \"관계기관 협의를 통해 징벌적 손해배상제도(실제 손해액보다 훨씬 더 많은 배상액을 물게 하는 제도)를 도입하는 방안을 추진할 것\"이라며 \"늑장 리콜이나 고의로 결함 사실을 은폐·축소하는 제작사는 다시는 발을 붙이지 못할 정도의 엄중한 처벌을 받도록 제도를 강화하겠다\"고 강조했다. 이와 관련 국토부는 차량 결함을 은폐 및 축소하면 최대 1000만원까지 과징금을 부과할 수 있도록 한 규정을 해당 차종 매출액의 1%로 바꾸는 방안을 검토 중이다. 징벌적 손해배상제도의 경우 이를 관할하는 공정거래위원회와 논의해 현행 자동차관리법에 이를 위한 법적 근거를 마련하고 이번 사태의 적용여부를 살펴본다는 방침이다. BMW 차량 피해에 대한 집단소송제 도입도 유력하다. 집단소송제란 한 피해자가 대표로 소송을 하면 판결 효력을 모든 피해자가 공유하는 제도다. 다만 이 역시 공정위와 법무부의 협의가 필요하다. 김 장관은 \"리콜대상 BMW 차주들은 14일까지 긴급안전진단을 빠짐없이 받고 안전진단을 받기 전에는 운행을 자제해 달라\"고 재차 권고했다. 한편 국토부는 BMW 차량 화재 원인의 신속한 규명을 위해 BMW 본사와 제작공장에 대한 현지 방문조사도 실시한다. 이날 국회 자유한국당 홍철호 의원(경기 김포시을, 국토교통위원회)에 따르면 국토부는 BMW 리콜사태와 관련해 신속하고 효과적인 대책 마련을 요구한 홍 의원에게 독일 현지의 BMW 본사 및 제작공장을 방문조사할 예정이라고 답했다. 국토부는 답변서에서 “현재 화재원인 규명을 위해 민간전문가 참여를 통한 공동조사를 실시하고 있으며 \"필요시 민간전문가 중심으로 독일 BMW 본사 및 제작공장을 방문조사하겠다\"고 밝혔다. h9913@news1.kr▶ [뉴스1] 채널설정하기 ▶ 제보하기▶ [페이스북] 바로가기![© 뉴스1코리아(news1.kr), 무단 전재 및 재배포 금지]\n"
     ]
    }
   ],
   "source": [
    "print(title)\n",
    "print(publisher)\n",
    "print(content)"
   ]
  },
  {
   "cell_type": "code",
   "execution_count": null,
   "metadata": {
    "collapsed": true
   },
   "outputs": [],
   "source": []
  }
 ],
 "metadata": {
  "kernelspec": {
   "display_name": "Python 3",
   "language": "python",
   "name": "python3"
  },
  "language_info": {
   "codemirror_mode": {
    "name": "ipython",
    "version": 3
   },
   "file_extension": ".py",
   "mimetype": "text/x-python",
   "name": "python",
   "nbconvert_exporter": "python",
   "pygments_lexer": "ipython3",
   "version": "3.6.5"
  }
 },
 "nbformat": 4,
 "nbformat_minor": 2
}
