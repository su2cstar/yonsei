{
 "cells": [
  {
   "cell_type": "code",
   "execution_count": 1,
   "metadata": {
    "collapsed": true
   },
   "outputs": [],
   "source": [
    "from bs4 import BeautifulSoup # import BeautifulSoup"
   ]
  },
  {
   "cell_type": "code",
   "execution_count": 2,
   "metadata": {
    "collapsed": true
   },
   "outputs": [],
   "source": [
    "with open('html_test.html', 'r', encoding = 'utf-8') as f: # reading the html code\n",
    "    text = f.read()"
   ]
  },
  {
   "cell_type": "code",
   "execution_count": 3,
   "metadata": {},
   "outputs": [
    {
     "name": "stdout",
     "output_type": "stream",
     "text": [
      "﻿<html lang=\"ko\">\n",
      "\t<head>\n",
      "\t\t<title> Online Data Scraping Test</title>\n",
      "\t</head>\n",
      "\n",
      "\t<body>\n",
      "\t\t<p class=\"title\">HTML code for the lecture</p>\n",
      "\t\t<p class=\"description\">This code will be used as HTML source code for the BS lecture. For more detailed information about BS, you can click\n",
      "\t\t\t<a class=\"BS_English\" href=\"http://www.pythonforbeginners.com/python-on-the-web/beautifulsoup-4-python/\"> BS4 for beginners</a></p>\n",
      "\t\t<p class=\"description\">한국어로 된 정보를 원한다면\n",
      "\t\t\t<a class=\"BS_Korean\" href=\"http://coreapython.hosting.paran.com/etc/beautifulsoup4.html\"> BS4 for beginners (한글버전)</a>을 이용하세요</p>\n",
      "\t\t<div>\n",
      "\t\t\t<p><span class=\"red_price\">35.6</span></p>\n",
      "\t\t\t<p><span class=\"blue_price\">43.2</span></p>\n",
      "\t\t\t<p><span method=\"manual\">24.3</span></p>\n",
      "\t\t</div>\n",
      "\t</body>\n",
      "</html>\n",
      "\n",
      "\n",
      "\n"
     ]
    }
   ],
   "source": [
    "print(text)"
   ]
  },
  {
   "cell_type": "code",
   "execution_count": 4,
   "metadata": {
    "collapsed": true
   },
   "outputs": [],
   "source": [
    "soup=BeautifulSoup(text, 'lxml') # create a BS instance with two parameters"
   ]
  },
  {
   "cell_type": "code",
   "execution_count": 5,
   "metadata": {},
   "outputs": [
    {
     "name": "stdout",
     "output_type": "stream",
     "text": [
      "<html lang=\"ko\">\n",
      "<head>\n",
      "<title> Online Data Scraping Test</title>\n",
      "</head>\n",
      "<body>\n",
      "<p class=\"title\">HTML code for the lecture</p>\n",
      "<p class=\"description\">This code will be used as HTML source code for the BS lecture. For more detailed information about BS, you can click\n",
      "\t\t\t<a class=\"BS_English\" href=\"http://www.pythonforbeginners.com/python-on-the-web/beautifulsoup-4-python/\"> BS4 for beginners</a></p>\n",
      "<p class=\"description\">한국어로 된 정보를 원한다면\n",
      "\t\t\t<a class=\"BS_Korean\" href=\"http://coreapython.hosting.paran.com/etc/beautifulsoup4.html\"> BS4 for beginners (한글버전)</a>을 이용하세요</p>\n",
      "<div>\n",
      "<p><span class=\"red_price\">35.6</span></p>\n",
      "<p><span class=\"blue_price\">43.2</span></p>\n",
      "<p><span method=\"manual\">24.3</span></p>\n",
      "</div>\n",
      "</body>\n",
      "</html>\n",
      "\n"
     ]
    }
   ],
   "source": [
    "print(soup)"
   ]
  },
  {
   "cell_type": "code",
   "execution_count": 6,
   "metadata": {},
   "outputs": [
    {
     "name": "stdout",
     "output_type": "stream",
     "text": [
      " Online Data Scraping Test\n"
     ]
    }
   ],
   "source": [
    "print(soup.title.text) # find a tag using its name"
   ]
  },
  {
   "cell_type": "code",
   "execution_count": 8,
   "metadata": {},
   "outputs": [
    {
     "name": "stdout",
     "output_type": "stream",
     "text": [
      "HTML code for the lecture\n"
     ]
    }
   ],
   "source": [
    "print(soup.find('p', attrs={'class':'title'}).text) # find a tag using the 'find()' function"
   ]
  },
  {
   "cell_type": "code",
   "execution_count": 9,
   "metadata": {},
   "outputs": [
    {
     "name": "stdout",
     "output_type": "stream",
     "text": [
      "http://coreapython.hosting.paran.com/etc/beautifulsoup4.html\n"
     ]
    }
   ],
   "source": [
    "print(soup.find_all('a')[1].get('href')) # extracting the value of a tag's attribute (in this case, 'href')"
   ]
  },
  {
   "cell_type": "code",
   "execution_count": null,
   "metadata": {
    "collapsed": true
   },
   "outputs": [],
   "source": []
  }
 ],
 "metadata": {
  "kernelspec": {
   "display_name": "Python 3",
   "language": "python",
   "name": "python3"
  },
  "language_info": {
   "codemirror_mode": {
    "name": "ipython",
    "version": 3
   },
   "file_extension": ".py",
   "mimetype": "text/x-python",
   "name": "python",
   "nbconvert_exporter": "python",
   "pygments_lexer": "ipython3",
   "version": "3.6.5"
  }
 },
 "nbformat": 4,
 "nbformat_minor": 2
}
