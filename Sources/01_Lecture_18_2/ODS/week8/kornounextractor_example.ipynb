{
 "cells": [
  {
   "cell_type": "code",
   "execution_count": 1,
   "metadata": {
    "collapsed": true
   },
   "outputs": [],
   "source": [
    "import requests\n",
    "from bs4 import BeautifulSoup"
   ]
  },
  {
   "cell_type": "code",
   "execution_count": 2,
   "metadata": {
    "collapsed": true
   },
   "outputs": [],
   "source": [
    "def get_article(url):\n",
    "    # Obtain three types of information about a news article\n",
    "    r = requests.get(url)\n",
    "    soup = BeautifulSoup(r.text, 'lxml')\n",
    "    news_title = soup.title.text\n",
    "    publisher = soup.find('meta', attrs={'name':'twitter:creator'}).get('content')\n",
    "    news_content = soup.find('div', attrs = {'id':'articleBodyContents'}).text\n",
    "    news_content = news_content.split('{}')[1].strip()\n",
    "    return news_title, publisher, news_content"
   ]
  },
  {
   "cell_type": "code",
   "execution_count": 3,
   "metadata": {
    "collapsed": true
   },
   "outputs": [],
   "source": [
    "url = 'https://news.naver.com/main/read.nhn?oid=421&sid1=100&aid=0003646082&mid=shm&mode=LSD&nh=20181018225255'\n",
    "title, publisher, content = get_article(url)"
   ]
  },
  {
   "cell_type": "code",
   "execution_count": 4,
   "metadata": {
    "collapsed": true
   },
   "outputs": [],
   "source": [
    "from kornounextractor.noun_extractor import extract"
   ]
  },
  {
   "cell_type": "code",
   "execution_count": 5,
   "metadata": {},
   "outputs": [
    {
     "name": "stdout",
     "output_type": "stream",
     "text": [
      "['ASEM', 'CVID', 'kr', 'news1', 'silverpaper', '訪北', '가속페달', '가톨릭', '강조', '개최', '거절의사', '검증가능', '계기', '공식', '교황', '교황궁', '교황서재', '교황청', '구독', '국무위원장', '국민소통수석', '국제사회', '글로벌바이오포럼', '금지', '기반', '기세', '기자', '김정은', '내년', '네이버', '노력', '뉴스1', '뉴스1코리아', '단독', '대북제재', '대통령', '독일', '러시아', '만남', '메인', '면담', '모양새', '무단', '문맥', '문재인', '미국', '바티칸', '방문', '방북', '방북시점', '배석', '배석자', '보유', '북미정상회담', '불가역적', '브뤼셀', '블록체인', '비밀', '비상임이사국', '비핵화', '사전', '상당', '상임이사국', '상징', '선출', '설득', '설득작업', '수석', '수장', '시점', '신부', '신속', '신자', '아셈', '아시아', '악수', '안보리', '알현', '언급', '에마뉘엘', '역사', '영국', '영향', '예방', '오픈', '오후', '완전', '완화', '원론', '원칙', '원활', '위원장', '유럽정상회', '윤영찬', '응답', '의미', '의사', '의사소통', '의의', '이례', '인구', '일정', '자리', '자체', '작업', '재배포', '적극', '전망', '전세계', '전재', '정상회담', '제12차', '제2차', '주장', '중국', '참가', '참석', '처음', '청와대', '초청장', '촉구', '촉진', '총리', '추진', '탄력', '태국', '통역', '파급력', '페이스북', '평이', '평화프로세스', '풀이', '프란치스코', '프랑스', '필요', '한국정부', '한반도', '한현택', '해석', '현지시간', '협의']\n"
     ]
    }
   ],
   "source": [
    "print(sorted(extract(content, freq=1.0)))"
   ]
  },
  {
   "cell_type": "code",
   "execution_count": 6,
   "metadata": {
    "collapsed": true
   },
   "outputs": [],
   "source": [
    "with open('dic.txt', 'w', encoding='utf8') as f:\n",
    "    for word in sorted(extract(content, freq=1)):\n",
    "        f.write(word+'\\tNNG\\n')"
   ]
  },
  {
   "cell_type": "code",
   "execution_count": 7,
   "metadata": {
    "collapsed": true
   },
   "outputs": [],
   "source": [
    "import konlpy.tag"
   ]
  },
  {
   "cell_type": "code",
   "execution_count": 8,
   "metadata": {
    "collapsed": true
   },
   "outputs": [],
   "source": [
    "komo1 = konlpy.tag.Komoran()"
   ]
  },
  {
   "cell_type": "code",
   "execution_count": 10,
   "metadata": {},
   "outputs": [
    {
     "name": "stdout",
     "output_type": "stream",
     "text": [
      "['.kr', '2020년', '가속', '가역', '가톨릭', '감지', '강조', '개최', '거절', '검증', '것', '계기', '곳', '공개', '공식', '교', '교황', '교황청', '구독', '국무위원', '국민', '국제', '글로벌', '금지', '기반', '기세', '기자', '김', '김정은', '내년', '내용', '네이버', '노력', '뉴스1', '다만', '단독', '답', '대북', '대통령', '데', '독일', '동안', '등', '땅', '때문', '뜻', '러시아', '력', '만남', '말', '말라', '메인', '면담', '명', '모양새', '무단', '문', '문맥', '문재인', '미국', '미사', '바', '바이오', '바티칸', '방문', '방북', '배석', '배포', '벨기에', '보유', '북미', '북한', '분', '브뤼셀', '블록체인', '비밀', '비핵화', '사실', '사이', '사전', '사회', '상당', '상임', '상징', '서재', '선출', '설득', '성사', '세계 인구', '소영', '소통', '수', '수석', '수장', '시', '시간', '시점', '신부', '신속', '신자', '아셈', '아시아', '악수', '안보리', '알현', '앞', '언급', '에마', '역사', '연설', '영국', '영향', '예방', '오픈', '오후', '완전', '완화', '외', '요청', '원론', '원칙', '원활', '위원장', '유럽', '유럽정상회의', '유엔', '윤', '윤영', '응답', '의미', '의사', '의사소통', '의의', '이날', '이례', '이사국', '일', '일정', '있다', '자', '자리', '자체', '작업', '장의', '적극', '전망', '전재', '정도', '정부', '정상회담', '제재', '주장', '중', '중국', '지지', '차', '차례', '참가', '참석', '처음', '청와대', '초청', '초청장', '촉구', '촉진', '총리', '추진', '코리아', '탄력', '태국', '통역', '파급', '페달', '페이스북', '평', '평화', '포럼', '풀이', '프란치스코', '프랑스', '프로세스', '필요', '하지', '한', '한국', '한반도', '한편', '한현택', '해석', '현지', '협의', '화', '황궁', '힘']\n"
     ]
    }
   ],
   "source": [
    "print(sorted(set(komo1.nouns(content))))"
   ]
  },
  {
   "cell_type": "code",
   "execution_count": 11,
   "metadata": {
    "collapsed": true
   },
   "outputs": [],
   "source": [
    "komo2 = konlpy.tag.Komoran(userdic='dic.txt')"
   ]
  },
  {
   "cell_type": "code",
   "execution_count": 12,
   "metadata": {},
   "outputs": [
    {
     "name": "stdout",
     "output_type": "stream",
     "text": [
      "['.kr', '2020년', 'ASEM', 'CVID', 'news1', '訪北', '가속', '가속페달', '가톨릭', '감지', '강조', '개최', '거절의사', '검증가능', '것', '계기', '곳', '공개', '공식', '교황', '교황궁', '교황서재', '교황청', '구독', '국무위원장', '국민소통수석', '국제사회', '글로벌바이오포럼', '금지', '기반', '기세', '기자', '김', '김정은', '내년', '내용', '네이버', '노력', '뉴스1', '뉴스1코리아', '다만', '단독', '답', '대북제재', '대통령', '데', '독일', '동안', '등', '땅', '때문', '뜻', '러시아', '만남', '말', '말라', '메인', '면담', '명', '모양새', '무단', '문', '문맥', '문재인', '미국', '미사', '바', '바티칸', '방문', '방북', '방북시점', '배석', '배석자', '벨기에', '보유', '북미정상회담', '북한', '분', '불가역적', '브뤼셀', '블록체인', '비밀', '비상임이사국', '비핵화', '사실', '사이', '사전', '상당', '상임이사국', '상징', '선출', '설득', '설득작업', '성사', '소영', '수', '수석', '수장', '시', '시점', '신부', '신속', '신자', '아셈', '아시아', '악수', '안보리', '알현', '앞', '언급', '에마뉘엘', '역사', '연설', '영국', '영향', '예방', '오픈', '오후', '완전', '완화', '외', '요청', '원론', '원칙', '원활', '위원장', '유럽', '유럽정상회', '유엔', '윤', '윤영찬', '응답', '의미', '의사', '의사소통', '의의', '이날', '이례', '인구', '일', '일정', '있다', '자리', '자체', '작업', '재배포', '적극', '전망', '전세계', '전재', '정도', '정상회담', '제12차', '제2차', '주장', '중', '중국', '지지', '차례', '참가', '참석', '처음', '청와대', '초청', '초청장', '촉구', '촉진', '총리', '추진', '탄력', '태국', '통역', '파급력', '페이스북', '평', '평화', '평화프로세스', '풀이', '프란치스코', '프랑스', '필요', '하지', '한국정부', '한반도', '한편', '한현택', '해석', '현지시간', '협의', '힘']\n"
     ]
    }
   ],
   "source": [
    "print(sorted(set(komo2.nouns(content))))"
   ]
  },
  {
   "cell_type": "code",
   "execution_count": null,
   "metadata": {
    "collapsed": true
   },
   "outputs": [],
   "source": []
  }
 ],
 "metadata": {
  "kernelspec": {
   "display_name": "Python 3",
   "language": "python",
   "name": "python3"
  },
  "language_info": {
   "codemirror_mode": {
    "name": "ipython",
    "version": 3
   },
   "file_extension": ".py",
   "mimetype": "text/x-python",
   "name": "python",
   "nbconvert_exporter": "python",
   "pygments_lexer": "ipython3",
   "version": "3.6.1"
  }
 },
 "nbformat": 4,
 "nbformat_minor": 2
}
