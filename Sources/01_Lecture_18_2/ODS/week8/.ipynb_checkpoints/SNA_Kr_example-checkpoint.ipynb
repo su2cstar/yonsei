{
 "cells": [
  {
   "cell_type": "code",
   "execution_count": 1,
   "metadata": {
    "collapsed": true
   },
   "outputs": [],
   "source": [
    "import requests\n",
    "from bs4 import BeautifulSoup"
   ]
  },
  {
   "cell_type": "code",
   "execution_count": 2,
   "metadata": {
    "collapsed": true
   },
   "outputs": [],
   "source": [
    "def get_article(url):\n",
    "    # Obtain three types of information about a news article\n",
    "    r = requests.get(url)\n",
    "    soup = BeautifulSoup(r.text, 'lxml')\n",
    "    news_title = soup.title.text\n",
    "    publisher = soup.find('meta', attrs={'name':'twitter:creator'}).get('content')\n",
    "    news_content = soup.find('div', attrs = {'id':'articleBodyContents'}).text\n",
    "    news_content = news_content.split('{}')[1].strip()\n",
    "    return news_title, publisher, news_content"
   ]
  },
  {
   "cell_type": "code",
   "execution_count": 3,
   "metadata": {
    "collapsed": true
   },
   "outputs": [],
   "source": [
    "url = 'https://news.naver.com/main/read.nhn?oid=421&sid1=100&aid=0003646082&mid=shm&mode=LSD&nh=20181018225255'\n",
    "title, publisher, content = get_article(url)"
   ]
  },
  {
   "cell_type": "code",
   "execution_count": 4,
   "metadata": {},
   "outputs": [
    {
     "data": {
      "text/plain": [
       "'아셈 계기 영국·독일·태국 정상회담…대북제재 완화 설득 가속화문재인 대통령이 18일 오후(현지시간) 바티칸 교황청을 방문해 프란치스코 교황과 악수하고 있다. (청와대 페이스북) 2018.10.18/뉴스1(바티칸=뉴스1) 조소영 기자 = 프란치스코 교황이 18일(현지시간) 문재인 대통령과의 만남에서 사실상 방북(訪北)의사를 밝힘에 따라 문 대통령의 \\'한반도 평화프로세스\\' 추진에 상당한 힘이 실리게 됐다. 문 대통령은 교황의 지지를 기반으로 제2차 북미정상회담의 신속한 개최를 촉구하고 국제사회에 북한의 비핵화를 촉진하기 위해선 대북제재 완화가 일정 정도 필요하다는 주장을 이어갈 것으로 보인다.문 대통령은 이날 오후 12시5분 바티칸 교황궁 내 교황서재에서 40분 동안 프란치스코 교황을 단독 예방했다. 교황과의 만남은 원활한 의사소통을 위한 통역 외에 배석자 없이 \\'비밀\\'로 이뤄진다는 원칙에 따라 이날 예방도 통역을 위해 자리한 한현택 신부 외 누구도 배석하지 않은 것으로 전해졌다.다만 사전에 청와대와 바티칸 사이 협의를 거쳐 이례적으로 면담의 주요내용이 공개됐다. 이에 따라 윤영찬 청와대 국민소통수석이 밝힌 데 따르면 교황은 문 대통령이 김정은 북한 국무위원장의 방북 초청 의사를 전하면서 \"김 위원장이 초청장을 보내도 좋겠느냐\"고 하자 \"공식 초청장을 보내주면 좋겠다\"고 했다.교황은 이어 \"초청장이 오면 무조건 응답을 줄 것이고 나는 갈 수 있다\"고 했다. \\'북한을 갈 수 있다\\'고 완벽히 언급하지는 않았지만 문맥상 이는 북한 땅을 밟겠다는 뜻으로 해석됐다. 교황은 그러면서 \"한반도에서 평화프로세스를 추진 중인 한국정부의 노력을 강력히 지지한다\"며 \"멈추지 말고 앞으로 나아가라. 두려워하지 말라\"고 하면서 이 해석에 힘을 보탰다.윤 수석은 \\'교황이 방북시점에 대한 언급은 없었느냐\\'는 데에 \"시점에 대해선 말이 없었다\"고 전했다. 이에 따라 한편에선 교황의 답이 원론적 의미가 아니냐는 풀이도 나오지만 교황이 방북 자체에 문을 열어뒀다는 데에 의의가 있다는 평이다.앞서 문 대통령이 추진하는 유럽에서의 한반도 평화프로세스 설득 작업은 주춤거리는 모양새가 감지됐었다. 문 대통령은 지난 15일 에마뉘엘 마크롱 프랑스 대통령과 만나 프랑스가 유엔 안보리 상임이사국으로서 대북제재 완화에 힘을 실어달라고 요청했지만 마크롱 대통령은 CVID(완전하고 불가역적이고 검증가능한 비핵화)를 강조하며 완곡한 거절의사를 밝힌 바 있다.하지만 17일 문 대통령이 한반도 평화를 위한 특별미사에 참석하고 특별연설을 하면서 \\'한반도 평화프로세스\\'가 한껏 탄력을 받은 데 이어 18일 바티칸에서 알현한 교황이 적극적으로 나서면서 국제사회가 영향을 받을 수밖에 없을 것으로 보인다. 전세계 인구의 17.7%인 12억8500만명의 신자를 보유한 가톨릭의 수장이 직접 나서기 때문에 파급력이 상당할 것이기 때문이다. 아울러 교황의 방북이 성사되면 역사상 처음으로 북한 땅을 밟는 교황이라는 상징성도 갖게 된다.문 대통령은 이러한 기세로 19일 벨기에 브뤼셀에서 열리는 제12차 아셈(ASEM·아시아-유럽정상회의)에서 영국과 독일, 태국 총리와 정상회담을 갖는다. 특히 영국, 독일 총리와 만나 대북제재 완화 등 한반도 평화프로세스 설득작업에 가속페달을 밟을 전망이다.영국은 미국, 프랑스, 러시아, 중국과 함께 유엔 안보리 상임이사국에 속한다. 이미 5차례 비상임이사국을 지낸 독일은 내년 안보리 비상임이사국(2020년까지)으로 선출돼 있다.silverpaper@news1.kr▶ 진짜 블록체인을 만나는 곳 \\'크립토허브\\' 오픈! ▶ 글로벌바이오포럼 2018 참가하기▶ 네이버 메인에서 [뉴스1]을 구독해주세요[© 뉴스1코리아(news1.kr), 무단 전재 및 재배포 금지]'"
      ]
     },
     "execution_count": 4,
     "metadata": {},
     "output_type": "execute_result"
    }
   ],
   "source": [
    "content"
   ]
  },
  {
   "cell_type": "code",
   "execution_count": 5,
   "metadata": {
    "collapsed": true
   },
   "outputs": [],
   "source": [
    "stopwords = ['재테크','배포','금지', '기자', 'co','kr','나가기','페이스북','com', '.kr', '뉴스1']"
   ]
  },
  {
   "cell_type": "code",
   "execution_count": 6,
   "metadata": {
    "collapsed": true
   },
   "outputs": [],
   "source": [
    "from kornounextractor.noun_extractor import extract"
   ]
  },
  {
   "cell_type": "code",
   "execution_count": 7,
   "metadata": {
    "collapsed": true
   },
   "outputs": [],
   "source": [
    "with open('dic.txt', 'w', encoding='utf8') as f:\n",
    "    for word in sorted(extract(content, freq=2.0)):\n",
    "        f.write(word+'\\tNNG\\n')"
   ]
  },
  {
   "cell_type": "code",
   "execution_count": 8,
   "metadata": {
    "collapsed": true
   },
   "outputs": [],
   "source": [
    "import konlpy.tag\n",
    "komoran = konlpy.tag.Komoran(userdic='dic.txt')"
   ]
  },
  {
   "cell_type": "code",
   "execution_count": 9,
   "metadata": {
    "collapsed": true
   },
   "outputs": [],
   "source": [
    "Nouns = komoran.nouns(content)\n",
    "final_nouns = Nouns.copy()\n",
    "unique_nouns = set(Nouns)\n",
    "for word in unique_nouns:\n",
    "    if len(word) == 1:\n",
    "        while word in final_nouns:\n",
    "            final_nouns.remove(word)\n",
    "    if word in stopwords:\n",
    "        while word in final_nouns:\n",
    "            final_nouns.remove(word)"
   ]
  },
  {
   "cell_type": "code",
   "execution_count": 10,
   "metadata": {},
   "outputs": [
    {
     "name": "stdout",
     "output_type": "stream",
     "text": [
      "['아셈', '계기', '영국', '독일', '태국', '정상회담', '대북제재', '완화', '설득', '가속', '문재인', '대통령', '오후', '현지시간', '바티칸', '교황청', '방문', '프란치스코', '교황', '악수', '청와대', '바티칸', '소영', '프란치스코', '교황', '현지시간', '문재인', '대통령', '만남', '사실', '방북', '의사', '대통령', '한반도', '평화프로세스', '추진', '상당', '대통령', '교황', '지지', '기반', '북미', '정상회담', '신속', '개최', '촉구', '국제사회', '북한', '비핵화', '촉진', '대북제재', '완화', '일정', '정도', '필요', '주장', '대통령', '이날', '오후', '바티칸', '교황', '교황', '서재', '동안', '프란치스코', '교황', '단독', '예방', '교황', '만남', '원활', '의사소통', '통역', '배석', '비밀', '원칙', '이날', '예방', '통역', '자리', '한현택', '신부', '배석', '다만', '사전', '청와대', '바티칸', '사이', '협의', '이례', '면담', '내용', '공개', '윤영', '청와대', '국민', '소통', '수석', '교황', '대통령', '김정은', '북한', '국무위원', '장의', '방북', '초청', '의사', '위원장', '초청장', '공식', '초청장', '교황', '초청장', '응답', '있다', '북한', '있다', '언급', '문맥', '북한', '해석', '교황', '한반도', '평화프로세스', '추진', '한국', '정부', '노력', '지지', '말라', '해석', '수석', '교황', '방북', '시점', '언급', '시점', '한편', '교황', '원론', '의미', '풀이', '교황', '방북', '자체', '의의', '대통령', '추진', '유럽', '한반도', '평화프로세스', '설득', '작업', '모양새', '감지', '대통령', '에마', '프랑스', '대통령', '프랑스', '유엔', '안보리', '상임이사국', '대북제재', '완화', '요청', '대통령', '완전', '가역', '검증', '비핵화', '강조', '거절', '의사', '하지', '대통령', '한반도', '평화', '미사', '참석', '연설', '한반도', '평화프로세스', '탄력', '바티칸', '알현', '교황', '적극', '국제사회', '영향', '세계 인구', '신자', '보유', '가톨릭', '수장', '때문', '파급', '상당', '때문', '교황', '방북', '성사', '역사', '처음', '북한', '교황', '상징', '대통령', '기세', '벨기에', '브뤼셀', '아셈', '아시아', '유럽정상회의', '영국', '독일', '태국', '총리', '정상회담', '영국', '독일', '총리', '대북제재', '완화', '한반도', '평화프로세스', '설득', '작업', '가속', '페달', '전망', '영국', '미국', '프랑스', '러시아', '중국', '유엔', '안보리', '상임이사국', '차례', '비상임이사국', '독일', '내년', '안보리', '비상임이사국', '2020년', '선출', 'news1', '블록체인', '오픈', '글로벌', '바이오', '포럼', '참가', '네이버', '메인', '구독', '코리아', 'news1', '무단', '전재']\n"
     ]
    }
   ],
   "source": [
    "print(final_nouns)"
   ]
  },
  {
   "cell_type": "code",
   "execution_count": 11,
   "metadata": {
    "collapsed": true
   },
   "outputs": [],
   "source": [
    "from kr_sna import do_kr_sna"
   ]
  },
  {
   "cell_type": "code",
   "execution_count": 12,
   "metadata": {
    "collapsed": true
   },
   "outputs": [],
   "source": [
    "g = do_kr_sna(content, final_nouns, stopwords)"
   ]
  },
  {
   "cell_type": "code",
   "execution_count": 13,
   "metadata": {},
   "outputs": [
    {
     "data": {
      "text/plain": [
       "NodeView(('교황', '대통령', '한반도', '바티칸', '방북', '평화프로세스', '북한', '영국', '독일', '대북제재', '완화', '정상회담', '설득', '프란치스코', '청와대', '의사', '추진', '초청장', '프랑스', '안보리'))"
      ]
     },
     "execution_count": 13,
     "metadata": {},
     "output_type": "execute_result"
    }
   ],
   "source": [
    "g.nodes()"
   ]
  },
  {
   "cell_type": "code",
   "execution_count": 14,
   "metadata": {
    "collapsed": true
   },
   "outputs": [],
   "source": [
    "import networkx as nx"
   ]
  },
  {
   "cell_type": "code",
   "execution_count": 15,
   "metadata": {},
   "outputs": [
    {
     "data": {
      "text/plain": [
       "AtlasView({'영국': {'weight': 1}, '설득': {'weight': 1}, '프란치스코': {'weight': 3}, '대북제재': {'weight': 2}, '독일': {'weight': 1}, '정상회담': {'weight': 2}, '대통령': {'weight': 6}, '완화': {'weight': 2}, '바티칸': {'weight': 4}, '방북': {'weight': 5}, '한반도': {'weight': 3}, '의사': {'weight': 2}, '평화프로세스': {'weight': 3}, '추진': {'weight': 2}, '북한': {'weight': 3}, '초청장': {'weight': 2}, '청와대': {'weight': 1}})"
      ]
     },
     "execution_count": 15,
     "metadata": {},
     "output_type": "execute_result"
    }
   ],
   "source": [
    "g['교황']"
   ]
  },
  {
   "cell_type": "code",
   "execution_count": 17,
   "metadata": {},
   "outputs": [
    {
     "data": {
      "text/plain": [
       "[('대통령', 1.0),\n",
       " ('교황', 0.894736842105263),\n",
       " ('바티칸', 0.7894736842105263),\n",
       " ('대북제재', 0.7894736842105263),\n",
       " ('완화', 0.7894736842105263),\n",
       " ('의사', 0.7894736842105263),\n",
       " ('프란치스코', 0.7368421052631579),\n",
       " ('한반도', 0.6842105263157894),\n",
       " ('평화프로세스', 0.6842105263157894),\n",
       " ('영국', 0.6842105263157894),\n",
       " ('독일', 0.631578947368421),\n",
       " ('설득', 0.631578947368421),\n",
       " ('방북', 0.5789473684210527),\n",
       " ('정상회담', 0.5263157894736842),\n",
       " ('북한', 0.47368421052631576),\n",
       " ('추진', 0.47368421052631576),\n",
       " ('청와대', 0.3684210526315789),\n",
       " ('안보리', 0.3684210526315789),\n",
       " ('초청장', 0.3157894736842105),\n",
       " ('프랑스', 0.3157894736842105)]"
      ]
     },
     "execution_count": 17,
     "metadata": {},
     "output_type": "execute_result"
    }
   ],
   "source": [
    "x = nx.degree_centrality(g)\n",
    "sorted(x.items(), key=lambda kv: kv[1], reverse=True)"
   ]
  },
  {
   "cell_type": "code",
   "execution_count": 26,
   "metadata": {},
   "outputs": [
    {
     "data": {
      "text/plain": [
       "[('북한', 0.6551724137931034),\n",
       " ('바티칸', 0.6333333333333333),\n",
       " ('영국', 0.6333333333333333),\n",
       " ('프란치스코', 0.6333333333333333),\n",
       " ('독일', 0.6129032258064516),\n",
       " ('설득', 0.6129032258064516),\n",
       " ('의사', 0.6129032258064516),\n",
       " ('초청장', 0.59375),\n",
       " ('프랑스', 0.59375),\n",
       " ('방북', 0.5757575757575758),\n",
       " ('안보리', 0.5757575757575758),\n",
       " ('추진', 0.5588235294117647),\n",
       " ('청와대', 0.5428571428571428),\n",
       " ('한반도', 0.5135135135135135),\n",
       " ('평화프로세스', 0.5135135135135135),\n",
       " ('대북제재', 0.48717948717948717),\n",
       " ('완화', 0.48717948717948717),\n",
       " ('대통령', 0.4634146341463415),\n",
       " ('교황', 0.4523809523809524),\n",
       " ('정상회담', 0.4523809523809524)]"
      ]
     },
     "execution_count": 26,
     "metadata": {},
     "output_type": "execute_result"
    }
   ],
   "source": [
    "x = nx.closeness_centrality(g, distance='weight')\n",
    "sorted(x.items(), key=lambda kv: kv[1], reverse=True)"
   ]
  },
  {
   "cell_type": "code",
   "execution_count": 18,
   "metadata": {},
   "outputs": [
    {
     "data": {
      "text/plain": [
       "[('대통령', 0.1006845818249327),\n",
       " ('의사', 0.061897800055694785),\n",
       " ('교황', 0.05721479624988399),\n",
       " ('대북제재', 0.031121785946347343),\n",
       " ('완화', 0.031121785946347343),\n",
       " ('바티칸', 0.02806553420588508),\n",
       " ('영국', 0.018453541260558804),\n",
       " ('방북', 0.016673628515733778),\n",
       " ('프란치스코', 0.013738048825768123),\n",
       " ('북한', 0.012141464773043719),\n",
       " ('한반도', 0.009263900491970666),\n",
       " ('평화프로세스', 0.009263900491970666),\n",
       " ('독일', 0.008512020792722548),\n",
       " ('설득', 0.005601967882669637),\n",
       " ('정상회담', 0.005075187969924812),\n",
       " ('안보리', 0.0024041585445094215),\n",
       " ('청와대', 0.0019005847953216374),\n",
       " ('추진', 0.001485194467650608),\n",
       " ('프랑스', 0.0005847953216374269),\n",
       " ('초청장', 0.0)]"
      ]
     },
     "execution_count": 18,
     "metadata": {},
     "output_type": "execute_result"
    }
   ],
   "source": [
    "x = nx.betweenness_centrality(g)\n",
    "sorted(x.items(), key=lambda kv: kv[1], reverse=True)"
   ]
  },
  {
   "cell_type": "code",
   "execution_count": null,
   "metadata": {
    "collapsed": true
   },
   "outputs": [],
   "source": []
  }
 ],
 "metadata": {
  "kernelspec": {
   "display_name": "Python 3",
   "language": "python",
   "name": "python3"
  },
  "language_info": {
   "codemirror_mode": {
    "name": "ipython",
    "version": 3
   },
   "file_extension": ".py",
   "mimetype": "text/x-python",
   "name": "python",
   "nbconvert_exporter": "python",
   "pygments_lexer": "ipython3",
   "version": "3.6.5"
  }
 },
 "nbformat": 4,
 "nbformat_minor": 2
}
