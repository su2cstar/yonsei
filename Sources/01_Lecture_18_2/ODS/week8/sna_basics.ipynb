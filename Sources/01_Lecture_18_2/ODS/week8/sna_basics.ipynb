{
 "cells": [
  {
   "cell_type": "code",
   "execution_count": 19,
   "metadata": {
    "collapsed": true
   },
   "outputs": [],
   "source": [
    "import networkx as nx\n",
    "import matplotlib.pyplot as plt"
   ]
  },
  {
   "cell_type": "code",
   "execution_count": 20,
   "metadata": {
    "collapsed": true
   },
   "outputs": [],
   "source": [
    "# Greate an empy undirected graph\n",
    "g = nx.Graph()"
   ]
  },
  {
   "cell_type": "code",
   "execution_count": 21,
   "metadata": {
    "collapsed": true
   },
   "outputs": [],
   "source": [
    "g.add_nodes_from([1,2,3,4,5,6]) # Add nodes from a list\n",
    "#g.add_node(1)"
   ]
  },
  {
   "cell_type": "code",
   "execution_count": 22,
   "metadata": {
    "collapsed": true
   },
   "outputs": [],
   "source": [
    "# Add egdes from a list\n",
    "g.add_edges_from([(1,3), (2,4), (2,5), (2,6), (3,4), (4,6), (5,6)]) \n",
    "#g.add_edge(1,3)"
   ]
  },
  {
   "cell_type": "code",
   "execution_count": 18,
   "metadata": {},
   "outputs": [
    {
     "name": "stdout",
     "output_type": "stream",
     "text": [
      "[1, 2, 3, 4, 5, 6]\n",
      "[(1, 3), (2, 4), (2, 5), (2, 6), (3, 4), (4, 6), (5, 6)]\n",
      "6\n",
      "7\n"
     ]
    }
   ],
   "source": [
    "# basic calculations\n",
    "print(g.nodes()) # nodes\n",
    "print(g.edges()) # edges\n",
    "print(g.number_of_nodes()) # number of nodes\n",
    "print(g.number_of_edges()) # number of edges"
   ]
  },
  {
   "cell_type": "code",
   "execution_count": 23,
   "metadata": {},
   "outputs": [
    {
     "name": "stdout",
     "output_type": "stream",
     "text": [
      "{1: 'male', 2: 'female', 3: 'male', 4: 'female', 5: 'male', 6: 'male'}\n"
     ]
    }
   ],
   "source": [
    "# Add node attributes\n",
    "g.nodes[1]['gender']='male'\n",
    "g.nodes[2]['gender']='female'\n",
    "g.nodes[3]['gender']='male'\n",
    "g.nodes[4]['gender']='female'\n",
    "g.nodes[5]['gender']='male'\n",
    "g.nodes[6]['gender']='male'\n",
    "print(nx.get_node_attributes(g, 'gender'))"
   ]
  },
  {
   "cell_type": "code",
   "execution_count": 25,
   "metadata": {},
   "outputs": [
    {
     "name": "stdout",
     "output_type": "stream",
     "text": [
      "{(1, 3): 3, (2, 4): 1, (2, 5): 4, (2, 6): 3, (3, 4): 2, (4, 6): 3, (5, 6): 4}\n"
     ]
    }
   ],
   "source": [
    "# Add edge attributes\n",
    "g[1][3]['weight'] = 3\n",
    "# alternatively \n",
    "# g.edges[1, 3]['weight'] = 3\n",
    "g[2][4]['weight'] = 1\n",
    "g[2][5]['weight'] = 4\n",
    "g[2][6]['weight'] = 3\n",
    "g[3][4]['weight'] = 2\n",
    "g[4][6]['weight'] = 3\n",
    "g[5][6]['weight'] = 4\n",
    "\n",
    "print(nx.get_edge_attributes(g, 'weight'))"
   ]
  },
  {
   "cell_type": "code",
   "execution_count": 10,
   "metadata": {},
   "outputs": [
    {
     "data": {
      "image/png": "[encoded data removed]",
      "text/plain": [
       "<matplotlib.figure.Figure at 0x20d83fbbb00>"
      ]
     },
     "metadata": {},
     "output_type": "display_data"
    }
   ],
   "source": [
    "# networkX를 이용해서 시각화 하기\n",
    "nx.draw_networkx(g)\n",
    "plt.show()"
   ]
  },
  {
   "cell_type": "code",
   "execution_count": 26,
   "metadata": {
    "collapsed": true
   },
   "outputs": [],
   "source": [
    "# graphML 파일로 저장하기 -> Gephi에서 불러오기\n",
    "nx.write_graphml(g, 'g_test2.graphml')"
   ]
  },
  {
   "cell_type": "code",
   "execution_count": 31,
   "metadata": {},
   "outputs": [
    {
     "data": {
      "text/plain": [
       "3"
      ]
     },
     "execution_count": 31,
     "metadata": {},
     "output_type": "execute_result"
    }
   ],
   "source": [
    "len(list(g.neighbors(4)))\n",
    "g.degree(4)"
   ]
  },
  {
   "cell_type": "code",
   "execution_count": 28,
   "metadata": {},
   "outputs": [
    {
     "data": {
      "text/plain": [
       "AtlasView({2: {'weight': 1}, 3: {'weight': 2}, 6: {'weight': 3}})"
      ]
     },
     "execution_count": 28,
     "metadata": {},
     "output_type": "execute_result"
    }
   ],
   "source": [
    "g[4]"
   ]
  },
  {
   "cell_type": "code",
   "execution_count": 10,
   "metadata": {},
   "outputs": [
    {
     "data": {
      "text/plain": [
       "1"
      ]
     },
     "execution_count": 10,
     "metadata": {},
     "output_type": "execute_result"
    }
   ],
   "source": [
    "g.degree(1)"
   ]
  },
  {
   "cell_type": "code",
   "execution_count": 11,
   "metadata": {},
   "outputs": [
    {
     "data": {
      "text/plain": [
       "{1: 0.0,\n",
       " 2: 0.15000000000000002,\n",
       " 3: 0.4,\n",
       " 4: 0.6000000000000001,\n",
       " 5: 0.0,\n",
       " 6: 0.15000000000000002}"
      ]
     },
     "execution_count": 11,
     "metadata": {},
     "output_type": "execute_result"
    }
   ],
   "source": [
    "nx.betweenness_centrality(g)"
   ]
  },
  {
   "cell_type": "code",
   "execution_count": 32,
   "metadata": {},
   "outputs": [
    {
     "data": {
      "text/plain": [
       "{1: 0.2,\n",
       " 2: 0.6000000000000001,\n",
       " 3: 0.4,\n",
       " 4: 0.6000000000000001,\n",
       " 5: 0.4,\n",
       " 6: 0.6000000000000001}"
      ]
     },
     "execution_count": 32,
     "metadata": {},
     "output_type": "execute_result"
    }
   ],
   "source": [
    "nx.degree_centrality(g)"
   ]
  },
  {
   "cell_type": "code",
   "execution_count": 13,
   "metadata": {},
   "outputs": [
    {
     "data": {
      "text/plain": [
       "{1: 0.38461538461538464,\n",
       " 2: 0.625,\n",
       " 3: 0.5555555555555556,\n",
       " 4: 0.7142857142857143,\n",
       " 5: 0.45454545454545453,\n",
       " 6: 0.625}"
      ]
     },
     "execution_count": 13,
     "metadata": {},
     "output_type": "execute_result"
    }
   ],
   "source": [
    "nx.closeness_centrality(g)"
   ]
  },
  {
   "cell_type": "code",
   "execution_count": null,
   "metadata": {
    "collapsed": true
   },
   "outputs": [],
   "source": []
  }
 ],
 "metadata": {
  "kernelspec": {
   "display_name": "Python 3",
   "language": "python",
   "name": "python3"
  },
  "language_info": {
   "codemirror_mode": {
    "name": "ipython",
    "version": 3
   },
   "file_extension": ".py",
   "mimetype": "text/x-python",
   "name": "python",
   "nbconvert_exporter": "python",
   "pygments_lexer": "ipython3",
   "version": "3.6.1"
  }
 },
 "nbformat": 4,
 "nbformat_minor": 2
}
