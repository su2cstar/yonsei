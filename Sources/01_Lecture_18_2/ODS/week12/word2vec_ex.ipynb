{
 "cells": [
  {
   "cell_type": "code",
   "execution_count": 1,
   "metadata": {},
   "outputs": [
    {
     "name": "stderr",
     "output_type": "stream",
     "text": [
      "C:\\Users\\Sang\\Anaconda3\\lib\\site-packages\\gensim\\utils.py:1209: UserWarning: detected Windows; aliasing chunkize to chunkize_serial\n",
      "  warnings.warn(\"detected Windows; aliasing chunkize to chunkize_serial\")\n"
     ]
    }
   ],
   "source": [
    "from gensim.models import Word2Vec"
   ]
  },
  {
   "cell_type": "code",
   "execution_count": 2,
   "metadata": {
    "collapsed": true
   },
   "outputs": [],
   "source": [
    "with open('2016_filtered_review.txt', encoding='utf-8') as f:\n",
    "    docs = [line.strip().split('\\t\\t') for line in f]"
   ]
  },
  {
   "cell_type": "code",
   "execution_count": 3,
   "metadata": {},
   "outputs": [
    {
     "data": {
      "text/plain": [
       "[['140693', ' 아니 딴 그렇 비 비탄 총 대체 왜 들 온겨', '7'],\n",
       " ['140693', ' 진심 쓰레기 영화 만들 무서 알 쫄아 틀었 이건 뭐 웃 거리 없는 쓰레기 영화 임', '1'],\n",
       " ['140693',\n",
       "  ' 역대 좀비 영화 가장 최고다 원작 만화 읽어 보려 영화 보고 결정 하려 감독 간츠 실사 했 사람 거르려 그냥 봤 정말 흠잡 없는 최고 좀비 영화 잔인 거 싫어하지 참고 볼 만하 로미 인물 왜 그런 모르',\n",
       "  '10'],\n",
       " ['140693', ' 온종일 불편한 피 범벅 일', '6'],\n",
       " ['140693', ' 답답함 극치 움직일 잇으 좀 움직여 어지간히 좀비 봣으 얼 타고 때려 잡 때 되 않냐', '1']]"
      ]
     },
     "execution_count": 3,
     "metadata": {},
     "output_type": "execute_result"
    }
   ],
   "source": [
    "docs[:5]"
   ]
  },
  {
   "cell_type": "code",
   "execution_count": 4,
   "metadata": {
    "collapsed": true
   },
   "outputs": [],
   "source": [
    "docs1 = [doc[1].strip().split() for doc in docs]"
   ]
  },
  {
   "cell_type": "code",
   "execution_count": 5,
   "metadata": {},
   "outputs": [
    {
     "name": "stdout",
     "output_type": "stream",
     "text": [
      "[['아니', '딴', '그렇', '비', '비탄', '총', '대체', '왜', '들', '온겨'], ['진심', '쓰레기', '영화', '만들', '무서', '알', '쫄아', '틀었', '이건', '뭐', '웃', '거리', '없는', '쓰레기', '영화', '임'], ['역대', '좀비', '영화', '가장', '최고다', '원작', '만화', '읽어', '보려', '영화', '보고', '결정', '하려', '감독', '간츠', '실사', '했', '사람', '거르려', '그냥', '봤', '정말', '흠잡', '없는', '최고', '좀비', '영화', '잔인', '거', '싫어하지', '참고', '볼', '만하', '로미', '인물', '왜', '그런', '모르'], ['온종일', '불편한', '피', '범벅', '일'], ['답답함', '극치', '움직일', '잇으', '좀', '움직여', '어지간히', '좀비', '봣으', '얼', '타고', '때려', '잡', '때', '되', '않냐']]\n"
     ]
    }
   ],
   "source": [
    "print(docs1[:5])"
   ]
  },
  {
   "cell_type": "code",
   "execution_count": 6,
   "metadata": {
    "collapsed": true
   },
   "outputs": [],
   "source": [
    "model = Word2Vec(docs1, window=3, min_count=3, size=100)"
   ]
  },
  {
   "cell_type": "code",
   "execution_count": 9,
   "metadata": {},
   "outputs": [
    {
     "data": {
      "text/plain": [
       "100"
      ]
     },
     "execution_count": 9,
     "metadata": {},
     "output_type": "execute_result"
    }
   ],
   "source": [
    "len(model.wv['이정재'])"
   ]
  },
  {
   "cell_type": "code",
   "execution_count": 10,
   "metadata": {},
   "outputs": [
    {
     "data": {
      "text/plain": [
       "array([ 0.34509945,  0.9419084 , -1.1428084 ,  0.7730738 ,  1.1135057 ,\n",
       "       -0.463853  ,  0.32215056,  1.1717441 , -0.892022  , -0.3418841 ,\n",
       "        1.8395804 , -0.15023795, -0.76948506, -0.95723003,  0.07101386,\n",
       "        0.08615051,  0.31945097, -0.8710121 , -0.2884979 , -0.85948414,\n",
       "       -0.6825018 , -0.43009132,  0.5319502 , -0.41662887,  1.2346363 ,\n",
       "       -0.45908785,  0.00875962,  0.21006462,  0.7153239 ,  0.46593285,\n",
       "        0.20443235,  0.16792604, -0.09487604, -0.32315597, -0.3351273 ,\n",
       "       -0.50672245, -0.6997627 ,  0.1788085 ,  1.5487963 ,  0.5627975 ,\n",
       "        0.13234593, -1.6238633 , -0.5866287 , -1.449332  , -1.6146197 ,\n",
       "       -0.4085573 ,  0.8090984 ,  0.40386033, -0.6694205 ,  0.1370334 ,\n",
       "        1.0011533 ,  1.7625353 ,  0.07494259, -1.535033  , -0.282465  ,\n",
       "        0.40478218,  0.13051224,  0.46725518, -0.56335926, -1.3763378 ,\n",
       "        1.7606302 , -0.03017392,  0.67616576, -1.1886957 ,  0.7222469 ,\n",
       "        0.03476794, -0.5920999 ,  0.02704532, -0.15498796,  0.9361463 ,\n",
       "       -0.3281793 ,  0.6961046 ,  1.5189974 ,  0.3878601 , -0.0477283 ,\n",
       "        0.44823465, -0.53792924,  1.5954458 ,  0.7374834 ,  1.1963191 ,\n",
       "       -1.9910315 ,  0.695042  ,  1.4293879 ,  0.6650248 , -1.1977572 ,\n",
       "       -0.9621832 ,  0.8635238 , -0.57661885, -0.7169015 ,  0.13692257,\n",
       "        1.5631967 ,  0.50737613,  0.03064957, -0.7163435 ,  0.34966537,\n",
       "       -0.73904717, -0.8616332 , -0.7592176 ,  0.7412661 , -0.7824411 ],\n",
       "      dtype=float32)"
      ]
     },
     "execution_count": 10,
     "metadata": {},
     "output_type": "execute_result"
    }
   ],
   "source": [
    "model.wv['이정재']"
   ]
  },
  {
   "cell_type": "code",
   "execution_count": 13,
   "metadata": {
    "collapsed": true
   },
   "outputs": [],
   "source": [
    "from sklearn.metrics.pairwise import cosine_similarity"
   ]
  },
  {
   "cell_type": "code",
   "execution_count": null,
   "metadata": {
    "collapsed": true
   },
   "outputs": [],
   "source": []
  },
  {
   "cell_type": "code",
   "execution_count": 15,
   "metadata": {},
   "outputs": [
    {
     "data": {
      "text/plain": [
       "array([[0.7866131]], dtype=float32)"
      ]
     },
     "execution_count": 15,
     "metadata": {},
     "output_type": "execute_result"
    }
   ],
   "source": [
    "cosine_similarity(model.wv['이정재'].reshape(1,-1),model.wv['이범수'].reshape(1,-1))"
   ]
  },
  {
   "cell_type": "code",
   "execution_count": 12,
   "metadata": {},
   "outputs": [
    {
     "name": "stderr",
     "output_type": "stream",
     "text": [
      "C:\\Users\\Sang\\Anaconda3\\lib\\site-packages\\gensim\\matutils.py:737: FutureWarning: Conversion of the second argument of issubdtype from `int` to `np.signedinteger` is deprecated. In future, it will be treated as `np.int32 == np.dtype(int).type`.\n",
      "  if np.issubdtype(vec.dtype, np.int):\n"
     ]
    },
    {
     "data": {
      "text/plain": [
       "[('이범수', 0.7866131067276001),\n",
       " ('김윤석', 0.7410410642623901),\n",
       " ('송강호', 0.7337933778762817),\n",
       " ('공유', 0.7313976287841797),\n",
       " ('김범수', 0.7230308055877686),\n",
       " ('이성민', 0.7173606157302856),\n",
       " ('주지훈', 0.707419753074646),\n",
       " ('조재현', 0.6970873475074768),\n",
       " ('이진욱', 0.688018798828125),\n",
       " ('정우성', 0.6844310760498047),\n",
       " ('송광호', 0.6704007387161255),\n",
       " ('김남길', 0.6688132286071777),\n",
       " ('이병헌', 0.6683954000473022),\n",
       " ('황정민', 0.6676315069198608),\n",
       " ('박해일', 0.6625509262084961),\n",
       " ('조정석', 0.6569194197654724),\n",
       " ('마동석', 0.6519945859909058),\n",
       " ('임시완', 0.6485760807991028),\n",
       " ('하정우', 0.6482114791870117),\n",
       " ('민호', 0.6369248032569885)]"
      ]
     },
     "execution_count": 12,
     "metadata": {},
     "output_type": "execute_result"
    }
   ],
   "source": [
    "model.wv.similar_by_word('이정재',topn=20)"
   ]
  },
  {
   "cell_type": "code",
   "execution_count": null,
   "metadata": {
    "collapsed": true
   },
   "outputs": [],
   "source": []
  },
  {
   "cell_type": "code",
   "execution_count": 16,
   "metadata": {},
   "outputs": [
    {
     "name": "stderr",
     "output_type": "stream",
     "text": [
      "C:\\Users\\Sang\\Anaconda3\\lib\\site-packages\\gensim\\matutils.py:737: FutureWarning: Conversion of the second argument of issubdtype from `int` to `np.signedinteger` is deprecated. In future, it will be treated as `np.int32 == np.dtype(int).type`.\n",
      "  if np.issubdtype(vec.dtype, np.int):\n"
     ]
    },
    {
     "data": {
      "text/plain": [
       "[('재미있', 0.9025766253471375),\n",
       " ('재밌어', 0.8143962621688843),\n",
       " ('재밌네', 0.8127518892288208),\n",
       " ('재밌었', 0.7991635799407959),\n",
       " ('재밋음', 0.7979191541671753),\n",
       " ('재밌는', 0.7398858070373535),\n",
       " ('재미있었', 0.718224048614502),\n",
       " ('재밋어', 0.7173397541046143),\n",
       " ('재밌던', 0.712674617767334),\n",
       " ('잼남', 0.7002240419387817),\n",
       " ('재밋엇어', 0.6968976855278015),\n",
       " ('재미있어', 0.6928104162216187),\n",
       " ('재밌더', 0.6877334117889404),\n",
       " ('재미있네', 0.685700535774231),\n",
       " ('재밋네', 0.6777019500732422),\n",
       " ('재밋', 0.6743097305297852),\n",
       " ('재밋었어', 0.6608685255050659),\n",
       " ('재밌다', 0.6578500270843506),\n",
       " ('재밋었', 0.6475010514259338),\n",
       " ('꿀잼', 0.6399941444396973)]"
      ]
     },
     "execution_count": 16,
     "metadata": {},
     "output_type": "execute_result"
    }
   ],
   "source": [
    "model.wv.similar_by_word(u'재밌',topn=20)"
   ]
  },
  {
   "cell_type": "code",
   "execution_count": 17,
   "metadata": {},
   "outputs": [
    {
     "name": "stderr",
     "output_type": "stream",
     "text": [
      "C:\\Users\\Sang\\Anaconda3\\lib\\site-packages\\gensim\\matutils.py:737: FutureWarning: Conversion of the second argument of issubdtype from `int` to `np.signedinteger` is deprecated. In future, it will be treated as `np.int32 == np.dtype(int).type`.\n",
      "  if np.issubdtype(vec.dtype, np.int):\n"
     ]
    },
    {
     "data": {
      "text/plain": [
       "0.6683953"
      ]
     },
     "execution_count": 17,
     "metadata": {},
     "output_type": "execute_result"
    }
   ],
   "source": [
    "model.wv.similarity(u'이정재', u'이병헌')"
   ]
  },
  {
   "cell_type": "code",
   "execution_count": 13,
   "metadata": {},
   "outputs": [
    {
     "name": "stderr",
     "output_type": "stream",
     "text": [
      "C:\\Users\\Sang\\Anaconda3\\lib\\site-packages\\ipykernel_launcher.py:1: DeprecationWarning: Call to deprecated `__getitem__` (Method will be removed in 4.0.0, use self.wv.__getitem__() instead).\n",
      "  \"\"\"Entry point for launching an IPython kernel.\n"
     ]
    },
    {
     "data": {
      "text/plain": [
       "array([ 0.6938856 ,  0.075554  ,  0.44105786, -1.1623904 ,  0.22802614,\n",
       "        2.1080081 ,  0.38347372,  1.7180676 ,  0.10657427,  0.4813349 ,\n",
       "        1.0265925 ,  0.5256255 ,  1.1718249 , -0.6490851 , -0.7447158 ,\n",
       "        0.05820177,  0.30639216, -0.02248581, -0.4622246 ,  0.69317174,\n",
       "        1.0825945 ,  0.80999666,  0.36123347, -1.3522538 ,  1.4619431 ,\n",
       "        0.46403795, -0.4796024 , -0.7959444 , -0.56963813, -0.3449541 ,\n",
       "       -0.18099011,  0.15935601, -1.7520121 ,  0.5453368 ,  0.08768404,\n",
       "       -0.7936624 , -0.97996306,  0.46002695, -0.34804568, -0.4006751 ,\n",
       "        0.02633072, -0.82119644,  0.6533262 ,  1.2049806 , -0.17094833,\n",
       "       -0.39474353, -0.06219551,  0.47262728,  0.54804903, -1.6133565 ,\n",
       "       -0.8577783 , -1.1454345 ,  0.19962485, -1.1800876 , -0.4438456 ,\n",
       "       -0.08902509, -0.6165688 ,  0.10114575,  0.05687397,  0.4790648 ,\n",
       "        0.40219232,  1.3564634 ,  0.5372894 ,  0.8981557 , -0.9601171 ,\n",
       "        0.15889215, -0.48390093,  0.22109468,  0.15575401, -0.43985382,\n",
       "        0.74048716, -0.6361769 ,  2.18924   , -0.05953673,  0.27149978,\n",
       "       -1.1434995 ,  0.6197387 , -0.56199324,  1.6680306 , -1.0519413 ,\n",
       "       -0.6313406 , -0.08013517, -0.5611827 ,  0.20161098,  1.5439419 ,\n",
       "        0.7734369 ,  1.0620648 ,  0.16143562, -0.44456568, -0.14517753,\n",
       "       -1.2164253 ,  0.05912282,  0.4325999 ,  0.9703728 ,  0.4870802 ,\n",
       "        0.3421728 , -1.4533973 , -0.27650675,  1.6685562 ,  0.03193279],\n",
       "      dtype=float32)"
      ]
     },
     "execution_count": 13,
     "metadata": {},
     "output_type": "execute_result"
    }
   ],
   "source": [
    "model[u'이정재']"
   ]
  },
  {
   "cell_type": "code",
   "execution_count": 14,
   "metadata": {},
   "outputs": [
    {
     "data": {
      "text/plain": [
       "array([ 0.6938856 ,  0.075554  ,  0.44105786, -1.1623904 ,  0.22802614,\n",
       "        2.1080081 ,  0.38347372,  1.7180676 ,  0.10657427,  0.4813349 ,\n",
       "        1.0265925 ,  0.5256255 ,  1.1718249 , -0.6490851 , -0.7447158 ,\n",
       "        0.05820177,  0.30639216, -0.02248581, -0.4622246 ,  0.69317174,\n",
       "        1.0825945 ,  0.80999666,  0.36123347, -1.3522538 ,  1.4619431 ,\n",
       "        0.46403795, -0.4796024 , -0.7959444 , -0.56963813, -0.3449541 ,\n",
       "       -0.18099011,  0.15935601, -1.7520121 ,  0.5453368 ,  0.08768404,\n",
       "       -0.7936624 , -0.97996306,  0.46002695, -0.34804568, -0.4006751 ,\n",
       "        0.02633072, -0.82119644,  0.6533262 ,  1.2049806 , -0.17094833,\n",
       "       -0.39474353, -0.06219551,  0.47262728,  0.54804903, -1.6133565 ,\n",
       "       -0.8577783 , -1.1454345 ,  0.19962485, -1.1800876 , -0.4438456 ,\n",
       "       -0.08902509, -0.6165688 ,  0.10114575,  0.05687397,  0.4790648 ,\n",
       "        0.40219232,  1.3564634 ,  0.5372894 ,  0.8981557 , -0.9601171 ,\n",
       "        0.15889215, -0.48390093,  0.22109468,  0.15575401, -0.43985382,\n",
       "        0.74048716, -0.6361769 ,  2.18924   , -0.05953673,  0.27149978,\n",
       "       -1.1434995 ,  0.6197387 , -0.56199324,  1.6680306 , -1.0519413 ,\n",
       "       -0.6313406 , -0.08013517, -0.5611827 ,  0.20161098,  1.5439419 ,\n",
       "        0.7734369 ,  1.0620648 ,  0.16143562, -0.44456568, -0.14517753,\n",
       "       -1.2164253 ,  0.05912282,  0.4325999 ,  0.9703728 ,  0.4870802 ,\n",
       "        0.3421728 , -1.4533973 , -0.27650675,  1.6685562 ,  0.03193279],\n",
       "      dtype=float32)"
      ]
     },
     "execution_count": 14,
     "metadata": {},
     "output_type": "execute_result"
    }
   ],
   "source": [
    "model.wv[u'이정재']"
   ]
  },
  {
   "cell_type": "code",
   "execution_count": null,
   "metadata": {
    "collapsed": true
   },
   "outputs": [],
   "source": []
  }
 ],
 "metadata": {
  "kernelspec": {
   "display_name": "Python 3",
   "language": "python",
   "name": "python3"
  },
  "language_info": {
   "codemirror_mode": {
    "name": "ipython",
    "version": 3
   },
   "file_extension": ".py",
   "mimetype": "text/x-python",
   "name": "python",
   "nbconvert_exporter": "python",
   "pygments_lexer": "ipython3",
   "version": "3.6.1"
  }
 },
 "nbformat": 4,
 "nbformat_minor": 2
}
