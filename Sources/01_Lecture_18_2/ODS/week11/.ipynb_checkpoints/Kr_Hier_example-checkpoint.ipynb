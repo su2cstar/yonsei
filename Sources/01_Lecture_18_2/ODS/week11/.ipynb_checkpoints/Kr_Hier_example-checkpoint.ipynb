{
 "cells": [
  {
   "cell_type": "code",
   "execution_count": 1,
   "metadata": {},
   "outputs": [],
   "source": [
    "from os import listdir\n",
    "from os.path import isfile, join\n",
    "\n",
    "mypath = './example_Kr_docs/'\n",
    "onlyfiles = [f for f in listdir(mypath) if isfile(join(mypath, f))]\n",
    "\n",
    "total_docs = []\n",
    "for file in onlyfiles:\n",
    "    file_path = mypath+file\n",
    "    with open(file_path, 'r', encoding='utf8') as f:\n",
    "        content = f.read()\n",
    "    total_docs.append(content)"
   ]
  },
  {
   "cell_type": "code",
   "execution_count": 2,
   "metadata": {},
   "outputs": [],
   "source": [
    "total_text =''\n",
    "for doc in total_docs:\n",
    "    total_text = total_text+' '+doc"
   ]
  },
  {
   "cell_type": "code",
   "execution_count": 3,
   "metadata": {},
   "outputs": [],
   "source": [
    "from kornounextractor.noun_extractor import extract\n",
    "with open('dic.txt', 'w', encoding='utf8') as f:\n",
    "    for word in sorted(extract(total_text, freq=1.0)):\n",
    "        f.write(word+'\\tNNG\\n')"
   ]
  },
  {
   "cell_type": "code",
   "execution_count": 4,
   "metadata": {},
   "outputs": [],
   "source": [
    "import konlpy.tag\n",
    "komoran = konlpy.tag.Komoran(userdic='dic.txt')"
   ]
  },
  {
   "cell_type": "code",
   "execution_count": 5,
   "metadata": {},
   "outputs": [],
   "source": [
    "stopwords = ['하며','동아일보','경향신문','조선일보','단독', '핫한', '한겨레', '재테크','재배포','동아닷컴','우리','사진','진행','.co','.kr','나가기','페이스북','.com','오전','18일', '19일', '이날','이번', '있다','홈페이지', '기자', '무단전재', '무단', '보기경향신문', '클릭', '하기', '금지', '기자', '뉴스', '기사', 'AP통신', 'Copyrights', 'SNS', 'chosuncom', 'dongacom', 'hyopdhanicokr', 'tbs', 'wwwkhancokr']"
   ]
  },
  {
   "cell_type": "code",
   "execution_count": 6,
   "metadata": {},
   "outputs": [],
   "source": [
    "def remove_words(words):\n",
    "    new_words=[word for word in words if len(word)>1 and word not in stopwords]\n",
    "    return new_words"
   ]
  },
  {
   "cell_type": "code",
   "execution_count": 7,
   "metadata": {},
   "outputs": [],
   "source": [
    "docs_nouns = [remove_words(komoran.nouns(doc.replace('\\n',' '))) for doc in total_docs]"
   ]
  },
  {
   "cell_type": "code",
   "execution_count": 8,
   "metadata": {},
   "outputs": [
    {
     "data": {
      "text/plain": [
       "13"
      ]
     },
     "execution_count": 8,
     "metadata": {},
     "output_type": "execute_result"
    }
   ],
   "source": [
    "len(docs_nouns)"
   ]
  },
  {
   "cell_type": "code",
   "execution_count": 9,
   "metadata": {},
   "outputs": [
    {
     "name": "stdout",
     "output_type": "stream",
     "text": [
      "['김학범', '감독', '자카르타', '팔렘방', '아시안게임', '남자', '축구', '대표팀', '이하', '한국시간', '인도네시아', '브카시', '패트리어트', '찬드라바', '스타디움', '우즈베키스탄', '대회', '전서', '황의조', '맹활약', '연장', '접전', '-3', '승리', '김학범호', '1월', 'AFC', '챔피언십', '강서', '우즈벡', '-4', '패배', '진출', '한국', '베트남', '시리아전', '승자', '결승행', '김학범', '감독', '전력', '가동', '-3', '-3', '이란', '전과', '비교', '선발', '라인업', '변화', '손흥민', '황의조', '낙점', '반면', '상호', '베로나', '대신', '선발', '출격', '황인범', '아산', '장윤호', '전북', '이승모', '광주', '중원', '구축', '포백', '라인', '왼쪽', '김진야', '인천', '황현수', '서울', '김민재', '전북', '김문환', '부산', '골키퍼', '장갑', '부상자', '조현우', '대구', '대신', '송범근', '경기', '시작', '동시', '한국', '전반', '손흥민', '돌파', '이후', '감각', '패스', '황의조', '황의조', '슈팅', '골문', '선제골', '한국', '손흥민', '중심', '역습', '우즈벡', '수비', '라인', '이용', '측면', '마무리', '실패', '전반', '장윤호', '부상', '그라운드', '교체', '분위기', '우즈벡', '전열', '정비', '반격', '전반', '한국', '박스', '이승모', '황현수', '수비', '안일', '리어', '미스', '측면', '크로스', '허용', '마샤리포프', '동점골', '한편', '장윤호', '경기장', '복귀', '벤치', '사인', '이진현', '교체', '경기장', '이후', '우즈벡', '한국', '선수', '체력', '문제', '우즈벡', '주포', '중심', '한국', '한국', '이상', '추가', '실점', '위기', '순간', '분위기', '히어로', '황의조', '전반', '황인범', '패스', '황의조', '중거리', '슈팅', '우즈벡', '골문', '황의조', '득점', '이후', '한국', '공세', '황의조', '전반', '개인', '기로', '상대', '수비진', '무너트리', '득점', '기회', '우즈벡', '골키퍼', '필사', '수비', '무산', '전반', '우즈벡', '페널티박스', '프리킥', '기회', '슈팅', '골문', '전반', '막바지', '시간', '한국', '반대', '페널티박스', '프리킥', '찬스', '손흥민', '키커', '상대', '선방', '무산', '전반', '한국', '-1', '마무리', '후반', '시작', '동시', '한국', '상호', '대신', '황희찬', '투입', '변화', '후반', '3분', '에프', '페널티박스', '위력', '오른발', '슈팅', '송범근', '자신감', '송범근', '후반', '상대', '슛터링', '안정', '모습', '송범근', '차례', '선방', '결국', '후반', '페널티박스', '골대', '아래', '오른발', '슈팅', '동점골', '동점골', '이후', '한국', '전열', '정비', '후반', '이승모', '중원', '위기', '허용', '알리', '슈팅', '황현수', '리드', '김학범', '감독', '후반', '이승모', '대신', '이승우', '투입', '변화', '이승우', '투입', '공격', '후반', '이승우', '페널티박스', '개인', '이후', '슈팅', '골문', '시간', '황의조', '한국', '후반', '우즈벡', '수비', '실수', '손흥민', '황의조', '패스', '황의조', '침착', '오른발', '대회', '해트트릭', '기록', '한국', '정규', '시간', '승부', '체력', '문제', '플레이', '후반', '황희찬', '돌파', '기회', '오프사이드', '선언', '우즈벡', '후반', '막판', '역습', '후반', '추가시간', '손흥민', '돌파', '시도', '잔디', '무산', '정규시간', '90분', '-3', '종료', '연장전', '돌입', '연장', '전반', '위협', '슈팅', '허공', '한국', '교체', '투입', '이승우', '중심', '공격', '연장', '전반', '10분', '멀티골', '이승우', '신경전', '시도하', '옐로', '카드', '옐로', '카드', '경고', '누적', '경기장', '우위', '바탕', '공세', '한국', '후반', '이승우', '슈팅', '황의조', '쇄도', '마무리', '연결', '실패', '연장', '후반', '황인범', '중거리', '슈팅', '시도', '연장', '후반', '황의조', '환상', '슈팅', '경기', '시작', '마무리', '황의조', '황의조', '연장', '후반', '상대', '페널티박스', '반칙', '유도', '페널티킥', '키커', '황희찬', '마무리', '-3', '시작', '한국', '우즈벡', '남은', '공습', '강행', '확정']\n"
     ]
    }
   ],
   "source": [
    "print(docs_nouns[0])"
   ]
  },
  {
   "cell_type": "code",
   "execution_count": 10,
   "metadata": {},
   "outputs": [],
   "source": [
    "from sklearn.feature_extraction.text import TfidfVectorizer # tf-idf based DTM\n",
    "def tfidf_extractor(corpus):\n",
    "    # returns a tf-idf based DTM\n",
    "    vectorizer = TfidfVectorizer(min_df=1, \n",
    "                                 norm='l2',\n",
    "                                 smooth_idf=True,\n",
    "                                 use_idf=True,\n",
    "                                 ngram_range=(1,1))\n",
    "    features = vectorizer.fit_transform(corpus)\n",
    "    return vectorizer, features"
   ]
  },
  {
   "cell_type": "code",
   "execution_count": 10,
   "metadata": {
    "collapsed": true
   },
   "outputs": [],
   "source": [
    "documents_filtered = []\n",
    "for doc in docs_nouns:\n",
    "    document_filtered =''\n",
    "    for word in doc:\n",
    "        document_filtered = document_filtered+' '+word\n",
    "    documents_filtered.append(document_filtered)"
   ]
  },
  {
   "cell_type": "code",
   "execution_count": 11,
   "metadata": {},
   "outputs": [
    {
     "data": {
      "text/plain": [
       "' 김학범 감독 자카르타 팔렘방 아시안게임 남자 축구 대표팀 이하 한국시간 인도네시아 브카시 패트리어트 찬드라바 스타디움 우즈베키스탄 대회 전서 황의조 맹활약 연장 접전 -3 승리 김학범호 1월 AFC 챔피언십 강서 우즈벡 -4 패배 진출 한국 베트남 시리아전 승자 결승행 김학범 감독 전력 가동 -3 -3 이란 전과 비교 선발 라인업 변화 손흥민 황의조 낙점 반면 상호 베로나 대신 선발 출격 황인범 아산 장윤호 전북 이승모 광주 중원 구축 포백 라인 왼쪽 김진야 인천 황현수 서울 김민재 전북 김문환 부산 골키퍼 장갑 부상자 조현우 대구 대신 송범근 경기 시작 동시 한국 전반 손흥민 돌파 이후 감각 패스 황의조 황의조 슈팅 골문 선제골 한국 손흥민 중심 역습 우즈벡 수비 라인 이용 측면 마무리 실패 전반 장윤호 부상 그라운드 교체 분위기 우즈벡 전열 정비 반격 전반 한국 박스 이승모 황현수 수비 안일 리어 미스 측면 크로스 허용 마샤리포프 동점골 한편 장윤호 경기장 복귀 벤치 사인 이진현 교체 경기장 이후 우즈벡 한국 선수 체력 문제 우즈벡 주포 중심 한국 한국 이상 추가 실점 위기 순간 분위기 히어로 황의조 전반 황인범 패스 황의조 중거리 슈팅 우즈벡 골문 황의조 득점 이후 한국 공세 황의조 전반 개인 기로 상대 수비진 무너트리 득점 기회 우즈벡 골키퍼 필사 수비 무산 전반 우즈벡 페널티박스 프리킥 기회 슈팅 골문 전반 막바지 시간 한국 반대 페널티박스 프리킥 찬스 손흥민 키커 상대 선방 무산 전반 한국 -1 마무리 후반 시작 동시 한국 상호 대신 황희찬 투입 변화 후반 3분 에프 페널티박스 위력 오른발 슈팅 송범근 자신감 송범근 후반 상대 슛터링 안정 모습 송범근 차례 선방 결국 후반 페널티박스 골대 아래 오른발 슈팅 동점골 동점골 이후 한국 전열 정비 후반 이승모 중원 위기 허용 알리 슈팅 황현수 리드 김학범 감독 후반 이승모 대신 이승우 투입 변화 이승우 투입 공격 후반 이승우 페널티박스 개인 이후 슈팅 골문 시간 황의조 한국 후반 우즈벡 수비 실수 손흥민 황의조 패스 황의조 침착 오른발 대회 해트트릭 기록 한국 정규 시간 승부 체력 문제 플레이 후반 황희찬 돌파 기회 오프사이드 선언 우즈벡 후반 막판 역습 후반 추가시간 손흥민 돌파 시도 잔디 무산 정규시간 90분 -3 종료 연장전 돌입 연장 전반 위협 슈팅 허공 한국 교체 투입 이승우 중심 공격 연장 전반 10분 멀티골 이승우 신경전 시도하 옐로 카드 옐로 카드 경고 누적 경기장 우위 바탕 공세 한국 후반 이승우 슈팅 황의조 쇄도 마무리 연결 실패 연장 후반 황인범 중거리 슈팅 시도 연장 후반 황의조 환상 슈팅 경기 시작 마무리 황의조 황의조 연장 후반 상대 페널티박스 반칙 유도 페널티킥 키커 황희찬 마무리 -3 시작 한국 우즈벡 남은 공습 강행 확정'"
      ]
     },
     "execution_count": 11,
     "metadata": {},
     "output_type": "execute_result"
    }
   ],
   "source": [
    "documents_filtered[0]"
   ]
  },
  {
   "cell_type": "code",
   "execution_count": 13,
   "metadata": {
    "collapsed": true
   },
   "outputs": [],
   "source": [
    "vectorizer, DTM_tfidf = tfidf_extractor(documents_filtered)"
   ]
  },
  {
   "cell_type": "code",
   "execution_count": 14,
   "metadata": {
    "collapsed": true
   },
   "outputs": [],
   "source": [
    "import numpy as np"
   ]
  },
  {
   "cell_type": "code",
   "execution_count": 22,
   "metadata": {
    "collapsed": true
   },
   "outputs": [],
   "source": [
    "DTM_TFIDF = np.array(DTM_tfidf.todense())"
   ]
  },
  {
   "cell_type": "code",
   "execution_count": 16,
   "metadata": {
    "collapsed": true
   },
   "outputs": [],
   "source": [
    "from sklearn.cluster import AgglomerativeClustering"
   ]
  },
  {
   "cell_type": "code",
   "execution_count": 17,
   "metadata": {
    "collapsed": true
   },
   "outputs": [],
   "source": [
    "cluster_idf = AgglomerativeClustering(linkage='single', affinity='cosine', n_clusters=4).fit(DTM_np)"
   ]
  },
  {
   "cell_type": "code",
   "execution_count": 18,
   "metadata": {},
   "outputs": [
    {
     "data": {
      "text/plain": [
       "array([1, 1, 1, 3, 3, 3, 2, 2, 2, 2, 0, 0, 0], dtype=int64)"
      ]
     },
     "execution_count": 18,
     "metadata": {},
     "output_type": "execute_result"
    }
   ],
   "source": [
    "cluster_idf.labels_"
   ]
  },
  {
   "cell_type": "code",
   "execution_count": 19,
   "metadata": {
    "collapsed": true
   },
   "outputs": [],
   "source": [
    "import networkx as nx\n",
    "from sklearn.metrics.pairwise import cosine_similarity # cosine similarity 계산하기\n",
    "import itertools"
   ]
  },
  {
   "cell_type": "code",
   "execution_count": 20,
   "metadata": {
    "collapsed": true
   },
   "outputs": [],
   "source": [
    "DOCS_NUM = len(docs_nouns)"
   ]
  },
  {
   "cell_type": "code",
   "execution_count": 21,
   "metadata": {},
   "outputs": [
    {
     "data": {
      "text/plain": [
       "13"
      ]
     },
     "execution_count": 21,
     "metadata": {},
     "output_type": "execute_result"
    }
   ],
   "source": [
    "DOCS_NUM "
   ]
  },
  {
   "cell_type": "code",
   "execution_count": 25,
   "metadata": {
    "collapsed": true
   },
   "outputs": [],
   "source": [
    "clusters = []\n",
    "g = nx.Graph()\n",
    "g.add_nodes_from(list(range(DOCS_NUM)))\n",
    "for pair in list(itertools.combinations(range(DOCS_NUM), 2)):\n",
    "    similarity = cosine_similarity(DTM_TFIDF[pair[0]].reshape(1,-1), DTM_TFIDF[pair[1]].reshape(1,-1))[0][0]\n",
    "\n",
    "    if similarity>0.15: # 문서간의 유사도 기준을 0.35로 한 경우\n",
    "        g.add_edge(pair[0], pair[1], weight=similarity)"
   ]
  },
  {
   "cell_type": "code",
   "execution_count": 26,
   "metadata": {},
   "outputs": [
    {
     "name": "stderr",
     "output_type": "stream",
     "text": [
      "C:\\Users\\Sang\\Anaconda3\\lib\\site-packages\\networkx\\drawing\\nx_pylab.py:611: MatplotlibDeprecationWarning: isinstance(..., numbers.Number)\n",
      "  if cb.is_numlike(alpha):\n"
     ]
    },
    {
     "data": {
      "image/png": "[encoded data removed]",
      "text/plain": [
       "<Figure size 432x288 with 1 Axes>"
      ]
     },
     "metadata": {},
     "output_type": "display_data"
    }
   ],
   "source": [
    "import matplotlib.pyplot as plt\n",
    "nx.draw_networkx(g)\n",
    "plt.show()"
   ]
  },
  {
   "cell_type": "code",
   "execution_count": null,
   "metadata": {
    "collapsed": true
   },
   "outputs": [],
   "source": []
  }
 ],
 "metadata": {
  "kernelspec": {
   "display_name": "Python 3",
   "language": "python",
   "name": "python3"
  },
  "language_info": {
   "codemirror_mode": {
    "name": "ipython",
    "version": 3
   },
   "file_extension": ".py",
   "mimetype": "text/x-python",
   "name": "python",
   "nbconvert_exporter": "python",
   "pygments_lexer": "ipython3",
   "version": "3.6.5"
  }
 },
 "nbformat": 4,
 "nbformat_minor": 2
}
