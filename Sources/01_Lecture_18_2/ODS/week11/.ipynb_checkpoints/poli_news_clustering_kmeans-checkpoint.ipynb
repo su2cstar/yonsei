{
 "cells": [
  {
   "cell_type": "code",
   "execution_count": 1,
   "metadata": {},
   "outputs": [],
   "source": [
    "import pickle\n",
    "from sklearn.feature_extraction.text import TfidfVectorizer\n",
    "from sklearn.cluster import KMeans"
   ]
  },
  {
   "cell_type": "code",
   "execution_count": 2,
   "metadata": {},
   "outputs": [],
   "source": [
    "NUM_CLUSTERS = 20 # Define the number of clusters to be found"
   ]
  },
  {
   "cell_type": "code",
   "execution_count": 3,
   "metadata": {},
   "outputs": [],
   "source": [
    "def tfidf_extractor(corpus):\n",
    "    # returns a tf-idf based DTM\n",
    "    vectorizer = TfidfVectorizer(min_df=1, \n",
    "                                 norm='l2',\n",
    "                                 smooth_idf=True,\n",
    "                                 use_idf=True,\n",
    "                                 ngram_range=(1,1))\n",
    "    features = vectorizer.fit_transform(corpus)\n",
    "    return vectorizer, features"
   ]
  },
  {
   "cell_type": "code",
   "execution_count": 4,
   "metadata": {},
   "outputs": [],
   "source": [
    "def get_Noun_words(morphs):\n",
    "    Noun_words = []\n",
    "    for word, tag in morphs:\n",
    "        if tag == 'Noun':\n",
    "            Noun_words.append(word)\n",
    "    return Noun_words"
   ]
  },
  {
   "cell_type": "code",
   "execution_count": 5,
   "metadata": {},
   "outputs": [],
   "source": [
    "total_morphs = pickle.load(open('politics_2016_morphs.p','rb'))    \n",
    "# 텍스트 데이터를 수집 후 Twitter 형태소 분석기를 사용해서 형태소 분석을 한 결과를 politics_2016_morphs.p에\n",
    "# 저장한 후, 본 파일에서는 그 데이터를 사용함\n",
    "# dict type\n",
    "# key -> article id (e.g., '081-0002735239')"
   ]
  },
  {
   "cell_type": "code",
   "execution_count": 6,
   "metadata": {},
   "outputs": [
    {
     "data": {
      "text/plain": [
       "2632"
      ]
     },
     "execution_count": 6,
     "metadata": {},
     "output_type": "execute_result"
    }
   ],
   "source": [
    "len(total_morphs)"
   ]
  },
  {
   "cell_type": "code",
   "execution_count": 7,
   "metadata": {},
   "outputs": [
    {
     "name": "stdout",
     "output_type": "stream",
     "text": [
      "[('[', 'Punctuation'), ('서울', 'Noun'), ('신문', 'Noun'), ('나우', 'Noun'), ('뉴스', 'Noun'), (']', 'Punctuation'), ('한국', 'Noun'), ('형', 'Suffix'), ('전투기', 'Noun'), ('KFX', 'Alpha'), ('(', 'Punctuation'), ('왼쪽', 'Noun'), (')', 'Punctuation'), ('와', 'Noun'), ('일본', 'Noun'), ('F', 'Alpha'), ('-', 'Punctuation'), ('3', 'Number'), ('전투기', 'Noun'), ('(', 'Punctuation'), ('오른쪽', 'Noun'), (')', 'Punctuation'), ('사진', 'Noun'), ('=', 'Punctuation'), ('한국', 'Noun'), ('KAI', 'Alpha'), ('및', 'Noun'), ('일본', 'Noun'), ('방위성', 'Noun'), ('자료', 'Noun'), ('사진', 'Noun'), ('흔히', 'Adjective'), ('우리나라', 'Noun'), ('를', 'Josa'), ('‘', 'Foreign'), ('일본', 'Noun'), ('을', 'Josa'), ('우습', 'Verb'), ('게', 'Eomi'), ('보는', 'Verb'), ('세계', 'Noun'), ('에서', 'Josa'), ('유일', 'Noun'), ('한', 'Josa'), ('민족', 'Noun'), ('’', 'Foreign'), ('이라고', 'Josa'), ('들', 'Verb'), ('한', 'Verb'), ('다', 'Eomi'), ('일본', 'Noun'), ('은', 'Josa'), ('GDP', 'Alpha'), ('순위', 'Noun'), ('세계', 'Noun'), ('3', 'Number'), ('위로', 'Noun'), ('세계', 'Noun'), ('경제', 'Noun'), ('에', 'Josa'), ('강력한', 'Adjective'), ('영향력', 'Noun'), ('을', 'Josa'), ('미치는', 'Adjective'), ('나라', 'Noun'), ('일', 'Noun'), ('뿐', 'Noun'), ('만', 'Josa'), ('아니', 'Adjective'), ('라', 'Eomi'), ('전반', 'Noun'), ('적', 'Suffix'), ('인', 'Josa'), ('국력', 'Noun'), ('이', 'Josa'), ('우리나라', 'Noun'), ('를', 'Josa'), ('크게', 'Noun'), ('앞서는', 'Verb'), ('나라', 'Noun'), ('지만', 'Josa'), (',', 'Punctuation'), ('이러한', 'Adjective'), ('객관', 'Noun'), ('적', 'Suffix'), ('인', 'Josa'), ('지표', 'Noun'), ('의', 'Josa'), ('열세', 'Noun'), ('와', 'Josa'), ('관계없이', 'Adverb'), ('우리', 'Noun'), ('국민', 'Noun'), ('들', 'Suffix'), ('은', 'Josa'), ('일본', 'Noun'), ('을', 'Josa'), ('‘', 'Foreign'), ('무시', 'Noun'), ('’', 'Foreign'), (',', 'Punctuation'), ('‘', 'Foreign'), ('괄시', 'Noun'), ('’', 'Foreign'), (',', 'Punctuation'), ('‘', 'Foreign'), ('멸시', 'Noun'), ('’', 'Foreign'), ('하는', 'Verb'), ('경우', 'Noun'), ('가', 'Josa'), ('많다', 'Adjective'), ('국가대표', 'Noun'), ('축구팀', 'Noun'), ('감독', 'Noun'), ('은', 'Josa'), ('평상시', 'Noun'), ('에', 'Josa'), ('제아무리', 'Noun'), ('뛰어난', 'Adjective'), ('성적', 'Noun'), ('을', 'Josa'), ('거두더', 'Verb'), ('라도', 'Eomi'), ('한일전', 'Noun'), ('에서', 'Josa'), ('패', 'Noun'), ('하면', 'Verb'), ('사퇴', 'Noun'), ('를', 'Josa'), ('각오', 'Noun'), ('해야', 'Verb'), ('하고', 'Verb'), (',', 'Punctuation'), ('각종', 'Noun'), ('지표', 'Noun'), ('나', 'Josa'), ('통계', 'Noun'), ('에서', 'Josa'), ('일본', 'Noun'), ('에', 'Josa'), ('뒤', 'Noun'), ('처지', 'Noun'), ('는', 'Josa'), ('결과', 'Noun'), ('가', 'Josa'), ('나왔', 'Verb'), ('다는', 'Eomi'), ('뉴스', 'Noun'), ('가', 'Josa'), ('보도되', 'Verb'), ('면', 'Eomi'), ('분통', 'Noun'), ('을', 'Josa'), ('터', 'Noun'), ('트리', 'Noun'), ('는', 'Josa'), ('댓글', 'Noun'), ('이', 'Josa'), ('줄', 'Noun'), ('을', 'Josa'), ('잇는', 'Verb'), ('다', 'Eomi'), ('우리나라', 'Noun'), ('가', 'Josa'), ('국가', 'Noun'), ('적', 'Suffix'), ('자존심', 'Noun'), ('을', 'Josa'), ('걸고', 'Verb'), ('‘', 'Foreign'), ('단군', 'Noun'), ('이래', 'Adjective'), ('최대', 'Noun'), ('의', 'Josa'), ('국방', 'Noun'), ('사업', 'Noun'), ('’', 'Foreign'), ('이라고', 'Josa'), ('불리는', 'Verb'), ('한국', 'Noun'), ('형', 'Suffix'), ('전투기', 'Noun'), ('(', 'Punctuation'), ('KFX', 'Alpha'), (')', 'Punctuation'), ('체계', 'Noun'), ('개발', 'Noun'), ('에', 'Josa'), ('들어가자', 'Verb'), ('일본', 'Noun'), ('은', 'Josa'), ('차세', 'Verb'), ('대', 'Eomi'), ('스텔스', 'Noun'), ('전투기', 'Noun'), ('기술', 'Noun'), ('실증', 'Noun'), ('기', 'Noun'), ('의', 'Josa'), ('시험', 'Noun'), ('비행', 'Noun'), ('을', 'Josa'), ('실시하고', 'Verb'), (',', 'Punctuation'), ('최근', 'Noun'), ('차세', 'Verb'), ('대', 'Eomi'), ('전투기', 'Noun'), ('개발', 'Noun'), ('본격', 'Noun'), ('화', 'Suffix'), ('를', 'Josa'), ('위한', 'Verb'), ('기술', 'Noun'), ('공개', 'Noun'), ('접수', 'Noun'), ('를', 'Josa'), ('마감', 'Noun'), ('하면', 'Verb'), ('서', 'Eomi'), ('본격', 'Noun'), ('적', 'Suffix'), ('인', 'Josa'), ('전투기', 'Noun'), ('개발', 'Noun'), ('에', 'Josa'), ('들어갔', 'Verb'), ('다', 'Eomi'), ('韓', 'Foreign'), ('KFX', 'Alpha'), ('vs', 'Alpha'), ('日', 'Foreign'), ('F', 'Alpha'), ('-', 'Punctuation'), ('3', 'Number'), ('우리나라', 'Noun'), ('의', 'Josa'), ('KFX', 'Alpha'), ('와', 'Noun'), ('일본', 'Noun'), ('의', 'Josa'), ('F', 'Alpha'), ('-', 'Punctuation'), ('3', 'Number'), ('는', 'Verb'), ('비슷한', 'Adjective'), ('시기', 'Noun'), ('에', 'Josa'), ('등장할', 'Verb'), ('전투기', 'Noun'), ('지만', 'Josa'), (',', 'Punctuation'), ('그', 'Noun'), ('성능', 'Noun'), ('면', 'Noun'), ('에서는', 'Josa'), ('‘', 'Foreign'), ('하늘', 'Noun'), ('과', 'Josa'), ('땅', 'Noun'), ('’', 'Foreign'), ('에', 'Josa'), ('가까', 'Adjective'), ('울', 'PreEomi'), ('만큼의', 'Josa'), ('차이', 'Noun'), ('가', 'Josa'), ('있다', 'Adjective'), ('결론', 'Noun'), ('부터', 'Josa'), ('말하자', 'Verb'), ('면', 'Eomi'), ('유사시', 'Noun'), ('독도', 'Noun'), ('상공', 'Noun'), ('에서', 'Josa'), ('KFX', 'Alpha'), ('로', 'Noun'), ('F', 'Alpha'), ('-', 'Punctuation'), ('3', 'Number'), ('에', 'Josa'), ('덤', 'Noun'), ('비는', 'Verb'), ('것', 'Noun'), ('은', 'Josa'), ('무모', 'Noun'), ('한', 'Josa'), ('자살', 'Noun'), ('행위', 'Noun'), ('에', 'Josa'), ('가깝', 'Adjective'), ('다', 'Eomi'), ('2026', 'Number'), ('년', 'Noun'), ('부터', 'Josa'), ('실전', 'Noun'), ('배치', 'Noun'), ('되는', 'Verb'), ('KFX', 'Alpha'), ('는', 'Verb'), ('4', 'Number'), ('5', 'Number'), ('세대', 'Noun'), ('전투기', 'Noun'), ('를', 'Josa'), ('표방', 'Noun'), ('하고', 'Josa'), ('있다', 'Adjective'), ('라팔', 'Noun'), ('이나', 'Josa'), ('유로파이터', 'Noun'), ('와', 'Josa'), ('같은', 'Adjective'), ('4', 'Number'), ('5', 'Number'), ('세대', 'Noun'), ('전투기', 'Noun'), ('들', 'Suffix'), ('이', 'Josa'), ('2000', 'Number'), ('년대', 'Noun'), ('초반', 'Noun'), ('부터', 'Josa'), ('등장했', 'Verb'), ('다는', 'Eomi'), ('사실', 'Noun'), ('을', 'Josa'), ('감안', 'Noun'), ('한', 'Verb'), ('다면', 'Eomi'), ('등장', 'Noun'), ('자체', 'Noun'), ('가', 'Josa'), ('경쟁', 'Noun'), ('기종', 'Noun'), ('들', 'Suffix'), ('보다', 'Josa'), ('20', 'Number'), ('년', 'Noun'), ('이상', 'Noun'), ('늦었', 'Verb'), ('다는', 'Eomi'), ('이야기', 'Noun'), ('다', 'Josa'), ('미국', 'Noun'), ('과', 'Josa'), ('러시아', 'Noun'), (',', 'Punctuation'), ('중국', 'Noun'), ('등', 'Noun'), ('강대국', 'Noun'), ('들', 'Suffix'), ('은', 'Josa'), ('이미', 'Adverb'), ('5', 'Number'), ('세대', 'Noun'), ('전투기', 'Noun'), ('를', 'Josa'), ('실전', 'Noun'), ('에', 'Josa'), ('배치', 'Noun'), ('하고', 'Josa'), ('있고', 'Adjective'), (',', 'Punctuation'), ('KFX', 'Alpha'), ('가', 'Verb'), ('한창', 'Noun'), ('양산', 'Noun'), ('될', 'Verb'), ('2030', 'Number'), ('년대', 'Noun'), ('출시', 'Noun'), ('를', 'Josa'), ('목표', 'Noun'), ('로', 'Josa'), ('6', 'Number'), ('세대', 'Noun'), ('전투기', 'Noun'), ('에', 'Josa'), ('대한', 'Noun'), ('개념', 'Noun'), ('연구', 'Noun'), ('단계', 'Noun'), ('에', 'Josa'), ('들어가', 'Verb'), ('있다', 'Adjective'), ('F', 'Alpha'), ('-', 'Punctuation'), ('16', 'Number'), ('보다', 'Verb'), ('조금', 'Noun'), ('더', 'Noun'), ('큰', 'Verb'), ('24', 'Number'), ('5', 'Number'), ('톤', 'Noun'), ('의', 'Josa'), ('최대', 'Noun'), ('이륙', 'Noun'), ('중량', 'Noun'), ('에', 'Josa'), ('쌍발', 'Noun'), ('엔진', 'Noun'), (',', 'Punctuation'), ('마하', 'Noun'), ('1', 'Number'), ('8', 'Number'), ('수준', 'Noun'), ('의', 'Josa'), ('최대', 'Noun'), ('속도', 'Noun'), ('를', 'Josa'), ('갖춘', 'Verb'), ('KFX', 'Alpha'), ('는', 'Verb'), ('현재', 'Noun'), ('기준', 'Noun'), ('에서는', 'Josa'), ('상당히', 'Adjective'), ('우수한', 'Adjective'), ('전투기', 'Noun'), ('지만', 'Josa'), (',', 'Punctuation'), ('5', 'Number'), ('세대', 'Noun'), ('전투기', 'Noun'), ('보급', 'Noun'), ('이', 'Josa'), ('일반', 'Noun'), ('화', 'Suffix'), ('되는', 'Verb'), ('2020', 'Number'), ('년대', 'Noun'), ('중반', 'Noun'), ('이후', 'Noun'), ('부터는', 'Josa'), ('성능', 'Noun'), ('면', 'Noun'), ('에서', 'Josa'), ('주변', 'Noun'), ('국', 'Noun'), ('주력', 'Noun'), ('전투기', 'Noun'), ('보다', 'Josa'), ('상당한', 'Adjective'), ('열세', 'Noun'), ('에', 'Josa'), ('처', 'Noun'), ('하게', 'Verb'), ('될', 'Verb'), ('수', 'Noun'), ('밖에', 'Josa'), ('없다', 'Adjective'), ('이', 'Noun'), ('때문', 'Noun'), ('에', 'Josa'), ('KFX', 'Alpha'), ('는', 'Verb'), ('블록', 'Noun'), ('(', 'Punctuation'), ('Block', 'Alpha'), (')', 'Punctuation'), ('개념', 'Noun'), ('을', 'Josa'), ('도입', 'Noun'), ('해', 'Josa'), ('단계', 'Noun'), ('적', 'Suffix'), ('으로', 'Josa'), ('성능', 'Noun'), ('을', 'Josa'), ('향상', 'Noun'), ('시킬', 'Verb'), ('계획', 'Noun'), ('이지만', 'Josa'), (',', 'Punctuation'), ('기체', 'Noun'), ('크기', 'Noun'), ('의', 'Josa'), ('한계', 'Noun'), ('때문', 'Noun'), ('에', 'Josa'), ('개량', 'Noun'), ('형', 'Suffix'), ('인', 'Josa'), ('블록', 'Noun'), ('II', 'Alpha'), ('나', 'Noun'), ('블록', 'Noun'), ('III', 'Alpha'), ('에서도', 'Josa'), ('충분한', 'Adjective'), ('용적', 'Noun'), ('의', 'Josa'), ('내부', 'Noun'), ('무장', 'Noun'), ('창', 'Noun'), ('이나', 'Josa'), ('항공전자', 'Noun'), ('장비', 'Noun'), ('를', 'Josa'), ('갖추기', 'Verb'), ('어려워', 'Adjective'), ('주변', 'Noun'), ('국', 'Noun'), ('대비', 'Noun'), ('성능', 'Noun'), ('열세', 'Noun'), ('는', 'Josa'), ('극복', 'Noun'), ('하기', 'Verb'), ('어려', 'Verb'), ('울', 'PreEomi'), ('것', 'Noun'), ('으로', 'Josa'), ('보인', 'Verb'), ('다', 'Eomi'), ('이', 'Noun'), ('와', 'Josa'), ('대조', 'Noun'), ('적', 'Suffix'), ('으로', 'Josa'), ('일본', 'Noun'), ('이', 'Josa'), ('준비하고', 'Verb'), ('있는', 'Adjective'), ('F', 'Alpha'), ('-', 'Punctuation'), ('3', 'Number'), ('는', 'Verb'), ('목표', 'Noun'), ('성능', 'Noun'), ('치가', 'Noun'), ('KFX', 'Alpha'), ('와는', 'Josa'), ('‘', 'Foreign'), ('클래스', 'Noun'), ('’', 'Foreign'), ('가', 'Verb'), ('다르', 'Adjective'), ('다', 'Eomi'), ('일본', 'Noun'), ('은', 'Josa'), ('F', 'Alpha'), ('-', 'Punctuation'), ('3', 'Number'), ('의', 'Noun'), ('목표', 'Noun'), ('성능', 'Noun'), ('을', 'Josa'), ('현존', 'Noun'), ('최강', 'Noun'), ('의', 'Josa'), ('전투기', 'Noun'), ('라는', 'Josa'), ('미국', 'Noun'), ('의', 'Josa'), ('F', 'Alpha'), ('-', 'Punctuation'), ('22', 'Number'), ('A', 'Alpha'), ('랩터', 'Noun'), ('(', 'Punctuation'), ('Raptor', 'Alpha'), (')', 'Punctuation'), ('와', 'Noun'), ('동등', 'Noun'), ('이상', 'Noun'), ('으로', 'Josa'), ('설정', 'Noun'), ('하고', 'Josa'), ('있다', 'Adjective'), ('F', 'Alpha'), ('-', 'Punctuation'), ('3', 'Number'), ('에는', 'Josa'), ('스텔스기', 'Noun'), ('를', 'Josa'), ('원거리', 'Noun'), ('에서', 'Josa'), ('탐지', 'Noun'), ('할', 'Verb'), ('수', 'Noun'), ('있는', 'Adjective'), ('고성능', 'Noun'), ('AESA', 'Alpha'), ('(', 'Punctuation'), ('Active', 'Alpha'), ('Electronically', 'Alpha'), ('Scanned', 'Alpha'), ('Array', 'Alpha'), (')', 'Punctuation'), ('레이더', 'Noun'), ('와', 'Josa'), ('전자전', 'Noun'), ('장비', 'Noun'), (',', 'Punctuation'), ('적외선', 'Noun'), ('탐색', 'Noun'), ('추적', 'Noun'), ('장비', 'Noun'), ('(', 'Punctuation'), ('IRST', 'Alpha'), (')', 'Punctuation'), ('등', 'Noun'), ('을', 'Josa'), ('통합', 'Noun'), ('한', 'Josa'), ('선진', 'Noun'), ('통합', 'Noun'), ('센서', 'Noun'), ('는', 'Josa'), ('물론', 'Noun'), (',', 'Punctuation'), ('기체', 'Noun'), ('표면', 'Noun'), ('에', 'Josa'), ('붙여', 'Verb'), ('사각', 'Noun'), ('지대', 'Noun'), ('를', 'Josa'), ('없애', 'Verb'), ('주', 'PreEomi'), ('는', 'Eomi'), ('레이더', 'Noun'), ('인', 'Josa'), ('스마트', 'Noun'), ('스킨', 'Noun'), ('(', 'Punctuation'), ('Smart', 'Alpha'), ('skin', 'Alpha'), ('),', 'Punctuation'), ('중거리', 'Noun'), ('공대', 'Noun'), ('공', 'Noun'), ('미사일', 'Noun'), ('6', 'Number'), ('발', 'Noun'), ('이상', 'Noun'), ('을', 'Josa'), ('수납', 'Noun'), ('할', 'Verb'), ('수', 'Noun'), ('있는', 'Adjective'), ('넓은', 'Adjective'), ('내부', 'Noun'), ('무장', 'Noun'), ('창', 'Noun'), ('과', 'Josa'), ('30', 'Number'), ('톤', 'Noun'), ('급', 'Suffix'), ('이상', 'Noun'), ('의', 'Josa'), ('대형', 'Noun'), ('전투기', 'Noun'), ('를', 'Josa'), ('마하', 'Noun'), ('1', 'Number'), ('5', 'Number'), ('이상', 'Noun'), ('으로', 'Josa'), ('초음속', 'Noun'), ('순항', 'Noun'), ('시킬', 'Verb'), ('수', 'Noun'), ('있는', 'Adjective'), ('고성능', 'Noun'), ('엔진', 'Noun'), (',', 'Punctuation'), ('그리고', 'Conjunction'), ('고기', 'Noun'), ('동', 'Noun'), ('을', 'Josa'), ('위한', 'Verb'), ('비행', 'Noun'), ('제어', 'Noun'), ('시스템', 'Noun'), ('이', 'Josa'), ('구현', 'Noun'), ('될', 'Verb'), ('예정', 'Noun'), ('이다', 'Josa'), ('일본', 'Noun'), ('은', 'Josa'), ('지난', 'Noun'), ('4', 'Number'), ('월', 'Noun'), ('과', 'Josa'), ('5', 'Number'), ('월', 'Noun'), ('에', 'Josa'), ('시험', 'Noun'), ('비행', 'Noun'), ('을', 'Josa'), ('실시한', 'Verb'), ('기술', 'Noun'), ('실증', 'Noun'), ('기', 'Noun'), ('X', 'Alpha'), ('-', 'Punctuation'), ('2', 'Number'), ('에서', 'Noun'), ('F', 'Alpha'), ('-', 'Punctuation'), ('3', 'Number'), ('에', 'Josa'), ('탑재', 'Noun'), ('될', 'Verb'), ('통합', 'Noun'), ('센서', 'Noun'), ('와', 'Josa'), ('엔진', 'Noun'), ('의', 'Josa'), ('선행', 'Noun'), ('개발', 'Noun'), ('제품', 'Noun'), ('들', 'Suffix'), ('의', 'Josa'), ('기술', 'Noun'), ('테스트', 'Noun'), ('를', 'Josa'), ('실시했', 'Verb'), ('을', 'Eomi'), ('정도', 'Noun'), ('로', 'Josa'), ('관련', 'Noun'), ('연구', 'Noun'), ('를', 'Josa'), ('상당', 'Noun'), ('수준', 'Noun'), ('진척', 'Noun'), ('시켰', 'Verb'), ('다', 'Eomi'), ('이', 'Noun'), ('때문', 'Noun'), ('에', 'Josa'), ('오는', 'Verb'), ('2028', 'Number'), ('년', 'Noun'), ('까지', 'Josa'), ('F', 'Alpha'), ('-', 'Punctuation'), ('22', 'Number'), ('A', 'Alpha'), ('와', 'Noun'), ('동등', 'Noun'), ('이상', 'Noun'), ('의', 'Josa'), ('성능', 'Noun'), ('을', 'Josa'), ('가진', 'Verb'), ('세계', 'Noun'), ('최고', 'Noun'), ('수준', 'Noun'), ('의', 'Josa'), ('전투기', 'Noun'), ('를', 'Josa'), ('개발한', 'Verb'), ('다는', 'Eomi'), ('일본', 'Noun'), ('의', 'Josa'), ('목표', 'Noun'), ('는', 'Josa'), ('어렵', 'Adjective'), ('지', 'Eomi'), ('않게', 'Verb'), ('달성', 'Noun'), ('될', 'Verb'), ('수', 'Noun'), ('있', 'Adjective'), ('을', 'Eomi'), ('것', 'Noun'), ('으로', 'Josa'), ('보인', 'Verb'), ('다', 'Eomi'), ('최근', 'Noun'), ('시험', 'Noun'), ('비행', 'Noun'), ('에', 'Josa'), ('성공한', 'Verb'), ('기술', 'Noun'), ('실증', 'Noun'), ('기', 'Noun'), ('X', 'Alpha'), ('-', 'Punctuation'), ('2', 'Number'), ('(', 'Punctuation'), ('사진', 'Noun'), ('=', 'Punctuation'), ('일본', 'Noun'), ('미쓰비시', 'Noun'), ('중공업', 'Noun'), (')', 'Punctuation'), ('방위성', 'Noun'), ('은', 'Josa'), ('F', 'Alpha'), ('-', 'Punctuation'), ('3', 'Number'), ('전투기', 'Noun'), ('를', 'Josa'), ('F', 'Alpha'), ('-', 'Punctuation'), ('2', 'Number'), ('지원', 'Noun'), ('전투기', 'Noun'), ('의', 'Josa'), ('후계', 'Noun'), ('로', 'Josa'), ('100', 'Number'), ('여', 'Noun'), ('대', 'Verb'), ('이상', 'Noun'), ('전력', 'Noun'), ('화', 'Suffix'), ('한', 'Josa'), ('다는', 'Verb'), ('구상', 'Noun'), ('을', 'Josa'), ('가지', 'Noun'), ('고', 'Josa'), ('있지', 'Adjective'), ('만', 'Eomi'), (',', 'Punctuation'), ('지난해', 'Noun'), ('11', 'Number'), ('월', 'Noun'), ('방위', 'Noun'), ('장비', 'Noun'), ('청', 'Noun'), ('기술', 'Noun'), ('심포지엄', 'Noun'), ('에서', 'Josa'), ('공개', 'Noun'), ('된', 'Verb'), ('F', 'Alpha'), ('-', 'Punctuation'), ('3', 'Number'), ('의', 'Noun'), ('요구', 'Noun'), ('성능', 'Noun'), ('중', 'Noun'), ('공중전', 'Noun'), ('능력', 'Noun'), ('과', 'Josa'), ('장거리', 'Noun'), ('작전', 'Noun'), ('능력', 'Noun'), (',', 'Punctuation'), ('내부', 'Noun'), ('무장', 'Noun'), ('능력', 'Noun'), ('등', 'Noun'), ('이', 'Josa'), ('대단히', 'Adjective'), ('높게', 'Adjective'), ('설정', 'Noun'), ('되어', 'Verb'), ('있다', 'Adjective'), ('는', 'Eomi'), ('점', 'Noun'), ('을', 'Josa'), ('감안', 'Noun'), ('하면', 'Verb'), ('이', 'Noun'), ('전투기', 'Noun'), ('는', 'Josa'), ('F', 'Alpha'), ('-', 'Punctuation'), ('2', 'Number'), ('보다는', 'Josa'), ('F', 'Alpha'), ('-', 'Punctuation'), ('15', 'Number'), ('의', 'Noun'), ('후계', 'Noun'), ('에', 'Josa'), ('가깝', 'Adjective'), ('다', 'Eomi'), ('즉', 'Noun'), ('장거리', 'Noun'), ('항속', 'Noun'), ('능력', 'Noun'), ('과', 'Josa'), ('우수한', 'Adjective'), ('공중전', 'Noun'), ('성능', 'Noun'), ('을', 'Josa'), ('바탕', 'Noun'), ('으로', 'Josa'), ('주변', 'Noun'), ('국', 'Noun'), ('에', 'Josa'), ('대한', 'Noun'), ('공세', 'Noun'), ('적', 'Suffix'), ('항공', 'Noun'), ('작전', 'Noun'), ('에', 'Josa'), ('투입', 'Noun'), ('될', 'Verb'), ('가능성', 'Noun'), ('이', 'Josa'), ('높다', 'Adjective'), ('는', 'Eomi'), ('것', 'Noun'), ('이며', 'Josa'), (',', 'Punctuation'), ('이는', 'Verb'), ('유사시', 'Noun'), ('독도', 'Noun'), ('상공', 'Noun'), ('에서', 'Josa'), ('우리', 'Noun'), ('KFX', 'Alpha'), ('가', 'Verb'), ('이', 'Noun'), ('전투기', 'Noun'), ('를', 'Josa'), ('상대', 'Noun'), ('해야', 'Verb'), ('할', 'Verb'), ('가능성', 'Noun'), ('이', 'Josa'), ('높아진', 'Verb'), ('다는', 'Eomi'), ('것', 'Noun'), ('을', 'Josa'), ('의미한', 'Verb'), ('다', 'Eomi'), ('현재', 'Noun'), ('공개', 'Noun'), ('된', 'Verb'), ('제원', 'Noun'), ('을', 'Josa'), ('비교하면', 'Verb'), ('KFX', 'Alpha'), ('는', 'Verb'), ('레이더', 'Noun'), ('와', 'Josa'), ('항공전자', 'Noun'), ('장비', 'Noun'), ('성능', 'Noun'), (',', 'Punctuation'), ('무장', 'Noun'), ('능력', 'Noun'), ('과', 'Josa'), ('공중', 'Noun'), ('기동', 'Noun'), ('능력', 'Noun'), ('등', 'Noun'), ('모든', 'Noun'), ('능력', 'Noun'), ('에서', 'Josa'), ('F', 'Alpha'), ('-', 'Punctuation'), ('3', 'Number'), ('에', 'Josa'), ('열세', 'Noun'), ('다', 'Josa'), ('여기', 'Noun'), ('에', 'Josa'), ('공중', 'Noun'), ('조기경보통제기', 'Noun'), ('와', 'Josa'), ('이지스함', 'Noun'), ('등', 'Noun'), ('이', 'Josa'), ('거미줄', 'Noun'), ('처럼', 'Josa'), ('연결된', 'Verb'), ('자위대', 'Noun'), ('의', 'Josa'), ('네트워크', 'Noun'), ('교전', 'Noun'), ('능력', 'Noun'), ('까지', 'Josa'), ('감안', 'Noun'), ('한', 'Verb'), ('다면', 'Eomi'), ('KFX', 'Alpha'), ('로', 'Noun'), ('F', 'Alpha'), ('-', 'Punctuation'), ('3', 'Number'), ('에', 'Josa'), ('대적', 'Noun'), ('하는', 'Verb'), ('것', 'Noun'), ('은', 'Josa'), ('자살', 'Noun'), ('행위', 'Noun'), ('가', 'Josa'), ('될', 'Verb'), ('우려', 'Noun'), ('도', 'Josa'), ('있다', 'Adjective'), ('분통', 'Noun'), ('이', 'Josa'), ('터질', 'Verb'), ('일이', 'Noun'), ('지만', 'Josa'), ('비슷한', 'Adjective'), ('시기', 'Noun'), ('에', 'Josa'), ('개발된', 'Verb'), ('양국', 'Noun'), ('의', 'Josa'), ('전투기', 'Noun'), ('들', 'Suffix'), ('이', 'Josa'), ('이렇게', 'Adverb'), ('까지', 'Noun'), ('심각한', 'Adjective'), ('성능', 'Noun'), ('격차', 'Noun'), ('가', 'Josa'), ('발생할', 'Verb'), ('수', 'Noun'), ('밖에', 'Josa'), ('없는', 'Adjective'), ('것', 'Noun'), ('은', 'Josa'), ('지난', 'Noun'), ('수십', 'Noun'), ('여', 'Josa'), ('년', 'Noun'), ('간', 'Noun'), ('항공', 'Noun'), ('산업', 'Noun'), ('을', 'Josa'), ('바라보는', 'Verb'), ('양국', 'Noun'), ('정부', 'Noun'), ('의', 'Josa'), ('시각', 'Noun'), ('차', 'Noun'), ('때문', 'Noun'), ('이었', 'Verb'), ('다', 'Eomi'), ('파격', 'Noun'), ('투자', 'Noun'), ('일본', 'Noun'), ('과', 'Josa'), ('최저', 'Noun'), ('가', 'Josa'), ('한', 'Determiner'), ('국장', 'Noun'), ('중', 'Suffix'), ('하고', 'Josa'), ('맑은', 'Noun'), ('종소리', 'Noun'), ('로', 'Josa'), ('유명한', 'Adjective'), ('국보', 'Noun'), ('제', 'Noun'), ('29', 'Number'), ('호', 'Noun'), ('선덕', 'Noun'), ('대왕', 'Noun'), ('신종은', 'Noun'), ('본명', 'Noun'), ('보다', 'Josa'), ('‘', 'Foreign'), ('에밀레종', 'Noun'), ('’', 'Foreign'), ('이라는', 'Josa'), ('별명', 'Noun'), ('으로', 'Josa'), ('더', 'Noun'), ('유명하다', 'Adjective'), ('종', 'Noun'), ('을', 'Josa'), ('완성', 'Noun'), ('시키', 'Verb'), ('기', 'Eomi'), ('위해', 'Noun'), ('쇳물', 'Noun'), ('에', 'Josa'), ('어린', 'Verb'), ('아이', 'Noun'), ('를', 'Josa'), ('던져', 'Verb'), ('넣었', 'Verb'), ('는데', 'Eomi'), ('이', 'Noun'), ('때문', 'Noun'), ('에', 'Josa'), ('종소리', 'Noun'), ('에서', 'Josa'), ('‘', 'Foreign'), ('에', 'Josa'), ('밀레', 'Noun'), ('(', 'Punctuation'), ('어미', 'Noun'), ('때문', 'Noun'), ('에', 'Josa'), (')', 'Punctuation'), ('’', 'Foreign'), ('라는', 'Josa'), ('소리', 'Noun'), ('가', 'Josa'), ('들린', 'Verb'), ('다는', 'Eomi'), ('전설', 'Noun'), ('때문', 'Noun'), ('이다', 'Josa'), ('이', 'Noun'), ('종이', 'Noun'), ('완성된', 'Verb'), ('것', 'Noun'), ('은', 'Josa'), ('통일신라', 'Noun'), ('선덕왕', 'Noun'), ('재위', 'Noun'), ('기간', 'Noun'), ('중', 'Noun'), ('이었', 'Verb'), ('는데', 'Eomi'), ('무엇', 'Noun'), ('인가', 'Josa'), ('를', 'Noun'), ('만들', 'Verb'), ('때', 'Noun'), ('사람', 'Noun'), ('을', 'Josa'), ('희생', 'Noun'), ('시켜', 'Verb'), ('물건', 'Noun'), ('을', 'Josa'), ('완성', 'Noun'), ('시키는', 'Verb'), ('전통', 'Noun'), ('(', 'Punctuation'), (')', 'Punctuation'), ('은', 'Noun'), ('에밀레종', 'Noun'), ('이후', 'Noun'), ('1000', 'Number'), ('년', 'Noun'), ('이', 'Josa'), ('지난', 'Noun'), ('지금', 'Noun'), ('까지', 'Josa'), ('우리나라', 'Noun'), ('에서', 'Josa'), ('이어지', 'Verb'), ('고', 'Eomi'), ('있다', 'Adjective'), ('우리나라', 'Noun'), ('산업', 'Noun'), ('계', 'Suffix'), ('에는', 'Josa'), ('‘', 'Foreign'), ('공', 'Noun'), ('밀레', 'Noun'), ('’', 'Foreign'), ('라는', 'Josa'), ('말', 'Noun'), ('이', 'Josa'), ('있다', 'Adjective'), ('과학자', 'Noun'), ('나', 'Josa'), ('기술자', 'Noun'), ('들', 'Suffix'), ('을', 'Josa'), ('비', 'Verb'), ('하', 'PreEomi'), ('하', 'PreEomi'), ('는', 'Eomi'), ('표현', 'Noun'), ('인', 'Josa'), ('‘', 'Foreign'), ('공', 'Noun'), ('돌이', 'Noun'), ('’', 'Foreign'), ('라는', 'Josa'), ('단어', 'Noun'), ('에', 'Josa'), ('에밀레종', 'Noun'), ('의', 'Josa'), ('‘', 'Foreign'), ('밀레', 'Noun'), ('’', 'Foreign'), ('를', 'Noun'), ('합성', 'Noun'), ('해', 'Josa'), ('탄생한', 'Verb'), ('단어', 'Noun'), ('로', 'Josa'), ('어떤', 'Adjective'), ('제품', 'Noun'), ('이나', 'Josa'), ('물건', 'Noun'), ('을', 'Josa'), ('개발하거', 'Verb'), ('나', 'Eomi'), ('만들', 'Verb'), ('때', 'Noun'), ('인력', 'Noun'), ('을', 'Josa'), ('혹사', 'Noun'), ('시키는', 'Verb'), ('연구개발', 'Noun'), ('풍토', 'Noun'), ('를', 'Josa'), ('비꼬', 'Noun'), ('는', 'Josa'), ('말', 'Noun'), ('이다', 'Josa'), ('이러한', 'Adjective'), ('풍토', 'Noun'), ('는', 'Josa'), ('산업', 'Noun'), ('계', 'Suffix'), ('전반', 'Noun'), ('에', 'Josa'), ('만', 'Noun'), ('연해', 'Noun'), ('있지', 'Adjective'), ('만', 'Eomi'), ('무기', 'Noun'), ('개발', 'Noun'), ('분야', 'Noun'), ('에서는', 'Josa'), ('더욱', 'Noun'), ('두드러지', 'Adjective'), ('게', 'Eomi'), ('나타난', 'Verb'), ('다', 'Eomi'), ('‘', 'Foreign'), ('한국', 'Noun'), ('형', 'Suffix'), ('명품', 'Noun'), ('무기', 'Noun'), ('’', 'Foreign'), ('는', 'Verb'), ('최저', 'Noun'), ('가', 'Josa'), ('낙찰', 'Noun'), ('제', 'Noun'), ('를', 'Josa'), ('통해', 'Noun'), ('결정된', 'Verb'), ('부족한', 'Adjective'), ('연구개발', 'Noun'), ('비', 'Noun'), ('를', 'Josa'), ('가지', 'Noun'), ('고', 'Josa'), ('지정', 'Noun'), ('된', 'Verb'), ('기간', 'Noun'), ('내', 'Noun'), ('에', 'Josa'), ('개발', 'Noun'), ('을', 'Josa'), ('완료', 'Noun'), ('해야', 'Verb'), ('하는', 'Verb'), ('열악한', 'Adjective'), ('환경', 'Noun'), ('에서', 'Josa'), ('탄생한', 'Verb'), ('다', 'Eomi'), ('정해진', 'Noun'), ('기간', 'Noun'), ('내', 'Noun'), ('에', 'Josa'), ('납품', 'Noun'), ('하지', 'Verb'), ('못', 'VerbPrefix'), ('하면', 'Verb'), ('하루하루', 'Noun'), ('눈덩이', 'Noun'), ('처럼', 'Josa'), ('불어', 'Verb'), ('나', 'PreEomi'), ('는', 'Eomi'), ('지체보상금', 'Noun'), ('을', 'Josa'), ('내야', 'Noun'), ('한', 'Verb'), ('다는', 'Eomi'), ('압박', 'Noun'), ('속', 'Noun'), ('에서', 'Josa'), ('연구원', 'Noun'), ('들', 'Suffix'), ('의', 'Josa'), ('피', 'Noun'), ('와', 'Josa'), ('땀', 'Noun'), (',', 'Punctuation'), ('경우', 'Noun'), ('에', 'Josa'), ('따라서', 'Noun'), ('는', 'Josa'), ('목숨', 'Noun'), ('이', 'Josa'), ('한국', 'Noun'), ('형', 'Suffix'), ('명품', 'Noun'), ('무기', 'Noun'), ('탄생', 'Noun'), ('의', 'Josa'), ('댓', 'Noun'), ('가로', 'Noun'), ('지불', 'Noun'), ('되', 'Verb'), ('고', 'Eomi'), ('있다', 'Adjective'), ('실제', 'Noun'), ('로', 'Josa'), ('T', 'Alpha'), ('-', 'Punctuation'), ('50', 'Number'), ('고등', 'Noun'), ('훈련기', 'Noun'), ('개발', 'Noun'), ('과정', 'Noun'), ('에서', 'Josa'), ('2', 'Number'), ('명', 'Noun'), (',', 'Punctuation'), ('K', 'Alpha'), ('-', 'Punctuation'), ('9', 'Number'), ('자주포', 'Noun'), ('개발', 'Noun'), ('과정', 'Noun'), ('에서', 'Josa'), ('1', 'Number'), ('명의', 'Noun'), ('연구원', 'Noun'), ('이', 'Josa'), ('과로', 'Noun'), ('로', 'Josa'), ('순직', 'Noun'), ('했', 'Verb'), ('다', 'Eomi'), ('문제', 'Noun'), ('는', 'Josa'), ('연구개발', 'Noun'), ('기간', 'Noun'), ('중', 'Noun'), ('과로', 'Noun'), ('에', 'Josa'), ('시', 'Noun'), ('달리', 'Verb'), ('던', 'Eomi'), ('연구원', 'Noun'), ('들', 'Suffix'), ('도', 'Josa'), ('막상', 'Noun'), ('무기체계', 'Noun'), ('의', 'Josa'), ('개발', 'Noun'), ('프로젝트', 'Noun'), ('가', 'Josa'), ('끝나면', 'Verb'), ('갈', 'Verb'), ('곳', 'Noun'), ('이', 'Josa'), ('없어진', 'Verb'), ('다는', 'Eomi'), ('것', 'Noun'), ('이다', 'Josa'), ('국방', 'Noun'), ('과학', 'Noun'), ('연구소', 'Noun'), ('(', 'Punctuation'), ('ADD', 'Alpha'), (')', 'Punctuation'), ('와', 'Noun'), ('같이', 'Josa'), ('국가', 'Noun'), ('에서', 'Josa'), ('운영하는', 'Verb'), ('연구소', 'Noun'), ('는', 'Josa'), ('그나마', 'Adverb'), ('사정', 'Noun'), ('이', 'Josa'), ('조금', 'Noun'), ('나은', 'Noun'), ('편이', 'Noun'), ('지만', 'Josa'), (',', 'Punctuation'), ('민간', 'Noun'), ('업체', 'Noun'), ('들', 'Suffix'), ('에', 'Josa'), ('근무', 'Noun'), ('하는', 'Verb'), ('연구원', 'Noun'), ('들', 'Suffix'), ('은', 'Josa'), ('연구개발', 'Noun'), ('프로젝트', 'Noun'), ('가', 'Josa'), ('끝나면', 'Verb'), ('당장', 'Noun'), ('다음', 'Noun'), ('달', 'Noun'), ('월급', 'Noun'), ('을', 'Josa'), ('걱정해야', 'Verb'), ('하는', 'Verb'), ('열악한', 'Adjective'), ('환경', 'Noun'), ('에서', 'Josa'), ('근무', 'Noun'), ('하는', 'Verb'), ('경우', 'Noun'), ('가', 'Josa'), ('많다', 'Adjective'), ('뛰어난', 'Adjective'), ('능력', 'Noun'), ('과', 'Josa'), ('잠재력', 'Noun'), ('을', 'Josa'), ('가진', 'Verb'), ('전문', 'Noun'), ('인력', 'Noun'), ('들', 'Suffix'), ('은', 'Josa'), ('생계', 'Noun'), ('를', 'Josa'), ('위해', 'Noun'), ('타', 'Noun'), ('업종', 'Noun'), ('으로', 'Josa'), ('전환하거', 'Verb'), ('나', 'Eomi'), ('해외', 'Noun'), ('업체', 'Noun'), ('의', 'Josa'), ('러브콜', 'Noun'), ('을', 'Josa'), ('받아', 'Verb'), ('우리나라', 'Noun'), ('를', 'Josa'), ('떠나기', 'Verb'), ('일쑤', 'Noun'), ('다', 'Josa'), ('이러한', 'Adjective'), ('문제', 'Noun'), ('는', 'Josa'), ('연구개발', 'Noun'), ('인력', 'Noun'), ('에만', 'Josa'), ('국한', 'Noun'), ('된', 'Verb'), ('것', 'Noun'), ('이', 'Josa'), ('아니', 'Adjective'), ('다', 'Eomi'), ('민간', 'Noun'), ('업체', 'Noun'), ('들', 'Suffix'), ('은', 'Josa'), ('항공기', 'Noun'), ('나', 'Josa'), ('장갑차', 'Noun'), ('등', 'Noun'), ('군', 'Noun'), ('에서', 'Josa'), ('주문한', 'Verb'), ('물량', 'Noun'), ('에', 'Josa'), ('대한', 'Noun'), ('납품', 'Noun'), ('이', 'Josa'), ('끝나면', 'Verb'), ('후속', 'Noun'), ('물량', 'Noun'), ('을', 'Josa'), ('확보', 'Noun'), ('하기', 'Verb'), ('어렵', 'Adjective'), ('기', 'Eomi'), ('때문', 'Noun'), ('에', 'Josa'), ('막대', 'Noun'), ('한', 'Josa'), ('예산', 'Noun'), ('을', 'Josa'), ('투자', 'Noun'), ('해', 'Josa'), ('설치한', 'Verb'), ('생산', 'Noun'), ('라인', 'Noun'), ('을', 'Josa'), ('뜯어', 'Verb'), ('내', 'PreEomi'), ('고', 'Eomi'), ('이', 'Noun'), ('생산', 'Noun'), ('라인', 'Noun'), ('에서', 'Josa'), ('근무', 'Noun'), ('했', 'Verb'), ('던', 'Eomi'), ('근로자', 'Noun'), ('들', 'Suffix'), ('을', 'Josa'), ('정리', 'Noun'), ('해고', 'Noun'), ('하는', 'Verb'), ('경우', 'Noun'), ('가', 'Josa'), ('부지', 'Noun'), ('기수', 'Noun'), ('다', 'Josa'), ('가령', 'Noun'), ('항공기', 'Noun'), ('생산', 'Noun'), ('업체', 'Noun'), ('의', 'Josa'), ('사례', 'Noun'), ('를', 'Josa'), ('들어', 'Verb'), ('보자', 'Verb'), ('국산', 'Noun'), ('고등', 'Noun'), ('훈련기', 'Noun'), ('와', 'Josa'), ('전투기', 'Noun'), ('를', 'Josa'), ('생산하는', 'Verb'), ('K', 'Alpha'), ('업체', 'Noun'), ('는', 'Josa'), ('현재', 'Noun'), ('우리', 'Noun'), ('공군', 'Noun'), ('과', 'Josa'), ('필리핀', 'Noun'), (',', 'Punctuation'), ('이라크', 'Noun'), ('등', 'Noun'), ('에', 'Josa'), ('인도', 'Noun'), ('될', 'Verb'), ('항공기', 'Noun'), ('들', 'Suffix'), ('을', 'Josa'), ('생산하고', 'Verb'), ('있다', 'Adjective'), ('알려진', 'Verb'), ('바', 'Noun'), ('에', 'Josa'), ('따르', 'Verb'), ('면', 'Eomi'), ('현재', 'Noun'), ('수주', 'Noun'), ('물량', 'Noun'), ('은', 'Josa'), ('내년', 'Noun'), ('연말', 'Noun'), ('까지', 'Josa'), ('모두', 'Noun'), ('인도', 'Noun'), ('되', 'Verb'), ('기', 'Eomi'), ('때문', 'Noun'), ('에', 'Josa'), ('추가', 'Noun'), ('수출', 'Noun'), ('이', 'Josa'), ('성사', 'Noun'), ('되', 'Verb'), ('지', 'Eomi'), ('않는', 'Verb'), ('다면', 'Eomi'), ('내년', 'Noun'), ('부터', 'Josa'), ('KFX', 'Alpha'), ('양산', 'Noun'), ('개시', 'Noun'), ('시점', 'Noun'), ('인', 'Josa'), ('2026', 'Number'), ('년', 'Noun'), ('까지', 'Josa'), ('약', 'Noun'), ('9', 'Number'), ('년', 'Noun'), ('간', 'Suffix'), ('이', 'Noun'), ('업체', 'Noun'), ('는', 'Josa'), ('고정', 'Noun'), ('익', 'Noun'), ('항공기', 'Noun'), ('생산', 'Noun'), ('라인', 'Noun'), ('유지', 'Noun'), ('가', 'Josa'), ('어려워질', 'Verb'), ('지도', 'Eomi'), ('모른', 'Verb'), ('다', 'Eomi'), ('항공기', 'Noun'), ('생산', 'Noun'), ('은', 'Josa'), ('일반', 'Noun'), ('적', 'Suffix'), ('인', 'Josa'), ('자동차', 'Noun'), ('생산', 'Noun'), ('과', 'Josa'), ('다르', 'Adjective'), ('기', 'Eomi'), ('때문', 'Noun'), ('에', 'Josa'), ('현장', 'Noun'), ('의', 'Josa'), ('말단', 'Noun'), ('인력', 'Noun'), ('도', 'Josa'), ('수', 'Noun'), ('개', 'Suffix'), ('월', 'Noun'), ('이상', 'Noun'), ('의', 'Josa'), ('전문', 'Noun'), ('교육', 'Noun'), ('을', 'Josa'), ('이', 'Determiner'), ('수해', 'Noun'), ('야', 'Josa'), ('하며', 'Verb'), (',', 'Punctuation'), ('현장', 'Noun'), ('관리자', 'Noun'), ('들', 'Suffix'), ('은', 'Josa'), ('이름', 'Noun'), ('만', 'Josa'), ('생산', 'Noun'), ('직일', 'Noun'), ('뿐', 'Noun'), ('석', 'Noun'), ('·', 'Foreign'), ('박사', 'Noun'), ('학위', 'Noun'), ('를', 'Josa'), ('소지', 'Noun'), ('한', 'Josa'), ('고급', 'Noun'), ('인력', 'Noun'), ('들', 'Suffix'), ('이', 'Josa'), ('필요하다', 'Adjective'), ('생산', 'Noun'), ('물량', 'Noun'), ('이', 'Josa'), ('없어', 'Adjective'), ('항공기', 'Noun'), ('생산', 'Noun'), ('라인', 'Noun'), ('을', 'Josa'), ('접는', 'Verb'), ('다면', 'Eomi'), ('항공기', 'Noun'), ('의', 'Josa'), ('개발', 'Noun'), ('과', 'Josa'), ('관리', 'Noun'), (',', 'Punctuation'), ('생산', 'Noun'), ('업무', 'Noun'), ('에', 'Josa'), ('종사', 'Noun'), ('했', 'Verb'), ('던', 'Eomi'), ('수백', 'Noun'), ('여', 'Josa'), ('명', 'Noun'), ('이상', 'Noun'), ('이', 'Josa'), ('국내', 'Noun'), ('타', 'Noun'), ('업종', 'Noun'), ('또는', 'Adverb'), ('해외', 'Noun'), ('동일', 'Noun'), ('업체', 'Noun'), ('로', 'Josa'), ('이직', 'Noun'), ('해', 'Josa'), ('야만', 'Noun'), ('한', 'Verb'), ('다', 'Eomi'), ('항공', 'Noun'), ('산업', 'Noun'), ('의', 'Josa'), ('맥', 'Noun'), ('이', 'Josa'), ('끊어진', 'Verb'), ('다는', 'Eomi'), ('이야기', 'Noun'), ('다', 'Josa'), ('흔히', 'Adjective'), ('들', 'Verb'), ('항공', 'Noun'), ('산업', 'Noun'), ('을', 'Josa'), ('미래', 'Noun'), ('대한민국', 'Noun'), ('을', 'Josa'), ('먹여', 'Verb'), ('살릴', 'Verb'), ('신', 'Noun'), ('성장동력', 'Noun'), ('으로', 'Josa'), ('언급', 'Noun'), ('한', 'Verb'), ('다', 'Eomi'), ('대당', 'Noun'), ('수백', 'Noun'), ('억', 'Suffix'), ('원', 'Noun'), ('을', 'Josa'), ('훌쩍', 'Noun'), ('넘는', 'Verb'), ('항공기', 'Noun'), ('1', 'Number'), ('대', 'Verb'), ('를', 'Eomi'), ('수출하면', 'Verb'), ('중형차', 'Noun'), ('수천', 'Noun'), ('대', 'Verb'), ('를', 'Eomi'), ('수출하는', 'Verb'), ('것', 'Noun'), ('과', 'Josa'), ('같은', 'Adjective'), ('경제', 'Noun'), ('적', 'Suffix'), ('이익', 'Noun'), ('을', 'Josa'), ('기대할', 'Adjective'), ('수', 'Noun'), ('있', 'Adjective'), ('을', 'Eomi'), ('정도', 'Noun'), ('로', 'Josa'), ('항공', 'Noun'), ('산업', 'Noun'), ('은', 'Josa'), ('고', 'Noun'), ('부가가치', 'Noun'), ('산업', 'Noun'), ('이다', 'Josa'), ('또', 'Noun'), ('항공', 'Noun'), ('산업', 'Noun'), ('을', 'Josa'), ('육성', 'Noun'), ('해', 'Josa'), ('제반', 'Noun'), ('기술', 'Noun'), ('기반', 'Noun'), ('을', 'Josa'), ('닦아', 'Verb'), ('놓', 'Verb'), ('으면', 'Eomi'), (',', 'Punctuation'), ('해외', 'Noun'), ('에서', 'Josa'), ('항공기', 'Noun'), ('를', 'Josa'), ('구매', 'Noun'), ('할', 'Verb'), ('때', 'Noun'), ('바가지', 'Noun'), ('쓸', 'Verb'), ('일도', 'Noun'), ('없다', 'Adjective'), ('휴대폰', 'Noun'), ('이나', 'Josa'), ('컴퓨터', 'Noun'), ('를', 'Josa'), ('살', 'Noun'), ('때', 'Noun'), ('사고', 'Noun'), ('자', 'Suffix'), ('하는', 'Verb'), ('물건', 'Noun'), ('에', 'Josa'), ('대해', 'Noun'), ('잘', 'Verb'), ('알', 'Noun'), ('고', 'Josa'), ('있으', 'Adjective'), ('면', 'Eomi'), ('소위', 'Noun'), ('말하는', 'Verb'), ('‘', 'Foreign'), ('호갱', 'Noun'), ('님', 'Suffix'), ('’', 'Foreign'), ('이', 'Noun'), ('되', 'Verb'), ('지', 'Eomi'), ('않는', 'Verb'), ('것', 'Noun'), ('과', 'Josa'), ('같은', 'Adjective'), ('이치', 'Noun'), ('다', 'Josa'), ('이', 'Noun'), ('때문', 'Noun'), ('에', 'Josa'), ('항공', 'Noun'), ('산업', 'Noun'), ('육성', 'Noun'), ('은', 'Josa'), ('정부', 'Noun'), ('차원', 'Noun'), ('에서', 'Josa'), ('반드시', 'Noun'), ('해야', 'Verb'), ('하', 'PreEomi'), ('는', 'Eomi'), ('과제', 'Noun'), ('이지만', 'Josa'), (',', 'Punctuation'), ('현재', 'Noun'), ('대한민국', 'Noun'), ('의', 'Josa'), ('항공', 'Noun'), ('산업', 'Noun'), ('은', 'Josa'), ('그', 'Noun'), ('맥', 'Noun'), ('이', 'Josa'), ('끊길', 'Verb'), ('위기', 'Noun'), ('로', 'Josa'), ('내', 'Determiner'), ('몰리', 'Noun'), ('고', 'Josa'), ('있다', 'Adjective'), ('이러한', 'Adjective'), ('위기', 'Noun'), ('는', 'Josa'), ('13', 'Number'), ('년', 'Noun'), ('전', 'Noun'), ('에도', 'Josa'), ('있었', 'Adjective'), ('다', 'Eomi'), ('2002', 'Number'), ('년', 'Noun'), ('KF', 'Alpha'), ('-', 'Punctuation'), ('16', 'Number'), ('120', 'Number'), ('대', 'Verb'), ('면허', 'Noun'), ('생산', 'Noun'), ('이', 'Josa'), ('종료', 'Noun'), ('되', 'Verb'), ('면서', 'Eomi'), ('2005', 'Number'), ('년', 'Noun'), ('T', 'Alpha'), ('-', 'Punctuation'), ('50', 'Number'), ('양산', 'Noun'), ('개시', 'Noun'), ('이전', 'Noun'), ('까지', 'Josa'), ('2', 'Number'), ('년', 'Noun'), ('간', 'Suffix'), ('생산', 'Noun'), ('라인', 'Noun'), ('가동', 'Noun'), ('중단', 'Noun'), ('위기', 'Noun'), ('가', 'Josa'), ('있었', 'Adjective'), ('던', 'Eomi'), ('것', 'Noun'), ('이다', 'Josa'), ('당시', 'Noun'), ('참여정부', 'Noun'), ('는', 'Josa'), ('이', 'Noun'), ('문제', 'Noun'), ('해결', 'Noun'), ('을', 'Josa'), ('위해', 'Noun'), ('군', 'Noun'), ('전력', 'Noun'), ('증강', 'Noun'), ('계획', 'Noun'), ('에', 'Josa'), ('없었', 'Adjective'), ('던', 'Eomi'), ('KF', 'Alpha'), ('-', 'Punctuation'), ('16', 'Number'), ('20', 'Number'), ('대', 'Verb'), ('추가', 'Noun'), ('생산', 'Noun'), ('카드', 'Noun'), ('를', 'Josa'), ('꺼내', 'Verb'), ('들었', 'Verb'), ('고', 'Eomi'), (',', 'Punctuation'), ('공군', 'Noun'), ('은', 'Josa'), ('FX', 'Alpha'), ('사업', 'Noun'), ('예산', 'Noun'), ('이', 'Josa'), ('전용', 'Noun'), ('될', 'Verb'), ('우려', 'Noun'), ('가', 'Josa'), ('있다', 'Adjective'), ('며', 'Eomi'), ('강력', 'Noun'), ('반발', 'Noun'), ('했', 'Verb'), ('다', 'Eomi'), ('하지만', 'Conjunction'), ('정부', 'Noun'), ('가', 'Josa'), ('1', 'Number'), ('조', 'Noun'), ('2', 'Number'), ('천억', 'Noun'), ('원', 'Noun'), ('에', 'Josa'), ('달', 'Verb'), ('하', 'PreEomi'), ('는', 'Eomi'), ('KF', 'Alpha'), ('-', 'Punctuation'), ('16', 'Number'), ('추가', 'Noun'), ('생산', 'Noun'), ('비용', 'Noun'), ('을', 'Josa'), ('공군', 'Noun'), ('예산', 'Noun'), ('이', 'Josa'), ('아닌', 'Adjective'), ('산업', 'Noun'), ('자원부', 'Noun'), ('예산', 'Noun'), ('을', 'Josa'), ('쓰기', 'Noun'), ('로', 'Josa'), ('결정', 'Noun'), ('하면', 'Verb'), ('서', 'Eomi'), ('공군', 'Noun'), ('전력', 'Noun'), ('공백', 'Noun'), ('방지', 'Noun'), ('와', 'Josa'), ('항공기', 'Noun'), ('생산', 'Noun'), ('라인', 'Noun'), ('유지', 'Noun'), ('라는', 'Josa'), ('두', 'Noun'), ('마리', 'Noun'), ('토끼', 'Noun'), ('를', 'Josa'), ('동시', 'Noun'), ('에', 'Josa'), ('잡', 'Noun'), ('을', 'Josa'), ('수', 'Noun'), ('있었', 'Adjective'), ('다', 'Eomi'), ('하지만', 'Conjunction'), ('현재', 'Noun'), ('는', 'Josa'), ('향후', 'Noun'), ('9', 'Number'), ('년', 'Noun'), ('간', 'Suffix'), ('의', 'Josa'), ('항공기', 'Noun'), ('생산', 'Noun'), ('라인', 'Noun'), ('가동', 'Noun'), ('중단', 'Noun'), ('위기', 'Noun'), ('를', 'Josa'), ('목전', 'Noun'), ('에', 'Josa'), ('두고', 'Verb'), ('있', 'Adjective'), ('음에도', 'Eomi'), ('불구하고', 'Verb'), ('그', 'Noun'), ('어떤', 'Adjective'), ('대비', 'Noun'), ('책', 'Noun'), ('도', 'Josa'), ('제시되', 'Verb'), ('지', 'Eomi'), ('않고', 'Verb'), ('있다', 'Adjective'), ('문제', 'Noun'), ('는', 'Josa'), ('멀쩡한', 'Adjective'), ('이', 'Noun'), ('생산', 'Noun'), ('라인', 'Noun'), ('이', 'Josa'), ('개점휴업', 'Noun'), ('하고', 'Josa'), ('있', 'Adjective'), ('을', 'Eomi'), ('9', 'Number'), ('년', 'Noun'), ('의', 'Josa'), ('기간', 'Noun'), ('중', 'Noun'), ('우리', 'Noun'), ('공군', 'Noun'), ('의', 'Josa'), ('전투기', 'Noun'), ('전력', 'Noun'), ('공백', 'Noun'), ('이', 'Josa'), ('최고', 'Noun'), ('조', 'Suffix'), ('에', 'Josa'), ('달', 'Noun'), ('할', 'Verb'), ('것', 'Noun'), ('이라는', 'Josa'), ('점', 'Noun'), ('이다', 'Josa'), ('공군', 'Noun'), ('은', 'Josa'), ('노후', 'Noun'), ('정도', 'Noun'), ('가', 'Josa'), ('극심', 'Noun'), ('해', 'Josa'), ('비행', 'Noun'), ('이', 'Josa'), ('위험한', 'Adjective'), ('수준', 'Noun'), ('까지', 'Josa'), ('와', 'Noun'), ('있는', 'Adjective'), ('F', 'Alpha'), ('-', 'Punctuation'), ('4', 'Number'), ('E', 'Alpha'), ('40', 'Number'), ('대', 'Verb'), ('와', 'Eomi'), ('F', 'Alpha'), ('-', 'Punctuation'), ('5', 'Number'), ('E', 'Alpha'), ('/', 'Punctuation'), ('F', 'Alpha'), ('120', 'Number'), ('대', 'Verb'), ('등', 'Noun'), ('160', 'Number'), ('여', 'Noun'), ('대의', 'Noun'), ('전투기', 'Noun'), ('를', 'Josa'), ('2019', 'Number'), ('년', 'Noun'), ('까지', 'Josa'), ('퇴역', 'Noun'), ('시킬', 'Verb'), ('예정', 'Noun'), ('이지만', 'Josa'), (',', 'Punctuation'), ('이', 'Noun'), ('시기', 'Noun'), ('에', 'Josa'), ('도입', 'Noun'), ('되는', 'Verb'), ('전투기', 'Noun'), ('는', 'Josa'), ('F', 'Alpha'), ('-', 'Punctuation'), ('35', 'Number'), ('A', 'Alpha'), ('40', 'Number'), ('대가', 'Noun'), ('전부', 'Noun'), ('로', 'Josa'), ('2019', 'Number'), ('년', 'Noun'), ('부터', 'Josa'), ('2030', 'Number'), ('년', 'Noun'), ('까지', 'Josa'), ('약', 'Noun'), ('10', 'Number'), ('여', 'Noun'), ('년', 'Noun'), ('간', 'Suffix'), ('우리', 'Noun'), ('공군', 'Noun'), ('은', 'Josa'), ('100', 'Number'), ('~', 'Punctuation'), ('120', 'Number'), ('대의', 'Noun'), ('전투기', 'Noun'), ('가', 'Josa'), ('부족한', 'Adjective'), ('사상', 'Noun'), ('최악', 'Noun'), ('의', 'Josa'), ('전력', 'Noun'), ('공백', 'Noun'), ('사태', 'Noun'), ('를', 'Josa'), ('겪게', 'Verb'), ('된', 'Verb'), ('다', 'Eomi'), ('항공', 'Noun'), ('산업', 'Noun'), ('위기', 'Noun'), ('와', 'Josa'), ('전력', 'Noun'), ('공백', 'Noun'), ('문제', 'Noun'), ('를', 'Josa'), ('해결할', 'Verb'), ('수', 'Noun'), ('있는', 'Adjective'), ('방법', 'Noun'), ('은', 'Josa'), ('간단하다', 'Adjective'), ('국내', 'Noun'), ('에', 'Josa'), ('있는', 'Adjective'), ('생산', 'Noun'), ('라인', 'Noun'), ('을', 'Josa'), ('이용해', 'Verb'), ('전투기', 'Noun'), ('를', 'Josa'), ('추가', 'Noun'), ('생산하는', 'Verb'), ('것', 'Noun'), ('이', 'Josa'), ('그것', 'Noun'), ('이다', 'Josa'), ('FA', 'Alpha'), ('-', 'Punctuation'), ('50', 'Number'), ('이', 'Noun'), ('전투기', 'Noun'), ('전력', 'Noun'), ('을', 'Josa'), ('대체', 'Noun'), ('하기', 'Verb'), ('위한', 'Verb'), ('기체', 'Noun'), ('로', 'Josa'), ('부족하다', 'Adjective'), ('면', 'Eomi'), ('KF', 'Alpha'), ('-', 'Punctuation'), ('16', 'Number'), ('의', 'Noun'), ('성능', 'Noun'), ('개량', 'Noun'), ('형', 'Suffix'), ('을', 'Josa'), ('추가', 'Noun'), ('생산하는', 'Verb'), ('방법', 'Noun'), ('도', 'Josa'), ('있고', 'Adjective'), (',', 'Punctuation'), ('일본', 'Noun'), ('처럼', 'Josa'), ('F', 'Alpha'), ('-', 'Punctuation'), ('35', 'Number'), ('를', 'Noun'), ('면허', 'Noun'), ('생산하는', 'Verb'), ('방법', 'Noun'), ('도', 'Josa'), ('있다', 'Adjective'), ('하지만', 'Conjunction'), ('이', 'Noun'), ('방안', 'Noun'), ('에', 'Josa'), ('대해', 'Noun'), ('정부', 'Noun'), ('와', 'Josa'), ('군', 'Noun'), ('에서는', 'Josa'), ('회의', 'Noun'), ('적', 'Suffix'), ('인', 'Josa'), ('분위기', 'Noun'), ('다', 'Josa'), ('정부', 'Noun'), ('입장', 'Noun'), ('에서는', 'Josa'), ('수', 'Noun'), ('조원', 'Noun'), ('에', 'Josa'), ('달', 'Verb'), ('하', 'PreEomi'), ('는', 'Eomi'), ('비용', 'Noun'), ('을', 'Josa'), ('지출', 'Noun'), ('하는', 'Verb'), ('것', 'Noun'), ('이', 'Josa'), ('부담스럽', 'Adjective'), ('다', 'Eomi'), ('F', 'Alpha'), ('-', 'Punctuation'), ('16', 'Number'), ('전투기', 'Noun'), ('면허', 'Noun'), ('생산', 'Noun'), ('비용', 'Noun'), ('은', 'Josa'), ('대당', 'Noun'), ('600', 'Number'), ('~', 'Punctuation'), ('800', 'Number'), ('억', 'Noun'), ('원', 'Noun'), ('선', 'Noun'), ('이고', 'Josa'), (',', 'Punctuation'), ('옵션', 'Noun'), ('에', 'Josa'), ('따라', 'Verb'), ('차이', 'Noun'), ('가', 'Josa'), ('큰', 'Verb'), ('편이', 'Noun'), ('지만', 'Josa'), ('일본', 'Noun'), ('의', 'Josa'), ('사례', 'Noun'), ('를', 'Josa'), ('보자', 'Verb'), ('면', 'Eomi'), ('F', 'Alpha'), ('-', 'Punctuation'), ('35', 'Number'), ('면허', 'Noun'), ('생산', 'Noun'), ('비용', 'Noun'), ('은', 'Josa'), ('1700', 'Number'), ('~', 'Punctuation'), ('2000', 'Number'), ('억', 'Noun'), ('원', 'Noun'), ('을', 'Josa'), ('넘어간', 'Verb'), ('다', 'Eomi'), ('이러한', 'Adjective'), ('전투기', 'Noun'), ('들', 'Suffix'), ('을', 'Josa'), ('매년', 'Noun'), ('10', 'Number'), ('대', 'Verb'), ('안팎', 'Noun'), ('씩', 'Suffix'), ('9', 'Number'), ('년', 'Noun'), ('간', 'Suffix'), ('생산한', 'Verb'), ('다면', 'Eomi'), ('적게', 'Verb'), ('는', 'Eomi'), ('5', 'Number'), ('4', 'Number'), ('조', 'Noun'), ('에서', 'Josa'), ('많게', 'Adjective'), ('는', 'Eomi'), ('18', 'Number'), ('조원', 'Noun'), ('의', 'Josa'), ('돈', 'Noun'), ('이', 'Josa'), ('들어간', 'Verb'), ('다', 'Eomi'), ('정책', 'Noun'), ('적', 'Suffix'), ('배려', 'Noun'), ('로', 'Josa'), ('대량', 'Noun'), ('생산된', 'Verb'), ('F', 'Alpha'), ('-', 'Punctuation'), ('15', 'Number'), ('J', 'Alpha'), ('전투기', 'Noun'), ('(', 'Punctuation'), ('사진', 'Noun'), ('=', 'Punctuation'), ('일본', 'Noun'), ('항공자위대', 'Noun'), (')', 'Punctuation'), ('부정', 'Noun'), ('적', 'Suffix'), ('인', 'Josa'), ('것', 'Noun'), ('은', 'Josa'), ('군도', 'Noun'), ('마찬가지', 'Noun'), ('다', 'Josa'), ('계획', 'Noun'), ('에', 'Josa'), ('없던', 'Adjective'), ('전투기', 'Noun'), ('추가', 'Noun'), ('양산', 'Noun'), ('이', 'Josa'), ('결정되', 'Verb'), ('면', 'Eomi'), ('다른', 'Noun'), ('전력', 'Noun'), ('증강', 'Noun'), ('사업', 'Noun'), ('예산', 'Noun'), ('이', 'Josa'), ('타격', 'Noun'), ('을', 'Josa'), ('입게', 'Verb'), ('된', 'Verb'), ('다', 'Eomi'), ('가뜩이나', 'Noun'), ('복지', 'Noun'), ('비', 'Noun'), ('부담', 'Noun'), ('이', 'Josa'), ('큰', 'Verb'), ('상황', 'Noun'), ('에서', 'Josa'), ('선거', 'Noun'), ('때', 'Noun'), ('표', 'Noun'), ('로', 'Josa'), ('연결되', 'Verb'), ('지', 'Eomi'), ('않는', 'Verb'), ('국방', 'Noun'), ('예산', 'Noun'), ('은', 'Josa'), ('지출', 'Noun'), ('을', 'Josa'), ('꺼리는', 'Adjective'), ('것', 'Noun'), ('이', 'Josa'), ('예산', 'Noun'), ('당국', 'Noun'), ('의', 'Josa'), ('일관', 'Noun'), ('된', 'Verb'), ('입장', 'Noun'), ('이기', 'Noun'), ('때문', 'Noun'), ('에', 'Josa'), ('전투기', 'Noun'), ('추가', 'Noun'), ('양산', 'Noun'), ('을', 'Josa'), ('한', 'Verb'), ('다는', 'Eomi'), ('결정', 'Noun'), ('이', 'Josa'), ('내려지', 'Verb'), ('면', 'Eomi'), ('기존', 'Noun'), ('의', 'Josa'), ('국방', 'Noun'), ('예산', 'Noun'), ('을', 'Josa'), ('전용', 'Noun'), ('하라', 'Noun'), ('는', 'Josa'), ('압박', 'Noun'), ('이', 'Josa'), ('강할', 'Adjective'), ('것', 'Noun'), ('이라는', 'Josa'), ('것', 'Noun'), ('이', 'Josa'), ('군', 'Noun'), ('의', 'Josa'), ('걱정', 'Noun'), ('이다', 'Josa'), ('또한', 'Noun'), ('공군', 'Noun'), ('의', 'Josa'), ('전투기', 'Noun'), ('보유', 'Noun'), ('정수', 'Noun'), ('는', 'Josa'), ('430', 'Number'), ('대로', 'Noun'), ('정해져', 'Verb'), ('있기', 'Adjective'), ('때문', 'Noun'), ('에', 'Josa'), ('중기', 'Noun'), ('계획', 'Noun'), ('에', 'Josa'), ('없는', 'Adjective'), ('F', 'Alpha'), ('-', 'Punctuation'), ('16', 'Number'), ('이나', 'Noun'), ('F', 'Alpha'), ('-', 'Punctuation'), ('35', 'Number'), ('면허', 'Noun'), ('생산', 'Noun'), ('카드', 'Noun'), ('를', 'Josa'), ('꺼내게', 'Verb'), ('되', 'Verb'), ('면', 'Eomi'), ('다른', 'Noun'), ('전투기', 'Noun'), ('도입', 'Noun'), ('수량', 'Noun'), (',', 'Punctuation'), ('즉', 'Noun'), ('KFX', 'Alpha'), ('도입', 'Noun'), ('수량', 'Noun'), ('이', 'Josa'), ('줄어들어', 'Verb'), ('한국', 'Noun'), ('형', 'Suffix'), ('전투기', 'Noun'), ('개발', 'Noun'), ('사업', 'Noun'), ('이', 'Josa'), ('흔들릴', 'Verb'), ('수', 'Noun'), ('밖에', 'Josa'), ('없다', 'Adjective'), ('정부', 'Noun'), ('와', 'Josa'), ('군', 'Noun'), ('의', 'Josa'), ('이러한', 'Adjective'), ('경직', 'Noun'), ('된', 'Verb'), ('사고', 'Noun'), ('는', 'Josa'), ('일본', 'Noun'), ('의', 'Josa'), ('사례', 'Noun'), ('와', 'Josa'), ('너무', 'Noun'), ('도', 'Josa'), ('대조', 'Noun'), ('적', 'Suffix'), ('이다', 'Josa'), ('일본', 'Noun'), ('의', 'Josa'), ('항공', 'Noun'), ('산업', 'Noun'), ('은', 'Josa'), ('우리나라', 'Noun'), ('와', 'Josa'), ('마찬가지', 'Noun'), ('로', 'Josa'), ('군용기', 'Noun'), ('생산', 'Noun'), ('을', 'Josa'), ('계기', 'Noun'), ('로', 'Josa'), ('시작되', 'Verb'), ('었', 'PreEomi'), ('지만', 'Eomi'), (',', 'Punctuation'), ('그', 'Noun'), ('전개', 'Noun'), ('과정', 'Noun'), ('은', 'Josa'), ('우리나라', 'Noun'), ('와', 'Josa'), ('너무', 'Noun'), ('도', 'Josa'), ('상이', 'Noun'), ('했', 'Verb'), ('다', 'Eomi'), ('요컨대', 'Noun'), ('일본', 'Noun'), ('의', 'Josa'), ('전투기', 'Noun'), ('생산', 'Noun'), ('라인', 'Noun'), ('은', 'Josa'), ('지난', 'Noun'), ('반세기', 'Noun'), ('동안', 'Noun'), ('멈춘', 'Verb'), ('적', 'Noun'), ('이', 'Josa'), ('거의', 'Noun'), ('없었', 'Adjective'), ('다', 'Eomi'), ('일본정부', 'Noun'), ('는', 'Josa'), ('1955', 'Number'), ('년', 'Noun'), ('부터', 'Josa'), ('1960', 'Number'), ('년', 'Noun'), ('까지', 'Josa'), ('300', 'Number'), ('대의', 'Noun'), ('F', 'Alpha'), ('-', 'Punctuation'), ('86', 'Number'), ('전투기', 'Noun'), ('를', 'Josa'), ('면허', 'Noun'), ('생산하고', 'Verb'), (',', 'Punctuation'), ('이', 'Noun'), ('사업', 'Noun'), ('이', 'Josa'), ('끝나기', 'Verb'), ('도', 'Eomi'), ('전', 'Noun'), ('에', 'Josa'), ('F', 'Alpha'), ('-', 'Punctuation'), ('104', 'Number'), ('전투기', 'Noun'), ('면허', 'Noun'), ('생산', 'Noun'), ('계약', 'Noun'), ('을', 'Josa'), ('체결', 'Noun'), (',', 'Punctuation'), ('1967', 'Number'), ('년', 'Noun'), ('까지', 'Josa'), ('230', 'Number'), ('대의', 'Noun'), ('F', 'Alpha'), ('-', 'Punctuation'), ('104', 'Number'), ('를', 'Noun'), ('생산해', 'Verb'), ('생산', 'Noun'), ('라인', 'Noun'), ('을', 'Josa'), ('유지', 'Noun'), ('시켰', 'Verb'), ('다', 'Eomi'), ('잠시', 'Noun'), ('숨', 'Noun'), ('을', 'Josa'), ('고른', 'Verb'), ('뒤', 'Noun'), ('1969', 'Number'), ('년', 'Noun'), ('에는', 'Josa'), ('F', 'Alpha'), ('-', 'Punctuation'), ('4', 'Number'), ('D', 'Alpha'), ('/', 'Punctuation'), ('E', 'Alpha'), ('전투기', 'Noun'), ('140', 'Number'), ('대', 'Verb'), ('면허', 'Noun'), ('생산', 'Noun'), ('계약', 'Noun'), ('을', 'Josa'), ('체결', 'Noun'), ('해', 'Josa'), ('1981', 'Number'), ('년', 'Noun'), ('까지', 'Josa'), ('생산했', 'Verb'), ('고', 'Eomi'), (',', 'Punctuation'), ('그', 'Noun'), ('직후', 'Noun'), ('F', 'Alpha'), ('-', 'Punctuation'), ('15', 'Number'), ('CJ', 'Alpha'), ('/', 'Punctuation'), ('DJ', 'Alpha'), ('전투기', 'Noun'), ('100', 'Number'), ('대', 'Verb'), ('생산', 'Noun'), ('계약', 'Noun'), ('을', 'Josa'), ('체결', 'Noun'), ('했', 'Verb'), ('다', 'Eomi'), ('F', 'Alpha'), ('-', 'Punctuation'), ('15', 'Number'), ('전투기', 'Noun'), ('가', 'Josa'), ('생산되', 'Verb'), ('던', 'Eomi'), ('당시', 'Noun'), ('항공자위대', 'Noun'), ('는', 'Josa'), ('F', 'Alpha'), ('-', 'Punctuation'), ('104', 'Number'), ('와', 'Noun'), ('F', 'Alpha'), ('-', 'Punctuation'), ('4', 'Number'), ('등', 'Noun'), ('의', 'Josa'), ('전투기', 'Noun'), ('를', 'Josa'), ('300', 'Number'), ('대', 'Verb'), ('넘게', 'Verb'), ('보유', 'Noun'), ('하고', 'Josa'), ('있었', 'Adjective'), ('기', 'Eomi'), ('때문', 'Noun'), ('에', 'Josa'), ('F', 'Alpha'), ('-', 'Punctuation'), ('15', 'Number'), ('전투기', 'Noun'), ('는', 'Josa'), ('당초', 'Noun'), ('항공자위대', 'Noun'), ('가', 'Josa'), ('요구한', 'Verb'), ('100', 'Number'), ('대면', 'Noun'), ('충분했', 'Adjective'), ('다', 'Eomi'), ('하지만', 'Conjunction'), ('일본정부', 'Noun'), ('는', 'Josa'), ('F', 'Alpha'), ('-', 'Punctuation'), ('15', 'Number'), ('전투기', 'Noun'), ('100', 'Number'), ('대의', 'Noun'), ('생산', 'Noun'), ('이', 'Josa'), ('종료', 'Noun'), ('되', 'Verb'), ('면', 'Eomi'), ('차세', 'Verb'), ('대', 'Eomi'), ('독자', 'Noun'), ('개발', 'Noun'), ('전투기', 'Noun'), ('인', 'Josa'), ('F', 'Alpha'), ('-', 'Punctuation'), ('2', 'Number'), ('의', 'Noun'), ('생산', 'Noun'), ('이', 'Josa'), ('시작되', 'Verb'), ('기', 'Eomi'), ('전', 'Noun'), ('까지', 'Josa'), ('10', 'Number'), ('년', 'Noun'), ('가까이', 'Noun'), ('항공', 'Noun'), ('산업', 'Noun'), ('이', 'Josa'), ('침체', 'Noun'), ('기', 'Noun'), ('에', 'Josa'), ('접어', 'Verb'), ('들', 'Verb'), ('것', 'Noun'), ('을', 'Josa'), ('우려', 'Noun'), ('해', 'Josa'), ('3', 'Number'), ('차례', 'Noun'), ('에', 'Josa'), ('걸쳐', 'Verb'), ('각각', 'Noun'), ('55', 'Number'), ('대', 'Verb'), (',', 'Punctuation'), ('32', 'Number'), ('대', 'Verb'), (',', 'Punctuation'), ('36', 'Number'), ('대', 'Verb'), ('추가', 'Noun'), ('생산', 'Noun'), ('을', 'Josa'), ('결정', 'Noun'), ('했', 'Verb'), ('다', 'Eomi'), ('당초', 'Noun'), ('군', 'Noun'), ('이', 'Josa'), ('요구한', 'Verb'), ('100', 'Number'), ('대', 'Verb'), ('에', 'Eomi'), ('무려', 'Noun'), ('123', 'Number'), ('대', 'Verb'), ('를', 'Eomi'), ('더', 'Noun'), ('얹어', 'Verb'), ('준', 'Noun'), ('것', 'Noun'), ('이다', 'Josa'), ('이러한', 'Adjective'), ('기조', 'Noun'), ('는', 'Josa'), ('21', 'Number'), ('세기', 'Noun'), ('에', 'Josa'), ('들어와', 'Verb'), ('서도', 'Noun'), ('그대로', 'Noun'), ('유지되', 'Verb'), ('고', 'Eomi'), ('있다', 'Adjective'), ('일본', 'Noun'), ('은', 'Josa'), ('F', 'Alpha'), ('-', 'Punctuation'), ('3', 'Number'), ('양산', 'Noun'), ('이', 'Josa'), ('시작되는', 'Verb'), ('2028', 'Number'), ('년', 'Noun'), ('이후', 'Noun'), ('까지', 'Josa'), ('자국', 'Noun'), ('의', 'Josa'), ('전투기', 'Noun'), ('생산', 'Noun'), ('라인', 'Noun'), ('유지', 'Noun'), ('를', 'Josa'), ('위해', 'Noun'), ('F', 'Alpha'), ('-', 'Punctuation'), ('35', 'Number'), ('면허', 'Noun'), ('생산', 'Noun'), ('을', 'Josa'), ('준비하고', 'Verb'), ('있다', 'Adjective'), ('현재', 'Noun'), ('계약', 'Noun'), ('된', 'Verb'), ('것', 'Noun'), ('은', 'Josa'), ('42', 'Number'), ('대지', 'Noun'), ('만', 'Josa'), (',', 'Punctuation'), ('지속', 'Noun'), ('적', 'Suffix'), ('인', 'Josa'), ('생산', 'Noun'), ('라인', 'Noun'), ('유지', 'Noun'), ('를', 'Josa'), ('위해', 'Noun'), ('F', 'Alpha'), ('-', 'Punctuation'), ('35', 'Number'), ('도입', 'Noun'), ('대수', 'Noun'), ('를', 'Josa'), ('100', 'Number'), ('대', 'Verb'), ('이상', 'Noun'), ('으로', 'Josa'), ('늘리는', 'Verb'), ('방안', 'Noun'), ('도', 'Josa'), ('검토', 'Noun'), ('중이', 'Noun'), ('다', 'Josa'), ('일본', 'Noun'), ('에서', 'Josa'), ('생산되는', 'Verb'), ('F', 'Alpha'), ('-', 'Punctuation'), ('35', 'Number'), ('는', 'Verb'), ('일본', 'Noun'), ('자국', 'Noun'), ('기업', 'Noun'), ('이', 'Josa'), ('생산한', 'Verb'), ('부품', 'Noun'), ('비중', 'Noun'), ('이', 'Josa'), ('40', 'Number'), ('%', 'Punctuation'), ('에', 'Josa'), ('육박', 'Noun'), ('하는', 'Verb'), ('데', 'Eomi'), (',', 'Punctuation'), ('이', 'Noun'), ('때문', 'Noun'), ('에', 'Josa'), ('도입', 'Noun'), ('가격', 'Noun'), ('이', 'Josa'), ('타국', 'Noun'), ('의', 'Josa'), ('F', 'Alpha'), ('-', 'Punctuation'), ('35', 'Number'), ('보다', 'Verb'), ('50', 'Number'), ('%', 'Punctuation'), ('가량', 'Noun'), ('비싸다', 'Adjective'), ('그럼', 'Adjective'), ('에도', 'Eomi'), ('불구하고', 'Verb'), ('일본정부', 'Noun'), ('가', 'Josa'), ('기존', 'Noun'), ('소요', 'Noun'), ('대비', 'Noun'), ('2', 'Number'), ('배', 'Noun'), ('이상', 'Noun'), ('추가', 'Noun'), ('도입', 'Noun'), ('을', 'Josa'), ('추진하는', 'Verb'), ('것', 'Noun'), ('은', 'Josa'), ('단순한', 'Adjective'), ('군비', 'Noun'), ('증강', 'Noun'), ('이', 'Josa'), ('아닌', 'Adjective'), ('항공', 'Noun'), ('산업', 'Noun'), ('에', 'Josa'), ('대한', 'Noun'), ('과감', 'Noun'), ('한', 'Josa'), ('투자', 'Noun'), ('다', 'Josa'), ('이러한', 'Adjective'), ('투자', 'Noun'), ('덕분', 'Noun'), ('에', 'Josa'), ('일본', 'Noun'), ('은', 'Josa'), ('완성', 'Noun'), ('기', 'Noun'), ('생산', 'Noun'), ('뿐', 'Suffix'), ('만', 'Josa'), ('아니', 'Adjective'), ('라', 'Eomi'), ('항공전자', 'Noun'), (',', 'Punctuation'), ('항공', 'Noun'), ('엔진', 'Noun'), (',', 'Punctuation'), ('소재', 'Noun'), ('기술', 'Noun'), ('등', 'Noun'), ('항공', 'Noun'), ('과학기술', 'Noun'), ('전반', 'Noun'), ('에', 'Josa'), ('걸쳐', 'Verb'), ('세계', 'Noun'), ('최고', 'Noun'), ('수준', 'Noun'), ('의', 'Josa'), ('기술', 'Noun'), ('력', 'Suffix'), ('을', 'Josa'), ('확보', 'Noun'), ('할', 'Verb'), ('수', 'Noun'), ('있었', 'Adjective'), ('고', 'Eomi'), (',', 'Punctuation'), ('F', 'Alpha'), ('-', 'Punctuation'), ('2', 'Number'), ('전투기', 'Noun'), ('개발', 'Noun'), ('이후', 'Noun'), ('세계', 'Noun'), ('각국', 'Noun'), ('으로부터', 'Josa'), ('공동', 'Noun'), ('개발', 'Noun'), ('과', 'Josa'), ('기술이전', 'Noun'), ('등', 'Noun'), ('의', 'Josa'), ('러브콜', 'Noun'), ('을', 'Josa'), ('받고', 'Verb'), ('있다', 'Adjective'), ('현재', 'Noun'), ('는', 'Josa'), ('이러한', 'Adjective'), ('기술', 'Noun'), ('력', 'Suffix'), ('기반', 'Noun'), ('위', 'Noun'), ('에', 'Josa'), ('4500', 'Number'), ('억', 'Noun'), ('원', 'Noun'), ('에', 'Josa'), ('달', 'Verb'), ('하', 'PreEomi'), ('는', 'Eomi'), ('R', 'Alpha'), ('&', 'Punctuation'), ('D', 'Alpha'), ('예산', 'Noun'), ('을', 'Josa'), ('투자', 'Noun'), (',', 'Punctuation'), ('X', 'Alpha'), ('-', 'Punctuation'), ('2', 'Number'), ('라는', 'Josa'), ('5', 'Number'), ('세대', 'Noun'), ('스텔스', 'Noun'), ('전투기', 'Noun'), ('기술', 'Noun'), ('실증', 'Noun'), ('기를', 'Verb'), ('완성하기', 'Verb'), ('도', 'Eomi'), ('했', 'Verb'), ('다', 'Eomi'), ('요컨대', 'Noun'), ('한국', 'Noun'), ('은', 'Josa'), ('전투기', 'Noun'), ('생산', 'Noun'), ('을', 'Josa'), ('단순히', 'Adjective'), ('소모', 'Noun'), ('성', 'Suffix'), ('국방', 'Noun'), ('사업', 'Noun'), ('이라고', 'Josa'), ('생각해', 'Verb'), ('정부', 'Noun'), ('차원', 'Noun'), ('의', 'Josa'), ('투자', 'Noun'), ('를', 'Josa'), ('꺼렸', 'Adjective'), ('고', 'Eomi'), (',', 'Punctuation'), ('일본', 'Noun'), ('은', 'Josa'), ('전투기', 'Noun'), ('생산', 'Noun'), ('을', 'Josa'), ('항공', 'Noun'), ('산업', 'Noun'), ('명맥', 'Noun'), ('유지', 'Noun'), ('와', 'Josa'), ('발전', 'Noun'), ('을', 'Josa'), ('위한', 'Verb'), ('투자', 'Noun'), ('라고', 'Josa'), ('인식했', 'Verb'), ('다', 'Eomi'), ('수십', 'Noun'), ('년', 'Noun'), ('간', 'Suffix'), ('지속된', 'Verb'), ('이러한', 'Adjective'), ('인식', 'Noun'), ('의', 'Josa'), ('차이', 'Noun'), ('는', 'Josa'), ('한일', 'Noun'), ('양국', 'Noun'), ('간', 'Noun'), ('항공', 'Noun'), ('산업', 'Noun'), ('수준', 'Noun'), ('의', 'Josa'), ('격차', 'Noun'), ('를', 'Josa'), ('천지', 'Noun'), ('차이', 'Noun'), ('로', 'Josa'), ('벌려', 'Verb'), ('놓', 'Verb'), ('았', 'PreEomi'), ('다', 'Eomi'), ('이제', 'Noun'), ('15', 'Number'), ('년', 'Noun'), ('후', 'Noun'), ('면', 'Josa'), ('우리나라', 'Noun'), ('는', 'Josa'), ('북한', 'Noun'), ('을', 'Josa'), ('제외하면', 'Verb'), ('동북아', 'Noun'), ('에서', 'Josa'), ('질적', 'Noun'), ('·', 'Foreign'), ('양적', 'Noun'), ('으로', 'Josa'), ('가장', 'Noun'), ('떨어지는', 'Verb'), ('공군', 'Noun'), ('력', 'Suffix'), ('을', 'Josa'), ('보유', 'Noun'), ('하게', 'Verb'), ('될', 'Verb'), ('것', 'Noun'), ('이고', 'Josa'), (',', 'Punctuation'), ('일본', 'Noun'), ('은', 'Josa'), ('질적', 'Noun'), ('으로', 'Josa'), ('미', 'Adjective'), ('공군', 'Noun'), ('과', 'Josa'), ('어깨', 'Noun'), ('를', 'Josa'), ('나란히', 'Adverb'), ('하는', 'Verb'), ('세계', 'Noun'), ('최정', 'Noun'), ('상급', 'Noun'), ('공군', 'Noun'), ('력', 'Suffix'), ('을', 'Josa'), ('가지', 'Noun'), ('고', 'Josa'), ('동북아시아', 'Noun'), ('하늘', 'Noun'), ('을', 'Josa'), ('지배하게', 'Verb'), ('될', 'Verb'), ('것', 'Noun'), ('이다', 'Josa'), ('물론', 'Noun'), ('아직', 'Noun'), ('시간', 'Noun'), ('은', 'Josa'), ('있다', 'Adjective'), ('정부', 'Noun'), ('가', 'Josa'), ('미래', 'Noun'), ('대한민국', 'Noun'), ('안보', 'Noun'), ('를', 'Josa'), ('걱정한', 'Verb'), ('다면', 'Eomi'), (',', 'Punctuation'), ('또', 'Noun'), ('항공', 'Noun'), ('산업', 'Noun'), ('을', 'Josa'), ('미래', 'Noun'), ('신', 'Noun'), ('성장동력', 'Noun'), ('산업', 'Noun'), ('으로', 'Josa'), ('생각하고', 'Verb'), ('있다', 'Adjective'), ('면', 'Eomi'), ('범', 'Noun'), ('정부', 'Noun'), ('차원', 'Noun'), ('의', 'Josa'), ('공세', 'Noun'), ('적', 'Suffix'), ('인', 'Josa'), ('투자가', 'Noun'), ('필요하다', 'Adjective'), ('과거', 'Noun'), ('에는', 'Josa'), ('‘', 'Foreign'), ('공', 'Noun'), ('돌이', 'Noun'), ('’', 'Foreign'), ('를', 'Noun'), ('쥐', 'Verb'), ('어', 'Eomi'), ('짜면', 'Verb'), ('“', 'Foreign'), ('안되', 'Verb'), ('면', 'Eomi'), ('되게', 'Adverb'), ('하라', 'Noun'), ('”', 'Foreign'), ('가', 'Verb'), ('가능', 'Noun'), ('했지만', 'Josa'), (',', 'Punctuation'), ('21', 'Number'), ('세기', 'Noun'), ('대한민국', 'Noun'), ('을', 'Josa'), ('먹여', 'Verb'), ('살릴', 'Verb'), ('산업', 'Noun'), ('을', 'Josa'), ('육성', 'Noun'), ('하자', 'Verb'), ('는데', 'Eomi'), ('1000', 'Number'), ('년전', 'Noun'), ('에밀레종', 'Noun'), ('만드는', 'Verb'), ('스타일', 'Noun'), ('로', 'Josa'), ('덤벼', 'Noun'), ('들', 'Suffix'), ('수', 'Noun'), ('는', 'Josa'), ('없지', 'Adjective'), ('않은', 'Verb'), ('가', 'Eomi')]\n"
     ]
    }
   ],
   "source": [
    "print(total_morphs['081-0002735239']['content'])"
   ]
  },
  {
   "cell_type": "code",
   "execution_count": 8,
   "metadata": {},
   "outputs": [],
   "source": [
    "total_Noun_words = {}    #명사만 따로 저장\n",
    "\n",
    "for key in total_morphs.keys():\n",
    "    morphs = total_morphs[key]['content']\n",
    "    total_Noun_words[key] ={}\n",
    "    total_Noun_words[key]['words']=get_Noun_words(morphs) # 명사 단어들만 clustering에 사용\n",
    "    total_Noun_words[key]['paper_id']=total_morphs[key]['paper_id']\n",
    "    total_Noun_words[key]['text_title']= total_morphs[key]['text_title']\n"
   ]
  },
  {
   "cell_type": "code",
   "execution_count": 9,
   "metadata": {},
   "outputs": [],
   "source": [
    "article_ids = []\n",
    "text_titles = []\n",
    "documents =[]\n",
    "# 기사의 id, 제목, 기사 내용 (명사로 구성)을 별도의 리스트 변수에 저장\n",
    "for key in total_Noun_words.keys():\n",
    "    article_ids.append(total_Noun_words[key]['paper_id'])\n",
    "    text_titles.append(total_Noun_words[key]['text_title'])\n",
    "    document = total_Noun_words[key]['words'] # list of words\n",
    "    documents.append(document) # list of docs: a doc is a list of words"
   ]
  },
  {
   "cell_type": "code",
   "execution_count": 10,
   "metadata": {},
   "outputs": [],
   "source": [
    "f_stop = open('stop_words.txt', 'r', encoding='utf-8')\n",
    "stop_words = []\n",
    "for word in f_stop.readlines():\n",
    "    stop_word = word.strip()\n",
    "    stop_words.append(stop_word)\n",
    "f_stop.close()\n",
    "\n",
    "docs_filtered = [[term for term in doc if term not in stop_words] for doc in documents]\n",
    "# 전처리의 추가 과정으로 불용어를 제거하고, \n",
    "# 아주 많이 사용됐거나 혹은 아주 적게 사용된 단어들도 추가적으로 제외하는 부분"
   ]
  },
  {
   "cell_type": "code",
   "execution_count": 11,
   "metadata": {},
   "outputs": [],
   "source": [
    "documents_filtered = []\n",
    "for doc in docs_filtered:\n",
    "    document_filtered =''\n",
    "    for word in doc:\n",
    "        document_filtered = document_filtered+' '+word\n",
    "    documents_filtered.append(document_filtered) # list of strings\n",
    "# 불필요한 단어들을 제거하고 난후 DTM로 변환하기 위해 다시 list of strings의 형태로 변환"
   ]
  },
  {
   "cell_type": "code",
   "execution_count": null,
   "metadata": {
    "scrolled": true
   },
   "outputs": [],
   "source": [
    "vectorizer, doc_term_mat = tfidf_extractor(documents_filtered) # TFIDF matrix로 변환\n",
    "kmeans = KMeans(n_clusters=NUM_CLUSTERS, max_iter=10) # KMeans 알고리즘 생성\n",
    "# More about the parameters: http://scikit-learn.org/stable/modules/generated/sklearn.cluster.KMeans.html\n",
    "\n",
    "clusters = kmeans.fit_predict(doc_term_mat) # KMeans 알고리즘으로 학습"
   ]
  },
  {
   "cell_type": "code",
   "execution_count": 40,
   "metadata": {
    "collapsed": true
   },
   "outputs": [],
   "source": [
    "import pandas as pd\n",
    "results_df = pd.DataFrame(columns=['article_id', 'title', 'cluster_id'])"
   ]
  },
  {
   "cell_type": "code",
   "execution_count": 41,
   "metadata": {},
   "outputs": [
    {
     "data": {
      "text/html": [
       "<div>\n",
       "<style>\n",
       "    .dataframe thead tr:only-child th {\n",
       "        text-align: right;\n",
       "    }\n",
       "\n",
       "    .dataframe thead th {\n",
       "        text-align: left;\n",
       "    }\n",
       "\n",
       "    .dataframe tbody tr th {\n",
       "        vertical-align: top;\n",
       "    }\n",
       "</style>\n",
       "<table border=\"1\" class=\"dataframe\">\n",
       "  <thead>\n",
       "    <tr style=\"text-align: right;\">\n",
       "      <th></th>\n",
       "      <th>article_id</th>\n",
       "      <th>title</th>\n",
       "      <th>cluster_id</th>\n",
       "    </tr>\n",
       "  </thead>\n",
       "  <tbody>\n",
       "  </tbody>\n",
       "</table>\n",
       "</div>"
      ],
      "text/plain": [
       "Empty DataFrame\n",
       "Columns: [article_id, title, cluster_id]\n",
       "Index: []"
      ]
     },
     "execution_count": 41,
     "metadata": {},
     "output_type": "execute_result"
    }
   ],
   "source": [
    "results_df"
   ]
  },
  {
   "cell_type": "code",
   "execution_count": 42,
   "metadata": {},
   "outputs": [],
   "source": [
    "for doc_num, cluster_num in enumerate(clusters): \n",
    "    cluster_dict = {}\n",
    "    cluster_dict['article_id'] = article_ids[doc_num]\n",
    "    cluster_dict['title'] = text_titles[doc_num]\n",
    "    cluster_dict['cluster_id'] = cluster_num\n",
    "    results_df=results_df.append(cluster_dict, ignore_index=True)"
   ]
  },
  {
   "cell_type": "code",
   "execution_count": 43,
   "metadata": {},
   "outputs": [
    {
     "data": {
      "text/html": [
       "<div>\n",
       "<style>\n",
       "    .dataframe thead tr:only-child th {\n",
       "        text-align: right;\n",
       "    }\n",
       "\n",
       "    .dataframe thead th {\n",
       "        text-align: left;\n",
       "    }\n",
       "\n",
       "    .dataframe tbody tr th {\n",
       "        vertical-align: top;\n",
       "    }\n",
       "</style>\n",
       "<table border=\"1\" class=\"dataframe\">\n",
       "  <thead>\n",
       "    <tr style=\"text-align: right;\">\n",
       "      <th></th>\n",
       "      <th>article_id</th>\n",
       "      <th>title</th>\n",
       "      <th>cluster_id</th>\n",
       "    </tr>\n",
       "  </thead>\n",
       "  <tbody>\n",
       "    <tr>\n",
       "      <th>0</th>\n",
       "      <td>081-0002735239</td>\n",
       "      <td>[이일우의 밀리터리 talk] 韓스텔스기vs日스텔스…</td>\n",
       "      <td>1</td>\n",
       "    </tr>\n",
       "    <tr>\n",
       "      <th>1</th>\n",
       "      <td>056-0010325528</td>\n",
       "      <td>현역장병이 매긴 군 급식·피복 점수는?…100점 만…</td>\n",
       "      <td>1</td>\n",
       "    </tr>\n",
       "    <tr>\n",
       "      <th>2</th>\n",
       "      <td>001-0008474442</td>\n",
       "      <td>국민투표 시한까지 제시되는 개헌론…이번엔 현실…</td>\n",
       "      <td>1</td>\n",
       "    </tr>\n",
       "    <tr>\n",
       "      <th>3</th>\n",
       "      <td>001-0008538459</td>\n",
       "      <td>北, 美 김정은 제재에 \"부시 정부도 안 한 행동\"</td>\n",
       "      <td>3</td>\n",
       "    </tr>\n",
       "    <tr>\n",
       "      <th>4</th>\n",
       "      <td>008-0003710916</td>\n",
       "      <td>수도권 공백은 어떻게?...패트리엇 미사일 증강 배…</td>\n",
       "      <td>11</td>\n",
       "    </tr>\n",
       "  </tbody>\n",
       "</table>\n",
       "</div>"
      ],
      "text/plain": [
       "       article_id                          title cluster_id\n",
       "0  081-0002735239  [이일우의 밀리터리 talk] 韓스텔스기vs日스텔스…          1\n",
       "1  056-0010325528  현역장병이 매긴 군 급식·피복 점수는?…100점 만…          1\n",
       "2  001-0008474442     국민투표 시한까지 제시되는 개헌론…이번엔 현실…          1\n",
       "3  001-0008538459   北, 美 김정은 제재에 \"부시 정부도 안 한 행동\"          3\n",
       "4  008-0003710916  수도권 공백은 어떻게?...패트리엇 미사일 증강 배…         11"
      ]
     },
     "execution_count": 43,
     "metadata": {},
     "output_type": "execute_result"
    }
   ],
   "source": [
    "results_df.head()"
   ]
  },
  {
   "cell_type": "code",
   "execution_count": 44,
   "metadata": {
    "collapsed": true
   },
   "outputs": [],
   "source": [
    "results_df.to_excel('k_means_results.xlsx')"
   ]
  },
  {
   "cell_type": "code",
   "execution_count": null,
   "metadata": {
    "collapsed": true
   },
   "outputs": [],
   "source": []
  }
 ],
 "metadata": {
  "kernelspec": {
   "display_name": "Python 3",
   "language": "python",
   "name": "python3"
  },
  "language_info": {
   "codemirror_mode": {
    "name": "ipython",
    "version": 3
   },
   "file_extension": ".py",
   "mimetype": "text/x-python",
   "name": "python",
   "nbconvert_exporter": "python",
   "pygments_lexer": "ipython3",
   "version": "3.6.5"
  }
 },
 "nbformat": 4,
 "nbformat_minor": 2
}
