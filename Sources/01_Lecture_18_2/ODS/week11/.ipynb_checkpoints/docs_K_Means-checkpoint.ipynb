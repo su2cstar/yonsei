{
 "cells": [
  {
   "cell_type": "markdown",
   "metadata": {},
   "source": [
    "아래와 같이 텍스트 파일을 읽어 옵니다."
   ]
  },
  {
   "cell_type": "code",
   "execution_count": 1,
   "metadata": {},
   "outputs": [],
   "source": [
    "from os import listdir\n",
    "from os.path import isfile, join\n",
    "\n",
    "mypath = './example_En_docs/'\n",
    "onlyfiles = [f for f in listdir(mypath) if isfile(join(mypath, f))]\n",
    "\n",
    "total_docs = []\n",
    "for file in onlyfiles:\n",
    "    file_path = mypath+file\n",
    "    with open(file_path, 'r', encoding='utf8') as f:\n",
    "        content = f.read()\n",
    "    total_docs.append(content)"
   ]
  },
  {
   "cell_type": "code",
   "execution_count": 2,
   "metadata": {},
   "outputs": [],
   "source": [
    "import preprocessing # import a python file for English text preprocessing"
   ]
  },
  {
   "cell_type": "code",
   "execution_count": 3,
   "metadata": {},
   "outputs": [],
   "source": [
    "stopwords = ['be', 'today', 'yesterday', 'new', 'york', 'time'] # 불용어 사전 생성하기"
   ]
  },
  {
   "cell_type": "code",
   "execution_count": 4,
   "metadata": {},
   "outputs": [],
   "source": [
    "docs = [preprocessing.En_processing(doc, stopwords) for doc in total_docs]\n",
    "# docs의 각 원소는 문서 하나에 대해서 (문서 내용, [명사단어])로 구성\n",
    "# 문서 내용은 문장들로 구성"
   ]
  },
  {
   "cell_type": "code",
   "execution_count": 5,
   "metadata": {},
   "outputs": [
    {
     "data": {
      "text/plain": [
       "('Ryen Aleman was engrossed in the virtual world focused on the video game in front of him when he realized the gunshots he was hearing were real. He ducked and bolted for a restroom to take cover.\\nAnother mass shooting was unfolding in Florida this time at a tournament for competitive players of the football video game Madden in Jacksonville. The winners would go on to a higher level tournament in Las Vegas in October where large cash prizes could be won.\\nParticipants had gathered at the Jacksonville Landing Complex an openair marketplace with stores bars and restaurants along the St. Johns River.\\n\\nDavid Katz a 24yearold gamer from Baltimore Maryland was in Jacksonville for the tournament at GLHF Game Bar in the back of a pizza restaurant. On Sunday he brought a gun into the venue and opened fire killing two people. Then he turned the gun on himself Jacksonville Sheriff Mike Williams said. Police have not released a possible motive.\\nKatz used at least one handgun in the shooting the sheriff said. Nine other people suffered gunshot wounds and two people were injured fleeing the area Williams said. The victims were all in stable condition at local hospitals the sheriff said.\\nThe horror that unfolded was captured on an online stream of the event posted the website Twitch. The game abruptly stopped after several shots were heard.\\nPeople screamed. One person cried out Oh f whatd he shoot me with? \\nShortly after 130 p.m. 911 calls started pouring in about a shooting according to Williams. Officers were on the scene within two minutes.\\nAleman said he huddled in the bathroom for 10 minutes and ran from the scene.\\nIm still shocked I can hardly talk he told CNN.\\nSeven members of the Jacksonville Fire Station 1  known as The Rock  were doing routine training in a parking garage across the street from the Landing when dozens of people came running out said Randy Wyse president of the Jacksonville Association of Fire Fighters.\\nOne person pulled up their shirt showing where they had been shot in the chest Wyse said. A second person with gunshot wounds followed shortly behind them.\\nAs four firefighters administered first aid three others ran toward the Landing Wyse said and flagged down a police officer.\\nThey started treating victims and found the three dead bodies including Katzs body.\\nHours after he committed suicide authorities said agents with the Bureau of Alcohol Tobacco Firearms and Explosives and FBI and Baltimore Police searched Katzs family home in Baltimore.\\nKatz went by the gaming naming Bread and previously won Madden tournaments in 2017 multiple gamers told CNN.\\nIn February 2017 the Buffalo Bills tweeted out a picture of him after he won the Madden 17 Bills Championship. Congrats to David Katz the Madden 17 Bills Championship winner! Thanks for following along Bills fans the tweet read.\\nIn an interview after the win with former Buffalos Bills player Steve Tasker Katz talked about his prowess.\\nI think personally Im one of the better players he said. \\nFlorida has seen several mass shootings in recent years a gunman killed 17 people at Marjory Stoneman Douglas high school in Parkland earlier this year five people were gunned down at the Fort Lauderdale airport last year and 49 were shot dead at the Pulse nightclub in Orlando in 2016.\\nWe have got to change Gov. Rick Scott told reporters Sunday night. Weve got to really stop and say to ourselves theres something wrong.\\nWhy are young men willing to give up their life or why dont they value somebody elses life? he said. Weve got to figure this out.\\nFormer Congresswoman Gabrielle Giffords who was seriously wounded in a mass shooting said the nations attention turns to Florida again.\\nThe nation once again looks to Florida with grief and heavy hearts Giffords who cofounded a gun violence prevention organization said in a statement.\\nThe massacre in Jacksonville is a tragic reminder of the threats we face from gun violence no matter who we are or where our day takes us said Giffords. And its yet another devastating indictment of this countrys inability to keep our kids safe.\\n\\n    The nation once again looks to Florida with grief and heavy hearts. The massacre in Jacksonville is yet another devastating indictment of this countrys inability to keep our kids safe. httpst.coNNw88rVWR2\\n     Gabrielle Giffords GabbyGiffords August 26 2018\\n\\nEA Sports a video game developer and publisher condemned the shooting as a senseless act of violence.\\nCompLexity Gaming founder and CEO Jason Lake told CNN that the shooting may make the growing eSports industry reconsider security at events.\\nOne of the companys gamers a 19yearold who goes by Drini was shot in the thumb but managed to escape and is going to be fine Lake said.\\nTo have someone walk into an event like this thats all about good sportsmanship and teamwork and just good vibes and do something like this its heartbreaking he said. I think the esports industry as a whole is going to have to step back and take a look at further strengthening our security.',\n",
       " ['aleman',\n",
       "  'world',\n",
       "  'video',\n",
       "  'game',\n",
       "  'front',\n",
       "  'gunshot',\n",
       "  'restroom',\n",
       "  'cover',\n",
       "  'mass',\n",
       "  'shooting',\n",
       "  'florida',\n",
       "  'tournament',\n",
       "  'player',\n",
       "  'football',\n",
       "  'video',\n",
       "  'game',\n",
       "  'madden',\n",
       "  'jacksonville',\n",
       "  'winner',\n",
       "  'level',\n",
       "  'tournament',\n",
       "  'vega',\n",
       "  'october',\n",
       "  'cash',\n",
       "  'prize',\n",
       "  'participant',\n",
       "  'jacksonville',\n",
       "  'marketplace',\n",
       "  'store',\n",
       "  'bar',\n",
       "  'restaurant',\n",
       "  'st',\n",
       "  'john',\n",
       "  'river',\n",
       "  'david',\n",
       "  'gamer',\n",
       "  'baltimore',\n",
       "  'maryland',\n",
       "  'jacksonville',\n",
       "  'tournament',\n",
       "  'game',\n",
       "  'bar',\n",
       "  'back',\n",
       "  'pizza',\n",
       "  'restaurant',\n",
       "  'sunday',\n",
       "  'gun',\n",
       "  'venue',\n",
       "  'fire',\n",
       "  'people',\n",
       "  'gun',\n",
       "  'mike',\n",
       "  'williams',\n",
       "  'police',\n",
       "  'motive',\n",
       "  'katz',\n",
       "  'handgun',\n",
       "  'sheriff',\n",
       "  'people',\n",
       "  'wound',\n",
       "  'people',\n",
       "  'area',\n",
       "  'williams',\n",
       "  'victim',\n",
       "  'condition',\n",
       "  'hospital',\n",
       "  'sheriff',\n",
       "  'horror',\n",
       "  'stream',\n",
       "  'event',\n",
       "  'game',\n",
       "  'shot',\n",
       "  'people',\n",
       "  'person',\n",
       "  'f',\n",
       "  'whatd',\n",
       "  'call',\n",
       "  'williams',\n",
       "  'officer',\n",
       "  'scene',\n",
       "  'minute',\n",
       "  'bathroom',\n",
       "  'minute',\n",
       "  'ran',\n",
       "  'scene',\n",
       "  'im',\n",
       "  'member',\n",
       "  'jacksonville',\n",
       "  'fire',\n",
       "  'station',\n",
       "  'rock',\n",
       "  'training',\n",
       "  'parking',\n",
       "  'garage',\n",
       "  'street',\n",
       "  'landing',\n",
       "  'dozen',\n",
       "  'people',\n",
       "  'president',\n",
       "  'jacksonville',\n",
       "  'association',\n",
       "  'fire',\n",
       "  'fighter',\n",
       "  'person',\n",
       "  'shirt',\n",
       "  'chest',\n",
       "  'wyse',\n",
       "  'person',\n",
       "  'wound',\n",
       "  'firefighter',\n",
       "  'aid',\n",
       "  'others',\n",
       "  'landing',\n",
       "  'wyse',\n",
       "  'officer',\n",
       "  'victim',\n",
       "  'body',\n",
       "  'katzs',\n",
       "  'body',\n",
       "  'hour',\n",
       "  'authority',\n",
       "  'agent',\n",
       "  'bureau',\n",
       "  'alcohol',\n",
       "  'tobacco',\n",
       "  'firearm',\n",
       "  'explosive',\n",
       "  'fbi',\n",
       "  'police',\n",
       "  'family',\n",
       "  'home',\n",
       "  'baltimore',\n",
       "  'katz',\n",
       "  'gaming',\n",
       "  'bread',\n",
       "  'tournament',\n",
       "  'multiple',\n",
       "  'gamers',\n",
       "  'cnn',\n",
       "  'buffalo',\n",
       "  'bill',\n",
       "  'picture',\n",
       "  'bill',\n",
       "  'congrats',\n",
       "  'bill',\n",
       "  'thanks',\n",
       "  'bill',\n",
       "  'tweet',\n",
       "  'read',\n",
       "  'interview',\n",
       "  'win',\n",
       "  'buffalo',\n",
       "  'bill',\n",
       "  'player',\n",
       "  'tasker',\n",
       "  'katz',\n",
       "  'prowess',\n",
       "  'player',\n",
       "  'florida',\n",
       "  'mass',\n",
       "  'shooting',\n",
       "  'year',\n",
       "  'gunman',\n",
       "  'people',\n",
       "  'douglas',\n",
       "  'school',\n",
       "  'parkland',\n",
       "  'year',\n",
       "  'people',\n",
       "  'fort',\n",
       "  'lauderdale',\n",
       "  'airport',\n",
       "  'year',\n",
       "  'pulse',\n",
       "  'nightclub',\n",
       "  'orlando',\n",
       "  'gov',\n",
       "  'rick',\n",
       "  'scott',\n",
       "  'reporter',\n",
       "  'night',\n",
       "  'weve',\n",
       "  'something',\n",
       "  'men',\n",
       "  'life',\n",
       "  'value',\n",
       "  'somebody',\n",
       "  'life',\n",
       "  'congresswoman',\n",
       "  'gabrielle',\n",
       "  'giffords',\n",
       "  'mass',\n",
       "  'shooting',\n",
       "  'nation',\n",
       "  'attention',\n",
       "  'nation',\n",
       "  'grief',\n",
       "  'heart',\n",
       "  'giffords',\n",
       "  'gun',\n",
       "  'violence',\n",
       "  'prevention',\n",
       "  'organization',\n",
       "  'statement',\n",
       "  'massacre',\n",
       "  'jacksonville',\n",
       "  'reminder',\n",
       "  'threat',\n",
       "  'violence',\n",
       "  'matter',\n",
       "  'day',\n",
       "  'giffords',\n",
       "  'indictment',\n",
       "  'country',\n",
       "  'inability',\n",
       "  'kid',\n",
       "  'nation',\n",
       "  'grief',\n",
       "  'heart',\n",
       "  'massacre',\n",
       "  'jacksonville',\n",
       "  'indictment',\n",
       "  'country',\n",
       "  'inability',\n",
       "  'kid',\n",
       "  'httpstconnw88rvwr2',\n",
       "  'gabrielle',\n",
       "  'giffords',\n",
       "  'gabbygiffords',\n",
       "  'ea',\n",
       "  'sport',\n",
       "  'video',\n",
       "  'game',\n",
       "  'developer',\n",
       "  'publisher',\n",
       "  'shooting',\n",
       "  'senseless',\n",
       "  'act',\n",
       "  'violence',\n",
       "  'complexity',\n",
       "  'founder',\n",
       "  'ceo',\n",
       "  'jason',\n",
       "  'cnn',\n",
       "  'shooting',\n",
       "  'esports',\n",
       "  'industry',\n",
       "  'security',\n",
       "  'event',\n",
       "  'company',\n",
       "  'drini',\n",
       "  'thumb',\n",
       "  'lake',\n",
       "  'someone',\n",
       "  'walk',\n",
       "  'event',\n",
       "  'sportsmanship',\n",
       "  'teamwork',\n",
       "  'vibe',\n",
       "  'something',\n",
       "  'heartbreaking',\n",
       "  'esports',\n",
       "  'industry',\n",
       "  'whole',\n",
       "  'look',\n",
       "  'security'])"
      ]
     },
     "execution_count": 5,
     "metadata": {},
     "output_type": "execute_result"
    }
   ],
   "source": [
    "docs[0]"
   ]
  },
  {
   "cell_type": "code",
   "execution_count": 6,
   "metadata": {},
   "outputs": [],
   "source": [
    "DOCS_NUM=len(docs) "
   ]
  },
  {
   "cell_type": "code",
   "execution_count": 7,
   "metadata": {},
   "outputs": [
    {
     "data": {
      "text/plain": [
       "15"
      ]
     },
     "execution_count": 7,
     "metadata": {},
     "output_type": "execute_result"
    }
   ],
   "source": [
    "DOCS_NUM"
   ]
  },
  {
   "cell_type": "code",
   "execution_count": 8,
   "metadata": {},
   "outputs": [
    {
     "data": {
      "text/plain": [
       "('Ryen Aleman was engrossed in the virtual world focused on the video game in front of him when he realized the gunshots he was hearing were real. He ducked and bolted for a restroom to take cover.\\nAnother mass shooting was unfolding in Florida this time at a tournament for competitive players of the football video game Madden in Jacksonville. The winners would go on to a higher level tournament in Las Vegas in October where large cash prizes could be won.\\nParticipants had gathered at the Jacksonville Landing Complex an openair marketplace with stores bars and restaurants along the St. Johns River.\\n\\nDavid Katz a 24yearold gamer from Baltimore Maryland was in Jacksonville for the tournament at GLHF Game Bar in the back of a pizza restaurant. On Sunday he brought a gun into the venue and opened fire killing two people. Then he turned the gun on himself Jacksonville Sheriff Mike Williams said. Police have not released a possible motive.\\nKatz used at least one handgun in the shooting the sheriff said. Nine other people suffered gunshot wounds and two people were injured fleeing the area Williams said. The victims were all in stable condition at local hospitals the sheriff said.\\nThe horror that unfolded was captured on an online stream of the event posted the website Twitch. The game abruptly stopped after several shots were heard.\\nPeople screamed. One person cried out Oh f whatd he shoot me with? \\nShortly after 130 p.m. 911 calls started pouring in about a shooting according to Williams. Officers were on the scene within two minutes.\\nAleman said he huddled in the bathroom for 10 minutes and ran from the scene.\\nIm still shocked I can hardly talk he told CNN.\\nSeven members of the Jacksonville Fire Station 1  known as The Rock  were doing routine training in a parking garage across the street from the Landing when dozens of people came running out said Randy Wyse president of the Jacksonville Association of Fire Fighters.\\nOne person pulled up their shirt showing where they had been shot in the chest Wyse said. A second person with gunshot wounds followed shortly behind them.\\nAs four firefighters administered first aid three others ran toward the Landing Wyse said and flagged down a police officer.\\nThey started treating victims and found the three dead bodies including Katzs body.\\nHours after he committed suicide authorities said agents with the Bureau of Alcohol Tobacco Firearms and Explosives and FBI and Baltimore Police searched Katzs family home in Baltimore.\\nKatz went by the gaming naming Bread and previously won Madden tournaments in 2017 multiple gamers told CNN.\\nIn February 2017 the Buffalo Bills tweeted out a picture of him after he won the Madden 17 Bills Championship. Congrats to David Katz the Madden 17 Bills Championship winner! Thanks for following along Bills fans the tweet read.\\nIn an interview after the win with former Buffalos Bills player Steve Tasker Katz talked about his prowess.\\nI think personally Im one of the better players he said. \\nFlorida has seen several mass shootings in recent years a gunman killed 17 people at Marjory Stoneman Douglas high school in Parkland earlier this year five people were gunned down at the Fort Lauderdale airport last year and 49 were shot dead at the Pulse nightclub in Orlando in 2016.\\nWe have got to change Gov. Rick Scott told reporters Sunday night. Weve got to really stop and say to ourselves theres something wrong.\\nWhy are young men willing to give up their life or why dont they value somebody elses life? he said. Weve got to figure this out.\\nFormer Congresswoman Gabrielle Giffords who was seriously wounded in a mass shooting said the nations attention turns to Florida again.\\nThe nation once again looks to Florida with grief and heavy hearts Giffords who cofounded a gun violence prevention organization said in a statement.\\nThe massacre in Jacksonville is a tragic reminder of the threats we face from gun violence no matter who we are or where our day takes us said Giffords. And its yet another devastating indictment of this countrys inability to keep our kids safe.\\n\\n    The nation once again looks to Florida with grief and heavy hearts. The massacre in Jacksonville is yet another devastating indictment of this countrys inability to keep our kids safe. httpst.coNNw88rVWR2\\n     Gabrielle Giffords GabbyGiffords August 26 2018\\n\\nEA Sports a video game developer and publisher condemned the shooting as a senseless act of violence.\\nCompLexity Gaming founder and CEO Jason Lake told CNN that the shooting may make the growing eSports industry reconsider security at events.\\nOne of the companys gamers a 19yearold who goes by Drini was shot in the thumb but managed to escape and is going to be fine Lake said.\\nTo have someone walk into an event like this thats all about good sportsmanship and teamwork and just good vibes and do something like this its heartbreaking he said. I think the esports industry as a whole is going to have to step back and take a look at further strengthening our security.',\n",
       " ['aleman',\n",
       "  'world',\n",
       "  'video',\n",
       "  'game',\n",
       "  'front',\n",
       "  'gunshot',\n",
       "  'restroom',\n",
       "  'cover',\n",
       "  'mass',\n",
       "  'shooting',\n",
       "  'florida',\n",
       "  'tournament',\n",
       "  'player',\n",
       "  'football',\n",
       "  'video',\n",
       "  'game',\n",
       "  'madden',\n",
       "  'jacksonville',\n",
       "  'winner',\n",
       "  'level',\n",
       "  'tournament',\n",
       "  'vega',\n",
       "  'october',\n",
       "  'cash',\n",
       "  'prize',\n",
       "  'participant',\n",
       "  'jacksonville',\n",
       "  'marketplace',\n",
       "  'store',\n",
       "  'bar',\n",
       "  'restaurant',\n",
       "  'st',\n",
       "  'john',\n",
       "  'river',\n",
       "  'david',\n",
       "  'gamer',\n",
       "  'baltimore',\n",
       "  'maryland',\n",
       "  'jacksonville',\n",
       "  'tournament',\n",
       "  'game',\n",
       "  'bar',\n",
       "  'back',\n",
       "  'pizza',\n",
       "  'restaurant',\n",
       "  'sunday',\n",
       "  'gun',\n",
       "  'venue',\n",
       "  'fire',\n",
       "  'people',\n",
       "  'gun',\n",
       "  'mike',\n",
       "  'williams',\n",
       "  'police',\n",
       "  'motive',\n",
       "  'katz',\n",
       "  'handgun',\n",
       "  'sheriff',\n",
       "  'people',\n",
       "  'wound',\n",
       "  'people',\n",
       "  'area',\n",
       "  'williams',\n",
       "  'victim',\n",
       "  'condition',\n",
       "  'hospital',\n",
       "  'sheriff',\n",
       "  'horror',\n",
       "  'stream',\n",
       "  'event',\n",
       "  'game',\n",
       "  'shot',\n",
       "  'people',\n",
       "  'person',\n",
       "  'f',\n",
       "  'whatd',\n",
       "  'call',\n",
       "  'williams',\n",
       "  'officer',\n",
       "  'scene',\n",
       "  'minute',\n",
       "  'bathroom',\n",
       "  'minute',\n",
       "  'ran',\n",
       "  'scene',\n",
       "  'im',\n",
       "  'member',\n",
       "  'jacksonville',\n",
       "  'fire',\n",
       "  'station',\n",
       "  'rock',\n",
       "  'training',\n",
       "  'parking',\n",
       "  'garage',\n",
       "  'street',\n",
       "  'landing',\n",
       "  'dozen',\n",
       "  'people',\n",
       "  'president',\n",
       "  'jacksonville',\n",
       "  'association',\n",
       "  'fire',\n",
       "  'fighter',\n",
       "  'person',\n",
       "  'shirt',\n",
       "  'chest',\n",
       "  'wyse',\n",
       "  'person',\n",
       "  'wound',\n",
       "  'firefighter',\n",
       "  'aid',\n",
       "  'others',\n",
       "  'landing',\n",
       "  'wyse',\n",
       "  'officer',\n",
       "  'victim',\n",
       "  'body',\n",
       "  'katzs',\n",
       "  'body',\n",
       "  'hour',\n",
       "  'authority',\n",
       "  'agent',\n",
       "  'bureau',\n",
       "  'alcohol',\n",
       "  'tobacco',\n",
       "  'firearm',\n",
       "  'explosive',\n",
       "  'fbi',\n",
       "  'police',\n",
       "  'family',\n",
       "  'home',\n",
       "  'baltimore',\n",
       "  'katz',\n",
       "  'gaming',\n",
       "  'bread',\n",
       "  'tournament',\n",
       "  'multiple',\n",
       "  'gamers',\n",
       "  'cnn',\n",
       "  'buffalo',\n",
       "  'bill',\n",
       "  'picture',\n",
       "  'bill',\n",
       "  'congrats',\n",
       "  'bill',\n",
       "  'thanks',\n",
       "  'bill',\n",
       "  'tweet',\n",
       "  'read',\n",
       "  'interview',\n",
       "  'win',\n",
       "  'buffalo',\n",
       "  'bill',\n",
       "  'player',\n",
       "  'tasker',\n",
       "  'katz',\n",
       "  'prowess',\n",
       "  'player',\n",
       "  'florida',\n",
       "  'mass',\n",
       "  'shooting',\n",
       "  'year',\n",
       "  'gunman',\n",
       "  'people',\n",
       "  'douglas',\n",
       "  'school',\n",
       "  'parkland',\n",
       "  'year',\n",
       "  'people',\n",
       "  'fort',\n",
       "  'lauderdale',\n",
       "  'airport',\n",
       "  'year',\n",
       "  'pulse',\n",
       "  'nightclub',\n",
       "  'orlando',\n",
       "  'gov',\n",
       "  'rick',\n",
       "  'scott',\n",
       "  'reporter',\n",
       "  'night',\n",
       "  'weve',\n",
       "  'something',\n",
       "  'men',\n",
       "  'life',\n",
       "  'value',\n",
       "  'somebody',\n",
       "  'life',\n",
       "  'congresswoman',\n",
       "  'gabrielle',\n",
       "  'giffords',\n",
       "  'mass',\n",
       "  'shooting',\n",
       "  'nation',\n",
       "  'attention',\n",
       "  'nation',\n",
       "  'grief',\n",
       "  'heart',\n",
       "  'giffords',\n",
       "  'gun',\n",
       "  'violence',\n",
       "  'prevention',\n",
       "  'organization',\n",
       "  'statement',\n",
       "  'massacre',\n",
       "  'jacksonville',\n",
       "  'reminder',\n",
       "  'threat',\n",
       "  'violence',\n",
       "  'matter',\n",
       "  'day',\n",
       "  'giffords',\n",
       "  'indictment',\n",
       "  'country',\n",
       "  'inability',\n",
       "  'kid',\n",
       "  'nation',\n",
       "  'grief',\n",
       "  'heart',\n",
       "  'massacre',\n",
       "  'jacksonville',\n",
       "  'indictment',\n",
       "  'country',\n",
       "  'inability',\n",
       "  'kid',\n",
       "  'httpstconnw88rvwr2',\n",
       "  'gabrielle',\n",
       "  'giffords',\n",
       "  'gabbygiffords',\n",
       "  'ea',\n",
       "  'sport',\n",
       "  'video',\n",
       "  'game',\n",
       "  'developer',\n",
       "  'publisher',\n",
       "  'shooting',\n",
       "  'senseless',\n",
       "  'act',\n",
       "  'violence',\n",
       "  'complexity',\n",
       "  'founder',\n",
       "  'ceo',\n",
       "  'jason',\n",
       "  'cnn',\n",
       "  'shooting',\n",
       "  'esports',\n",
       "  'industry',\n",
       "  'security',\n",
       "  'event',\n",
       "  'company',\n",
       "  'drini',\n",
       "  'thumb',\n",
       "  'lake',\n",
       "  'someone',\n",
       "  'walk',\n",
       "  'event',\n",
       "  'sportsmanship',\n",
       "  'teamwork',\n",
       "  'vibe',\n",
       "  'something',\n",
       "  'heartbreaking',\n",
       "  'esports',\n",
       "  'industry',\n",
       "  'whole',\n",
       "  'look',\n",
       "  'security'])"
      ]
     },
     "execution_count": 8,
     "metadata": {},
     "output_type": "execute_result"
    }
   ],
   "source": [
    "docs[0]"
   ]
  },
  {
   "cell_type": "code",
   "execution_count": 9,
   "metadata": {},
   "outputs": [],
   "source": [
    "total_docs_nouns = [] # corpus에 사용된 모든 단어 저장\n",
    "docs_nouns = [] # 각 문서를 단어로 표현한 것들의 리스트\n",
    "for doc, words in docs:\n",
    "    total_docs_nouns.extend(words)\n",
    "    docs_nouns.append(words)"
   ]
  },
  {
   "cell_type": "code",
   "execution_count": 10,
   "metadata": {},
   "outputs": [
    {
     "data": {
      "text/plain": [
       "15"
      ]
     },
     "execution_count": 10,
     "metadata": {},
     "output_type": "execute_result"
    }
   ],
   "source": [
    "len(docs_nouns)"
   ]
  },
  {
   "cell_type": "code",
   "execution_count": 11,
   "metadata": {},
   "outputs": [
    {
     "data": {
      "text/plain": [
       "3203"
      ]
     },
     "execution_count": 11,
     "metadata": {},
     "output_type": "execute_result"
    }
   ],
   "source": [
    "len(total_docs_nouns)"
   ]
  },
  {
   "cell_type": "code",
   "execution_count": 12,
   "metadata": {},
   "outputs": [
    {
     "data": {
      "text/plain": [
       "1168"
      ]
     },
     "execution_count": 12,
     "metadata": {},
     "output_type": "execute_result"
    }
   ],
   "source": [
    "len(set(total_docs_nouns))"
   ]
  },
  {
   "cell_type": "code",
   "execution_count": 13,
   "metadata": {},
   "outputs": [],
   "source": [
    "from sklearn.feature_extraction.text import CountVectorizer # frequency based DTM\n",
    "from sklearn.feature_extraction.text import TfidfVectorizer # tf-idf based DTM"
   ]
  },
  {
   "cell_type": "code",
   "execution_count": 14,
   "metadata": {},
   "outputs": [],
   "source": [
    "def tf_extractor(corpus): \n",
    "    # returns a frequency-based DTM\n",
    "    vectorizer = CountVectorizer(min_df=1, ngram_range=(1,1))\n",
    "    # min_df: minimum document frequency threshold\n",
    "         # if min_df = 1 -> 최소 적어도 하나의 문서에서 사용된 단어들은 모두 포함\n",
    "    # ngram_range=(1,1) -> unigram 만 포함\n",
    "    # ngram_range=(1,3) -> unigram, bi-gram, tri-gram 까지 고려\n",
    "    features = vectorizer.fit_transform(corpus) # transform texts to a frequency matrix\n",
    "    return vectorizer, features  "
   ]
  },
  {
   "cell_type": "code",
   "execution_count": 15,
   "metadata": {},
   "outputs": [],
   "source": [
    "def tfidf_extractor(corpus):\n",
    "    # returns a tf-idf based DTM\n",
    "    vectorizer = TfidfVectorizer(min_df=1, \n",
    "                                 norm='l2',\n",
    "                                 smooth_idf=True,\n",
    "                                 use_idf=True,\n",
    "                                 ngram_range=(1,1))\n",
    "    features = vectorizer.fit_transform(corpus)\n",
    "    return vectorizer, features"
   ]
  },
  {
   "cell_type": "code",
   "execution_count": 16,
   "metadata": {},
   "outputs": [
    {
     "name": "stdout",
     "output_type": "stream",
     "text": [
      "['aleman', 'world', 'video', 'game', 'front', 'gunshot', 'restroom', 'cover', 'mass', 'shooting', 'florida', 'tournament', 'player', 'football', 'video', 'game', 'madden', 'jacksonville', 'winner', 'level', 'tournament', 'vega', 'october', 'cash', 'prize', 'participant', 'jacksonville', 'marketplace', 'store', 'bar', 'restaurant', 'st', 'john', 'river', 'david', 'gamer', 'baltimore', 'maryland', 'jacksonville', 'tournament', 'game', 'bar', 'back', 'pizza', 'restaurant', 'sunday', 'gun', 'venue', 'fire', 'people', 'gun', 'mike', 'williams', 'police', 'motive', 'katz', 'handgun', 'sheriff', 'people', 'wound', 'people', 'area', 'williams', 'victim', 'condition', 'hospital', 'sheriff', 'horror', 'stream', 'event', 'game', 'shot', 'people', 'person', 'f', 'whatd', 'call', 'williams', 'officer', 'scene', 'minute', 'bathroom', 'minute', 'ran', 'scene', 'im', 'member', 'jacksonville', 'fire', 'station', 'rock', 'training', 'parking', 'garage', 'street', 'landing', 'dozen', 'people', 'president', 'jacksonville', 'association', 'fire', 'fighter', 'person', 'shirt', 'chest', 'wyse', 'person', 'wound', 'firefighter', 'aid', 'others', 'landing', 'wyse', 'officer', 'victim', 'body', 'katzs', 'body', 'hour', 'authority', 'agent', 'bureau', 'alcohol', 'tobacco', 'firearm', 'explosive', 'fbi', 'police', 'family', 'home', 'baltimore', 'katz', 'gaming', 'bread', 'tournament', 'multiple', 'gamers', 'cnn', 'buffalo', 'bill', 'picture', 'bill', 'congrats', 'bill', 'thanks', 'bill', 'tweet', 'read', 'interview', 'win', 'buffalo', 'bill', 'player', 'tasker', 'katz', 'prowess', 'player', 'florida', 'mass', 'shooting', 'year', 'gunman', 'people', 'douglas', 'school', 'parkland', 'year', 'people', 'fort', 'lauderdale', 'airport', 'year', 'pulse', 'nightclub', 'orlando', 'gov', 'rick', 'scott', 'reporter', 'night', 'weve', 'something', 'men', 'life', 'value', 'somebody', 'life', 'congresswoman', 'gabrielle', 'giffords', 'mass', 'shooting', 'nation', 'attention', 'nation', 'grief', 'heart', 'giffords', 'gun', 'violence', 'prevention', 'organization', 'statement', 'massacre', 'jacksonville', 'reminder', 'threat', 'violence', 'matter', 'day', 'giffords', 'indictment', 'country', 'inability', 'kid', 'nation', 'grief', 'heart', 'massacre', 'jacksonville', 'indictment', 'country', 'inability', 'kid', 'httpstconnw88rvwr2', 'gabrielle', 'giffords', 'gabbygiffords', 'ea', 'sport', 'video', 'game', 'developer', 'publisher', 'shooting', 'senseless', 'act', 'violence', 'complexity', 'founder', 'ceo', 'jason', 'cnn', 'shooting', 'esports', 'industry', 'security', 'event', 'company', 'drini', 'thumb', 'lake', 'someone', 'walk', 'event', 'sportsmanship', 'teamwork', 'vibe', 'something', 'heartbreaking', 'esports', 'industry', 'whole', 'look', 'security']\n"
     ]
    }
   ],
   "source": [
    "print(docs_nouns[0])"
   ]
  },
  {
   "cell_type": "code",
   "execution_count": 17,
   "metadata": {},
   "outputs": [],
   "source": [
    "documents_filtered = []\n",
    "for doc in docs_nouns:\n",
    "    document_filtered =''\n",
    "    for word in doc:\n",
    "        document_filtered = document_filtered+' '+word\n",
    "    documents_filtered.append(document_filtered) # list of docs, doc 은 단어들로 구성이 된 string data\n",
    "# 불필요한 단어들을 제거하고 난후 DTM로 변환하기 위해 다시 list of strings의 형태로 변환"
   ]
  },
  {
   "cell_type": "code",
   "execution_count": 18,
   "metadata": {},
   "outputs": [
    {
     "data": {
      "text/plain": [
       "' aleman world video game front gunshot restroom cover mass shooting florida tournament player football video game madden jacksonville winner level tournament vega october cash prize participant jacksonville marketplace store bar restaurant st john river david gamer baltimore maryland jacksonville tournament game bar back pizza restaurant sunday gun venue fire people gun mike williams police motive katz handgun sheriff people wound people area williams victim condition hospital sheriff horror stream event game shot people person f whatd call williams officer scene minute bathroom minute ran scene im member jacksonville fire station rock training parking garage street landing dozen people president jacksonville association fire fighter person shirt chest wyse person wound firefighter aid others landing wyse officer victim body katzs body hour authority agent bureau alcohol tobacco firearm explosive fbi police family home baltimore katz gaming bread tournament multiple gamers cnn buffalo bill picture bill congrats bill thanks bill tweet read interview win buffalo bill player tasker katz prowess player florida mass shooting year gunman people douglas school parkland year people fort lauderdale airport year pulse nightclub orlando gov rick scott reporter night weve something men life value somebody life congresswoman gabrielle giffords mass shooting nation attention nation grief heart giffords gun violence prevention organization statement massacre jacksonville reminder threat violence matter day giffords indictment country inability kid nation grief heart massacre jacksonville indictment country inability kid httpstconnw88rvwr2 gabrielle giffords gabbygiffords ea sport video game developer publisher shooting senseless act violence complexity founder ceo jason cnn shooting esports industry security event company drini thumb lake someone walk event sportsmanship teamwork vibe something heartbreaking esports industry whole look security'"
      ]
     },
     "execution_count": 18,
     "metadata": {},
     "output_type": "execute_result"
    }
   ],
   "source": [
    "documents_filtered[0]"
   ]
  },
  {
   "cell_type": "code",
   "execution_count": 19,
   "metadata": {},
   "outputs": [],
   "source": [
    "vectorizer_tfidf, doc_term_mat_tfidf = tfidf_extractor(documents_filtered) # 문서들을 TFIDF matrix로 변환"
   ]
  },
  {
   "cell_type": "code",
   "execution_count": 20,
   "metadata": {},
   "outputs": [],
   "source": [
    "vectorizer_tf, doc_term_mat_tf = tf_extractor(documents_filtered) # 문서들을 TF matrix로 변환"
   ]
  },
  {
   "cell_type": "code",
   "execution_count": 21,
   "metadata": {
    "scrolled": true
   },
   "outputs": [
    {
     "name": "stdout",
     "output_type": "stream",
     "text": [
      "  (0, 612)\t1\n",
      "  (0, 1144)\t1\n",
      "  (0, 498)\t1\n",
      "  (0, 1113)\t1\n",
      "  (0, 1046)\t1\n",
      "  (0, 983)\t1\n",
      "  (0, 1126)\t1\n",
      "  (0, 967)\t1\n",
      "  (0, 579)\t1\n",
      "  (0, 1063)\t1\n",
      "  (0, 336)\t1\n",
      "  (0, 222)\t1\n",
      "  (0, 924)\t2\n",
      "  (0, 532)\t2\n",
      "  (0, 371)\t2\n",
      "  (0, 554)\t1\n",
      "  (0, 175)\t1\n",
      "  (0, 439)\t1\n",
      "  (0, 226)\t1\n",
      "  (0, 5)\t1\n",
      "  (0, 931)\t1\n",
      "  (0, 817)\t1\n",
      "  (0, 310)\t1\n",
      "  (0, 982)\t1\n",
      "  (0, 340)\t1\n",
      "  :\t:\n",
      "  (14, 266)\t1\n",
      "  (14, 213)\t9\n",
      "  (14, 312)\t1\n",
      "  (14, 797)\t1\n",
      "  (14, 692)\t2\n",
      "  (14, 535)\t1\n",
      "  (14, 268)\t2\n",
      "  (14, 288)\t2\n",
      "  (14, 76)\t1\n",
      "  (14, 966)\t1\n",
      "  (14, 913)\t6\n",
      "  (14, 1160)\t1\n",
      "  (14, 546)\t1\n",
      "  (14, 507)\t3\n",
      "  (14, 514)\t3\n",
      "  (14, 716)\t1\n",
      "  (14, 521)\t2\n",
      "  (14, 700)\t3\n",
      "  (14, 1114)\t1\n",
      "  (14, 740)\t3\n",
      "  (14, 87)\t1\n",
      "  (14, 92)\t1\n",
      "  (14, 561)\t1\n",
      "  (14, 449)\t1\n",
      "  (14, 1155)\t1\n"
     ]
    }
   ],
   "source": [
    "print(doc_term_mat_tf)"
   ]
  },
  {
   "cell_type": "code",
   "execution_count": 23,
   "metadata": {},
   "outputs": [],
   "source": [
    "import numpy as np"
   ]
  },
  {
   "cell_type": "code",
   "execution_count": 24,
   "metadata": {},
   "outputs": [],
   "source": [
    "DTM_TF = np.array(doc_term_mat_tf.todense()) #dense array (즉, 0을 포함한 array)로 변환후 다시 numpy array로 변환"
   ]
  },
  {
   "cell_type": "code",
   "execution_count": 25,
   "metadata": {},
   "outputs": [
    {
     "data": {
      "text/plain": [
       "array([[0, 0, 0, ..., 0, 0, 0],\n",
       "       [0, 0, 0, ..., 0, 0, 0],\n",
       "       [0, 0, 0, ..., 0, 0, 0],\n",
       "       ...,\n",
       "       [0, 0, 0, ..., 0, 0, 0],\n",
       "       [1, 1, 1, ..., 0, 0, 0],\n",
       "       [0, 0, 0, ..., 0, 0, 0]], dtype=int64)"
      ]
     },
     "execution_count": 25,
     "metadata": {},
     "output_type": "execute_result"
    }
   ],
   "source": [
    "DTM_TF"
   ]
  },
  {
   "cell_type": "code",
   "execution_count": 26,
   "metadata": {},
   "outputs": [],
   "source": [
    "DTM_TFIDF = np.array(doc_term_mat_tfidf.todense())"
   ]
  },
  {
   "cell_type": "code",
   "execution_count": 27,
   "metadata": {},
   "outputs": [
    {
     "data": {
      "text/plain": [
       "array([[0.        , 0.        , 0.        , ..., 0.        , 0.        ,\n",
       "        0.        ],\n",
       "       [0.        , 0.        , 0.        , ..., 0.        , 0.        ,\n",
       "        0.        ],\n",
       "       [0.        , 0.        , 0.        , ..., 0.        , 0.        ,\n",
       "        0.        ],\n",
       "       ...,\n",
       "       [0.        , 0.        , 0.        , ..., 0.        , 0.        ,\n",
       "        0.        ],\n",
       "       [0.04711425, 0.0409108 , 0.04711425, ..., 0.        , 0.        ,\n",
       "        0.        ],\n",
       "       [0.        , 0.        , 0.        , ..., 0.        , 0.        ,\n",
       "        0.        ]])"
      ]
     },
     "execution_count": 27,
     "metadata": {},
     "output_type": "execute_result"
    }
   ],
   "source": [
    "DTM_TFIDF"
   ]
  },
  {
   "cell_type": "code",
   "execution_count": 28,
   "metadata": {},
   "outputs": [
    {
     "name": "stdout",
     "output_type": "stream",
     "text": [
      "25.03996805109783 31.016124838541646 35.93048844644336\n"
     ]
    }
   ],
   "source": [
    "d1d2_tf = np.linalg.norm(DTM_TF[0]-DTM_TF[1])\n",
    "d1d4_tf = np.linalg.norm(DTM_TF[0]-DTM_TF[3])\n",
    "d1d6_tf = np.linalg.norm(DTM_TF[0]-DTM_TF[5])\n",
    "print(d1d2_tf, d1d4_tf, d1d6_tf)"
   ]
  },
  {
   "cell_type": "code",
   "execution_count": 29,
   "metadata": {},
   "outputs": [
    {
     "name": "stdout",
     "output_type": "stream",
     "text": [
      "1.0862427819879072 1.3761591218900362 1.3995826682418473\n"
     ]
    }
   ],
   "source": [
    "d1d2_tfidf = np.linalg.norm(DTM_TFIDF[0]-DTM_TFIDF[1])\n",
    "d1d4_tfidf = np.linalg.norm(DTM_TFIDF[0]-DTM_TFIDF[3])\n",
    "d1d6_tfidf = np.linalg.norm(DTM_TFIDF[0]-DTM_TFIDF[5])\n",
    "print(d1d2_tfidf, d1d4_tfidf, d1d6_tfidf)"
   ]
  },
  {
   "cell_type": "code",
   "execution_count": 30,
   "metadata": {},
   "outputs": [
    {
     "name": "stdout",
     "output_type": "stream",
     "text": [
      "0.4797868087836209 0.08921136837371918 0.03923483668514357\n"
     ]
    }
   ],
   "source": [
    "d1d2_cos_tf = np.dot(DTM_TF[0],DTM_TF[1])/(np.linalg.norm(DTM_TF[0])*np.linalg.norm(DTM_TF[1]))\n",
    "d1d4_cos_tf = np.dot(DTM_TF[0],DTM_TF[3])/(np.linalg.norm(DTM_TF[0])*np.linalg.norm(DTM_TF[3]))\n",
    "d1d6_cos_tf = np.dot(DTM_TF[0],DTM_TF[5])/(np.linalg.norm(DTM_TF[0])*np.linalg.norm(DTM_TF[5]))\n",
    "print(d1d2_cos_tf, d1d4_cos_tf, d1d6_cos_tf)"
   ]
  },
  {
   "cell_type": "code",
   "execution_count": 28,
   "metadata": {},
   "outputs": [
    {
     "name": "stdout",
     "output_type": "stream",
     "text": [
      "0.41003830928958646 0.053093035619423086 0.020584177378516227\n"
     ]
    }
   ],
   "source": [
    "d1d2_cos_tfidf = np.dot(DTM_TFIDF[0],DTM_TFIDF[1])/(np.linalg.norm(DTM_TFIDF[0])*np.linalg.norm(DTM_TFIDF[1]))\n",
    "d1d4_cos_tfidf = np.dot(DTM_TFIDF[0],DTM_TFIDF[3])/(np.linalg.norm(DTM_TFIDF[0])*np.linalg.norm(DTM_TFIDF[3]))\n",
    "d1d6_cos_tfidf = np.dot(DTM_TFIDF[0],DTM_TFIDF[5])/(np.linalg.norm(DTM_TFIDF[0])*np.linalg.norm(DTM_TFIDF[5]))\n",
    "print(d1d2_cos_tfidf, d1d4_cos_tfidf, d1d6_cos_tfidf)"
   ]
  },
  {
   "cell_type": "code",
   "execution_count": 32,
   "metadata": {
    "collapsed": true
   },
   "outputs": [],
   "source": [
    "import numpy as np\n",
    "from sklearn.metrics.pairwise import cosine_similarity # cosine similarity 계산하기"
   ]
  },
  {
   "cell_type": "markdown",
   "metadata": {},
   "source": [
    "tfidf 방식을 이용한 문서들 간의 유사도 계산"
   ]
  },
  {
   "cell_type": "code",
   "execution_count": 33,
   "metadata": {},
   "outputs": [
    {
     "name": "stdout",
     "output_type": "stream",
     "text": [
      "[[0.41003831]] [[0.05309304]] [[0.00825539]] [[0.01764762]]\n"
     ]
    }
   ],
   "source": [
    "d1d2_cos_idf = cosine_similarity(DTM_TFIDF[0].reshape(1,-1), DTM_TFIDF[1].reshape(1,-1))\n",
    "d1d4_cos_idf = cosine_similarity(DTM_TFIDF[0].reshape(1,-1), DTM_TFIDF[3].reshape(1,-1))\n",
    "d1d7_cos_idf = cosine_similarity(DTM_TFIDF[0].reshape(1,-1), DTM_TFIDF[6].reshape(1,-1))\n",
    "d1d10_cos_idf = cosine_similarity(DTM_TFIDF[0].reshape(1,-1), DTM_TFIDF[9].reshape(1,-1))\n",
    "print(d1d2_cos_idf, d1d4_cos_idf, d1d7_cos_idf, d1d10_cos_idf)"
   ]
  },
  {
   "cell_type": "code",
   "execution_count": 31,
   "metadata": {
    "collapsed": true
   },
   "outputs": [],
   "source": [
    "from sklearn.cluster import KMeans\n",
    "kmeans = KMeans(n_clusters=4, max_iter=10, random_state=0)\n",
    "clusters = kmeans.fit_predict(DTM_TFIDF) # KMeans 알고리즘으로 학습"
   ]
  },
  {
   "cell_type": "code",
   "execution_count": 32,
   "metadata": {},
   "outputs": [
    {
     "data": {
      "text/plain": [
       "array([3, 3, 3, 3, 3, 1, 1, 1, 2, 2, 2, 2, 0, 0, 0])"
      ]
     },
     "execution_count": 32,
     "metadata": {},
     "output_type": "execute_result"
    }
   ],
   "source": [
    "clusters"
   ]
  },
  {
   "cell_type": "code",
   "execution_count": null,
   "metadata": {
    "collapsed": true
   },
   "outputs": [],
   "source": []
  }
 ],
 "metadata": {
  "kernelspec": {
   "display_name": "Python 3",
   "language": "python",
   "name": "python3"
  },
  "language_info": {
   "codemirror_mode": {
    "name": "ipython",
    "version": 3
   },
   "file_extension": ".py",
   "mimetype": "text/x-python",
   "name": "python",
   "nbconvert_exporter": "python",
   "pygments_lexer": "ipython3",
   "version": "3.6.5"
  }
 },
 "nbformat": 4,
 "nbformat_minor": 2
}
