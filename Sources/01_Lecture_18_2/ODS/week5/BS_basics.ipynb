{
 "cells": [
  {
   "cell_type": "code",
   "execution_count": 3,
   "metadata": {},
   "outputs": [],
   "source": [
    "from bs4 import BeautifulSoup # import BeautifulSoup"
   ]
  },
  {
   "cell_type": "code",
   "execution_count": 4,
   "metadata": {},
   "outputs": [],
   "source": [
    "with open('html_test.html', 'r', encoding = 'utf-8') as f: # reading the html code\n",
    "    text = f.read()"
   ]
  },
  {
   "cell_type": "code",
   "execution_count": 5,
   "metadata": {},
   "outputs": [
    {
     "name": "stdout",
     "output_type": "stream",
     "text": [
      "﻿<html lang=\"ko\">\n",
      "\t<head>\n",
      "\t\t<title> Online Data Scraping Test</title>\n",
      "\t</head>\n",
      "\n",
      "\t<body>\n",
      "\t\t<p class=\"title\">HTML code for the lecture</p>\n",
      "\t\t<p class=\"description\">This code will be used as HTML source code for the BS lecture. For more detailed information about BS, you can click\n",
      "\t\t\t<a class=\"BS_English\" href=\"http://www.pythonforbeginners.com/python-on-the-web/beautifulsoup-4-python/\"> BS4 for beginners</a></p>\n",
      "\t\t<p class=\"description\">한국어로 된 정보를 원한다면\n",
      "\t\t\t<a class=\"BS_Korean\" href=\"http://coreapython.hosting.paran.com/etc/beautifulsoup4.html\"> BS4 for beginners (한글버전)</a>을 이용하세요</p>\n",
      "\t\t<div>\n",
      "\t\t\t<p><span class=\"red_price\">35.6</span></p>\n",
      "\t\t\t<p><span class=\"blue_price\">43.2</span></p>\n",
      "\t\t\t<p><span method=\"manual\">24.3</span></p>\n",
      "\t\t</div>\n",
      "\t</body>\n",
      "</html>\n",
      "\n",
      "\n",
      "\n"
     ]
    }
   ],
   "source": [
    "print(text)"
   ]
  },
  {
   "cell_type": "code",
   "execution_count": 6,
   "metadata": {},
   "outputs": [],
   "source": [
    "soup=BeautifulSoup(text, 'lxml') # create a BS instance with two parameters"
   ]
  },
  {
   "cell_type": "code",
   "execution_count": 7,
   "metadata": {},
   "outputs": [
    {
     "name": "stdout",
     "output_type": "stream",
     "text": [
      "<html lang=\"ko\">\n",
      "<head>\n",
      "<title> Online Data Scraping Test</title>\n",
      "</head>\n",
      "<body>\n",
      "<p class=\"title\">HTML code for the lecture</p>\n",
      "<p class=\"description\">This code will be used as HTML source code for the BS lecture. For more detailed information about BS, you can click\n",
      "\t\t\t<a class=\"BS_English\" href=\"http://www.pythonforbeginners.com/python-on-the-web/beautifulsoup-4-python/\"> BS4 for beginners</a></p>\n",
      "<p class=\"description\">한국어로 된 정보를 원한다면\n",
      "\t\t\t<a class=\"BS_Korean\" href=\"http://coreapython.hosting.paran.com/etc/beautifulsoup4.html\"> BS4 for beginners (한글버전)</a>을 이용하세요</p>\n",
      "<div>\n",
      "<p><span class=\"red_price\">35.6</span></p>\n",
      "<p><span class=\"blue_price\">43.2</span></p>\n",
      "<p><span method=\"manual\">24.3</span></p>\n",
      "</div>\n",
      "</body>\n",
      "</html>\n",
      "\n"
     ]
    }
   ],
   "source": [
    "print(soup)"
   ]
  },
  {
   "cell_type": "code",
   "execution_count": 8,
   "metadata": {},
   "outputs": [
    {
     "name": "stdout",
     "output_type": "stream",
     "text": [
      "Online Data Scraping Test\n"
     ]
    }
   ],
   "source": [
    "print(soup.title.text.strip()) # find a tag using its name"
   ]
  },
  {
   "cell_type": "code",
   "execution_count": 8,
   "metadata": {},
   "outputs": [
    {
     "name": "stdout",
     "output_type": "stream",
     "text": [
      "HTML code for the lecture\n"
     ]
    }
   ],
   "source": [
    "print(soup.find('p', attrs={'class':'title'}).text) # find a tag using the 'find()' function"
   ]
  },
  {
   "cell_type": "code",
   "execution_count": 9,
   "metadata": {},
   "outputs": [
    {
     "name": "stdout",
     "output_type": "stream",
     "text": [
      "http://coreapython.hosting.paran.com/etc/beautifulsoup4.html\n"
     ]
    }
   ],
   "source": [
    "print(soup.find_all('a')[1].get('href')) # extracting the value of a tag's attribute (in this case, 'href')"
   ]
  },
  {
   "cell_type": "code",
   "execution_count": 9,
   "metadata": {},
   "outputs": [
    {
     "data": {
      "text/plain": [
       "<p class=\"title\">HTML code for the lecture</p>"
      ]
     },
     "execution_count": 9,
     "metadata": {},
     "output_type": "execute_result"
    }
   ],
   "source": [
    "soup.p # title을 제외한 tag는 동일한 이름을 갖고 여러개가 존재 할 수 있다 첫번째 p태그만 return"
   ]
  },
  {
   "cell_type": "code",
   "execution_count": 12,
   "metadata": {},
   "outputs": [
    {
     "data": {
      "text/plain": [
       "' Online Data Scraping Test'"
      ]
     },
     "execution_count": 12,
     "metadata": {},
     "output_type": "execute_result"
    }
   ],
   "source": [
    "# find 함수 이용\n",
    "soup.find('title').text"
   ]
  },
  {
   "cell_type": "code",
   "execution_count": 17,
   "metadata": {},
   "outputs": [
    {
     "data": {
      "text/plain": [
       "'HTML code for the lecture'"
      ]
     },
     "execution_count": 17,
     "metadata": {},
     "output_type": "execute_result"
    }
   ],
   "source": [
    "soup.find('p').text"
   ]
  },
  {
   "cell_type": "code",
   "execution_count": 18,
   "metadata": {},
   "outputs": [
    {
     "name": "stdout",
     "output_type": "stream",
     "text": [
      "This code will be used as HTML source code for the BS lecture. For more detailed information about BS, you can click\n",
      "\t\t\t BS4 for beginners\n"
     ]
    }
   ],
   "source": [
    "print(soup.find('p',attrs = {'class':'description'}).text)"
   ]
  },
  {
   "cell_type": "code",
   "execution_count": 25,
   "metadata": {},
   "outputs": [
    {
     "name": "stdout",
     "output_type": "stream",
     "text": [
      "한국어로 된 정보를 원한다면\n",
      "\t\t\t BS4 for beginners (한글버전)을 이용하세요\n"
     ]
    }
   ],
   "source": [
    "print(soup.find_all('p',attrs = {'class':'description'})[1].text) # a 태그의 href는 연결되는 주소를 갖는다"
   ]
  },
  {
   "cell_type": "code",
   "execution_count": 26,
   "metadata": {},
   "outputs": [
    {
     "name": "stdout",
     "output_type": "stream",
     "text": [
      "http://coreapython.hosting.paran.com/etc/beautifulsoup4.html\n"
     ]
    }
   ],
   "source": [
    "print(soup.find_all('a')[1].get('href')) # a 태그의 href는 연결되는 주소를 갖는다 get함수를 통해서 attribute의 정보를 가져온다"
   ]
  },
  {
   "cell_type": "code",
   "execution_count": null,
   "metadata": {},
   "outputs": [],
   "source": []
  }
 ],
 "metadata": {
  "kernelspec": {
   "display_name": "Python 3",
   "language": "python",
   "name": "python3"
  },
  "language_info": {
   "codemirror_mode": {
    "name": "ipython",
    "version": 3
   },
   "file_extension": ".py",
   "mimetype": "text/x-python",
   "name": "python",
   "nbconvert_exporter": "python",
   "pygments_lexer": "ipython3",
   "version": "3.6.5"
  }
 },
 "nbformat": 4,
 "nbformat_minor": 2
}
