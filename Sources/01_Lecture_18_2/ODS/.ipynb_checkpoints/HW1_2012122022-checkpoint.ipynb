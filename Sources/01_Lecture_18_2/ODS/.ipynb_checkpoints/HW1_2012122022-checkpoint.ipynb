{
 "cells": [
  {
   "cell_type": "code",
   "execution_count": 1,
   "metadata": {},
   "outputs": [],
   "source": [
    "import requests\n",
    "from bs4 import BeautifulSoup\n",
    "import time\n",
    "from selenium import webdriver\n",
    "import json"
   ]
  },
  {
   "cell_type": "code",
   "execution_count": 2,
   "metadata": {},
   "outputs": [],
   "source": [
    "url = 'https://www.imdb.com/movies-in-theaters/?ref_=nv_tp_inth_1'\n",
    "#set the driver path\n",
    "dpath = r'C:\\Users\\ahn92\\Documents\\Sources\\ODS\\chromedriver_win32\\chromedriver.exe'"
   ]
  },
  {
   "cell_type": "code",
   "execution_count": 3,
   "metadata": {},
   "outputs": [],
   "source": [
    "## get the information of each movies\n",
    "#repeat the get the html process, when it makes error stop the process\n",
    "cond = True\n",
    "html = []\n",
    "i = 1\n",
    "while cond:\n",
    "    try:\n",
    "        driver = webdriver.Chrome(executable_path=dpath)\n",
    "        driver.get(url)\n",
    "        xpath = '//*[@id=\"main\"]/div/div[3]/div['+str(i)+']/table/tbody/tr[1]/td[2]/h4/a'\n",
    "        element = driver.find_element_by_xpath(xpath) # xpath link of the elementt\n",
    "        element.click()\n",
    "        html.append(driver.page_source)\n",
    "        time.sleep(1)\n",
    "        driver.close()\n",
    "        i= i + 1\n",
    "    except:\n",
    "        driver.close()\n",
    "        cond = False"
   ]
  },
  {
   "cell_type": "code",
   "execution_count": 4,
   "metadata": {},
   "outputs": [],
   "source": [
    "def mklst(bsp):\n",
    "    #lots of data we are interested in is saved as json file we use json module\n",
    "    jstr = bsp.find('script', attrs={'type':'application/ld+json'}).text\n",
    "    jdict = json.loads(jstr)\n",
    "    ##title\n",
    "    title = bsp.find('meta', attrs={'property':'og:title'}).get('content')\n",
    "    ##rating score\n",
    "    rtval = jdict['aggregateRating']['ratingValue']\n",
    "    rtcnt = jdict['aggregateRating']['ratingCount']\n",
    "    #genre\n",
    "    genre = jdict['genre']\n",
    "    #director, If there is more than 1 directors make list\n",
    "    try:\n",
    "        director = jdict['director']['name']\n",
    "    except:\n",
    "        director = []\n",
    "        for dic in jdict['director']:\n",
    "            director.append(dic['name'])\n",
    "    #stars, like director If there is more than 1 stars make list\n",
    "    try:\n",
    "        stars = jdict['actor']['name']\n",
    "    except:\n",
    "        stars = []\n",
    "        for dic in jdict['actor']:\n",
    "            stars.append(dic['name'])\n",
    "    #metascore\n",
    "    mtscore = bsp.find( 'div', attrs={'class':'titleReviewBarItem'} ).find('span').text\n",
    "    #make output list\n",
    "    out = [title, rtval, rtcnt, genre, director, stars, mtscore]\n",
    "    return(out)"
   ]
  },
  {
   "cell_type": "code",
   "execution_count": 5,
   "metadata": {},
   "outputs": [],
   "source": [
    "#convert html text to beautifulsoup object\n",
    "soup = []\n",
    "for i in range(len(html)):\n",
    "    soup.append(BeautifulSoup(html[i] , 'lxml'))"
   ]
  },
  {
   "cell_type": "code",
   "execution_count": 6,
   "metadata": {},
   "outputs": [],
   "source": [
    "#apply our function mklst which return the information we are interested in\n",
    "output = []\n",
    "for i in range(len(soup)):\n",
    "    output.append(mklst(soup[i]))"
   ]
  },
  {
   "cell_type": "code",
   "execution_count": 10,
   "metadata": {},
   "outputs": [],
   "source": [
    "#set the deliminator as comma\n",
    "deli = ', '"
   ]
  },
  {
   "cell_type": "code",
   "execution_count": 11,
   "metadata": {},
   "outputs": [],
   "source": [
    "#genre, stars, director can be stored as list when there is more than 2 information\n",
    "#so we should convert the list to string, and stars cannot contain more than 2 people\n",
    "def lst2str(lst,deli='/'):\n",
    "    if type(lst)==list:\n",
    "        return(deli.join(lst))\n",
    "    else:\n",
    "        return(lst)\n",
    "def lst2strStars(lst,deli='/'):\n",
    "    if type(lst)==list:\n",
    "        if len(lst)>2:\n",
    "            lst = lst[0:2]\n",
    "        return(deli.join(lst))\n",
    "    else:\n",
    "        return(lst)"
   ]
  },
  {
   "cell_type": "code",
   "execution_count": 12,
   "metadata": {},
   "outputs": [],
   "source": [
    "#save our output\n",
    "with open('HW1_2012122022.txt', 'w',encoding = 'UTF8') as f:\n",
    "    for vec in output:\n",
    "        f.write(deli.join([vec[0], vec[1], str(vec[2]), lst2str(vec[3]), lst2str(vec[4]), lst2strStars(vec[5]), vec[6]])+'\\n')"
   ]
  },
  {
   "cell_type": "code",
   "execution_count": null,
   "metadata": {},
   "outputs": [],
   "source": []
  }
 ],
 "metadata": {
  "kernelspec": {
   "display_name": "Python 3",
   "language": "python",
   "name": "python3"
  },
  "language_info": {
   "codemirror_mode": {
    "name": "ipython",
    "version": 3
   },
   "file_extension": ".py",
   "mimetype": "text/x-python",
   "name": "python",
   "nbconvert_exporter": "python",
   "pygments_lexer": "ipython3",
   "version": "3.6.5"
  }
 },
 "nbformat": 4,
 "nbformat_minor": 2
}
