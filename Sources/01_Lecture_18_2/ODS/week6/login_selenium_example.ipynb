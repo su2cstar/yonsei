{
 "cells": [
  {
   "cell_type": "code",
   "execution_count": 1,
   "metadata": {
    "collapsed": true
   },
   "outputs": [],
   "source": [
    "from selenium import webdriver\n",
    "import time"
   ]
  },
  {
   "cell_type": "code",
   "execution_count": 2,
   "metadata": {
    "collapsed": true
   },
   "outputs": [],
   "source": [
    "url=\"https://account.meyouhealth.com/quitnet/session/new\""
   ]
  },
  {
   "cell_type": "code",
   "execution_count": null,
   "metadata": {
    "collapsed": true
   },
   "outputs": [],
   "source": [
    "driver.get(url)\n",
    "driver.implicitly_wait(10)\n",
    "\n",
    "username = driver.find_element_by_id(\"user_session_email\")\n",
    "password = driver.find_element_by_id(\"user_session_password\")\n",
    "\n",
    "username.send_keys(\"enter your id\")\n",
    "password.send_keys(\"enter pw\")\n",
    "\n",
    "element1=driver.find_element_by_xpath('//*[@id=\"new_user_session\"]/div[2]/div/div/div[1]/input')\n",
    "element1.click()\n",
    "\n",
    "html = driver.page_source\n",
    "\n",
    "driver.close()"
   ]
  }
 ],
 "metadata": {
  "kernelspec": {
   "display_name": "Python 3",
   "language": "python",
   "name": "python3"
  },
  "language_info": {
   "codemirror_mode": {
    "name": "ipython",
    "version": 3
   },
   "file_extension": ".py",
   "mimetype": "text/x-python",
   "name": "python",
   "nbconvert_exporter": "python",
   "pygments_lexer": "ipython3",
   "version": "3.6.1"
  }
 },
 "nbformat": 4,
 "nbformat_minor": 2
}
