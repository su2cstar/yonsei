{
 "cells": [
  {
   "cell_type": "code",
   "execution_count": 2,
   "metadata": {
    "collapsed": true
   },
   "outputs": [],
   "source": [
    "from urllib.request import urlopen\n",
    "from bs4 import BeautifulSoup\n",
    "import time"
   ]
  },
  {
   "cell_type": "code",
   "execution_count": 5,
   "metadata": {},
   "outputs": [
    {
     "name": "stdout",
     "output_type": "stream",
     "text": [
      "죽고 싶지만 떡볶이는 먹고 싶어 - YES24 13,800원\n",
      "하버드 협상 강의 - YES24 15,800원\n",
      "돌이킬 수 없는 약속 - YES24 15,000원\n",
      "21세기를 위한 21가지 제언 - YES24 22,000원\n",
      "열두 발자국 - YES24 16,800원\n",
      "골든아워 1 - YES24 15,800원\n",
      "역사의 역사 - YES24 16,000원\n",
      "골든아워 2 - YES24 15,800원\n",
      "퇴근길 인문학 수업 : 멈춤 - YES24 17,000원\n",
      "나는 나로 살기로 했다 - YES24 13,800원\n"
     ]
    }
   ],
   "source": [
    "html = urlopen(\"http://www.yes24.com/24/category/bestseller\")\n",
    "soup = BeautifulSoup(html, 'lxml')\n",
    "\n",
    "with open('yes_24.txt', 'w', encoding = 'utf8') as f:\n",
    "    for k in range(1,11):\n",
    "        num = 'num'+ str(k)\n",
    "        part_url = soup.find('li', attrs={'class':num}).a.get('href')\n",
    "        full_url = 'http://www.yes24.com'+part_url\n",
    "        url1 = urlopen(full_url)\n",
    "        soup1 = BeautifulSoup(url1, 'html.parser')\n",
    "        try:\n",
    "            title = soup1.title.text\n",
    "        except:\n",
    "            title = 'NA'\n",
    "        try:\n",
    "            price = soup1.find('em', attrs={'class':'yes_m'}).text\n",
    "        except:\n",
    "            price = 'NA'\n",
    "        print(title, price)\n",
    "        content = '\\t'.join([title, price])\n",
    "        f.write(content+'\\n')\n",
    "        time.sleep(1)\n",
    "f.close()"
   ]
  },
  {
   "cell_type": "code",
   "execution_count": null,
   "metadata": {
    "collapsed": true
   },
   "outputs": [],
   "source": []
  }
 ],
 "metadata": {
  "kernelspec": {
   "display_name": "Python 3",
   "language": "python",
   "name": "python3"
  },
  "language_info": {
   "codemirror_mode": {
    "name": "ipython",
    "version": 3
   },
   "file_extension": ".py",
   "mimetype": "text/x-python",
   "name": "python",
   "nbconvert_exporter": "python",
   "pygments_lexer": "ipython3",
   "version": "3.6.1"
  }
 },
 "nbformat": 4,
 "nbformat_minor": 2
}
