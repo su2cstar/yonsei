{
 "cells": [
  {
   "cell_type": "code",
   "execution_count": 2,
   "metadata": {
    "collapsed": true
   },
   "outputs": [],
   "source": [
    "import re"
   ]
  },
  {
   "cell_type": "code",
   "execution_count": 3,
   "metadata": {},
   "outputs": [
    {
     "name": "stdout",
     "output_type": "stream",
     "text": [
      "[<span class=\"red_price\">35.6</span>]\n",
      "[<span class=\"red_price\">35.6</span>, <span class=\"blue_price\">43.2</span>]\n"
     ]
    }
   ],
   "source": [
    "# Example 1: use of re for BS\n",
    "from bs4 import BeautifulSoup\n",
    "\n",
    "file = open('html_test.html', 'r', encoding = 'utf-8')\n",
    "text=file.read()\n",
    "file.close()\n",
    "\n",
    "soup=BeautifulSoup(text, 'lxml')\n",
    "\n",
    "# Searching the tree\n",
    "print(soup.find_all('span',class_='red_price'))\n",
    "print(soup.find_all('span',attrs={'class':re.compile(r'\\w+_price')}))\n"
   ]
  },
  {
   "cell_type": "code",
   "execution_count": null,
   "metadata": {
    "collapsed": true
   },
   "outputs": [],
   "source": []
  }
 ],
 "metadata": {
  "kernelspec": {
   "display_name": "Python 3",
   "language": "python",
   "name": "python3"
  },
  "language_info": {
   "codemirror_mode": {
    "name": "ipython",
    "version": 3
   },
   "file_extension": ".py",
   "mimetype": "text/x-python",
   "name": "python",
   "nbconvert_exporter": "python",
   "pygments_lexer": "ipython3",
   "version": "3.6.1"
  }
 },
 "nbformat": 4,
 "nbformat_minor": 2
}
