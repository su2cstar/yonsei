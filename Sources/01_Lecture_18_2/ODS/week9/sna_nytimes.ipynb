{
 "cells": [
  {
   "cell_type": "code",
   "execution_count": 1,
   "metadata": {},
   "outputs": [],
   "source": [
    "import preprocessing # import a python file for English text preprocessing\n",
    "import semantic_na # import a python file for semantic network analysis\n",
    "import networkx as nx\n",
    "import matplotlib.pyplot as plt\n",
    "from collections import Counter\n",
    "\n",
    "NUM_WORDS = 10"
   ]
  },
  {
   "cell_type": "code",
   "execution_count": 9,
   "metadata": {},
   "outputs": [
    {
     "name": "stdout",
     "output_type": "stream",
     "text": [
      "[nltk_data] Downloading package punkt to\n",
      "[nltk_data]     C:\\Users\\ahn92\\AppData\\Roaming\\nltk_data...\n",
      "[nltk_data]   Package punkt is already up-to-date!\n",
      "[nltk_data] Downloading package averaged_perceptron_tagger to\n",
      "[nltk_data]     C:\\Users\\ahn92\\AppData\\Roaming\\nltk_data...\n",
      "[nltk_data]   Unzipping taggers\\averaged_perceptron_tagger.zip.\n"
     ]
    },
    {
     "data": {
      "text/plain": [
       "True"
      ]
     },
     "execution_count": 9,
     "metadata": {},
     "output_type": "execute_result"
    }
   ],
   "source": [
    "import nltk\n",
    "nltk.download('punkt')\n",
    "nltk.download('averaged_perceptron_tagger')"
   ]
  },
  {
   "cell_type": "code",
   "execution_count": 14,
   "metadata": {},
   "outputs": [
    {
     "name": "stdout",
     "output_type": "stream",
     "text": [
      "[nltk_data] Downloading package averaged_perceptron_tagger to\n",
      "[nltk_data]     C:\\Users\\ahn92\\AppData\\Roaming\\nltk_data...\n",
      "[nltk_data]   Package averaged_perceptron_tagger is already up-to-\n",
      "[nltk_data]       date!\n",
      "[nltk_data] Downloading package wordnet to\n",
      "[nltk_data]     C:\\Users\\ahn92\\AppData\\Roaming\\nltk_data...\n",
      "[nltk_data]   Package wordnet is already up-to-date!\n",
      "[nltk_data] Downloading package stopwords to\n",
      "[nltk_data]     C:\\Users\\ahn92\\AppData\\Roaming\\nltk_data...\n",
      "[nltk_data]   Unzipping corpora\\stopwords.zip.\n"
     ]
    },
    {
     "data": {
      "text/plain": [
       "True"
      ]
     },
     "execution_count": 14,
     "metadata": {},
     "output_type": "execute_result"
    }
   ],
   "source": [
    "nltk.download('averaged_perceptron_tagger')\n",
    "nltk.download('wordnet')\n",
    "nltk.download('stopwords')"
   ]
  },
  {
   "cell_type": "code",
   "execution_count": 3,
   "metadata": {},
   "outputs": [],
   "source": [
    "with open('nytimes.txt', 'r', encoding='utf8') as f:\n",
    "    content = f.read()"
   ]
  },
  {
   "cell_type": "code",
   "execution_count": 4,
   "metadata": {},
   "outputs": [],
   "source": [
    "customized_stopwords = ['be', 'today', 'yesterday', 'new', 'york', 'time']  # 직접 만든 불용어 사전"
   ]
  },
  {
   "cell_type": "code",
   "execution_count": 15,
   "metadata": {},
   "outputs": [
    {
     "name": "stdout",
     "output_type": "stream",
     "text": [
      "['hurray', 'hotblack', 'coffee', 'cafe', 'toronto', 'wifi', 'customer', 'cafe', 'city', 'location', 'café', 'grumpy', 'hotblacks', 'reason', 'blackout', 'cause', 'hosanna', 'president', 'jimson', 'bienenstock', 'aim', 'customer', 'device', 'vibe', 'vehicle', 'interaction', 'commodity', 'idea', 'bienenstock', 'science', 'decade', 'interaction', 'contributor', 'health', 'longevity', 'evidence', 'value', 'connection', 'morning', 'walk', 'woman', 'swim', 'locker', 'room', 'ymca', 'use', 'device', 'locker', 'room', 'experience', 'friend', 'share', 'joy', 'woman', 'problem', 'board', 'advice', 'counsel', 'laugh', 'brightens', 'day', 'study', 'life', 'harvard', 'health', 'watch', 'dozen', 'study', 'people', 'relationship', 'family', 'friend', 'community', 'health', 'problem', 'longer', 'study', 'men', 'woman', 'county', 'calif', 'lisa', 'berkman', 'leonard', 'syme', 'people', 'others', 'nineyear', 'study', 'people', 'tie', 'robbins', 'book', 'health', 'longevity', 'difference', 'survival', 'people', 'age', 'gender', 'health', 'practice', 'health', 'status', 'fact', 'researcher', 'tie', 'lifestyle', 'obesity', 'lack', 'exercise', 'tie', 'living', 'habit', 'robbins', 'people', 'lifestyle', 'tie', 'study', 'journal', 'medicine', 'researcher', 'health', 'insurance', 'plan', 'men', 'heart', 'attack', 'connection', 'people', 'quarter', 'risk', 'death', 'year', 'connectedness', 'researcher', 'duke', 'university', 'center', 'tie', 'death', 'people', 'condition', 'brummett', 'colleague', 'adult', 'artery', 'disease', 'mortality', 'rate', 'column', 'loneliness', 'review', 'research', 'indicating', 'isolation', 'par', 'blood', 'pressure', 'obesity', 'lack', 'exercise', 'smoking', 'risk', 'factor', 'illness', 'death', 'people', 'contact', 'level', 'stress', 'inflammation', 'turn', 'wellbeing', 'bodily', 'system', 'brain', 'interaction', 'flow', 'organ', 'function', 'gene', 'body', 'ability', 'inflammation', 'inflammation', 'heart', 'disease', 'arthritis', 'type', 'diabetes', 'attempt', 'report', 'journal', 'health', 'behavior', 'debra', 'umberson', 'jennifer', 'karas', 'sociology', 'researcher', 'university', 'texas', 'austin', 'evidence', 'quantity', 'quality', 'tie', 'host', 'condition', 'development', 'worsening', 'disease', 'repeat', 'heart', 'disorder', 'blood', 'pressure', 'cancer', 'texas', 'researcher', 'interaction', 'health', 'influence', 'people', 'habit', 'example', 'none', 'friend', 'researcher', 'practice', 'health', 'behavior', 'exercise', 'diet', 'weight', 'gain', 'abuse', 'alcohol', 'drug', 'percent', 'mortality', 'morbidity', 'disability', 'state', 'lack', 'interaction', 'damage', 'health', 'support', 'connection', 'effect', 'stress', 'sense', 'meaning', 'purpose', 'life', 'texas', 'researcher', 'seppala', 'stanford', 'center', 'compassion', 'altruism', 'research', 'education', 'author', 'book', 'happiness', 'track', 'people', 'others', 'level', 'anxiety', 'depression', 'moreover', 'study', 'selfesteem', 'empathy', 'others', 'consequence', 'others', 'word', 'seppala', 'connectedness', 'feedback', 'loop', 'wellbeing', 'decline', 'connectedness', 'increase', 'report', 'isolation', 'alienation', 'loneliness', 'reason', 'people', 'counseling', 'research', 'percent', 'american', 'one', 'friend', 'problem', 'healthpromoting', 'lifestyle', 'veggie', 'exercise', 'dr', 'seppala', 'forget']\n",
      "[('health', 11), ('people', 11), ('researcher', 7), ('study', 6), ('tie', 6), ('interaction', 5), ('friend', 4), ('others', 4), ('exercise', 4), ('connection', 3)]\n"
     ]
    }
   ],
   "source": [
    "filtered_content, final_words = preprocessing.En_processing(content, customized_stopwords)\n",
    "print(final_words)\n",
    "c = Counter(final_words)\n",
    "print(c.most_common(NUM_WORDS))"
   ]
  },
  {
   "cell_type": "code",
   "execution_count": 16,
   "metadata": {},
   "outputs": [
    {
     "data": {
      "image/png": "[encoded data removed]",
      "text/plain": [
       "<Figure size 432x288 with 1 Axes>"
      ]
     },
     "metadata": {},
     "output_type": "display_data"
    }
   ],
   "source": [
    "g = semantic_na.do_sna(filtered_content, final_words, NUM_WORDS)\n",
    "nx.write_graphml(g, 'sna_test1.graphml')\n",
    "nx.draw_networkx(g)\n",
    "plt.show()"
   ]
  },
  {
   "cell_type": "code",
   "execution_count": 17,
   "metadata": {},
   "outputs": [
    {
     "data": {
      "text/plain": [
       "{'health': 0.20370370370370372,\n",
       " 'people': 0.11574074074074071,\n",
       " 'researcher': 0.0810185185185185,\n",
       " 'study': 0.060185185185185175,\n",
       " 'tie': 0.039351851851851846,\n",
       " 'interaction': 0.0,\n",
       " 'friend': 0.0,\n",
       " 'others': 0.0,\n",
       " 'exercise': 0.0,\n",
       " 'connection': 0.0}"
      ]
     },
     "execution_count": 17,
     "metadata": {},
     "output_type": "execute_result"
    }
   ],
   "source": [
    "nx.betweenness_centrality(g)"
   ]
  },
  {
   "cell_type": "code",
   "execution_count": 18,
   "metadata": {},
   "outputs": [
    {
     "data": {
      "text/plain": [
       "{'health': 1.0,\n",
       " 'people': 0.8888888888888888,\n",
       " 'researcher': 0.7777777777777777,\n",
       " 'study': 0.7777777777777777,\n",
       " 'tie': 0.6666666666666666,\n",
       " 'interaction': 0.3333333333333333,\n",
       " 'friend': 0.3333333333333333,\n",
       " 'others': 0.4444444444444444,\n",
       " 'exercise': 0.3333333333333333,\n",
       " 'connection': 0.4444444444444444}"
      ]
     },
     "execution_count": 18,
     "metadata": {},
     "output_type": "execute_result"
    }
   ],
   "source": [
    "nx.degree_centrality(g)"
   ]
  },
  {
   "cell_type": "code",
   "execution_count": 19,
   "metadata": {},
   "outputs": [
    {
     "data": {
      "text/plain": [
       "{'health': 1.0,\n",
       " 'people': 0.9,\n",
       " 'researcher': 0.8181818181818182,\n",
       " 'study': 0.8181818181818182,\n",
       " 'tie': 0.75,\n",
       " 'interaction': 0.6,\n",
       " 'friend': 0.6,\n",
       " 'others': 0.6428571428571429,\n",
       " 'exercise': 0.6,\n",
       " 'connection': 0.6428571428571429}"
      ]
     },
     "execution_count": 19,
     "metadata": {},
     "output_type": "execute_result"
    }
   ],
   "source": [
    "nx.closeness_centrality(g)"
   ]
  },
  {
   "cell_type": "code",
   "execution_count": 20,
   "metadata": {},
   "outputs": [
    {
     "data": {
      "text/plain": [
       "NodeView(('health', 'people', 'researcher', 'study', 'tie', 'interaction', 'friend', 'others', 'exercise', 'connection'))"
      ]
     },
     "execution_count": 20,
     "metadata": {},
     "output_type": "execute_result"
    }
   ],
   "source": [
    "g.nodes()"
   ]
  },
  {
   "cell_type": "code",
   "execution_count": 21,
   "metadata": {},
   "outputs": [
    {
     "name": "stdout",
     "output_type": "stream",
     "text": [
      "health은 9개의 단어와 연결되어 있습니다\n",
      "['interaction', 'friend', 'people', 'study', 'tie', 'others', 'researcher', 'connection', 'exercise']\n",
      "people은 8개의 단어와 연결되어 있습니다\n",
      "['friend', 'health', 'study', 'tie', 'others', 'researcher', 'connection', 'interaction']\n",
      "researcher은 7개의 단어와 연결되어 있습니다\n",
      "['tie', 'exercise', 'people', 'study', 'connection', 'health', 'interaction']\n",
      "study은 7개의 단어와 연결되어 있습니다\n",
      "['friend', 'people', 'health', 'tie', 'others', 'researcher', 'connection']\n",
      "tie은 6개의 단어와 연결되어 있습니다\n",
      "['people', 'study', 'others', 'health', 'researcher', 'exercise']\n",
      "interaction은 3개의 단어와 연결되어 있습니다\n",
      "['health', 'researcher', 'people']\n",
      "friend은 3개의 단어와 연결되어 있습니다\n",
      "['people', 'health', 'study']\n",
      "others은 4개의 단어와 연결되어 있습니다\n",
      "['tie', 'people', 'study', 'health']\n",
      "exercise은 3개의 단어와 연결되어 있습니다\n",
      "['researcher', 'tie', 'health']\n",
      "connection은 4개의 단어와 연결되어 있습니다\n",
      "['people', 'study', 'researcher', 'health']\n"
     ]
    }
   ],
   "source": [
    "for node in g.nodes():\n",
    "    print('{0}은 {1}개의 단어와 연결되어 있습니다'.format(node, g.degree(node)))\n",
    "    print(list(g.neighbors(node)))"
   ]
  },
  {
   "cell_type": "code",
   "execution_count": null,
   "metadata": {
    "collapsed": true
   },
   "outputs": [],
   "source": []
  }
 ],
 "metadata": {
  "kernelspec": {
   "display_name": "Python 3",
   "language": "python",
   "name": "python3"
  },
  "language_info": {
   "codemirror_mode": {
    "name": "ipython",
    "version": 3
   },
   "file_extension": ".py",
   "mimetype": "text/x-python",
   "name": "python",
   "nbconvert_exporter": "python",
   "pygments_lexer": "ipython3",
   "version": "3.6.5"
  }
 },
 "nbformat": 4,
 "nbformat_minor": 2
}
