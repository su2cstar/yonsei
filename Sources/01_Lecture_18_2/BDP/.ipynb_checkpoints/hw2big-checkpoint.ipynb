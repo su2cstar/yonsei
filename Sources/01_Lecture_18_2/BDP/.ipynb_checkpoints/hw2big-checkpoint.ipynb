{
 "cells": [
  {
   "cell_type": "code",
   "execution_count": 1,
   "metadata": {},
   "outputs": [],
   "source": [
    "## import modules\n",
    "import numpy as np\n",
    "import pandas as pd"
   ]
  },
  {
   "cell_type": "code",
   "execution_count": null,
   "metadata": {},
   "outputs": [],
   "source": [
    "## set your path where your data are saved\n",
    "#fpath = 'C:/Users/ahn92/Documents/Sources/BDP\\/'"
   ]
  },
  {
   "cell_type": "code",
   "execution_count": null,
   "metadata": {},
   "outputs": [],
   "source": [
    "def getSimFromTsv(fname = None , outfname = None):\n",
    "    ## file input term\n",
    "    if fname == None:\n",
    "        fname = input('Input your input file name : ')\n",
    "    #inFile = pd.read_csv(fpath+fname, sep ='\\t', header = None, encoding = 'UTF8')\n",
    "    inFile = pd.read_csv(fname, sep ='\\t', header = None, encoding = 'UTF8')\n",
    "    inFile = inFile.drop_duplicates([0,1], keep='last')\n",
    "    inFile.index=range(len(inFile))\n",
    "    ## make the dictionary by using pivot\n",
    "    usrName = set(inFile.iloc[:,0])\n",
    "    catName = set(inFile.iloc[:,1])\n",
    "    \n",
    "    pdict = inFile.pivot(index = 0, columns = 1 , values= 2)\n",
    "    pDict = pdict.to_dict()\n",
    "    \n",
    "    ## remove the nan term\n",
    "    rmNandict = dict()\n",
    "    for i in pDict.keys():\n",
    "        my_dict = pDict[i]\n",
    "        clean_dict = {k: my_dict[k] for k in my_dict if not np.isnan(my_dict[k])}\n",
    "        rmNandict.update({i:clean_dict})\n",
    "    \n",
    "    ## we calculate the distance if data has same key\n",
    "    ## get the same key fuction\n",
    "    def getSameKey(key1,key2,dt):\n",
    "        skey = []\n",
    "        for i in dt[key1].keys():\n",
    "            for j in dt[key2].keys():\n",
    "                   if i==j:\n",
    "                        skey.append(i)\n",
    "        return(skey)\n",
    "    \n",
    "    ## calculate similarity function\n",
    "    def calcSim(key1,key2,dt):\n",
    "        tmpSum = 0\n",
    "        if getSameKey(key1,key2,dt)==[]:\n",
    "            return(np.nan)\n",
    "        else:\n",
    "            for i in getSameKey(key1,key2,dt):\n",
    "                tmpSum = tmpSum + (dt[key1][i]-dt[key2][i])**2\n",
    "            return(1/(1+np.sqrt(tmpSum)))\n",
    "    \n",
    "    ## output term\n",
    "    outlst = []\n",
    "    for i in rmNandict.keys():\n",
    "        for j in rmNandict.keys():\n",
    "            if i!=j and (not np.isnan(calcSim(i,j,rmNandict))):\n",
    "                outlst.append([i,j,calcSim(i,j,rmNandict)])\n",
    "\n",
    "    outdt = pd.DataFrame(outlst)  \n",
    "    if outfname==None:\n",
    "        outfname = input('input your output file name : ')\n",
    "    outdt.to_csv(outfname, sep = '\\t',index=False, header = False)\n",
    "    return outdt"
   ]
  },
  {
   "cell_type": "code",
   "execution_count": null,
   "metadata": {},
   "outputs": [],
   "source": [
    "getSimFromTsv('in.txt','out_big.txt')"
   ]
  },
  {
   "cell_type": "code",
   "execution_count": null,
   "metadata": {},
   "outputs": [],
   "source": [
    "#getSimFromTsv('user_book_score_test.txt','user_book_score_test_out.txt')\n",
    "fname = 'user_book_score_291168_encoded.txt'\n",
    "#fname = 'in.txt'\n"
   ]
  },
  {
   "cell_type": "code",
   "execution_count": null,
   "metadata": {},
   "outputs": [],
   "source": [
    "## file input term\n",
    "if fname == None:\n",
    "    fname = input('Input your input file name : ')\n",
    "#inFile = pd.read_csv(fpath+fname, sep ='\\t', header = None, encoding = 'UTF8')\n",
    "inFile = pd.read_csv(fname, sep ='\\t', header = None, encoding = 'UTF8')\n",
    "## make the dictionary by using pivot\n",
    "usrName = set(inFile.iloc[:,0])\n",
    "catName = set(inFile.iloc[:,1])"
   ]
  },
  {
   "cell_type": "code",
   "execution_count": null,
   "metadata": {},
   "outputs": [],
   "source": [
    "# 유저가 동일한 평점 두번이상 준 경우 제거\n",
    "inFile = inFile.drop_duplicates([0,1], keep='last')\n",
    "inFile.index=range(len(inFile))"
   ]
  },
  {
   "cell_type": "code",
   "execution_count": null,
   "metadata": {},
   "outputs": [],
   "source": [
    "list(catName)[0:10]"
   ]
  },
  {
   "cell_type": "code",
   "execution_count": null,
   "metadata": {},
   "outputs": [],
   "source": [
    "lhs = '기탄 수학 C -  2(합본)'\n",
    "rhs = '기탄 수학 C -  1(합본)'"
   ]
  },
  {
   "cell_type": "code",
   "execution_count": null,
   "metadata": {},
   "outputs": [],
   "source": [
    "out = []"
   ]
  },
  {
   "cell_type": "code",
   "execution_count": null,
   "metadata": {},
   "outputs": [],
   "source": [
    "\n",
    "#sum(map(lambda x: (x[0]-x[1])**2,a))\n",
    "#?a.apply"
   ]
  },
  {
   "cell_type": "code",
   "execution_count": null,
   "metadata": {},
   "outputs": [],
   "source": [
    "out"
   ]
  },
  {
   "cell_type": "code",
   "execution_count": null,
   "metadata": {},
   "outputs": [],
   "source": []
  },
  {
   "cell_type": "code",
   "execution_count": null,
   "metadata": {},
   "outputs": [],
   "source": [
    "tmplst = catName\n",
    "#tmplst = catName\n",
    "#no = 0\n",
    "for lhs in tmplst:\n",
    "    #no = no + 1\n",
    "    for rhs in [x for x in tmplst if x != lhs]:\n",
    "        #print(lhs,rhs)\n",
    "        tmp = inFile[(inFile[1] == lhs) | (inFile[1] == rhs) ]\n",
    "        tmpdict = tmp.pivot(index = 0, columns = 1 , values= 2)\n",
    "        tmpDict = tmpdict.to_dict()\n",
    "\n",
    "        rmNandict = dict()\n",
    "        #print(tmp)\n",
    "        for i in tmpDict.keys():\n",
    "            my_dict = tmpDict[i]\n",
    "            clean_dict = {k: my_dict[k] for k in my_dict if not np.isnan(my_dict[k])}\n",
    "            rmNandict.update({i:clean_dict})\n",
    "\n",
    "        def getSameKey(key1,key2,dt):\n",
    "            skey = []\n",
    "            for i in dt[key1].keys():\n",
    "                for j in dt[key2].keys():\n",
    "                       if i==j:\n",
    "                            skey.append(i)\n",
    "            return(skey)\n",
    "\n",
    "        def calcSim(key1,key2,dt):\n",
    "            tmpSum = 0\n",
    "            if getSameKey(key1,key2,dt)==[]:\n",
    "                return(np.nan)\n",
    "            else:\n",
    "                for i in getSameKey(key1,key2,dt):\n",
    "                    tmpSum = tmpSum + (dt[key1][i]-dt[key2][i])**2\n",
    "                return(1/(1+np.sqrt(tmpSum)))\n",
    "        #print(rmNandict)\n",
    "        if not np.isnan(calcSim(list(rmNandict.keys())[0],list(rmNandict.keys())[1],rmNandict)):\n",
    "            print(lhs,rhs,calcSim(list(rmNandict.keys())[0],list(rmNandict.keys())[1],rmNandict))\n",
    "                "
   ]
  },
  {
   "cell_type": "code",
   "execution_count": null,
   "metadata": {},
   "outputs": [],
   "source": [
    "out =[]\n",
    "len(catName)"
   ]
  },
  {
   "cell_type": "code",
   "execution_count": null,
   "metadata": {},
   "outputs": [],
   "source": [
    "tmplst = catName\n",
    "#tmplst = catName\n",
    "#no = 0\n",
    "for lhs in tmplst:\n",
    "    print(lhs)\n",
    "    #no = no + 1\n",
    "    for rhs in [x for x in tmplst if x != lhs]:\n",
    "        #print(lhs,rhs)\n",
    "        a=inFile[(inFile[1] == lhs) | (inFile[1] == rhs) ][inFile[(inFile[1] == lhs) | (inFile[1] == rhs) ].duplicated(0, keep=False)].pivot(index = 0, columns = 1 , values= 2)\n",
    "        if not len(a)==0:\n",
    "            #out.append([lhs,rhs,1/(1+np.sqrt(sum(a.apply(lambda x: (x[0]-x[1])**2,axis =1))))])\n",
    "            print([lhs,rhs,1/(1+np.sqrt(sum(a.apply(lambda x: (x[0]-x[1])**2,axis =1))))])"
   ]
  },
  {
   "cell_type": "code",
   "execution_count": null,
   "metadata": {},
   "outputs": [],
   "source": []
  }
 ],
 "metadata": {
  "kernelspec": {
   "display_name": "Python 3",
   "language": "python",
   "name": "python3"
  },
  "language_info": {
   "codemirror_mode": {
    "name": "ipython",
    "version": 3
   },
   "file_extension": ".py",
   "mimetype": "text/x-python",
   "name": "python",
   "nbconvert_exporter": "python",
   "pygments_lexer": "ipython3",
   "version": "3.6.5"
  }
 },
 "nbformat": 4,
 "nbformat_minor": 2
}
