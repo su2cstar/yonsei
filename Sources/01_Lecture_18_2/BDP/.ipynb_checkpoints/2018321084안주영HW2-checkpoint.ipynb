{
 "cells": [
  {
   "cell_type": "code",
   "execution_count": 1,
   "metadata": {},
   "outputs": [],
   "source": [
    "## import modules\n",
    "import numpy as np\n",
    "import pandas as pd"
   ]
  },
  {
   "cell_type": "code",
   "execution_count": 2,
   "metadata": {},
   "outputs": [],
   "source": [
    "## set your path where your data are saved\n",
    "#fpath = 'C:/Users/ahn92/Documents/Sources/BDP\\/'"
   ]
  },
  {
   "cell_type": "code",
   "execution_count": 3,
   "metadata": {},
   "outputs": [],
   "source": [
    "def getSimFromTsv(fname = None , outfname = None):\n",
    "    ## file input term\n",
    "    if fname == None:\n",
    "        fname = input('Input your input file name : ')\n",
    "    #inFile = pd.read_csv(fpath+fname, sep ='\\t', header = None, encoding = 'UTF8')\n",
    "    inFile = pd.read_csv(fname, sep ='\\t', header = None, encoding = 'UTF8')\n",
    "    inFile = inFile.drop_duplicates([0,1], keep='last')\n",
    "    inFile.index=range(len(inFile))\n",
    "    ## make the dictionary by using pivot\n",
    "    usrName = set(inFile.iloc[:,0])\n",
    "    catName = set(inFile.iloc[:,1])\n",
    "    \n",
    "    pdict = inFile.pivot(index = 0, columns = 1 , values= 2)\n",
    "    pDict = pdict.to_dict()\n",
    "    \n",
    "    ## remove the nan term\n",
    "    rmNandict = dict()\n",
    "    for i in pDict.keys():\n",
    "        my_dict = pDict[i]\n",
    "        clean_dict = {k: my_dict[k] for k in my_dict if not np.isnan(my_dict[k])}\n",
    "        rmNandict.update({i:clean_dict})\n",
    "    \n",
    "    ## we calculate the distance if data has same key\n",
    "    ## get the same key fuction\n",
    "    def getSameKey(key1,key2,dt):\n",
    "        skey = []\n",
    "        for i in dt[key1].keys():\n",
    "            for j in dt[key2].keys():\n",
    "                   if i==j:\n",
    "                        skey.append(i)\n",
    "        return(skey)\n",
    "    \n",
    "    ## calculate similarity function\n",
    "    def calcSim(key1,key2,dt):\n",
    "        tmpSum = 0\n",
    "        if getSameKey(key1,key2,dt)==[]:\n",
    "            return(np.nan)\n",
    "        else:\n",
    "            for i in getSameKey(key1,key2,dt):\n",
    "                tmpSum = tmpSum + (dt[key1][i]-dt[key2][i])**2\n",
    "            return(1/(1+np.sqrt(tmpSum)))\n",
    "    \n",
    "    ## output term\n",
    "    outlst = []\n",
    "    for i in rmNandict.keys():\n",
    "        for j in rmNandict.keys():\n",
    "            if i!=j and (not np.isnan(calcSim(i,j,rmNandict))):\n",
    "                outlst.append([i,j,calcSim(i,j,rmNandict)])\n",
    "\n",
    "    outdt = pd.DataFrame(outlst)  \n",
    "    if outfname==None:\n",
    "        outfname = input('input your output file name : ')\n",
    "    outdt.to_csv(outfname, sep = '\\t',index=False, header = False)\n",
    "    return outdt"
   ]
  },
  {
   "cell_type": "code",
   "execution_count": 4,
   "metadata": {},
   "outputs": [
    {
     "data": {
      "text/html": [
       "<div>\n",
       "<style scoped>\n",
       "    .dataframe tbody tr th:only-of-type {\n",
       "        vertical-align: middle;\n",
       "    }\n",
       "\n",
       "    .dataframe tbody tr th {\n",
       "        vertical-align: top;\n",
       "    }\n",
       "\n",
       "    .dataframe thead th {\n",
       "        text-align: right;\n",
       "    }\n",
       "</style>\n",
       "<table border=\"1\" class=\"dataframe\">\n",
       "  <thead>\n",
       "    <tr style=\"text-align: right;\">\n",
       "      <th></th>\n",
       "      <th>0</th>\n",
       "      <th>1</th>\n",
       "      <th>2</th>\n",
       "    </tr>\n",
       "  </thead>\n",
       "  <tbody>\n",
       "    <tr>\n",
       "      <th>0</th>\n",
       "      <td>Apple</td>\n",
       "      <td>Mango</td>\n",
       "      <td>0.333333</td>\n",
       "    </tr>\n",
       "    <tr>\n",
       "      <th>1</th>\n",
       "      <td>Apple</td>\n",
       "      <td>Orange</td>\n",
       "      <td>0.261204</td>\n",
       "    </tr>\n",
       "    <tr>\n",
       "      <th>2</th>\n",
       "      <td>Mango</td>\n",
       "      <td>Apple</td>\n",
       "      <td>0.333333</td>\n",
       "    </tr>\n",
       "    <tr>\n",
       "      <th>3</th>\n",
       "      <td>Mango</td>\n",
       "      <td>Orange</td>\n",
       "      <td>1.000000</td>\n",
       "    </tr>\n",
       "    <tr>\n",
       "      <th>4</th>\n",
       "      <td>Orange</td>\n",
       "      <td>Apple</td>\n",
       "      <td>0.261204</td>\n",
       "    </tr>\n",
       "    <tr>\n",
       "      <th>5</th>\n",
       "      <td>Orange</td>\n",
       "      <td>Mango</td>\n",
       "      <td>1.000000</td>\n",
       "    </tr>\n",
       "  </tbody>\n",
       "</table>\n",
       "</div>"
      ],
      "text/plain": [
       "        0       1         2\n",
       "0   Apple   Mango  0.333333\n",
       "1   Apple  Orange  0.261204\n",
       "2   Mango   Apple  0.333333\n",
       "3   Mango  Orange  1.000000\n",
       "4  Orange   Apple  0.261204\n",
       "5  Orange   Mango  1.000000"
      ]
     },
     "execution_count": 4,
     "metadata": {},
     "output_type": "execute_result"
    }
   ],
   "source": [
    "getSimFromTsv('in.txt','out_big.txt')"
   ]
  },
  {
   "cell_type": "code",
   "execution_count": null,
   "metadata": {},
   "outputs": [],
   "source": [
    "getSimFromTsv('user_book_score_291168_encoded.txt','out_big.txt')"
   ]
  },
  {
   "cell_type": "code",
   "execution_count": 5,
   "metadata": {},
   "outputs": [],
   "source": [
    "#getSimFromTsv('user_book_score_test.txt','user_book_score_test_out.txt')\n",
    "fname = 'user_book_score_291168_encoded.txt'\n",
    "#fname = 'in.txt'\n"
   ]
  },
  {
   "cell_type": "code",
   "execution_count": 6,
   "metadata": {},
   "outputs": [],
   "source": [
    "## file input term\n",
    "if fname == None:\n",
    "    fname = input('Input your input file name : ')\n",
    "#inFile = pd.read_csv(fpath+fname, sep ='\\t', header = None, encoding = 'UTF8')\n",
    "inFile = pd.read_csv(fname, sep ='\\t', header = None, encoding = 'UTF8')\n",
    "## make the dictionary by using pivot\n",
    "usrName = set(inFile.iloc[:,0])\n",
    "catName = set(inFile.iloc[:,1])"
   ]
  },
  {
   "cell_type": "code",
   "execution_count": 7,
   "metadata": {},
   "outputs": [
    {
     "data": {
      "text/plain": [
       "291168"
      ]
     },
     "execution_count": 7,
     "metadata": {},
     "output_type": "execute_result"
    }
   ],
   "source": [
    "len(inFile)"
   ]
  },
  {
   "cell_type": "code",
   "execution_count": 8,
   "metadata": {},
   "outputs": [],
   "source": [
    "inFile = inFile.drop_duplicates([0,1], keep='last')\n",
    "inFile.index=range(len(inFile))"
   ]
  },
  {
   "cell_type": "code",
   "execution_count": null,
   "metadata": {},
   "outputs": [
    {
     "name": "stdout",
     "output_type": "stream",
     "text": [
      "에너지 버스 독서 천재가 된 홍대리 1.0\n",
      "존중력연습 완득이 1.0\n",
      "존중력연습 생각 버리기 연습 1.0\n",
      "1026 - 한반도 개정판 완득이 1.0\n"
     ]
    }
   ],
   "source": [
    "tmplst = list(catName)[:100]\n",
    "#tmplst = catName\n",
    "no = 0\n",
    "for lhs in tmplst:\n",
    "    no = no + 1\n",
    "    for rhs in [x for x in tmplst if x != lhs]:\n",
    "        #print(lhs,rhs)\n",
    "        tmp = inFile[(inFile[1] == lhs) | (inFile[1] == rhs) ]\n",
    "        tmpdict = tmp.pivot(index = 0, columns = 1 , values= 2)\n",
    "        tmpDict = tmpdict.to_dict()\n",
    "\n",
    "        rmNandict = dict()\n",
    "        #print(tmp)\n",
    "        for i in tmpDict.keys():\n",
    "            my_dict = tmpDict[i]\n",
    "            clean_dict = {k: my_dict[k] for k in my_dict if not np.isnan(my_dict[k])}\n",
    "            rmNandict.update({i:clean_dict})\n",
    "\n",
    "        def getSameKey(key1,key2,dt):\n",
    "            skey = []\n",
    "            for i in dt[key1].keys():\n",
    "                for j in dt[key2].keys():\n",
    "                       if i==j:\n",
    "                            skey.append(i)\n",
    "            return(skey)\n",
    "\n",
    "        def calcSim(key1,key2,dt):\n",
    "            tmpSum = 0\n",
    "            if getSameKey(key1,key2,dt)==[]:\n",
    "                return(np.nan)\n",
    "            else:\n",
    "                for i in getSameKey(key1,key2,dt):\n",
    "                    tmpSum = tmpSum + (dt[key1][i]-dt[key2][i])**2\n",
    "                return(1/(1+np.sqrt(tmpSum)))\n",
    "        #print(rmNandict)\n",
    "        if not np.isnan(calcSim(list(rmNandict.keys())[0],list(rmNandict.keys())[1],rmNandict)):\n",
    "            print(lhs,rhs,calcSim(list(rmNandict.keys())[0],list(rmNandict.keys())[1],rmNandict))\n",
    "                "
   ]
  },
  {
   "cell_type": "code",
   "execution_count": 10,
   "metadata": {},
   "outputs": [
    {
     "data": {
      "text/plain": [
       "'한국의사찰11-금산사'"
      ]
     },
     "execution_count": 10,
     "metadata": {},
     "output_type": "execute_result"
    }
   ],
   "source": [
    "i"
   ]
  },
  {
   "cell_type": "code",
   "execution_count": null,
   "metadata": {},
   "outputs": [],
   "source": [
    "list(rmNandict.keys())[1]"
   ]
  },
  {
   "cell_type": "code",
   "execution_count": null,
   "metadata": {},
   "outputs": [],
   "source": [
    "def getSameKey(key1,key2,dt):\n",
    "    skey = []\n",
    "    for i in dt[key1].keys():\n",
    "        for j in dt[key2].keys():\n",
    "               if i==j:\n",
    "                    skey.append(i)\n",
    "    return(skey)"
   ]
  },
  {
   "cell_type": "code",
   "execution_count": null,
   "metadata": {},
   "outputs": [],
   "source": [
    "def calcSim(key1,key2,dt):\n",
    "    tmpSum = 0\n",
    "    if getSameKey(key1,key2,dt)==[]:\n",
    "        return(np.nan)\n",
    "    else:\n",
    "        for i in getSameKey(key1,key2,dt):\n",
    "            tmpSum = tmpSum + (dt[key1][i]-dt[key2][i])**2\n",
    "        return(1/(1+np.sqrt(tmpSum)))"
   ]
  },
  {
   "cell_type": "code",
   "execution_count": null,
   "metadata": {},
   "outputs": [],
   "source": [
    "calcSim(list(rmNandict.keys())[0],list(rmNandict.keys())[1],rmNandict)"
   ]
  },
  {
   "cell_type": "code",
   "execution_count": null,
   "metadata": {},
   "outputs": [],
   "source": [
    "## remove the nan term\n",
    "rmNandict = dict()\n",
    "for i in pDict.keys():\n",
    "    my_dict = pDict[i]\n",
    "    clean_dict = {k: my_dict[k] for k in my_dict if not np.isnan(my_dict[k])}\n",
    "    rmNandict.update({i:clean_dict})\n",
    "\n",
    "## we calculate the distance if data has same key\n",
    "## get the same key fuction\n",
    "def getSameKey(key1,key2,dt):\n",
    "    skey = []\n",
    "    for i in dt[key1].keys():\n",
    "        for j in dt[key2].keys():\n",
    "               if i==j:\n",
    "                    skey.append(i)\n",
    "    return(skey)\n",
    "\n",
    "## calculate similarity function\n",
    "def calcSim(key1,key2,dt):\n",
    "    tmpSum = 0\n",
    "    if getSameKey(key1,key2,dt)==[]:\n",
    "        return(np.nan)\n",
    "    else:\n",
    "        for i in getSameKey(key1,key2,dt):\n",
    "            tmpSum = tmpSum + (dt[key1][i]-dt[key2][i])**2\n",
    "        return(1/(1+np.sqrt(tmpSum)))\n",
    "\n",
    "## output term\n",
    "outlst = []\n",
    "for i in rmNandict.keys():\n",
    "    for j in rmNandict.keys():\n",
    "        if i!=j and (not np.isnan(calcSim(i,j,rmNandict))):\n",
    "            outlst.append([i,j,calcSim(i,j,rmNandict)])\n",
    "\n",
    "outdt = pd.DataFrame(outlst)  \n",
    "if outfname==None:\n",
    "    outfname = input('input your output file name : ')\n",
    "outdt.to_csv(outfname, sep = '\\t',index=False, header = False)"
   ]
  },
  {
   "cell_type": "code",
   "execution_count": null,
   "metadata": {},
   "outputs": [],
   "source": [
    "usrName"
   ]
  },
  {
   "cell_type": "code",
   "execution_count": null,
   "metadata": {},
   "outputs": [],
   "source": [
    "tst = pd.DataFrame([['a','b','c'],['a','b','d'],['a','f','g']])\n",
    "tst[[0,1]]"
   ]
  },
  {
   "cell_type": "code",
   "execution_count": null,
   "metadata": {},
   "outputs": [],
   "source": [
    "tst[[0,1]].duplicated(keep = False)"
   ]
  },
  {
   "cell_type": "code",
   "execution_count": null,
   "metadata": {},
   "outputs": [],
   "source": [
    "inFile[inFile[[0,1]].duplicated(keep = False)].head()"
   ]
  },
  {
   "cell_type": "code",
   "execution_count": null,
   "metadata": {},
   "outputs": [],
   "source": [
    "clDf = inFile.drop_duplicates([0,1], keep='last')"
   ]
  },
  {
   "cell_type": "code",
   "execution_count": null,
   "metadata": {},
   "outputs": [],
   "source": [
    "len(clDf)"
   ]
  },
  {
   "cell_type": "code",
   "execution_count": null,
   "metadata": {},
   "outputs": [],
   "source": []
  }
 ],
 "metadata": {
  "kernelspec": {
   "display_name": "Python 3",
   "language": "python",
   "name": "python3"
  },
  "language_info": {
   "codemirror_mode": {
    "name": "ipython",
    "version": 3
   },
   "file_extension": ".py",
   "mimetype": "text/x-python",
   "name": "python",
   "nbconvert_exporter": "python",
   "pygments_lexer": "ipython3",
   "version": "3.6.5"
  }
 },
 "nbformat": 4,
 "nbformat_minor": 2
}
