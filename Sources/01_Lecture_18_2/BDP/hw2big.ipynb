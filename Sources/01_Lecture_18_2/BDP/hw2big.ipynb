{
 "cells": [
  {
   "cell_type": "code",
   "execution_count": 1,
   "metadata": {},
   "outputs": [],
   "source": [
    "## import modules\n",
    "import numpy as np\n",
    "import pandas as pd"
   ]
  },
  {
   "cell_type": "code",
   "execution_count": 2,
   "metadata": {},
   "outputs": [],
   "source": [
    "#getSimFromTsv('user_book_score_test.txt','user_book_score_test_out.txt')\n",
    "fname = 'user_book_score_291168_encoded.txt'\n",
    "#fname = 'in.txt'\n"
   ]
  },
  {
   "cell_type": "code",
   "execution_count": 3,
   "metadata": {},
   "outputs": [],
   "source": [
    "## file input term\n",
    "if fname == None:\n",
    "    fname = input('Input your input file name : ')\n",
    "#inFile = pd.read_csv(fpath+fname, sep ='\\t', header = None, encoding = 'UTF8')\n",
    "inFile = pd.read_csv(fname, sep ='\\t', header = None, encoding = 'UTF8')\n",
    "## make the dictionary by using pivot\n",
    "usrName = set(inFile.iloc[:,0])\n",
    "catName = set(inFile.iloc[:,1])"
   ]
  },
  {
   "cell_type": "code",
   "execution_count": 4,
   "metadata": {},
   "outputs": [],
   "source": [
    "# 유저가 동일한 평점 두번이상 준 경우 제거\n",
    "inFile = inFile.drop_duplicates([0,1], keep='last')\n",
    "inFile.index=range(len(inFile))"
   ]
  },
  {
   "cell_type": "code",
   "execution_count": 5,
   "metadata": {},
   "outputs": [
    {
     "data": {
      "text/plain": [
       "['매일 만나는 영어성경 - 신약편',\n",
       " '내가 만난 일본미술 이야기',\n",
       " '도해 밀리터리 아이템',\n",
       " '분류하기의유혹',\n",
       " '만화로 보는 오싱 5 - 첫사랑편',\n",
       " '송길원 김향숙의 유쾌한 부부 콘서트',\n",
       " '[무료배송]페이스 워시 클렌징 폼(남성전용 폼 클렌징)',\n",
       " '앳홈 내맘대로 원형수납함',\n",
       " '지도와 영토',\n",
       " '제2언어교수학습']"
      ]
     },
     "execution_count": 5,
     "metadata": {},
     "output_type": "execute_result"
    }
   ],
   "source": [
    "list(catName)[0:10]"
   ]
  },
  {
   "cell_type": "code",
   "execution_count": 10,
   "metadata": {},
   "outputs": [],
   "source": [
    "lhs = '기탄 수학 C -  2(합본)'\n",
    "rhs = '기탄 수학 C -  1(합본)'"
   ]
  },
  {
   "cell_type": "code",
   "execution_count": null,
   "metadata": {},
   "outputs": [],
   "source": [
    "out = []"
   ]
  },
  {
   "cell_type": "code",
   "execution_count": 11,
   "metadata": {},
   "outputs": [
    {
     "name": "stdout",
     "output_type": "stream",
     "text": [
      "['기탄 수학 C -  2(합본)', '기탄 수학 C -  1(합본)', 1.0]\n"
     ]
    }
   ],
   "source": [
    "a=inFile[(inFile[1] == lhs) | (inFile[1] == rhs) ][inFile[(inFile[1] == lhs) | (inFile[1] == rhs) ].duplicated(0, keep=False)].pivot(index = 0, columns = 1 , values= 2)\n",
    "if not len(a)==0:\n",
    "    #out.append([lhs,rhs,1/(1+np.sqrt(sum(a.apply(lambda x: (x[0]-x[1])**2,axis =1))))])\n",
    "    print([lhs,rhs,1/(1+np.sqrt(sum(a.apply(lambda x: (x[0]-x[1])**2,axis =1))))])\n",
    "#sum(map(lambda x: (x[0]-x[1])**2,a))\n",
    "#?a.apply"
   ]
  },
  {
   "cell_type": "code",
   "execution_count": null,
   "metadata": {},
   "outputs": [],
   "source": [
    "out"
   ]
  },
  {
   "cell_type": "code",
   "execution_count": null,
   "metadata": {},
   "outputs": [],
   "source": []
  },
  {
   "cell_type": "code",
   "execution_count": 5,
   "metadata": {},
   "outputs": [],
   "source": [
    "out =[]"
   ]
  },
  {
   "cell_type": "code",
   "execution_count": null,
   "metadata": {},
   "outputs": [
    {
     "name": "stdout",
     "output_type": "stream",
     "text": [
      "['백 송이도 아닌 백 그루 장미', '인도 네팔 (프렌즈11)- 11~12년도', 1.0]\n",
      "['인도 네팔 (프렌즈11)- 11~12년도', '백 송이도 아닌 백 그루 장미', 1.0]\n"
     ]
    }
   ],
   "source": [
    "tmplst = list(catName)[0:100]\n",
    "#tmplst = catName\n",
    "#no = 0\n",
    "for lhs in tmplst:\n",
    "    #print(lhs)\n",
    "    #no = no + 1\n",
    "    for rhs in [x for x in tmplst if x != lhs]:\n",
    "        #print(lhs,rhs)\n",
    "        a=inFile[(inFile[1] == lhs) | (inFile[1] == rhs) ][inFile[(inFile[1] == lhs) | (inFile[1] == rhs) ].duplicated(0, keep=False)].pivot(index = 0, columns = 1 , values= 2)\n",
    "        if not len(a)==0:\n",
    "            #out.append([lhs,rhs,1/(1+np.sqrt(sum(a.apply(lambda x: (x[0]-x[1])**2,axis =1))))])\n",
    "            print([lhs,rhs,1/(1+np.sqrt(sum(a.apply(lambda x: (x[0]-x[1])**2,axis =1))))])"
   ]
  },
  {
   "cell_type": "code",
   "execution_count": null,
   "metadata": {},
   "outputs": [],
   "source": []
  },
  {
   "cell_type": "code",
   "execution_count": null,
   "metadata": {},
   "outputs": [],
   "source": []
  }
 ],
 "metadata": {
  "kernelspec": {
   "display_name": "Python 3",
   "language": "python",
   "name": "python3"
  },
  "language_info": {
   "codemirror_mode": {
    "name": "ipython",
    "version": 3
   },
   "file_extension": ".py",
   "mimetype": "text/x-python",
   "name": "python",
   "nbconvert_exporter": "python",
   "pygments_lexer": "ipython3",
   "version": "3.6.6"
  }
 },
 "nbformat": 4,
 "nbformat_minor": 2
}
