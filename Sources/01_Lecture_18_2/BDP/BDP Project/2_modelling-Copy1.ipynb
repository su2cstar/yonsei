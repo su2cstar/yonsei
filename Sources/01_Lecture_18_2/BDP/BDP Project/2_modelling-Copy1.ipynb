{
 "cells": [
  {
   "cell_type": "code",
   "execution_count": 1,
   "metadata": {},
   "outputs": [],
   "source": [
    "import pandas as pd\n",
    "import numpy as np\n",
    "\n",
    "from sklearn.model_selection import train_test_split\n",
    "from sklearn.ensemble import RandomForestClassifier\n",
    "from sklearn.metrics import accuracy_score\n",
    "from sklearn.svm import SVC\n",
    "\n",
    "from sklearn.linear_model import SGDClassifier\n",
    "from sklearn.linear_model import LogisticRegression\n",
    "from sklearn.neighbors import KNeighborsClassifier\n",
    "from sklearn.cluster import KMeans\n",
    "from sklearn.preprocessing import normalize\n",
    "\n",
    "from sklearn.preprocessing import StandardScaler"
   ]
  },
  {
   "cell_type": "code",
   "execution_count": 2,
   "metadata": {},
   "outputs": [],
   "source": [
    "df = pd.read_csv('comp.csv')"
   ]
  },
  {
   "cell_type": "code",
   "execution_count": 3,
   "metadata": {},
   "outputs": [],
   "source": [
    "df = df.iloc[:,1:]"
   ]
  },
  {
   "cell_type": "code",
   "execution_count": 4,
   "metadata": {},
   "outputs": [],
   "source": [
    "df['transaction_date'] = pd.to_datetime(df['transaction_date'], format='%Y%m%d')\n",
    "df['membership_expire_date'] = pd.to_datetime(df['membership_expire_date'], format='%Y%m%d')\n",
    "df['registration_init_time'] = pd.to_datetime(df['registration_init_time'], format='%Y%m%d')"
   ]
  },
  {
   "cell_type": "code",
   "execution_count": 5,
   "metadata": {},
   "outputs": [],
   "source": [
    "df['payment_method_id'] = pd.Categorical(df['payment_method_id'])\n",
    "df['is_auto_renew'] = pd.Categorical(df['is_auto_renew'])\n",
    "df['city'] = pd.Categorical(df['city'])\n",
    "df['gender'] = pd.Categorical(df['gender'])\n",
    "df['registered_via'] = pd.Categorical(df['registered_via'])\n",
    "df['is_churn'] = pd.Categorical(df['is_churn'])\n",
    "df['is_cancel'] = pd.Categorical(df['is_cancel'])"
   ]
  },
  {
   "cell_type": "code",
   "execution_count": 6,
   "metadata": {},
   "outputs": [],
   "source": [
    "k =(df['bd']//10)*10\n",
    "b = []\n",
    "for i in k:\n",
    "    if i >100:\n",
    "        b.append(np.nan)\n",
    "    elif i < 0:\n",
    "        b.append(np.nan)\n",
    "    else:\n",
    "        try:\n",
    "            b.append(int(i))\n",
    "        except:\n",
    "            b.append(i)"
   ]
  },
  {
   "cell_type": "code",
   "execution_count": 7,
   "metadata": {},
   "outputs": [],
   "source": [
    "df['new_bd']=b"
   ]
  },
  {
   "cell_type": "code",
   "execution_count": 8,
   "metadata": {},
   "outputs": [],
   "source": [
    "df['new_bd'] = pd.Categorical(df['new_bd'])"
   ]
  },
  {
   "cell_type": "code",
   "execution_count": 9,
   "metadata": {},
   "outputs": [
    {
     "data": {
      "text/html": [
       "<div>\n",
       "<style scoped>\n",
       "    .dataframe tbody tr th:only-of-type {\n",
       "        vertical-align: middle;\n",
       "    }\n",
       "\n",
       "    .dataframe tbody tr th {\n",
       "        vertical-align: top;\n",
       "    }\n",
       "\n",
       "    .dataframe thead th {\n",
       "        text-align: right;\n",
       "    }\n",
       "</style>\n",
       "<table border=\"1\" class=\"dataframe\">\n",
       "  <thead>\n",
       "    <tr style=\"text-align: right;\">\n",
       "      <th></th>\n",
       "      <th>msno</th>\n",
       "      <th>payment_method_id</th>\n",
       "      <th>payment_plan_days</th>\n",
       "      <th>plan_list_price</th>\n",
       "      <th>actual_amount_paid</th>\n",
       "      <th>is_auto_renew</th>\n",
       "      <th>transaction_date</th>\n",
       "      <th>membership_expire_date</th>\n",
       "      <th>is_cancel</th>\n",
       "      <th>city</th>\n",
       "      <th>bd</th>\n",
       "      <th>gender</th>\n",
       "      <th>registered_via</th>\n",
       "      <th>registration_init_time</th>\n",
       "      <th>is_churn</th>\n",
       "      <th>new_bd</th>\n",
       "    </tr>\n",
       "  </thead>\n",
       "  <tbody>\n",
       "    <tr>\n",
       "      <th>0</th>\n",
       "      <td>IjJ2K6chuC3uAgw/wjmsInpI/b2imM01D80cQHfN2wU=</td>\n",
       "      <td>32</td>\n",
       "      <td>410</td>\n",
       "      <td>1788</td>\n",
       "      <td>1788</td>\n",
       "      <td>0</td>\n",
       "      <td>2016-01-12</td>\n",
       "      <td>2017-02-28</td>\n",
       "      <td>0</td>\n",
       "      <td>5.0</td>\n",
       "      <td>44.0</td>\n",
       "      <td>NaN</td>\n",
       "      <td>3.0</td>\n",
       "      <td>2013-10-16</td>\n",
       "      <td>0</td>\n",
       "      <td>40.0</td>\n",
       "    </tr>\n",
       "    <tr>\n",
       "      <th>1</th>\n",
       "      <td>/IkS3fIO/BRhlMFFErSgrtpqzedcrwnW/FUbaB1E8JM=</td>\n",
       "      <td>38</td>\n",
       "      <td>410</td>\n",
       "      <td>1788</td>\n",
       "      <td>1788</td>\n",
       "      <td>0</td>\n",
       "      <td>2016-01-04</td>\n",
       "      <td>2017-02-17</td>\n",
       "      <td>0</td>\n",
       "      <td>15.0</td>\n",
       "      <td>38.0</td>\n",
       "      <td>female</td>\n",
       "      <td>9.0</td>\n",
       "      <td>2013-10-23</td>\n",
       "      <td>1</td>\n",
       "      <td>30.0</td>\n",
       "    </tr>\n",
       "    <tr>\n",
       "      <th>2</th>\n",
       "      <td>bwVRgPPJnJg62tVnHJWejdeavNP8DJQdBfrhzKm6Org=</td>\n",
       "      <td>38</td>\n",
       "      <td>30</td>\n",
       "      <td>149</td>\n",
       "      <td>149</td>\n",
       "      <td>0</td>\n",
       "      <td>2017-01-09</td>\n",
       "      <td>2017-02-08</td>\n",
       "      <td>0</td>\n",
       "      <td>5.0</td>\n",
       "      <td>0.0</td>\n",
       "      <td>NaN</td>\n",
       "      <td>4.0</td>\n",
       "      <td>2015-11-13</td>\n",
       "      <td>1</td>\n",
       "      <td>0.0</td>\n",
       "    </tr>\n",
       "    <tr>\n",
       "      <th>3</th>\n",
       "      <td>CZ87lCEDKmbk7EXCy6Kh0zopNJxoEBTfWq9Eq9Az+28=</td>\n",
       "      <td>32</td>\n",
       "      <td>195</td>\n",
       "      <td>894</td>\n",
       "      <td>894</td>\n",
       "      <td>0</td>\n",
       "      <td>2016-07-26</td>\n",
       "      <td>2017-02-09</td>\n",
       "      <td>0</td>\n",
       "      <td>13.0</td>\n",
       "      <td>21.0</td>\n",
       "      <td>female</td>\n",
       "      <td>3.0</td>\n",
       "      <td>2012-07-11</td>\n",
       "      <td>1</td>\n",
       "      <td>20.0</td>\n",
       "    </tr>\n",
       "    <tr>\n",
       "      <th>4</th>\n",
       "      <td>hCqnh1Sv8tXwSFHSw4ZGql6MwI31g+ahsszfmVTAE1g=</td>\n",
       "      <td>38</td>\n",
       "      <td>410</td>\n",
       "      <td>1788</td>\n",
       "      <td>1788</td>\n",
       "      <td>0</td>\n",
       "      <td>2015-12-25</td>\n",
       "      <td>2017-02-07</td>\n",
       "      <td>0</td>\n",
       "      <td>5.0</td>\n",
       "      <td>57.0</td>\n",
       "      <td>male</td>\n",
       "      <td>3.0</td>\n",
       "      <td>2014-07-02</td>\n",
       "      <td>0</td>\n",
       "      <td>50.0</td>\n",
       "    </tr>\n",
       "  </tbody>\n",
       "</table>\n",
       "</div>"
      ],
      "text/plain": [
       "                                           msno payment_method_id  \\\n",
       "0  IjJ2K6chuC3uAgw/wjmsInpI/b2imM01D80cQHfN2wU=                32   \n",
       "1  /IkS3fIO/BRhlMFFErSgrtpqzedcrwnW/FUbaB1E8JM=                38   \n",
       "2  bwVRgPPJnJg62tVnHJWejdeavNP8DJQdBfrhzKm6Org=                38   \n",
       "3  CZ87lCEDKmbk7EXCy6Kh0zopNJxoEBTfWq9Eq9Az+28=                32   \n",
       "4  hCqnh1Sv8tXwSFHSw4ZGql6MwI31g+ahsszfmVTAE1g=                38   \n",
       "\n",
       "   payment_plan_days  plan_list_price  actual_amount_paid is_auto_renew  \\\n",
       "0                410             1788                1788             0   \n",
       "1                410             1788                1788             0   \n",
       "2                 30              149                 149             0   \n",
       "3                195              894                 894             0   \n",
       "4                410             1788                1788             0   \n",
       "\n",
       "  transaction_date membership_expire_date is_cancel  city    bd  gender  \\\n",
       "0       2016-01-12             2017-02-28         0   5.0  44.0     NaN   \n",
       "1       2016-01-04             2017-02-17         0  15.0  38.0  female   \n",
       "2       2017-01-09             2017-02-08         0   5.0   0.0     NaN   \n",
       "3       2016-07-26             2017-02-09         0  13.0  21.0  female   \n",
       "4       2015-12-25             2017-02-07         0   5.0  57.0    male   \n",
       "\n",
       "  registered_via registration_init_time is_churn new_bd  \n",
       "0            3.0             2013-10-16        0   40.0  \n",
       "1            9.0             2013-10-23        1   30.0  \n",
       "2            4.0             2015-11-13        1    0.0  \n",
       "3            3.0             2012-07-11        1   20.0  \n",
       "4            3.0             2014-07-02        0   50.0  "
      ]
     },
     "execution_count": 9,
     "metadata": {},
     "output_type": "execute_result"
    }
   ],
   "source": [
    "df.head()"
   ]
  },
  {
   "cell_type": "code",
   "execution_count": 10,
   "metadata": {},
   "outputs": [],
   "source": [
    "df['mem_duration'] = df['membership_expire_date'] - df['registration_init_time']"
   ]
  },
  {
   "cell_type": "code",
   "execution_count": 11,
   "metadata": {},
   "outputs": [],
   "source": [
    "df_2 = df.iloc[:,[0,1,2,3,4,5,6,7,8,9,11,12,15,16,14]].copy()"
   ]
  },
  {
   "cell_type": "code",
   "execution_count": 12,
   "metadata": {},
   "outputs": [],
   "source": [
    "plan_actual_price=[]\n",
    "for i,j in zip(df_2['plan_list_price'],df_2['actual_amount_paid']):\n",
    "    if i==j:\n",
    "        plan_actual_price.append(0)\n",
    "    if i>j:\n",
    "        plan_actual_price.append(-1)\n",
    "    if i<j:\n",
    "        plan_actual_price.append(1)"
   ]
  },
  {
   "cell_type": "code",
   "execution_count": 13,
   "metadata": {},
   "outputs": [],
   "source": [
    "df_2['plan_actual_price'] = plan_actual_price\n",
    "df_2['plan_actual_price'] = pd.Categorical(df_2['plan_actual_price'])"
   ]
  },
  {
   "cell_type": "code",
   "execution_count": 14,
   "metadata": {},
   "outputs": [],
   "source": [
    "df_3 =df_2.iloc[:,[0,1,2,3,4,5,6,7,8,9,10,11,12,13,15,14]].copy()"
   ]
  },
  {
   "cell_type": "code",
   "execution_count": 15,
   "metadata": {},
   "outputs": [
    {
     "data": {
      "text/plain": [
       "(992931, 16)"
      ]
     },
     "execution_count": 15,
     "metadata": {},
     "output_type": "execute_result"
    }
   ],
   "source": [
    "df_3.shape"
   ]
  },
  {
   "cell_type": "code",
   "execution_count": 16,
   "metadata": {},
   "outputs": [],
   "source": [
    "df_3['mem_duration'] = (df_3['mem_duration'].values / np.timedelta64(1, 'D')).astype(int)"
   ]
  },
  {
   "cell_type": "code",
   "execution_count": 17,
   "metadata": {
    "scrolled": true
   },
   "outputs": [
    {
     "data": {
      "text/html": [
       "<div>\n",
       "<style scoped>\n",
       "    .dataframe tbody tr th:only-of-type {\n",
       "        vertical-align: middle;\n",
       "    }\n",
       "\n",
       "    .dataframe tbody tr th {\n",
       "        vertical-align: top;\n",
       "    }\n",
       "\n",
       "    .dataframe thead th {\n",
       "        text-align: right;\n",
       "    }\n",
       "</style>\n",
       "<table border=\"1\" class=\"dataframe\">\n",
       "  <thead>\n",
       "    <tr style=\"text-align: right;\">\n",
       "      <th></th>\n",
       "      <th>msno</th>\n",
       "      <th>payment_method_id</th>\n",
       "      <th>payment_plan_days</th>\n",
       "      <th>plan_list_price</th>\n",
       "      <th>actual_amount_paid</th>\n",
       "      <th>is_auto_renew</th>\n",
       "      <th>transaction_date</th>\n",
       "      <th>membership_expire_date</th>\n",
       "      <th>is_cancel</th>\n",
       "      <th>city</th>\n",
       "      <th>gender</th>\n",
       "      <th>registered_via</th>\n",
       "      <th>new_bd</th>\n",
       "      <th>mem_duration</th>\n",
       "      <th>plan_actual_price</th>\n",
       "      <th>is_churn</th>\n",
       "    </tr>\n",
       "  </thead>\n",
       "  <tbody>\n",
       "    <tr>\n",
       "      <th>0</th>\n",
       "      <td>IjJ2K6chuC3uAgw/wjmsInpI/b2imM01D80cQHfN2wU=</td>\n",
       "      <td>32</td>\n",
       "      <td>410</td>\n",
       "      <td>1788</td>\n",
       "      <td>1788</td>\n",
       "      <td>0</td>\n",
       "      <td>2016-01-12</td>\n",
       "      <td>2017-02-28</td>\n",
       "      <td>0</td>\n",
       "      <td>5.0</td>\n",
       "      <td>NaN</td>\n",
       "      <td>3.0</td>\n",
       "      <td>40.0</td>\n",
       "      <td>1231</td>\n",
       "      <td>0</td>\n",
       "      <td>0</td>\n",
       "    </tr>\n",
       "    <tr>\n",
       "      <th>1</th>\n",
       "      <td>/IkS3fIO/BRhlMFFErSgrtpqzedcrwnW/FUbaB1E8JM=</td>\n",
       "      <td>38</td>\n",
       "      <td>410</td>\n",
       "      <td>1788</td>\n",
       "      <td>1788</td>\n",
       "      <td>0</td>\n",
       "      <td>2016-01-04</td>\n",
       "      <td>2017-02-17</td>\n",
       "      <td>0</td>\n",
       "      <td>15.0</td>\n",
       "      <td>female</td>\n",
       "      <td>9.0</td>\n",
       "      <td>30.0</td>\n",
       "      <td>1213</td>\n",
       "      <td>0</td>\n",
       "      <td>1</td>\n",
       "    </tr>\n",
       "    <tr>\n",
       "      <th>2</th>\n",
       "      <td>bwVRgPPJnJg62tVnHJWejdeavNP8DJQdBfrhzKm6Org=</td>\n",
       "      <td>38</td>\n",
       "      <td>30</td>\n",
       "      <td>149</td>\n",
       "      <td>149</td>\n",
       "      <td>0</td>\n",
       "      <td>2017-01-09</td>\n",
       "      <td>2017-02-08</td>\n",
       "      <td>0</td>\n",
       "      <td>5.0</td>\n",
       "      <td>NaN</td>\n",
       "      <td>4.0</td>\n",
       "      <td>0.0</td>\n",
       "      <td>453</td>\n",
       "      <td>0</td>\n",
       "      <td>1</td>\n",
       "    </tr>\n",
       "    <tr>\n",
       "      <th>3</th>\n",
       "      <td>CZ87lCEDKmbk7EXCy6Kh0zopNJxoEBTfWq9Eq9Az+28=</td>\n",
       "      <td>32</td>\n",
       "      <td>195</td>\n",
       "      <td>894</td>\n",
       "      <td>894</td>\n",
       "      <td>0</td>\n",
       "      <td>2016-07-26</td>\n",
       "      <td>2017-02-09</td>\n",
       "      <td>0</td>\n",
       "      <td>13.0</td>\n",
       "      <td>female</td>\n",
       "      <td>3.0</td>\n",
       "      <td>20.0</td>\n",
       "      <td>1674</td>\n",
       "      <td>0</td>\n",
       "      <td>1</td>\n",
       "    </tr>\n",
       "    <tr>\n",
       "      <th>4</th>\n",
       "      <td>hCqnh1Sv8tXwSFHSw4ZGql6MwI31g+ahsszfmVTAE1g=</td>\n",
       "      <td>38</td>\n",
       "      <td>410</td>\n",
       "      <td>1788</td>\n",
       "      <td>1788</td>\n",
       "      <td>0</td>\n",
       "      <td>2015-12-25</td>\n",
       "      <td>2017-02-07</td>\n",
       "      <td>0</td>\n",
       "      <td>5.0</td>\n",
       "      <td>male</td>\n",
       "      <td>3.0</td>\n",
       "      <td>50.0</td>\n",
       "      <td>951</td>\n",
       "      <td>0</td>\n",
       "      <td>0</td>\n",
       "    </tr>\n",
       "  </tbody>\n",
       "</table>\n",
       "</div>"
      ],
      "text/plain": [
       "                                           msno payment_method_id  \\\n",
       "0  IjJ2K6chuC3uAgw/wjmsInpI/b2imM01D80cQHfN2wU=                32   \n",
       "1  /IkS3fIO/BRhlMFFErSgrtpqzedcrwnW/FUbaB1E8JM=                38   \n",
       "2  bwVRgPPJnJg62tVnHJWejdeavNP8DJQdBfrhzKm6Org=                38   \n",
       "3  CZ87lCEDKmbk7EXCy6Kh0zopNJxoEBTfWq9Eq9Az+28=                32   \n",
       "4  hCqnh1Sv8tXwSFHSw4ZGql6MwI31g+ahsszfmVTAE1g=                38   \n",
       "\n",
       "   payment_plan_days  plan_list_price  actual_amount_paid is_auto_renew  \\\n",
       "0                410             1788                1788             0   \n",
       "1                410             1788                1788             0   \n",
       "2                 30              149                 149             0   \n",
       "3                195              894                 894             0   \n",
       "4                410             1788                1788             0   \n",
       "\n",
       "  transaction_date membership_expire_date is_cancel  city  gender  \\\n",
       "0       2016-01-12             2017-02-28         0   5.0     NaN   \n",
       "1       2016-01-04             2017-02-17         0  15.0  female   \n",
       "2       2017-01-09             2017-02-08         0   5.0     NaN   \n",
       "3       2016-07-26             2017-02-09         0  13.0  female   \n",
       "4       2015-12-25             2017-02-07         0   5.0    male   \n",
       "\n",
       "  registered_via new_bd  mem_duration plan_actual_price is_churn  \n",
       "0            3.0   40.0          1231                 0        0  \n",
       "1            9.0   30.0          1213                 0        1  \n",
       "2            4.0    0.0           453                 0        1  \n",
       "3            3.0   20.0          1674                 0        1  \n",
       "4            3.0   50.0           951                 0        0  "
      ]
     },
     "execution_count": 17,
     "metadata": {},
     "output_type": "execute_result"
    }
   ],
   "source": [
    "df_3.head()"
   ]
  },
  {
   "cell_type": "code",
   "execution_count": 18,
   "metadata": {},
   "outputs": [],
   "source": [
    "tmp = []\n",
    "for i in df_3['gender']:\n",
    "    if i == 'female':\n",
    "        tmp.append(0)\n",
    "    elif i == 'male':\n",
    "        tmp.append(1)\n",
    "    else:\n",
    "        tmp.append(i)\n",
    "    "
   ]
  },
  {
   "cell_type": "code",
   "execution_count": 19,
   "metadata": {},
   "outputs": [],
   "source": [
    "df_3['gender']=tmp\n",
    "df_3['gender'] = pd.Categorical(df_3['gender'])"
   ]
  },
  {
   "cell_type": "code",
   "execution_count": 20,
   "metadata": {},
   "outputs": [
    {
     "name": "stdout",
     "output_type": "stream",
     "text": [
      "<class 'pandas.core.frame.DataFrame'>\n",
      "RangeIndex: 992931 entries, 0 to 992930\n",
      "Data columns (total 16 columns):\n",
      "msno                      992931 non-null object\n",
      "payment_method_id         992931 non-null category\n",
      "payment_plan_days         992931 non-null int64\n",
      "plan_list_price           992931 non-null int64\n",
      "actual_amount_paid        992931 non-null int64\n",
      "is_auto_renew             992931 non-null category\n",
      "transaction_date          992931 non-null datetime64[ns]\n",
      "membership_expire_date    992931 non-null datetime64[ns]\n",
      "is_cancel                 992931 non-null category\n",
      "city                      877161 non-null category\n",
      "gender                    391692 non-null category\n",
      "registered_via            877161 non-null category\n",
      "new_bd                    876806 non-null category\n",
      "mem_duration              992931 non-null int64\n",
      "plan_actual_price         992931 non-null category\n",
      "is_churn                  992931 non-null category\n",
      "dtypes: category(9), datetime64[ns](2), int64(4), object(1)\n",
      "memory usage: 61.6+ MB\n"
     ]
    }
   ],
   "source": [
    "df_3.info()"
   ]
  },
  {
   "cell_type": "code",
   "execution_count": 21,
   "metadata": {},
   "outputs": [],
   "source": [
    "maxdate = max(df_3['transaction_date'])"
   ]
  },
  {
   "cell_type": "code",
   "execution_count": 22,
   "metadata": {},
   "outputs": [],
   "source": [
    "tmp = maxdate - df_3['transaction_date']\n",
    "trdate_diff_from_maxdate = (tmp.values / np.timedelta64(1, 'D')).astype(int)"
   ]
  },
  {
   "cell_type": "code",
   "execution_count": 23,
   "metadata": {},
   "outputs": [],
   "source": [
    "df_3['trdate_diff_from_maxdate']=trdate_diff_from_maxdate"
   ]
  },
  {
   "cell_type": "code",
   "execution_count": 24,
   "metadata": {},
   "outputs": [],
   "source": [
    "tmp=[]\n",
    "for i in df_3['mem_duration']:\n",
    "    if i == -2147483648:\n",
    "        tmp.append(np.nan)\n",
    "    else:\n",
    "        tmp.append(i)\n",
    "        \n",
    "df_3['mem_duration'] = tmp"
   ]
  },
  {
   "cell_type": "code",
   "execution_count": 25,
   "metadata": {},
   "outputs": [],
   "source": [
    "df_4 = df_3.drop(columns=['transaction_date', 'membership_expire_date'])"
   ]
  },
  {
   "cell_type": "code",
   "execution_count": 26,
   "metadata": {},
   "outputs": [],
   "source": [
    "df_5 = df_4.dropna()"
   ]
  },
  {
   "cell_type": "code",
   "execution_count": 27,
   "metadata": {},
   "outputs": [
    {
     "name": "stdout",
     "output_type": "stream",
     "text": [
      "<class 'pandas.core.frame.DataFrame'>\n",
      "Int64Index: 391421 entries, 1 to 992928\n",
      "Data columns (total 13 columns):\n",
      "payment_method_id           391421 non-null category\n",
      "payment_plan_days           391421 non-null int64\n",
      "plan_list_price             391421 non-null int64\n",
      "actual_amount_paid          391421 non-null int64\n",
      "is_auto_renew               391421 non-null category\n",
      "is_cancel                   391421 non-null category\n",
      "city                        391421 non-null category\n",
      "gender                      391421 non-null category\n",
      "registered_via              391421 non-null category\n",
      "new_bd                      391421 non-null category\n",
      "mem_duration                391421 non-null int64\n",
      "plan_actual_price           391421 non-null category\n",
      "trdate_diff_from_maxdate    391421 non-null int64\n",
      "dtypes: category(8), int64(5)\n",
      "memory usage: 20.9 MB\n"
     ]
    }
   ],
   "source": [
    "df_5.iloc[:,[1,2,3,4,5,6,7,8,9,10,11,12,14]].info()"
   ]
  },
  {
   "cell_type": "code",
   "execution_count": 28,
   "metadata": {},
   "outputs": [
    {
     "data": {
      "text/html": [
       "<div>\n",
       "<style scoped>\n",
       "    .dataframe tbody tr th:only-of-type {\n",
       "        vertical-align: middle;\n",
       "    }\n",
       "\n",
       "    .dataframe tbody tr th {\n",
       "        vertical-align: top;\n",
       "    }\n",
       "\n",
       "    .dataframe thead th {\n",
       "        text-align: right;\n",
       "    }\n",
       "</style>\n",
       "<table border=\"1\" class=\"dataframe\">\n",
       "  <thead>\n",
       "    <tr style=\"text-align: right;\">\n",
       "      <th></th>\n",
       "      <th>msno</th>\n",
       "      <th>payment_method_id</th>\n",
       "      <th>payment_plan_days</th>\n",
       "      <th>plan_list_price</th>\n",
       "      <th>actual_amount_paid</th>\n",
       "      <th>is_auto_renew</th>\n",
       "      <th>is_cancel</th>\n",
       "      <th>city</th>\n",
       "      <th>gender</th>\n",
       "      <th>registered_via</th>\n",
       "      <th>new_bd</th>\n",
       "      <th>mem_duration</th>\n",
       "      <th>plan_actual_price</th>\n",
       "      <th>is_churn</th>\n",
       "      <th>trdate_diff_from_maxdate</th>\n",
       "    </tr>\n",
       "  </thead>\n",
       "  <tbody>\n",
       "    <tr>\n",
       "      <th>1</th>\n",
       "      <td>/IkS3fIO/BRhlMFFErSgrtpqzedcrwnW/FUbaB1E8JM=</td>\n",
       "      <td>38</td>\n",
       "      <td>410</td>\n",
       "      <td>1788</td>\n",
       "      <td>1788</td>\n",
       "      <td>0</td>\n",
       "      <td>0</td>\n",
       "      <td>15.0</td>\n",
       "      <td>0.0</td>\n",
       "      <td>9.0</td>\n",
       "      <td>30.0</td>\n",
       "      <td>1213</td>\n",
       "      <td>0</td>\n",
       "      <td>1</td>\n",
       "      <td>421</td>\n",
       "    </tr>\n",
       "    <tr>\n",
       "      <th>3</th>\n",
       "      <td>CZ87lCEDKmbk7EXCy6Kh0zopNJxoEBTfWq9Eq9Az+28=</td>\n",
       "      <td>32</td>\n",
       "      <td>195</td>\n",
       "      <td>894</td>\n",
       "      <td>894</td>\n",
       "      <td>0</td>\n",
       "      <td>0</td>\n",
       "      <td>13.0</td>\n",
       "      <td>0.0</td>\n",
       "      <td>3.0</td>\n",
       "      <td>20.0</td>\n",
       "      <td>1674</td>\n",
       "      <td>0</td>\n",
       "      <td>1</td>\n",
       "      <td>217</td>\n",
       "    </tr>\n",
       "    <tr>\n",
       "      <th>4</th>\n",
       "      <td>hCqnh1Sv8tXwSFHSw4ZGql6MwI31g+ahsszfmVTAE1g=</td>\n",
       "      <td>38</td>\n",
       "      <td>410</td>\n",
       "      <td>1788</td>\n",
       "      <td>1788</td>\n",
       "      <td>0</td>\n",
       "      <td>0</td>\n",
       "      <td>5.0</td>\n",
       "      <td>1.0</td>\n",
       "      <td>3.0</td>\n",
       "      <td>50.0</td>\n",
       "      <td>951</td>\n",
       "      <td>0</td>\n",
       "      <td>0</td>\n",
       "      <td>431</td>\n",
       "    </tr>\n",
       "    <tr>\n",
       "      <th>5</th>\n",
       "      <td>ezv3cTcVQSMKv2IyVSQrIwfqjm4A3BVcMVvso6cVpwk=</td>\n",
       "      <td>32</td>\n",
       "      <td>180</td>\n",
       "      <td>536</td>\n",
       "      <td>536</td>\n",
       "      <td>0</td>\n",
       "      <td>0</td>\n",
       "      <td>21.0</td>\n",
       "      <td>0.0</td>\n",
       "      <td>9.0</td>\n",
       "      <td>20.0</td>\n",
       "      <td>183</td>\n",
       "      <td>0</td>\n",
       "      <td>0</td>\n",
       "      <td>207</td>\n",
       "    </tr>\n",
       "    <tr>\n",
       "      <th>6</th>\n",
       "      <td>RqoXgu0eHNS8VT2nFmhYTFIqanKgoWDILzZcWDEPusY=</td>\n",
       "      <td>32</td>\n",
       "      <td>180</td>\n",
       "      <td>536</td>\n",
       "      <td>536</td>\n",
       "      <td>0</td>\n",
       "      <td>0</td>\n",
       "      <td>21.0</td>\n",
       "      <td>0.0</td>\n",
       "      <td>3.0</td>\n",
       "      <td>20.0</td>\n",
       "      <td>1031</td>\n",
       "      <td>0</td>\n",
       "      <td>0</td>\n",
       "      <td>210</td>\n",
       "    </tr>\n",
       "  </tbody>\n",
       "</table>\n",
       "</div>"
      ],
      "text/plain": [
       "                                           msno payment_method_id  \\\n",
       "1  /IkS3fIO/BRhlMFFErSgrtpqzedcrwnW/FUbaB1E8JM=                38   \n",
       "3  CZ87lCEDKmbk7EXCy6Kh0zopNJxoEBTfWq9Eq9Az+28=                32   \n",
       "4  hCqnh1Sv8tXwSFHSw4ZGql6MwI31g+ahsszfmVTAE1g=                38   \n",
       "5  ezv3cTcVQSMKv2IyVSQrIwfqjm4A3BVcMVvso6cVpwk=                32   \n",
       "6  RqoXgu0eHNS8VT2nFmhYTFIqanKgoWDILzZcWDEPusY=                32   \n",
       "\n",
       "   payment_plan_days  plan_list_price  actual_amount_paid is_auto_renew  \\\n",
       "1                410             1788                1788             0   \n",
       "3                195              894                 894             0   \n",
       "4                410             1788                1788             0   \n",
       "5                180              536                 536             0   \n",
       "6                180              536                 536             0   \n",
       "\n",
       "  is_cancel  city gender registered_via new_bd  mem_duration  \\\n",
       "1         0  15.0    0.0            9.0   30.0          1213   \n",
       "3         0  13.0    0.0            3.0   20.0          1674   \n",
       "4         0   5.0    1.0            3.0   50.0           951   \n",
       "5         0  21.0    0.0            9.0   20.0           183   \n",
       "6         0  21.0    0.0            3.0   20.0          1031   \n",
       "\n",
       "  plan_actual_price is_churn  trdate_diff_from_maxdate  \n",
       "1                 0        1                       421  \n",
       "3                 0        1                       217  \n",
       "4                 0        0                       431  \n",
       "5                 0        0                       207  \n",
       "6                 0        0                       210  "
      ]
     },
     "execution_count": 28,
     "metadata": {},
     "output_type": "execute_result"
    }
   ],
   "source": [
    "df_5.head()"
   ]
  },
  {
   "cell_type": "code",
   "execution_count": 29,
   "metadata": {},
   "outputs": [
    {
     "data": {
      "text/html": [
       "<div>\n",
       "<style scoped>\n",
       "    .dataframe tbody tr th:only-of-type {\n",
       "        vertical-align: middle;\n",
       "    }\n",
       "\n",
       "    .dataframe tbody tr th {\n",
       "        vertical-align: top;\n",
       "    }\n",
       "\n",
       "    .dataframe thead th {\n",
       "        text-align: right;\n",
       "    }\n",
       "</style>\n",
       "<table border=\"1\" class=\"dataframe\">\n",
       "  <thead>\n",
       "    <tr style=\"text-align: right;\">\n",
       "      <th></th>\n",
       "      <th>msno</th>\n",
       "      <th>payment_method_id</th>\n",
       "      <th>payment_plan_days</th>\n",
       "      <th>plan_list_price</th>\n",
       "      <th>actual_amount_paid</th>\n",
       "      <th>is_auto_renew</th>\n",
       "      <th>is_cancel</th>\n",
       "      <th>city</th>\n",
       "      <th>gender</th>\n",
       "      <th>registered_via</th>\n",
       "      <th>new_bd</th>\n",
       "      <th>mem_duration</th>\n",
       "      <th>plan_actual_price</th>\n",
       "      <th>is_churn</th>\n",
       "      <th>trdate_diff_from_maxdate</th>\n",
       "    </tr>\n",
       "  </thead>\n",
       "  <tbody>\n",
       "    <tr>\n",
       "      <th>1</th>\n",
       "      <td>/IkS3fIO/BRhlMFFErSgrtpqzedcrwnW/FUbaB1E8JM=</td>\n",
       "      <td>38</td>\n",
       "      <td>410</td>\n",
       "      <td>1788</td>\n",
       "      <td>1788</td>\n",
       "      <td>0</td>\n",
       "      <td>0</td>\n",
       "      <td>15.0</td>\n",
       "      <td>0.0</td>\n",
       "      <td>9.0</td>\n",
       "      <td>30.0</td>\n",
       "      <td>1213</td>\n",
       "      <td>0</td>\n",
       "      <td>1</td>\n",
       "      <td>421</td>\n",
       "    </tr>\n",
       "    <tr>\n",
       "      <th>3</th>\n",
       "      <td>CZ87lCEDKmbk7EXCy6Kh0zopNJxoEBTfWq9Eq9Az+28=</td>\n",
       "      <td>32</td>\n",
       "      <td>195</td>\n",
       "      <td>894</td>\n",
       "      <td>894</td>\n",
       "      <td>0</td>\n",
       "      <td>0</td>\n",
       "      <td>13.0</td>\n",
       "      <td>0.0</td>\n",
       "      <td>3.0</td>\n",
       "      <td>20.0</td>\n",
       "      <td>1674</td>\n",
       "      <td>0</td>\n",
       "      <td>1</td>\n",
       "      <td>217</td>\n",
       "    </tr>\n",
       "    <tr>\n",
       "      <th>4</th>\n",
       "      <td>hCqnh1Sv8tXwSFHSw4ZGql6MwI31g+ahsszfmVTAE1g=</td>\n",
       "      <td>38</td>\n",
       "      <td>410</td>\n",
       "      <td>1788</td>\n",
       "      <td>1788</td>\n",
       "      <td>0</td>\n",
       "      <td>0</td>\n",
       "      <td>5.0</td>\n",
       "      <td>1.0</td>\n",
       "      <td>3.0</td>\n",
       "      <td>50.0</td>\n",
       "      <td>951</td>\n",
       "      <td>0</td>\n",
       "      <td>0</td>\n",
       "      <td>431</td>\n",
       "    </tr>\n",
       "    <tr>\n",
       "      <th>5</th>\n",
       "      <td>ezv3cTcVQSMKv2IyVSQrIwfqjm4A3BVcMVvso6cVpwk=</td>\n",
       "      <td>32</td>\n",
       "      <td>180</td>\n",
       "      <td>536</td>\n",
       "      <td>536</td>\n",
       "      <td>0</td>\n",
       "      <td>0</td>\n",
       "      <td>21.0</td>\n",
       "      <td>0.0</td>\n",
       "      <td>9.0</td>\n",
       "      <td>20.0</td>\n",
       "      <td>183</td>\n",
       "      <td>0</td>\n",
       "      <td>0</td>\n",
       "      <td>207</td>\n",
       "    </tr>\n",
       "    <tr>\n",
       "      <th>6</th>\n",
       "      <td>RqoXgu0eHNS8VT2nFmhYTFIqanKgoWDILzZcWDEPusY=</td>\n",
       "      <td>32</td>\n",
       "      <td>180</td>\n",
       "      <td>536</td>\n",
       "      <td>536</td>\n",
       "      <td>0</td>\n",
       "      <td>0</td>\n",
       "      <td>21.0</td>\n",
       "      <td>0.0</td>\n",
       "      <td>3.0</td>\n",
       "      <td>20.0</td>\n",
       "      <td>1031</td>\n",
       "      <td>0</td>\n",
       "      <td>0</td>\n",
       "      <td>210</td>\n",
       "    </tr>\n",
       "  </tbody>\n",
       "</table>\n",
       "</div>"
      ],
      "text/plain": [
       "                                           msno payment_method_id  \\\n",
       "1  /IkS3fIO/BRhlMFFErSgrtpqzedcrwnW/FUbaB1E8JM=                38   \n",
       "3  CZ87lCEDKmbk7EXCy6Kh0zopNJxoEBTfWq9Eq9Az+28=                32   \n",
       "4  hCqnh1Sv8tXwSFHSw4ZGql6MwI31g+ahsszfmVTAE1g=                38   \n",
       "5  ezv3cTcVQSMKv2IyVSQrIwfqjm4A3BVcMVvso6cVpwk=                32   \n",
       "6  RqoXgu0eHNS8VT2nFmhYTFIqanKgoWDILzZcWDEPusY=                32   \n",
       "\n",
       "   payment_plan_days  plan_list_price  actual_amount_paid is_auto_renew  \\\n",
       "1                410             1788                1788             0   \n",
       "3                195              894                 894             0   \n",
       "4                410             1788                1788             0   \n",
       "5                180              536                 536             0   \n",
       "6                180              536                 536             0   \n",
       "\n",
       "  is_cancel  city gender registered_via new_bd  mem_duration  \\\n",
       "1         0  15.0    0.0            9.0   30.0          1213   \n",
       "3         0  13.0    0.0            3.0   20.0          1674   \n",
       "4         0   5.0    1.0            3.0   50.0           951   \n",
       "5         0  21.0    0.0            9.0   20.0           183   \n",
       "6         0  21.0    0.0            3.0   20.0          1031   \n",
       "\n",
       "  plan_actual_price is_churn  trdate_diff_from_maxdate  \n",
       "1                 0        1                       421  \n",
       "3                 0        1                       217  \n",
       "4                 0        0                       431  \n",
       "5                 0        0                       207  \n",
       "6                 0        0                       210  "
      ]
     },
     "execution_count": 29,
     "metadata": {},
     "output_type": "execute_result"
    }
   ],
   "source": [
    "df_5.head()"
   ]
  },
  {
   "cell_type": "code",
   "execution_count": 30,
   "metadata": {},
   "outputs": [],
   "source": [
    "scaler = StandardScaler()"
   ]
  },
  {
   "cell_type": "code",
   "execution_count": 31,
   "metadata": {
    "scrolled": true
   },
   "outputs": [
    {
     "name": "stderr",
     "output_type": "stream",
     "text": [
      "/home/jydev/anaconda3/lib/python3.6/site-packages/sklearn/preprocessing/data.py:617: DataConversionWarning: Data with input dtype int64 were all converted to float64 by StandardScaler.\n",
      "  return self.partial_fit(X, y)\n",
      "/home/jydev/anaconda3/lib/python3.6/site-packages/sklearn/base.py:462: DataConversionWarning: Data with input dtype int64 were all converted to float64 by StandardScaler.\n",
      "  return self.fit(X, **fit_params).transform(X)\n"
     ]
    }
   ],
   "source": [
    "tmp = pd.DataFrame(scaler.fit_transform(df_5.iloc[:,[2,3,4,11,14]]))\n",
    "tmp2 = df_5.iloc[:,[1,5,6,7,8,9,10,12]].copy()\n",
    "\n",
    "tmp.columns = df_5.iloc[:,[2,3,4,11,14]].columns\n",
    "df6 = pd.concat([tmp,tmp2.reset_index(drop=True)],axis = 1)"
   ]
  },
  {
   "cell_type": "code",
   "execution_count": 32,
   "metadata": {},
   "outputs": [
    {
     "name": "stdout",
     "output_type": "stream",
     "text": [
      "<class 'pandas.core.frame.DataFrame'>\n",
      "RangeIndex: 391421 entries, 0 to 391420\n",
      "Data columns (total 13 columns):\n",
      "payment_plan_days           391421 non-null float64\n",
      "plan_list_price             391421 non-null float64\n",
      "actual_amount_paid          391421 non-null float64\n",
      "mem_duration                391421 non-null float64\n",
      "trdate_diff_from_maxdate    391421 non-null float64\n",
      "payment_method_id           391421 non-null category\n",
      "is_auto_renew               391421 non-null category\n",
      "is_cancel                   391421 non-null category\n",
      "city                        391421 non-null category\n",
      "gender                      391421 non-null category\n",
      "registered_via              391421 non-null category\n",
      "new_bd                      391421 non-null category\n",
      "plan_actual_price           391421 non-null category\n",
      "dtypes: category(8), float64(5)\n",
      "memory usage: 17.9 MB\n"
     ]
    }
   ],
   "source": [
    "df6.info()"
   ]
  },
  {
   "cell_type": "code",
   "execution_count": 33,
   "metadata": {},
   "outputs": [],
   "source": [
    "# train test split\n",
    "train_vars, test_vars, train_labels, test_labels = train_test_split(df6, df_5['is_churn'], test_size=0.3, random_state=0)"
   ]
  },
  {
   "cell_type": "code",
   "execution_count": 34,
   "metadata": {},
   "outputs": [
    {
     "name": "stdout",
     "output_type": "stream",
     "text": [
      "Misclassified samples: 10805 out of 117427\n",
      "Accuracy: 0.91\n",
      "CPU times: user 26.4 s, sys: 108 ms, total: 26.5 s\n",
      "Wall time: 26.5 s\n"
     ]
    }
   ],
   "source": [
    "%%time\n",
    "RFT = RandomForestClassifier(n_estimators =100)\n",
    "RFT.fit(train_vars, train_labels) \n",
    "pred_labels = RFT.predict(test_vars)\n",
    "print('Misclassified samples: {} out of {}'.format((pred_labels != test_labels).sum(),len(test_labels)))\n",
    "print('Accuracy: %.2f' % accuracy_score(test_labels, pred_labels))"
   ]
  },
  {
   "cell_type": "code",
   "execution_count": 35,
   "metadata": {},
   "outputs": [],
   "source": [
    "from sklearn.model_selection import cross_val_predict\n",
    "cv_pred = cross_val_predict(RFT,df6, df_5['is_churn'], cv=10)"
   ]
  },
  {
   "cell_type": "code",
   "execution_count": 36,
   "metadata": {},
   "outputs": [
    {
     "name": "stdout",
     "output_type": "stream",
     "text": [
      "Misclassified samples: 36855 out of 391421\n",
      "CV Accuracy: 0.91\n"
     ]
    }
   ],
   "source": [
    "print('Misclassified samples: {} out of {}'.format((cv_pred != df_5['is_churn']).sum(),len(df_5)))\n",
    "print('CV Accuracy: %.2f' % accuracy_score(df_5['is_churn'], cv_pred))"
   ]
  },
  {
   "cell_type": "code",
   "execution_count": 37,
   "metadata": {
    "scrolled": true
   },
   "outputs": [
    {
     "data": {
      "text/plain": [
       "Index(['payment_plan_days', 'plan_list_price', 'actual_amount_paid',\n",
       "       'mem_duration', 'trdate_diff_from_maxdate', 'payment_method_id',\n",
       "       'is_auto_renew', 'is_cancel', 'city', 'gender', 'registered_via',\n",
       "       'new_bd', 'plan_actual_price'],\n",
       "      dtype='object')"
      ]
     },
     "execution_count": 37,
     "metadata": {},
     "output_type": "execute_result"
    }
   ],
   "source": [
    "train_vars.columns"
   ]
  },
  {
   "cell_type": "code",
   "execution_count": 38,
   "metadata": {},
   "outputs": [
    {
     "data": {
      "text/html": [
       "<div>\n",
       "<style scoped>\n",
       "    .dataframe tbody tr th:only-of-type {\n",
       "        vertical-align: middle;\n",
       "    }\n",
       "\n",
       "    .dataframe tbody tr th {\n",
       "        vertical-align: top;\n",
       "    }\n",
       "\n",
       "    .dataframe thead th {\n",
       "        text-align: right;\n",
       "    }\n",
       "</style>\n",
       "<table border=\"1\" class=\"dataframe\">\n",
       "  <thead>\n",
       "    <tr style=\"text-align: right;\">\n",
       "      <th></th>\n",
       "      <th>0</th>\n",
       "      <th>1</th>\n",
       "    </tr>\n",
       "  </thead>\n",
       "  <tbody>\n",
       "    <tr>\n",
       "      <th>3</th>\n",
       "      <td>mem_duration</td>\n",
       "      <td>0.341833</td>\n",
       "    </tr>\n",
       "    <tr>\n",
       "      <th>4</th>\n",
       "      <td>trdate_diff_from_maxdate</td>\n",
       "      <td>0.296168</td>\n",
       "    </tr>\n",
       "    <tr>\n",
       "      <th>8</th>\n",
       "      <td>city</td>\n",
       "      <td>0.10507</td>\n",
       "    </tr>\n",
       "    <tr>\n",
       "      <th>6</th>\n",
       "      <td>is_auto_renew</td>\n",
       "      <td>0.0713556</td>\n",
       "    </tr>\n",
       "    <tr>\n",
       "      <th>11</th>\n",
       "      <td>new_bd</td>\n",
       "      <td>0.0443075</td>\n",
       "    </tr>\n",
       "    <tr>\n",
       "      <th>5</th>\n",
       "      <td>payment_method_id</td>\n",
       "      <td>0.0313793</td>\n",
       "    </tr>\n",
       "    <tr>\n",
       "      <th>0</th>\n",
       "      <td>payment_plan_days</td>\n",
       "      <td>0.0247416</td>\n",
       "    </tr>\n",
       "    <tr>\n",
       "      <th>2</th>\n",
       "      <td>actual_amount_paid</td>\n",
       "      <td>0.0222264</td>\n",
       "    </tr>\n",
       "    <tr>\n",
       "      <th>1</th>\n",
       "      <td>plan_list_price</td>\n",
       "      <td>0.0212363</td>\n",
       "    </tr>\n",
       "    <tr>\n",
       "      <th>10</th>\n",
       "      <td>registered_via</td>\n",
       "      <td>0.0190502</td>\n",
       "    </tr>\n",
       "    <tr>\n",
       "      <th>9</th>\n",
       "      <td>gender</td>\n",
       "      <td>0.0160347</td>\n",
       "    </tr>\n",
       "    <tr>\n",
       "      <th>7</th>\n",
       "      <td>is_cancel</td>\n",
       "      <td>0.00578934</td>\n",
       "    </tr>\n",
       "    <tr>\n",
       "      <th>12</th>\n",
       "      <td>plan_actual_price</td>\n",
       "      <td>0.000808157</td>\n",
       "    </tr>\n",
       "  </tbody>\n",
       "</table>\n",
       "</div>"
      ],
      "text/plain": [
       "                           0            1\n",
       "3               mem_duration     0.341833\n",
       "4   trdate_diff_from_maxdate     0.296168\n",
       "8                       city      0.10507\n",
       "6              is_auto_renew    0.0713556\n",
       "11                    new_bd    0.0443075\n",
       "5          payment_method_id    0.0313793\n",
       "0          payment_plan_days    0.0247416\n",
       "2         actual_amount_paid    0.0222264\n",
       "1            plan_list_price    0.0212363\n",
       "10            registered_via    0.0190502\n",
       "9                     gender    0.0160347\n",
       "7                  is_cancel   0.00578934\n",
       "12         plan_actual_price  0.000808157"
      ]
     },
     "execution_count": 38,
     "metadata": {},
     "output_type": "execute_result"
    }
   ],
   "source": [
    "## rf 변수 중요도\n",
    "rf_imp = pd.DataFrame([train_vars.columns,RFT.feature_importances_]).transpose()\n",
    "rf_imp.sort_values(by = 1,ascending = False)"
   ]
  },
  {
   "cell_type": "code",
   "execution_count": 39,
   "metadata": {},
   "outputs": [
    {
     "data": {
      "text/plain": [
       "\"%%time\\nsinvecma = SVC()\\nsinvecma.fit(train_vars, train_labels) \\npred_labels = sinvecma.predict(test_vars)\\nprint('Misclassified samples: {} out of {}'.format((pred_labels != test_labels).sum(),len(test_labels)))\\nprint('Accuracy: %.2f' % accuracy_score(test_labels, pred_labels))\""
      ]
     },
     "execution_count": 39,
     "metadata": {},
     "output_type": "execute_result"
    }
   ],
   "source": [
    "##SCM 오래걸림 ,,,,\n",
    "'''%%time\n",
    "sinvecma = SVC()\n",
    "sinvecma.fit(train_vars, train_labels) \n",
    "pred_labels = sinvecma.predict(test_vars)\n",
    "print('Misclassified samples: {} out of {}'.format((pred_labels != test_labels).sum(),len(test_labels)))\n",
    "print('Accuracy: %.2f' % accuracy_score(test_labels, pred_labels))'''"
   ]
  },
  {
   "cell_type": "code",
   "execution_count": 40,
   "metadata": {},
   "outputs": [
    {
     "name": "stdout",
     "output_type": "stream",
     "text": [
      "Misclassified samples: 64100 out of 117427\n",
      "Accuracy: 0.45\n",
      "CPU times: user 2.34 s, sys: 2.6 s, total: 4.94 s\n",
      "Wall time: 1.04 s\n"
     ]
    }
   ],
   "source": [
    "%%time\n",
    "knn=KMeans(n_clusters=2)\n",
    "knn.fit(train_vars, train_labels) \n",
    "pred_labels = knn.predict(test_vars)\n",
    "print('Misclassified samples: {} out of {}'.format((pred_labels != test_labels).sum(),len(test_labels)))\n",
    "print('Accuracy: %.2f' % accuracy_score(test_labels, pred_labels))"
   ]
  },
  {
   "cell_type": "code",
   "execution_count": 41,
   "metadata": {},
   "outputs": [],
   "source": [
    "cv_pred_knn = cross_val_predict(knn,df6, df_5['is_churn'], cv=10)"
   ]
  },
  {
   "cell_type": "code",
   "execution_count": 42,
   "metadata": {},
   "outputs": [
    {
     "name": "stdout",
     "output_type": "stream",
     "text": [
      "Misclassified samples: 198165 out of 391421\n",
      "CV Accuracy: 0.49\n"
     ]
    }
   ],
   "source": [
    "print('Misclassified samples: {} out of {}'.format((cv_pred_knn != df_5['is_churn']).sum(),len(df_5)))\n",
    "print('CV Accuracy: %.2f' % accuracy_score(df_5['is_churn'], cv_pred_knn))"
   ]
  },
  {
   "cell_type": "code",
   "execution_count": 43,
   "metadata": {},
   "outputs": [
    {
     "name": "stderr",
     "output_type": "stream",
     "text": [
      "/home/jydev/anaconda3/lib/python3.6/site-packages/sklearn/linear_model/stochastic_gradient.py:144: FutureWarning: max_iter and tol parameters have been added in SGDClassifier in 0.19. If both are left unset, they default to max_iter=5 and tol=None. If tol is not None, max_iter defaults to max_iter=1000. From 0.21, default max_iter will be 1000, and default tol will be 1e-3.\n",
      "  FutureWarning)\n"
     ]
    },
    {
     "name": "stdout",
     "output_type": "stream",
     "text": [
      "Misclassified samples: 10418 out of 117427\n",
      "Accuracy: 0.91\n",
      "CPU times: user 426 ms, sys: 228 ms, total: 654 ms\n",
      "Wall time: 359 ms\n"
     ]
    }
   ],
   "source": [
    "%%time\n",
    "sgd=SGDClassifier()\n",
    "sgd.fit(train_vars, train_labels) \n",
    "sgd_pred_labels = sgd.predict(test_vars)\n",
    "print('Misclassified samples: {} out of {}'.format((sgd_pred_labels != test_labels).sum(),len(test_labels)))\n",
    "print('Accuracy: %.2f' % accuracy_score(test_labels, sgd_pred_labels))"
   ]
  },
  {
   "cell_type": "code",
   "execution_count": 44,
   "metadata": {},
   "outputs": [
    {
     "name": "stderr",
     "output_type": "stream",
     "text": [
      "/home/jydev/anaconda3/lib/python3.6/site-packages/sklearn/linear_model/stochastic_gradient.py:144: FutureWarning: max_iter and tol parameters have been added in SGDClassifier in 0.19. If both are left unset, they default to max_iter=5 and tol=None. If tol is not None, max_iter defaults to max_iter=1000. From 0.21, default max_iter will be 1000, and default tol will be 1e-3.\n",
      "  FutureWarning)\n",
      "/home/jydev/anaconda3/lib/python3.6/site-packages/sklearn/linear_model/stochastic_gradient.py:144: FutureWarning: max_iter and tol parameters have been added in SGDClassifier in 0.19. If both are left unset, they default to max_iter=5 and tol=None. If tol is not None, max_iter defaults to max_iter=1000. From 0.21, default max_iter will be 1000, and default tol will be 1e-3.\n",
      "  FutureWarning)\n",
      "/home/jydev/anaconda3/lib/python3.6/site-packages/sklearn/linear_model/stochastic_gradient.py:144: FutureWarning: max_iter and tol parameters have been added in SGDClassifier in 0.19. If both are left unset, they default to max_iter=5 and tol=None. If tol is not None, max_iter defaults to max_iter=1000. From 0.21, default max_iter will be 1000, and default tol will be 1e-3.\n",
      "  FutureWarning)\n",
      "/home/jydev/anaconda3/lib/python3.6/site-packages/sklearn/linear_model/stochastic_gradient.py:144: FutureWarning: max_iter and tol parameters have been added in SGDClassifier in 0.19. If both are left unset, they default to max_iter=5 and tol=None. If tol is not None, max_iter defaults to max_iter=1000. From 0.21, default max_iter will be 1000, and default tol will be 1e-3.\n",
      "  FutureWarning)\n",
      "/home/jydev/anaconda3/lib/python3.6/site-packages/sklearn/linear_model/stochastic_gradient.py:144: FutureWarning: max_iter and tol parameters have been added in SGDClassifier in 0.19. If both are left unset, they default to max_iter=5 and tol=None. If tol is not None, max_iter defaults to max_iter=1000. From 0.21, default max_iter will be 1000, and default tol will be 1e-3.\n",
      "  FutureWarning)\n",
      "/home/jydev/anaconda3/lib/python3.6/site-packages/sklearn/linear_model/stochastic_gradient.py:144: FutureWarning: max_iter and tol parameters have been added in SGDClassifier in 0.19. If both are left unset, they default to max_iter=5 and tol=None. If tol is not None, max_iter defaults to max_iter=1000. From 0.21, default max_iter will be 1000, and default tol will be 1e-3.\n",
      "  FutureWarning)\n",
      "/home/jydev/anaconda3/lib/python3.6/site-packages/sklearn/linear_model/stochastic_gradient.py:144: FutureWarning: max_iter and tol parameters have been added in SGDClassifier in 0.19. If both are left unset, they default to max_iter=5 and tol=None. If tol is not None, max_iter defaults to max_iter=1000. From 0.21, default max_iter will be 1000, and default tol will be 1e-3.\n",
      "  FutureWarning)\n",
      "/home/jydev/anaconda3/lib/python3.6/site-packages/sklearn/linear_model/stochastic_gradient.py:144: FutureWarning: max_iter and tol parameters have been added in SGDClassifier in 0.19. If both are left unset, they default to max_iter=5 and tol=None. If tol is not None, max_iter defaults to max_iter=1000. From 0.21, default max_iter will be 1000, and default tol will be 1e-3.\n",
      "  FutureWarning)\n",
      "/home/jydev/anaconda3/lib/python3.6/site-packages/sklearn/linear_model/stochastic_gradient.py:144: FutureWarning: max_iter and tol parameters have been added in SGDClassifier in 0.19. If both are left unset, they default to max_iter=5 and tol=None. If tol is not None, max_iter defaults to max_iter=1000. From 0.21, default max_iter will be 1000, and default tol will be 1e-3.\n",
      "  FutureWarning)\n",
      "/home/jydev/anaconda3/lib/python3.6/site-packages/sklearn/linear_model/stochastic_gradient.py:144: FutureWarning: max_iter and tol parameters have been added in SGDClassifier in 0.19. If both are left unset, they default to max_iter=5 and tol=None. If tol is not None, max_iter defaults to max_iter=1000. From 0.21, default max_iter will be 1000, and default tol will be 1e-3.\n",
      "  FutureWarning)\n"
     ]
    }
   ],
   "source": [
    "cv_pred_sgd = cross_val_predict(sgd,df6, df_5['is_churn'], cv=10)"
   ]
  },
  {
   "cell_type": "code",
   "execution_count": 45,
   "metadata": {},
   "outputs": [
    {
     "name": "stdout",
     "output_type": "stream",
     "text": [
      "Misclassified samples: 198165 out of 391421\n",
      "CV Accuracy: 0.83\n"
     ]
    }
   ],
   "source": [
    "print('Misclassified samples: {} out of {}'.format((cv_pred_knn != df_5['is_churn']).sum(),len(df_5)))\n",
    "print('CV Accuracy: %.2f' % accuracy_score(df_5['is_churn'], cv_pred_sgd))"
   ]
  },
  {
   "cell_type": "code",
   "execution_count": 46,
   "metadata": {},
   "outputs": [
    {
     "name": "stderr",
     "output_type": "stream",
     "text": [
      "/home/jydev/anaconda3/lib/python3.6/site-packages/sklearn/linear_model/logistic.py:432: FutureWarning: Default solver will be changed to 'lbfgs' in 0.22. Specify a solver to silence this warning.\n",
      "  FutureWarning)\n"
     ]
    },
    {
     "name": "stdout",
     "output_type": "stream",
     "text": [
      "Misclassified samples: 10307 out of 117427\n",
      "Accuracy: 0.91\n",
      "CPU times: user 5.37 s, sys: 258 ms, total: 5.63 s\n",
      "Wall time: 5.3 s\n"
     ]
    }
   ],
   "source": [
    "%%time\n",
    "lr = LogisticRegression(C=0.1, penalty='l1', random_state=0) # Lasso regression\n",
    "lr.fit(train_vars, train_labels) # 학습\n",
    "lr_pred_labels = lr.predict(test_vars)\n",
    "print('Misclassified samples: {} out of {}'.format((lr_pred_labels != test_labels).sum(),len(test_labels)))\n",
    "print('Accuracy: %.2f' % accuracy_score(test_labels, lr_pred_labels))"
   ]
  },
  {
   "cell_type": "code",
   "execution_count": 47,
   "metadata": {},
   "outputs": [
    {
     "name": "stderr",
     "output_type": "stream",
     "text": [
      "/home/jydev/anaconda3/lib/python3.6/site-packages/sklearn/linear_model/logistic.py:432: FutureWarning: Default solver will be changed to 'lbfgs' in 0.22. Specify a solver to silence this warning.\n",
      "  FutureWarning)\n",
      "/home/jydev/anaconda3/lib/python3.6/site-packages/sklearn/linear_model/logistic.py:432: FutureWarning: Default solver will be changed to 'lbfgs' in 0.22. Specify a solver to silence this warning.\n",
      "  FutureWarning)\n",
      "/home/jydev/anaconda3/lib/python3.6/site-packages/sklearn/linear_model/logistic.py:432: FutureWarning: Default solver will be changed to 'lbfgs' in 0.22. Specify a solver to silence this warning.\n",
      "  FutureWarning)\n",
      "/home/jydev/anaconda3/lib/python3.6/site-packages/sklearn/linear_model/logistic.py:432: FutureWarning: Default solver will be changed to 'lbfgs' in 0.22. Specify a solver to silence this warning.\n",
      "  FutureWarning)\n",
      "/home/jydev/anaconda3/lib/python3.6/site-packages/sklearn/linear_model/logistic.py:432: FutureWarning: Default solver will be changed to 'lbfgs' in 0.22. Specify a solver to silence this warning.\n",
      "  FutureWarning)\n",
      "/home/jydev/anaconda3/lib/python3.6/site-packages/sklearn/linear_model/logistic.py:432: FutureWarning: Default solver will be changed to 'lbfgs' in 0.22. Specify a solver to silence this warning.\n",
      "  FutureWarning)\n",
      "/home/jydev/anaconda3/lib/python3.6/site-packages/sklearn/linear_model/logistic.py:432: FutureWarning: Default solver will be changed to 'lbfgs' in 0.22. Specify a solver to silence this warning.\n",
      "  FutureWarning)\n",
      "/home/jydev/anaconda3/lib/python3.6/site-packages/sklearn/linear_model/logistic.py:432: FutureWarning: Default solver will be changed to 'lbfgs' in 0.22. Specify a solver to silence this warning.\n",
      "  FutureWarning)\n",
      "/home/jydev/anaconda3/lib/python3.6/site-packages/sklearn/linear_model/logistic.py:432: FutureWarning: Default solver will be changed to 'lbfgs' in 0.22. Specify a solver to silence this warning.\n",
      "  FutureWarning)\n",
      "/home/jydev/anaconda3/lib/python3.6/site-packages/sklearn/linear_model/logistic.py:432: FutureWarning: Default solver will be changed to 'lbfgs' in 0.22. Specify a solver to silence this warning.\n",
      "  FutureWarning)\n"
     ]
    }
   ],
   "source": [
    "cv_pred_lr = cross_val_predict(lr,df6, df_5['is_churn'], cv=10)"
   ]
  },
  {
   "cell_type": "code",
   "execution_count": 48,
   "metadata": {},
   "outputs": [
    {
     "name": "stdout",
     "output_type": "stream",
     "text": [
      "Misclassified samples: 198165 out of 391421\n",
      "CV Accuracy: 0.91\n"
     ]
    }
   ],
   "source": [
    "print('Misclassified samples: {} out of {}'.format((cv_pred_knn != df_5['is_churn']).sum(),len(df_5)))\n",
    "print('CV Accuracy: %.2f' % accuracy_score(df_5['is_churn'], cv_pred_lr))"
   ]
  },
  {
   "cell_type": "code",
   "execution_count": 49,
   "metadata": {
    "scrolled": true
   },
   "outputs": [
    {
     "data": {
      "text/html": [
       "<div>\n",
       "<style scoped>\n",
       "    .dataframe tbody tr th:only-of-type {\n",
       "        vertical-align: middle;\n",
       "    }\n",
       "\n",
       "    .dataframe tbody tr th {\n",
       "        vertical-align: top;\n",
       "    }\n",
       "\n",
       "    .dataframe thead th {\n",
       "        text-align: right;\n",
       "    }\n",
       "</style>\n",
       "<table border=\"1\" class=\"dataframe\">\n",
       "  <thead>\n",
       "    <tr style=\"text-align: right;\">\n",
       "      <th></th>\n",
       "      <th>0</th>\n",
       "      <th>1</th>\n",
       "    </tr>\n",
       "  </thead>\n",
       "  <tbody>\n",
       "    <tr>\n",
       "      <th>7</th>\n",
       "      <td>is_cancel</td>\n",
       "      <td>1.78354</td>\n",
       "    </tr>\n",
       "    <tr>\n",
       "      <th>0</th>\n",
       "      <td>payment_plan_days</td>\n",
       "      <td>0.359556</td>\n",
       "    </tr>\n",
       "    <tr>\n",
       "      <th>2</th>\n",
       "      <td>actual_amount_paid</td>\n",
       "      <td>0.0438605</td>\n",
       "    </tr>\n",
       "    <tr>\n",
       "      <th>5</th>\n",
       "      <td>payment_method_id</td>\n",
       "      <td>0.0056867</td>\n",
       "    </tr>\n",
       "    <tr>\n",
       "      <th>9</th>\n",
       "      <td>gender</td>\n",
       "      <td>0.00410683</td>\n",
       "    </tr>\n",
       "    <tr>\n",
       "      <th>11</th>\n",
       "      <td>new_bd</td>\n",
       "      <td>0.00188938</td>\n",
       "    </tr>\n",
       "    <tr>\n",
       "      <th>8</th>\n",
       "      <td>city</td>\n",
       "      <td>-0.00414054</td>\n",
       "    </tr>\n",
       "    <tr>\n",
       "      <th>10</th>\n",
       "      <td>registered_via</td>\n",
       "      <td>-0.0125387</td>\n",
       "    </tr>\n",
       "    <tr>\n",
       "      <th>4</th>\n",
       "      <td>trdate_diff_from_maxdate</td>\n",
       "      <td>-0.0397884</td>\n",
       "    </tr>\n",
       "    <tr>\n",
       "      <th>3</th>\n",
       "      <td>mem_duration</td>\n",
       "      <td>-0.0751204</td>\n",
       "    </tr>\n",
       "    <tr>\n",
       "      <th>1</th>\n",
       "      <td>plan_list_price</td>\n",
       "      <td>-0.21184</td>\n",
       "    </tr>\n",
       "    <tr>\n",
       "      <th>12</th>\n",
       "      <td>plan_actual_price</td>\n",
       "      <td>-0.417923</td>\n",
       "    </tr>\n",
       "    <tr>\n",
       "      <th>6</th>\n",
       "      <td>is_auto_renew</td>\n",
       "      <td>-2.19442</td>\n",
       "    </tr>\n",
       "  </tbody>\n",
       "</table>\n",
       "</div>"
      ],
      "text/plain": [
       "                           0           1\n",
       "7                  is_cancel     1.78354\n",
       "0          payment_plan_days    0.359556\n",
       "2         actual_amount_paid   0.0438605\n",
       "5          payment_method_id   0.0056867\n",
       "9                     gender  0.00410683\n",
       "11                    new_bd  0.00188938\n",
       "8                       city -0.00414054\n",
       "10            registered_via  -0.0125387\n",
       "4   trdate_diff_from_maxdate  -0.0397884\n",
       "3               mem_duration  -0.0751204\n",
       "1            plan_list_price    -0.21184\n",
       "12         plan_actual_price   -0.417923\n",
       "6              is_auto_renew    -2.19442"
      ]
     },
     "execution_count": 49,
     "metadata": {},
     "output_type": "execute_result"
    }
   ],
   "source": [
    "#coef\n",
    "lr_imp = pd.DataFrame([train_vars.columns,lr.coef_[0]]).transpose()\n",
    "lr_imp.sort_values(by = 1,ascending = False)\n"
   ]
  },
  {
   "cell_type": "code",
   "execution_count": 50,
   "metadata": {},
   "outputs": [
    {
     "data": {
      "text/html": [
       "<div>\n",
       "<style scoped>\n",
       "    .dataframe tbody tr th:only-of-type {\n",
       "        vertical-align: middle;\n",
       "    }\n",
       "\n",
       "    .dataframe tbody tr th {\n",
       "        vertical-align: top;\n",
       "    }\n",
       "\n",
       "    .dataframe thead th {\n",
       "        text-align: right;\n",
       "    }\n",
       "</style>\n",
       "<table border=\"1\" class=\"dataframe\">\n",
       "  <thead>\n",
       "    <tr style=\"text-align: right;\">\n",
       "      <th></th>\n",
       "      <th>0</th>\n",
       "      <th>1</th>\n",
       "    </tr>\n",
       "  </thead>\n",
       "  <tbody>\n",
       "    <tr>\n",
       "      <th>6</th>\n",
       "      <td>is_auto_renew</td>\n",
       "      <td>2.19442</td>\n",
       "    </tr>\n",
       "    <tr>\n",
       "      <th>7</th>\n",
       "      <td>is_cancel</td>\n",
       "      <td>1.78354</td>\n",
       "    </tr>\n",
       "    <tr>\n",
       "      <th>12</th>\n",
       "      <td>plan_actual_price</td>\n",
       "      <td>0.417923</td>\n",
       "    </tr>\n",
       "    <tr>\n",
       "      <th>0</th>\n",
       "      <td>payment_plan_days</td>\n",
       "      <td>0.359556</td>\n",
       "    </tr>\n",
       "    <tr>\n",
       "      <th>1</th>\n",
       "      <td>plan_list_price</td>\n",
       "      <td>0.21184</td>\n",
       "    </tr>\n",
       "    <tr>\n",
       "      <th>3</th>\n",
       "      <td>mem_duration</td>\n",
       "      <td>0.0751204</td>\n",
       "    </tr>\n",
       "    <tr>\n",
       "      <th>2</th>\n",
       "      <td>actual_amount_paid</td>\n",
       "      <td>0.0438605</td>\n",
       "    </tr>\n",
       "    <tr>\n",
       "      <th>4</th>\n",
       "      <td>trdate_diff_from_maxdate</td>\n",
       "      <td>0.0397884</td>\n",
       "    </tr>\n",
       "    <tr>\n",
       "      <th>10</th>\n",
       "      <td>registered_via</td>\n",
       "      <td>0.0125387</td>\n",
       "    </tr>\n",
       "    <tr>\n",
       "      <th>5</th>\n",
       "      <td>payment_method_id</td>\n",
       "      <td>0.0056867</td>\n",
       "    </tr>\n",
       "    <tr>\n",
       "      <th>8</th>\n",
       "      <td>city</td>\n",
       "      <td>0.00414054</td>\n",
       "    </tr>\n",
       "    <tr>\n",
       "      <th>9</th>\n",
       "      <td>gender</td>\n",
       "      <td>0.00410683</td>\n",
       "    </tr>\n",
       "    <tr>\n",
       "      <th>11</th>\n",
       "      <td>new_bd</td>\n",
       "      <td>0.00188938</td>\n",
       "    </tr>\n",
       "  </tbody>\n",
       "</table>\n",
       "</div>"
      ],
      "text/plain": [
       "                           0           1\n",
       "6              is_auto_renew     2.19442\n",
       "7                  is_cancel     1.78354\n",
       "12         plan_actual_price    0.417923\n",
       "0          payment_plan_days    0.359556\n",
       "1            plan_list_price     0.21184\n",
       "3               mem_duration   0.0751204\n",
       "2         actual_amount_paid   0.0438605\n",
       "4   trdate_diff_from_maxdate   0.0397884\n",
       "10            registered_via   0.0125387\n",
       "5          payment_method_id   0.0056867\n",
       "8                       city  0.00414054\n",
       "9                     gender  0.00410683\n",
       "11                    new_bd  0.00188938"
      ]
     },
     "execution_count": 50,
     "metadata": {},
     "output_type": "execute_result"
    }
   ],
   "source": [
    "#coef 절대값 변수 정규화 안되어있어서 무의미\n",
    "lr_imp = pd.DataFrame([train_vars.columns,abs(lr.coef_[0])]).transpose()\n",
    "lr_imp.sort_values(by = 1,ascending = False)"
   ]
  },
  {
   "cell_type": "code",
   "execution_count": null,
   "metadata": {},
   "outputs": [],
   "source": []
  },
  {
   "cell_type": "code",
   "execution_count": 51,
   "metadata": {},
   "outputs": [],
   "source": [
    "##ss ans sp"
   ]
  },
  {
   "cell_type": "code",
   "execution_count": 52,
   "metadata": {},
   "outputs": [
    {
     "data": {
      "text/plain": [
       "array([0, 1])"
      ]
     },
     "execution_count": 52,
     "metadata": {},
     "output_type": "execute_result"
    }
   ],
   "source": [
    "RFT.classes_"
   ]
  },
  {
   "cell_type": "code",
   "execution_count": 65,
   "metadata": {},
   "outputs": [],
   "source": [
    "def cm(predicted_values):\n",
    "    id_list = pd.DataFrame(df6.index)  \n",
    "    preds =  pd.DataFrame(predicted_values)\n",
    "    actual = pd.DataFrame(df_5['is_churn'])\n",
    "    pred_df = pd.concat([id_list,actual,preds],axis=1)\n",
    "    pred_df.columns = ['id','Actual Class','Predicted Class']\n",
    "    cm = pd.crosstab(index=pred_df['Actual Class'], columns=pred_df['Predicted Class'])\n",
    "    return cm\n",
    "\n",
    "CLASS_LIST = RFT.classes_\n",
    "\n",
    "def ss_and_sp(cm):\n",
    "    first_index = CLASS_LIST[1]\n",
    "    second_index =CLASS_LIST[0]  \n",
    "    sensitivity = cm[first_index][first_index] / (cm[first_index][first_index]+ cm[second_index][first_index]) \n",
    "    specificity = cm[second_index][second_index] / (cm[first_index][second_index]+ cm[second_index][second_index]) \n",
    "    return sensitivity, specificity\n",
    "\n",
    "def pr_and_fnr(cm):\n",
    "    first_index = CLASS_LIST[1]\n",
    "    second_index =CLASS_LIST[0]  \n",
    "    precision = cm[first_index][first_index] / (cm[first_index][first_index]+ cm[first_index][second_index]) \n",
    "    fnr = cm[second_index][first_index] / (cm[second_index][first_index]+ cm[first_index][first_index]) \n",
    "    return precision, fnr"
   ]
  },
  {
   "cell_type": "code",
   "execution_count": 61,
   "metadata": {},
   "outputs": [],
   "source": [
    "    first_index = CLASS_LIST[1]\n",
    "    second_index =CLASS_LIST[0]  "
   ]
  },
  {
   "cell_type": "code",
   "execution_count": 67,
   "metadata": {},
   "outputs": [
    {
     "data": {
      "text/html": [
       "<div>\n",
       "<style scoped>\n",
       "    .dataframe tbody tr th:only-of-type {\n",
       "        vertical-align: middle;\n",
       "    }\n",
       "\n",
       "    .dataframe tbody tr th {\n",
       "        vertical-align: top;\n",
       "    }\n",
       "\n",
       "    .dataframe thead th {\n",
       "        text-align: right;\n",
       "    }\n",
       "</style>\n",
       "<table border=\"1\" class=\"dataframe\">\n",
       "  <thead>\n",
       "    <tr style=\"text-align: right;\">\n",
       "      <th>Predicted Class</th>\n",
       "      <th>0.0</th>\n",
       "      <th>1.0</th>\n",
       "    </tr>\n",
       "    <tr>\n",
       "      <th>Actual Class</th>\n",
       "      <th></th>\n",
       "      <th></th>\n",
       "    </tr>\n",
       "  </thead>\n",
       "  <tbody>\n",
       "    <tr>\n",
       "      <th>0</th>\n",
       "      <td>119892</td>\n",
       "      <td>1466</td>\n",
       "    </tr>\n",
       "    <tr>\n",
       "      <th>1</th>\n",
       "      <td>18781</td>\n",
       "      <td>880</td>\n",
       "    </tr>\n",
       "  </tbody>\n",
       "</table>\n",
       "</div>"
      ],
      "text/plain": [
       "Predicted Class     0.0   1.0\n",
       "Actual Class                 \n",
       "0                119892  1466\n",
       "1                 18781   880"
      ]
     },
     "execution_count": 67,
     "metadata": {},
     "output_type": "execute_result"
    }
   ],
   "source": [
    "cm(cv_pred_lr)"
   ]
  },
  {
   "cell_type": "code",
   "execution_count": 55,
   "metadata": {},
   "outputs": [
    {
     "name": "stdout",
     "output_type": "stream",
     "text": [
      "CV ss,sp of RandomForestClassifier: 0.095, 0.965\n",
      "CV ss,sp of KNN: 0.479, 0.487\n",
      "CV ss,sp of SGD: 0.113, 0.872\n",
      "CV ss,sp of Linear Regression: 0.045, 0.988\n"
     ]
    }
   ],
   "source": [
    "print(\"CV ss,sp of RandomForestClassifier: {:.3f}, {:.3f}\".format(ss_and_sp(cm(cv_pred))[0], ss_and_sp(cm(cv_pred))[1]))\n",
    "print(\"CV ss,sp of KNN: {:.3f}, {:.3f}\".format(ss_and_sp(cm(cv_pred_knn))[0], ss_and_sp(cm(cv_pred_knn))[1]))\n",
    "print(\"CV ss,sp of SGD: {:.3f}, {:.3f}\".format(ss_and_sp(cm(cv_pred_sgd))[0], ss_and_sp(cm(cv_pred_sgd))[1]))\n",
    "print(\"CV ss,sp of Linear Regression: {:.3f}, {:.3f}\".format(ss_and_sp(cm(cv_pred_lr))[0], ss_and_sp(cm(cv_pred_lr))[1]))"
   ]
  },
  {
   "cell_type": "code",
   "execution_count": 76,
   "metadata": {},
   "outputs": [
    {
     "data": {
      "text/plain": [
       "0.08744037749635303"
      ]
     },
     "execution_count": 76,
     "metadata": {},
     "output_type": "execute_result"
    }
   ],
   "source": [
    "(df_5['is_churn'].astype(int)).sum()/len(df_5['is_churn'])"
   ]
  },
  {
   "cell_type": "code",
   "execution_count": 66,
   "metadata": {},
   "outputs": [
    {
     "name": "stdout",
     "output_type": "stream",
     "text": [
      "CV pr,fnr of RandomForestClassifier: 0.303, 0.905\n",
      "CV pr,fnr of KNN: 0.131, 0.521\n",
      "CV pr,fnr of SGD: 0.125, 0.887\n",
      "CV pr,fnr of Linear Regression: 0.375, 0.955\n"
     ]
    }
   ],
   "source": [
    "print(\"CV pr,fnr of RandomForestClassifier: {:.3f}, {:.3f}\".format(pr_and_fnr(cm(cv_pred))[0], pr_and_fnr(cm(cv_pred))[1]))\n",
    "print(\"CV pr,fnr of KNN: {:.3f}, {:.3f}\".format(pr_and_fnr(cm(cv_pred_knn))[0], pr_and_fnr(cm(cv_pred_knn))[1]))\n",
    "print(\"CV pr,fnr of SGD: {:.3f}, {:.3f}\".format(pr_and_fnr(cm(cv_pred_sgd))[0], pr_and_fnr(cm(cv_pred_sgd))[1]))\n",
    "print(\"CV pr,fnr of Linear Regression: {:.3f}, {:.3f}\".format(pr_and_fnr(cm(cv_pred_lr))[0], pr_and_fnr(cm(cv_pred_lr))[1]))"
   ]
  },
  {
   "cell_type": "code",
   "execution_count": 56,
   "metadata": {},
   "outputs": [
    {
     "name": "stdout",
     "output_type": "stream",
     "text": [
      "---RandomForestClassifier---\n",
      "Misclassified samples: 36855 out of 391421\n",
      "CV Accuracy: 0.91\n",
      "\n",
      "---KNN---\n",
      "Misclassified samples: 198165 out of 391421\n",
      "CV Accuracy: 0.49\n",
      "\n",
      "---SGD---\n",
      "Misclassified samples: 68387 out of 391421\n",
      "CV Accuracy: 0.83\n",
      "\n",
      "---LR---\n",
      "Misclassified samples: 34494 out of 391421\n",
      "CV Accuracy: 0.91\n",
      "\n"
     ]
    }
   ],
   "source": [
    "print(\"---RandomForestClassifier---\")\n",
    "print('Misclassified samples: {} out of {}'.format((cv_pred != df_5['is_churn']).sum(),len(df_5)))\n",
    "print('CV Accuracy: %.2f\\n' % accuracy_score(df_5['is_churn'], cv_pred))\n",
    "\n",
    "print(\"---KNN---\")\n",
    "print('Misclassified samples: {} out of {}'.format((cv_pred_knn != df_5['is_churn']).sum(),len(df_5)))\n",
    "print('CV Accuracy: %.2f\\n' % accuracy_score(df_5['is_churn'], cv_pred_knn))\n",
    "\n",
    "print(\"---SGD---\")\n",
    "print('Misclassified samples: {} out of {}'.format((cv_pred_sgd != df_5['is_churn']).sum(),len(df_5)))\n",
    "print('CV Accuracy: %.2f\\n' % accuracy_score(df_5['is_churn'], cv_pred_sgd))\n",
    "\n",
    "print(\"---LR---\")\n",
    "print('Misclassified samples: {} out of {}'.format((cv_pred_lr != df_5['is_churn']).sum(),len(df_5)))\n",
    "print('CV Accuracy: %.2f\\n' % accuracy_score(df_5['is_churn'], cv_pred_lr))"
   ]
  },
  {
   "cell_type": "code",
   "execution_count": 57,
   "metadata": {},
   "outputs": [
    {
     "name": "stdout",
     "output_type": "stream",
     "text": [
      "micro f1 score of RFC: 0.91\n",
      "\n",
      "micro f1 score of KNN: 0.49\n",
      "\n",
      "micro f1 score of SGD: 0.83\n",
      "\n",
      "micro f1 score of LR: 0.91\n",
      "\n"
     ]
    }
   ],
   "source": [
    "from sklearn.metrics import f1_score\n",
    "print('micro f1 score of RFC: %.2f\\n' %f1_score(df_5['is_churn'], cv_pred, average='micro'))\n",
    "print('micro f1 score of KNN: %.2f\\n' %f1_score(df_5['is_churn'], cv_pred_knn, average='micro'))\n",
    "print('micro f1 score of SGD: %.2f\\n' %f1_score(df_5['is_churn'], cv_pred_sgd, average='micro'))\n",
    "print('micro f1 score of LR: %.2f\\n' %f1_score(df_5['is_churn'], cv_pred_lr, average='micro'))"
   ]
  },
  {
   "cell_type": "code",
   "execution_count": 58,
   "metadata": {},
   "outputs": [
    {
     "data": {
      "text/plain": [
       "117068"
      ]
     },
     "execution_count": 58,
     "metadata": {},
     "output_type": "execute_result"
    }
   ],
   "source": [
    "cm(cv_pred)[0][0]"
   ]
  },
  {
   "cell_type": "code",
   "execution_count": 59,
   "metadata": {},
   "outputs": [
    {
     "data": {
      "text/plain": [
       "0.09506128884593866"
      ]
     },
     "execution_count": 59,
     "metadata": {},
     "output_type": "execute_result"
    }
   ],
   "source": [
    "1869/ (1869+17792 )"
   ]
  },
  {
   "cell_type": "code",
   "execution_count": 60,
   "metadata": {},
   "outputs": [
    {
     "data": {
      "text/plain": [
       "0.9644605217620593"
      ]
     },
     "execution_count": 60,
     "metadata": {},
     "output_type": "execute_result"
    }
   ],
   "source": [
    "117045 / (117045+4313)"
   ]
  },
  {
   "cell_type": "code",
   "execution_count": null,
   "metadata": {},
   "outputs": [],
   "source": []
  }
 ],
 "metadata": {
  "kernelspec": {
   "display_name": "Python 3",
   "language": "python",
   "name": "python3"
  },
  "language_info": {
   "codemirror_mode": {
    "name": "ipython",
    "version": 3
   },
   "file_extension": ".py",
   "mimetype": "text/x-python",
   "name": "python",
   "nbconvert_exporter": "python",
   "pygments_lexer": "ipython3",
   "version": "3.6.6"
  }
 },
 "nbformat": 4,
 "nbformat_minor": 2
}
