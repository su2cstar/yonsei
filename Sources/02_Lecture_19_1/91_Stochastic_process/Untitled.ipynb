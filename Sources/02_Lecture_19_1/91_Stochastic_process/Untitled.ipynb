{
 "cells": [
  {
   "cell_type": "code",
   "execution_count": 26,
   "metadata": {},
   "outputs": [],
   "source": [
    "import os\n",
    "import re\n",
    "import pandas as pd"
   ]
  },
  {
   "cell_type": "code",
   "execution_count": 27,
   "metadata": {},
   "outputs": [],
   "source": [
    "#Set the directory where pictures are saved\n",
    "path_dir = r'C:\\Users\\ahn92\\Dropbox\\TA_2019\\picture'"
   ]
  },
  {
   "cell_type": "code",
   "execution_count": 42,
   "metadata": {},
   "outputs": [],
   "source": [
    "#Make the csv file\n",
    "file_list = os.listdir(path_dir)\n",
    "flst = list(map(lambda x : x.replace('.','_').split('_'), file_list))\n",
    "f_df = pd.DataFrame(flst).iloc[:,:2]\n",
    "f_df.columns = ['Student_ID','Name']\n",
    "f_df.to_csv('Pic_Submit.csv',index=False)"
   ]
  }
 ],
 "metadata": {
  "kernelspec": {
   "display_name": "Python 3",
   "language": "python",
   "name": "python3"
  },
  "language_info": {
   "codemirror_mode": {
    "name": "ipython",
    "version": 3
   },
   "file_extension": ".py",
   "mimetype": "text/x-python",
   "name": "python",
   "nbconvert_exporter": "python",
   "pygments_lexer": "ipython3",
   "version": "3.6.5"
  }
 },
 "nbformat": 4,
 "nbformat_minor": 2
}
