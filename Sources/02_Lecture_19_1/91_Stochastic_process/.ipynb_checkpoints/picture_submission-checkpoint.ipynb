{
 "cells": [
  {
   "cell_type": "code",
   "execution_count": 2,
   "metadata": {},
   "outputs": [],
   "source": [
    "import os\n",
    "import pandas as pd"
   ]
  },
  {
   "cell_type": "code",
   "execution_count": 60,
   "metadata": {},
   "outputs": [],
   "source": [
    "#Set the directory where pictures are saved\n",
    "#path_dir = input('Input the path of pictures')\n",
    "path_dir = os.getcwd()\n",
    "#path_dir = r'C:\\Users\\ahn92\\Dropbox\\TA_2019\\picture'"
   ]
  },
  {
   "cell_type": "code",
   "execution_count": 61,
   "metadata": {},
   "outputs": [
    {
     "name": "stdout",
     "output_type": "stream",
     "text": [
      "Finished\n"
     ]
    }
   ],
   "source": [
    "#Make the csv file\n",
    "try:\n",
    "    file_list = os.listdir(path_dir)\n",
    "    flst = list(map(lambda x : x.replace('.','_').split('_'), file_list))\n",
    "    f_df = pd.DataFrame(flst).iloc[:,:2]\n",
    "    f_df.columns = ['Student_ID','Name']\n",
    "    f_df.to_csv('Pic_Submit.csv',index=False)\n",
    "    print('Finished')\n",
    "except:\n",
    "    print('Error Ocurred')"
   ]
  },
  {
   "cell_type": "code",
   "execution_count": 1,
   "metadata": {},
   "outputs": [
    {
     "name": "stdout",
     "output_type": "stream",
     "text": [
      "a\n"
     ]
    },
    {
     "data": {
      "text/plain": [
       "'a'"
      ]
     },
     "execution_count": 1,
     "metadata": {},
     "output_type": "execute_result"
    }
   ],
   "source": [
    "input('Press ENTER to EXIT')"
   ]
  }
 ],
 "metadata": {
  "kernelspec": {
   "display_name": "Python 3",
   "language": "python",
   "name": "python3"
  },
  "language_info": {
   "codemirror_mode": {
    "name": "ipython",
    "version": 3
   },
   "file_extension": ".py",
   "mimetype": "text/x-python",
   "name": "python",
   "nbconvert_exporter": "python",
   "pygments_lexer": "ipython3",
   "version": "3.6.5"
  }
 },
 "nbformat": 4,
 "nbformat_minor": 2
}
