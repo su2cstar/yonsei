{
 "cells": [
  {
   "cell_type": "code",
   "execution_count": 1,
   "metadata": {},
   "outputs": [],
   "source": [
    "import numpy as np\n",
    "import pandas as pd\n",
    "from scipy.linalg import sqrtm"
   ]
  },
  {
   "cell_type": "markdown",
   "metadata": {},
   "source": [
    "## Calculate the pmf and Derivatives\n",
    "FIrst we can make the pmf of y\n",
    "$$\n",
    "p_y(y) = \\pi \\cdot I(y=0) + (1-\\pi) \\frac{e^{-\\lambda} \\lambda^y}{y!}\n",
    "$$\n",
    "Let $\\theta = (\\lambda,\\pi)$ and $Y = (y_1 , \\dots , y_n)$ Then likelihood is,\n",
    "$$\n",
    "\\begin{align*}\n",
    "L(\\theta | Y) &= \\prod_{i=1}^{n}\\left[\\pi \\cdot I(y_i=0) + (1-\\pi)\\frac{e^{-\\lambda} \\lambda^{y_i}}{y_i!} \\right] \\\\\n",
    "&= \\prod_{y_i=0}\\left[\\pi + (1-\\pi)\\frac{e^{-\\lambda} \\lambda^{0}}{0!} \\right] \\prod_{y_i\\ne 0}\\left[ (1-\\pi)\\frac{e^{-\\lambda} \\lambda^{y_i}}{y_i!} \\right]\n",
    "\\end{align*}\n",
    "$$\n",
    "$N = \\sum_{k=0}^{6}n_k$, Then log likelihood $l(\\theta)$ is\n",
    "$$\n",
    "\\begin{align*}\n",
    "l(\\theta) &= \\sum_{y_i=0}log\\left[\\pi + (1-\\pi)\\frac{e^{-\\lambda} \\lambda^{0}}{0!} \\right] + \\sum_{y_i\\ne 0}log\\left[ (1-\\pi)\\frac{e^{-\\lambda} \\lambda^{y_i}}{y_i!} \\right]\\\\\n",
    "&=n_0 log \\left[ \\pi+(1-\\pi)e^{-\\lambda} \\right] + (N-n_0)\\left[ log(1-\\pi) -\\lambda \\right] + \\sum_{y_i \\ne 0}\\left[ y_i log \\lambda - log(y_i !) \\right]\n",
    "\\end{align*}\n",
    "$$\n",
    "Then, log likelihood function is "
   ]
  },
  {
   "cell_type": "code",
   "execution_count": 2,
   "metadata": {},
   "outputs": [],
   "source": [
    "def loglikelihood(lam,pi,Y):\n",
    "    n0 = sum(Y==0)\n",
    "    N = len(Y)\n",
    "    out = n0 * np.log(pi + (1-pi)*np.exp(-lam)) \\\n",
    "          + (N-n0)*(np.log(1-pi) - lam) \\\n",
    "          +(Y*np.log(lam)\\\n",
    "          - np.array(list(map(np.math.factorial,Y)))).sum() \n",
    "    return(out)"
   ]
  },
  {
   "cell_type": "markdown",
   "metadata": {},
   "source": [
    "First derivative is\n",
    "$$\n",
    "\\begin{align}\n",
    "\\frac{\\partial l(\\theta)}{\\partial \\lambda} & = (-n_0)\\cdot \\frac{(1-\\pi)e^{-\\lambda}}{\\pi + (1-\\pi)e^{-\\lambda}} -(N-n_0) + \\sum_{y_i \\ne 0}\\left( \\frac{y_i}{\\lambda}\\right)\\\\\n",
    "& = (-n_0)\\cdot \\frac{(1-\\pi)e^{-\\lambda}}{\\pi + (1-\\pi)e^{-\\lambda}} -(N-n_0) + \\sum_{y_i}\\left( \\frac{y_i}{\\lambda}\\right)\\\\\n",
    "\\frac{\\partial l(\\theta)}{\\partial \\pi} & = n_0 \\cdot \\frac{1-e^{-\\lambda}}{\\pi + (1-\\pi)e^{-\\lambda}} - (N-n_o)\\cdot \\frac{1}{1-\\pi}\n",
    "\\end{align}\n",
    "$$"
   ]
  },
  {
   "cell_type": "markdown",
   "metadata": {},
   "source": [
    "Second Derivatice is\n",
    "$$\n",
    "\\begin{align*}\n",
    "\\frac{\\partial^{2}l\\left(\\theta\\right)}{\\partial\\lambda^2} & =n_{0} \\cdot \\frac{\\pi\\left(1-\\pi\\right)e^{-\\lambda}}{\\left(\\pi+\\left(1-\\pi\\right)e^{-\\lambda}\\right)^{2}}-\\sum_{y_{i}\\neq0}\\frac{y_{i}}{\\lambda^{2}}\\\\\n",
    "& =n_{0} \\cdot \\frac{\\pi\\left(1-\\pi\\right)e^{-\\lambda}}{\\left(\\pi+\\left(1-\\pi\\right)e^{-\\lambda}\\right)^{2}}-\\sum_{y_{i}}\\frac{y_{i}}{\\lambda^{2}}\\\\\n",
    "\\frac{\\partial^{2}l\\left(\\theta\\right)}{\\partial\\pi^2} & =(-n_{0})\\cdot \\frac{\\left(1-e^{-\\lambda}\\right)^{2}}{\\left(\\pi+\\left(1-\\pi\\right)e^{-\\lambda}\\right)^{2}}-\\left(N-n_{0}\\right)\\frac{1}{\\left(1-\\pi\\right)^{2}}\\\\\n",
    "\\frac{\\partial^{2}l\\left(\\theta\\right)}{\\partial\\pi\\partial\\lambda} &=n_{0} \\cdot \\frac{e^{-\\lambda}}{\\left(\\pi+\\left(1-\\pi\\right)e^{-\\lambda}\\right)^{2}}\n",
    "\\end{align*}\n",
    "$$"
   ]
  },
  {
   "cell_type": "markdown",
   "metadata": {},
   "source": [
    "# (a) Derive Newton's Method and Fisher Scoring Method\n",
    "## Newton's method\n",
    "Iterate\n",
    "$$\n",
    "\\theta^{(t+1)} = \\theta^{(t)} - \\left[ l''(\\theta^{(t)}) \\right]^{-1}l'(\\theta^{(t)})\n",
    "$$\n",
    "and Standard Error Estimate is\n",
    "$$\n",
    "\\sqrt{\\left(-l''(\\theta)\\right)^{-1}}\n",
    "$$\n",
    "We calculated $l'(\\theta)$ and $l''(\\theta)$, first make the dataset and derivative functions"
   ]
  },
  {
   "cell_type": "code",
   "execution_count": 3,
   "metadata": {},
   "outputs": [
    {
     "data": {
      "text/plain": [
       "(4075,)"
      ]
     },
     "execution_count": 3,
     "metadata": {},
     "output_type": "execute_result"
    }
   ],
   "source": [
    "Y = np.concatenate([np.repeat(0,3062),np.repeat(1,587),np.repeat(2,284),\n",
    "                    np.repeat(3,103),np.repeat(4,33),np.repeat(5,4),\n",
    "                    np.repeat(6,2)])\n",
    "Y.shape"
   ]
  },
  {
   "cell_type": "code",
   "execution_count": 4,
   "metadata": {},
   "outputs": [],
   "source": [
    "def first_der_lam(lam,pi,y):\n",
    "    n0 = sum(y==0)\n",
    "    N = len(y)\n",
    "    out = -n0 *(((1-pi)*np.exp(-lam))/(pi+(1-pi)*np.exp(-lam))) \\\n",
    "          -(N-n0) + y.sum()/lam\n",
    "    return(out)"
   ]
  },
  {
   "cell_type": "code",
   "execution_count": 5,
   "metadata": {},
   "outputs": [],
   "source": [
    "def first_der_pi(lam,pi,y):\n",
    "    n0 = sum(y==0)\n",
    "    N = len(y)\n",
    "    out = n0*((1-np.exp(-lam))/(pi+(1-pi)*np.exp(-lam))) \\\n",
    "          -(N-n0)/(1-pi)\n",
    "    return(out)"
   ]
  },
  {
   "cell_type": "code",
   "execution_count": 6,
   "metadata": {},
   "outputs": [],
   "source": [
    "def second_der_lam2(lam,pi,y):\n",
    "    n0 = sum(y==0)\n",
    "    N = len(y)\n",
    "    out = n0*((pi*(1-pi)*np.exp(-lam))/((pi + (1-pi)*np.exp(-lam))**2))\\\n",
    "          -y.sum()/(lam**2)\n",
    "    return(out)"
   ]
  },
  {
   "cell_type": "code",
   "execution_count": 7,
   "metadata": {},
   "outputs": [],
   "source": [
    "def second_der_pi2(lam,pi,y):\n",
    "    n0 = sum(y==0)\n",
    "    N = len(y)\n",
    "    out = -n0*(((1-np.exp(-lam))**2)/((pi-(1-pi)*np.exp(-lam))**2)) \\\n",
    "          -(N-n0)/((1-pi)**2)\n",
    "    return(out)"
   ]
  },
  {
   "cell_type": "code",
   "execution_count": 8,
   "metadata": {},
   "outputs": [],
   "source": [
    "def second_der_pilam(lam,pi,y):\n",
    "    n0 = sum(y==0)\n",
    "    N = len(y)\n",
    "    out = n0*((np.exp(-lam))/((pi+(1-pi)*np.exp(-lam))**2))\n",
    "    return(out)"
   ]
  },
  {
   "cell_type": "markdown",
   "metadata": {},
   "source": [
    "Set the initail value\n",
    "$$\n",
    "\\begin{align*}\n",
    "\\lambda_0 &= 1 \\\\\n",
    "\\pi_0 &= 0.5\n",
    "\\end{align*}\n",
    "$$"
   ]
  },
  {
   "cell_type": "code",
   "execution_count": 9,
   "metadata": {},
   "outputs": [],
   "source": [
    "lam , pi = 1, 0.5\n",
    "theta = np.array([lam,pi])"
   ]
  },
  {
   "cell_type": "markdown",
   "metadata": {},
   "source": [
    "Make the function iterate until loglikelihood do not increase more than criteria"
   ]
  },
  {
   "cell_type": "code",
   "execution_count": 10,
   "metadata": {},
   "outputs": [],
   "source": [
    "def Newton(theta,Y,citeria = 10**(-7)):\n",
    "    llikelst = [loglikelihood(theta[0],theta[1],Y)]\n",
    "    thetalst = [theta]\n",
    "    niter = 0\n",
    "    while True:\n",
    "        niter = niter + 1\n",
    "        l1 = np.array([first_der_lam(theta[0],theta[1],Y)\n",
    "                       ,first_der_pi(theta[0],theta[1],Y)])\n",
    "        l2 = np.reshape([second_der_lam2(theta[0],theta[1],Y),\n",
    "                     second_der_pilam(theta[0],theta[1],Y),\n",
    "                     second_der_pilam(theta[0],theta[1],Y),\n",
    "                     second_der_pi2(theta[0],theta[1],Y)],(2,2))\n",
    "        theta = theta - np.linalg.inv(l2).dot(l1)\n",
    "        thetalst.append(theta)\n",
    "        llikelst.append(loglikelihood(theta[0],theta[1],Y))\n",
    "        if (abs(llikelst[-1]-llikelst[-2]) < citeria):\n",
    "            break\n",
    "    out = pd.DataFrame({'lambda' : pd.DataFrame(thetalst)[0], \n",
    "                        'pi': pd.DataFrame(thetalst)[1], \n",
    "                        'logLikelihood':llikelst})\n",
    "    stdm = sqrtm(-np.linalg.inv(l2))\n",
    "    return(out,stdm)"
   ]
  },
  {
   "cell_type": "code",
   "execution_count": 11,
   "metadata": {},
   "outputs": [],
   "source": [
    "N_result,N_stdm = Newton(theta,Y)"
   ]
  },
  {
   "cell_type": "markdown",
   "metadata": {},
   "source": [
    "Then the result is \n",
    "$$\n",
    "\\hat{\\theta}^{Newton} = (\\hat{\\lambda}^{Newton},\\hat{\\pi}^{Newton})=(1.037836,0.615055)$$\n",
    "it converges at 13 times"
   ]
  },
  {
   "cell_type": "code",
   "execution_count": 12,
   "metadata": {
    "scrolled": false
   },
   "outputs": [
    {
     "data": {
      "text/html": [
       "<div>\n",
       "<style scoped>\n",
       "    .dataframe tbody tr th:only-of-type {\n",
       "        vertical-align: middle;\n",
       "    }\n",
       "\n",
       "    .dataframe tbody tr th {\n",
       "        vertical-align: top;\n",
       "    }\n",
       "\n",
       "    .dataframe thead th {\n",
       "        text-align: right;\n",
       "    }\n",
       "</style>\n",
       "<table border=\"1\" class=\"dataframe\">\n",
       "  <thead>\n",
       "    <tr style=\"text-align: right;\">\n",
       "      <th></th>\n",
       "      <th>lambda</th>\n",
       "      <th>pi</th>\n",
       "      <th>logLikelihood</th>\n",
       "    </tr>\n",
       "  </thead>\n",
       "  <tbody>\n",
       "    <tr>\n",
       "      <th>0</th>\n",
       "      <td>1.000000</td>\n",
       "      <td>0.500000</td>\n",
       "      <td>-10425.367474</td>\n",
       "    </tr>\n",
       "    <tr>\n",
       "      <th>1</th>\n",
       "      <td>0.866135</td>\n",
       "      <td>0.529549</td>\n",
       "      <td>-10396.762382</td>\n",
       "    </tr>\n",
       "    <tr>\n",
       "      <th>2</th>\n",
       "      <td>0.939669</td>\n",
       "      <td>0.562936</td>\n",
       "      <td>-10386.699016</td>\n",
       "    </tr>\n",
       "    <tr>\n",
       "      <th>3</th>\n",
       "      <td>0.990509</td>\n",
       "      <td>0.589546</td>\n",
       "      <td>-10381.765834</td>\n",
       "    </tr>\n",
       "    <tr>\n",
       "      <th>4</th>\n",
       "      <td>1.018312</td>\n",
       "      <td>0.604416</td>\n",
       "      <td>-10380.371074</td>\n",
       "    </tr>\n",
       "    <tr>\n",
       "      <th>5</th>\n",
       "      <td>1.030320</td>\n",
       "      <td>0.610933</td>\n",
       "      <td>-10380.109878</td>\n",
       "    </tr>\n",
       "    <tr>\n",
       "      <th>6</th>\n",
       "      <td>1.035009</td>\n",
       "      <td>0.613502</td>\n",
       "      <td>-10380.069499</td>\n",
       "    </tr>\n",
       "    <tr>\n",
       "      <th>7</th>\n",
       "      <td>1.036783</td>\n",
       "      <td>0.614476</td>\n",
       "      <td>-10380.063694</td>\n",
       "    </tr>\n",
       "    <tr>\n",
       "      <th>8</th>\n",
       "      <td>1.037446</td>\n",
       "      <td>0.614841</td>\n",
       "      <td>-10380.062881</td>\n",
       "    </tr>\n",
       "    <tr>\n",
       "      <th>9</th>\n",
       "      <td>1.037693</td>\n",
       "      <td>0.614976</td>\n",
       "      <td>-10380.062768</td>\n",
       "    </tr>\n",
       "    <tr>\n",
       "      <th>10</th>\n",
       "      <td>1.037785</td>\n",
       "      <td>0.615027</td>\n",
       "      <td>-10380.062752</td>\n",
       "    </tr>\n",
       "    <tr>\n",
       "      <th>11</th>\n",
       "      <td>1.037819</td>\n",
       "      <td>0.615046</td>\n",
       "      <td>-10380.062750</td>\n",
       "    </tr>\n",
       "    <tr>\n",
       "      <th>12</th>\n",
       "      <td>1.037832</td>\n",
       "      <td>0.615053</td>\n",
       "      <td>-10380.062750</td>\n",
       "    </tr>\n",
       "    <tr>\n",
       "      <th>13</th>\n",
       "      <td>1.037836</td>\n",
       "      <td>0.615055</td>\n",
       "      <td>-10380.062750</td>\n",
       "    </tr>\n",
       "  </tbody>\n",
       "</table>\n",
       "</div>"
      ],
      "text/plain": [
       "      lambda        pi  logLikelihood\n",
       "0   1.000000  0.500000  -10425.367474\n",
       "1   0.866135  0.529549  -10396.762382\n",
       "2   0.939669  0.562936  -10386.699016\n",
       "3   0.990509  0.589546  -10381.765834\n",
       "4   1.018312  0.604416  -10380.371074\n",
       "5   1.030320  0.610933  -10380.109878\n",
       "6   1.035009  0.613502  -10380.069499\n",
       "7   1.036783  0.614476  -10380.063694\n",
       "8   1.037446  0.614841  -10380.062881\n",
       "9   1.037693  0.614976  -10380.062768\n",
       "10  1.037785  0.615027  -10380.062752\n",
       "11  1.037819  0.615046  -10380.062750\n",
       "12  1.037832  0.615053  -10380.062750\n",
       "13  1.037836  0.615055  -10380.062750"
      ]
     },
     "execution_count": 12,
     "metadata": {},
     "output_type": "execute_result"
    }
   ],
   "source": [
    "N_result"
   ]
  },
  {
   "cell_type": "markdown",
   "metadata": {},
   "source": [
    "Standard error estimate is"
   ]
  },
  {
   "cell_type": "code",
   "execution_count": 13,
   "metadata": {},
   "outputs": [
    {
     "data": {
      "text/html": [
       "<div>\n",
       "<style scoped>\n",
       "    .dataframe tbody tr th:only-of-type {\n",
       "        vertical-align: middle;\n",
       "    }\n",
       "\n",
       "    .dataframe tbody tr th {\n",
       "        vertical-align: top;\n",
       "    }\n",
       "\n",
       "    .dataframe thead th {\n",
       "        text-align: right;\n",
       "    }\n",
       "</style>\n",
       "<table border=\"1\" class=\"dataframe\">\n",
       "  <thead>\n",
       "    <tr style=\"text-align: right;\">\n",
       "      <th></th>\n",
       "      <th>0</th>\n",
       "      <th>1</th>\n",
       "    </tr>\n",
       "  </thead>\n",
       "  <tbody>\n",
       "    <tr>\n",
       "      <th>0</th>\n",
       "      <td>0.036015</td>\n",
       "      <td>0.004470</td>\n",
       "    </tr>\n",
       "    <tr>\n",
       "      <th>1</th>\n",
       "      <td>0.004470</td>\n",
       "      <td>0.009601</td>\n",
       "    </tr>\n",
       "  </tbody>\n",
       "</table>\n",
       "</div>"
      ],
      "text/plain": [
       "          0         1\n",
       "0  0.036015  0.004470\n",
       "1  0.004470  0.009601"
      ]
     },
     "execution_count": 13,
     "metadata": {},
     "output_type": "execute_result"
    }
   ],
   "source": [
    "pd.DataFrame(N_stdm)"
   ]
  },
  {
   "cell_type": "markdown",
   "metadata": {},
   "source": [
    "## Fisher Scoring method\n",
    "Iterate\n",
    "$$\n",
    "\\theta^{(t+1)} = \\theta^{(t)} + \\left[ I(\\theta^{(t)})\\right]^{-1}l'(\\theta^{(t)})\n",
    "$$\n",
    "where $I(\\theta) = E\\left[- l''(\\theta) \\right]$, and Standard Error Estimate is\n",
    "$$\n",
    "\\sqrt{\\left[ I(\\theta^{(t)})\\right]^{-1}}\n",
    "$$\n",
    "We calculated $l'(\\theta)$ , $l''(\\theta)$, we only need to calculate  $I(\\theta) = E\\left[- l''(\\theta) \\right]$"
   ]
  },
  {
   "cell_type": "markdown",
   "metadata": {},
   "source": [
    "Since\n",
    "$$\n",
    "n_0 ,\\dots , n_6 \\sim Multinomial\\left(N,\\left\\{\\pi + (1-\\pi)e^{-\\lambda},(1-\\pi)\\frac{\\lambda^1e^{-\\lambda}}{1!},\\dots,\\frac{\\lambda^6e^{-\\lambda}}{6!}\\right\\}\\right)\n",
    "$$\n",
    "Expected value of $n_k$ is\n",
    "$$\n",
    "\\begin{align*}\n",
    "E[n_0] &=  N\\cdot (\\pi + (1-\\pi)e^{-\\lambda}) \\\\\n",
    "E[n_k] & = N\\cdot \\left((1-\\pi)\\frac{\\lambda^ke^{-\\lambda}}{k!}\\right)  \\text{ for i}= 1,\\dots.6\n",
    "\\end{align*}\n",
    "$$"
   ]
  },
  {
   "cell_type": "markdown",
   "metadata": {},
   "source": [
    "Then $I(\\theta) = E\\left[- l''(\\theta) \\right]$ is "
   ]
  },
  {
   "cell_type": "markdown",
   "metadata": {},
   "source": [
    "$$\n",
    "\\begin{align*}\n",
    "E\\left[-\\frac{\\partial^{2}l\\left(\\theta\\right)}{\\partial\\lambda^2}\\right] & =-E[n_{0}] \\cdot \\frac{\\pi\\left(1-\\pi\\right)e^{-\\lambda}}{\\left(\\pi+\\left(1-\\pi\\right)e^{-\\lambda}\\right)^{2}}+ E\\left[\\sum_{y_{i}\\neq0}\\frac{y_{i}}{\\lambda^{2}}\\right]\\\\\n",
    "& =-E[n_{0}] \\cdot \\frac{\\pi\\left(1-\\pi\\right)e^{-\\lambda}}{\\left(\\pi+\\left(1-\\pi\\right)e^{-\\lambda}\\right)^{2}}+E\\left[\\sum_{k=1}^{6}\\frac{k \\cdot n_k}{\\lambda^{2}}\\right]\\\\\n",
    "& =-E[n_{0}] \\cdot \\frac{\\pi\\left(1-\\pi\\right)e^{-\\lambda}}{\\left(\\pi+\\left(1-\\pi\\right)e^{-\\lambda}\\right)^{2}}+\\sum_{k=1}^{6}\\frac{k \\cdot E[n_k]}{\\lambda^{2}} \\\\\n",
    "E\\left[-\\frac{\\partial^{2}l\\left(\\theta\\right)}{\\partial\\pi^2} \\right]& =E[n_{0}]\\cdot \\frac{\\left(1-e^{-\\lambda}\\right)^{2}}{\\left(\\pi+\\left(1-\\pi\\right)e^{-\\lambda}\\right)^{2}}-\\left(N-E[n_{0}]\\right)\\frac{1}{\\left(1-\\pi\\right)^{2}}\\\\\n",
    "E\\left[-\\frac{\\partial^{2}l\\left(\\theta\\right)}{\\partial\\pi\\partial\\lambda}\\right] &= -E[n_{0}] \\cdot \\frac{e^{-\\lambda}}{\\left(\\pi+\\left(1-\\pi\\right)e^{-\\lambda}\\right)^{2}}\n",
    "\\end{align*}\n",
    "$$"
   ]
  },
  {
   "cell_type": "markdown",
   "metadata": {},
   "source": [
    "Make the function of expectation of $n_k$'s where $k \\ne 0$"
   ]
  },
  {
   "cell_type": "code",
   "execution_count": 14,
   "metadata": {},
   "outputs": [],
   "source": [
    "def E_nk(N,k,lam,pi):\n",
    "    return (N*(1-pi)*(lam**k)*np.exp(-lam))/(np.math.factorial(k))"
   ]
  },
  {
   "cell_type": "code",
   "execution_count": 15,
   "metadata": {},
   "outputs": [],
   "source": [
    "def E_second_der_lam2(lam,pi,y):\n",
    "    N = len(y)\n",
    "    n0 = N*(pi + (1-pi)*np.exp(-lam))\n",
    "    summ = 0\n",
    "    for k in range(7):\n",
    "        summ  = summ + k*E_nk(N,k,lam,pi)\n",
    "    out = n0*((pi*(1-pi)*np.exp(-lam))/((pi + (1-pi)*np.exp(-lam))**2))\\\n",
    "          -(summ)/(lam**2)\n",
    "    return(out)"
   ]
  },
  {
   "cell_type": "code",
   "execution_count": 16,
   "metadata": {},
   "outputs": [],
   "source": [
    "def E_second_der_pi2(lam,pi,y):\n",
    "    N = len(y)\n",
    "    n0 = N*(pi + (1-pi)*np.exp(-lam))\n",
    "    out = -n0*(((1-np.exp(-lam))**2)/((pi-(1-pi)*np.exp(-lam))**2)) \\\n",
    "          -(N-n0)/((1-pi)**2)\n",
    "    return(out)"
   ]
  },
  {
   "cell_type": "code",
   "execution_count": 17,
   "metadata": {},
   "outputs": [],
   "source": [
    "def E_second_der_pilam(lam,pi,y):\n",
    "    N = len(y)\n",
    "    n0 = N*(pi + (1-pi)*np.exp(-lam))\n",
    "    out = n0*((np.exp(-lam))/((pi+(1-pi)*np.exp(-lam))**2))\n",
    "    return(out)"
   ]
  },
  {
   "cell_type": "markdown",
   "metadata": {},
   "source": [
    "Set the initail value\n",
    "$$\n",
    "\\begin{align*}\n",
    "\\lambda_0 &= 1 \\\\\n",
    "\\pi_0 &= 0.5\n",
    "\\end{align*}\n",
    "$$"
   ]
  },
  {
   "cell_type": "code",
   "execution_count": 18,
   "metadata": {},
   "outputs": [],
   "source": [
    "lam , pi = 1, 0.5\n",
    "theta = np.array([lam,pi])"
   ]
  },
  {
   "cell_type": "code",
   "execution_count": 19,
   "metadata": {},
   "outputs": [],
   "source": [
    "def Fisher(theta,Y,citeria = 10**(-7)):\n",
    "    llikelst = [loglikelihood(theta[0],theta[1],Y)]\n",
    "    thetalst = [theta]\n",
    "    niter = 0\n",
    "    while True:\n",
    "        niter = niter + 1\n",
    "        l1 = np.array([first_der_lam(theta[0],theta[1],Y)\n",
    "                       ,first_der_pi(theta[0],theta[1],Y)])\n",
    "        l2 = np.reshape([E_second_der_lam2(theta[0],theta[1],Y),\n",
    "                     E_second_der_pilam(theta[0],theta[1],Y),\n",
    "                     E_second_der_pilam(theta[0],theta[1],Y),\n",
    "                     E_second_der_pi2(theta[0],theta[1],Y)],(2,2))\n",
    "        theta = theta - np.linalg.inv(l2).dot(l1)\n",
    "        thetalst.append(theta)\n",
    "        llikelst.append(loglikelihood(theta[0],theta[1],Y))\n",
    "        if (abs(llikelst[-1]-llikelst[-2]) < citeria):\n",
    "            break\n",
    "    out = pd.DataFrame({'lambda' : pd.DataFrame(thetalst)[0], \n",
    "                        'pi': pd.DataFrame(thetalst)[1], \n",
    "                        'logLikelihood':llikelst})\n",
    "    stdm = sqrtm(-np.linalg.inv(l2))\n",
    "    return(out,stdm)"
   ]
  },
  {
   "cell_type": "code",
   "execution_count": 20,
   "metadata": {},
   "outputs": [],
   "source": [
    "F_result,F_stdm = Fisher(theta,Y)"
   ]
  },
  {
   "cell_type": "markdown",
   "metadata": {},
   "source": [
    "Then the result is \n",
    "$$\n",
    "\\hat{\\theta}^{Fisher} = (\\hat{\\lambda}^{Fisher},\\hat{\\pi}^{Fisher})=(1.037836,\t0.615055)$$\n",
    "it converges at 13 times"
   ]
  },
  {
   "cell_type": "code",
   "execution_count": 21,
   "metadata": {},
   "outputs": [
    {
     "data": {
      "text/html": [
       "<div>\n",
       "<style scoped>\n",
       "    .dataframe tbody tr th:only-of-type {\n",
       "        vertical-align: middle;\n",
       "    }\n",
       "\n",
       "    .dataframe tbody tr th {\n",
       "        vertical-align: top;\n",
       "    }\n",
       "\n",
       "    .dataframe thead th {\n",
       "        text-align: right;\n",
       "    }\n",
       "</style>\n",
       "<table border=\"1\" class=\"dataframe\">\n",
       "  <thead>\n",
       "    <tr style=\"text-align: right;\">\n",
       "      <th></th>\n",
       "      <th>lambda</th>\n",
       "      <th>pi</th>\n",
       "      <th>logLikelihood</th>\n",
       "    </tr>\n",
       "  </thead>\n",
       "  <tbody>\n",
       "    <tr>\n",
       "      <th>0</th>\n",
       "      <td>1.000000</td>\n",
       "      <td>0.500000</td>\n",
       "      <td>-10425.367474</td>\n",
       "    </tr>\n",
       "    <tr>\n",
       "      <th>1</th>\n",
       "      <td>0.915897</td>\n",
       "      <td>0.538016</td>\n",
       "      <td>-10393.735425</td>\n",
       "    </tr>\n",
       "    <tr>\n",
       "      <th>2</th>\n",
       "      <td>0.950009</td>\n",
       "      <td>0.568840</td>\n",
       "      <td>-10385.365635</td>\n",
       "    </tr>\n",
       "    <tr>\n",
       "      <th>3</th>\n",
       "      <td>0.992221</td>\n",
       "      <td>0.591847</td>\n",
       "      <td>-10381.488303</td>\n",
       "    </tr>\n",
       "    <tr>\n",
       "      <th>4</th>\n",
       "      <td>1.018426</td>\n",
       "      <td>0.605006</td>\n",
       "      <td>-10380.339002</td>\n",
       "    </tr>\n",
       "    <tr>\n",
       "      <th>5</th>\n",
       "      <td>1.030359</td>\n",
       "      <td>0.611067</td>\n",
       "      <td>-10380.106903</td>\n",
       "    </tr>\n",
       "    <tr>\n",
       "      <th>6</th>\n",
       "      <td>1.035041</td>\n",
       "      <td>0.613536</td>\n",
       "      <td>-10380.069205</td>\n",
       "    </tr>\n",
       "    <tr>\n",
       "      <th>7</th>\n",
       "      <td>1.036799</td>\n",
       "      <td>0.614487</td>\n",
       "      <td>-10380.063659</td>\n",
       "    </tr>\n",
       "    <tr>\n",
       "      <th>8</th>\n",
       "      <td>1.037453</td>\n",
       "      <td>0.614844</td>\n",
       "      <td>-10380.062876</td>\n",
       "    </tr>\n",
       "    <tr>\n",
       "      <th>9</th>\n",
       "      <td>1.037696</td>\n",
       "      <td>0.614978</td>\n",
       "      <td>-10380.062767</td>\n",
       "    </tr>\n",
       "    <tr>\n",
       "      <th>10</th>\n",
       "      <td>1.037786</td>\n",
       "      <td>0.615027</td>\n",
       "      <td>-10380.062752</td>\n",
       "    </tr>\n",
       "    <tr>\n",
       "      <th>11</th>\n",
       "      <td>1.037819</td>\n",
       "      <td>0.615046</td>\n",
       "      <td>-10380.062750</td>\n",
       "    </tr>\n",
       "    <tr>\n",
       "      <th>12</th>\n",
       "      <td>1.037832</td>\n",
       "      <td>0.615053</td>\n",
       "      <td>-10380.062750</td>\n",
       "    </tr>\n",
       "    <tr>\n",
       "      <th>13</th>\n",
       "      <td>1.037836</td>\n",
       "      <td>0.615055</td>\n",
       "      <td>-10380.062750</td>\n",
       "    </tr>\n",
       "  </tbody>\n",
       "</table>\n",
       "</div>"
      ],
      "text/plain": [
       "      lambda        pi  logLikelihood\n",
       "0   1.000000  0.500000  -10425.367474\n",
       "1   0.915897  0.538016  -10393.735425\n",
       "2   0.950009  0.568840  -10385.365635\n",
       "3   0.992221  0.591847  -10381.488303\n",
       "4   1.018426  0.605006  -10380.339002\n",
       "5   1.030359  0.611067  -10380.106903\n",
       "6   1.035041  0.613536  -10380.069205\n",
       "7   1.036799  0.614487  -10380.063659\n",
       "8   1.037453  0.614844  -10380.062876\n",
       "9   1.037696  0.614978  -10380.062767\n",
       "10  1.037786  0.615027  -10380.062752\n",
       "11  1.037819  0.615046  -10380.062750\n",
       "12  1.037832  0.615053  -10380.062750\n",
       "13  1.037836  0.615055  -10380.062750"
      ]
     },
     "execution_count": 21,
     "metadata": {},
     "output_type": "execute_result"
    }
   ],
   "source": [
    "F_result"
   ]
  },
  {
   "cell_type": "markdown",
   "metadata": {},
   "source": [
    "Standard error estimates is"
   ]
  },
  {
   "cell_type": "code",
   "execution_count": 22,
   "metadata": {},
   "outputs": [
    {
     "data": {
      "text/html": [
       "<div>\n",
       "<style scoped>\n",
       "    .dataframe tbody tr th:only-of-type {\n",
       "        vertical-align: middle;\n",
       "    }\n",
       "\n",
       "    .dataframe tbody tr th {\n",
       "        vertical-align: top;\n",
       "    }\n",
       "\n",
       "    .dataframe thead th {\n",
       "        text-align: right;\n",
       "    }\n",
       "</style>\n",
       "<table border=\"1\" class=\"dataframe\">\n",
       "  <thead>\n",
       "    <tr style=\"text-align: right;\">\n",
       "      <th></th>\n",
       "      <th>0</th>\n",
       "      <th>1</th>\n",
       "    </tr>\n",
       "  </thead>\n",
       "  <tbody>\n",
       "    <tr>\n",
       "      <th>0</th>\n",
       "      <td>0.036041</td>\n",
       "      <td>0.004474</td>\n",
       "    </tr>\n",
       "    <tr>\n",
       "      <th>1</th>\n",
       "      <td>0.004474</td>\n",
       "      <td>0.009601</td>\n",
       "    </tr>\n",
       "  </tbody>\n",
       "</table>\n",
       "</div>"
      ],
      "text/plain": [
       "          0         1\n",
       "0  0.036041  0.004474\n",
       "1  0.004474  0.009601"
      ]
     },
     "execution_count": 22,
     "metadata": {},
     "output_type": "execute_result"
    }
   ],
   "source": [
    "pd.DataFrame(F_stdm)"
   ]
  },
  {
   "cell_type": "markdown",
   "metadata": {},
   "source": [
    "## (b) EM algorithn\n",
    "Let Z be random varible\n",
    "$$\n",
    "Z \\sim Bernoulli(\\pi)\n",
    "$$\n",
    "and $\\theta = (\\lambda , \\pi)$ Then,\n",
    "$$\n",
    "\\begin{align*}\n",
    "L(\\theta | Y , Z) &= P(Y,Z|\\theta)\\\\\n",
    "&= P(Y|Z,\\theta)P(Z|\\theta)\\\\\n",
    "&= \\prod_{i} I(y_i =0)^{z_i}\\left(\\frac{e^{-\\lambda}\\lambda^{y_i}}{y_i!}\\right)^{1-z_i} \\prod_{i}\\pi^{z_i}(1-\\pi)^{1-z_i}\\\\\n",
    "&= \\prod_{i} \\left[\\pi \\cdot I(y_i =0)\\right]^{z_i}\\left[(1-\\pi)\\left(\\frac{e^{-\\lambda}\\lambda^{y_i}}{y_i!}\\right)\\right]^{1-z_i}\n",
    "\\end{align*}\n",
    "$$"
   ]
  },
  {
   "cell_type": "markdown",
   "metadata": {},
   "source": [
    "log likelihood is\n",
    "$$\n",
    "\\begin{align*}\n",
    "l(\\theta | Y ,Z ) = \\sum_{i} \\left[ z_i log(\\pi \\cdot I(y_i=0)) + (1-z_i)\\left\\{ log(1-\\pi) - \\lambda + y_i log(\\lambda) - log (y_i!)\\right\\} \\right]\n",
    "\\end{align*}\n",
    "$$"
   ]
  },
  {
   "cell_type": "markdown",
   "metadata": {},
   "source": [
    "### E-step\n",
    "$$\n",
    "\\begin{align*}\n",
    "Q(\\theta| \\theta^{(t)}) &= E [l(\\theta | Y_{com})| Y_{obs}, \\theta^{(t)}]\\\\\n",
    "& = \\sum_{i} \\left[ E[z_i | Y, \\theta^{(t)}] log(\\pi \\cdot I(y_i=0)) + (1-E[z_i | Y, \\theta^{(t)}])\\left\\{ log(1-\\pi) - \\lambda + y_i log(\\lambda) - log (y_i!)\\right\\} \\right]\n",
    "\\end{align*}\n",
    "$$"
   ]
  },
  {
   "cell_type": "markdown",
   "metadata": {},
   "source": [
    "Where\n",
    "$$\n",
    "\\begin{align*}\n",
    "E[z_i | Y, \\theta^{(t)}] &= P(z_i = 1 | Y, \\theta^{(t)})\\\\\n",
    " &= \\frac{P(y_i | z_i = 1 ,\\theta^{(t)})P(z_i=1)}{P(y_i | z_i = 0 ,\\theta^{(t)})P(z_i=0)+P(y_i | z_i = 1 ,\\theta^{(t)})P(z_i=1)}\\\\\n",
    " &= \\begin{cases} 0 &\\text{when }y_i \\ne 0 \\\\\n",
    "\\frac{\\pi^{(t)}}{\\pi^{(t)} + (1-\\pi^{(t)})e^{-\\lambda^{(t)}}} &\\text{when } y_i =0 \\end{cases}\n",
    "\\end{align*}\n",
    "$$"
   ]
  },
  {
   "cell_type": "markdown",
   "metadata": {},
   "source": [
    "### M-step"
   ]
  },
  {
   "cell_type": "markdown",
   "metadata": {},
   "source": [
    "First partial derivative for $\\lambda$,\n",
    "$$\n",
    "\\begin{align*}\n",
    "&\\frac{\\partial Q(\\theta| \\theta^{(t)}) }{\\partial \\lambda} =^{let} 0\\\\\n",
    "\\rightarrow &\\sum_i (1-E[z_i | Y, \\theta^{(t)}])(-1 + \\frac{y_i}{\\lambda}) = 0\\\\\n",
    "\\rightarrow &\\lambda^{(t+1)} = \\frac{\\sum_i(1-E[z_i | Y, \\theta^{(t)}])\\cdot y_i}{\\sum_i(1-E[z_i | Y, \\theta^{(t)}])}\n",
    "\\end{align*}\n",
    "$$\n",
    "Second partial derivative for $\\pi$,\n",
    "$$\n",
    "\\begin{align*}\n",
    "&\\frac{\\partial Q(\\theta| \\theta^{(t)}) }{\\partial \\pi} =^{let} 0\\\\\n",
    "\\rightarrow &\\sum_i\\frac{E[z_i | Y, \\theta^{(t)}]}{\\pi} - \\sum_i\\frac{1-E[z_i | Y, \\theta^{(t)}]}{1- \\pi} = 0\\\\\n",
    "\\rightarrow &\\pi^{(t+1)}= \\frac{1}{N}\\sum_i E[z_i | Y, \\theta^{(t)}]\n",
    "\\end{align*}\n",
    "$$"
   ]
  },
  {
   "cell_type": "code",
   "execution_count": 23,
   "metadata": {},
   "outputs": [],
   "source": [
    "def Estep(lam,pi,Y):\n",
    "    if Y ==0:\n",
    "        out = pi/(pi + (1-pi)*np.exp(-lam))\n",
    "    else:\n",
    "        out = 0\n",
    "    return(out)"
   ]
  },
  {
   "cell_type": "code",
   "execution_count": 24,
   "metadata": {},
   "outputs": [],
   "source": [
    "def Mstep(lam,pi,Y):\n",
    "    lam = sum(list(map(lambda y : (1-Estep(lam,pi,y))*y,Y)))\\\n",
    "          /sum(list(map(lambda y : (1-Estep(lam,pi,y)),Y)))\n",
    "    pi = sum(list(map(lambda y : Estep(lam,pi,y),Y)))/len(Y)\n",
    "    return(lam,pi)"
   ]
  },
  {
   "cell_type": "code",
   "execution_count": 25,
   "metadata": {},
   "outputs": [],
   "source": [
    "def iterateEM(theta,Y,citeria = 10**(-7)):\n",
    "    llikelst = [loglikelihood(theta[0],theta[1],Y)]\n",
    "    thetalst = [theta]\n",
    "    while True:\n",
    "        theta = Mstep(theta[0],theta[1],Y)\n",
    "        thetalst.append(theta)\n",
    "        llikelst.append(loglikelihood(theta[0],theta[1],Y))\n",
    "        if (abs(llikelst[-1]-llikelst[-2]) < citeria):\n",
    "            break\n",
    "    out = pd.DataFrame({'lambda' : pd.DataFrame(thetalst)[0], \n",
    "                        'pi': pd.DataFrame(thetalst)[1], \n",
    "                        'logLikelihood':llikelst})\n",
    "    return(out)"
   ]
  },
  {
   "cell_type": "markdown",
   "metadata": {},
   "source": [
    "Set the initail value\n",
    "$$\n",
    "\\begin{align*}\n",
    "\\lambda_0 &= 1 \\\\\n",
    "\\pi_0 &= 0.5\n",
    "\\end{align*}\n",
    "$$"
   ]
  },
  {
   "cell_type": "code",
   "execution_count": 26,
   "metadata": {},
   "outputs": [],
   "source": [
    "lam , pi = 1, 0.5\n",
    "theta = np.array([lam,pi])"
   ]
  },
  {
   "cell_type": "code",
   "execution_count": 27,
   "metadata": {},
   "outputs": [],
   "source": [
    "EM_result = iterateEM(theta,Y)"
   ]
  },
  {
   "cell_type": "code",
   "execution_count": 28,
   "metadata": {},
   "outputs": [
    {
     "data": {
      "text/html": [
       "<div>\n",
       "<style scoped>\n",
       "    .dataframe tbody tr th:only-of-type {\n",
       "        vertical-align: middle;\n",
       "    }\n",
       "\n",
       "    .dataframe tbody tr th {\n",
       "        vertical-align: top;\n",
       "    }\n",
       "\n",
       "    .dataframe thead th {\n",
       "        text-align: right;\n",
       "    }\n",
       "</style>\n",
       "<table border=\"1\" class=\"dataframe\">\n",
       "  <thead>\n",
       "    <tr style=\"text-align: right;\">\n",
       "      <th></th>\n",
       "      <th>lambda</th>\n",
       "      <th>pi</th>\n",
       "      <th>logLikelihood</th>\n",
       "    </tr>\n",
       "  </thead>\n",
       "  <tbody>\n",
       "    <tr>\n",
       "      <th>0</th>\n",
       "      <td>1.000000</td>\n",
       "      <td>0.500000</td>\n",
       "      <td>-10425.367474</td>\n",
       "    </tr>\n",
       "    <tr>\n",
       "      <th>1</th>\n",
       "      <td>0.886469</td>\n",
       "      <td>0.532120</td>\n",
       "      <td>-10395.553509</td>\n",
       "    </tr>\n",
       "    <tr>\n",
       "      <th>2</th>\n",
       "      <td>0.890872</td>\n",
       "      <td>0.552198</td>\n",
       "      <td>-10390.295073</td>\n",
       "    </tr>\n",
       "    <tr>\n",
       "      <th>3</th>\n",
       "      <td>0.915914</td>\n",
       "      <td>0.567316</td>\n",
       "      <td>-10386.553374</td>\n",
       "    </tr>\n",
       "    <tr>\n",
       "      <th>4</th>\n",
       "      <td>0.941596</td>\n",
       "      <td>0.579144</td>\n",
       "      <td>-10383.965771</td>\n",
       "    </tr>\n",
       "    <tr>\n",
       "      <th>5</th>\n",
       "      <td>0.963787</td>\n",
       "      <td>0.588331</td>\n",
       "      <td>-10382.322126</td>\n",
       "    </tr>\n",
       "    <tr>\n",
       "      <th>6</th>\n",
       "      <td>0.981853</td>\n",
       "      <td>0.595353</td>\n",
       "      <td>-10381.333153</td>\n",
       "    </tr>\n",
       "    <tr>\n",
       "      <th>7</th>\n",
       "      <td>0.996074</td>\n",
       "      <td>0.600637</td>\n",
       "      <td>-10380.760983</td>\n",
       "    </tr>\n",
       "    <tr>\n",
       "      <th>8</th>\n",
       "      <td>1.007004</td>\n",
       "      <td>0.604565</td>\n",
       "      <td>-10380.439774</td>\n",
       "    </tr>\n",
       "    <tr>\n",
       "      <th>9</th>\n",
       "      <td>1.015254</td>\n",
       "      <td>0.607456</td>\n",
       "      <td>-10380.263591</td>\n",
       "    </tr>\n",
       "    <tr>\n",
       "      <th>10</th>\n",
       "      <td>1.021396</td>\n",
       "      <td>0.609568</td>\n",
       "      <td>-10380.168651</td>\n",
       "    </tr>\n",
       "    <tr>\n",
       "      <th>11</th>\n",
       "      <td>1.025921</td>\n",
       "      <td>0.611102</td>\n",
       "      <td>-10380.118167</td>\n",
       "    </tr>\n",
       "    <tr>\n",
       "      <th>12</th>\n",
       "      <td>1.029230</td>\n",
       "      <td>0.612212</td>\n",
       "      <td>-10380.091588</td>\n",
       "    </tr>\n",
       "    <tr>\n",
       "      <th>13</th>\n",
       "      <td>1.031635</td>\n",
       "      <td>0.613013</td>\n",
       "      <td>-10380.077695</td>\n",
       "    </tr>\n",
       "    <tr>\n",
       "      <th>14</th>\n",
       "      <td>1.033376</td>\n",
       "      <td>0.613590</td>\n",
       "      <td>-10380.070472</td>\n",
       "    </tr>\n",
       "    <tr>\n",
       "      <th>15</th>\n",
       "      <td>1.034633</td>\n",
       "      <td>0.614005</td>\n",
       "      <td>-10380.066731</td>\n",
       "    </tr>\n",
       "    <tr>\n",
       "      <th>16</th>\n",
       "      <td>1.035538</td>\n",
       "      <td>0.614303</td>\n",
       "      <td>-10380.064799</td>\n",
       "    </tr>\n",
       "    <tr>\n",
       "      <th>17</th>\n",
       "      <td>1.036188</td>\n",
       "      <td>0.614516</td>\n",
       "      <td>-10380.063804</td>\n",
       "    </tr>\n",
       "    <tr>\n",
       "      <th>18</th>\n",
       "      <td>1.036656</td>\n",
       "      <td>0.614669</td>\n",
       "      <td>-10380.063291</td>\n",
       "    </tr>\n",
       "    <tr>\n",
       "      <th>19</th>\n",
       "      <td>1.036991</td>\n",
       "      <td>0.614779</td>\n",
       "      <td>-10380.063028</td>\n",
       "    </tr>\n",
       "    <tr>\n",
       "      <th>20</th>\n",
       "      <td>1.037231</td>\n",
       "      <td>0.614858</td>\n",
       "      <td>-10380.062892</td>\n",
       "    </tr>\n",
       "    <tr>\n",
       "      <th>21</th>\n",
       "      <td>1.037404</td>\n",
       "      <td>0.614914</td>\n",
       "      <td>-10380.062823</td>\n",
       "    </tr>\n",
       "    <tr>\n",
       "      <th>22</th>\n",
       "      <td>1.037527</td>\n",
       "      <td>0.614955</td>\n",
       "      <td>-10380.062787</td>\n",
       "    </tr>\n",
       "    <tr>\n",
       "      <th>23</th>\n",
       "      <td>1.037616</td>\n",
       "      <td>0.614984</td>\n",
       "      <td>-10380.062769</td>\n",
       "    </tr>\n",
       "    <tr>\n",
       "      <th>24</th>\n",
       "      <td>1.037679</td>\n",
       "      <td>0.615004</td>\n",
       "      <td>-10380.062760</td>\n",
       "    </tr>\n",
       "    <tr>\n",
       "      <th>25</th>\n",
       "      <td>1.037724</td>\n",
       "      <td>0.615019</td>\n",
       "      <td>-10380.062755</td>\n",
       "    </tr>\n",
       "    <tr>\n",
       "      <th>26</th>\n",
       "      <td>1.037757</td>\n",
       "      <td>0.615030</td>\n",
       "      <td>-10380.062752</td>\n",
       "    </tr>\n",
       "    <tr>\n",
       "      <th>27</th>\n",
       "      <td>1.037780</td>\n",
       "      <td>0.615038</td>\n",
       "      <td>-10380.062751</td>\n",
       "    </tr>\n",
       "    <tr>\n",
       "      <th>28</th>\n",
       "      <td>1.037797</td>\n",
       "      <td>0.615043</td>\n",
       "      <td>-10380.062750</td>\n",
       "    </tr>\n",
       "    <tr>\n",
       "      <th>29</th>\n",
       "      <td>1.037809</td>\n",
       "      <td>0.615047</td>\n",
       "      <td>-10380.062750</td>\n",
       "    </tr>\n",
       "    <tr>\n",
       "      <th>30</th>\n",
       "      <td>1.037818</td>\n",
       "      <td>0.615050</td>\n",
       "      <td>-10380.062750</td>\n",
       "    </tr>\n",
       "    <tr>\n",
       "      <th>31</th>\n",
       "      <td>1.037824</td>\n",
       "      <td>0.615052</td>\n",
       "      <td>-10380.062750</td>\n",
       "    </tr>\n",
       "  </tbody>\n",
       "</table>\n",
       "</div>"
      ],
      "text/plain": [
       "      lambda        pi  logLikelihood\n",
       "0   1.000000  0.500000  -10425.367474\n",
       "1   0.886469  0.532120  -10395.553509\n",
       "2   0.890872  0.552198  -10390.295073\n",
       "3   0.915914  0.567316  -10386.553374\n",
       "4   0.941596  0.579144  -10383.965771\n",
       "5   0.963787  0.588331  -10382.322126\n",
       "6   0.981853  0.595353  -10381.333153\n",
       "7   0.996074  0.600637  -10380.760983\n",
       "8   1.007004  0.604565  -10380.439774\n",
       "9   1.015254  0.607456  -10380.263591\n",
       "10  1.021396  0.609568  -10380.168651\n",
       "11  1.025921  0.611102  -10380.118167\n",
       "12  1.029230  0.612212  -10380.091588\n",
       "13  1.031635  0.613013  -10380.077695\n",
       "14  1.033376  0.613590  -10380.070472\n",
       "15  1.034633  0.614005  -10380.066731\n",
       "16  1.035538  0.614303  -10380.064799\n",
       "17  1.036188  0.614516  -10380.063804\n",
       "18  1.036656  0.614669  -10380.063291\n",
       "19  1.036991  0.614779  -10380.063028\n",
       "20  1.037231  0.614858  -10380.062892\n",
       "21  1.037404  0.614914  -10380.062823\n",
       "22  1.037527  0.614955  -10380.062787\n",
       "23  1.037616  0.614984  -10380.062769\n",
       "24  1.037679  0.615004  -10380.062760\n",
       "25  1.037724  0.615019  -10380.062755\n",
       "26  1.037757  0.615030  -10380.062752\n",
       "27  1.037780  0.615038  -10380.062751\n",
       "28  1.037797  0.615043  -10380.062750\n",
       "29  1.037809  0.615047  -10380.062750\n",
       "30  1.037818  0.615050  -10380.062750\n",
       "31  1.037824  0.615052  -10380.062750"
      ]
     },
     "execution_count": 28,
     "metadata": {},
     "output_type": "execute_result"
    }
   ],
   "source": [
    "EM_result"
   ]
  },
  {
   "cell_type": "markdown",
   "metadata": {},
   "source": [
    "Then the result is \n",
    "$$\n",
    "\\hat{\\theta}^{EM} = (\\hat{\\lambda}^{EM},\\hat{\\pi}^{EM})=(\t1.037824\t,0.615052)$$\n",
    "it converges at 31 times"
   ]
  },
  {
   "cell_type": "markdown",
   "metadata": {},
   "source": [
    "## (c) compare the result\n",
    "Newton's method result is \n",
    "$$\n",
    "\\hat{\\theta}^{Fisher} = (\\hat{\\lambda}^{Fisher},\\hat{\\pi}^{Fisher})=(1.037836,\t0.615055)$$\n",
    "it converges at 13 times\n",
    "\n",
    "Fisher scoring method result is \n",
    "$$\n",
    "\\hat{\\theta}^{Fisher} = (\\hat{\\lambda}^{Fisher},\\hat{\\pi}^{Fisher})=(1.037836,\t0.615055)$$\n",
    "it converges at 13 times\n",
    "\n",
    "EM result is \n",
    "$$\n",
    "\\hat{\\theta}^{EM} = (\\hat{\\lambda}^{EM},\\hat{\\pi}^{EM})=(\t1.037824\t,0.615052)$$\n",
    "it converges at 31 times  \n",
    "Estimated value of $\\theta$ is very similar but EM algorithm converges slower than Newton's and Fisher scoring method"
   ]
  },
  {
   "cell_type": "code",
   "execution_count": null,
   "metadata": {},
   "outputs": [],
   "source": []
  }
 ],
 "metadata": {
  "kernelspec": {
   "display_name": "Python 3",
   "language": "python",
   "name": "python3"
  },
  "language_info": {
   "codemirror_mode": {
    "name": "ipython",
    "version": 3
   },
   "file_extension": ".py",
   "mimetype": "text/x-python",
   "name": "python",
   "nbconvert_exporter": "python",
   "pygments_lexer": "ipython3",
   "version": "3.6.5"
  }
 },
 "nbformat": 4,
 "nbformat_minor": 2
}
