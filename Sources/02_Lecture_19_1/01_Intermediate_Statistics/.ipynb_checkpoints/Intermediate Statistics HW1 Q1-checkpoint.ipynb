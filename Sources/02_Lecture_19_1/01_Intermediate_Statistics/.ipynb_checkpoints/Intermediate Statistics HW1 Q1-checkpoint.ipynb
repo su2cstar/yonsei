{
 "cells": [
  {
   "cell_type": "code",
   "execution_count": 41,
   "metadata": {},
   "outputs": [],
   "source": [
    "import numpy as np\n",
    "import pandas as pd\n",
    "from scipy.optimize import minimize"
   ]
  },
  {
   "cell_type": "markdown",
   "metadata": {},
   "source": [
    "# Establish distribution function \n",
    "where, $\\sum x_i / n =5$, $\\sum x^2_i / n =32$, $\\sum x^3_i / n =78$"
   ]
  },
  {
   "cell_type": "markdown",
   "metadata": {},
   "source": [
    "#1 Use Gaussian Mixture Model  \n",
    "Let $X = w \\cdot X_1 + (1-w)\\cdot X_2$ where,  \n",
    "$X_1 \\sim N(\\mu_1,\\sigma^2_1)$ and $X_2 \\sim N(\\mu_2\\sigma^2_2)$"
   ]
  },
  {
   "cell_type": "markdown",
   "metadata": {},
   "source": [
    "#2 We know that moments of Gaussian Mixture Distribution  \n",
    "$E[X] = w \\cdot \\mu_1 + (1-w) \\cdot \\mu_2$  \n",
    "$E[X^2] = w\\cdot(\\mu_1^2+\\sigma_1^2) + (1-w)\\cdot(\\mu_2^2+\\sigma_2^2)$  \n",
    "$E[X^3] =  w\\cdot(\\mu_1^3 + 3\\cdot\\mu_1\\cdot(\\sigma_1^2)) + (1-w)\\cdot(\\mu_2^3 + 3\\cdot\\mu_2\\cdot(\\sigma_2^2))$"
   ]
  },
  {
   "cell_type": "markdown",
   "metadata": {},
   "source": [
    "#3 set loss function as  \n",
    "$Loss = (E[X]-5)^2 + (E[X^2]-32)^2 + (E[X^3]-78)^2$  \n",
    "and minimize Loss function\n",
    "\n",
    "Make loss function named lossFunction"
   ]
  },
  {
   "cell_type": "code",
   "execution_count": 145,
   "metadata": {},
   "outputs": [],
   "source": [
    "def lossFunction(plst):\n",
    "    mu1 = plst[0];mu2=plst[2];sd1=plst[1];sd2=plst[3];w=plst[4]\n",
    "    mmt1 = w*mu1 + (1-w)*mu2\n",
    "    mmt2 = w*(mu1**2+sd1**2) + (1-w)*(mu2**2+sd2**2)\n",
    "    mmt3 = w*(mu1**3 + 3*mu1*(sd1**2)) + (1-w)*(mu2**3 + 3*mu2*(sd2**2))\n",
    "    return (mmt1-5)**2 + (mmt2-32)**2 + (mmt3-78)**2"
   ]
  },
  {
   "cell_type": "markdown",
   "metadata": {},
   "source": [
    "Make function which return the value of moments given parameters"
   ]
  },
  {
   "cell_type": "code",
   "execution_count": 161,
   "metadata": {},
   "outputs": [],
   "source": [
    "def mmtout(plst):\n",
    "    mu1 = plst[0];mu2=plst[2];sd1=plst[1];sd2=plst[3];w=plst[4]\n",
    "    mmt1 = w*mu1 + (1-w)*mu2\n",
    "    mmt2 = w*(mu1**2+sd1**2) + (1-w)*(mu2**2+sd2**2)\n",
    "    mmt3 = w*(mu1**3 + 3*mu1*(sd1**2)) + (1-w)*(mu2**3 + 3*mu2*(sd2**2))\n",
    "    return mmt1,mmt2,mmt3"
   ]
  },
  {
   "cell_type": "markdown",
   "metadata": {},
   "source": [
    "set the initial value as $\\mu_1 = 0, \\mu_2 = 1 , \\sigma_1 =1 , \\sigma_2 =1 , w = 0.5$"
   ]
  },
  {
   "cell_type": "code",
   "execution_count": 178,
   "metadata": {},
   "outputs": [],
   "source": [
    "plst = [0,1,1,1,0.5]"
   ]
  },
  {
   "cell_type": "markdown",
   "metadata": {},
   "source": [
    "set the constraint  \n",
    "$\\sigma_1 \\ge 0 ,\\; \\sigma_2 \\ge 0 \\; and \\; 0 \\le w \\le 1$"
   ]
  },
  {
   "cell_type": "code",
   "execution_count": 146,
   "metadata": {},
   "outputs": [],
   "source": [
    "cons = ({'type': 'ineq',\n",
    "         'fun' : lambda x: np.array([x[1] ])},\n",
    "        {'type': 'ineq',\n",
    "         'fun' : lambda x: np.array([x[3] ])},\n",
    "        {'type': 'ineq',\n",
    "         'fun' : lambda x: np.array([x[4] ])},\n",
    "        {'type': 'ineq',\n",
    "         'fun' : lambda x: np.array([1-x[4]])})"
   ]
  },
  {
   "cell_type": "markdown",
   "metadata": {},
   "source": [
    "Optimize the loss function use minimize function in scipy module"
   ]
  },
  {
   "cell_type": "code",
   "execution_count": 179,
   "metadata": {},
   "outputs": [],
   "source": [
    "res = minimize(lossFunction, plst,constraints=cons)"
   ]
  },
  {
   "cell_type": "markdown",
   "metadata": {},
   "source": [
    "Get the Optimized parameter"
   ]
  },
  {
   "cell_type": "code",
   "execution_count": 180,
   "metadata": {
    "scrolled": true
   },
   "outputs": [
    {
     "data": {
      "text/plain": [
       "[-3.4833578427082905,\n",
       " 7.730406348228959,\n",
       " 5.159910423668099,\n",
       " 1.1030016473442144,\n",
       " 0.09497131912114513]"
      ]
     },
     "execution_count": 180,
     "metadata": {},
     "output_type": "execute_result"
    }
   ],
   "source": [
    "list(res.x)"
   ]
  },
  {
   "cell_type": "markdown",
   "metadata": {},
   "source": [
    "We get  \n",
    "$\\mu_1 = -3.4833578427082905$,  \n",
    "$\\sigma_1 =  7.730406348228959$,  \n",
    "$\\mu_2 = 5.159910423668099$,  \n",
    "$\\sigma_2 = 1.1030016473442144$,  \n",
    "$w= 0.09497131912114513$"
   ]
  },
  {
   "cell_type": "markdown",
   "metadata": {},
   "source": [
    "and get the moments with our parameters"
   ]
  },
  {
   "cell_type": "code",
   "execution_count": 177,
   "metadata": {},
   "outputs": [
    {
     "data": {
      "text/plain": [
       "(4.3390478348924, 32.02493398924479, 78.05542768777947)"
      ]
     },
     "execution_count": 177,
     "metadata": {},
     "output_type": "execute_result"
    }
   ],
   "source": [
    "mmtout(p2)"
   ]
  }
 ],
 "metadata": {
  "kernelspec": {
   "display_name": "Python 3",
   "language": "python",
   "name": "python3"
  },
  "language_info": {
   "codemirror_mode": {
    "name": "ipython",
    "version": 3
   },
   "file_extension": ".py",
   "mimetype": "text/x-python",
   "name": "python",
   "nbconvert_exporter": "python",
   "pygments_lexer": "ipython3",
   "version": "3.6.5"
  }
 },
 "nbformat": 4,
 "nbformat_minor": 2
}
