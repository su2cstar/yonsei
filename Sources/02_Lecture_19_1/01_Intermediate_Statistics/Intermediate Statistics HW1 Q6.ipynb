{
 "cells": [
  {
   "cell_type": "code",
   "execution_count": 18,
   "metadata": {},
   "outputs": [],
   "source": [
    "import numpy as np\n",
    "import pandas as pd\n",
    "import matplotlib.pyplot as plt"
   ]
  },
  {
   "cell_type": "markdown",
   "metadata": {},
   "source": [
    "Input the observation values"
   ]
  },
  {
   "cell_type": "code",
   "execution_count": 12,
   "metadata": {},
   "outputs": [],
   "source": [
    "obs = pd.Series([0.5160 , 0.2223, -0.1221, 0.1085, 0.0012, -0.0764, -0.0150, 0.0816,0.2489, -0.1932])"
   ]
  },
  {
   "cell_type": "markdown",
   "metadata": {},
   "source": [
    "# 6-(a)\n",
    "Make the $max(r_i,0)$ function"
   ]
  },
  {
   "cell_type": "code",
   "execution_count": 13,
   "metadata": {},
   "outputs": [],
   "source": [
    "def max0(x):\n",
    "    if x>0:\n",
    "        return x\n",
    "    else:\n",
    "        return 0"
   ]
  },
  {
   "cell_type": "markdown",
   "metadata": {},
   "source": [
    "Calculate the sample mean"
   ]
  },
  {
   "cell_type": "code",
   "execution_count": 29,
   "metadata": {
    "scrolled": true
   },
   "outputs": [
    {
     "name": "stdout",
     "output_type": "stream",
     "text": [
      "Sample mean is 0.11785000000000001\n"
     ]
    }
   ],
   "source": [
    "sample_mean = obs.map(max0).mean()\n",
    "print('Sample mean is',sample_mean)"
   ]
  },
  {
   "cell_type": "markdown",
   "metadata": {},
   "source": [
    "calculate the sample standard deviation"
   ]
  },
  {
   "cell_type": "code",
   "execution_count": 30,
   "metadata": {},
   "outputs": [
    {
     "name": "stdout",
     "output_type": "stream",
     "text": [
      "Samle standard dviation is 0.1690399443261201\n"
     ]
    }
   ],
   "source": [
    "sample_sd = obs.map(max0).std()\n",
    "print('Samle standard dviation is',sample_sd)"
   ]
  },
  {
   "cell_type": "markdown",
   "metadata": {},
   "source": [
    "as we know that sample variance $\\hat{\\sigma}^2$ follows that\n",
    "$$\\frac{n \\hat{\\sigma}^2}{\\sigma^2} \\sim \\chi^2_{n-1}$$\n",
    "so we solve the inequality\n",
    "$$ 2.70<\\frac{10 \\times 0.1690^2}{\\sigma^2} < 19.02$$\n",
    "then, 95% C.I for $\\sigma^2$ is\n",
    "$$ 0.0150<\\sigma^2<0.1058$$\n",
    "then, 95% C.I for $\\sigma$ is\n",
    "$$ 0.1225<\\sigma^2<0.3253$$"
   ]
  },
  {
   "cell_type": "markdown",
   "metadata": {},
   "source": [
    "# 6-(b)\n",
    "first calculate the sample mean and sample standard deviation"
   ]
  },
  {
   "cell_type": "code",
   "execution_count": 34,
   "metadata": {},
   "outputs": [],
   "source": [
    "mu_hat = obs.mean()\n",
    "sd_hat = obs.std()"
   ]
  },
  {
   "cell_type": "code",
   "execution_count": 35,
   "metadata": {},
   "outputs": [
    {
     "data": {
      "text/plain": [
       "0.07718"
      ]
     },
     "execution_count": 35,
     "metadata": {},
     "output_type": "execute_result"
    }
   ],
   "source": [
    "mu_hat"
   ]
  },
  {
   "cell_type": "code",
   "execution_count": 36,
   "metadata": {},
   "outputs": [
    {
     "data": {
      "text/plain": [
       "0.20943995055597414"
      ]
     },
     "execution_count": 36,
     "metadata": {},
     "output_type": "execute_result"
    }
   ],
   "source": [
    "sd_hat"
   ]
  },
  {
   "cell_type": "markdown",
   "metadata": {},
   "source": [
    "$$\\hat{\\mu} = 0.07718 \\; , \\; \\hat{\\sigma} = 0.20944$$\n",
    "We sampling the 10 iid observation$\\{ x_1,x_2 , \\cdots x_{10} \\}$ and calculate the sample standard error of $max(x_i,0)$.  \n",
    "Iterate it 10,000 times and sort  \n",
    "the 2.5% quantile and 97.5% quantile will be 95% C.I.  "
   ]
  },
  {
   "cell_type": "code",
   "execution_count": 99,
   "metadata": {},
   "outputs": [],
   "source": [
    "mc = []\n",
    "np.random.seed(0)\n",
    "for i in range(10000):\n",
    "    mc.append(pd.Series(np.random.normal(loc=mu_hat ,scale=sd_hat,size=10)).map(max0).mean())"
   ]
  },
  {
   "cell_type": "code",
   "execution_count": 100,
   "metadata": {},
   "outputs": [
    {
     "name": "stdout",
     "output_type": "stream",
     "text": [
      "95% C.I of r E[X]:  (0.04590309537487885, 0.2245181261391263)\n",
      "Standard Error of E[x] :  0.04603271224858704\n",
      "95% C.I of r exp(E[X]):  (1.0469729495197901, 1.251719399982383)\n",
      "Standard Error of E[x] :  0.05279352767153702\n"
     ]
    }
   ],
   "source": [
    "sorted_mc = sorted(mc)\n",
    "\n",
    "sorted_mc_np = pd.Series(sorted_mc)\n",
    "print('95% C.I of r E[X]: ',(sorted_mc_np[249], sorted_mc_np[9749]))\n",
    "print('Standard Error of E[x] : ' ,sorted_mc_np.std() )\n",
    "\n",
    "sorted_mc_exp = sorted_mc_np.map(lambda x: np.exp(x))\n",
    "print('95% C.I of r exp(E[X]): ',(sorted_mc_exp[249], sorted_mc_exp[9749]))\n",
    "print('Standard Error of E[x] : ' ,sorted_mc_exp.std() )"
   ]
  },
  {
   "cell_type": "markdown",
   "metadata": {},
   "source": [
    "# 6-(c)\n",
    "Sampling with replacement calculate the sample standard error of $max(x_i,0)$.  \n",
    "Iterate 10,000 times and sort  \n",
    "The 2.5% quantile and 97.5% quantile will be 95% C.I."
   ]
  },
  {
   "cell_type": "code",
   "execution_count": 101,
   "metadata": {},
   "outputs": [],
   "source": [
    "bts = []\n",
    "np.random.seed(0)\n",
    "for i in range(10000):\n",
    "    bts.append(pd.Series(np.random.choice(obs,size=10,replace=True)).map(max0).mean())"
   ]
  },
  {
   "cell_type": "code",
   "execution_count": 102,
   "metadata": {},
   "outputs": [
    {
     "name": "stdout",
     "output_type": "stream",
     "text": [
      "95% C.I of standard error :  (0.03075, 0.22875)\n",
      "Standard Error of E[x] :  0.05091737966093325\n",
      "95% C.I of r exp(E[X]):  (1.031227664741787, 1.2570277427887513)\n",
      "Standard Error of E[x] :  0.058034644566414016\n"
     ]
    }
   ],
   "source": [
    "sorted_bts = sorted(bts)\n",
    "sorted_bts_np = pd.Series(sorted_bts)\n",
    "print('95% C.I of standard error : ',(sorted_bts_np[249], sorted_bts_np[9749]))\n",
    "print('Standard Error of E[x] : ' ,sorted_bts_np.std() )\n",
    "\n",
    "sorted_bts_exp = sorted_bts_np.map(lambda x: np.exp(x))\n",
    "print('95% C.I of r exp(E[X]): ',(sorted_bts_exp[249], sorted_bts_exp[9749]))\n",
    "print('Standard Error of E[x] : ' ,sorted_bts_exp.std() )"
   ]
  },
  {
   "cell_type": "markdown",
   "metadata": {},
   "source": [
    "# 6-(d)\n",
    "We can sample data with out 1 obs, then we can get the 10 sampled vector  \n",
    "Also we can get 10 sample standard error  \n",
    "so, by averaging it we can get the estimator of standard error"
   ]
  },
  {
   "cell_type": "code",
   "execution_count": 105,
   "metadata": {},
   "outputs": [
    {
     "name": "stdout",
     "output_type": "stream",
     "text": [
      "Jackknife Estimator :  0.11785000000000001\n",
      "Jackknife Estimator standard error :  0.017818374653953202\n"
     ]
    }
   ],
   "source": [
    "jk = []\n",
    "for i in range(10):\n",
    "    jk.append(obs.drop(i).map(max0).mean())\n",
    "print('Jackknife Estimator : ',np.array(jk).mean())\n",
    "print('Jackknife Estimator standard error : ',np.array(jk).std())"
   ]
  },
  {
   "cell_type": "markdown",
   "metadata": {},
   "source": [
    "# 6-(e)\n",
    "As jacknife can make n samples it is not suffient to estimate the parameter  \n",
    "Since it does not neet to assume the distribution, I'll use bootstrap "
   ]
  },
  {
   "cell_type": "code",
   "execution_count": null,
   "metadata": {},
   "outputs": [],
   "source": []
  }
 ],
 "metadata": {
  "kernelspec": {
   "display_name": "Python 3",
   "language": "python",
   "name": "python3"
  },
  "language_info": {
   "codemirror_mode": {
    "name": "ipython",
    "version": 3
   },
   "file_extension": ".py",
   "mimetype": "text/x-python",
   "name": "python",
   "nbconvert_exporter": "python",
   "pygments_lexer": "ipython3",
   "version": "3.6.5"
  }
 },
 "nbformat": 4,
 "nbformat_minor": 2
}
