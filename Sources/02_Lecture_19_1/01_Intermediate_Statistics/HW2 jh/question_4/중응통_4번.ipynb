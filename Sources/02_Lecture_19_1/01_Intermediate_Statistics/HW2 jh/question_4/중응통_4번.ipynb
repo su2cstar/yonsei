{
 "cells": [
  {
   "cell_type": "code",
   "execution_count": 1,
   "metadata": {},
   "outputs": [],
   "source": [
    "import numpy as np\n",
    "import os"
   ]
  },
  {
   "cell_type": "code",
   "execution_count": 2,
   "metadata": {},
   "outputs": [],
   "source": [
    "x0 = 1\n",
    "x1 = 0.05\n",
    "x2 = 0.1\n",
    "y = 0.9\n",
    "\n",
    "a_k = 0.1 #learning rate"
   ]
  },
  {
   "cell_type": "code",
   "execution_count": 3,
   "metadata": {},
   "outputs": [],
   "source": [
    "params = np.random.uniform(-1,1,9)"
   ]
  },
  {
   "cell_type": "code",
   "execution_count": 4,
   "metadata": {},
   "outputs": [],
   "source": [
    "w0 = params[0]\n",
    "w1 = params[1]\n",
    "w2 = params[2]\n",
    "a0 = params[3]\n",
    "a1 = params[4]\n",
    "a2 = params[5]\n",
    "b0 = params[6]\n",
    "b1 = params[7]\n",
    "b2 = params[8]"
   ]
  },
  {
   "cell_type": "code",
   "execution_count": 5,
   "metadata": {},
   "outputs": [],
   "source": [
    "def sigmoid_fn(x1):\n",
    "    return(np.exp(x1)/(np.exp(x1)+1))"
   ]
  },
  {
   "cell_type": "markdown",
   "metadata": {},
   "source": [
    "# question (a) <br> Start with initial values for ai’s, bi’s and wi’s. <br> Then calculate hi’s, o and E."
   ]
  },
  {
   "cell_type": "code",
   "execution_count": 6,
   "metadata": {},
   "outputs": [],
   "source": [
    "h0 = 1\n",
    "h1 = sigmoid_fn(a0+a1*x1+a2*x2)\n",
    "h2 = sigmoid_fn(b0+b1*x1+b2*x2)\n",
    "o  = sigmoid_fn(w0+w1*h1+w2*h2)"
   ]
  },
  {
   "cell_type": "code",
   "execution_count": 7,
   "metadata": {},
   "outputs": [],
   "source": [
    "E = ((y-o)**2)/2"
   ]
  },
  {
   "cell_type": "code",
   "execution_count": 8,
   "metadata": {
    "scrolled": false
   },
   "outputs": [
    {
     "name": "stdout",
     "output_type": "stream",
     "text": [
      "a0 = -0.837356\n",
      "a1 = -0.075478\n",
      "a2 = 0.310341\n",
      "\n",
      "b0 = 0.408669\n",
      "b1 = 0.580519\n",
      "b2 = 0.816329\n",
      "\n",
      "w0 = -0.006751\n",
      "w1 = -0.270897\n",
      "w2 = -0.497940\n",
      "\n",
      "h1 = 0.307870\n",
      "h2 = 0.626990\n",
      "o = 0.400747\n",
      "E = 0.124627\n"
     ]
    }
   ],
   "source": [
    "print(\"a0 = %f\"%(a0))\n",
    "print(\"a1 = %f\"%(a1))\n",
    "print(\"a2 = %f\\n\"%(a2))\n",
    "\n",
    "print(\"b0 = %f\"%(b0))\n",
    "print(\"b1 = %f\"%(b1))\n",
    "print(\"b2 = %f\\n\"%(b2))\n",
    "\n",
    "print(\"w0 = %f\"%(w0))\n",
    "print(\"w1 = %f\"%(w1))\n",
    "print(\"w2 = %f\\n\"%(w2))\n",
    "\n",
    "print(\"h1 = %f\"%(h1))\n",
    "print(\"h2 = %f\"%(h2))\n",
    "print(\"o = %f\"%(o))\n",
    "print(\"E = %f\"%(E))"
   ]
  },
  {
   "cell_type": "markdown",
   "metadata": {},
   "source": [
    "# question (b) <br> Then update wi’s, and o and E."
   ]
  },
  {
   "cell_type": "code",
   "execution_count": 9,
   "metadata": {},
   "outputs": [],
   "source": [
    "dE_dw0 = -(y-o)*o*(1-o)*h0\n",
    "dE_dw1 = -(y-o)*o*(1-o)*h1\n",
    "dE_dw2 = -(y-o)*o*(1-o)*h2\n",
    "\n",
    "dE_da0 = -(y-o)*o*(1-o)*w1*h1*(1-h1)*x0\n",
    "dE_da1 = -(y-o)*o*(1-o)*w1*h1*(1-h1)*x1\n",
    "dE_da2 = -(y-o)*o*(1-o)*w1*h1*(1-h1)*x2\n",
    "\n",
    "dE_db0 = -(y-o)*o*(1-o)*w2*h2*(1-h2)*x0\n",
    "dE_db1 = -(y-o)*o*(1-o)*w2*h2*(1-h2)*x1\n",
    "dE_db2 = -(y-o)*o*(1-o)*w2*h2*(1-h2)*x2"
   ]
  },
  {
   "cell_type": "code",
   "execution_count": 10,
   "metadata": {},
   "outputs": [],
   "source": [
    "# update params wi's\n",
    "w0 -= a_k*dE_dw0\n",
    "w1 -= a_k*dE_dw1\n",
    "w2 -= a_k*dE_dw2"
   ]
  },
  {
   "cell_type": "code",
   "execution_count": 11,
   "metadata": {},
   "outputs": [],
   "source": [
    "h1 = sigmoid_fn(a0+a1*x1+a2*x2)\n",
    "h2 = sigmoid_fn(b0+b1*x1+b2*x2)\n",
    "o  = sigmoid_fn(w0+w1*h1+w2*h2)\n",
    "E = ((y-o)**2)/2"
   ]
  },
  {
   "cell_type": "code",
   "execution_count": 12,
   "metadata": {},
   "outputs": [
    {
     "name": "stdout",
     "output_type": "stream",
     "text": [
      "o = 0.405038\n",
      "\n",
      "E = 0.122494\n",
      "\n"
     ]
    }
   ],
   "source": [
    "print(\"o = %f\\n\"%(o))\n",
    "print(\"E = %f\\n\"%(E))"
   ]
  },
  {
   "cell_type": "markdown",
   "metadata": {},
   "source": [
    "# question (c) <br>  Then update ai’s and bi’s, and o and E."
   ]
  },
  {
   "cell_type": "code",
   "execution_count": 13,
   "metadata": {},
   "outputs": [],
   "source": [
    "# update params ai's, bi's\n",
    "a0 -= a_k*dE_da0\n",
    "a1 -= a_k*dE_da1\n",
    "a2 -= a_k*dE_da2\n",
    "\n",
    "b0 -= a_k*dE_db0\n",
    "b1 -= a_k*dE_db1\n",
    "b2 -= a_k*dE_db2"
   ]
  },
  {
   "cell_type": "code",
   "execution_count": 14,
   "metadata": {},
   "outputs": [],
   "source": [
    "h1 = sigmoid_fn(a0+a1*x1+a2*x2)\n",
    "h2 = sigmoid_fn(b0+b1*x1+b2*x2)\n",
    "o  = sigmoid_fn(w0+w1*h1+w2*h2)\n",
    "E = ((y-o)**2)/2"
   ]
  },
  {
   "cell_type": "code",
   "execution_count": 15,
   "metadata": {},
   "outputs": [
    {
     "name": "stdout",
     "output_type": "stream",
     "text": [
      "o = 0.405087\n",
      "\n",
      "E = 0.122470\n",
      "\n"
     ]
    }
   ],
   "source": [
    "print(\"o = %f\\n\"%(o))\n",
    "print(\"E = %f\\n\"%(E))"
   ]
  },
  {
   "cell_type": "markdown",
   "metadata": {},
   "source": [
    "# question (d) <br>Repeat 2), 3)"
   ]
  },
  {
   "cell_type": "code",
   "execution_count": 16,
   "metadata": {},
   "outputs": [
    {
     "name": "stdout",
     "output_type": "stream",
     "text": [
      "step = 100, o = 0.687336, E=0.022613\n",
      "step = 200, o = 0.776952, E=0.007570\n",
      "step = 300, o = 0.816117, E=0.003518\n",
      "step = 400, o = 0.837972, E=0.001924\n",
      "step = 500, o = 0.851924, E=0.001156\n",
      "step = 600, o = 0.861592, E=0.000738\n",
      "step = 700, o = 0.868665, E=0.000491\n",
      "step = 800, o = 0.874043, E=0.000337\n",
      "step = 900, o = 0.878248, E=0.000237\n",
      "step = 1000, o = 0.881609, E=0.000169\n",
      "step = 1100, o = 0.884339, E=0.000123\n",
      "step = 1200, o = 0.886587, E=0.000090\n",
      "step = 1300, o = 0.888458, E=0.000067\n",
      "step = 1400, o = 0.890030, E=0.000050\n",
      "step = 1500, o = 0.891359, E=0.000037\n",
      "step = 1600, o = 0.892491, E=0.000028\n",
      "step = 1700, o = 0.893459, E=0.000021\n",
      "step = 1800, o = 0.894291, E=0.000016\n",
      "step = 1900, o = 0.895009, E=0.000012\n",
      "step = 2000, o = 0.895630, E=0.000010\n",
      "step = 2100, o = 0.896169, E=0.000007\n",
      "step = 2200, o = 0.896637, E=0.000006\n",
      "step = 2300, o = 0.897046, E=0.000004\n",
      "step = 2400, o = 0.897403, E=0.000003\n",
      "step = 2500, o = 0.897715, E=0.000003\n",
      "step = 2600, o = 0.897988, E=0.000002\n",
      "step = 2700, o = 0.898228, E=0.000002\n",
      "step = 2800, o = 0.898438, E=0.000001\n",
      "step = 2900, o = 0.898623, E=0.000001\n",
      "step = 3000, o = 0.898786, E=0.000001\n",
      "step = 3100, o = 0.898929, E=0.000001\n",
      "step = 3200, o = 0.899054, E=0.000000\n",
      "step = 3300, o = 0.899165, E=0.000000\n",
      "step = 3400, o = 0.899263, E=0.000000\n",
      "step = 3500, o = 0.899349, E=0.000000\n",
      "step = 3600, o = 0.899425, E=0.000000\n",
      "step = 3700, o = 0.899492, E=0.000000\n",
      "step = 3800, o = 0.899551, E=0.000000\n",
      "step = 3900, o = 0.899603, E=0.000000\n",
      "step = 4000, o = 0.899650, E=0.000000\n",
      "step = 4100, o = 0.899690, E=0.000000\n",
      "step = 4200, o = 0.899726, E=0.000000\n",
      "step = 4300, o = 0.899758, E=0.000000\n",
      "step = 4400, o = 0.899786, E=0.000000\n",
      "step = 4500, o = 0.899811, E=0.000000\n",
      "step = 4600, o = 0.899833, E=0.000000\n",
      "step = 4700, o = 0.899852, E=0.000000\n",
      "training finished\n"
     ]
    }
   ],
   "source": [
    "step = 0 \n",
    "while True:\n",
    "    # get derivate of parmas\n",
    "    dE_dw0 = -(y-o)*o*(1-o)*h0\n",
    "    dE_dw1 = -(y-o)*o*(1-o)*h1\n",
    "    dE_dw2 = -(y-o)*o*(1-o)*h2\n",
    "\n",
    "    dE_da0 = -(y-o)*o*(1-o)*w1*h1*(1-h1)*x0\n",
    "    dE_da1 = -(y-o)*o*(1-o)*w1*h1*(1-h1)*x1\n",
    "    dE_da2 = -(y-o)*o*(1-o)*w1*h1*(1-h1)*x2\n",
    "\n",
    "    dE_db0 = -(y-o)*o*(1-o)*w2*h2*(1-h2)*x0\n",
    "    dE_db1 = -(y-o)*o*(1-o)*w2*h2*(1-h2)*x1\n",
    "    dE_db2 = -(y-o)*o*(1-o)*w2*h2*(1-h2)*x2\n",
    "\n",
    "    # update params wi's\n",
    "    w0 -= a_k*dE_dw0\n",
    "    w1 -= a_k*dE_dw1\n",
    "    w2 -= a_k*dE_dw2\n",
    "\n",
    "    # update params ai's, bi's\n",
    "    a0 -= a_k*dE_da0\n",
    "    a1 -= a_k*dE_da1\n",
    "    a2 -= a_k*dE_da2\n",
    "\n",
    "    b0 -= a_k*dE_db0\n",
    "    b1 -= a_k*dE_db1\n",
    "    b2 -= a_k*dE_db2\n",
    "\n",
    "    # hidden/output layer\n",
    "    h1 = sigmoid_fn(a0+a1*x1+a2*x2)\n",
    "    h2 = sigmoid_fn(b0+b1*x1+b2*x2)\n",
    "    o  = sigmoid_fn(w0+w1*h1+w2*h2)\n",
    "    E = ((y-o)**2)/2\n",
    "\n",
    "    step += 1\n",
    "    if step%100==0:\n",
    "        print(\"step = %d, o = %f, E=%f\"%(step,o,E))\n",
    "    else:\n",
    "        pass\n",
    "    \n",
    "    if E<0.00000001: # when Error < 0.00000001, finish training.\n",
    "        print(\"training finished\")\n",
    "        break\n",
    "    else:\n",
    "        continue\n",
    "\n",
    "    if step>10000: # prevent infinite loop\n",
    "        break\n",
    "    else:\n",
    "        continue"
   ]
  }
 ],
 "metadata": {
  "kernelspec": {
   "display_name": "Python 3",
   "language": "python",
   "name": "python3"
  },
  "language_info": {
   "codemirror_mode": {
    "name": "ipython",
    "version": 3
   },
   "file_extension": ".py",
   "mimetype": "text/x-python",
   "name": "python",
   "nbconvert_exporter": "python",
   "pygments_lexer": "ipython3",
   "version": "3.6.7"
  }
 },
 "nbformat": 4,
 "nbformat_minor": 2
}
