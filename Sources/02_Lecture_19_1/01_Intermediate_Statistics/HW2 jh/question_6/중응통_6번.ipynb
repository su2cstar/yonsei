{
 "cells": [
  {
   "cell_type": "code",
   "execution_count": 1,
   "metadata": {},
   "outputs": [],
   "source": [
    "import os\n",
    "import pandas as pd\n",
    "import numpy as np\n",
    "import matplotlib.pyplot as plt\n",
    "from scipy import stats\n",
    "\n",
    "os.chdir(\"D:/강재훈/연세대학교/석사/2019_1_석사_2학기/수업/중응통/HW/HW2/question_6\")"
   ]
  },
  {
   "cell_type": "code",
   "execution_count": 2,
   "metadata": {},
   "outputs": [],
   "source": [
    "df1 = pd.read_table(\"geyser.dat\", header=None)\n",
    "mat1 = np.array(df1, dtype=int).flatten()\n",
    "mat2 = mat1[mat1>0]"
   ]
  },
  {
   "cell_type": "code",
   "execution_count": 3,
   "metadata": {},
   "outputs": [
    {
     "data": {
      "text/plain": [
       "array([ 80,  71,  57,  80,  75,  77,  60,  86,  77,  56,  81,  50,  89,\n",
       "        54,  90,  73,  60,  83,  65,  82,  84,  54,  85,  58,  79,  57,\n",
       "        88,  68,  76,  78,  74,  85,  75,  65,  76,  58,  91,  50,  87,\n",
       "        48,  93,  54,  86,  53,  78,  52,  83,  60,  87,  49,  80,  60,\n",
       "        92,  43,  89,  60,  84,  69,  74,  71, 108,  50,  77,  57,  80,\n",
       "        61,  82,  48,  81,  73,  62,  79,  54,  80,  73,  81,  62,  81,\n",
       "        71,  79,  81,  74,  59,  81,  66,  87,  53,  80,  50,  87,  51,\n",
       "        82,  58,  81,  49,  92,  50,  88,  62,  93,  56,  89,  51,  79,\n",
       "        58,  82,  52,  88,  52,  78,  69,  75,  77,  53,  80,  55,  87,\n",
       "        53,  85,  61,  93,  54,  76,  80,  81,  59,  86,  78,  71,  77,\n",
       "        76,  94,  75,  50,  83,  82,  72,  77,  75,  65,  79,  72,  78,\n",
       "        77,  79,  75,  78,  64,  80,  49,  88,  54,  85,  51,  96,  50,\n",
       "        80,  78,  81,  72,  75,  78,  87,  69,  55,  83,  49,  82,  57,\n",
       "        84,  57,  84,  73,  78,  57,  79,  57,  90,  62,  87,  78,  52,\n",
       "        98,  48,  78,  79,  65,  84,  50,  83,  60,  80,  50,  88,  50,\n",
       "        84,  74,  76,  65,  89,  49,  88,  51,  78,  85,  65,  75,  77,\n",
       "        69,  92,  68,  87,  61,  81,  55,  93,  53,  84,  70,  73,  93,\n",
       "        50,  87,  77,  74,  72,  82,  74,  80,  49,  91,  53,  86,  49,\n",
       "        79,  89,  87,  76,  59,  80,  89,  45,  93,  72,  71,  54,  79,\n",
       "        74,  65,  78,  57,  87,  72,  84,  47,  84,  57,  87,  68,  86,\n",
       "        75,  73,  53,  82,  93,  77,  54,  96,  48,  89,  63,  84,  76,\n",
       "        62,  83,  50,  85,  78,  78,  81,  78,  76,  74,  81,  66,  84,\n",
       "        48,  93,  47,  87,  51,  78,  54,  87,  52,  85,  58,  88,  79])"
      ]
     },
     "execution_count": 3,
     "metadata": {},
     "output_type": "execute_result"
    }
   ],
   "source": [
    "mat2"
   ]
  },
  {
   "cell_type": "markdown",
   "metadata": {},
   "source": [
    "# Question (a) <br> Draw the histogram"
   ]
  },
  {
   "cell_type": "code",
   "execution_count": 4,
   "metadata": {
    "scrolled": true
   },
   "outputs": [
    {
     "data": {
      "image/png": "[encoded data removed]",
      "text/plain": [
       "<Figure size 432x288 with 1 Axes>"
      ]
     },
     "metadata": {
      "needs_background": "light"
     },
     "output_type": "display_data"
    }
   ],
   "source": [
    "plt.hist(mat2, density=1)\n",
    "plt.title(\"Histogram of geyser data\")\n",
    "plt.show()"
   ]
  },
  {
   "cell_type": "markdown",
   "metadata": {},
   "source": [
    "# Question (b) <br> Assume a normal distribution, and estimate the mean and standard deviation."
   ]
  },
  {
   "cell_type": "markdown",
   "metadata": {},
   "source": [
    "MLE of Normal distribution is\n",
    "\n",
    "\\begin{align}\n",
    "\\mu_{mle} & = \\frac{1}{n}\\sum_{j=1}^{n}x_j\\\\\n",
    "\\sigma_{mle}^{2} & = \\frac{1}{n}\\sum_{j=1}^{n} (x_j-\\mu_{mle})^{2} \\\\\n",
    "\\end{align}"
   ]
  },
  {
   "cell_type": "code",
   "execution_count": 5,
   "metadata": {},
   "outputs": [],
   "source": [
    "mle_mean = sum(mat2)/len(mat2)\n",
    "mle_std  = np.sqrt(sum((mat2-mle_mean)**2)/len(mat2))"
   ]
  },
  {
   "cell_type": "code",
   "execution_count": 6,
   "metadata": {},
   "outputs": [
    {
     "name": "stdout",
     "output_type": "stream",
     "text": [
      "estimated mean = 72.314381\n",
      "estimated standard deviation = 13.867077\n"
     ]
    }
   ],
   "source": [
    "print(\"estimated mean = %f\"%(mle_mean))\n",
    "print(\"estimated standard deviation = %f\"%(mle_std))"
   ]
  },
  {
   "cell_type": "markdown",
   "metadata": {},
   "source": [
    "# Question (c) <br> Gabsoon modelled the data as coming from a normal mixture. Use the EM algorithm and estimate params."
   ]
  },
  {
   "cell_type": "code",
   "execution_count": 7,
   "metadata": {},
   "outputs": [],
   "source": [
    "w0 = 0.5\n",
    "\n",
    "mu1 = 40\n",
    "sgm1 = 1\n",
    "mu2 = 70\n",
    "sgm2 = 1"
   ]
  },
  {
   "cell_type": "code",
   "execution_count": 8,
   "metadata": {
    "scrolled": true
   },
   "outputs": [
    {
     "name": "stdout",
     "output_type": "stream",
     "text": [
      "step=1, w0=0.185619, mu1=50.80, sigma1=2.52, mu2=77.22, sigma2=10.25\n",
      "step=2, w0=0.187226, mu1=51.22, sigma1=2.83, mu2=77.17, sigma2=10.42\n",
      "step=3, w0=0.196532, mu1=51.52, sigma1=3.08, mu2=77.40, sigma2=10.27\n",
      "step=4, w0=0.208542, mu1=51.81, sigma1=3.30, mu2=77.72, sigma2=10.00\n",
      "step=5, w0=0.221451, mu1=52.09, sigma1=3.50, mu2=78.07, sigma2=9.70\n",
      "step=6, w0=0.234318, mu1=52.37, sigma1=3.70, mu2=78.42, sigma2=9.38\n",
      "step=7, w0=0.246573, mu1=52.64, sigma1=3.88, mu2=78.75, sigma2=9.07\n",
      "step=8, w0=0.257808, mu1=52.90, sigma1=4.04, mu2=79.06, sigma2=8.77\n",
      "step=9, w0=0.267723, mu1=53.13, sigma1=4.19, mu2=79.33, sigma2=8.51\n",
      "step=10, w0=0.276141, mu1=53.34, sigma1=4.33, mu2=79.55, sigma2=8.29\n",
      "step=11, w0=0.283048, mu1=53.51, sigma1=4.44, mu2=79.74, sigma2=8.11\n",
      "step=12, w0=0.288570, mu1=53.66, sigma1=4.55, mu2=79.88, sigma2=7.97\n",
      "step=13, w0=0.292912, mu1=53.78, sigma1=4.63, mu2=79.99, sigma2=7.86\n",
      "step=14, w0=0.296292, mu1=53.87, sigma1=4.70, mu2=80.08, sigma2=7.77\n",
      "step=15, w0=0.298909, mu1=53.95, sigma1=4.75, mu2=80.15, sigma2=7.71\n",
      "step=16, w0=0.300930, mu1=54.00, sigma1=4.80, mu2=80.20, sigma2=7.66\n",
      "step=17, w0=0.302485, mu1=54.05, sigma1=4.83, mu2=80.24, sigma2=7.63\n",
      "step=18, w0=0.303681, mu1=54.09, sigma1=4.86, mu2=80.26, sigma2=7.60\n",
      "step=19, w0=0.304599, mu1=54.11, sigma1=4.88, mu2=80.29, sigma2=7.58\n",
      "step=20, w0=0.305303, mu1=54.13, sigma1=4.90, mu2=80.30, sigma2=7.56\n",
      "step=21, w0=0.305842, mu1=54.15, sigma1=4.91, mu2=80.32, sigma2=7.55\n",
      "step=22, w0=0.306255, mu1=54.16, sigma1=4.92, mu2=80.33, sigma2=7.54\n",
      "step=23, w0=0.306571, mu1=54.17, sigma1=4.93, mu2=80.34, sigma2=7.53\n",
      "step=24, w0=0.306812, mu1=54.18, sigma1=4.93, mu2=80.34, sigma2=7.53\n",
      "step=25, w0=0.306997, mu1=54.18, sigma1=4.94, mu2=80.35, sigma2=7.52\n",
      "step=26, w0=0.307138, mu1=54.19, sigma1=4.94, mu2=80.35, sigma2=7.52\n",
      "step=27, w0=0.307245, mu1=54.19, sigma1=4.94, mu2=80.35, sigma2=7.52\n",
      "step=28, w0=0.307328, mu1=54.19, sigma1=4.95, mu2=80.35, sigma2=7.51\n",
      "step=29, w0=0.307391, mu1=54.20, sigma1=4.95, mu2=80.36, sigma2=7.51\n",
      "step=30, w0=0.307439, mu1=54.20, sigma1=4.95, mu2=80.36, sigma2=7.51\n",
      "step=31, w0=0.307475, mu1=54.20, sigma1=4.95, mu2=80.36, sigma2=7.51\n",
      "step=32, w0=0.307503, mu1=54.20, sigma1=4.95, mu2=80.36, sigma2=7.51\n",
      "step=33, w0=0.307525, mu1=54.20, sigma1=4.95, mu2=80.36, sigma2=7.51\n",
      "step=34, w0=0.307541, mu1=54.20, sigma1=4.95, mu2=80.36, sigma2=7.51\n"
     ]
    }
   ],
   "source": [
    "list_save = [[0,0,0,0,0]]\n",
    "step=0\n",
    "while True:\n",
    "    step+=1\n",
    "\n",
    "    density1 = w0*stats.norm.pdf(mat2,mu1,sgm1)\n",
    "    density2 = (1-w0)*stats.norm.pdf(mat2,mu2,sgm2)\n",
    "    density = density1+density2\n",
    "    prob1 = density1/density\n",
    "    prob2 = 1-prob1\n",
    "\n",
    "    w0 = sum(prob1)/mat2.shape[0]\n",
    "    mu1 = sum(prob1*mat2)/sum(prob1)\n",
    "    mu2 = sum(prob2*mat2)/sum(prob2)\n",
    "    sgm1 = np.sqrt(sum(prob1*(mat2-mu1)**2)/sum(prob1))\n",
    "    sgm2 = np.sqrt(sum(prob2*(mat2-mu2)**2)/sum(prob2))\n",
    "    \n",
    "    print(\"step=%d, w0=%f, mu1=%0.2f, sigma1=%0.2f, mu2=%0.2f, sigma2=%0.2f\"%(step, w0,np.round(mu1,2),np.round(sgm1,2),np.round(mu2,2),np.round(sgm2,2)))\n",
    "\n",
    "    save1 = [w0,mu1,sgm1,mu2,sgm2]\n",
    "   \n",
    "    if sum(np.array(save1)-np.array(list_save[-1]))<0.001: # prevent infinite loop\n",
    "        break\n",
    "    else:  \n",
    "        list_save.append(save1)\n",
    "        continue"
   ]
  },
  {
   "cell_type": "markdown",
   "metadata": {},
   "source": [
    "## result"
   ]
  },
  {
   "cell_type": "code",
   "execution_count": 9,
   "metadata": {},
   "outputs": [
    {
     "name": "stdout",
     "output_type": "stream",
     "text": [
      "step=34, w0=0.307541, mu1=54.20, sigma1=4.95, mu2=80.36, sigma2=7.51\n"
     ]
    }
   ],
   "source": [
    "print(\"step=%d, w0=%f, mu1=%0.2f, sigma1=%0.2f, mu2=%0.2f, sigma2=%0.2f\"%(step, w0,np.round(mu1,2),np.round(sgm1,2),np.round(mu2,2),np.round(sgm2,2)))"
   ]
  },
  {
   "cell_type": "markdown",
   "metadata": {},
   "source": [
    "# Question (d) <br> Which one is better, a normal distribution or a normal mixture distribution? Can you give a clear criterion?"
   ]
  },
  {
   "cell_type": "markdown",
   "metadata": {},
   "source": [
    "## Likelihood of a Normal distribution"
   ]
  },
  {
   "cell_type": "code",
   "execution_count": 66,
   "metadata": {},
   "outputs": [],
   "source": [
    "part1 = -(n1*0.5)*np.log(2*np.pi)-(n1*0.5)*np.log(mle_std**2)\n",
    "part2 = -1/(2*(mle_std**2))\n",
    "part3 = sum((mat2-mle_mean)**2)\n",
    "\n",
    "result1 = part1+part2*part3"
   ]
  },
  {
   "cell_type": "code",
   "execution_count": 67,
   "metadata": {
    "scrolled": false
   },
   "outputs": [
    {
     "name": "stdout",
     "output_type": "stream",
     "text": [
      "Log likelihood of a normal distribution: -1210.488336\n"
     ]
    }
   ],
   "source": [
    "print(\"Log likelihood of a normal distribution: %f\"%(result1))"
   ]
  },
  {
   "cell_type": "markdown",
   "metadata": {},
   "source": [
    "## Likelihood of a Normal Mixture distribution"
   ]
  },
  {
   "cell_type": "code",
   "execution_count": 68,
   "metadata": {},
   "outputs": [],
   "source": [
    "part1_mix = w0*stats.norm.pdf(mat2,mu1,sgm1)\n",
    "part2_mix = (1-w0)*stats.norm.pdf(mat2,mu2,sgm2)\n",
    "\n",
    "result2 = sum(np.log(part1_mix+part2_mix))"
   ]
  },
  {
   "cell_type": "code",
   "execution_count": 69,
   "metadata": {
    "scrolled": true
   },
   "outputs": [
    {
     "name": "stdout",
     "output_type": "stream",
     "text": [
      "Log likelihood of a normal mixture distribution: -1157.542021\n"
     ]
    }
   ],
   "source": [
    "print(\"Log likelihood of a normal mixture distribution: %f\"%(result2))"
   ]
  },
  {
   "cell_type": "markdown",
   "metadata": {},
   "source": [
    "-1157.542021 > -1210.488336<br>\n",
    "Log likelihood of a normal mixture distribution > Log likelihood of a normal distribution<br>\n",
    "\n",
    "We can know that Normal Mixture Distribution is better model."
   ]
  },
  {
   "cell_type": "markdown",
   "metadata": {},
   "source": [
    "## plot"
   ]
  },
  {
   "cell_type": "code",
   "execution_count": 103,
   "metadata": {},
   "outputs": [],
   "source": [
    "axis_x = np.arange(40,110)"
   ]
  },
  {
   "cell_type": "code",
   "execution_count": 104,
   "metadata": {},
   "outputs": [],
   "source": [
    "rnorm = stats.norm.pdf(axis_x,mle_mean,mle_std)"
   ]
  },
  {
   "cell_type": "code",
   "execution_count": 105,
   "metadata": {},
   "outputs": [],
   "source": [
    "density1 = w0*stats.norm.pdf(axis_x,mu1,sgm1)\n",
    "density2 = (1-w0)*stats.norm.pdf(axis_x,mu2,sgm2)\n",
    "density = density1+density2"
   ]
  },
  {
   "cell_type": "code",
   "execution_count": 107,
   "metadata": {},
   "outputs": [
    {
     "data": {
      "image/png": "[encoded data removed]",
      "text/plain": [
       "<Figure size 432x288 with 1 Axes>"
      ]
     },
     "metadata": {
      "needs_background": "light"
     },
     "output_type": "display_data"
    }
   ],
   "source": [
    "plt.hist(mat2, density=1)\n",
    "plt.plot(axis_x, rnorm, 'r')\n",
    "plt.title(\"Normal dist\")\n",
    "plt.show()"
   ]
  },
  {
   "cell_type": "code",
   "execution_count": 100,
   "metadata": {
    "scrolled": true
   },
   "outputs": [
    {
     "data": {
      "image/png": "[encoded data removed]",
      "text/plain": [
       "<Figure size 432x288 with 1 Axes>"
      ]
     },
     "metadata": {
      "needs_background": "light"
     },
     "output_type": "display_data"
    }
   ],
   "source": [
    "plt.hist(mat2, density=1)\n",
    "plt.plot(axis_x, density, 'r')\n",
    "plt.title(\"Normal Mixture dist\")\n",
    "plt.show()"
   ]
  },
  {
   "cell_type": "markdown",
   "metadata": {},
   "source": [
    "We can also know that normal mixture distribution is better from the histogram above."
   ]
  }
 ],
 "metadata": {
  "kernelspec": {
   "display_name": "Python 3",
   "language": "python",
   "name": "python3"
  },
  "language_info": {
   "codemirror_mode": {
    "name": "ipython",
    "version": 3
   },
   "file_extension": ".py",
   "mimetype": "text/x-python",
   "name": "python",
   "nbconvert_exporter": "python",
   "pygments_lexer": "ipython3",
   "version": "3.6.7"
  }
 },
 "nbformat": 4,
 "nbformat_minor": 2
}
