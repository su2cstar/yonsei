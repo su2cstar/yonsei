{
 "cells": [
  {
   "cell_type": "markdown",
   "metadata": {},
   "source": [
    "### import modules"
   ]
  },
  {
   "cell_type": "code",
   "execution_count": 1,
   "metadata": {},
   "outputs": [],
   "source": [
    "import numpy as np\n",
    "import pandas as pd"
   ]
  },
  {
   "cell_type": "markdown",
   "metadata": {},
   "source": [
    "### Define sigmoid function and E (error) function"
   ]
  },
  {
   "cell_type": "code",
   "execution_count": 2,
   "metadata": {},
   "outputs": [],
   "source": [
    "def sigmoid(x):\n",
    "    return (1 / (1 + np.exp(-x)))"
   ]
  },
  {
   "cell_type": "code",
   "execution_count": 3,
   "metadata": {},
   "outputs": [],
   "source": [
    "def lossfunc(y,o):\n",
    "    return (y-o)**2/2"
   ]
  },
  {
   "cell_type": "markdown",
   "metadata": {},
   "source": [
    "### Set X and y"
   ]
  },
  {
   "cell_type": "code",
   "execution_count": 4,
   "metadata": {},
   "outputs": [],
   "source": [
    "X = np.array([1,0.05,0.1])\n",
    "y = 0.9"
   ]
  },
  {
   "cell_type": "markdown",
   "metadata": {},
   "source": [
    "## (a) start initail values and calculate $h_i,o, E$"
   ]
  },
  {
   "cell_type": "markdown",
   "metadata": {},
   "source": [
    "Set functions in the problem and initialize $a_i, b_i,w_i$  \n",
    "$$\n",
    "a_i \\stackrel{\\rm iid}{\\sim} N(0,1)\\\\\n",
    "b_i \\stackrel{\\rm iid}{\\sim} N(0,1)\\\\\n",
    "w_i \\stackrel{\\rm iid}{\\sim} N(0,1)\n",
    "$$  \n",
    "for $i = 0 , 1, 2$"
   ]
  },
  {
   "cell_type": "code",
   "execution_count": 5,
   "metadata": {},
   "outputs": [],
   "source": [
    "np.random.seed(0)\n",
    "A_0 = np.random.randn(3)\n",
    "B_0 = np.random.randn(3)\n",
    "W_0 = np.random.randn(3)\n",
    "\n",
    "H_0 = np.array([1,sigmoid(np.matmul(A_0,X)),sigmoid(np.matmul(B_0,X))])\n",
    "O_0 = sigmoid(np.matmul(W_0,H_0))"
   ]
  },
  {
   "cell_type": "code",
   "execution_count": 6,
   "metadata": {},
   "outputs": [
    {
     "name": "stdout",
     "output_type": "stream",
     "text": [
      "a_i's are [1.76405235 0.40015721 0.97873798]\n",
      "b_i's are [ 2.2408932   1.86755799 -0.97727788]\n",
      "w_i's are [ 0.95008842 -0.15135721 -0.10321885]\n"
     ]
    }
   ],
   "source": [
    "print(\"a_i's are\", A_0)\n",
    "print(\"b_i's are\", B_0)\n",
    "print(\"w_i's are\", W_0)"
   ]
  },
  {
   "cell_type": "code",
   "execution_count": 7,
   "metadata": {},
   "outputs": [
    {
     "name": "stdout",
     "output_type": "stream",
     "text": [
      "h_i's are [1.         0.86783311 0.90348345]\n",
      "Threrfore\n",
      "o : 0.673812 \n",
      "E : 0.025580\n"
     ]
    }
   ],
   "source": [
    "print(\"h_i's are\", H_0)\n",
    "print(\"Threrfore\\no : %f \\nE : %f\" %(O_0,lossfunc(y,O_0)))"
   ]
  },
  {
   "cell_type": "markdown",
   "metadata": {},
   "source": [
    "## (b) Update $w_i$'s and $o$ and $E$"
   ]
  },
  {
   "cell_type": "markdown",
   "metadata": {},
   "source": [
    "let $\\alpha_k = 1$ then"
   ]
  },
  {
   "cell_type": "code",
   "execution_count": 8,
   "metadata": {},
   "outputs": [
    {
     "name": "stdout",
     "output_type": "stream",
     "text": [
      "updated w_i's are [ 0.99980202 -0.1082141  -0.05830344]\n",
      "updated o : 0.701241\n",
      "updated E : 0.019753\n"
     ]
    }
   ],
   "source": [
    "alphak = 1\n",
    "W_1 = W_0 + alphak*(y-O_0)*O_0*(1-O_0)*H_0\n",
    "O_1 = sigmoid(np.matmul(W_1,H_0))\n",
    "print(\"updated w_i's are\", W_1)\n",
    "print(\"updated o : %f\" %O_1)\n",
    "print(\"updated E : %f\" %lossfunc(y,O_1))"
   ]
  },
  {
   "cell_type": "markdown",
   "metadata": {},
   "source": [
    "## (c) Update $a_i$'s and $b_i$'s and $o$ and $E$"
   ]
  },
  {
   "cell_type": "code",
   "execution_count": 9,
   "metadata": {},
   "outputs": [
    {
     "name": "stdout",
     "output_type": "stream",
     "text": [
      "updated a_i's are [1.7634353  0.40012636 0.97867628]\n",
      "updated b_i's are [ 2.24064045  1.86754535 -0.97730315]\n",
      "updated o : 0.701243\n",
      "updated E : 0.019752\n"
     ]
    }
   ],
   "source": [
    "A_1 = A_0 + alphak *(y-O_0)*O_0*(1-O_0)\\\n",
    "            * W_1[1]*H_0[1]*(1-H_0[1])*X\n",
    "B_1 = B_0 + alphak *(y-O_0)*O_0*(1-O_0) \\\n",
    "            * W_1[2]*H_0[2]*(1-H_0[2])*X\n",
    "\n",
    "H_1 = np.array([1,sigmoid(np.matmul(A_1,X)),sigmoid(np.matmul(B_1,X))])\n",
    "O_1 = sigmoid(np.matmul(W_1,H_1))\n",
    "\n",
    "print(\"updated a_i's are\", A_1)\n",
    "print(\"updated b_i's are\", B_1)\n",
    "print(\"updated o : %f\" %O_1)\n",
    "print(\"updated E : %f\" %lossfunc(y,O_1))"
   ]
  },
  {
   "cell_type": "markdown",
   "metadata": {},
   "source": [
    "## (d) Repeat 10000 times"
   ]
  },
  {
   "cell_type": "code",
   "execution_count": 10,
   "metadata": {},
   "outputs": [
    {
     "name": "stdout",
     "output_type": "stream",
     "text": [
      "repeated a_i's are [1.75692136 0.39980066 0.97802489]\n",
      "repeated b_i's are [ 2.23797638  1.86741215 -0.97756956]\n",
      "repeated w_i's are [1.52313809 0.34572447 0.41445062]\n",
      "repeated o : 0.900000\n",
      "repeated E : 0.000000\n"
     ]
    }
   ],
   "source": [
    "for i in range(10000):\n",
    "    W_0 = W_0 + alphak*(y-O_0)*O_0*(1-O_0)*H_0\n",
    "    A_0 = A_0 + alphak *(y-O_0)*O_0*(1-O_0) \\\n",
    "                * W_1[1]*H_0[1]*(1-H_0[1])*X\n",
    "    B_0 = B_0 + alphak *(y-O_0)*O_0*(1-O_0) \\\n",
    "                * W_1[2]*H_0[2]*(1-H_0[2])*X\n",
    "\n",
    "    H_0 = np.array([1,sigmoid(np.matmul(A_0,X))\\\n",
    "                    ,sigmoid(np.matmul(B_0,X))])\n",
    "    O_0 = sigmoid(np.matmul(W_0,H_0))\n",
    "\n",
    "print(\"repeated a_i's are\", A_0)\n",
    "print(\"repeated b_i's are\", B_0)\n",
    "print(\"repeated w_i's are\", W_0)\n",
    "print(\"repeated o : %f\" %O_0)\n",
    "print(\"repeated E : %f\" %lossfunc(y,O_0))"
   ]
  }
 ],
 "metadata": {
  "kernelspec": {
   "display_name": "Python 3",
   "language": "python",
   "name": "python3"
  },
  "language_info": {
   "codemirror_mode": {
    "name": "ipython",
    "version": 3
   },
   "file_extension": ".py",
   "mimetype": "text/x-python",
   "name": "python",
   "nbconvert_exporter": "python",
   "pygments_lexer": "ipython3",
   "version": "3.6.5"
  }
 },
 "nbformat": 4,
 "nbformat_minor": 2
}
