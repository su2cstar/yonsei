{
 "cells": [
  {
   "cell_type": "markdown",
   "metadata": {},
   "source": [
    "### import module"
   ]
  },
  {
   "cell_type": "code",
   "execution_count": 1,
   "metadata": {},
   "outputs": [],
   "source": [
    "import numpy as np\n",
    "import pandas as pd\n",
    "import matplotlib.pyplot as plt"
   ]
  },
  {
   "cell_type": "markdown",
   "metadata": {},
   "source": [
    "### input data"
   ]
  },
  {
   "cell_type": "code",
   "execution_count": 39,
   "metadata": {},
   "outputs": [],
   "source": [
    "lst = [80, 71, 57, 80, 75, 77, 60, 86, 77, 56, 81, 50, 89,\n",
    "       54, 90, 73, 60, 83, 65, 82, 84, 54, 85, 58, 79, 57,\n",
    "       88, 68, 76, 78, 74, 85, 75, 65, 76, 58, 91, 50, 87, \n",
    "       48, 93, 54, 86, 53, 78, 52, 83, 60, 87, 49, 80, 60, \n",
    "       92, 43, 89, 60, 84, 69, 74, 71, 108, 50, 77, 57, 80, \n",
    "       61, 82, 48, 81, 73, 62, 79, 54, 80, 73, 81, 62, 81,\n",
    "       71, 79, 81, 74, 59, 81, 66, 87, 53, 80, 50, 87, 51,\n",
    "       82, 58, 81, 49, 92, 50, 88, 62, 93, 56, 89, 51, 79, \n",
    "       58, 82, 52, 88, 52, 78, 69, 75, 77, 53, 80, 55, 87, \n",
    "       53, 85, 61, 93, 54, 76, 80, 81, 59, 86, 78, 71, 77, \n",
    "       76, 94, 75, 50, 83, 82, 72, 77, 75, 65, 79, 72, 78, \n",
    "       77, 79, 75, 78, 64, 80, 49, 88, 54, 86, 51, 96, 50, \n",
    "       80, 78, 81, 72, 75, 78, 87, 69, 55, 83, 49, 82, 57, \n",
    "       84, 57, 84, 73, 78, 57, 79, 57, 90, 62, 87, 78, 52, \n",
    "       98, 48, 78, 79, 65, 84, 50, 83, 60, 80, 50, 88, 50, \n",
    "       84, 74, 76, 65, 89, 49, 88, 51, 78, 85, 65, 75, 77, \n",
    "       69, 92, 68, 87, 61, 81, 55, 93, 53, 84, 70, 73, 93, \n",
    "       50, 87, 77, 74, 72, 82, 74, 80, 49, 91, 53, 86, 49, \n",
    "       79, 89, 87, 76, 59, 80, 89, 45, 93, 72, 71, 54, 79, \n",
    "       74, 65, 78, 57, 87, 72, 84, 47, 84, 57, 87, 68, 86, \n",
    "       75, 73, 53, 82, 93, 77, 54, 96, 48, 89, 63, 84, 76,\n",
    "       62, 83, 50, 85, 78, 78, 81, 78, 76, 74, 81, 66, 84, \n",
    "       48, 93, 47, 87, 51, 78, 54, 87, 52, 85, 58, 88, 79]\n",
    "faithful = np.array(lst)"
   ]
  },
  {
   "cell_type": "markdown",
   "metadata": {},
   "source": [
    "## (a) Draw the histogram"
   ]
  },
  {
   "cell_type": "code",
   "execution_count": 4,
   "metadata": {},
   "outputs": [
    {
     "data": {
      "image/png": "[encoded data removed]",
      "text/plain": [
       "<Figure size 432x288 with 1 Axes>"
      ]
     },
     "metadata": {},
     "output_type": "display_data"
    }
   ],
   "source": [
    "plt.hist(lst,bins=20)\n",
    "plt.show()"
   ]
  },
  {
   "cell_type": "markdown",
   "metadata": {},
   "source": [
    "## (b) Assume a normal distribution, and estimate the mean and standard deviation\n",
    "as we know MLE of normal distribution is  \n",
    "$$\\hat{\\mu} = \\frac{1}{n} \\sum_{i=1}^{N}x_i\\\\\n",
    "\\hat{\\sigma}^2= \\frac{1}{n} \\sum_{i=1}^{N}(x_i-\\hat{\\mu})^2\n",
    "$$"
   ]
  },
  {
   "cell_type": "code",
   "execution_count": 5,
   "metadata": {},
   "outputs": [],
   "source": [
    "muhat = np.mean(faithful)\n",
    "sigmahat = np.sqrt(np.mean((faithful-muhat)**2))"
   ]
  },
  {
   "cell_type": "code",
   "execution_count": 46,
   "metadata": {},
   "outputs": [
    {
     "name": "stdout",
     "output_type": "stream",
     "text": [
      "When Assume Noraml maximum likelihood estimator muhat = 72.318 , sigmahat = 13.870\n",
      "log likelihood is : -1210.556881\n"
     ]
    }
   ],
   "source": [
    "print(\"When Assume Noraml maximum likelihood estimator muhat = %.3f , sigmahat = %.3f\" %(muhat,sigmahat))\n",
    "print(\"log likelihood is : %f\" %sum(np.log(NormalLikelihood(faithful,muhat,sigmahat))))"
   ]
  },
  {
   "cell_type": "markdown",
   "metadata": {},
   "source": [
    "so,   \n",
    "$$X \\sim N(72.318, 13.870^2)$$"
   ]
  },
  {
   "cell_type": "markdown",
   "metadata": {},
   "source": [
    "## (c) Use EM algorithm and estimate $\\pi_1,\\mu_1,\\sigma_1,\\mu_2,\\sigma_2$"
   ]
  },
  {
   "cell_type": "markdown",
   "metadata": {},
   "source": [
    "First, initailize the parameters"
   ]
  },
  {
   "cell_type": "code",
   "execution_count": 45,
   "metadata": {},
   "outputs": [],
   "source": [
    "initParam1=len(faithful[faithful<70])/len(faithful)\\\n",
    "            ,faithful[faithful<70].mean() ,faithful[faithful<70].std()\n",
    "initParam2=len(faithful[faithful>=70])/len(faithful)\\\n",
    "            ,faithful[faithful>=70].mean() ,faithful[faithful>=70].std()"
   ]
  },
  {
   "cell_type": "markdown",
   "metadata": {},
   "source": [
    "Define the likelihood of normal distribution  \n",
    "$$L( \\mu,\\sigma | x) = \\frac{1}{\\sqrt{2\\pi \\sigma^2}}\\exp\\left(-\\frac{(x-\\mu)^2}{2\\sigma^2}\\right)$$"
   ]
  },
  {
   "cell_type": "code",
   "execution_count": 8,
   "metadata": {},
   "outputs": [],
   "source": [
    "def NormalLikelihood(x,mu=0,sigma=1):\n",
    "    out = np.exp(-((x-mu)**2)/(2*(sigma**2)))/(np.sqrt(2*np.pi)*sigma)\n",
    "    return out"
   ]
  },
  {
   "cell_type": "markdown",
   "metadata": {},
   "source": [
    "Define the log likelihood of Gaussian Mixture Model  \n",
    "$$\n",
    "l(\\pi_1,\\mu_1,\\sigma_1,\\mu_2,\\sigma_2 | X) = \\sum_{n=1}^{N} \\ln\\left\\{{\\pi_1 L( \\mu_1,\\sigma_1 | x_i) + \\pi_2 L( \\mu_2,\\sigma_2 | x_i)}\\right\\}\n",
    "$$  \n",
    "where $\\pi_2 = 1 - \\pi_1$ and $X = \\{ x_1 , \\dots , x_N\\}$"
   ]
  },
  {
   "cell_type": "code",
   "execution_count": 9,
   "metadata": {},
   "outputs": [],
   "source": [
    "def logLikelihood(x,param1,param2):\n",
    "    p1,mu1,sigma1 = param1\n",
    "    p2,mu2,sigma2 = param2\n",
    "    out = sum(np.log(p1*NormalLikelihood(x,mu1,sigma1)\\\n",
    "                     + p2*NormalLikelihood(x,mu2,sigma2)))\n",
    "    return out"
   ]
  },
  {
   "cell_type": "markdown",
   "metadata": {},
   "source": [
    "Let $p(z_k = 1) = \\pi_k$ then,  \n",
    "$$\n",
    "p(x|z_k =1 ) = L(\\mu_k, \\sigma_k |x) \\\\\n",
    "p(x|\\mathbf{z}) = \\prod_{k=1}^{2} L(\\mu_k, \\sigma_k |x)^{z_k}\\\\\n",
    "p(x) = \\sum_{\\mathbf{z}}p(\\mathbf{z}) p(x|\\mathbf{z}) = \\sum_{k=1}^{2} \\pi_k L(\\mu_k, \\sigma_k |x)^{z_k}\n",
    "$$  \n",
    "We can caculate $p(z_k=1 | x) = \\gamma(z_k)$ by bayes' rule  \n",
    "$$\n",
    "\\gamma(z_k) = \\frac{ \\pi_k L(\\mu_k, \\sigma_k |x)}{ \\pi_1 L(\\mu_1, \\sigma_1 |x) +  \\pi_2 L(\\mu_2, \\sigma_2 |x)}\n",
    "$$  \n",
    "E-step calculate $p(\\mathbf{z} | X , \\theta^{(t)})$"
   ]
  },
  {
   "cell_type": "code",
   "execution_count": 10,
   "metadata": {},
   "outputs": [],
   "source": [
    "def estep(x,param1,param2,k):\n",
    "    p1,mu1,sigma1 = param1\n",
    "    p2,mu2,sigma2 = param2\n",
    "    if k==1:\n",
    "        out = (p1*NormalLikelihood(x,mu1,sigma1))/(p1*NormalLikelihood(x,mu1,sigma1)\\\n",
    "                                                   + p2*NormalLikelihood(x,mu2,sigma2))\n",
    "    else:\n",
    "        out = (p2*NormalLikelihood(x,mu2,sigma2))/(p1*NormalLikelihood(x,mu1,sigma1)\\\n",
    "                                                   + p2*NormalLikelihood(x,mu2,sigma2))\n",
    "    return out"
   ]
  },
  {
   "cell_type": "markdown",
   "metadata": {},
   "source": [
    "M-step \n",
    "$$\n",
    "\\boldsymbol{\\theta}^{(t+1)} = \\arg\\max_{\\boldsymbol{\\theta}} \\mathcal{Q}(\\boldsymbol{\\theta} , \\boldsymbol{\\theta}^{(t)})\n",
    "$$\n",
    "Where $\\boldsymbol{\\theta} = \\left\\{\\pi_1,\\mu_1,\\sigma_1,\\mu_2,\\sigma_2\\right\\}$  and  \n",
    "$$\n",
    "\\mathcal{Q}(\\boldsymbol{\\theta} , \\boldsymbol{\\theta}^{(t)}) = \\sum_{\\mathbf{z}}p(\\mathbf{z}|X,\\theta^{(t)}) \\ln p(X,\\mathbf{z}|\\boldsymbol{\\theta})\n",
    "$$"
   ]
  },
  {
   "cell_type": "code",
   "execution_count": 11,
   "metadata": {},
   "outputs": [],
   "source": [
    "def mstep(x,param1,param2):\n",
    "    N = len(x)\n",
    "    N1 = sum(estep(x,param1,param2,1))\n",
    "    N2 = sum(estep(x,param1,param2,2))\n",
    "    mu1New = sum(estep(x,param1,param2,1)*x)/N1\n",
    "    mu2New = sum(estep(x,param1,param2,2)*x)/N2\n",
    "    sigma1New = np.sqrt(sum(estep(x,param1,param2,1)*((x-mu1New)**2))/N1)\n",
    "    sigma2New = np.sqrt(sum(estep(x,param1,param2,2)*((x-mu2New)**2))/N2)\n",
    "    p1New = N1/N\n",
    "    p2New = N2/N\n",
    "    param1New = np.array([p1New,mu1New,sigma1New])\n",
    "    param2New = np.array([p2New,mu2New,sigma2New])\n",
    "    return param1New, param2New"
   ]
  },
  {
   "cell_type": "markdown",
   "metadata": {},
   "source": [
    "Iterate E-step and M-step"
   ]
  },
  {
   "cell_type": "code",
   "execution_count": 34,
   "metadata": {},
   "outputs": [],
   "source": [
    "def EM(x,initParam1,initParam2,maxiter = 100):\n",
    "    iteration = 0\n",
    "    param1,param2 = initParam1,initParam2\n",
    "    loglikeLst = []\n",
    "    while iteration < maxiter:\n",
    "        iteration = iteration + 1\n",
    "        t0 = logLikelihood(x,param1,param2)\n",
    "        loglikeLst.append([iteration,t0])\n",
    "        param1,param2 = mstep(x,param1,param2)\n",
    "        t1 = logLikelihood(x,param1,param2)\n",
    "        if iteration%10 == 0:\n",
    "            print('%dth iteration\\'s loglikelihood : %f' \\\n",
    "                  %(iteration,logLikelihood(x,param1,param2)))\n",
    "        if t0==t1:\n",
    "            print('%dth iteration\\'s loglikelihood : %f' \\\n",
    "                  %(iteration,logLikelihood(x,param1,param2)))\n",
    "            break\n",
    "    plt.plot(pd.DataFrame(loglikeLst)[0],pd.DataFrame(loglikeLst)[1])\n",
    "    plt.title('Convergence of logLikelihood plot')\n",
    "    plt.xlabel('# of iteration')\n",
    "    plt.ylabel('log Likelihood')\n",
    "    plt.show()\n",
    "    return(param1,param2,t1)"
   ]
  },
  {
   "cell_type": "code",
   "execution_count": 35,
   "metadata": {},
   "outputs": [
    {
     "name": "stdout",
     "output_type": "stream",
     "text": [
      "10th iteration's loglikelihood : -1157.649911\n",
      "20th iteration's loglikelihood : -1157.633191\n",
      "30th iteration's loglikelihood : -1157.633117\n",
      "40th iteration's loglikelihood : -1157.633117\n",
      "50th iteration's loglikelihood : -1157.633117\n",
      "55th iteration's loglikelihood : -1157.633117\n"
     ]
    },
    {
     "data": {
      "image/png": "[encoded data removed]",
      "text/plain": [
       "<Figure size 432x288 with 1 Axes>"
      ]
     },
     "metadata": {},
     "output_type": "display_data"
    }
   ],
   "source": [
    "EMparam1, EMparam2 ,EMloglike= EM(faithful,initParam1=initParam1,initParam2=initParam2)"
   ]
  },
  {
   "cell_type": "code",
   "execution_count": 36,
   "metadata": {
    "scrolled": false
   },
   "outputs": [
    {
     "name": "stdout",
     "output_type": "stream",
     "text": [
      "estimation of pi1,mu1,sigma1 is [ 0.30756656 54.20195015  4.95154337]\n",
      "estimation of pi2,mu2,sigma2 is [ 0.69243344 80.3644296   7.51168764]\n",
      "log Likelihood is : -1157.633117\n"
     ]
    }
   ],
   "source": [
    "print(\"estimation of pi1,mu1,sigma1 is\",EMparam1 )\n",
    "print(\"estimation of pi2,mu2,sigma2 is\",EMparam2 )\n",
    "print(\"log Likelihood is : %f\" %EMloglike)"
   ]
  },
  {
   "cell_type": "markdown",
   "metadata": {},
   "source": [
    "So, Gaussian Mixture Model is,  \n",
    "$$\n",
    "X \\sim 0.3076 \\cdot N(54.2020 , 4.9515^2) + 0.6924 \\cdot N(80.3644 ,7.5117^2)\n",
    "$$"
   ]
  },
  {
   "cell_type": "markdown",
   "metadata": {},
   "source": [
    "## (d) Which one is better"
   ]
  },
  {
   "cell_type": "markdown",
   "metadata": {},
   "source": [
    "As log likelihood of a Normal distribution is -1210.556881 from (b) and log likelihood of Gaussion Mixture Model is -1157.633117 from (d), Gaussian Mixture Model has larger loglikelihood. So we can Say that Gaussian Mixture Model is better"
   ]
  }
 ],
 "metadata": {
  "kernelspec": {
   "display_name": "Python 3",
   "language": "python",
   "name": "python3"
  },
  "language_info": {
   "codemirror_mode": {
    "name": "ipython",
    "version": 3
   },
   "file_extension": ".py",
   "mimetype": "text/x-python",
   "name": "python",
   "nbconvert_exporter": "python",
   "pygments_lexer": "ipython3",
   "version": "3.6.5"
  }
 },
 "nbformat": 4,
 "nbformat_minor": 2
}
