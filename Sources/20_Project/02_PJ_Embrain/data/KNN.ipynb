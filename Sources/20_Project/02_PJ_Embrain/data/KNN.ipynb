{
 "cells": [
  {
   "cell_type": "code",
   "execution_count": 1,
   "metadata": {},
   "outputs": [],
   "source": [
    "import pandas as pd\n",
    "import numpy as np\n",
    "from sklearn.cluster import KMeans"
   ]
  },
  {
   "cell_type": "code",
   "execution_count": 24,
   "metadata": {},
   "outputs": [],
   "source": [
    "app = pd.read_csv('appRefine.csv')\n",
    "pay = pd.read_csv('payRefine.csv')\n",
    "PPDB = pd.read_csv('reFinePPDB.csv',dtype=str)"
   ]
  },
  {
   "cell_type": "code",
   "execution_count": 25,
   "metadata": {},
   "outputs": [],
   "source": [
    "app.columns=['PANEL_ID', 'APP_CATEGORY', 'APP_USE_TME']"
   ]
  },
  {
   "cell_type": "code",
   "execution_count": 26,
   "metadata": {},
   "outputs": [],
   "source": [
    "total = app.merge(pay, on= 'PANEL_ID').merge(PPDB, on= 'PANEL_ID')"
   ]
  },
  {
   "cell_type": "code",
   "execution_count": 27,
   "metadata": {},
   "outputs": [],
   "source": [
    "total.loc[:,'APP_CATEGORY'] = total.loc[:,'APP_CATEGORY'].map(lambda x :'ETC' if pd.isna(x) else x)"
   ]
  },
  {
   "cell_type": "code",
   "execution_count": 28,
   "metadata": {},
   "outputs": [],
   "source": [
    "total['CATEGORY_CODE'] =total['CATEGORY_CODE'].map(lambda x : str(int(x)))\n",
    "total['family_cnt'] = total['family_cnt'].map(lambda x: int(x))"
   ]
  },
  {
   "cell_type": "code",
   "execution_count": 34,
   "metadata": {},
   "outputs": [],
   "source": [
    "dummy_total = pd.get_dummies(total.drop(columns='PANEL_ID'))"
   ]
  },
  {
   "cell_type": "code",
   "execution_count": 35,
   "metadata": {},
   "outputs": [],
   "source": [
    "#normalize\n",
    "dummy_total['APP_USE_TME'] =dummy_total['APP_USE_TME'].map(lambda  x: (x-dummy_total['APP_USE_TME'].mean())/dummy_total['APP_USE_TME'].std())\n",
    "dummy_total['PAY_CNT'] =dummy_total['PAY_CNT'].map(lambda  x: (x-dummy_total['PAY_CNT'].mean())/dummy_total['PAY_CNT'].std())\n",
    "dummy_total['PAY_MEAN_AMOUNT'] =dummy_total['PAY_MEAN_AMOUNT'].map(lambda  x: (x-dummy_total['PAY_MEAN_AMOUNT'].mean())/dummy_total['PAY_MEAN_AMOUNT'].std())\n",
    "dummy_total['family_cnt'] =dummy_total['family_cnt'].map(lambda  x: (x-dummy_total['family_cnt'].mean())/dummy_total['family_cnt'].std())"
   ]
  },
  {
   "cell_type": "code",
   "execution_count": 37,
   "metadata": {},
   "outputs": [],
   "source": [
    "kmeans = KMeans(n_clusters=5, random_state=0).fit(dummy_total)"
   ]
  },
  {
   "cell_type": "code",
   "execution_count": 38,
   "metadata": {},
   "outputs": [],
   "source": [
    "dummy_total2 =dummy_total.copy()"
   ]
  },
  {
   "cell_type": "code",
   "execution_count": 39,
   "metadata": {},
   "outputs": [],
   "source": [
    "dummy_total2['km_label'] = kmeans.labels_"
   ]
  },
  {
   "cell_type": "code",
   "execution_count": 42,
   "metadata": {},
   "outputs": [
    {
     "data": {
      "text/html": [
       "<div>\n",
       "<style scoped>\n",
       "    .dataframe tbody tr th:only-of-type {\n",
       "        vertical-align: middle;\n",
       "    }\n",
       "\n",
       "    .dataframe tbody tr th {\n",
       "        vertical-align: top;\n",
       "    }\n",
       "\n",
       "    .dataframe thead th {\n",
       "        text-align: right;\n",
       "    }\n",
       "</style>\n",
       "<table border=\"1\" class=\"dataframe\">\n",
       "  <thead>\n",
       "    <tr style=\"text-align: right;\">\n",
       "      <th></th>\n",
       "      <th>APP_USE_TME</th>\n",
       "    </tr>\n",
       "    <tr>\n",
       "      <th>km_label</th>\n",
       "      <th></th>\n",
       "    </tr>\n",
       "  </thead>\n",
       "  <tbody>\n",
       "    <tr>\n",
       "      <th>0</th>\n",
       "      <td>3195</td>\n",
       "    </tr>\n",
       "    <tr>\n",
       "      <th>1</th>\n",
       "      <td>246</td>\n",
       "    </tr>\n",
       "    <tr>\n",
       "      <th>2</th>\n",
       "      <td>1863</td>\n",
       "    </tr>\n",
       "    <tr>\n",
       "      <th>3</th>\n",
       "      <td>2357</td>\n",
       "    </tr>\n",
       "    <tr>\n",
       "      <th>4</th>\n",
       "      <td>6</td>\n",
       "    </tr>\n",
       "  </tbody>\n",
       "</table>\n",
       "</div>"
      ],
      "text/plain": [
       "          APP_USE_TME\n",
       "km_label             \n",
       "0                3195\n",
       "1                 246\n",
       "2                1863\n",
       "3                2357\n",
       "4                   6"
      ]
     },
     "execution_count": 42,
     "metadata": {},
     "output_type": "execute_result"
    }
   ],
   "source": [
    "dummy_total2.groupby('km_label').count()[['APP_USE_TME']]"
   ]
  },
  {
   "cell_type": "code",
   "execution_count": 43,
   "metadata": {},
   "outputs": [
    {
     "data": {
      "text/html": [
       "<div>\n",
       "<style scoped>\n",
       "    .dataframe tbody tr th:only-of-type {\n",
       "        vertical-align: middle;\n",
       "    }\n",
       "\n",
       "    .dataframe tbody tr th {\n",
       "        vertical-align: top;\n",
       "    }\n",
       "\n",
       "    .dataframe thead th {\n",
       "        text-align: right;\n",
       "    }\n",
       "</style>\n",
       "<table border=\"1\" class=\"dataframe\">\n",
       "  <thead>\n",
       "    <tr style=\"text-align: right;\">\n",
       "      <th></th>\n",
       "      <th>PANEL_ID</th>\n",
       "      <th>APP_CATEGORY</th>\n",
       "      <th>APP_USE_TME</th>\n",
       "      <th>CATEGORY_CODE</th>\n",
       "      <th>Area_Name2</th>\n",
       "      <th>PAY_CNT</th>\n",
       "      <th>PAY_MEAN_AMOUNT</th>\n",
       "      <th>gender</th>\n",
       "      <th>age</th>\n",
       "      <th>loctown</th>\n",
       "      <th>is_marry</th>\n",
       "      <th>education</th>\n",
       "      <th>job</th>\n",
       "      <th>family_cnt</th>\n",
       "      <th>has_baby</th>\n",
       "      <th>has_student</th>\n",
       "      <th>has_silver</th>\n",
       "      <th>ann_income</th>\n",
       "      <th>home_cat</th>\n",
       "      <th>home_pay</th>\n",
       "    </tr>\n",
       "  </thead>\n",
       "  <tbody>\n",
       "    <tr>\n",
       "      <th>1809</th>\n",
       "      <td>H0206932</td>\n",
       "      <td>SOCIAL</td>\n",
       "      <td>120930</td>\n",
       "      <td>401</td>\n",
       "      <td>서초구</td>\n",
       "      <td>430</td>\n",
       "      <td>36589426</td>\n",
       "      <td>1</td>\n",
       "      <td>4</td>\n",
       "      <td>1</td>\n",
       "      <td>2</td>\n",
       "      <td>6</td>\n",
       "      <td>6</td>\n",
       "      <td>4</td>\n",
       "      <td>0</td>\n",
       "      <td>0</td>\n",
       "      <td>0</td>\n",
       "      <td>5</td>\n",
       "      <td>2</td>\n",
       "      <td>2</td>\n",
       "    </tr>\n",
       "    <tr>\n",
       "      <th>2670</th>\n",
       "      <td>I0567936</td>\n",
       "      <td>ETC</td>\n",
       "      <td>255189</td>\n",
       "      <td>501</td>\n",
       "      <td>종로구</td>\n",
       "      <td>346</td>\n",
       "      <td>33987281</td>\n",
       "      <td>2</td>\n",
       "      <td>2</td>\n",
       "      <td>1</td>\n",
       "      <td>1</td>\n",
       "      <td>3</td>\n",
       "      <td>6</td>\n",
       "      <td>4</td>\n",
       "      <td>0</td>\n",
       "      <td>0</td>\n",
       "      <td>0</td>\n",
       "      <td>5</td>\n",
       "      <td>5</td>\n",
       "      <td>1</td>\n",
       "    </tr>\n",
       "    <tr>\n",
       "      <th>3089</th>\n",
       "      <td>I0850237</td>\n",
       "      <td>LIFESTYLE</td>\n",
       "      <td>203420</td>\n",
       "      <td>501</td>\n",
       "      <td>용산구</td>\n",
       "      <td>1098</td>\n",
       "      <td>26918838</td>\n",
       "      <td>2</td>\n",
       "      <td>5</td>\n",
       "      <td>1</td>\n",
       "      <td>1</td>\n",
       "      <td>1</td>\n",
       "      <td>6</td>\n",
       "      <td>3</td>\n",
       "      <td>0</td>\n",
       "      <td>0</td>\n",
       "      <td>1</td>\n",
       "      <td>3</td>\n",
       "      <td>5</td>\n",
       "      <td>1</td>\n",
       "    </tr>\n",
       "    <tr>\n",
       "      <th>3974</th>\n",
       "      <td>P0115421</td>\n",
       "      <td>SOCIAL</td>\n",
       "      <td>363810</td>\n",
       "      <td>1602</td>\n",
       "      <td>안산시상록구</td>\n",
       "      <td>80</td>\n",
       "      <td>18603065</td>\n",
       "      <td>2</td>\n",
       "      <td>6</td>\n",
       "      <td>1</td>\n",
       "      <td>2</td>\n",
       "      <td>4</td>\n",
       "      <td>997</td>\n",
       "      <td>3</td>\n",
       "      <td>0</td>\n",
       "      <td>0</td>\n",
       "      <td>1</td>\n",
       "      <td>3</td>\n",
       "      <td>2</td>\n",
       "      <td>1</td>\n",
       "    </tr>\n",
       "    <tr>\n",
       "      <th>7268</th>\n",
       "      <td>P0294857</td>\n",
       "      <td>SOCIAL</td>\n",
       "      <td>260052</td>\n",
       "      <td>101</td>\n",
       "      <td>군포시</td>\n",
       "      <td>372</td>\n",
       "      <td>55933893</td>\n",
       "      <td>2</td>\n",
       "      <td>3</td>\n",
       "      <td>1</td>\n",
       "      <td>2</td>\n",
       "      <td>4</td>\n",
       "      <td>6</td>\n",
       "      <td>4</td>\n",
       "      <td>1</td>\n",
       "      <td>0</td>\n",
       "      <td>0</td>\n",
       "      <td>4</td>\n",
       "      <td>2</td>\n",
       "      <td>2</td>\n",
       "    </tr>\n",
       "    <tr>\n",
       "      <th>7539</th>\n",
       "      <td>P0304340</td>\n",
       "      <td>SOCIAL</td>\n",
       "      <td>73550</td>\n",
       "      <td>401</td>\n",
       "      <td>양천구</td>\n",
       "      <td>13</td>\n",
       "      <td>20266831</td>\n",
       "      <td>1</td>\n",
       "      <td>4</td>\n",
       "      <td>1</td>\n",
       "      <td>2</td>\n",
       "      <td>4</td>\n",
       "      <td>6</td>\n",
       "      <td>3</td>\n",
       "      <td>0</td>\n",
       "      <td>0</td>\n",
       "      <td>0</td>\n",
       "      <td>5</td>\n",
       "      <td>2</td>\n",
       "      <td>1</td>\n",
       "    </tr>\n",
       "  </tbody>\n",
       "</table>\n",
       "</div>"
      ],
      "text/plain": [
       "      PANEL_ID APP_CATEGORY  APP_USE_TME CATEGORY_CODE Area_Name2  PAY_CNT  \\\n",
       "1809  H0206932       SOCIAL       120930           401        서초구      430   \n",
       "2670  I0567936          ETC       255189           501        종로구      346   \n",
       "3089  I0850237    LIFESTYLE       203420           501        용산구     1098   \n",
       "3974  P0115421       SOCIAL       363810          1602     안산시상록구       80   \n",
       "7268  P0294857       SOCIAL       260052           101        군포시      372   \n",
       "7539  P0304340       SOCIAL        73550           401        양천구       13   \n",
       "\n",
       "      PAY_MEAN_AMOUNT gender age loctown is_marry education  job  family_cnt  \\\n",
       "1809         36589426      1   4       1        2         6    6           4   \n",
       "2670         33987281      2   2       1        1         3    6           4   \n",
       "3089         26918838      2   5       1        1         1    6           3   \n",
       "3974         18603065      2   6       1        2         4  997           3   \n",
       "7268         55933893      2   3       1        2         4    6           4   \n",
       "7539         20266831      1   4       1        2         4    6           3   \n",
       "\n",
       "     has_baby has_student has_silver ann_income home_cat home_pay  \n",
       "1809        0           0          0          5        2        2  \n",
       "2670        0           0          0          5        5        1  \n",
       "3089        0           0          1          3        5        1  \n",
       "3974        0           0          1          3        2        1  \n",
       "7268        1           0          0          4        2        2  \n",
       "7539        0           0          0          5        2        1  "
      ]
     },
     "execution_count": 43,
     "metadata": {},
     "output_type": "execute_result"
    }
   ],
   "source": [
    "total[dummy_total2['km_label']==4]"
   ]
  },
  {
   "cell_type": "code",
   "execution_count": 47,
   "metadata": {},
   "outputs": [
    {
     "data": {
      "text/plain": [
       "(7667, 186)"
      ]
     },
     "execution_count": 47,
     "metadata": {},
     "output_type": "execute_result"
    }
   ],
   "source": [
    "dummy_total2.shape"
   ]
  },
  {
   "cell_type": "code",
   "execution_count": 48,
   "metadata": {},
   "outputs": [
    {
     "data": {
      "text/plain": [
       "(7667, 20)"
      ]
     },
     "execution_count": 48,
     "metadata": {},
     "output_type": "execute_result"
    }
   ],
   "source": [
    "total.shape"
   ]
  },
  {
   "cell_type": "code",
   "execution_count": 49,
   "metadata": {},
   "outputs": [],
   "source": [
    "out = total.copy()\n",
    "out['KNN_LABEL']=kmeans.labels_"
   ]
  },
  {
   "cell_type": "code",
   "execution_count": 51,
   "metadata": {},
   "outputs": [],
   "source": [
    "out.to_csv('KNN_result.csv',index=0)"
   ]
  },
  {
   "cell_type": "code",
   "execution_count": null,
   "metadata": {},
   "outputs": [],
   "source": []
  }
 ],
 "metadata": {
  "kernelspec": {
   "display_name": "Python 3",
   "language": "python",
   "name": "python3"
  },
  "language_info": {
   "codemirror_mode": {
    "name": "ipython",
    "version": 3
   },
   "file_extension": ".py",
   "mimetype": "text/x-python",
   "name": "python",
   "nbconvert_exporter": "python",
   "pygments_lexer": "ipython3",
   "version": "3.6.5"
  }
 },
 "nbformat": 4,
 "nbformat_minor": 2
}
