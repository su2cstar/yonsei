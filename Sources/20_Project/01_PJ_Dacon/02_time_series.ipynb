{
 "cells": [
  {
   "cell_type": "markdown",
   "metadata": {},
   "source": [
    "필요한 모듈 호출"
   ]
  },
  {
   "cell_type": "code",
   "execution_count": 1,
   "metadata": {
    "collapsed": true
   },
   "outputs": [],
   "source": [
    "import numpy as np\n",
    "import pandas as pd\n",
    "from fbprophet import Prophet\n",
    "import matplotlib.pyplot as plt\n",
    "%matplotlib inline"
   ]
  },
  {
   "cell_type": "markdown",
   "metadata": {},
   "source": [
    "데이터 호출 및 datetime 컬럼 변수타입 지정"
   ]
  },
  {
   "cell_type": "code",
   "execution_count": 2,
   "metadata": {
    "collapsed": true
   },
   "outputs": [],
   "source": [
    "day = pd.read_csv('Day_by_Day.csv', encoding='CP949')"
   ]
  },
  {
   "cell_type": "code",
   "execution_count": 3,
   "metadata": {
    "collapsed": true
   },
   "outputs": [],
   "source": [
    "day['ymd']= pd.to_datetime(day['ymd'])"
   ]
  },
  {
   "cell_type": "markdown",
   "metadata": {},
   "source": [
    "Day by Day 테이블에 존재하는 선수들의 목록을 저장"
   ]
  },
  {
   "cell_type": "code",
   "execution_count": 4,
   "metadata": {
    "collapsed": true
   },
   "outputs": [],
   "source": [
    "batter_name = day['batter_name'].unique()"
   ]
  },
  {
   "cell_type": "markdown",
   "metadata": {},
   "source": [
    "장타율과 출루율을 계산하는 함수를 만든후 더해서 하루경기의 OPS를 계산한 OPS_d컬럼을 원래 dataframe에 추가"
   ]
  },
  {
   "cell_type": "code",
   "execution_count": 5,
   "metadata": {
    "collapsed": true
   },
   "outputs": [],
   "source": [
    "def OBP(x):\n",
    "    try:\n",
    "        out = (x['H']+ x['BB']) / (x['BB'] + x['AB'])\n",
    "    except:\n",
    "        out = np.nan\n",
    "    return out\n",
    "def SLG(x):\n",
    "    try:\n",
    "        return (x['H']-x['2B']-x['3B']-x['HR'] + 2*x['2B'] + 3*x['3B'] + 4*x['2B'])/x['AB']\n",
    "    except:\n",
    "        out = np.nan\n",
    "#[단타 + (2*2루타) + (3*3루타) + (4*홈런] / 타수\n",
    "\n",
    "day['OPS_d'] = day.apply(lambda x: SLG(x),axis=1) + day.apply(lambda x: OBP(x),axis=1)"
   ]
  },
  {
   "cell_type": "markdown",
   "metadata": {},
   "source": [
    "선수의 특정년도 특정 컬럼의 시계열 그래프를 그려주는 함수 생성"
   ]
  },
  {
   "cell_type": "code",
   "execution_count": 35,
   "metadata": {
    "collapsed": true
   },
   "outputs": [],
   "source": [
    "def tsplot0(name,year,col):\n",
    "    x = day[(day['ymd'].map(lambda x: x.year) == year) & ((day['batter_name']==name))]\n",
    "    ts = pd.Series(x[col])\n",
    "    ts.index = x['ymd']\n",
    "    ts.plot()"
   ]
  },
  {
   "cell_type": "markdown",
   "metadata": {},
   "source": [
    "이대호의 2018년도 일간 OPS의 분포"
   ]
  },
  {
   "cell_type": "code",
   "execution_count": 1,
   "metadata": {
    "collapsed": true
   },
   "outputs": [],
   "source": [
    "player_name = '이대호'"
   ]
  },
  {
   "cell_type": "code",
   "execution_count": 39,
   "metadata": {},
   "outputs": [
    {
     "data": {
      "image/png": "[encoded data removed]",
      "text/plain": [
       "<Figure size 432x288 with 1 Axes>"
      ]
     },
     "metadata": {},
     "output_type": "display_data"
    }
   ],
   "source": [
    "tsplot0(player_name,2018,'OPS_d')"
   ]
  },
  {
   "cell_type": "markdown",
   "metadata": {},
   "source": [
    "전체선수에 대한 정보를 담고있는 day테이블에서 특정선수(이대호)의 정보만 가진 테이블 생성"
   ]
  },
  {
   "cell_type": "code",
   "execution_count": 37,
   "metadata": {
    "collapsed": true
   },
   "outputs": [],
   "source": [
    "PBH = day[day['batter_name']==player_name]"
   ]
  },
  {
   "cell_type": "code",
   "execution_count": 38,
   "metadata": {},
   "outputs": [
    {
     "data": {
      "text/html": [
       "<div>\n",
       "<style scoped>\n",
       "    .dataframe tbody tr th:only-of-type {\n",
       "        vertical-align: middle;\n",
       "    }\n",
       "\n",
       "    .dataframe tbody tr th {\n",
       "        vertical-align: top;\n",
       "    }\n",
       "\n",
       "    .dataframe thead th {\n",
       "        text-align: right;\n",
       "    }\n",
       "</style>\n",
       "<table border=\"1\" class=\"dataframe\">\n",
       "  <thead>\n",
       "    <tr style=\"text-align: right;\">\n",
       "      <th></th>\n",
       "      <th>batter_id</th>\n",
       "      <th>batter_name</th>\n",
       "      <th>opposing_team</th>\n",
       "      <th>avg1</th>\n",
       "      <th>AB</th>\n",
       "      <th>R</th>\n",
       "      <th>H</th>\n",
       "      <th>2B</th>\n",
       "      <th>3B</th>\n",
       "      <th>HR</th>\n",
       "      <th>RBI</th>\n",
       "      <th>SB</th>\n",
       "      <th>CS</th>\n",
       "      <th>BB</th>\n",
       "      <th>HBP</th>\n",
       "      <th>SO</th>\n",
       "      <th>GDP</th>\n",
       "      <th>avg2</th>\n",
       "      <th>ymd</th>\n",
       "      <th>OPS_d</th>\n",
       "    </tr>\n",
       "  </thead>\n",
       "  <tbody>\n",
       "    <tr>\n",
       "      <th>61145</th>\n",
       "      <td>202</td>\n",
       "      <td>이대호</td>\n",
       "      <td>삼성</td>\n",
       "      <td>NaN</td>\n",
       "      <td>0</td>\n",
       "      <td>0</td>\n",
       "      <td>0</td>\n",
       "      <td>0</td>\n",
       "      <td>0</td>\n",
       "      <td>0</td>\n",
       "      <td>0</td>\n",
       "      <td>0</td>\n",
       "      <td>0</td>\n",
       "      <td>1</td>\n",
       "      <td>0</td>\n",
       "      <td>0</td>\n",
       "      <td>0</td>\n",
       "      <td>0.000</td>\n",
       "      <td>2001-09-19</td>\n",
       "      <td>NaN</td>\n",
       "    </tr>\n",
       "    <tr>\n",
       "      <th>61146</th>\n",
       "      <td>202</td>\n",
       "      <td>이대호</td>\n",
       "      <td>삼성</td>\n",
       "      <td>0.333</td>\n",
       "      <td>3</td>\n",
       "      <td>0</td>\n",
       "      <td>1</td>\n",
       "      <td>0</td>\n",
       "      <td>0</td>\n",
       "      <td>0</td>\n",
       "      <td>0</td>\n",
       "      <td>0</td>\n",
       "      <td>0</td>\n",
       "      <td>0</td>\n",
       "      <td>0</td>\n",
       "      <td>0</td>\n",
       "      <td>0</td>\n",
       "      <td>0.333</td>\n",
       "      <td>2001-09-20</td>\n",
       "      <td>0.666667</td>\n",
       "    </tr>\n",
       "    <tr>\n",
       "      <th>61147</th>\n",
       "      <td>202</td>\n",
       "      <td>이대호</td>\n",
       "      <td>두산</td>\n",
       "      <td>1.000</td>\n",
       "      <td>1</td>\n",
       "      <td>0</td>\n",
       "      <td>1</td>\n",
       "      <td>0</td>\n",
       "      <td>0</td>\n",
       "      <td>0</td>\n",
       "      <td>0</td>\n",
       "      <td>0</td>\n",
       "      <td>0</td>\n",
       "      <td>0</td>\n",
       "      <td>0</td>\n",
       "      <td>0</td>\n",
       "      <td>0</td>\n",
       "      <td>0.500</td>\n",
       "      <td>2001-09-22</td>\n",
       "      <td>2.000000</td>\n",
       "    </tr>\n",
       "    <tr>\n",
       "      <th>61148</th>\n",
       "      <td>202</td>\n",
       "      <td>이대호</td>\n",
       "      <td>삼성</td>\n",
       "      <td>1.000</td>\n",
       "      <td>1</td>\n",
       "      <td>0</td>\n",
       "      <td>1</td>\n",
       "      <td>0</td>\n",
       "      <td>0</td>\n",
       "      <td>0</td>\n",
       "      <td>0</td>\n",
       "      <td>0</td>\n",
       "      <td>0</td>\n",
       "      <td>0</td>\n",
       "      <td>0</td>\n",
       "      <td>0</td>\n",
       "      <td>0</td>\n",
       "      <td>0.600</td>\n",
       "      <td>2001-09-25</td>\n",
       "      <td>2.000000</td>\n",
       "    </tr>\n",
       "    <tr>\n",
       "      <th>61149</th>\n",
       "      <td>202</td>\n",
       "      <td>이대호</td>\n",
       "      <td>두산</td>\n",
       "      <td>0.500</td>\n",
       "      <td>2</td>\n",
       "      <td>0</td>\n",
       "      <td>1</td>\n",
       "      <td>0</td>\n",
       "      <td>0</td>\n",
       "      <td>0</td>\n",
       "      <td>1</td>\n",
       "      <td>0</td>\n",
       "      <td>0</td>\n",
       "      <td>0</td>\n",
       "      <td>0</td>\n",
       "      <td>1</td>\n",
       "      <td>0</td>\n",
       "      <td>0.571</td>\n",
       "      <td>2001-09-29</td>\n",
       "      <td>1.000000</td>\n",
       "    </tr>\n",
       "  </tbody>\n",
       "</table>\n",
       "</div>"
      ],
      "text/plain": [
       "       batter_id batter_name opposing_team   avg1  AB  R  H  2B  3B  HR  RBI  \\\n",
       "61145        202         이대호            삼성    NaN   0  0  0   0   0   0    0   \n",
       "61146        202         이대호            삼성  0.333   3  0  1   0   0   0    0   \n",
       "61147        202         이대호            두산  1.000   1  0  1   0   0   0    0   \n",
       "61148        202         이대호            삼성  1.000   1  0  1   0   0   0    0   \n",
       "61149        202         이대호            두산  0.500   2  0  1   0   0   0    1   \n",
       "\n",
       "       SB  CS  BB  HBP  SO  GDP   avg2        ymd     OPS_d  \n",
       "61145   0   0   1    0   0    0  0.000 2001-09-19       NaN  \n",
       "61146   0   0   0    0   0    0  0.333 2001-09-20  0.666667  \n",
       "61147   0   0   0    0   0    0  0.500 2001-09-22  2.000000  \n",
       "61148   0   0   0    0   0    0  0.600 2001-09-25  2.000000  \n",
       "61149   0   0   0    0   1    0  0.571 2001-09-29  1.000000  "
      ]
     },
     "execution_count": 38,
     "metadata": {},
     "output_type": "execute_result"
    }
   ],
   "source": [
    "PBH.head()"
   ]
  },
  {
   "cell_type": "markdown",
   "metadata": {},
   "source": [
    "prophet을 적용하기 위해 시간자료와 target값을 가지고 있는 데이터프레임 생성"
   ]
  },
  {
   "cell_type": "code",
   "execution_count": 15,
   "metadata": {
    "collapsed": true
   },
   "outputs": [],
   "source": [
    "target = 'OPS_d'\n",
    "ts = PBH[['ymd',target]].reset_index().drop(columns = 'index')\n",
    "ts = PBH[['ymd',target]].reset_index().drop(columns = 'index')\n",
    "pts = pd.DataFrame()\n",
    "pts['y'] = ts[target]\n",
    "pts['ds'] = pd.to_datetime(ts['ymd'])"
   ]
  },
  {
   "cell_type": "code",
   "execution_count": 2,
   "metadata": {
    "collapsed": true
   },
   "outputs": [],
   "source": [
    "#pts[(pts['ds']<'2018-01-01') & (pts['ds']>'2017-01-01') ]"
   ]
  },
  {
   "cell_type": "markdown",
   "metadata": {},
   "source": [
    "prophet을 사용해 시계열 분석을 적용"
   ]
  },
  {
   "cell_type": "code",
   "execution_count": 20,
   "metadata": {},
   "outputs": [
    {
     "name": "stderr",
     "output_type": "stream",
     "text": [
      "INFO:fbprophet:Disabling daily seasonality. Run prophet with daily_seasonality=True to override this.\n",
      "C:\\ProgramData\\Anaconda3\\lib\\site-packages\\pystan\\misc.py:399: FutureWarning: Conversion of the second argument of issubdtype from `float` to `np.floating` is deprecated. In future, it will be treated as `np.float64 == np.dtype(float).type`.\n",
      "  elif np.issubdtype(np.asarray(v).dtype, float):\n"
     ]
    },
    {
     "data": {
      "text/plain": [
       "<fbprophet.forecaster.Prophet at 0x1888f35f9e8>"
      ]
     },
     "execution_count": 20,
     "metadata": {},
     "output_type": "execute_result"
    }
   ],
   "source": [
    "my_model = Prophet(interval_width = 0.8)\n",
    "#my_model.fit(pts[(pts['ds']<'2018-01-01') & (pts['ds']>'2017-01-01') ])\n",
    "my_model.fit(pts)"
   ]
  },
  {
   "cell_type": "markdown",
   "metadata": {},
   "source": [
    "2019년 경기일정을 등록"
   ]
  },
  {
   "cell_type": "code",
   "execution_count": 21,
   "metadata": {
    "collapsed": true
   },
   "outputs": [],
   "source": [
    "future_dates =['2019-03-23',\n",
    "'2019-03-24',\n",
    "'2019-03-26',\n",
    "'2019-03-27',\n",
    "'2019-03-28',\n",
    "'2019-03-29',\n",
    "'2019-03-30',\n",
    "'2019-03-31',\n",
    "'2019-04-02',\n",
    "'2019-04-03',\n",
    "'2019-04-04',\n",
    "'2019-04-05',\n",
    "'2019-04-06',\n",
    "'2019-04-07',\n",
    "'2019-04-09',\n",
    "'2019-04-10',\n",
    "'2019-04-11',\n",
    "'2019-04-12',\n",
    "'2019-04-13',\n",
    "'2019-04-14',\n",
    "'2019-04-16',\n",
    "'2019-04-17',\n",
    "'2019-04-18',\n",
    "'2019-04-19',\n",
    "'2019-04-20',\n",
    "'2019-04-21',\n",
    "'2019-04-23',\n",
    "'2019-04-24',\n",
    "'2019-04-25',\n",
    "'2019-04-26',\n",
    "'2019-04-27',\n",
    "'2019-04-28',\n",
    "'2019-04-30',\n",
    "'2019-05-01',\n",
    "'2019-05-02',\n",
    "'2019-05-03',\n",
    "'2019-05-04',\n",
    "'2019-05-05',\n",
    "'2019-05-07',\n",
    "'2019-05-08',\n",
    "'2019-05-09',\n",
    "'2019-05-10',\n",
    "'2019-05-11',\n",
    "'2019-05-12',\n",
    "'2019-05-14',\n",
    "'2019-05-15',\n",
    "'2019-05-16',\n",
    "'2019-05-17',\n",
    "'2019-05-18',\n",
    "'2019-05-19',\n",
    "'2019-05-21',\n",
    "'2019-05-22',\n",
    "'2019-05-23',\n",
    "'2019-05-24',\n",
    "'2019-05-25',\n",
    "'2019-05-26',\n",
    "'2019-05-28',\n",
    "'2019-05-29',\n",
    "'2019-05-30',\n",
    "'2019-05-31',\n",
    "'2019-06-01',\n",
    "'2019-06-02',\n",
    "'2019-06-04',\n",
    "'2019-06-05',\n",
    "'2019-06-06',\n",
    "'2019-06-07',\n",
    "'2019-06-08',\n",
    "'2019-06-09',\n",
    "'2019-06-11',\n",
    "'2019-06-12',\n",
    "'2019-06-13',\n",
    "'2019-06-14',\n",
    "'2019-06-15',\n",
    "'2019-06-16',\n",
    "'2019-06-18',\n",
    "'2019-06-19',\n",
    "'2019-06-20',\n",
    "'2019-06-21',\n",
    "'2019-06-22',\n",
    "'2019-06-23',\n",
    "'2019-06-25',\n",
    "'2019-06-26',\n",
    "'2019-06-27',\n",
    "'2019-06-28',\n",
    "'2019-06-29',\n",
    "'2019-06-30',\n",
    "'2019-07-02',\n",
    "'2019-07-03',\n",
    "'2019-07-04',\n",
    "'2019-07-05',\n",
    "'2019-07-06',\n",
    "'2019-07-07',\n",
    "'2019-07-09',\n",
    "'2019-07-10',\n",
    "'2019-07-11',\n",
    "'2019-07-12',\n",
    "'2019-07-13',\n",
    "'2019-07-14',\n",
    "'2019-07-16',\n",
    "'2019-07-17',\n",
    "'2019-07-18',\n",
    "'2019-07-26',\n",
    "'2019-07-27',\n",
    "'2019-07-28',\n",
    "'2019-07-30',\n",
    "'2019-07-31']\n",
    "future_dates = pd.DataFrame({'ds' :future_dates})\n",
    "future_dates = pd.DataFrame({'ds' :pts[pts['ds']>'2018-01-01']['ds'] })"
   ]
  },
  {
   "cell_type": "markdown",
   "metadata": {},
   "source": [
    "일자별 선수의 OPS를 예측"
   ]
  },
  {
   "cell_type": "code",
   "execution_count": 22,
   "metadata": {},
   "outputs": [
    {
     "data": {
      "text/html": [
       "<div>\n",
       "<style scoped>\n",
       "    .dataframe tbody tr th:only-of-type {\n",
       "        vertical-align: middle;\n",
       "    }\n",
       "\n",
       "    .dataframe tbody tr th {\n",
       "        vertical-align: top;\n",
       "    }\n",
       "\n",
       "    .dataframe thead th {\n",
       "        text-align: right;\n",
       "    }\n",
       "</style>\n",
       "<table border=\"1\" class=\"dataframe\">\n",
       "  <thead>\n",
       "    <tr style=\"text-align: right;\">\n",
       "      <th></th>\n",
       "      <th>ds</th>\n",
       "      <th>yhat</th>\n",
       "      <th>yhat_lower</th>\n",
       "      <th>yhat_upper</th>\n",
       "    </tr>\n",
       "  </thead>\n",
       "  <tbody>\n",
       "    <tr>\n",
       "      <th>137</th>\n",
       "      <td>2018-10-09</td>\n",
       "      <td>0.522978</td>\n",
       "      <td>-0.580895</td>\n",
       "      <td>1.650820</td>\n",
       "    </tr>\n",
       "    <tr>\n",
       "      <th>138</th>\n",
       "      <td>2018-10-10</td>\n",
       "      <td>0.527276</td>\n",
       "      <td>-0.624452</td>\n",
       "      <td>1.615609</td>\n",
       "    </tr>\n",
       "    <tr>\n",
       "      <th>139</th>\n",
       "      <td>2018-10-10</td>\n",
       "      <td>0.527276</td>\n",
       "      <td>-0.561649</td>\n",
       "      <td>1.647594</td>\n",
       "    </tr>\n",
       "    <tr>\n",
       "      <th>140</th>\n",
       "      <td>2018-10-11</td>\n",
       "      <td>0.469645</td>\n",
       "      <td>-0.566640</td>\n",
       "      <td>1.598353</td>\n",
       "    </tr>\n",
       "    <tr>\n",
       "      <th>141</th>\n",
       "      <td>2018-10-12</td>\n",
       "      <td>0.401767</td>\n",
       "      <td>-0.707398</td>\n",
       "      <td>1.506597</td>\n",
       "    </tr>\n",
       "    <tr>\n",
       "      <th>142</th>\n",
       "      <td>2018-10-13</td>\n",
       "      <td>0.313945</td>\n",
       "      <td>-0.770576</td>\n",
       "      <td>1.392596</td>\n",
       "    </tr>\n",
       "    <tr>\n",
       "      <th>143</th>\n",
       "      <td>2018-10-14</td>\n",
       "      <td>0.196974</td>\n",
       "      <td>-0.949910</td>\n",
       "      <td>1.339221</td>\n",
       "    </tr>\n",
       "  </tbody>\n",
       "</table>\n",
       "</div>"
      ],
      "text/plain": [
       "            ds      yhat  yhat_lower  yhat_upper\n",
       "137 2018-10-09  0.522978   -0.580895    1.650820\n",
       "138 2018-10-10  0.527276   -0.624452    1.615609\n",
       "139 2018-10-10  0.527276   -0.561649    1.647594\n",
       "140 2018-10-11  0.469645   -0.566640    1.598353\n",
       "141 2018-10-12  0.401767   -0.707398    1.506597\n",
       "142 2018-10-13  0.313945   -0.770576    1.392596\n",
       "143 2018-10-14  0.196974   -0.949910    1.339221"
      ]
     },
     "execution_count": 22,
     "metadata": {},
     "output_type": "execute_result"
    }
   ],
   "source": [
    "# predictions\n",
    "forecast = my_model.predict(future_dates)\n",
    "\n",
    "# preditions for last week\n",
    "forecast[['ds', 'yhat', 'yhat_lower', 'yhat_upper']].tail(7)"
   ]
  },
  {
   "cell_type": "code",
   "execution_count": 23,
   "metadata": {},
   "outputs": [
    {
     "data": {
      "text/html": [
       "<div>\n",
       "<style scoped>\n",
       "    .dataframe tbody tr th:only-of-type {\n",
       "        vertical-align: middle;\n",
       "    }\n",
       "\n",
       "    .dataframe tbody tr th {\n",
       "        vertical-align: top;\n",
       "    }\n",
       "\n",
       "    .dataframe thead th {\n",
       "        text-align: right;\n",
       "    }\n",
       "</style>\n",
       "<table border=\"1\" class=\"dataframe\">\n",
       "  <thead>\n",
       "    <tr style=\"text-align: right;\">\n",
       "      <th></th>\n",
       "      <th>ds</th>\n",
       "      <th>yhat</th>\n",
       "      <th>yhat_lower</th>\n",
       "      <th>yhat_upper</th>\n",
       "    </tr>\n",
       "  </thead>\n",
       "  <tbody>\n",
       "    <tr>\n",
       "      <th>0</th>\n",
       "      <td>2018-03-24</td>\n",
       "      <td>0.594515</td>\n",
       "      <td>-0.556849</td>\n",
       "      <td>1.673588</td>\n",
       "    </tr>\n",
       "    <tr>\n",
       "      <th>1</th>\n",
       "      <td>2018-03-25</td>\n",
       "      <td>0.585953</td>\n",
       "      <td>-0.557886</td>\n",
       "      <td>1.649683</td>\n",
       "    </tr>\n",
       "    <tr>\n",
       "      <th>2</th>\n",
       "      <td>2018-03-27</td>\n",
       "      <td>0.439588</td>\n",
       "      <td>-0.627442</td>\n",
       "      <td>1.547208</td>\n",
       "    </tr>\n",
       "    <tr>\n",
       "      <th>3</th>\n",
       "      <td>2018-03-28</td>\n",
       "      <td>0.527023</td>\n",
       "      <td>-0.471972</td>\n",
       "      <td>1.616885</td>\n",
       "    </tr>\n",
       "    <tr>\n",
       "      <th>4</th>\n",
       "      <td>2018-03-29</td>\n",
       "      <td>0.567856</td>\n",
       "      <td>-0.556554</td>\n",
       "      <td>1.689778</td>\n",
       "    </tr>\n",
       "  </tbody>\n",
       "</table>\n",
       "</div>"
      ],
      "text/plain": [
       "          ds      yhat  yhat_lower  yhat_upper\n",
       "0 2018-03-24  0.594515   -0.556849    1.673588\n",
       "1 2018-03-25  0.585953   -0.557886    1.649683\n",
       "2 2018-03-27  0.439588   -0.627442    1.547208\n",
       "3 2018-03-28  0.527023   -0.471972    1.616885\n",
       "4 2018-03-29  0.567856   -0.556554    1.689778"
      ]
     },
     "execution_count": 23,
     "metadata": {},
     "output_type": "execute_result"
    }
   ],
   "source": [
    "forecast[['ds', 'yhat', 'yhat_lower', 'yhat_upper']].head()"
   ]
  },
  {
   "cell_type": "markdown",
   "metadata": {},
   "source": [
    "시계열 그래프를 확인해보기 위한 함수"
   ]
  },
  {
   "cell_type": "code",
   "execution_count": 24,
   "metadata": {
    "collapsed": true
   },
   "outputs": [],
   "source": [
    "def tsplot(x):\n",
    "    ts = pd.Series(x['yhat'])\n",
    "    ts.index = x['ds']\n",
    "    ts.plot()"
   ]
  },
  {
   "cell_type": "code",
   "execution_count": 25,
   "metadata": {
    "collapsed": true
   },
   "outputs": [],
   "source": [
    "def tsplot2(x):\n",
    "    ts = pd.Series(x['y'])\n",
    "    ts.index = x['ds']\n",
    "    ts.plot()"
   ]
  },
  {
   "cell_type": "markdown",
   "metadata": {},
   "source": [
    "예측한 일간 OPS의 분포"
   ]
  },
  {
   "cell_type": "code",
   "execution_count": 26,
   "metadata": {},
   "outputs": [
    {
     "data": {
      "image/png": "[encoded data removed]",
      "text/plain": [
       "<Figure size 432x288 with 1 Axes>"
      ]
     },
     "metadata": {},
     "output_type": "display_data"
    }
   ],
   "source": [
    "tsplot(forecast[['ds', 'yhat', 'yhat_lower', 'yhat_upper']])"
   ]
  },
  {
   "cell_type": "markdown",
   "metadata": {},
   "source": [
    "예측한 일간 OPS의 평균"
   ]
  },
  {
   "cell_type": "code",
   "execution_count": 27,
   "metadata": {},
   "outputs": [
    {
     "data": {
      "text/plain": [
       "yhat          0.832422\n",
       "yhat_lower   -0.272399\n",
       "yhat_upper    1.930522\n",
       "dtype: float64"
      ]
     },
     "execution_count": 27,
     "metadata": {},
     "output_type": "execute_result"
    }
   ],
   "source": [
    "forecast[['ds', 'yhat', 'yhat_lower', 'yhat_upper']].mean()"
   ]
  },
  {
   "cell_type": "markdown",
   "metadata": {},
   "source": [
    "실제 일간 OPS의 평균"
   ]
  },
  {
   "cell_type": "code",
   "execution_count": 28,
   "metadata": {
    "scrolled": true
   },
   "outputs": [
    {
     "data": {
      "text/plain": [
       "y    0.922801\n",
       "dtype: float64"
      ]
     },
     "execution_count": 28,
     "metadata": {},
     "output_type": "execute_result"
    }
   ],
   "source": [
    "pts[pts['ds']>'2018-01-01'].mean()"
   ]
  },
  {
   "cell_type": "markdown",
   "metadata": {},
   "source": [
    "실제 OPS의 분포"
   ]
  },
  {
   "cell_type": "code",
   "execution_count": 29,
   "metadata": {},
   "outputs": [
    {
     "data": {
      "image/png": "[encoded data removed]",
      "text/plain": [
       "<Figure size 432x288 with 1 Axes>"
      ]
     },
     "metadata": {},
     "output_type": "display_data"
    }
   ],
   "source": [
    "tsplot2(pts[pts['ds']>'2018-01-01'])"
   ]
  },
  {
   "cell_type": "code",
   "execution_count": 30,
   "metadata": {
    "collapsed": true
   },
   "outputs": [
    {
     "data": {
      "text/html": [
       "<div>\n",
       "<style scoped>\n",
       "    .dataframe tbody tr th:only-of-type {\n",
       "        vertical-align: middle;\n",
       "    }\n",
       "\n",
       "    .dataframe tbody tr th {\n",
       "        vertical-align: top;\n",
       "    }\n",
       "\n",
       "    .dataframe thead th {\n",
       "        text-align: right;\n",
       "    }\n",
       "</style>\n",
       "<table border=\"1\" class=\"dataframe\">\n",
       "  <thead>\n",
       "    <tr style=\"text-align: right;\">\n",
       "      <th></th>\n",
       "      <th>y</th>\n",
       "      <th>ds</th>\n",
       "    </tr>\n",
       "  </thead>\n",
       "  <tbody>\n",
       "    <tr>\n",
       "      <th>1292</th>\n",
       "      <td>1.000000</td>\n",
       "      <td>2018-03-24</td>\n",
       "    </tr>\n",
       "    <tr>\n",
       "      <th>1293</th>\n",
       "      <td>0.000000</td>\n",
       "      <td>2018-03-25</td>\n",
       "    </tr>\n",
       "    <tr>\n",
       "      <th>1294</th>\n",
       "      <td>0.500000</td>\n",
       "      <td>2018-03-27</td>\n",
       "    </tr>\n",
       "    <tr>\n",
       "      <th>1295</th>\n",
       "      <td>0.400000</td>\n",
       "      <td>2018-03-28</td>\n",
       "    </tr>\n",
       "    <tr>\n",
       "      <th>1296</th>\n",
       "      <td>0.500000</td>\n",
       "      <td>2018-03-29</td>\n",
       "    </tr>\n",
       "    <tr>\n",
       "      <th>1297</th>\n",
       "      <td>0.250000</td>\n",
       "      <td>2018-03-30</td>\n",
       "    </tr>\n",
       "    <tr>\n",
       "      <th>1298</th>\n",
       "      <td>0.250000</td>\n",
       "      <td>2018-03-31</td>\n",
       "    </tr>\n",
       "    <tr>\n",
       "      <th>1299</th>\n",
       "      <td>0.833333</td>\n",
       "      <td>2018-04-01</td>\n",
       "    </tr>\n",
       "    <tr>\n",
       "      <th>1300</th>\n",
       "      <td>0.250000</td>\n",
       "      <td>2018-04-03</td>\n",
       "    </tr>\n",
       "    <tr>\n",
       "      <th>1301</th>\n",
       "      <td>2.250000</td>\n",
       "      <td>2018-04-04</td>\n",
       "    </tr>\n",
       "    <tr>\n",
       "      <th>1302</th>\n",
       "      <td>0.250000</td>\n",
       "      <td>2018-04-06</td>\n",
       "    </tr>\n",
       "    <tr>\n",
       "      <th>1303</th>\n",
       "      <td>0.500000</td>\n",
       "      <td>2018-04-07</td>\n",
       "    </tr>\n",
       "    <tr>\n",
       "      <th>1304</th>\n",
       "      <td>1.000000</td>\n",
       "      <td>2018-04-08</td>\n",
       "    </tr>\n",
       "    <tr>\n",
       "      <th>1305</th>\n",
       "      <td>0.000000</td>\n",
       "      <td>2018-04-10</td>\n",
       "    </tr>\n",
       "    <tr>\n",
       "      <th>1306</th>\n",
       "      <td>2.000000</td>\n",
       "      <td>2018-04-11</td>\n",
       "    </tr>\n",
       "    <tr>\n",
       "      <th>1307</th>\n",
       "      <td>0.500000</td>\n",
       "      <td>2018-04-12</td>\n",
       "    </tr>\n",
       "    <tr>\n",
       "      <th>1308</th>\n",
       "      <td>2.200000</td>\n",
       "      <td>2018-04-13</td>\n",
       "    </tr>\n",
       "    <tr>\n",
       "      <th>1309</th>\n",
       "      <td>1.500000</td>\n",
       "      <td>2018-04-17</td>\n",
       "    </tr>\n",
       "    <tr>\n",
       "      <th>1310</th>\n",
       "      <td>1.083333</td>\n",
       "      <td>2018-04-18</td>\n",
       "    </tr>\n",
       "    <tr>\n",
       "      <th>1311</th>\n",
       "      <td>2.750000</td>\n",
       "      <td>2018-04-19</td>\n",
       "    </tr>\n",
       "    <tr>\n",
       "      <th>1312</th>\n",
       "      <td>0.750000</td>\n",
       "      <td>2018-04-20</td>\n",
       "    </tr>\n",
       "    <tr>\n",
       "      <th>1313</th>\n",
       "      <td>1.416667</td>\n",
       "      <td>2018-04-21</td>\n",
       "    </tr>\n",
       "    <tr>\n",
       "      <th>1314</th>\n",
       "      <td>1.000000</td>\n",
       "      <td>2018-04-22</td>\n",
       "    </tr>\n",
       "    <tr>\n",
       "      <th>1315</th>\n",
       "      <td>0.600000</td>\n",
       "      <td>2018-04-24</td>\n",
       "    </tr>\n",
       "    <tr>\n",
       "      <th>1316</th>\n",
       "      <td>1.200000</td>\n",
       "      <td>2018-04-25</td>\n",
       "    </tr>\n",
       "    <tr>\n",
       "      <th>1317</th>\n",
       "      <td>0.250000</td>\n",
       "      <td>2018-04-26</td>\n",
       "    </tr>\n",
       "    <tr>\n",
       "      <th>1318</th>\n",
       "      <td>1.166667</td>\n",
       "      <td>2018-04-27</td>\n",
       "    </tr>\n",
       "    <tr>\n",
       "      <th>1319</th>\n",
       "      <td>0.000000</td>\n",
       "      <td>2018-04-28</td>\n",
       "    </tr>\n",
       "    <tr>\n",
       "      <th>1320</th>\n",
       "      <td>1.000000</td>\n",
       "      <td>2018-04-29</td>\n",
       "    </tr>\n",
       "    <tr>\n",
       "      <th>1321</th>\n",
       "      <td>0.250000</td>\n",
       "      <td>2018-05-01</td>\n",
       "    </tr>\n",
       "    <tr>\n",
       "      <th>...</th>\n",
       "      <td>...</td>\n",
       "      <td>...</td>\n",
       "    </tr>\n",
       "    <tr>\n",
       "      <th>1406</th>\n",
       "      <td>2.250000</td>\n",
       "      <td>2018-09-08</td>\n",
       "    </tr>\n",
       "    <tr>\n",
       "      <th>1407</th>\n",
       "      <td>2.350000</td>\n",
       "      <td>2018-09-09</td>\n",
       "    </tr>\n",
       "    <tr>\n",
       "      <th>1408</th>\n",
       "      <td>0.333333</td>\n",
       "      <td>2018-09-11</td>\n",
       "    </tr>\n",
       "    <tr>\n",
       "      <th>1409</th>\n",
       "      <td>0.800000</td>\n",
       "      <td>2018-09-12</td>\n",
       "    </tr>\n",
       "    <tr>\n",
       "      <th>1410</th>\n",
       "      <td>1.400000</td>\n",
       "      <td>2018-09-14</td>\n",
       "    </tr>\n",
       "    <tr>\n",
       "      <th>1411</th>\n",
       "      <td>0.600000</td>\n",
       "      <td>2018-09-15</td>\n",
       "    </tr>\n",
       "    <tr>\n",
       "      <th>1412</th>\n",
       "      <td>0.000000</td>\n",
       "      <td>2018-09-16</td>\n",
       "    </tr>\n",
       "    <tr>\n",
       "      <th>1413</th>\n",
       "      <td>2.500000</td>\n",
       "      <td>2018-09-18</td>\n",
       "    </tr>\n",
       "    <tr>\n",
       "      <th>1414</th>\n",
       "      <td>1.000000</td>\n",
       "      <td>2018-09-19</td>\n",
       "    </tr>\n",
       "    <tr>\n",
       "      <th>1415</th>\n",
       "      <td>0.800000</td>\n",
       "      <td>2018-09-20</td>\n",
       "    </tr>\n",
       "    <tr>\n",
       "      <th>1416</th>\n",
       "      <td>0.000000</td>\n",
       "      <td>2018-09-22</td>\n",
       "    </tr>\n",
       "    <tr>\n",
       "      <th>1417</th>\n",
       "      <td>0.000000</td>\n",
       "      <td>2018-09-23</td>\n",
       "    </tr>\n",
       "    <tr>\n",
       "      <th>1418</th>\n",
       "      <td>1.083333</td>\n",
       "      <td>2018-09-25</td>\n",
       "    </tr>\n",
       "    <tr>\n",
       "      <th>1419</th>\n",
       "      <td>0.750000</td>\n",
       "      <td>2018-09-26</td>\n",
       "    </tr>\n",
       "    <tr>\n",
       "      <th>1420</th>\n",
       "      <td>0.800000</td>\n",
       "      <td>2018-09-27</td>\n",
       "    </tr>\n",
       "    <tr>\n",
       "      <th>1421</th>\n",
       "      <td>0.400000</td>\n",
       "      <td>2018-09-28</td>\n",
       "    </tr>\n",
       "    <tr>\n",
       "      <th>1422</th>\n",
       "      <td>1.000000</td>\n",
       "      <td>2018-09-29</td>\n",
       "    </tr>\n",
       "    <tr>\n",
       "      <th>1423</th>\n",
       "      <td>0.400000</td>\n",
       "      <td>2018-09-30</td>\n",
       "    </tr>\n",
       "    <tr>\n",
       "      <th>1424</th>\n",
       "      <td>0.000000</td>\n",
       "      <td>2018-10-02</td>\n",
       "    </tr>\n",
       "    <tr>\n",
       "      <th>1425</th>\n",
       "      <td>0.400000</td>\n",
       "      <td>2018-10-03</td>\n",
       "    </tr>\n",
       "    <tr>\n",
       "      <th>1426</th>\n",
       "      <td>1.400000</td>\n",
       "      <td>2018-10-04</td>\n",
       "    </tr>\n",
       "    <tr>\n",
       "      <th>1427</th>\n",
       "      <td>0.600000</td>\n",
       "      <td>2018-10-06</td>\n",
       "    </tr>\n",
       "    <tr>\n",
       "      <th>1428</th>\n",
       "      <td>1.800000</td>\n",
       "      <td>2018-10-07</td>\n",
       "    </tr>\n",
       "    <tr>\n",
       "      <th>1429</th>\n",
       "      <td>1.200000</td>\n",
       "      <td>2018-10-09</td>\n",
       "    </tr>\n",
       "    <tr>\n",
       "      <th>1430</th>\n",
       "      <td>0.000000</td>\n",
       "      <td>2018-10-10</td>\n",
       "    </tr>\n",
       "    <tr>\n",
       "      <th>1431</th>\n",
       "      <td>0.500000</td>\n",
       "      <td>2018-10-10</td>\n",
       "    </tr>\n",
       "    <tr>\n",
       "      <th>1432</th>\n",
       "      <td>0.000000</td>\n",
       "      <td>2018-10-11</td>\n",
       "    </tr>\n",
       "    <tr>\n",
       "      <th>1433</th>\n",
       "      <td>0.000000</td>\n",
       "      <td>2018-10-12</td>\n",
       "    </tr>\n",
       "    <tr>\n",
       "      <th>1434</th>\n",
       "      <td>1.000000</td>\n",
       "      <td>2018-10-13</td>\n",
       "    </tr>\n",
       "    <tr>\n",
       "      <th>1435</th>\n",
       "      <td>0.000000</td>\n",
       "      <td>2018-10-14</td>\n",
       "    </tr>\n",
       "  </tbody>\n",
       "</table>\n",
       "<p>144 rows × 2 columns</p>\n",
       "</div>"
      ],
      "text/plain": [
       "             y         ds\n",
       "1292  1.000000 2018-03-24\n",
       "1293  0.000000 2018-03-25\n",
       "1294  0.500000 2018-03-27\n",
       "1295  0.400000 2018-03-28\n",
       "1296  0.500000 2018-03-29\n",
       "1297  0.250000 2018-03-30\n",
       "1298  0.250000 2018-03-31\n",
       "1299  0.833333 2018-04-01\n",
       "1300  0.250000 2018-04-03\n",
       "1301  2.250000 2018-04-04\n",
       "1302  0.250000 2018-04-06\n",
       "1303  0.500000 2018-04-07\n",
       "1304  1.000000 2018-04-08\n",
       "1305  0.000000 2018-04-10\n",
       "1306  2.000000 2018-04-11\n",
       "1307  0.500000 2018-04-12\n",
       "1308  2.200000 2018-04-13\n",
       "1309  1.500000 2018-04-17\n",
       "1310  1.083333 2018-04-18\n",
       "1311  2.750000 2018-04-19\n",
       "1312  0.750000 2018-04-20\n",
       "1313  1.416667 2018-04-21\n",
       "1314  1.000000 2018-04-22\n",
       "1315  0.600000 2018-04-24\n",
       "1316  1.200000 2018-04-25\n",
       "1317  0.250000 2018-04-26\n",
       "1318  1.166667 2018-04-27\n",
       "1319  0.000000 2018-04-28\n",
       "1320  1.000000 2018-04-29\n",
       "1321  0.250000 2018-05-01\n",
       "...        ...        ...\n",
       "1406  2.250000 2018-09-08\n",
       "1407  2.350000 2018-09-09\n",
       "1408  0.333333 2018-09-11\n",
       "1409  0.800000 2018-09-12\n",
       "1410  1.400000 2018-09-14\n",
       "1411  0.600000 2018-09-15\n",
       "1412  0.000000 2018-09-16\n",
       "1413  2.500000 2018-09-18\n",
       "1414  1.000000 2018-09-19\n",
       "1415  0.800000 2018-09-20\n",
       "1416  0.000000 2018-09-22\n",
       "1417  0.000000 2018-09-23\n",
       "1418  1.083333 2018-09-25\n",
       "1419  0.750000 2018-09-26\n",
       "1420  0.800000 2018-09-27\n",
       "1421  0.400000 2018-09-28\n",
       "1422  1.000000 2018-09-29\n",
       "1423  0.400000 2018-09-30\n",
       "1424  0.000000 2018-10-02\n",
       "1425  0.400000 2018-10-03\n",
       "1426  1.400000 2018-10-04\n",
       "1427  0.600000 2018-10-06\n",
       "1428  1.800000 2018-10-07\n",
       "1429  1.200000 2018-10-09\n",
       "1430  0.000000 2018-10-10\n",
       "1431  0.500000 2018-10-10\n",
       "1432  0.000000 2018-10-11\n",
       "1433  0.000000 2018-10-12\n",
       "1434  1.000000 2018-10-13\n",
       "1435  0.000000 2018-10-14\n",
       "\n",
       "[144 rows x 2 columns]"
      ]
     },
     "execution_count": 30,
     "metadata": {},
     "output_type": "execute_result"
    }
   ],
   "source": [
    "pts[pts['ds']>'2018-01-01']"
   ]
  },
  {
   "cell_type": "markdown",
   "metadata": {},
   "source": [
    "기타 시각화 자료"
   ]
  },
  {
   "cell_type": "code",
   "execution_count": 31,
   "metadata": {},
   "outputs": [
    {
     "data": {
      "image/png": "[encoded data removed]",
      "text/plain": [
       "<Figure size 720x432 with 1 Axes>"
      ]
     },
     "metadata": {},
     "output_type": "display_data"
    }
   ],
   "source": [
    "# visualizing predicions\n",
    "#fc = forecast[['ds', 'yhat']].rename(columns = {'Date': 'ds', 'Forecast': 'yhat'})\n",
    "my_model.plot(forecast);"
   ]
  },
  {
   "cell_type": "code",
   "execution_count": 32,
   "metadata": {},
   "outputs": [
    {
     "data": {
      "image/png": "[encoded data removed]",
      "text/plain": [
       "<Figure size 648x648 with 3 Axes>"
      ]
     },
     "metadata": {},
     "output_type": "display_data"
    }
   ],
   "source": [
    "my_model.plot_components(forecast);"
   ]
  },
  {
   "cell_type": "code",
   "execution_count": null,
   "metadata": {
    "collapsed": true
   },
   "outputs": [],
   "source": []
  }
 ],
 "metadata": {
  "kernelspec": {
   "display_name": "Python 3",
   "language": "python",
   "name": "python3"
  },
  "language_info": {
   "codemirror_mode": {
    "name": "ipython",
    "version": 3
   },
   "file_extension": ".py",
   "mimetype": "text/x-python",
   "name": "python",
   "nbconvert_exporter": "python",
   "pygments_lexer": "ipython3",
   "version": "3.6.5"
  }
 },
 "nbformat": 4,
 "nbformat_minor": 2
}
