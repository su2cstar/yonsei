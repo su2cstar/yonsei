{
 "cells": [
  {
   "cell_type": "code",
   "execution_count": 69,
   "metadata": {
    "colab": {
     "base_uri": "https://localhost:8080/",
     "height": 35
    },
    "colab_type": "code",
    "executionInfo": {
     "elapsed": 842,
     "status": "ok",
     "timestamp": 1553510152390,
     "user": {
      "displayName": "Jaesung Myung",
      "photoUrl": "https://lh3.googleusercontent.com/-aXz1k7Vcycg/AAAAAAAAAAI/AAAAAAAAAAw/v-qYKMnhFD0/s64/photo.jpg",
      "userId": "03815427492491131273"
     },
     "user_tz": -540
    },
    "id": "385duS56-8Mm",
    "outputId": "e7d29929-a435-4cc3-fdad-3edf65ad2f44"
   },
   "outputs": [
    {
     "name": "stdout",
     "output_type": "stream",
     "text": [
      "Drive already mounted at /content/gdrive; to attempt to forcibly remount, call drive.mount(\"/content/gdrive\", force_remount=True).\n"
     ]
    }
   ],
   "source": [
    "#from google.colab import drive\n",
    "#drive.mount('/content/gdrive')"
   ]
  },
  {
   "cell_type": "code",
   "execution_count": 1,
   "metadata": {
    "colab": {},
    "colab_type": "code",
    "id": "xznaWmsW_0i6"
   },
   "outputs": [],
   "source": [
    "#import os\n",
    "#os.chdir('/content/gdrive/My Drive/Daicon_PJ')\n",
    "\n",
    "import numpy as np\n",
    "import pandas as pd\n",
    "from matplotlib import pyplot as plt\n",
    "%matplotlib inline\n",
    "import seaborn as sns\n",
    "\n",
    "import xgboost as xgb\n",
    "from sklearn.ensemble import RandomForestRegressor\n",
    "from sklearn.metrics import mean_squared_error\n",
    "from sklearn.linear_model import ElasticNet, ElasticNetCV"
   ]
  },
  {
   "cell_type": "markdown",
   "metadata": {
    "colab_type": "text",
    "id": "BGER68u2Ampu"
   },
   "source": [
    "### 1. Importing final data and EDA some variables"
   ]
  },
  {
   "cell_type": "code",
   "execution_count": 2,
   "metadata": {
    "colab": {
     "base_uri": "https://localhost:8080/",
     "height": 1969
    },
    "colab_type": "code",
    "executionInfo": {
     "elapsed": 807,
     "status": "ok",
     "timestamp": 1553510715652,
     "user": {
      "displayName": "Jaesung Myung",
      "photoUrl": "https://lh3.googleusercontent.com/-aXz1k7Vcycg/AAAAAAAAAAI/AAAAAAAAAAw/v-qYKMnhFD0/s64/photo.jpg",
      "userId": "03815427492491131273"
     },
     "user_tz": -540
    },
    "id": "yC21Y4j0AqWY",
    "outputId": "dbbc0a94-3366-428f-f90d-ee7746ba755b"
   },
   "outputs": [
    {
     "data": {
      "text/html": [
       "<div>\n",
       "<style scoped>\n",
       "    .dataframe tbody tr th:only-of-type {\n",
       "        vertical-align: middle;\n",
       "    }\n",
       "\n",
       "    .dataframe tbody tr th {\n",
       "        vertical-align: top;\n",
       "    }\n",
       "\n",
       "    .dataframe thead th {\n",
       "        text-align: right;\n",
       "    }\n",
       "</style>\n",
       "<table border=\"1\" class=\"dataframe\">\n",
       "  <thead>\n",
       "    <tr style=\"text-align: right;\">\n",
       "      <th></th>\n",
       "      <th>batter_id</th>\n",
       "      <th>batter_name</th>\n",
       "      <th>year</th>\n",
       "      <th>team</th>\n",
       "      <th>avg</th>\n",
       "      <th>G</th>\n",
       "      <th>AB</th>\n",
       "      <th>R</th>\n",
       "      <th>H</th>\n",
       "      <th>2B</th>\n",
       "      <th>...</th>\n",
       "      <th>SF</th>\n",
       "      <th>도실</th>\n",
       "      <th>루타</th>\n",
       "      <th>타석</th>\n",
       "      <th>희타</th>\n",
       "      <th>WAR</th>\n",
       "      <th>WOBA</th>\n",
       "      <th>WPA</th>\n",
       "      <th>WRC+</th>\n",
       "      <th>salary</th>\n",
       "    </tr>\n",
       "  </thead>\n",
       "  <tbody>\n",
       "    <tr>\n",
       "      <th>0</th>\n",
       "      <td>1</td>\n",
       "      <td>강경학</td>\n",
       "      <td>2011</td>\n",
       "      <td>한화</td>\n",
       "      <td>0.000</td>\n",
       "      <td>2</td>\n",
       "      <td>1</td>\n",
       "      <td>0</td>\n",
       "      <td>0</td>\n",
       "      <td>0</td>\n",
       "      <td>...</td>\n",
       "      <td>0</td>\n",
       "      <td>0</td>\n",
       "      <td>0</td>\n",
       "      <td>1</td>\n",
       "      <td>0</td>\n",
       "      <td>0.01</td>\n",
       "      <td>0.000</td>\n",
       "      <td>NaN</td>\n",
       "      <td>NaN</td>\n",
       "      <td>0.0</td>\n",
       "    </tr>\n",
       "    <tr>\n",
       "      <th>1</th>\n",
       "      <td>1</td>\n",
       "      <td>강경학</td>\n",
       "      <td>2014</td>\n",
       "      <td>한화</td>\n",
       "      <td>0.221</td>\n",
       "      <td>41</td>\n",
       "      <td>86</td>\n",
       "      <td>11</td>\n",
       "      <td>19</td>\n",
       "      <td>2</td>\n",
       "      <td>...</td>\n",
       "      <td>0</td>\n",
       "      <td>0</td>\n",
       "      <td>30</td>\n",
       "      <td>103</td>\n",
       "      <td>2</td>\n",
       "      <td>0.21</td>\n",
       "      <td>0.316</td>\n",
       "      <td>-0.11</td>\n",
       "      <td>65.6</td>\n",
       "      <td>2400.0</td>\n",
       "    </tr>\n",
       "    <tr>\n",
       "      <th>2</th>\n",
       "      <td>1</td>\n",
       "      <td>강경학</td>\n",
       "      <td>2015</td>\n",
       "      <td>한화</td>\n",
       "      <td>0.257</td>\n",
       "      <td>120</td>\n",
       "      <td>311</td>\n",
       "      <td>50</td>\n",
       "      <td>80</td>\n",
       "      <td>7</td>\n",
       "      <td>...</td>\n",
       "      <td>3</td>\n",
       "      <td>3</td>\n",
       "      <td>101</td>\n",
       "      <td>376</td>\n",
       "      <td>18</td>\n",
       "      <td>0.11</td>\n",
       "      <td>0.304</td>\n",
       "      <td>-0.32</td>\n",
       "      <td>66.4</td>\n",
       "      <td>6500.0</td>\n",
       "    </tr>\n",
       "    <tr>\n",
       "      <th>3</th>\n",
       "      <td>1</td>\n",
       "      <td>강경학</td>\n",
       "      <td>2016</td>\n",
       "      <td>한화</td>\n",
       "      <td>0.158</td>\n",
       "      <td>46</td>\n",
       "      <td>101</td>\n",
       "      <td>16</td>\n",
       "      <td>16</td>\n",
       "      <td>3</td>\n",
       "      <td>...</td>\n",
       "      <td>1</td>\n",
       "      <td>0</td>\n",
       "      <td>26</td>\n",
       "      <td>116</td>\n",
       "      <td>4</td>\n",
       "      <td>-0.69</td>\n",
       "      <td>0.223</td>\n",
       "      <td>-1.10</td>\n",
       "      <td>10.5</td>\n",
       "      <td>6500.0</td>\n",
       "    </tr>\n",
       "    <tr>\n",
       "      <th>4</th>\n",
       "      <td>1</td>\n",
       "      <td>강경학</td>\n",
       "      <td>2017</td>\n",
       "      <td>한화</td>\n",
       "      <td>0.214</td>\n",
       "      <td>59</td>\n",
       "      <td>84</td>\n",
       "      <td>17</td>\n",
       "      <td>18</td>\n",
       "      <td>2</td>\n",
       "      <td>...</td>\n",
       "      <td>0</td>\n",
       "      <td>1</td>\n",
       "      <td>22</td>\n",
       "      <td>93</td>\n",
       "      <td>0</td>\n",
       "      <td>-0.16</td>\n",
       "      <td>0.264</td>\n",
       "      <td>-0.81</td>\n",
       "      <td>44.1</td>\n",
       "      <td>6200.0</td>\n",
       "    </tr>\n",
       "  </tbody>\n",
       "</table>\n",
       "<p>5 rows × 42 columns</p>\n",
       "</div>"
      ],
      "text/plain": [
       "   batter_id batter_name  year team    avg    G   AB   R   H  2B   ...    SF  \\\n",
       "0          1         강경학  2011   한화  0.000    2    1   0   0   0   ...     0   \n",
       "1          1         강경학  2014   한화  0.221   41   86  11  19   2   ...     0   \n",
       "2          1         강경학  2015   한화  0.257  120  311  50  80   7   ...     3   \n",
       "3          1         강경학  2016   한화  0.158   46  101  16  16   3   ...     1   \n",
       "4          1         강경학  2017   한화  0.214   59   84  17  18   2   ...     0   \n",
       "\n",
       "   도실   루타   타석  희타   WAR   WOBA   WPA  WRC+  salary  \n",
       "0   0    0    1   0  0.01  0.000   NaN   NaN     0.0  \n",
       "1   0   30  103   2  0.21  0.316 -0.11  65.6  2400.0  \n",
       "2   3  101  376  18  0.11  0.304 -0.32  66.4  6500.0  \n",
       "3   0   26  116   4 -0.69  0.223 -1.10  10.5  6500.0  \n",
       "4   1   22   93   0 -0.16  0.264 -0.81  44.1  6200.0  \n",
       "\n",
       "[5 rows x 42 columns]"
      ]
     },
     "execution_count": 2,
     "metadata": {},
     "output_type": "execute_result"
    }
   ],
   "source": [
    "#path_dir = os.getcwd()+'/'\n",
    "RSB_df = pd.read_csv('RSB_final.csv',na_values='-',encoding='utf8')\n",
    "RSB_df.head()"
   ]
  },
  {
   "cell_type": "code",
   "execution_count": 3,
   "metadata": {
    "colab": {
     "base_uri": "https://localhost:8080/",
     "height": 1969
    },
    "colab_type": "code",
    "executionInfo": {
     "elapsed": 654,
     "status": "ok",
     "timestamp": 1553510716992,
     "user": {
      "displayName": "Jaesung Myung",
      "photoUrl": "https://lh3.googleusercontent.com/-aXz1k7Vcycg/AAAAAAAAAAI/AAAAAAAAAAw/v-qYKMnhFD0/s64/photo.jpg",
      "userId": "03815427492491131273"
     },
     "user_tz": -540
    },
    "id": "ZKtrstCkGhIQ",
    "outputId": "1dd0fb32-3565-4ded-cb4b-303c5db61eda"
   },
   "outputs": [
    {
     "data": {
      "text/html": [
       "<div>\n",
       "<style scoped>\n",
       "    .dataframe tbody tr th:only-of-type {\n",
       "        vertical-align: middle;\n",
       "    }\n",
       "\n",
       "    .dataframe tbody tr th {\n",
       "        vertical-align: top;\n",
       "    }\n",
       "\n",
       "    .dataframe thead th {\n",
       "        text-align: right;\n",
       "    }\n",
       "</style>\n",
       "<table border=\"1\" class=\"dataframe\">\n",
       "  <thead>\n",
       "    <tr style=\"text-align: right;\">\n",
       "      <th></th>\n",
       "      <th>batter_id</th>\n",
       "      <th>batter_name</th>\n",
       "      <th>year</th>\n",
       "      <th>team</th>\n",
       "      <th>age</th>\n",
       "      <th>posi</th>\n",
       "      <th>ta</th>\n",
       "      <th>salary</th>\n",
       "      <th>G</th>\n",
       "      <th>AB</th>\n",
       "      <th>...</th>\n",
       "      <th>타석</th>\n",
       "      <th>희타</th>\n",
       "      <th>WAR</th>\n",
       "      <th>WOBA</th>\n",
       "      <th>WPA</th>\n",
       "      <th>avg</th>\n",
       "      <th>WRC+</th>\n",
       "      <th>SLG</th>\n",
       "      <th>OBP</th>\n",
       "      <th>OPS</th>\n",
       "    </tr>\n",
       "  </thead>\n",
       "  <tbody>\n",
       "    <tr>\n",
       "      <th>0</th>\n",
       "      <td>1</td>\n",
       "      <td>강경학</td>\n",
       "      <td>2011</td>\n",
       "      <td>한화</td>\n",
       "      <td>19</td>\n",
       "      <td>내야수</td>\n",
       "      <td>좌타</td>\n",
       "      <td>0.0</td>\n",
       "      <td>2</td>\n",
       "      <td>1</td>\n",
       "      <td>...</td>\n",
       "      <td>1</td>\n",
       "      <td>0</td>\n",
       "      <td>0.01</td>\n",
       "      <td>0.000</td>\n",
       "      <td>NaN</td>\n",
       "      <td>0.000</td>\n",
       "      <td>NaN</td>\n",
       "      <td>0.000</td>\n",
       "      <td>0.000</td>\n",
       "      <td>0.000</td>\n",
       "    </tr>\n",
       "    <tr>\n",
       "      <th>1</th>\n",
       "      <td>1</td>\n",
       "      <td>강경학</td>\n",
       "      <td>2014</td>\n",
       "      <td>한화</td>\n",
       "      <td>22</td>\n",
       "      <td>내야수</td>\n",
       "      <td>좌타</td>\n",
       "      <td>2400.0</td>\n",
       "      <td>41</td>\n",
       "      <td>86</td>\n",
       "      <td>...</td>\n",
       "      <td>103</td>\n",
       "      <td>2</td>\n",
       "      <td>0.21</td>\n",
       "      <td>0.316</td>\n",
       "      <td>-0.11</td>\n",
       "      <td>0.221</td>\n",
       "      <td>65.6</td>\n",
       "      <td>0.349</td>\n",
       "      <td>0.337</td>\n",
       "      <td>0.686</td>\n",
       "    </tr>\n",
       "    <tr>\n",
       "      <th>2</th>\n",
       "      <td>1</td>\n",
       "      <td>강경학</td>\n",
       "      <td>2015</td>\n",
       "      <td>한화</td>\n",
       "      <td>23</td>\n",
       "      <td>내야수</td>\n",
       "      <td>좌타</td>\n",
       "      <td>6500.0</td>\n",
       "      <td>120</td>\n",
       "      <td>311</td>\n",
       "      <td>...</td>\n",
       "      <td>376</td>\n",
       "      <td>18</td>\n",
       "      <td>0.11</td>\n",
       "      <td>0.304</td>\n",
       "      <td>-0.32</td>\n",
       "      <td>0.257</td>\n",
       "      <td>66.4</td>\n",
       "      <td>0.325</td>\n",
       "      <td>0.348</td>\n",
       "      <td>0.673</td>\n",
       "    </tr>\n",
       "    <tr>\n",
       "      <th>3</th>\n",
       "      <td>1</td>\n",
       "      <td>강경학</td>\n",
       "      <td>2016</td>\n",
       "      <td>한화</td>\n",
       "      <td>24</td>\n",
       "      <td>내야수</td>\n",
       "      <td>좌타</td>\n",
       "      <td>6500.0</td>\n",
       "      <td>46</td>\n",
       "      <td>101</td>\n",
       "      <td>...</td>\n",
       "      <td>116</td>\n",
       "      <td>4</td>\n",
       "      <td>-0.69</td>\n",
       "      <td>0.223</td>\n",
       "      <td>-1.10</td>\n",
       "      <td>0.158</td>\n",
       "      <td>10.5</td>\n",
       "      <td>0.257</td>\n",
       "      <td>0.232</td>\n",
       "      <td>0.489</td>\n",
       "    </tr>\n",
       "    <tr>\n",
       "      <th>4</th>\n",
       "      <td>1</td>\n",
       "      <td>강경학</td>\n",
       "      <td>2017</td>\n",
       "      <td>한화</td>\n",
       "      <td>25</td>\n",
       "      <td>내야수</td>\n",
       "      <td>좌타</td>\n",
       "      <td>6200.0</td>\n",
       "      <td>59</td>\n",
       "      <td>84</td>\n",
       "      <td>...</td>\n",
       "      <td>93</td>\n",
       "      <td>0</td>\n",
       "      <td>-0.16</td>\n",
       "      <td>0.264</td>\n",
       "      <td>-0.81</td>\n",
       "      <td>0.214</td>\n",
       "      <td>44.1</td>\n",
       "      <td>0.262</td>\n",
       "      <td>0.290</td>\n",
       "      <td>0.552</td>\n",
       "    </tr>\n",
       "  </tbody>\n",
       "</table>\n",
       "<p>5 rows × 42 columns</p>\n",
       "</div>"
      ],
      "text/plain": [
       "   batter_id batter_name  year team  age posi  ta  salary    G   AB  ...    \\\n",
       "0          1         강경학  2011   한화   19  내야수  좌타     0.0    2    1  ...     \n",
       "1          1         강경학  2014   한화   22  내야수  좌타  2400.0   41   86  ...     \n",
       "2          1         강경학  2015   한화   23  내야수  좌타  6500.0  120  311  ...     \n",
       "3          1         강경학  2016   한화   24  내야수  좌타  6500.0   46  101  ...     \n",
       "4          1         강경학  2017   한화   25  내야수  좌타  6200.0   59   84  ...     \n",
       "\n",
       "    타석  희타   WAR   WOBA   WPA    avg  WRC+    SLG    OBP    OPS  \n",
       "0    1   0  0.01  0.000   NaN  0.000   NaN  0.000  0.000  0.000  \n",
       "1  103   2  0.21  0.316 -0.11  0.221  65.6  0.349  0.337  0.686  \n",
       "2  376  18  0.11  0.304 -0.32  0.257  66.4  0.325  0.348  0.673  \n",
       "3  116   4 -0.69  0.223 -1.10  0.158  10.5  0.257  0.232  0.489  \n",
       "4   93   0 -0.16  0.264 -0.81  0.214  44.1  0.262  0.290  0.552  \n",
       "\n",
       "[5 rows x 42 columns]"
      ]
     },
     "execution_count": 3,
     "metadata": {},
     "output_type": "execute_result"
    }
   ],
   "source": [
    "reorder_list = ['batter_id', 'batter_name', 'year', 'team', 'age', 'posi', 'ta', 'salary', 'G', 'AB', 'R', 'H',\n",
    "       '2B', '3B', 'HR', 'TB', 'RBI', 'SB', 'CS', 'BB', 'HBP', 'SO', 'GDP',\n",
    "       'E', 'year_born', 'col_school', 'height', 'weight',\n",
    "       '고4', 'SF', '도실', '루타', '타석', '희타', 'WAR', 'WOBA',\n",
    "       'WPA', 'avg', 'WRC+','SLG', 'OBP', 'OPS']\n",
    "RSB = RSB_df[reorder_list]\n",
    "RSB.head()"
   ]
  },
  {
   "cell_type": "markdown",
   "metadata": {
    "colab_type": "text",
    "id": "GjLi67gcBrA2"
   },
   "source": [
    "#### 결측값이 많은 'col_school', 'WPA' 정리\n",
    "\n",
    "- college : 대졸 선수 = 1, 고졸 & 용병 = 0으로 처리\n",
    "\n",
    "- WPA : 결측값이 너무 많다... Delete!"
   ]
  },
  {
   "cell_type": "code",
   "execution_count": 4,
   "metadata": {
    "colab": {
     "base_uri": "https://localhost:8080/",
     "height": 283
    },
    "colab_type": "code",
    "executionInfo": {
     "elapsed": 1169,
     "status": "ok",
     "timestamp": 1553510718582,
     "user": {
      "displayName": "Jaesung Myung",
      "photoUrl": "https://lh3.googleusercontent.com/-aXz1k7Vcycg/AAAAAAAAAAI/AAAAAAAAAAw/v-qYKMnhFD0/s64/photo.jpg",
      "userId": "03815427492491131273"
     },
     "user_tz": -540
    },
    "id": "gZ_S1GU3BVtV",
    "outputId": "84d32331-ea97-4987-ba19-3eeb322b3eb8"
   },
   "outputs": [
    {
     "data": {
      "text/plain": [
       "<matplotlib.axes._subplots.AxesSubplot at 0x1cf7c4c95c0>"
      ]
     },
     "execution_count": 4,
     "metadata": {},
     "output_type": "execute_result"
    },
    {
     "data": {
      "image/png": "[encoded data removed]",
      "text/plain": [
       "<Figure size 432x288 with 1 Axes>"
      ]
     },
     "metadata": {},
     "output_type": "display_data"
    }
   ],
   "source": [
    "def is_colleged(x):\n",
    "  if x is np.nan:\n",
    "    x = 0\n",
    "  else:\n",
    "    x = 1\n",
    "  return x\n",
    "  \n",
    "RSB['col_school'] = RSB['col_school'].map(lambda x: is_colleged(x)) # nan = 0으로 대체됨.\n",
    "RSB['col_school'].hist()"
   ]
  },
  {
   "cell_type": "code",
   "execution_count": 6,
   "metadata": {
    "colab": {
     "base_uri": "https://localhost:8080/",
     "height": 791
    },
    "colab_type": "code",
    "executionInfo": {
     "elapsed": 757,
     "status": "ok",
     "timestamp": 1553510718584,
     "user": {
      "displayName": "Jaesung Myung",
      "photoUrl": "https://lh3.googleusercontent.com/-aXz1k7Vcycg/AAAAAAAAAAI/AAAAAAAAAAw/v-qYKMnhFD0/s64/photo.jpg",
      "userId": "03815427492491131273"
     },
     "user_tz": -540
    },
    "id": "lAGs8XzHKBis",
    "outputId": "58c36cf9-5ff6-48a8-e309-76f33f62216d"
   },
   "outputs": [],
   "source": [
    "#RSB.isna().sum()"
   ]
  },
  {
   "cell_type": "code",
   "execution_count": 7,
   "metadata": {
    "colab": {
     "base_uri": "https://localhost:8080/",
     "height": 773
    },
    "colab_type": "code",
    "executionInfo": {
     "elapsed": 648,
     "status": "ok",
     "timestamp": 1553510718949,
     "user": {
      "displayName": "Jaesung Myung",
      "photoUrl": "https://lh3.googleusercontent.com/-aXz1k7Vcycg/AAAAAAAAAAI/AAAAAAAAAAw/v-qYKMnhFD0/s64/photo.jpg",
      "userId": "03815427492491131273"
     },
     "user_tz": -540
    },
    "id": "7kxZ-vr5NDnt",
    "outputId": "a3be86cb-e690-4bac-9226-81dbdf31549a"
   },
   "outputs": [],
   "source": [
    "RSB = RSB.drop(['WPA'], axis = 1) # WPA 변수 제거\n",
    "#RSB.isna().sum()"
   ]
  },
  {
   "cell_type": "markdown",
   "metadata": {
    "colab_type": "text",
    "id": "TZLJ6EEgPp7z"
   },
   "source": [
    "#### (2) One-Hot encoding for categorical variables\n",
    "\n",
    "- team, posi, ta에 대하여 one-hot encoding 필요\n",
    "\n",
    "- team의 경우: 쌍방울 = **SK**, 해태 = **KIA**, (현대, 우리, 히어로즈, 넥센) = **키움**"
   ]
  },
  {
   "cell_type": "code",
   "execution_count": 8,
   "metadata": {
    "colab": {
     "base_uri": "https://localhost:8080/",
     "height": 53
    },
    "colab_type": "code",
    "executionInfo": {
     "elapsed": 815,
     "status": "ok",
     "timestamp": 1553510720206,
     "user": {
      "displayName": "Jaesung Myung",
      "photoUrl": "https://lh3.googleusercontent.com/-aXz1k7Vcycg/AAAAAAAAAAI/AAAAAAAAAAw/v-qYKMnhFD0/s64/photo.jpg",
      "userId": "03815427492491131273"
     },
     "user_tz": -540
    },
    "id": "WEeiQSn_Ojdj",
    "outputId": "9851e7b8-d684-4fd8-8add-194289d1a996"
   },
   "outputs": [
    {
     "data": {
      "text/plain": [
       "array(['한화', 'NC', '롯데', '삼성', 'KT', 'LG', 'SK', 'KIA', '키움', '두산'],\n",
       "      dtype=object)"
      ]
     },
     "execution_count": 8,
     "metadata": {},
     "output_type": "execute_result"
    }
   ],
   "source": [
    "RSB['team'] = RSB['team'].replace('쌍방울','SK').replace('해태','KIA').replace('현대','키움').replace('우리','키움').replace('히어로즈','키움').replace('넥센','키움')\n",
    "RSB['team'].unique()"
   ]
  },
  {
   "cell_type": "code",
   "execution_count": 9,
   "metadata": {
    "colab": {
     "base_uri": "https://localhost:8080/",
     "height": 161
    },
    "colab_type": "code",
    "executionInfo": {
     "elapsed": 745,
     "status": "ok",
     "timestamp": 1553510720629,
     "user": {
      "displayName": "Jaesung Myung",
      "photoUrl": "https://lh3.googleusercontent.com/-aXz1k7Vcycg/AAAAAAAAAAI/AAAAAAAAAAw/v-qYKMnhFD0/s64/photo.jpg",
      "userId": "03815427492491131273"
     },
     "user_tz": -540
    },
    "id": "jPsze8zsas6e",
    "outputId": "2e141559-5088-4e7b-f613-08c2d158e02d"
   },
   "outputs": [
    {
     "name": "stdout",
     "output_type": "stream",
     "text": [
      "내야수    787\n",
      "외야수    559\n",
      "포수     185\n",
      "Name: posi, dtype: int64 \n",
      " 우타    995\n",
      "좌타    523\n",
      "양타     13\n",
      "Name: ta, dtype: int64\n"
     ]
    }
   ],
   "source": [
    "print(RSB['posi'].value_counts(),'\\n',RSB['ta'].value_counts())"
   ]
  },
  {
   "cell_type": "code",
   "execution_count": 10,
   "metadata": {
    "colab": {
     "base_uri": "https://localhost:8080/",
     "height": 1969
    },
    "colab_type": "code",
    "executionInfo": {
     "elapsed": 501,
     "status": "ok",
     "timestamp": 1553510721058,
     "user": {
      "displayName": "Jaesung Myung",
      "photoUrl": "https://lh3.googleusercontent.com/-aXz1k7Vcycg/AAAAAAAAAAI/AAAAAAAAAAw/v-qYKMnhFD0/s64/photo.jpg",
      "userId": "03815427492491131273"
     },
     "user_tz": -540
    },
    "id": "qBChOJZvbzlP",
    "outputId": "1a96185b-3ec6-4fea-e9c7-4b5bd19b93d6"
   },
   "outputs": [
    {
     "data": {
      "text/html": [
       "<div>\n",
       "<style scoped>\n",
       "    .dataframe tbody tr th:only-of-type {\n",
       "        vertical-align: middle;\n",
       "    }\n",
       "\n",
       "    .dataframe tbody tr th {\n",
       "        vertical-align: top;\n",
       "    }\n",
       "\n",
       "    .dataframe thead th {\n",
       "        text-align: right;\n",
       "    }\n",
       "</style>\n",
       "<table border=\"1\" class=\"dataframe\">\n",
       "  <thead>\n",
       "    <tr style=\"text-align: right;\">\n",
       "      <th></th>\n",
       "      <th>batter_id</th>\n",
       "      <th>batter_name</th>\n",
       "      <th>year</th>\n",
       "      <th>age</th>\n",
       "      <th>salary</th>\n",
       "      <th>G</th>\n",
       "      <th>AB</th>\n",
       "      <th>R</th>\n",
       "      <th>H</th>\n",
       "      <th>2B</th>\n",
       "      <th>...</th>\n",
       "      <th>team_롯데</th>\n",
       "      <th>team_삼성</th>\n",
       "      <th>team_키움</th>\n",
       "      <th>team_한화</th>\n",
       "      <th>posi_내야수</th>\n",
       "      <th>posi_외야수</th>\n",
       "      <th>posi_포수</th>\n",
       "      <th>ta_양타</th>\n",
       "      <th>ta_우타</th>\n",
       "      <th>ta_좌타</th>\n",
       "    </tr>\n",
       "  </thead>\n",
       "  <tbody>\n",
       "    <tr>\n",
       "      <th>0</th>\n",
       "      <td>1</td>\n",
       "      <td>강경학</td>\n",
       "      <td>2011</td>\n",
       "      <td>19</td>\n",
       "      <td>0.0</td>\n",
       "      <td>2</td>\n",
       "      <td>1</td>\n",
       "      <td>0</td>\n",
       "      <td>0</td>\n",
       "      <td>0</td>\n",
       "      <td>...</td>\n",
       "      <td>0</td>\n",
       "      <td>0</td>\n",
       "      <td>0</td>\n",
       "      <td>1</td>\n",
       "      <td>1</td>\n",
       "      <td>0</td>\n",
       "      <td>0</td>\n",
       "      <td>0</td>\n",
       "      <td>0</td>\n",
       "      <td>1</td>\n",
       "    </tr>\n",
       "    <tr>\n",
       "      <th>1</th>\n",
       "      <td>1</td>\n",
       "      <td>강경학</td>\n",
       "      <td>2014</td>\n",
       "      <td>22</td>\n",
       "      <td>2400.0</td>\n",
       "      <td>41</td>\n",
       "      <td>86</td>\n",
       "      <td>11</td>\n",
       "      <td>19</td>\n",
       "      <td>2</td>\n",
       "      <td>...</td>\n",
       "      <td>0</td>\n",
       "      <td>0</td>\n",
       "      <td>0</td>\n",
       "      <td>1</td>\n",
       "      <td>1</td>\n",
       "      <td>0</td>\n",
       "      <td>0</td>\n",
       "      <td>0</td>\n",
       "      <td>0</td>\n",
       "      <td>1</td>\n",
       "    </tr>\n",
       "    <tr>\n",
       "      <th>2</th>\n",
       "      <td>1</td>\n",
       "      <td>강경학</td>\n",
       "      <td>2015</td>\n",
       "      <td>23</td>\n",
       "      <td>6500.0</td>\n",
       "      <td>120</td>\n",
       "      <td>311</td>\n",
       "      <td>50</td>\n",
       "      <td>80</td>\n",
       "      <td>7</td>\n",
       "      <td>...</td>\n",
       "      <td>0</td>\n",
       "      <td>0</td>\n",
       "      <td>0</td>\n",
       "      <td>1</td>\n",
       "      <td>1</td>\n",
       "      <td>0</td>\n",
       "      <td>0</td>\n",
       "      <td>0</td>\n",
       "      <td>0</td>\n",
       "      <td>1</td>\n",
       "    </tr>\n",
       "    <tr>\n",
       "      <th>3</th>\n",
       "      <td>1</td>\n",
       "      <td>강경학</td>\n",
       "      <td>2016</td>\n",
       "      <td>24</td>\n",
       "      <td>6500.0</td>\n",
       "      <td>46</td>\n",
       "      <td>101</td>\n",
       "      <td>16</td>\n",
       "      <td>16</td>\n",
       "      <td>3</td>\n",
       "      <td>...</td>\n",
       "      <td>0</td>\n",
       "      <td>0</td>\n",
       "      <td>0</td>\n",
       "      <td>1</td>\n",
       "      <td>1</td>\n",
       "      <td>0</td>\n",
       "      <td>0</td>\n",
       "      <td>0</td>\n",
       "      <td>0</td>\n",
       "      <td>1</td>\n",
       "    </tr>\n",
       "    <tr>\n",
       "      <th>4</th>\n",
       "      <td>1</td>\n",
       "      <td>강경학</td>\n",
       "      <td>2017</td>\n",
       "      <td>25</td>\n",
       "      <td>6200.0</td>\n",
       "      <td>59</td>\n",
       "      <td>84</td>\n",
       "      <td>17</td>\n",
       "      <td>18</td>\n",
       "      <td>2</td>\n",
       "      <td>...</td>\n",
       "      <td>0</td>\n",
       "      <td>0</td>\n",
       "      <td>0</td>\n",
       "      <td>1</td>\n",
       "      <td>1</td>\n",
       "      <td>0</td>\n",
       "      <td>0</td>\n",
       "      <td>0</td>\n",
       "      <td>0</td>\n",
       "      <td>1</td>\n",
       "    </tr>\n",
       "  </tbody>\n",
       "</table>\n",
       "<p>5 rows × 54 columns</p>\n",
       "</div>"
      ],
      "text/plain": [
       "   batter_id batter_name  year  age  salary    G   AB   R   H  2B  ...    \\\n",
       "0          1         강경학  2011   19     0.0    2    1   0   0   0  ...     \n",
       "1          1         강경학  2014   22  2400.0   41   86  11  19   2  ...     \n",
       "2          1         강경학  2015   23  6500.0  120  311  50  80   7  ...     \n",
       "3          1         강경학  2016   24  6500.0   46  101  16  16   3  ...     \n",
       "4          1         강경학  2017   25  6200.0   59   84  17  18   2  ...     \n",
       "\n",
       "   team_롯데  team_삼성  team_키움  team_한화  posi_내야수  posi_외야수  posi_포수  ta_양타  \\\n",
       "0        0        0        0        1         1         0        0      0   \n",
       "1        0        0        0        1         1         0        0      0   \n",
       "2        0        0        0        1         1         0        0      0   \n",
       "3        0        0        0        1         1         0        0      0   \n",
       "4        0        0        0        1         1         0        0      0   \n",
       "\n",
       "   ta_우타  ta_좌타  \n",
       "0      0      1  \n",
       "1      0      1  \n",
       "2      0      1  \n",
       "3      0      1  \n",
       "4      0      1  \n",
       "\n",
       "[5 rows x 54 columns]"
      ]
     },
     "execution_count": 10,
     "metadata": {},
     "output_type": "execute_result"
    }
   ],
   "source": [
    "dummies = pd.get_dummies(RSB[['team','posi','ta']])\n",
    "RSB_plus_dummies = pd.concat([RSB, dummies], axis = 1, ignore_index = False)\n",
    "RSB = RSB_plus_dummies.drop(['team','posi','ta'], axis = 1)\n",
    "RSB.head()"
   ]
  },
  {
   "cell_type": "code",
   "execution_count": 35,
   "metadata": {},
   "outputs": [],
   "source": [
    "regular = RSB"
   ]
  },
  {
   "cell_type": "code",
   "execution_count": 36,
   "metadata": {},
   "outputs": [
    {
     "name": "stdout",
     "output_type": "stream",
     "text": [
      "salary\n",
      "G\n",
      "AB\n",
      "R\n",
      "H\n",
      "2B\n",
      "3B\n",
      "HR\n",
      "TB\n",
      "RBI\n",
      "SB\n",
      "CS\n",
      "BB\n",
      "HBP\n",
      "SO\n",
      "GDP\n",
      "E\n",
      "year_born\n",
      "col_school\n",
      "height\n",
      "weight\n",
      "고4\n",
      "SF\n",
      "도실\n",
      "루타\n",
      "타석\n",
      "희타\n",
      "WAR\n",
      "WOBA\n",
      "avg\n",
      "WRC+\n",
      "SLG\n",
      "OBP\n",
      "OPS\n"
     ]
    }
   ],
   "source": [
    "for j in a:\n",
    "    lag_1_avg=[]\n",
    "    for i in range(len(regular)): \n",
    "        if len(regular.loc[(regular['batter_name']==regular['batter_name'].iloc[i])&(regular['year']==regular['year'].iloc[i]-1)][j])==0:\n",
    "            lag_1_avg.append(np.nan)\n",
    "        else:\n",
    "            lag_1_avg.append(regular.loc[(regular['batter_name']==regular['batter_name'].iloc[i])&(regular['year']==regular['year'].iloc[i]-1)][j].iloc[0])\n",
    "    \n",
    "    regular['lag_1_'+j]=lag_1_avg\n",
    "    print(j)"
   ]
  },
  {
   "cell_type": "code",
   "execution_count": 33,
   "metadata": {},
   "outputs": [],
   "source": [
    " a =   ['salary', 'G', 'AB', 'R',\n",
    "       'H', '2B', '3B', 'HR', 'TB', 'RBI', 'SB', 'CS', 'BB', 'HBP', 'SO',\n",
    "       'GDP', 'E', 'year_born', 'col_school', 'height', 'weight', '고4', 'SF',\n",
    "       '도실', '루타', '타석', '희타', 'WAR', 'WOBA', 'avg', 'WRC+', 'SLG', 'OBP',\n",
    "       'OPS']"
   ]
  },
  {
   "cell_type": "code",
   "execution_count": 11,
   "metadata": {
    "colab": {},
    "colab_type": "code",
    "id": "6Y9lHZu12GRg"
   },
   "outputs": [],
   "source": [
    "RSB.to_csv('RSB_final_df.csv', index = False, encoding = 'utf8')"
   ]
  },
  {
   "cell_type": "code",
   "execution_count": 37,
   "metadata": {},
   "outputs": [],
   "source": [
    "RSB =regular"
   ]
  },
  {
   "cell_type": "code",
   "execution_count": 61,
   "metadata": {},
   "outputs": [
    {
     "data": {
      "text/plain": [
       "year                0\n",
       "age                 0\n",
       "team_KIA            0\n",
       "team_KT             0\n",
       "team_LG             0\n",
       "team_NC             0\n",
       "team_SK             0\n",
       "team_두산             0\n",
       "team_롯데             0\n",
       "team_삼성             0\n",
       "team_키움             0\n",
       "team_한화             0\n",
       "posi_내야수            0\n",
       "posi_외야수            0\n",
       "posi_포수             0\n",
       "ta_양타               0\n",
       "ta_우타               0\n",
       "ta_좌타               0\n",
       "lag_1_salary        0\n",
       "lag_1_G             0\n",
       "lag_1_AB            0\n",
       "lag_1_R             0\n",
       "lag_1_H             0\n",
       "lag_1_2B            0\n",
       "lag_1_3B            0\n",
       "lag_1_HR            0\n",
       "lag_1_TB            0\n",
       "lag_1_RBI           0\n",
       "lag_1_SB            0\n",
       "lag_1_CS            0\n",
       "lag_1_BB            0\n",
       "lag_1_HBP           0\n",
       "lag_1_SO            0\n",
       "lag_1_GDP           0\n",
       "lag_1_E             0\n",
       "lag_1_col_school    0\n",
       "lag_1_height        0\n",
       "lag_1_weight        0\n",
       "lag_1_고4            0\n",
       "lag_1_SF            0\n",
       "lag_1_도실            0\n",
       "lag_1_루타            0\n",
       "lag_1_타석            0\n",
       "lag_1_희타            0\n",
       "lag_1_WAR           0\n",
       "lag_1_WOBA          0\n",
       "lag_1_avg           0\n",
       "lag_1_WRC+          7\n",
       "lag_1_SLG           0\n",
       "lag_1_OBP           0\n",
       "lag_1_OPS           0\n",
       "dtype: int64"
      ]
     },
     "execution_count": 61,
     "metadata": {},
     "output_type": "execute_result"
    }
   ],
   "source": [
    "train_X.isna().sum()"
   ]
  },
  {
   "cell_type": "markdown",
   "metadata": {
    "colab_type": "text",
    "id": "N4qAS2pENlPp"
   },
   "source": [
    "# 2.  Model Training과 Validation"
   ]
  },
  {
   "cell_type": "markdown",
   "metadata": {
    "colab_type": "text",
    "id": "l30BNMoBgOed"
   },
   "source": [
    "#### (1) Train & Test split\n",
    "\n",
    "- Training data : 2018년 **이전**의 기록들\n",
    "\n",
    "- Test data : 2018년**의** 기록들"
   ]
  },
  {
   "cell_type": "code",
   "execution_count": 59,
   "metadata": {
    "colab": {},
    "colab_type": "code",
    "id": "cyZn14-GNiaU"
   },
   "outputs": [],
   "source": [
    "train_dt = RSB.loc[RSB['year'] <= 2017, ]\n",
    "train_dt =train_dt[-train_dt['lag_1_G'].isna()]\n",
    "test_dt = RSB.loc[RSB['year'] == 2018, ]\n",
    "test_dt =test_dt[-test_dt['lag_1_G'].isna()]\n",
    "\n",
    "train_batters = train_dt[['batter_id','batter_name']]\n",
    "train_X = train_dt.drop(['batter_id','batter_name','lag_1_year_born'], axis = 1).drop(columns = a)\n",
    "train_Y = train_dt['OPS']\n",
    "\n",
    "test_batters = test_dt[['batter_id','batter_name']]\n",
    "test_X = test_dt.drop(['batter_id','batter_name','lag_1_year_born'], axis = 1).drop(columns = a)\n",
    "test_Y = test_dt['OPS']"
   ]
  },
  {
   "cell_type": "markdown",
   "metadata": {
    "colab_type": "text",
    "id": "CIdJntK3gN3P"
   },
   "source": [
    "#### (2) Random Forest modeling\n",
    "\n",
    "- 최적의 n_tree 개수를 찾은 뒤 modeling에 사용하자 "
   ]
  },
  {
   "cell_type": "code",
   "execution_count": 62,
   "metadata": {
    "colab": {
     "base_uri": "https://localhost:8080/",
     "height": 197
    },
    "colab_type": "code",
    "executionInfo": {
     "elapsed": 185891,
     "status": "ok",
     "timestamp": 1553510911760,
     "user": {
      "displayName": "Jaesung Myung",
      "photoUrl": "https://lh3.googleusercontent.com/-aXz1k7Vcycg/AAAAAAAAAAI/AAAAAAAAAAw/v-qYKMnhFD0/s64/photo.jpg",
      "userId": "03815427492491131273"
     },
     "user_tz": -540
    },
    "id": "Mb_FMa7INzyN",
    "outputId": "77450f9e-aa29-432e-ca15-9d57d60a6880"
   },
   "outputs": [
    {
     "name": "stdout",
     "output_type": "stream",
     "text": [
      "n_trees:  500 , error:  0.012069439803542286\n",
      "n_trees:  1000 , error:  0.011928496598132651\n",
      "n_trees:  1500 , error:  0.011944074837380424\n",
      "n_trees:  2000 , error:  0.011946153142261282\n",
      "n_trees:  2500 , error:  0.011924953640733068\n",
      "n_trees:  3000 , error:  0.011920793265991117\n",
      "n_trees:  3500 , error:  0.011934663654073627\n",
      "n_trees:  4000 , error:  0.01189529470649967\n",
      "n_trees:  4500 , error:  0.011886788702930704\n",
      "n_trees:  5000 , error:  0.011897122689043685\n"
     ]
    }
   ],
   "source": [
    "real_OPS = test_Y\n",
    "real_AB = test_dt['AB']\n",
    "RF_ntree = list(range(500,5500,500))\n",
    "acc = []\n",
    "for param in RF_ntree:\n",
    "  RF = RandomForestRegressor(n_estimators = param, max_features = int(train_X.shape[1]/3), random_state = 10)\n",
    "  RF.fit(train_X.fillna(train_X['lag_1_WRC+'].median()), train_Y, sample_weight = train_dt['lag_1_AB'])\n",
    "  rf_pred_OPS = RF.predict(test_X.fillna(train_X['lag_1_WRC+'].median()))\n",
    "  rf_error = mean_squared_error(real_OPS, rf_pred_OPS, sample_weight = real_AB)\n",
    "  acc.append(rf_error)\n",
    "  print('n_trees: ', param, ', error: ', rf_error**(1/2))"
   ]
  },
  {
   "cell_type": "code",
   "execution_count": 63,
   "metadata": {
    "colab": {
     "base_uri": "https://localhost:8080/",
     "height": 279
    },
    "colab_type": "code",
    "executionInfo": {
     "elapsed": 178776,
     "status": "ok",
     "timestamp": 1553510911762,
     "user": {
      "displayName": "Jaesung Myung",
      "photoUrl": "https://lh3.googleusercontent.com/-aXz1k7Vcycg/AAAAAAAAAAI/AAAAAAAAAAw/v-qYKMnhFD0/s64/photo.jpg",
      "userId": "03815427492491131273"
     },
     "user_tz": -540
    },
    "id": "gpT6CjmLN8rX",
    "outputId": "9d6309ea-c109-461f-c085-0ce0daa17213"
   },
   "outputs": [
    {
     "data": {
      "image/png": "[encoded data removed]",
      "text/plain": [
       "<Figure size 432x288 with 1 Axes>"
      ]
     },
     "metadata": {},
     "output_type": "display_data"
    }
   ],
   "source": [
    "plt.figure()\n",
    "plt.plot(RF_ntree, acc, 'r')\n",
    "plt.xlabel('Number of trees')\n",
    "plt.xticks(np.arange(500, 5500, step = 500))\n",
    "plt.ylabel('Error')\n",
    "plt.show()"
   ]
  },
  {
   "cell_type": "markdown",
   "metadata": {
    "colab_type": "text",
    "id": "oqa_NPB3gx2Y"
   },
   "source": [
    "- ntree = 1500일 때 최소의 test MSE를 보였으므로, 이것을 최종 Random forest 모형으로 사용하자."
   ]
  },
  {
   "cell_type": "code",
   "execution_count": 65,
   "metadata": {
    "colab": {
     "base_uri": "https://localhost:8080/",
     "height": 35
    },
    "colab_type": "code",
    "executionInfo": {
     "elapsed": 11471,
     "status": "ok",
     "timestamp": 1553500856136,
     "user": {
      "displayName": "Jaesung Myung",
      "photoUrl": "https://lh3.googleusercontent.com/-aXz1k7Vcycg/AAAAAAAAAAI/AAAAAAAAAAw/v-qYKMnhFD0/s64/photo.jpg",
      "userId": "03815427492491131273"
     },
     "user_tz": -540
    },
    "id": "btm3hwMVOVnd",
    "outputId": "e6c4cdae-6e1c-48c0-8cb6-7736b8d7d903"
   },
   "outputs": [
    {
     "name": "stdout",
     "output_type": "stream",
     "text": [
      "0.012172552113846508\n"
     ]
    }
   ],
   "source": [
    "RF_final = RandomForestRegressor(n_estimators = 4500, max_features = int(train_X.shape[1]/3))\n",
    "RF_final.fit(train_X.fillna(train_X['lag_1_WRC+'].median()), train_Y)\n",
    "rf_pred = RF_final.predict(test_X.fillna(train_X['lag_1_WRC+'].median()))\n",
    "rf_error = mean_squared_error(real_OPS, rf_pred, sample_weight = real_AB)\n",
    "print(rf_error)"
   ]
  },
  {
   "cell_type": "code",
   "execution_count": 66,
   "metadata": {
    "scrolled": true
   },
   "outputs": [],
   "source": [
    "test_dt['yhat']=rf_pred"
   ]
  },
  {
   "cell_type": "code",
   "execution_count": 74,
   "metadata": {},
   "outputs": [
    {
     "data": {
      "text/plain": [
       "(177, 4)"
      ]
     },
     "execution_count": 74,
     "metadata": {},
     "output_type": "execute_result"
    }
   ],
   "source": [
    "tmp = test_dt[['batter_name','AB','OPS','yhat']]\n",
    "#display(tmp[tmp['batter_name']=='샌즈'])\n",
    "tmp.shape"
   ]
  },
  {
   "cell_type": "code",
   "execution_count": 72,
   "metadata": {},
   "outputs": [
    {
     "data": {
      "text/plain": [
       "'lag_1_OPS'"
      ]
     },
     "execution_count": 72,
     "metadata": {},
     "output_type": "execute_result"
    }
   ],
   "source": [
    "train_X.columns[50]"
   ]
  },
  {
   "cell_type": "code",
   "execution_count": 68,
   "metadata": {
    "colab": {
     "base_uri": "https://localhost:8080/",
     "height": 1198
    },
    "colab_type": "code",
    "executionInfo": {
     "elapsed": 1657,
     "status": "ok",
     "timestamp": 1553500864232,
     "user": {
      "displayName": "Jaesung Myung",
      "photoUrl": "https://lh3.googleusercontent.com/-aXz1k7Vcycg/AAAAAAAAAAI/AAAAAAAAAAw/v-qYKMnhFD0/s64/photo.jpg",
      "userId": "03815427492491131273"
     },
     "user_tz": -540
    },
    "id": "xO1f4OSxg9GM",
    "outputId": "240b7d5d-c782-4bb6-a4cb-a62e05de0169"
   },
   "outputs": [
    {
     "name": "stdout",
     "output_type": "stream",
     "text": [
      "Feature ranking:\n",
      "1. feature 44 (0.065749)\n",
      "2. feature 50 (0.058621)\n",
      "3. feature 18 (0.057315)\n",
      "4. feature 27 (0.057082)\n",
      "5. feature 45 (0.048583)\n",
      "6. feature 47 (0.042163)\n",
      "7. feature 49 (0.042070)\n",
      "8. feature 48 (0.039852)\n",
      "9. feature 26 (0.038378)\n",
      "10. feature 41 (0.037635)\n",
      "11. feature 37 (0.034466)\n",
      "12. feature 0 (0.032407)\n",
      "13. feature 36 (0.030365)\n",
      "14. feature 25 (0.030084)\n",
      "15. feature 32 (0.029800)\n",
      "16. feature 19 (0.027888)\n",
      "17. feature 42 (0.024681)\n",
      "18. feature 22 (0.024185)\n",
      "19. feature 1 (0.023961)\n",
      "20. feature 20 (0.022775)\n",
      "21. feature 46 (0.022682)\n",
      "22. feature 30 (0.021148)\n",
      "23. feature 21 (0.020306)\n",
      "24. feature 23 (0.016756)\n",
      "25. feature 43 (0.014283)\n",
      "26. feature 31 (0.013385)\n",
      "27. feature 34 (0.011434)\n",
      "28. feature 33 (0.011156)\n",
      "29. feature 28 (0.009824)\n",
      "30. feature 29 (0.007814)\n",
      "31. feature 40 (0.007785)\n",
      "32. feature 4 (0.005795)\n",
      "33. feature 7 (0.005716)\n",
      "34. feature 11 (0.005610)\n",
      "35. feature 39 (0.005455)\n",
      "36. feature 35 (0.005008)\n",
      "37. feature 14 (0.004892)\n",
      "38. feature 24 (0.004719)\n",
      "39. feature 13 (0.004127)\n",
      "40. feature 16 (0.004025)\n",
      "41. feature 17 (0.003855)\n",
      "42. feature 8 (0.003682)\n",
      "43. feature 38 (0.003576)\n",
      "44. feature 12 (0.003515)\n",
      "45. feature 10 (0.002982)\n",
      "46. feature 9 (0.002913)\n",
      "47. feature 15 (0.002654)\n",
      "48. feature 5 (0.002252)\n",
      "49. feature 6 (0.002228)\n",
      "50. feature 2 (0.001915)\n",
      "51. feature 3 (0.000445)\n"
     ]
    },
    {
     "data": {
      "image/png": "[encoded data removed]",
      "text/plain": [
       "<Figure size 432x288 with 1 Axes>"
      ]
     },
     "metadata": {},
     "output_type": "display_data"
    }
   ],
   "source": [
    "importances = RF_final.feature_importances_\n",
    "std = np.std([tree.feature_importances_ for tree in RF_final.estimators_],\n",
    "             axis=0)\n",
    "indices = np.argsort(importances)[::-1]\n",
    "\n",
    "# Print the feature ranking\n",
    "print(\"Feature ranking:\")\n",
    "\n",
    "for f in range(train_X.shape[1]):\n",
    "    print(\"%d. feature %d (%f)\" % (f + 1, indices[f], importances[indices[f]]))\n",
    "\n",
    "# Plot the feature importances of the forest\n",
    "    plt.figure()\n",
    "plt.title(\"Feature importances\")\n",
    "plt.bar(range(train_X.shape[1]), importances[indices],\n",
    "       color=\"r\", yerr=std[indices], align=\"center\")\n",
    "plt.xticks(range(train_X.shape[1]), indices)\n",
    "plt.xlim([-1, train_X.shape[1]])\n",
    "plt.show()"
   ]
  },
  {
   "cell_type": "code",
   "execution_count": 73,
   "metadata": {
    "colab": {
     "base_uri": "https://localhost:8080/",
     "height": 1599
    },
    "colab_type": "code",
    "executionInfo": {
     "elapsed": 979,
     "status": "ok",
     "timestamp": 1553501340407,
     "user": {
      "displayName": "Jaesung Myung",
      "photoUrl": "https://lh3.googleusercontent.com/-aXz1k7Vcycg/AAAAAAAAAAI/AAAAAAAAAAw/v-qYKMnhFD0/s64/photo.jpg",
      "userId": "03815427492491131273"
     },
     "user_tz": -540
    },
    "id": "tQTClgpQm4GT",
    "outputId": "fa492611-1964-42da-f229-8c96ec50176a"
   },
   "outputs": [
    {
     "data": {
      "text/html": [
       "<div>\n",
       "<style scoped>\n",
       "    .dataframe tbody tr th:only-of-type {\n",
       "        vertical-align: middle;\n",
       "    }\n",
       "\n",
       "    .dataframe tbody tr th {\n",
       "        vertical-align: top;\n",
       "    }\n",
       "\n",
       "    .dataframe thead th {\n",
       "        text-align: right;\n",
       "    }\n",
       "</style>\n",
       "<table border=\"1\" class=\"dataframe\">\n",
       "  <thead>\n",
       "    <tr style=\"text-align: right;\">\n",
       "      <th></th>\n",
       "      <th>Variable</th>\n",
       "      <th>Importance</th>\n",
       "    </tr>\n",
       "  </thead>\n",
       "  <tbody>\n",
       "    <tr>\n",
       "      <th>44</th>\n",
       "      <td>lag_1_WAR</td>\n",
       "      <td>0.065749</td>\n",
       "    </tr>\n",
       "    <tr>\n",
       "      <th>50</th>\n",
       "      <td>lag_1_OPS</td>\n",
       "      <td>0.058621</td>\n",
       "    </tr>\n",
       "    <tr>\n",
       "      <th>18</th>\n",
       "      <td>lag_1_salary</td>\n",
       "      <td>0.057315</td>\n",
       "    </tr>\n",
       "    <tr>\n",
       "      <th>27</th>\n",
       "      <td>lag_1_RBI</td>\n",
       "      <td>0.057082</td>\n",
       "    </tr>\n",
       "    <tr>\n",
       "      <th>45</th>\n",
       "      <td>lag_1_WOBA</td>\n",
       "      <td>0.048583</td>\n",
       "    </tr>\n",
       "    <tr>\n",
       "      <th>47</th>\n",
       "      <td>lag_1_WRC+</td>\n",
       "      <td>0.042163</td>\n",
       "    </tr>\n",
       "    <tr>\n",
       "      <th>49</th>\n",
       "      <td>lag_1_OBP</td>\n",
       "      <td>0.042070</td>\n",
       "    </tr>\n",
       "    <tr>\n",
       "      <th>48</th>\n",
       "      <td>lag_1_SLG</td>\n",
       "      <td>0.039852</td>\n",
       "    </tr>\n",
       "    <tr>\n",
       "      <th>26</th>\n",
       "      <td>lag_1_TB</td>\n",
       "      <td>0.038378</td>\n",
       "    </tr>\n",
       "    <tr>\n",
       "      <th>41</th>\n",
       "      <td>lag_1_루타</td>\n",
       "      <td>0.037635</td>\n",
       "    </tr>\n",
       "    <tr>\n",
       "      <th>37</th>\n",
       "      <td>lag_1_weight</td>\n",
       "      <td>0.034466</td>\n",
       "    </tr>\n",
       "    <tr>\n",
       "      <th>0</th>\n",
       "      <td>year</td>\n",
       "      <td>0.032407</td>\n",
       "    </tr>\n",
       "    <tr>\n",
       "      <th>36</th>\n",
       "      <td>lag_1_height</td>\n",
       "      <td>0.030365</td>\n",
       "    </tr>\n",
       "    <tr>\n",
       "      <th>25</th>\n",
       "      <td>lag_1_HR</td>\n",
       "      <td>0.030084</td>\n",
       "    </tr>\n",
       "    <tr>\n",
       "      <th>32</th>\n",
       "      <td>lag_1_SO</td>\n",
       "      <td>0.029800</td>\n",
       "    </tr>\n",
       "    <tr>\n",
       "      <th>19</th>\n",
       "      <td>lag_1_G</td>\n",
       "      <td>0.027888</td>\n",
       "    </tr>\n",
       "    <tr>\n",
       "      <th>42</th>\n",
       "      <td>lag_1_타석</td>\n",
       "      <td>0.024681</td>\n",
       "    </tr>\n",
       "    <tr>\n",
       "      <th>22</th>\n",
       "      <td>lag_1_H</td>\n",
       "      <td>0.024185</td>\n",
       "    </tr>\n",
       "    <tr>\n",
       "      <th>1</th>\n",
       "      <td>age</td>\n",
       "      <td>0.023961</td>\n",
       "    </tr>\n",
       "    <tr>\n",
       "      <th>20</th>\n",
       "      <td>lag_1_AB</td>\n",
       "      <td>0.022775</td>\n",
       "    </tr>\n",
       "    <tr>\n",
       "      <th>46</th>\n",
       "      <td>lag_1_avg</td>\n",
       "      <td>0.022682</td>\n",
       "    </tr>\n",
       "    <tr>\n",
       "      <th>30</th>\n",
       "      <td>lag_1_BB</td>\n",
       "      <td>0.021148</td>\n",
       "    </tr>\n",
       "    <tr>\n",
       "      <th>21</th>\n",
       "      <td>lag_1_R</td>\n",
       "      <td>0.020306</td>\n",
       "    </tr>\n",
       "    <tr>\n",
       "      <th>23</th>\n",
       "      <td>lag_1_2B</td>\n",
       "      <td>0.016756</td>\n",
       "    </tr>\n",
       "    <tr>\n",
       "      <th>43</th>\n",
       "      <td>lag_1_희타</td>\n",
       "      <td>0.014283</td>\n",
       "    </tr>\n",
       "    <tr>\n",
       "      <th>31</th>\n",
       "      <td>lag_1_HBP</td>\n",
       "      <td>0.013385</td>\n",
       "    </tr>\n",
       "    <tr>\n",
       "      <th>34</th>\n",
       "      <td>lag_1_E</td>\n",
       "      <td>0.011434</td>\n",
       "    </tr>\n",
       "    <tr>\n",
       "      <th>33</th>\n",
       "      <td>lag_1_GDP</td>\n",
       "      <td>0.011156</td>\n",
       "    </tr>\n",
       "    <tr>\n",
       "      <th>28</th>\n",
       "      <td>lag_1_SB</td>\n",
       "      <td>0.009824</td>\n",
       "    </tr>\n",
       "    <tr>\n",
       "      <th>29</th>\n",
       "      <td>lag_1_CS</td>\n",
       "      <td>0.007814</td>\n",
       "    </tr>\n",
       "    <tr>\n",
       "      <th>40</th>\n",
       "      <td>lag_1_도실</td>\n",
       "      <td>0.007785</td>\n",
       "    </tr>\n",
       "    <tr>\n",
       "      <th>4</th>\n",
       "      <td>team_LG</td>\n",
       "      <td>0.005795</td>\n",
       "    </tr>\n",
       "    <tr>\n",
       "      <th>7</th>\n",
       "      <td>team_두산</td>\n",
       "      <td>0.005716</td>\n",
       "    </tr>\n",
       "    <tr>\n",
       "      <th>11</th>\n",
       "      <td>team_한화</td>\n",
       "      <td>0.005610</td>\n",
       "    </tr>\n",
       "    <tr>\n",
       "      <th>39</th>\n",
       "      <td>lag_1_SF</td>\n",
       "      <td>0.005455</td>\n",
       "    </tr>\n",
       "    <tr>\n",
       "      <th>35</th>\n",
       "      <td>lag_1_col_school</td>\n",
       "      <td>0.005008</td>\n",
       "    </tr>\n",
       "    <tr>\n",
       "      <th>14</th>\n",
       "      <td>posi_포수</td>\n",
       "      <td>0.004892</td>\n",
       "    </tr>\n",
       "    <tr>\n",
       "      <th>24</th>\n",
       "      <td>lag_1_3B</td>\n",
       "      <td>0.004719</td>\n",
       "    </tr>\n",
       "    <tr>\n",
       "      <th>13</th>\n",
       "      <td>posi_외야수</td>\n",
       "      <td>0.004127</td>\n",
       "    </tr>\n",
       "    <tr>\n",
       "      <th>16</th>\n",
       "      <td>ta_우타</td>\n",
       "      <td>0.004025</td>\n",
       "    </tr>\n",
       "    <tr>\n",
       "      <th>17</th>\n",
       "      <td>ta_좌타</td>\n",
       "      <td>0.003855</td>\n",
       "    </tr>\n",
       "    <tr>\n",
       "      <th>8</th>\n",
       "      <td>team_롯데</td>\n",
       "      <td>0.003682</td>\n",
       "    </tr>\n",
       "    <tr>\n",
       "      <th>38</th>\n",
       "      <td>lag_1_고4</td>\n",
       "      <td>0.003576</td>\n",
       "    </tr>\n",
       "    <tr>\n",
       "      <th>12</th>\n",
       "      <td>posi_내야수</td>\n",
       "      <td>0.003515</td>\n",
       "    </tr>\n",
       "    <tr>\n",
       "      <th>10</th>\n",
       "      <td>team_키움</td>\n",
       "      <td>0.002982</td>\n",
       "    </tr>\n",
       "    <tr>\n",
       "      <th>9</th>\n",
       "      <td>team_삼성</td>\n",
       "      <td>0.002913</td>\n",
       "    </tr>\n",
       "    <tr>\n",
       "      <th>15</th>\n",
       "      <td>ta_양타</td>\n",
       "      <td>0.002654</td>\n",
       "    </tr>\n",
       "    <tr>\n",
       "      <th>5</th>\n",
       "      <td>team_NC</td>\n",
       "      <td>0.002252</td>\n",
       "    </tr>\n",
       "    <tr>\n",
       "      <th>6</th>\n",
       "      <td>team_SK</td>\n",
       "      <td>0.002228</td>\n",
       "    </tr>\n",
       "    <tr>\n",
       "      <th>2</th>\n",
       "      <td>team_KIA</td>\n",
       "      <td>0.001915</td>\n",
       "    </tr>\n",
       "    <tr>\n",
       "      <th>3</th>\n",
       "      <td>team_KT</td>\n",
       "      <td>0.000445</td>\n",
       "    </tr>\n",
       "  </tbody>\n",
       "</table>\n",
       "</div>"
      ],
      "text/plain": [
       "            Variable  Importance\n",
       "44         lag_1_WAR    0.065749\n",
       "50         lag_1_OPS    0.058621\n",
       "18      lag_1_salary    0.057315\n",
       "27         lag_1_RBI    0.057082\n",
       "45        lag_1_WOBA    0.048583\n",
       "47        lag_1_WRC+    0.042163\n",
       "49         lag_1_OBP    0.042070\n",
       "48         lag_1_SLG    0.039852\n",
       "26          lag_1_TB    0.038378\n",
       "41          lag_1_루타    0.037635\n",
       "37      lag_1_weight    0.034466\n",
       "0               year    0.032407\n",
       "36      lag_1_height    0.030365\n",
       "25          lag_1_HR    0.030084\n",
       "32          lag_1_SO    0.029800\n",
       "19           lag_1_G    0.027888\n",
       "42          lag_1_타석    0.024681\n",
       "22           lag_1_H    0.024185\n",
       "1                age    0.023961\n",
       "20          lag_1_AB    0.022775\n",
       "46         lag_1_avg    0.022682\n",
       "30          lag_1_BB    0.021148\n",
       "21           lag_1_R    0.020306\n",
       "23          lag_1_2B    0.016756\n",
       "43          lag_1_희타    0.014283\n",
       "31         lag_1_HBP    0.013385\n",
       "34           lag_1_E    0.011434\n",
       "33         lag_1_GDP    0.011156\n",
       "28          lag_1_SB    0.009824\n",
       "29          lag_1_CS    0.007814\n",
       "40          lag_1_도실    0.007785\n",
       "4            team_LG    0.005795\n",
       "7            team_두산    0.005716\n",
       "11           team_한화    0.005610\n",
       "39          lag_1_SF    0.005455\n",
       "35  lag_1_col_school    0.005008\n",
       "14           posi_포수    0.004892\n",
       "24          lag_1_3B    0.004719\n",
       "13          posi_외야수    0.004127\n",
       "16             ta_우타    0.004025\n",
       "17             ta_좌타    0.003855\n",
       "8            team_롯데    0.003682\n",
       "38          lag_1_고4    0.003576\n",
       "12          posi_내야수    0.003515\n",
       "10           team_키움    0.002982\n",
       "9            team_삼성    0.002913\n",
       "15             ta_양타    0.002654\n",
       "5            team_NC    0.002252\n",
       "6            team_SK    0.002228\n",
       "2           team_KIA    0.001915\n",
       "3            team_KT    0.000445"
      ]
     },
     "execution_count": 73,
     "metadata": {},
     "output_type": "execute_result"
    }
   ],
   "source": [
    "pd.DataFrame({'Variable':train_X.columns,\n",
    "              'Importance':RF_final.feature_importances_}).sort_values('Importance', ascending=False)"
   ]
  },
  {
   "cell_type": "code",
   "execution_count": 0,
   "metadata": {
    "colab": {},
    "colab_type": "code",
    "id": "A-YUCrKX_Fnk"
   },
   "outputs": [],
   "source": []
  },
  {
   "cell_type": "code",
   "execution_count": 33,
   "metadata": {
    "colab": {
     "base_uri": "https://localhost:8080/",
     "height": 251
    },
    "colab_type": "code",
    "executionInfo": {
     "elapsed": 953,
     "status": "ok",
     "timestamp": 1553503152096,
     "user": {
      "displayName": "Jaesung Myung",
      "photoUrl": "https://lh3.googleusercontent.com/-aXz1k7Vcycg/AAAAAAAAAAI/AAAAAAAAAAw/v-qYKMnhFD0/s64/photo.jpg",
      "userId": "03815427492491131273"
     },
     "user_tz": -540
    },
    "id": "m-MOKhj1AI6y",
    "outputId": "d6f3485f-6fa3-456f-a99c-d18eaab25c9f"
   },
   "outputs": [
    {
     "data": {
      "text/plain": [
       "array([[2.011e+03, 1.900e+01, 0.000e+00, ..., 0.000e+00, 0.000e+00,\n",
       "        1.000e+00],\n",
       "       [2.014e+03, 2.200e+01, 2.400e+03, ..., 0.000e+00, 0.000e+00,\n",
       "        1.000e+00],\n",
       "       [2.015e+03, 2.300e+01, 6.500e+03, ..., 0.000e+00, 0.000e+00,\n",
       "        1.000e+00],\n",
       "       ...,\n",
       "       [2.015e+03, 2.600e+01, 2.800e+03, ..., 1.000e+00, 0.000e+00,\n",
       "        0.000e+00],\n",
       "       [2.016e+03, 2.700e+01, 2.800e+03, ..., 1.000e+00, 0.000e+00,\n",
       "        0.000e+00],\n",
       "       [2.017e+03, 2.800e+01, 2.800e+03, ..., 1.000e+00, 0.000e+00,\n",
       "        0.000e+00]])"
      ]
     },
     "execution_count": 33,
     "metadata": {
      "tags": []
     },
     "output_type": "execute_result"
    }
   ],
   "source": [
    "train_X.fillna(train_X['WRC+'].median()).values"
   ]
  },
  {
   "cell_type": "code",
   "execution_count": 28,
   "metadata": {
    "colab": {
     "base_uri": "https://localhost:8080/",
     "height": 53
    },
    "colab_type": "code",
    "executionInfo": {
     "elapsed": 4120,
     "status": "ok",
     "timestamp": 1553501604272,
     "user": {
      "displayName": "Jaesung Myung",
      "photoUrl": "https://lh3.googleusercontent.com/-aXz1k7Vcycg/AAAAAAAAAAI/AAAAAAAAAAw/v-qYKMnhFD0/s64/photo.jpg",
      "userId": "03815427492491131273"
     },
     "user_tz": -540
    },
    "id": "8krkxqEWozU5",
    "outputId": "06d05156-d308-4f65-b537-9bcd18acff6e"
   },
   "outputs": [
    {
     "name": "stdout",
     "output_type": "stream",
     "text": [
      "Random forest error:  0.00018761665838616076 \n",
      "XGBoost error:  0.013614801571554888\n"
     ]
    }
   ],
   "source": [
    "from xgboost.sklearn import XGBRegressor\n",
    "\n",
    "model = XGBRegressor(silent=False,\n",
    "                      scale_pos_weight=1,\n",
    "                      learning_rate=0.01,  \n",
    "                      colsample_bytree = 0.4,\n",
    "                      subsample = 0.8,\n",
    "                      objective='reg:linear', \n",
    "                      n_estimators=1500, \n",
    "                      reg_alpha = 0.3,\n",
    "                      max_depth=4, \n",
    "                      gamma=10)\n",
    "model.fit(train_X.fillna(train_X['WRC+'].median()), train_Y)\n",
    "xgb_pred = model.predict(test_X.fillna(train_X['WRC+'].median()))\n",
    "xgb_error = mean_squared_error(real_OPS, xgb_pred, sample_weight = real_AB)\n",
    "print('Random forest error: ', rf_error, '\\nXGBoost error: ', xgb_error)"
   ]
  },
  {
   "cell_type": "code",
   "execution_count": 29,
   "metadata": {
    "colab": {
     "base_uri": "https://localhost:8080/",
     "height": 1599
    },
    "colab_type": "code",
    "executionInfo": {
     "elapsed": 804,
     "status": "ok",
     "timestamp": 1553501631831,
     "user": {
      "displayName": "Jaesung Myung",
      "photoUrl": "https://lh3.googleusercontent.com/-aXz1k7Vcycg/AAAAAAAAAAI/AAAAAAAAAAw/v-qYKMnhFD0/s64/photo.jpg",
      "userId": "03815427492491131273"
     },
     "user_tz": -540
    },
    "id": "0PWpD_vm6NUd",
    "outputId": "4d67cab5-56d7-4a0b-a41d-d2fbcd0f9a55"
   },
   "outputs": [
    {
     "data": {
      "text/html": [
       "<div>\n",
       "<style scoped>\n",
       "    .dataframe tbody tr th:only-of-type {\n",
       "        vertical-align: middle;\n",
       "    }\n",
       "\n",
       "    .dataframe tbody tr th {\n",
       "        vertical-align: top;\n",
       "    }\n",
       "\n",
       "    .dataframe thead th {\n",
       "        text-align: right;\n",
       "    }\n",
       "</style>\n",
       "<table border=\"1\" class=\"dataframe\">\n",
       "  <thead>\n",
       "    <tr style=\"text-align: right;\">\n",
       "      <th></th>\n",
       "      <th>Importance</th>\n",
       "      <th>Variable</th>\n",
       "    </tr>\n",
       "  </thead>\n",
       "  <tbody>\n",
       "    <tr>\n",
       "      <th>32</th>\n",
       "      <td>0.393939</td>\n",
       "      <td>SLG</td>\n",
       "    </tr>\n",
       "    <tr>\n",
       "      <th>29</th>\n",
       "      <td>0.219697</td>\n",
       "      <td>WOBA</td>\n",
       "    </tr>\n",
       "    <tr>\n",
       "      <th>33</th>\n",
       "      <td>0.219697</td>\n",
       "      <td>OBP</td>\n",
       "    </tr>\n",
       "    <tr>\n",
       "      <th>31</th>\n",
       "      <td>0.090909</td>\n",
       "      <td>WRC+</td>\n",
       "    </tr>\n",
       "    <tr>\n",
       "      <th>28</th>\n",
       "      <td>0.037879</td>\n",
       "      <td>WAR</td>\n",
       "    </tr>\n",
       "    <tr>\n",
       "      <th>30</th>\n",
       "      <td>0.015152</td>\n",
       "      <td>avg</td>\n",
       "    </tr>\n",
       "    <tr>\n",
       "      <th>6</th>\n",
       "      <td>0.007576</td>\n",
       "      <td>H</td>\n",
       "    </tr>\n",
       "    <tr>\n",
       "      <th>10</th>\n",
       "      <td>0.007576</td>\n",
       "      <td>TB</td>\n",
       "    </tr>\n",
       "    <tr>\n",
       "      <th>11</th>\n",
       "      <td>0.007576</td>\n",
       "      <td>RBI</td>\n",
       "    </tr>\n",
       "    <tr>\n",
       "      <th>38</th>\n",
       "      <td>0.000000</td>\n",
       "      <td>team_SK</td>\n",
       "    </tr>\n",
       "    <tr>\n",
       "      <th>34</th>\n",
       "      <td>0.000000</td>\n",
       "      <td>team_KIA</td>\n",
       "    </tr>\n",
       "    <tr>\n",
       "      <th>35</th>\n",
       "      <td>0.000000</td>\n",
       "      <td>team_KT</td>\n",
       "    </tr>\n",
       "    <tr>\n",
       "      <th>36</th>\n",
       "      <td>0.000000</td>\n",
       "      <td>team_LG</td>\n",
       "    </tr>\n",
       "    <tr>\n",
       "      <th>37</th>\n",
       "      <td>0.000000</td>\n",
       "      <td>team_NC</td>\n",
       "    </tr>\n",
       "    <tr>\n",
       "      <th>0</th>\n",
       "      <td>0.000000</td>\n",
       "      <td>year</td>\n",
       "    </tr>\n",
       "    <tr>\n",
       "      <th>39</th>\n",
       "      <td>0.000000</td>\n",
       "      <td>team_두산</td>\n",
       "    </tr>\n",
       "    <tr>\n",
       "      <th>27</th>\n",
       "      <td>0.000000</td>\n",
       "      <td>희타</td>\n",
       "    </tr>\n",
       "    <tr>\n",
       "      <th>41</th>\n",
       "      <td>0.000000</td>\n",
       "      <td>team_삼성</td>\n",
       "    </tr>\n",
       "    <tr>\n",
       "      <th>42</th>\n",
       "      <td>0.000000</td>\n",
       "      <td>team_키움</td>\n",
       "    </tr>\n",
       "    <tr>\n",
       "      <th>43</th>\n",
       "      <td>0.000000</td>\n",
       "      <td>team_한화</td>\n",
       "    </tr>\n",
       "    <tr>\n",
       "      <th>44</th>\n",
       "      <td>0.000000</td>\n",
       "      <td>posi_내야수</td>\n",
       "    </tr>\n",
       "    <tr>\n",
       "      <th>45</th>\n",
       "      <td>0.000000</td>\n",
       "      <td>posi_외야수</td>\n",
       "    </tr>\n",
       "    <tr>\n",
       "      <th>46</th>\n",
       "      <td>0.000000</td>\n",
       "      <td>posi_포수</td>\n",
       "    </tr>\n",
       "    <tr>\n",
       "      <th>47</th>\n",
       "      <td>0.000000</td>\n",
       "      <td>ta_양타</td>\n",
       "    </tr>\n",
       "    <tr>\n",
       "      <th>48</th>\n",
       "      <td>0.000000</td>\n",
       "      <td>ta_우타</td>\n",
       "    </tr>\n",
       "    <tr>\n",
       "      <th>40</th>\n",
       "      <td>0.000000</td>\n",
       "      <td>team_롯데</td>\n",
       "    </tr>\n",
       "    <tr>\n",
       "      <th>25</th>\n",
       "      <td>0.000000</td>\n",
       "      <td>루타</td>\n",
       "    </tr>\n",
       "    <tr>\n",
       "      <th>26</th>\n",
       "      <td>0.000000</td>\n",
       "      <td>타석</td>\n",
       "    </tr>\n",
       "    <tr>\n",
       "      <th>14</th>\n",
       "      <td>0.000000</td>\n",
       "      <td>BB</td>\n",
       "    </tr>\n",
       "    <tr>\n",
       "      <th>2</th>\n",
       "      <td>0.000000</td>\n",
       "      <td>salary</td>\n",
       "    </tr>\n",
       "    <tr>\n",
       "      <th>3</th>\n",
       "      <td>0.000000</td>\n",
       "      <td>G</td>\n",
       "    </tr>\n",
       "    <tr>\n",
       "      <th>4</th>\n",
       "      <td>0.000000</td>\n",
       "      <td>AB</td>\n",
       "    </tr>\n",
       "    <tr>\n",
       "      <th>5</th>\n",
       "      <td>0.000000</td>\n",
       "      <td>R</td>\n",
       "    </tr>\n",
       "    <tr>\n",
       "      <th>7</th>\n",
       "      <td>0.000000</td>\n",
       "      <td>2B</td>\n",
       "    </tr>\n",
       "    <tr>\n",
       "      <th>8</th>\n",
       "      <td>0.000000</td>\n",
       "      <td>3B</td>\n",
       "    </tr>\n",
       "    <tr>\n",
       "      <th>9</th>\n",
       "      <td>0.000000</td>\n",
       "      <td>HR</td>\n",
       "    </tr>\n",
       "    <tr>\n",
       "      <th>12</th>\n",
       "      <td>0.000000</td>\n",
       "      <td>SB</td>\n",
       "    </tr>\n",
       "    <tr>\n",
       "      <th>13</th>\n",
       "      <td>0.000000</td>\n",
       "      <td>CS</td>\n",
       "    </tr>\n",
       "    <tr>\n",
       "      <th>15</th>\n",
       "      <td>0.000000</td>\n",
       "      <td>HBP</td>\n",
       "    </tr>\n",
       "    <tr>\n",
       "      <th>1</th>\n",
       "      <td>0.000000</td>\n",
       "      <td>age</td>\n",
       "    </tr>\n",
       "    <tr>\n",
       "      <th>16</th>\n",
       "      <td>0.000000</td>\n",
       "      <td>SO</td>\n",
       "    </tr>\n",
       "    <tr>\n",
       "      <th>17</th>\n",
       "      <td>0.000000</td>\n",
       "      <td>GDP</td>\n",
       "    </tr>\n",
       "    <tr>\n",
       "      <th>18</th>\n",
       "      <td>0.000000</td>\n",
       "      <td>E</td>\n",
       "    </tr>\n",
       "    <tr>\n",
       "      <th>19</th>\n",
       "      <td>0.000000</td>\n",
       "      <td>col_school</td>\n",
       "    </tr>\n",
       "    <tr>\n",
       "      <th>20</th>\n",
       "      <td>0.000000</td>\n",
       "      <td>height</td>\n",
       "    </tr>\n",
       "    <tr>\n",
       "      <th>21</th>\n",
       "      <td>0.000000</td>\n",
       "      <td>weight</td>\n",
       "    </tr>\n",
       "    <tr>\n",
       "      <th>22</th>\n",
       "      <td>0.000000</td>\n",
       "      <td>고4</td>\n",
       "    </tr>\n",
       "    <tr>\n",
       "      <th>23</th>\n",
       "      <td>0.000000</td>\n",
       "      <td>SF</td>\n",
       "    </tr>\n",
       "    <tr>\n",
       "      <th>24</th>\n",
       "      <td>0.000000</td>\n",
       "      <td>도실</td>\n",
       "    </tr>\n",
       "    <tr>\n",
       "      <th>49</th>\n",
       "      <td>0.000000</td>\n",
       "      <td>ta_좌타</td>\n",
       "    </tr>\n",
       "  </tbody>\n",
       "</table>\n",
       "</div>"
      ],
      "text/plain": [
       "    Importance    Variable\n",
       "32    0.393939         SLG\n",
       "29    0.219697        WOBA\n",
       "33    0.219697         OBP\n",
       "31    0.090909        WRC+\n",
       "28    0.037879         WAR\n",
       "30    0.015152         avg\n",
       "6     0.007576           H\n",
       "10    0.007576          TB\n",
       "11    0.007576         RBI\n",
       "38    0.000000     team_SK\n",
       "34    0.000000    team_KIA\n",
       "35    0.000000     team_KT\n",
       "36    0.000000     team_LG\n",
       "37    0.000000     team_NC\n",
       "0     0.000000        year\n",
       "39    0.000000     team_두산\n",
       "27    0.000000          희타\n",
       "41    0.000000     team_삼성\n",
       "42    0.000000     team_키움\n",
       "43    0.000000     team_한화\n",
       "44    0.000000    posi_내야수\n",
       "45    0.000000    posi_외야수\n",
       "46    0.000000     posi_포수\n",
       "47    0.000000       ta_양타\n",
       "48    0.000000       ta_우타\n",
       "40    0.000000     team_롯데\n",
       "25    0.000000          루타\n",
       "26    0.000000          타석\n",
       "14    0.000000          BB\n",
       "2     0.000000      salary\n",
       "3     0.000000           G\n",
       "4     0.000000          AB\n",
       "5     0.000000           R\n",
       "7     0.000000          2B\n",
       "8     0.000000          3B\n",
       "9     0.000000          HR\n",
       "12    0.000000          SB\n",
       "13    0.000000          CS\n",
       "15    0.000000         HBP\n",
       "1     0.000000         age\n",
       "16    0.000000          SO\n",
       "17    0.000000         GDP\n",
       "18    0.000000           E\n",
       "19    0.000000  col_school\n",
       "20    0.000000      height\n",
       "21    0.000000      weight\n",
       "22    0.000000          고4\n",
       "23    0.000000          SF\n",
       "24    0.000000          도실\n",
       "49    0.000000       ta_좌타"
      ]
     },
     "execution_count": 29,
     "metadata": {
      "tags": []
     },
     "output_type": "execute_result"
    }
   ],
   "source": [
    "pd.DataFrame({'Variable':train_X.columns,\n",
    "              'Importance':model.feature_importances_}).sort_values('Importance', ascending=False)"
   ]
  },
  {
   "cell_type": "code",
   "execution_count": 0,
   "metadata": {
    "colab": {},
    "colab_type": "code",
    "id": "ktBuev9Q6bHH"
   },
   "outputs": [],
   "source": [
    "from sklearn import metrics   #Additional scklearn functions\n",
    "from sklearn.model_selection import cross_val_score, cross_validate   #Additional scklearn functions\n",
    "from sklearn.model_selection import GridSearchCV   #Perforing grid search\n",
    "def modelfit(alg, useTrainCV=True, cv_folds=5, early_stopping_rounds=50):\n",
    "    \n",
    "    if useTrainCV:\n",
    "        xgb_param = alg.get_xgb_params()\n",
    "        xgtrain = xgb.DMatrix(train_X.fillna(train_X['WRC+'].median()).values, label=train_Y.values)\n",
    "        cvresult = xgb.cv(xgb_param, xgtrain, num_boost_round=alg.get_params()['n_estimators'], nfold=cv_folds,\n",
    "            metrics='auc', early_stopping_rounds=early_stopping_rounds)\n",
    "        alg.set_params(n_estimators=cvresult.shape[0])\n",
    "    \n",
    "    #Fit the algorithm on the data\n",
    "    alg.fit(train_X, train_Y, eval_metric='auc')\n",
    "        \n",
    "    #Predict training set:\n",
    "    dtrain_predictions = alg.predict(test_X.fillna(train_X['WRC+'].median()))\n",
    "        \n",
    "    #Print model report:\n",
    "    print(\"\\nModel Report\")\n",
    "    print(\"WMSE : %.5g\" % metrics.mean_squared_error(test_Y.values, dtrain_predictions, sample_weight = real_AB))\n",
    "                    \n",
    "    feat_imp = pd.DataFrame({'Variable':train_X.columns,\n",
    "              'Importance':model.feature_importances_}).sort_values('Importance', ascending=False)\n",
    "    feat_imp.plot(kind='bar', title='Feature Importances')\n",
    "    plt.ylabel('Feature Importance Score')"
   ]
  },
  {
   "cell_type": "code",
   "execution_count": 54,
   "metadata": {
    "colab": {
     "base_uri": "https://localhost:8080/",
     "height": 336
    },
    "colab_type": "code",
    "executionInfo": {
     "elapsed": 8213,
     "status": "ok",
     "timestamp": 1553504179444,
     "user": {
      "displayName": "Jaesung Myung",
      "photoUrl": "https://lh3.googleusercontent.com/-aXz1k7Vcycg/AAAAAAAAAAI/AAAAAAAAAAw/v-qYKMnhFD0/s64/photo.jpg",
      "userId": "03815427492491131273"
     },
     "user_tz": -540
    },
    "id": "vvejVAko_YfG",
    "outputId": "27230f11-b04c-4537-e853-fdc8aebf2126"
   },
   "outputs": [
    {
     "name": "stdout",
     "output_type": "stream",
     "text": [
      "\n",
      "Model Report\n",
      "Accuracy : 7.526e-05\n"
     ]
    },
    {
     "data": {
      "image/png": "[encoded data removed]",
      "text/plain": [
       "<Figure size 432x288 with 1 Axes>"
      ]
     },
     "metadata": {
      "tags": []
     },
     "output_type": "display_data"
    }
   ],
   "source": [
    "xgb1 = XGBRegressor(\n",
    " learning_rate =0.1,\n",
    " n_estimators=1500,\n",
    " max_depth=5,\n",
    " min_child_weight=1,\n",
    " gamma=0,\n",
    " subsample=0.8,\n",
    " colsample_bytree=0.8,\n",
    " objective= 'reg:linear',\n",
    " nthread=4,\n",
    " scale_pos_weight=1,\n",
    " seed=27)\n",
    "modelfit(xgb1)"
   ]
  },
  {
   "cell_type": "markdown",
   "metadata": {
    "colab_type": "text",
    "id": "zGoY2JmnK39I"
   },
   "source": [
    "#### (1) Tuning max_depth & min_child_weight\n",
    "\n",
    "- best = **{'max_depth': 9, 'min_child_weight': 1}**"
   ]
  },
  {
   "cell_type": "code",
   "execution_count": 60,
   "metadata": {
    "colab": {
     "base_uri": "https://localhost:8080/",
     "height": 1711
    },
    "colab_type": "code",
    "executionInfo": {
     "elapsed": 124459,
     "status": "ok",
     "timestamp": 1553504842418,
     "user": {
      "displayName": "Jaesung Myung",
      "photoUrl": "https://lh3.googleusercontent.com/-aXz1k7Vcycg/AAAAAAAAAAI/AAAAAAAAAAw/v-qYKMnhFD0/s64/photo.jpg",
      "userId": "03815427492491131273"
     },
     "user_tz": -540
    },
    "id": "zkvLLw7RBo9S",
    "outputId": "123846dd-75ad-42e3-ac2b-42181ede97cd"
   },
   "outputs": [
    {
     "name": "stderr",
     "output_type": "stream",
     "text": [
      "/usr/local/lib/python3.6/dist-packages/sklearn/utils/deprecation.py:125: FutureWarning: You are accessing a training score ('mean_train_score'), which will not be available by default any more in 0.21. If you need training scores, please set return_train_score=True\n",
      "  warnings.warn(*warn_args, **warn_kwargs)\n",
      "/usr/local/lib/python3.6/dist-packages/sklearn/utils/deprecation.py:125: FutureWarning: You are accessing a training score ('split0_train_score'), which will not be available by default any more in 0.21. If you need training scores, please set return_train_score=True\n",
      "  warnings.warn(*warn_args, **warn_kwargs)\n",
      "/usr/local/lib/python3.6/dist-packages/sklearn/utils/deprecation.py:125: FutureWarning: You are accessing a training score ('split1_train_score'), which will not be available by default any more in 0.21. If you need training scores, please set return_train_score=True\n",
      "  warnings.warn(*warn_args, **warn_kwargs)\n",
      "/usr/local/lib/python3.6/dist-packages/sklearn/utils/deprecation.py:125: FutureWarning: You are accessing a training score ('split2_train_score'), which will not be available by default any more in 0.21. If you need training scores, please set return_train_score=True\n",
      "  warnings.warn(*warn_args, **warn_kwargs)\n",
      "/usr/local/lib/python3.6/dist-packages/sklearn/utils/deprecation.py:125: FutureWarning: You are accessing a training score ('split3_train_score'), which will not be available by default any more in 0.21. If you need training scores, please set return_train_score=True\n",
      "  warnings.warn(*warn_args, **warn_kwargs)\n",
      "/usr/local/lib/python3.6/dist-packages/sklearn/utils/deprecation.py:125: FutureWarning: You are accessing a training score ('split4_train_score'), which will not be available by default any more in 0.21. If you need training scores, please set return_train_score=True\n",
      "  warnings.warn(*warn_args, **warn_kwargs)\n",
      "/usr/local/lib/python3.6/dist-packages/sklearn/utils/deprecation.py:125: FutureWarning: You are accessing a training score ('std_train_score'), which will not be available by default any more in 0.21. If you need training scores, please set return_train_score=True\n",
      "  warnings.warn(*warn_args, **warn_kwargs)\n"
     ]
    },
    {
     "data": {
      "text/plain": [
       "({'mean_fit_time': array([ 7.03135419,  8.05303049,  8.50000882,  6.24012108,  7.32423892,\n",
       "          9.7029151 ,  5.72236414,  7.68177171, 10.23068194,  5.78577471,\n",
       "          8.0043993 ,  9.86657915]),\n",
       "  'mean_score_time': array([0.0318449 , 0.04125872, 0.04061227, 0.02997141, 0.03595824,\n",
       "         0.04056573, 0.0289012 , 0.03994827, 0.04859509, 0.02613721,\n",
       "         0.03783216, 0.03608923]),\n",
       "  'mean_test_score': array([-0.00347082, -0.00479752, -0.00364719, -0.00340505, -0.00486965,\n",
       "         -0.00364542, -0.00343723, -0.00497667, -0.00360082, -0.00340357,\n",
       "         -0.00495744, -0.00359179]),\n",
       "  'mean_train_score': array([-3.22401131e-07, -3.91172854e-07, -8.78754627e-07, -2.32151790e-07,\n",
       "         -2.46241653e-07, -2.76687348e-07, -2.06657938e-07, -2.25512924e-07,\n",
       "         -2.48097982e-07, -1.86612338e-07, -2.08597845e-07, -2.31618536e-07]),\n",
       "  'param_max_depth': masked_array(data=[3, 3, 3, 5, 5, 5, 7, 7, 7, 9, 9, 9],\n",
       "               mask=[False, False, False, False, False, False, False, False,\n",
       "                     False, False, False, False],\n",
       "         fill_value='?',\n",
       "              dtype=object),\n",
       "  'param_min_child_weight': masked_array(data=[1, 3, 5, 1, 3, 5, 1, 3, 5, 1, 3, 5],\n",
       "               mask=[False, False, False, False, False, False, False, False,\n",
       "                     False, False, False, False],\n",
       "         fill_value='?',\n",
       "              dtype=object),\n",
       "  'params': [{'max_depth': 3, 'min_child_weight': 1},\n",
       "   {'max_depth': 3, 'min_child_weight': 3},\n",
       "   {'max_depth': 3, 'min_child_weight': 5},\n",
       "   {'max_depth': 5, 'min_child_weight': 1},\n",
       "   {'max_depth': 5, 'min_child_weight': 3},\n",
       "   {'max_depth': 5, 'min_child_weight': 5},\n",
       "   {'max_depth': 7, 'min_child_weight': 1},\n",
       "   {'max_depth': 7, 'min_child_weight': 3},\n",
       "   {'max_depth': 7, 'min_child_weight': 5},\n",
       "   {'max_depth': 9, 'min_child_weight': 1},\n",
       "   {'max_depth': 9, 'min_child_weight': 3},\n",
       "   {'max_depth': 9, 'min_child_weight': 5}],\n",
       "  'rank_test_score': array([ 4,  9,  8,  2, 10,  7,  3, 12,  6,  1, 11,  5], dtype=int32),\n",
       "  'split0_test_score': array([-0.00077255, -0.00719957, -0.00156615, -0.00077181, -0.0074426 ,\n",
       "         -0.00181016, -0.00083842, -0.00810752, -0.00173809, -0.00068439,\n",
       "         -0.00804634, -0.00170702]),\n",
       "  'split0_train_score': array([-3.23534139e-07, -4.06525982e-07, -1.08595440e-06, -2.26685872e-07,\n",
       "         -2.47233134e-07, -2.95320443e-07, -2.01891646e-07, -2.27943291e-07,\n",
       "         -2.51697729e-07, -1.85176558e-07, -2.18937782e-07, -2.52201964e-07]),\n",
       "  'split1_test_score': array([-8.65681483e-05, -9.45264205e-05, -6.99919164e-05, -9.77709754e-05,\n",
       "         -1.11873239e-04, -1.62088033e-04, -1.24715077e-04, -1.25698792e-04,\n",
       "         -1.47649724e-04, -1.32713182e-04, -1.38054579e-04, -2.17346977e-04]),\n",
       "  'split1_train_score': array([-3.15303202e-07, -4.07371578e-07, -1.05956785e-06, -2.38440196e-07,\n",
       "         -2.51775204e-07, -2.86821989e-07, -2.10284013e-07, -2.28211479e-07,\n",
       "         -2.62008694e-07, -1.87230847e-07, -2.12530233e-07, -2.44639927e-07]),\n",
       "  'split2_test_score': array([-9.06760176e-05, -7.24054391e-04, -1.12332851e-04, -1.12686943e-04,\n",
       "         -9.37605868e-04, -9.89391282e-05, -1.42573827e-04, -8.44729051e-04,\n",
       "         -1.09428372e-04, -1.59912253e-04, -9.12096140e-04, -1.21089281e-04]),\n",
       "  'split2_train_score': array([-3.21057293e-07, -3.98458933e-07, -9.78969709e-07, -2.27541115e-07,\n",
       "         -2.46056355e-07, -2.79535059e-07, -2.13216879e-07, -2.35065608e-07,\n",
       "         -2.48859856e-07, -1.92205123e-07, -2.00403757e-07, -2.24832959e-07]),\n",
       "  'split3_test_score': array([-0.00026995, -0.00013998, -0.0002116 , -0.00026357, -0.0001716 ,\n",
       "         -0.00017004, -0.00025185, -0.0001822 , -0.00017736, -0.00025436,\n",
       "         -0.00018349, -0.00018674]),\n",
       "  'split3_train_score': array([-3.37571513e-07, -4.05377741e-07, -8.84728388e-07, -2.41039423e-07,\n",
       "         -2.52264697e-07, -2.74905590e-07, -2.09236934e-07, -2.24680391e-07,\n",
       "         -2.45287353e-07, -1.82929245e-07, -2.09367398e-07, -2.25145346e-07]),\n",
       "  'split4_test_score': array([-0.01613434, -0.01582947, -0.01627587, -0.01577941, -0.01568458,\n",
       "         -0.01598588, -0.01582859, -0.0156232 , -0.01583158, -0.01578645,\n",
       "         -0.01550721, -0.01572676]),\n",
       "  'split4_train_score': array([-3.14539505e-07, -3.38130035e-07, -3.84552788e-07, -2.27052343e-07,\n",
       "         -2.33878876e-07, -2.46853659e-07, -1.98660221e-07, -2.11663849e-07,\n",
       "         -2.32636276e-07, -1.85519918e-07, -2.01750056e-07, -2.11272484e-07]),\n",
       "  'std_fit_time': array([1.78545506, 1.01683487, 0.53760846, 0.58440371, 0.33754953,\n",
       "         0.78892733, 0.7146826 , 0.96857974, 1.15740249, 0.25184124,\n",
       "         0.85868485, 2.52213807]),\n",
       "  'std_score_time': array([0.00418126, 0.00072666, 0.00582224, 0.00324744, 0.00447396,\n",
       "         0.00511056, 0.00186342, 0.00626306, 0.00584414, 0.00436516,\n",
       "         0.01128056, 0.01833914]),\n",
       "  'std_test_score': array([0.00633671, 0.00612989, 0.00633891, 0.00619202, 0.00606221,\n",
       "         0.00620394, 0.00620119, 0.00611134, 0.00614647, 0.00619463,\n",
       "         0.00605344, 0.00609651]),\n",
       "  'std_train_score': array([8.31162878e-09, 2.67077653e-08, 2.56881052e-07, 6.25576545e-09,\n",
       "         6.64458968e-09, 1.64391987e-08, 5.46809587e-09, 7.70626560e-09,\n",
       "         9.52901379e-09, 3.11389850e-09, 6.88484506e-09, 1.47996096e-08])},\n",
       " {'max_depth': 9, 'min_child_weight': 1},\n",
       " -0.0034035665884966475)"
      ]
     },
     "execution_count": 60,
     "metadata": {
      "tags": []
     },
     "output_type": "execute_result"
    }
   ],
   "source": [
    "param_test1 = {\n",
    " 'max_depth':range(3,10,2),\n",
    " 'min_child_weight':range(1,6,2)\n",
    "}\n",
    "gsearch1 = GridSearchCV(\n",
    "    estimator = XGBRegressor(\n",
    " learning_rate =0.1,\n",
    " n_estimators=1500,\n",
    " max_depth=5,\n",
    " min_child_weight=1,\n",
    " gamma=0,\n",
    " subsample=0.8,\n",
    " colsample_bytree=0.8,\n",
    " objective= 'reg:linear',\n",
    " nthread=4,\n",
    " scale_pos_weight=1,\n",
    " seed=27), \n",
    " param_grid = param_test1, scoring='neg_mean_squared_error',n_jobs=4,iid=False, cv=5)\n",
    "gsearch1.fit(train_X, train_Y)\n",
    "gsearch1.cv_results_, gsearch1.best_params_, gsearch1.best_score_"
   ]
  },
  {
   "cell_type": "code",
   "execution_count": 57,
   "metadata": {
    "colab": {
     "base_uri": "https://localhost:8080/",
     "height": 647
    },
    "colab_type": "code",
    "executionInfo": {
     "elapsed": 808,
     "status": "ok",
     "timestamp": 1553504489632,
     "user": {
      "displayName": "Jaesung Myung",
      "photoUrl": "https://lh3.googleusercontent.com/-aXz1k7Vcycg/AAAAAAAAAAI/AAAAAAAAAAw/v-qYKMnhFD0/s64/photo.jpg",
      "userId": "03815427492491131273"
     },
     "user_tz": -540
    },
    "id": "YcuBnnNIFORr",
    "outputId": "5412120b-fe0e-4070-deb5-001f29790875"
   },
   "outputs": [
    {
     "data": {
      "text/plain": [
       "['accuracy',\n",
       " 'adjusted_mutual_info_score',\n",
       " 'adjusted_rand_score',\n",
       " 'average_precision',\n",
       " 'balanced_accuracy',\n",
       " 'brier_score_loss',\n",
       " 'completeness_score',\n",
       " 'explained_variance',\n",
       " 'f1',\n",
       " 'f1_macro',\n",
       " 'f1_micro',\n",
       " 'f1_samples',\n",
       " 'f1_weighted',\n",
       " 'fowlkes_mallows_score',\n",
       " 'homogeneity_score',\n",
       " 'mutual_info_score',\n",
       " 'neg_log_loss',\n",
       " 'neg_mean_absolute_error',\n",
       " 'neg_mean_squared_error',\n",
       " 'neg_mean_squared_log_error',\n",
       " 'neg_median_absolute_error',\n",
       " 'normalized_mutual_info_score',\n",
       " 'precision',\n",
       " 'precision_macro',\n",
       " 'precision_micro',\n",
       " 'precision_samples',\n",
       " 'precision_weighted',\n",
       " 'r2',\n",
       " 'recall',\n",
       " 'recall_macro',\n",
       " 'recall_micro',\n",
       " 'recall_samples',\n",
       " 'recall_weighted',\n",
       " 'roc_auc',\n",
       " 'v_measure_score']"
      ]
     },
     "execution_count": 57,
     "metadata": {
      "tags": []
     },
     "output_type": "execute_result"
    }
   ],
   "source": [
    "sorted(metrics.SCORERS.keys())"
   ]
  },
  {
   "cell_type": "code",
   "execution_count": 61,
   "metadata": {
    "colab": {
     "base_uri": "https://localhost:8080/",
     "height": 35
    },
    "colab_type": "code",
    "executionInfo": {
     "elapsed": 84462,
     "status": "ok",
     "timestamp": 1553505144284,
     "user": {
      "displayName": "Jaesung Myung",
      "photoUrl": "https://lh3.googleusercontent.com/-aXz1k7Vcycg/AAAAAAAAAAI/AAAAAAAAAAw/v-qYKMnhFD0/s64/photo.jpg",
      "userId": "03815427492491131273"
     },
     "user_tz": -540
    },
    "id": "AYFOsk7vFSS2",
    "outputId": "9d9907ff-8388-4370-84d7-02e54452cc44"
   },
   "outputs": [
    {
     "data": {
      "text/plain": [
       "({'max_depth': 9, 'min_child_weight': 1}, -0.0034035665884966475)"
      ]
     },
     "execution_count": 61,
     "metadata": {
      "tags": []
     },
     "output_type": "execute_result"
    }
   ],
   "source": [
    "param_test2 = {\n",
    " 'max_depth':[8,9,10],\n",
    " 'min_child_weight':[1,2,3]\n",
    "}\n",
    "gsearch2 = GridSearchCV(\n",
    "    estimator = XGBRegressor(\n",
    " learning_rate =0.1,\n",
    " n_estimators=1500,\n",
    " max_depth=5,\n",
    " min_child_weight=1,\n",
    " gamma=0,\n",
    " subsample=0.8,\n",
    " colsample_bytree=0.8,\n",
    " objective= 'reg:linear',\n",
    " nthread=4,\n",
    " scale_pos_weight=1,\n",
    " seed=27), \n",
    " param_grid = param_test2, scoring='neg_mean_squared_error',n_jobs=4,iid=False, cv=5)\n",
    "gsearch2.fit(train_X, train_Y)\n",
    "gsearch2.best_params_, gsearch2.best_score_"
   ]
  },
  {
   "cell_type": "markdown",
   "metadata": {
    "colab_type": "text",
    "id": "L5k9F8ncLGG0"
   },
   "source": [
    "#### (2) Tuning gamma\n",
    "\n",
    "- best =**{'gamma': 0.0}**"
   ]
  },
  {
   "cell_type": "code",
   "execution_count": 62,
   "metadata": {
    "colab": {
     "base_uri": "https://localhost:8080/",
     "height": 955
    },
    "colab_type": "code",
    "executionInfo": {
     "elapsed": 149463,
     "status": "ok",
     "timestamp": 1553505729590,
     "user": {
      "displayName": "Jaesung Myung",
      "photoUrl": "https://lh3.googleusercontent.com/-aXz1k7Vcycg/AAAAAAAAAAI/AAAAAAAAAAw/v-qYKMnhFD0/s64/photo.jpg",
      "userId": "03815427492491131273"
     },
     "user_tz": -540
    },
    "id": "vM7Mzd9TGKt0",
    "outputId": "8a4329f2-3544-46a8-f3e6-34b4cfbca140"
   },
   "outputs": [
    {
     "name": "stderr",
     "output_type": "stream",
     "text": [
      "/usr/local/lib/python3.6/dist-packages/sklearn/utils/deprecation.py:125: FutureWarning: You are accessing a training score ('mean_train_score'), which will not be available by default any more in 0.21. If you need training scores, please set return_train_score=True\n",
      "  warnings.warn(*warn_args, **warn_kwargs)\n",
      "/usr/local/lib/python3.6/dist-packages/sklearn/utils/deprecation.py:125: FutureWarning: You are accessing a training score ('split0_train_score'), which will not be available by default any more in 0.21. If you need training scores, please set return_train_score=True\n",
      "  warnings.warn(*warn_args, **warn_kwargs)\n",
      "/usr/local/lib/python3.6/dist-packages/sklearn/utils/deprecation.py:125: FutureWarning: You are accessing a training score ('split1_train_score'), which will not be available by default any more in 0.21. If you need training scores, please set return_train_score=True\n",
      "  warnings.warn(*warn_args, **warn_kwargs)\n",
      "/usr/local/lib/python3.6/dist-packages/sklearn/utils/deprecation.py:125: FutureWarning: You are accessing a training score ('split2_train_score'), which will not be available by default any more in 0.21. If you need training scores, please set return_train_score=True\n",
      "  warnings.warn(*warn_args, **warn_kwargs)\n",
      "/usr/local/lib/python3.6/dist-packages/sklearn/utils/deprecation.py:125: FutureWarning: You are accessing a training score ('split3_train_score'), which will not be available by default any more in 0.21. If you need training scores, please set return_train_score=True\n",
      "  warnings.warn(*warn_args, **warn_kwargs)\n",
      "/usr/local/lib/python3.6/dist-packages/sklearn/utils/deprecation.py:125: FutureWarning: You are accessing a training score ('split4_train_score'), which will not be available by default any more in 0.21. If you need training scores, please set return_train_score=True\n",
      "  warnings.warn(*warn_args, **warn_kwargs)\n",
      "/usr/local/lib/python3.6/dist-packages/sklearn/utils/deprecation.py:125: FutureWarning: You are accessing a training score ('std_train_score'), which will not be available by default any more in 0.21. If you need training scores, please set return_train_score=True\n",
      "  warnings.warn(*warn_args, **warn_kwargs)\n"
     ]
    },
    {
     "data": {
      "text/plain": [
       "({'mean_fit_time': array([ 5.68988276, 27.52399068, 27.20346513, 27.42718101, 25.660148  ]),\n",
       "  'mean_score_time': array([0.03038278, 0.01601205, 0.01924706, 0.01821761, 0.01245351]),\n",
       "  'mean_test_score': array([-0.00340357, -0.00433341, -0.00479411, -0.00522734, -0.00559935]),\n",
       "  'mean_train_score': array([-1.86612338e-07, -4.63370970e-04, -8.46321076e-04, -1.23571704e-03,\n",
       "         -1.62663290e-03]),\n",
       "  'param_gamma': masked_array(data=[0.0, 0.1, 0.2, 0.3, 0.4],\n",
       "               mask=[False, False, False, False, False],\n",
       "         fill_value='?',\n",
       "              dtype=object),\n",
       "  'params': [{'gamma': 0.0},\n",
       "   {'gamma': 0.1},\n",
       "   {'gamma': 0.2},\n",
       "   {'gamma': 0.3},\n",
       "   {'gamma': 0.4}],\n",
       "  'rank_test_score': array([1, 2, 3, 4, 5], dtype=int32),\n",
       "  'split0_test_score': array([-0.00068439, -0.00119236, -0.00159138, -0.00187954, -0.00220065]),\n",
       "  'split0_train_score': array([-1.85176558e-07, -4.76150260e-04, -8.61587381e-04, -1.28977409e-03,\n",
       "         -1.68678134e-03]),\n",
       "  'split1_test_score': array([-0.00013271, -0.00035621, -0.000547  , -0.00072629, -0.00086932]),\n",
       "  'split1_train_score': array([-1.87230847e-07, -4.84214793e-04, -8.82948551e-04, -1.25171094e-03,\n",
       "         -1.70755647e-03]),\n",
       "  'split2_test_score': array([-0.00015991, -0.00031566, -0.00052785, -0.00070396, -0.00084981]),\n",
       "  'split2_train_score': array([-1.92205123e-07, -4.74520224e-04, -8.61854784e-04, -1.32581232e-03,\n",
       "         -1.67692820e-03]),\n",
       "  'split3_test_score': array([-0.00025436, -0.00043797, -0.00054472, -0.00063914, -0.00077655]),\n",
       "  'split3_train_score': array([-1.82929245e-07, -4.69487981e-04, -8.95883729e-04, -1.25773030e-03,\n",
       "         -1.66903289e-03]),\n",
       "  'split4_test_score': array([-0.01578645, -0.01936486, -0.02075959, -0.02218777, -0.02330043]),\n",
       "  'split4_train_score': array([-1.85519918e-07, -4.12481595e-04, -7.29330935e-04, -1.05355754e-03,\n",
       "         -1.39286561e-03]),\n",
       "  'std_fit_time': array([0.35765749, 0.55062268, 0.7511572 , 0.68882906, 0.42518784]),\n",
       "  'std_score_time': array([0.00399016, 0.00328449, 0.00094596, 0.0027885 , 0.00632768]),\n",
       "  'std_test_score': array([0.00619463, 0.00752257, 0.00799313, 0.00849278, 0.00886645]),\n",
       "  'std_train_score': array([3.11389850e-09, 2.58813730e-05, 5.99317576e-05, 9.48280484e-05,\n",
       "         1.17593353e-04])},\n",
       " {'gamma': 0.0},\n",
       " -0.0034035665884966475)"
      ]
     },
     "execution_count": 62,
     "metadata": {
      "tags": []
     },
     "output_type": "execute_result"
    }
   ],
   "source": [
    "param_test3 = {\n",
    " 'gamma':[i/10.0 for i in range(0,5)]\n",
    "}\n",
    "gsearch3 = GridSearchCV(\n",
    "    estimator = XGBRegressor(\n",
    " learning_rate =0.1,\n",
    " n_estimators=1500,\n",
    " max_depth=9,\n",
    " min_child_weight=1,\n",
    " gamma=0,\n",
    " subsample=0.8,\n",
    " colsample_bytree=0.8,\n",
    " objective= 'reg:linear',\n",
    " nthread=4,\n",
    " scale_pos_weight=1,\n",
    " seed=27), \n",
    " param_grid = param_test3, scoring='neg_mean_squared_error',n_jobs=4,iid=False, cv=5)\n",
    "gsearch3.fit(train_X, train_Y)\n",
    "gsearch3.cv_results_,gsearch3.best_params_, gsearch3.best_score_"
   ]
  },
  {
   "cell_type": "code",
   "execution_count": 64,
   "metadata": {
    "colab": {
     "base_uri": "https://localhost:8080/",
     "height": 336
    },
    "colab_type": "code",
    "executionInfo": {
     "elapsed": 6416,
     "status": "ok",
     "timestamp": 1553505815197,
     "user": {
      "displayName": "Jaesung Myung",
      "photoUrl": "https://lh3.googleusercontent.com/-aXz1k7Vcycg/AAAAAAAAAAI/AAAAAAAAAAw/v-qYKMnhFD0/s64/photo.jpg",
      "userId": "03815427492491131273"
     },
     "user_tz": -540
    },
    "id": "lZyHcJaeJfOY",
    "outputId": "119089ac-0fa6-4495-859f-e743ff6afe0c"
   },
   "outputs": [
    {
     "name": "stdout",
     "output_type": "stream",
     "text": [
      "\n",
      "Model Report\n",
      "WMSE : 9.9294e-05\n"
     ]
    },
    {
     "data": {
      "image/png": "[encoded data removed]",
      "text/plain": [
       "<Figure size 432x288 with 1 Axes>"
      ]
     },
     "metadata": {
      "tags": []
     },
     "output_type": "display_data"
    }
   ],
   "source": [
    "xgb2 = XGBRegressor(\n",
    " learning_rate =0.1,\n",
    " n_estimators=1500,\n",
    " max_depth=9,\n",
    " min_child_weight=1,\n",
    " gamma=0,\n",
    " subsample=0.8,\n",
    " colsample_bytree=0.8,\n",
    " objective= 'reg:linear',\n",
    " nthread=4,\n",
    " scale_pos_weight=1,\n",
    " seed=27)\n",
    "modelfit(xgb2)"
   ]
  },
  {
   "cell_type": "markdown",
   "metadata": {
    "colab_type": "text",
    "id": "IxlmXCvtLT9b"
   },
   "source": [
    "#### (3) Tuning subsample and colsample_bytree"
   ]
  },
  {
   "cell_type": "code",
   "execution_count": 66,
   "metadata": {
    "colab": {
     "base_uri": "https://localhost:8080/",
     "height": 2161
    },
    "colab_type": "code",
    "executionInfo": {
     "elapsed": 130316,
     "status": "ok",
     "timestamp": 1553506261388,
     "user": {
      "displayName": "Jaesung Myung",
      "photoUrl": "https://lh3.googleusercontent.com/-aXz1k7Vcycg/AAAAAAAAAAI/AAAAAAAAAAw/v-qYKMnhFD0/s64/photo.jpg",
      "userId": "03815427492491131273"
     },
     "user_tz": -540
    },
    "id": "CLrlkmXMKXED",
    "outputId": "3fc552ee-2425-4cb2-a3cb-0b24b87ef0cd"
   },
   "outputs": [
    {
     "name": "stderr",
     "output_type": "stream",
     "text": [
      "/usr/local/lib/python3.6/dist-packages/sklearn/utils/deprecation.py:125: FutureWarning: You are accessing a training score ('mean_train_score'), which will not be available by default any more in 0.21. If you need training scores, please set return_train_score=True\n",
      "  warnings.warn(*warn_args, **warn_kwargs)\n",
      "/usr/local/lib/python3.6/dist-packages/sklearn/utils/deprecation.py:125: FutureWarning: You are accessing a training score ('split0_train_score'), which will not be available by default any more in 0.21. If you need training scores, please set return_train_score=True\n",
      "  warnings.warn(*warn_args, **warn_kwargs)\n",
      "/usr/local/lib/python3.6/dist-packages/sklearn/utils/deprecation.py:125: FutureWarning: You are accessing a training score ('split1_train_score'), which will not be available by default any more in 0.21. If you need training scores, please set return_train_score=True\n",
      "  warnings.warn(*warn_args, **warn_kwargs)\n",
      "/usr/local/lib/python3.6/dist-packages/sklearn/utils/deprecation.py:125: FutureWarning: You are accessing a training score ('split2_train_score'), which will not be available by default any more in 0.21. If you need training scores, please set return_train_score=True\n",
      "  warnings.warn(*warn_args, **warn_kwargs)\n",
      "/usr/local/lib/python3.6/dist-packages/sklearn/utils/deprecation.py:125: FutureWarning: You are accessing a training score ('split3_train_score'), which will not be available by default any more in 0.21. If you need training scores, please set return_train_score=True\n",
      "  warnings.warn(*warn_args, **warn_kwargs)\n",
      "/usr/local/lib/python3.6/dist-packages/sklearn/utils/deprecation.py:125: FutureWarning: You are accessing a training score ('split4_train_score'), which will not be available by default any more in 0.21. If you need training scores, please set return_train_score=True\n",
      "  warnings.warn(*warn_args, **warn_kwargs)\n",
      "/usr/local/lib/python3.6/dist-packages/sklearn/utils/deprecation.py:125: FutureWarning: You are accessing a training score ('std_train_score'), which will not be available by default any more in 0.21. If you need training scores, please set return_train_score=True\n",
      "  warnings.warn(*warn_args, **warn_kwargs)\n"
     ]
    },
    {
     "data": {
      "text/plain": [
       "({'mean_fit_time': array([6.31718988, 5.94155092, 5.27257991, 5.14806709, 7.17450385,\n",
       "         5.78564153, 5.47564063, 5.24856057, 7.01043167, 6.25688601,\n",
       "         5.73732166, 5.30340362, 7.83144698, 6.66027837, 6.02038326,\n",
       "         5.32613001]),\n",
       "  'mean_score_time': array([0.03190494, 0.02937455, 0.02291369, 0.02515821, 0.03326669,\n",
       "         0.0279388 , 0.03020449, 0.02817826, 0.02707758, 0.02995386,\n",
       "         0.02899981, 0.02524791, 0.02767377, 0.02764783, 0.02988992,\n",
       "         0.01917629]),\n",
       "  'mean_test_score': array([-0.00354533, -0.00354776, -0.00360799, -0.00381311, -0.00335387,\n",
       "         -0.00337011, -0.00341348, -0.003846  , -0.00348545, -0.00347936,\n",
       "         -0.00340357, -0.00376835, -0.00362348, -0.00340284, -0.00346838,\n",
       "         -0.00348919]),\n",
       "  'mean_train_score': array([-1.64572469e-07, -1.79909998e-07, -1.98295575e-07, -2.19214382e-07,\n",
       "         -1.60023107e-07, -1.74891903e-07, -1.96157617e-07, -2.25242058e-07,\n",
       "         -1.55880569e-07, -1.67942204e-07, -1.86612338e-07, -2.23504210e-07,\n",
       "         -1.54016684e-07, -1.64682962e-07, -1.89991574e-07, -2.11046217e-07]),\n",
       "  'param_colsample_bytree': masked_array(data=[0.6, 0.6, 0.6, 0.6, 0.7, 0.7, 0.7, 0.7, 0.8, 0.8, 0.8,\n",
       "                     0.8, 0.9, 0.9, 0.9, 0.9],\n",
       "               mask=[False, False, False, False, False, False, False, False,\n",
       "                     False, False, False, False, False, False, False, False],\n",
       "         fill_value='?',\n",
       "              dtype=object),\n",
       "  'param_subsample': masked_array(data=[0.6, 0.7, 0.8, 0.9, 0.6, 0.7, 0.8, 0.9, 0.6, 0.7, 0.8,\n",
       "                     0.9, 0.6, 0.7, 0.8, 0.9],\n",
       "               mask=[False, False, False, False, False, False, False, False,\n",
       "                     False, False, False, False, False, False, False, False],\n",
       "         fill_value='?',\n",
       "              dtype=object),\n",
       "  'params': [{'colsample_bytree': 0.6, 'subsample': 0.6},\n",
       "   {'colsample_bytree': 0.6, 'subsample': 0.7},\n",
       "   {'colsample_bytree': 0.6, 'subsample': 0.8},\n",
       "   {'colsample_bytree': 0.6, 'subsample': 0.9},\n",
       "   {'colsample_bytree': 0.7, 'subsample': 0.6},\n",
       "   {'colsample_bytree': 0.7, 'subsample': 0.7},\n",
       "   {'colsample_bytree': 0.7, 'subsample': 0.8},\n",
       "   {'colsample_bytree': 0.7, 'subsample': 0.9},\n",
       "   {'colsample_bytree': 0.8, 'subsample': 0.6},\n",
       "   {'colsample_bytree': 0.8, 'subsample': 0.7},\n",
       "   {'colsample_bytree': 0.8, 'subsample': 0.8},\n",
       "   {'colsample_bytree': 0.8, 'subsample': 0.9},\n",
       "   {'colsample_bytree': 0.9, 'subsample': 0.6},\n",
       "   {'colsample_bytree': 0.9, 'subsample': 0.7},\n",
       "   {'colsample_bytree': 0.9, 'subsample': 0.8},\n",
       "   {'colsample_bytree': 0.9, 'subsample': 0.9}],\n",
       "  'rank_test_score': array([10, 11, 12, 15,  1,  2,  5, 16,  8,  7,  4, 14, 13,  3,  6,  9],\n",
       "        dtype=int32),\n",
       "  'split0_test_score': array([-0.00057935, -0.00098086, -0.00129055, -0.00126357, -0.00052935,\n",
       "         -0.00079332, -0.00088364, -0.00099214, -0.00097303, -0.00111338,\n",
       "         -0.00068439, -0.00064961, -0.00180607, -0.00091654, -0.00090935,\n",
       "         -0.00062929]),\n",
       "  'split0_train_score': array([-1.62473905e-07, -1.79434558e-07, -2.01542099e-07, -2.12160423e-07,\n",
       "         -1.59215724e-07, -1.78001925e-07, -1.98443212e-07, -2.18329272e-07,\n",
       "         -1.52224476e-07, -1.69364466e-07, -1.85176558e-07, -2.29367630e-07,\n",
       "         -1.51768088e-07, -1.64375109e-07, -1.85420902e-07, -2.06156483e-07]),\n",
       "  'split1_test_score': array([-0.00045317, -0.00047108, -0.00020379, -0.00023692, -0.00021912,\n",
       "         -0.00038661, -0.00014084, -0.00016277, -0.00042007, -0.00014468,\n",
       "         -0.00013271, -0.00013485, -0.00051622, -0.00014668, -0.00021573,\n",
       "         -0.00013705]),\n",
       "  'split1_train_score': array([-1.69247497e-07, -1.83129636e-07, -2.04569408e-07, -2.14795703e-07,\n",
       "         -1.59751783e-07, -1.79493597e-07, -1.88376293e-07, -2.32737056e-07,\n",
       "         -1.58619212e-07, -1.67704627e-07, -1.87230847e-07, -2.16479349e-07,\n",
       "         -1.54303564e-07, -1.69813472e-07, -1.92865419e-07, -2.11413385e-07]),\n",
       "  'split2_test_score': array([-0.0001194 , -0.00013858, -0.00016354, -0.00016396, -0.00016479,\n",
       "         -0.00018   , -0.00018506, -0.00019796, -0.00011973, -0.00014029,\n",
       "         -0.00015991, -0.00015879, -0.00011349, -0.00013324, -0.00011481,\n",
       "         -0.00015148]),\n",
       "  'split2_train_score': array([-1.67691066e-07, -1.78470066e-07, -1.95244449e-07, -2.31886350e-07,\n",
       "         -1.63143253e-07, -1.74978506e-07, -2.00280971e-07, -2.22745928e-07,\n",
       "         -1.59243365e-07, -1.68369242e-07, -1.92205123e-07, -2.24165288e-07,\n",
       "         -1.57384578e-07, -1.65709685e-07, -1.97761635e-07, -2.09905106e-07]),\n",
       "  'split3_test_score': array([-0.00054472, -0.00054403, -0.00046521, -0.00050761, -0.00026693,\n",
       "         -0.00015203, -0.0002449 , -0.00040068, -0.00019391, -0.00028429,\n",
       "         -0.00025436, -0.00044739, -0.00017496, -0.00030807, -0.00029296,\n",
       "         -0.00046307]),\n",
       "  'split3_train_score': array([-1.62170254e-07, -1.82666959e-07, -1.96841601e-07, -2.31384065e-07,\n",
       "         -1.62406892e-07, -1.74717586e-07, -2.04096292e-07, -2.36637988e-07,\n",
       "         -1.55843256e-07, -1.69333895e-07, -1.82929245e-07, -2.27512522e-07,\n",
       "         -1.55711129e-07, -1.62590097e-07, -1.88419426e-07, -2.18369947e-07]),\n",
       "  'split4_test_score': array([-0.01603001, -0.01560427, -0.01591686, -0.01689349, -0.01558916,\n",
       "         -0.01533859, -0.01561298, -0.01747646, -0.01572049, -0.01571418,\n",
       "         -0.01578645, -0.0174511 , -0.01550667, -0.01550967, -0.01580906,\n",
       "         -0.01606508]),\n",
       "  'split4_train_score': array([-1.61279622e-07, -1.75848770e-07, -1.93280321e-07, -2.05845370e-07,\n",
       "         -1.55597883e-07, -1.67267903e-07, -1.89591316e-07, -2.15760048e-07,\n",
       "         -1.53472537e-07, -1.64938790e-07, -1.85519918e-07, -2.19996262e-07,\n",
       "         -1.50916059e-07, -1.60926447e-07, -1.85490490e-07, -2.09386166e-07]),\n",
       "  'std_fit_time': array([0.37760143, 0.32036597, 0.62291288, 0.86496065, 1.20467739,\n",
       "         0.78277157, 0.12382638, 0.18403041, 0.98980057, 0.24273196,\n",
       "         0.10605616, 0.06942746, 0.41525347, 0.32549203, 0.12803845,\n",
       "         0.75157244]),\n",
       "  'std_score_time': array([0.00546176, 0.00762379, 0.00453165, 0.00685894, 0.0109067 ,\n",
       "         0.00706788, 0.00230782, 0.0060198 , 0.00594099, 0.00075952,\n",
       "         0.00158599, 0.0024041 , 0.00605236, 0.00338771, 0.00206034,\n",
       "         0.00958907]),\n",
       "  'std_test_score': array([0.00624446, 0.00603422, 0.0061678 , 0.00655177, 0.00611892,\n",
       "         0.00598863, 0.00610575, 0.00682171, 0.00612482, 0.00612808,\n",
       "         0.00619463, 0.00684404, 0.00597295, 0.00606016, 0.00617658,\n",
       "         0.00629074]),\n",
       "  'std_train_score': array([3.24342387e-09, 2.71145407e-09, 4.15877600e-09, 1.05517155e-08,\n",
       "         2.67304455e-09, 4.21926747e-09, 6.14676952e-09, 8.12364451e-09,\n",
       "         2.75592412e-09, 1.62597251e-09, 3.11389850e-09, 4.74421026e-09,\n",
       "         2.40691543e-09, 3.03191558e-09, 4.73825475e-09, 4.04324698e-09])},\n",
       " {'colsample_bytree': 0.7, 'subsample': 0.6},\n",
       " -0.003353870296411287)"
      ]
     },
     "execution_count": 66,
     "metadata": {
      "tags": []
     },
     "output_type": "execute_result"
    }
   ],
   "source": [
    "param_test4 = {\n",
    " 'subsample':[i/10.0 for i in range(6,10)],\n",
    " 'colsample_bytree':[i/10.0 for i in range(6,10)]\n",
    "}\n",
    "gsearch4 = GridSearchCV(\n",
    "    estimator = XGBRegressor(\n",
    " learning_rate =0.1,\n",
    " n_estimators=1500,\n",
    " max_depth=9,\n",
    " min_child_weight=1,\n",
    " gamma=0,\n",
    " subsample=0.8,\n",
    " colsample_bytree=0.8,\n",
    " objective= 'reg:linear',\n",
    " nthread=4,\n",
    " scale_pos_weight=1,\n",
    " seed=27), \n",
    " param_grid = param_test4, scoring='neg_mean_squared_error',n_jobs=4,iid=False, cv=5)\n",
    "gsearch4.fit(train_X, train_Y)\n",
    "gsearch4.cv_results_, gsearch4.best_params_, gsearch4.best_score_"
   ]
  },
  {
   "cell_type": "code",
   "execution_count": 68,
   "metadata": {
    "colab": {
     "base_uri": "https://localhost:8080/",
     "height": 1459
    },
    "colab_type": "code",
    "executionInfo": {
     "elapsed": 68546,
     "status": "ok",
     "timestamp": 1553506672402,
     "user": {
      "displayName": "Jaesung Myung",
      "photoUrl": "https://lh3.googleusercontent.com/-aXz1k7Vcycg/AAAAAAAAAAI/AAAAAAAAAAw/v-qYKMnhFD0/s64/photo.jpg",
      "userId": "03815427492491131273"
     },
     "user_tz": -540
    },
    "id": "z193sxtgLjFO",
    "outputId": "20726014-6d03-42d0-e46f-ce5eec08c2ab"
   },
   "outputs": [
    {
     "name": "stderr",
     "output_type": "stream",
     "text": [
      "/usr/local/lib/python3.6/dist-packages/sklearn/utils/deprecation.py:125: FutureWarning: You are accessing a training score ('mean_train_score'), which will not be available by default any more in 0.21. If you need training scores, please set return_train_score=True\n",
      "  warnings.warn(*warn_args, **warn_kwargs)\n",
      "/usr/local/lib/python3.6/dist-packages/sklearn/utils/deprecation.py:125: FutureWarning: You are accessing a training score ('split0_train_score'), which will not be available by default any more in 0.21. If you need training scores, please set return_train_score=True\n",
      "  warnings.warn(*warn_args, **warn_kwargs)\n",
      "/usr/local/lib/python3.6/dist-packages/sklearn/utils/deprecation.py:125: FutureWarning: You are accessing a training score ('split1_train_score'), which will not be available by default any more in 0.21. If you need training scores, please set return_train_score=True\n",
      "  warnings.warn(*warn_args, **warn_kwargs)\n",
      "/usr/local/lib/python3.6/dist-packages/sklearn/utils/deprecation.py:125: FutureWarning: You are accessing a training score ('split2_train_score'), which will not be available by default any more in 0.21. If you need training scores, please set return_train_score=True\n",
      "  warnings.warn(*warn_args, **warn_kwargs)\n",
      "/usr/local/lib/python3.6/dist-packages/sklearn/utils/deprecation.py:125: FutureWarning: You are accessing a training score ('split3_train_score'), which will not be available by default any more in 0.21. If you need training scores, please set return_train_score=True\n",
      "  warnings.warn(*warn_args, **warn_kwargs)\n",
      "/usr/local/lib/python3.6/dist-packages/sklearn/utils/deprecation.py:125: FutureWarning: You are accessing a training score ('split4_train_score'), which will not be available by default any more in 0.21. If you need training scores, please set return_train_score=True\n",
      "  warnings.warn(*warn_args, **warn_kwargs)\n",
      "/usr/local/lib/python3.6/dist-packages/sklearn/utils/deprecation.py:125: FutureWarning: You are accessing a training score ('std_train_score'), which will not be available by default any more in 0.21. If you need training scores, please set return_train_score=True\n",
      "  warnings.warn(*warn_args, **warn_kwargs)\n"
     ]
    },
    {
     "data": {
      "text/plain": [
       "({'mean_fit_time': array([5.84828935, 5.51162467, 5.62470994, 5.8159987 , 6.00362697,\n",
       "         5.44984484, 5.87342548, 5.62669821, 5.01236076]),\n",
       "  'mean_score_time': array([0.03137684, 0.03838906, 0.02896881, 0.03335166, 0.02626319,\n",
       "         0.02779379, 0.03304973, 0.0359591 , 0.01974154]),\n",
       "  'mean_test_score': array([-0.00355915, -0.00367377, -0.00362445, -0.00359456, -0.00354776,\n",
       "         -0.00355355, -0.00359134, -0.00348702, -0.00343908]),\n",
       "  'mean_train_score': array([-1.76157265e-07, -1.81905539e-07, -1.91561987e-07, -1.70659566e-07,\n",
       "         -1.79909998e-07, -1.88662800e-07, -1.68916512e-07, -1.77554579e-07,\n",
       "         -1.86361743e-07]),\n",
       "  'param_colsample_bytree': masked_array(data=[0.55, 0.55, 0.55, 0.6, 0.6, 0.6, 0.65, 0.65, 0.65],\n",
       "               mask=[False, False, False, False, False, False, False, False,\n",
       "                     False],\n",
       "         fill_value='?',\n",
       "              dtype=object),\n",
       "  'param_subsample': masked_array(data=[0.65, 0.7, 0.75, 0.65, 0.7, 0.75, 0.65, 0.7, 0.75],\n",
       "               mask=[False, False, False, False, False, False, False, False,\n",
       "                     False],\n",
       "         fill_value='?',\n",
       "              dtype=object),\n",
       "  'params': [{'colsample_bytree': 0.55, 'subsample': 0.65},\n",
       "   {'colsample_bytree': 0.55, 'subsample': 0.7},\n",
       "   {'colsample_bytree': 0.55, 'subsample': 0.75},\n",
       "   {'colsample_bytree': 0.6, 'subsample': 0.65},\n",
       "   {'colsample_bytree': 0.6, 'subsample': 0.7},\n",
       "   {'colsample_bytree': 0.6, 'subsample': 0.75},\n",
       "   {'colsample_bytree': 0.65, 'subsample': 0.65},\n",
       "   {'colsample_bytree': 0.65, 'subsample': 0.7},\n",
       "   {'colsample_bytree': 0.65, 'subsample': 0.75}],\n",
       "  'rank_test_score': array([5, 9, 8, 7, 3, 4, 6, 2, 1], dtype=int32),\n",
       "  'split0_test_score': array([-0.00113682, -0.00107015, -0.00112996, -0.00091657, -0.00098086,\n",
       "         -0.00112033, -0.00079007, -0.0009548 , -0.00104436]),\n",
       "  'split0_train_score': array([-1.78327034e-07, -1.87140890e-07, -1.92815914e-07, -1.73260798e-07,\n",
       "         -1.79434558e-07, -1.88289140e-07, -1.64071823e-07, -1.71212915e-07,\n",
       "         -1.85426082e-07]),\n",
       "  'split1_test_score': array([-0.00038734, -0.00043043, -0.00025122, -0.00049511, -0.00047108,\n",
       "         -0.00023646, -0.00034105, -0.00034382, -0.00019935]),\n",
       "  'split1_train_score': array([-1.76041552e-07, -1.87972380e-07, -1.88051540e-07, -1.78468791e-07,\n",
       "         -1.83129636e-07, -1.90185784e-07, -1.75597933e-07, -1.84599137e-07,\n",
       "         -1.93352587e-07]),\n",
       "  'split2_test_score': array([-0.00013205, -0.00012233, -0.00013472, -0.00012524, -0.00013858,\n",
       "         -0.00015407, -0.00012053, -0.00016437, -0.00016286]),\n",
       "  'split2_train_score': array([-1.75859648e-07, -1.77681657e-07, -1.95918594e-07, -1.72527877e-07,\n",
       "         -1.78470066e-07, -1.87370023e-07, -1.71673031e-07, -1.74379121e-07,\n",
       "         -1.83424520e-07]),\n",
       "  'split3_test_score': array([-0.00050549, -0.00060803, -0.00039423, -0.00054619, -0.00054403,\n",
       "         -0.00042831, -0.00056431, -0.00051075, -0.00036887]),\n",
       "  'split3_train_score': array([-1.73126772e-07, -1.83200974e-07, -1.93167993e-07, -1.65544703e-07,\n",
       "         -1.82666959e-07, -1.91928655e-07, -1.68226649e-07, -1.82790171e-07,\n",
       "         -1.87112441e-07]),\n",
       "  'split4_test_score': array([-0.01563405, -0.01613791, -0.01621211, -0.0158897 , -0.01560427,\n",
       "         -0.01582857, -0.01614074, -0.01546136, -0.01541997]),\n",
       "  'split4_train_score': array([-1.77431320e-07, -1.73531797e-07, -1.87855892e-07, -1.63495661e-07,\n",
       "         -1.75848770e-07, -1.85540397e-07, -1.65013123e-07, -1.74791552e-07,\n",
       "         -1.82493086e-07]),\n",
       "  'std_fit_time': array([1.49991123, 0.4610017 , 1.07755879, 0.41176781, 1.54325596,\n",
       "         0.26632911, 0.19067292, 0.10704135, 0.51488384]),\n",
       "  'std_score_time': array([0.00676448, 0.01646911, 0.00370467, 0.00251554, 0.00356732,\n",
       "         0.00458207, 0.00146048, 0.0059212 , 0.0102786 ]),\n",
       "  'std_test_score': array([0.00604651, 0.00623962, 0.00630338, 0.00615268, 0.00603422,\n",
       "         0.00614692, 0.00627867, 0.00599291, 0.00599887]),\n",
       "  'std_train_score': array([1.76731230e-09, 5.54714956e-09, 3.13655832e-09, 5.45388573e-09,\n",
       "         2.71145407e-09, 2.21565258e-09, 4.27605290e-09, 5.19560932e-09,\n",
       "         3.84459848e-09])},\n",
       " {'colsample_bytree': 0.65, 'subsample': 0.75},\n",
       " -0.0034390823413979255)"
      ]
     },
     "execution_count": 68,
     "metadata": {
      "tags": []
     },
     "output_type": "execute_result"
    }
   ],
   "source": [
    "param_test5 = {\n",
    " 'subsample':[i/100.0 for i in range(65,80,5)],\n",
    " 'colsample_bytree':[i/100.0 for i in range(55,70,5)]\n",
    "}\n",
    "gsearch5 = GridSearchCV(\n",
    "    estimator = XGBRegressor(\n",
    " learning_rate =0.1,\n",
    " n_estimators=1500,\n",
    " max_depth=9,\n",
    " min_child_weight=1,\n",
    " gamma=0,\n",
    " subsample=0.6,\n",
    " colsample_bytree=0.7,\n",
    " objective= 'reg:linear',\n",
    " nthread=4,\n",
    " scale_pos_weight=1,\n",
    " seed=27), \n",
    " param_grid = param_test5, scoring='neg_mean_squared_error',n_jobs=4,iid=False, cv=5)\n",
    "gsearch5.fit(train_X, train_Y)\n",
    "gsearch5.cv_results_, gsearch5.best_params_, gsearch5.best_score_"
   ]
  },
  {
   "cell_type": "code",
   "execution_count": 0,
   "metadata": {
    "colab": {},
    "colab_type": "code",
    "id": "4TtKMV6iMarv"
   },
   "outputs": [],
   "source": []
  }
 ],
 "metadata": {
  "accelerator": "GPU",
  "colab": {
   "collapsed_sections": [],
   "name": "RSB_modeling_MJS.ipynb",
   "provenance": [],
   "version": "0.3.2"
  },
  "kernelspec": {
   "display_name": "Python 3",
   "language": "python",
   "name": "python3"
  },
  "language_info": {
   "codemirror_mode": {
    "name": "ipython",
    "version": 3
   },
   "file_extension": ".py",
   "mimetype": "text/x-python",
   "name": "python",
   "nbconvert_exporter": "python",
   "pygments_lexer": "ipython3",
   "version": "3.6.5"
  }
 },
 "nbformat": 4,
 "nbformat_minor": 1
}
