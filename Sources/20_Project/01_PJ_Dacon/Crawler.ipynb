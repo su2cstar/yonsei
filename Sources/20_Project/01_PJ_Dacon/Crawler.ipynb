{
 "cells": [
  {
   "cell_type": "code",
   "execution_count": null,
   "metadata": {},
   "outputs": [],
   "source": [
    "#!pip install selenium"
   ]
  },
  {
   "cell_type": "code",
   "execution_count": 1,
   "metadata": {},
   "outputs": [],
   "source": [
    "#import requests\n",
    "from bs4 import BeautifulSoup\n",
    "import time\n",
    "from selenium import webdriver\n",
    "#import json\n",
    "import pandas as pd"
   ]
  },
  {
   "cell_type": "code",
   "execution_count": 2,
   "metadata": {},
   "outputs": [],
   "source": [
    "url ='https://www.koreabaseball.com/Schedule/Schedule.aspx?seriesId=0,9'\n",
    "dpath = r'C:\\Users\\ahn92\\Downloads\\chromedriver_win32\\chromedriver.exe'"
   ]
  },
  {
   "cell_type": "code",
   "execution_count": 3,
   "metadata": {},
   "outputs": [],
   "source": [
    "def crawler(url,dpath):\n",
    "    driver = webdriver.Chrome(executable_path=dpath)\n",
    "    driver.get(url)\n",
    "    #xpath1 = '//*[@id=\"lnb\"]/li[1]/a'\n",
    "    xpathMT = '//*[@id=\"btnNext\"]/img'\n",
    "    xpathMT2 = '//*[@id=\"btnPrev\"]/img'\n",
    "    htmlT = []\n",
    "    for i in range(2,12):\n",
    "        xpathTM = '//*[@id=\"contents\"]/ul/li['+str(i)+']/a/span'\n",
    "    #xpathTM = '//*[@id=\"contents\"]/ul/li['+str(2)+']/a/span'\n",
    "        elementTM = driver.find_element_by_xpath(xpathTM) # xpath link of the elementt\n",
    "        elementTM.click()\n",
    "        time.sleep(1)\n",
    "        html = []\n",
    "        for j in range(5):\n",
    "            html.append(driver.page_source)\n",
    "            elementMT = driver.find_element_by_xpath(xpathMT)\n",
    "            elementMT.click()\n",
    "            time.sleep(1)\n",
    "        htmlT.append(html)\n",
    "        for j in range(5):\n",
    "            elementMT2 = driver.find_element_by_xpath(xpathMT2)\n",
    "            elementMT2.click()\n",
    "            time.sleep(1)\n",
    "    time.sleep(1)\n",
    "    driver.close()\n",
    "    return(htmlT)"
   ]
  },
  {
   "cell_type": "code",
   "execution_count": 4,
   "metadata": {},
   "outputs": [],
   "source": [
    "Team_Name = ['SK','두산','한화','넥센','KIA','삼성','롯데','LG','KT','NC']\n",
    "MM = [3,4,5,6,7]"
   ]
  },
  {
   "cell_type": "code",
   "execution_count": 5,
   "metadata": {},
   "outputs": [],
   "source": [
    "def mkdf(html):\n",
    "    soup = BeautifulSoup(html , 'lxml')\n",
    "    pdate = list(map(lambda x : x.text , soup.findAll('td', attrs={'class':'day'})))\n",
    "    ptime = list(map(lambda x : x.text , soup.findAll('td', attrs={'class':'time'})))\n",
    "    match = list(map(lambda x : x.text , soup.findAll('td', attrs={'class':'play'})))\n",
    "    i = 7\n",
    "    stadium = []\n",
    "    while True:\n",
    "        try:\n",
    "            stadium.append(list(map(lambda x : x.text , soup.findAll('td')))[i])\n",
    "            i= i+9\n",
    "        except:\n",
    "            break\n",
    "    df = pd.DataFrame([ptime,pdate,match,stadium]).T\n",
    "    df.columns = ['time','date','match','stadium']\n",
    "    return(df)"
   ]
  },
  {
   "cell_type": "code",
   "execution_count": 6,
   "metadata": {},
   "outputs": [],
   "source": [
    "def mkdflst():\n",
    "    dflst = []\n",
    "    for i in list(range(len(Team_Name))):\n",
    "        dflst2 = []\n",
    "        for j in list(range(len(MM))):\n",
    "            dflst2.append(mkdf(htmlT[i][j]))\n",
    "        dflst.append(dflst2)\n",
    "    return(dflst)"
   ]
  },
  {
   "cell_type": "code",
   "execution_count": 7,
   "metadata": {},
   "outputs": [],
   "source": [
    "htmlT = crawler(url,dpath)"
   ]
  },
  {
   "cell_type": "code",
   "execution_count": 9,
   "metadata": {},
   "outputs": [],
   "source": [
    "dflst = mkdflst()"
   ]
  },
  {
   "cell_type": "code",
   "execution_count": 10,
   "metadata": {},
   "outputs": [],
   "source": [
    "for i in list(range(len(Team_Name))):\n",
    "    df = pd.concat([dflst[i][0],dflst[i][1],dflst[i][2],dflst[i][3],dflst[i][4]])\n",
    "    df.to_csv('tmp/'+Team_Name[i]+'.csv' , encoding='CP949',index=False)"
   ]
  }
 ],
 "metadata": {
  "kernelspec": {
   "display_name": "Python 3",
   "language": "python",
   "name": "python3"
  },
  "language_info": {
   "codemirror_mode": {
    "name": "ipython",
    "version": 3
   },
   "file_extension": ".py",
   "mimetype": "text/x-python",
   "name": "python",
   "nbconvert_exporter": "python",
   "pygments_lexer": "ipython3",
   "version": "3.6.5"
  }
 },
 "nbformat": 4,
 "nbformat_minor": 2
}
