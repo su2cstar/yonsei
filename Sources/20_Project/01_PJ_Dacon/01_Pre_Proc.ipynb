{
 "cells": [
  {
   "cell_type": "code",
   "execution_count": 1,
   "metadata": {},
   "outputs": [],
   "source": [
    "import pandas as pd\n",
    "import numpy as np\n",
    "import pandas_profiling\n",
    "import os\n",
    "import matplotlib.pyplot as plt"
   ]
  },
  {
   "cell_type": "code",
   "execution_count": 2,
   "metadata": {},
   "outputs": [],
   "source": [
    "%matplotlib inline"
   ]
  },
  {
   "cell_type": "code",
   "execution_count": 3,
   "metadata": {},
   "outputs": [],
   "source": [
    "def day_to_str(x):\n",
    "    m = str(x).split('.')[0]\n",
    "    d = str(x).split('.')[1]\n",
    "    if len(m)==1:\n",
    "        m = '0' + m\n",
    "    if len(d)==1:\n",
    "        d = d +'0'\n",
    "    return(m+'-'+d)"
   ]
  },
  {
   "cell_type": "code",
   "execution_count": 4,
   "metadata": {},
   "outputs": [],
   "source": [
    "def player_char(RSB):\n",
    "    temp1 = RSB.groupby(['batter_id','batter_name'])['height/weight','year_born','position','career','starting_salary'].apply(lambda x: x.mode())\n",
    "    a = temp1['career'].map(lambda x : x.split('-') ).reset_index().drop(columns='level_2')\n",
    "    a['e_school'] = np.nan\n",
    "    a['m_school'] = np.nan\n",
    "    a['h_school'] = np.nan\n",
    "    a['col_school'] = np.nan\n",
    "    a['team_lst'] = np.nan\n",
    "    a['team1'] = np.nan\n",
    "    a['team2'] = np.nan\n",
    "    a['team3'] = np.nan\n",
    "    a['team4'] = np.nan\n",
    "    a['team5'] = np.nan\n",
    "\n",
    "    \n",
    "    b = a.values\n",
    "    for lst in b:\n",
    "        lst[7]=[]\n",
    "        for i in lst[2]:\n",
    "            if i[-1]=='초' or (len(i)>3 and i[2]=='초'):\n",
    "                lst[3] = i\n",
    "                #flst.remove(i)\n",
    "            elif i[-1]=='중':\n",
    "                lst[4] = i\n",
    "                #flst.remove(i)\n",
    "            elif i[-1]=='고'or i[-2:]=='고)':\n",
    "                lst[5] = i\n",
    "                #flst.remove(i)\n",
    "            elif i!='현대' and (i[-1]=='대' or i[-2:]=='대)'):\n",
    "                lst[6] = i\n",
    "            else:\n",
    "                lst[7].append(i)\n",
    "\n",
    "    c = pd.DataFrame(b)\n",
    "    d = c.values\n",
    "    for i in d:\n",
    "        for j in range(5):\n",
    "            try:\n",
    "                i[8+j] = i[7][j]\n",
    "            except:\n",
    "                0==0\n",
    "    e = pd.DataFrame(d)\n",
    "\n",
    "    e.columns = a.columns\n",
    "    #print(e.shape, a.shape)\n",
    "    f = e.drop(columns='career').drop(columns='team_lst')\n",
    "    f['batter_id'] = f['batter_id'].map(lambda x : int(x))\n",
    "    return(f)"
   ]
  },
  {
   "cell_type": "code",
   "execution_count": 5,
   "metadata": {},
   "outputs": [],
   "source": [
    "def hw_split(x,i):\n",
    "    try:\n",
    "        np.isnan(x)\n",
    "        return(x)\n",
    "    except:\n",
    "        return(int(x.split('/')[i].replace('cm','').replace('kg','')))\n",
    "    \n",
    "def position(x):\n",
    "    try:\n",
    "        posi = x.replace(')','').split('(')[0]\n",
    "        tu = x.replace(')','').split('(')[1][:2]\n",
    "        ta = x.replace(')','').split('(')[1][2:]\n",
    "    except:\n",
    "        posi = np.nan\n",
    "        tu = np.nan\n",
    "        ta = np.nan\n",
    "    return(posi,tu,ta)"
   ]
  },
  {
   "cell_type": "code",
   "execution_count": 6,
   "metadata": {},
   "outputs": [],
   "source": [
    "def tsplot(name,year,col):\n",
    "    x = RSB_DbD[(RSB_DbD['ymd'].map(lambda x: x.year) == year) & ((RSB_DbD['batter_name']==name))]\n",
    "    ts = pd.Series(x[col])\n",
    "    ts.index = x['ymd']\n",
    "    ts.plot()"
   ]
  },
  {
   "cell_type": "code",
   "execution_count": 7,
   "metadata": {},
   "outputs": [],
   "source": [
    "path_dir = os.getcwd()+'/data'\n",
    "fname =os.listdir(path_dir)\n",
    "PSB = pd.read_csv('data/' + fname[0],na_values='-')\n",
    "RSB = pd.read_csv('data/' + fname[1],na_values='-')\n",
    "RSB_DbD =pd.read_csv('data/' + fname[2],na_values='-')\n",
    "sub = pd.read_csv('data/' + fname[3],na_values='-')"
   ]
  },
  {
   "cell_type": "code",
   "execution_count": 8,
   "metadata": {},
   "outputs": [],
   "source": [
    "player_char1 = RSB.groupby(['batter_id','batter_name'])['height/weight','year_born','position','starting_salary'].apply(lambda x: x.mode())\n",
    "player_char1= player_char1.reset_index()\n",
    "player_char2 = RSB[['batter_id','batter_name','year','team']].drop_duplicates(subset='batter_id',keep='last')\n",
    "player_char3 = player_char(RSB)"
   ]
  },
  {
   "cell_type": "code",
   "execution_count": 9,
   "metadata": {},
   "outputs": [],
   "source": [
    "df = player_char1.merge(player_char2,on=['batter_id','batter_name']).merge(player_char3, on = ['batter_id','batter_name'])\n",
    "df['height'] = df['height/weight'].map(lambda x: hw_split(x,0))\n",
    "df['weight'] = df['height/weight'].map(lambda x: hw_split(x,1))\n",
    "df['posi'] = df['position'].map(lambda x: position(x)[0])\n",
    "df['tu'] = df['position'].map(lambda x: position(x)[1])\n",
    "df['ta'] = df['position'].map(lambda x: position(x)[2])\n",
    "RSB_df = df.drop(columns='height/weight').drop(columns='position')\n",
    "RSB_df['year_born'] = pd.to_datetime(RSB_df['year_born'].map(lambda x: x.replace('년 ','-').replace('월 ','-').replace('일','')))"
   ]
  },
  {
   "cell_type": "code",
   "execution_count": 10,
   "metadata": {},
   "outputs": [],
   "source": [
    "RSB_DbD['ymd'] = RSB_DbD['year'].map(str) +'-' +RSB_DbD['date'].map(lambda x: day_to_str(x))\n",
    "RSB_DbD['ymd'] = pd.to_datetime(RSB_DbD['ymd'])\n",
    "RSB_DbD = RSB_DbD.drop(columns='date').drop(columns = 'year')"
   ]
  },
  {
   "cell_type": "code",
   "execution_count": 16,
   "metadata": {},
   "outputs": [],
   "source": [
    "RSB_DbD.to_csv('Day_by_Day.csv', encoding = 'CP949',index=False)"
   ]
  },
  {
   "cell_type": "code",
   "execution_count": 12,
   "metadata": {},
   "outputs": [
    {
     "data": {
      "text/html": [
       "<div>\n",
       "<style scoped>\n",
       "    .dataframe tbody tr th:only-of-type {\n",
       "        vertical-align: middle;\n",
       "    }\n",
       "\n",
       "    .dataframe tbody tr th {\n",
       "        vertical-align: top;\n",
       "    }\n",
       "\n",
       "    .dataframe thead th {\n",
       "        text-align: right;\n",
       "    }\n",
       "</style>\n",
       "<table border=\"1\" class=\"dataframe\">\n",
       "  <thead>\n",
       "    <tr style=\"text-align: right;\">\n",
       "      <th></th>\n",
       "      <th>batter_id</th>\n",
       "      <th>batter_name</th>\n",
       "      <th>opposing_team</th>\n",
       "      <th>avg1</th>\n",
       "      <th>AB</th>\n",
       "      <th>R</th>\n",
       "      <th>H</th>\n",
       "      <th>2B</th>\n",
       "      <th>3B</th>\n",
       "      <th>HR</th>\n",
       "      <th>RBI</th>\n",
       "      <th>SB</th>\n",
       "      <th>CS</th>\n",
       "      <th>BB</th>\n",
       "      <th>HBP</th>\n",
       "      <th>SO</th>\n",
       "      <th>GDP</th>\n",
       "      <th>avg2</th>\n",
       "      <th>ymd</th>\n",
       "    </tr>\n",
       "  </thead>\n",
       "  <tbody>\n",
       "    <tr>\n",
       "      <th>0</th>\n",
       "      <td>0</td>\n",
       "      <td>가르시아</td>\n",
       "      <td>NC</td>\n",
       "      <td>0.333</td>\n",
       "      <td>3</td>\n",
       "      <td>1</td>\n",
       "      <td>1</td>\n",
       "      <td>0</td>\n",
       "      <td>0</td>\n",
       "      <td>0</td>\n",
       "      <td>0</td>\n",
       "      <td>0</td>\n",
       "      <td>0</td>\n",
       "      <td>1</td>\n",
       "      <td>0</td>\n",
       "      <td>1</td>\n",
       "      <td>0</td>\n",
       "      <td>0.333</td>\n",
       "      <td>2018-03-24</td>\n",
       "    </tr>\n",
       "    <tr>\n",
       "      <th>1</th>\n",
       "      <td>0</td>\n",
       "      <td>가르시아</td>\n",
       "      <td>NC</td>\n",
       "      <td>0.000</td>\n",
       "      <td>4</td>\n",
       "      <td>0</td>\n",
       "      <td>0</td>\n",
       "      <td>0</td>\n",
       "      <td>0</td>\n",
       "      <td>0</td>\n",
       "      <td>0</td>\n",
       "      <td>0</td>\n",
       "      <td>0</td>\n",
       "      <td>0</td>\n",
       "      <td>0</td>\n",
       "      <td>1</td>\n",
       "      <td>0</td>\n",
       "      <td>0.143</td>\n",
       "      <td>2018-03-25</td>\n",
       "    </tr>\n",
       "    <tr>\n",
       "      <th>2</th>\n",
       "      <td>0</td>\n",
       "      <td>가르시아</td>\n",
       "      <td>넥센</td>\n",
       "      <td>0.200</td>\n",
       "      <td>5</td>\n",
       "      <td>0</td>\n",
       "      <td>1</td>\n",
       "      <td>0</td>\n",
       "      <td>0</td>\n",
       "      <td>0</td>\n",
       "      <td>0</td>\n",
       "      <td>0</td>\n",
       "      <td>0</td>\n",
       "      <td>0</td>\n",
       "      <td>0</td>\n",
       "      <td>0</td>\n",
       "      <td>0</td>\n",
       "      <td>0.167</td>\n",
       "      <td>2018-03-27</td>\n",
       "    </tr>\n",
       "    <tr>\n",
       "      <th>3</th>\n",
       "      <td>0</td>\n",
       "      <td>가르시아</td>\n",
       "      <td>넥센</td>\n",
       "      <td>0.200</td>\n",
       "      <td>5</td>\n",
       "      <td>1</td>\n",
       "      <td>1</td>\n",
       "      <td>0</td>\n",
       "      <td>0</td>\n",
       "      <td>0</td>\n",
       "      <td>1</td>\n",
       "      <td>0</td>\n",
       "      <td>0</td>\n",
       "      <td>0</td>\n",
       "      <td>0</td>\n",
       "      <td>0</td>\n",
       "      <td>0</td>\n",
       "      <td>0.176</td>\n",
       "      <td>2018-03-28</td>\n",
       "    </tr>\n",
       "    <tr>\n",
       "      <th>4</th>\n",
       "      <td>0</td>\n",
       "      <td>가르시아</td>\n",
       "      <td>넥센</td>\n",
       "      <td>0.250</td>\n",
       "      <td>4</td>\n",
       "      <td>0</td>\n",
       "      <td>1</td>\n",
       "      <td>0</td>\n",
       "      <td>0</td>\n",
       "      <td>0</td>\n",
       "      <td>3</td>\n",
       "      <td>0</td>\n",
       "      <td>0</td>\n",
       "      <td>0</td>\n",
       "      <td>0</td>\n",
       "      <td>0</td>\n",
       "      <td>1</td>\n",
       "      <td>0.190</td>\n",
       "      <td>2018-03-29</td>\n",
       "    </tr>\n",
       "  </tbody>\n",
       "</table>\n",
       "</div>"
      ],
      "text/plain": [
       "   batter_id batter_name opposing_team   avg1  AB  R  H  2B  3B  HR  RBI  SB  \\\n",
       "0          0        가르시아            NC  0.333   3  1  1   0   0   0    0   0   \n",
       "1          0        가르시아            NC  0.000   4  0  0   0   0   0    0   0   \n",
       "2          0        가르시아            넥센  0.200   5  0  1   0   0   0    0   0   \n",
       "3          0        가르시아            넥센  0.200   5  1  1   0   0   0    1   0   \n",
       "4          0        가르시아            넥센  0.250   4  0  1   0   0   0    3   0   \n",
       "\n",
       "   CS  BB  HBP  SO  GDP   avg2        ymd  \n",
       "0   0   1    0   1    0  0.333 2018-03-24  \n",
       "1   0   0    0   1    0  0.143 2018-03-25  \n",
       "2   0   0    0   0    0  0.167 2018-03-27  \n",
       "3   0   0    0   0    0  0.176 2018-03-28  \n",
       "4   0   0    0   0    1  0.190 2018-03-29  "
      ]
     },
     "execution_count": 12,
     "metadata": {},
     "output_type": "execute_result"
    }
   ],
   "source": [
    "RSB_DbD.head()"
   ]
  },
  {
   "cell_type": "code",
   "execution_count": null,
   "metadata": {},
   "outputs": [],
   "source": [
    "H +2*/AB"
   ]
  },
  {
   "cell_type": "code",
   "execution_count": 20,
   "metadata": {},
   "outputs": [
    {
     "data": {
      "image/png": "[encoded data removed]",
      "text/plain": [
       "<Figure size 432x288 with 1 Axes>"
      ]
     },
     "metadata": {},
     "output_type": "display_data"
    }
   ],
   "source": [
    "##선수별 시계열 그래프0\n",
    "tsplot('러프',2018,'avg2')"
   ]
  },
  {
   "cell_type": "code",
   "execution_count": null,
   "metadata": {},
   "outputs": [],
   "source": []
  },
  {
   "cell_type": "code",
   "execution_count": 16,
   "metadata": {},
   "outputs": [
    {
     "data": {
      "text/html": [
       "<div>\n",
       "<style scoped>\n",
       "    .dataframe tbody tr th:only-of-type {\n",
       "        vertical-align: middle;\n",
       "    }\n",
       "\n",
       "    .dataframe tbody tr th {\n",
       "        vertical-align: top;\n",
       "    }\n",
       "\n",
       "    .dataframe thead th {\n",
       "        text-align: right;\n",
       "    }\n",
       "</style>\n",
       "<table border=\"1\" class=\"dataframe\">\n",
       "  <thead>\n",
       "    <tr style=\"text-align: right;\">\n",
       "      <th></th>\n",
       "      <th>batter_id</th>\n",
       "      <th>batter_name</th>\n",
       "      <th>year_born</th>\n",
       "      <th>starting_salary</th>\n",
       "      <th>year</th>\n",
       "      <th>team</th>\n",
       "      <th>e_school</th>\n",
       "      <th>m_school</th>\n",
       "      <th>h_school</th>\n",
       "      <th>col_school</th>\n",
       "      <th>team1</th>\n",
       "      <th>team2</th>\n",
       "      <th>team3</th>\n",
       "      <th>team4</th>\n",
       "      <th>team5</th>\n",
       "      <th>height</th>\n",
       "      <th>weight</th>\n",
       "      <th>posi</th>\n",
       "      <th>tu</th>\n",
       "      <th>ta</th>\n",
       "    </tr>\n",
       "  </thead>\n",
       "  <tbody>\n",
       "    <tr>\n",
       "      <th>0</th>\n",
       "      <td>0</td>\n",
       "      <td>가르시아</td>\n",
       "      <td>1985-04-12</td>\n",
       "      <td>NaN</td>\n",
       "      <td>2018</td>\n",
       "      <td>LG</td>\n",
       "      <td>NaN</td>\n",
       "      <td>NaN</td>\n",
       "      <td>NaN</td>\n",
       "      <td>쿠바 Ciego de Avila Maximo Gomez Baez(대)</td>\n",
       "      <td>NaN</td>\n",
       "      <td>NaN</td>\n",
       "      <td>NaN</td>\n",
       "      <td>NaN</td>\n",
       "      <td>NaN</td>\n",
       "      <td>177.0</td>\n",
       "      <td>93.0</td>\n",
       "      <td>내야수</td>\n",
       "      <td>우투</td>\n",
       "      <td>우타</td>\n",
       "    </tr>\n",
       "    <tr>\n",
       "      <th>1</th>\n",
       "      <td>1</td>\n",
       "      <td>강경학</td>\n",
       "      <td>1992-08-11</td>\n",
       "      <td>10000만원</td>\n",
       "      <td>2018</td>\n",
       "      <td>한화</td>\n",
       "      <td>광주대성초</td>\n",
       "      <td>광주동성중</td>\n",
       "      <td>광주동성고</td>\n",
       "      <td>NaN</td>\n",
       "      <td>NaN</td>\n",
       "      <td>NaN</td>\n",
       "      <td>NaN</td>\n",
       "      <td>NaN</td>\n",
       "      <td>NaN</td>\n",
       "      <td>180.0</td>\n",
       "      <td>72.0</td>\n",
       "      <td>내야수</td>\n",
       "      <td>우투</td>\n",
       "      <td>좌타</td>\n",
       "    </tr>\n",
       "    <tr>\n",
       "      <th>2</th>\n",
       "      <td>2</td>\n",
       "      <td>강구성</td>\n",
       "      <td>1993-06-09</td>\n",
       "      <td>9000만원</td>\n",
       "      <td>2018</td>\n",
       "      <td>NC</td>\n",
       "      <td>관산초</td>\n",
       "      <td>부천중</td>\n",
       "      <td>야탑고</td>\n",
       "      <td>NaN</td>\n",
       "      <td>NC</td>\n",
       "      <td>상무</td>\n",
       "      <td>NaN</td>\n",
       "      <td>NaN</td>\n",
       "      <td>NaN</td>\n",
       "      <td>180.0</td>\n",
       "      <td>82.0</td>\n",
       "      <td>외야수</td>\n",
       "      <td>우투</td>\n",
       "      <td>좌타</td>\n",
       "    </tr>\n",
       "    <tr>\n",
       "      <th>3</th>\n",
       "      <td>3</td>\n",
       "      <td>강민국</td>\n",
       "      <td>1992-01-10</td>\n",
       "      <td>20000만원</td>\n",
       "      <td>2018</td>\n",
       "      <td>NC</td>\n",
       "      <td>송정동초</td>\n",
       "      <td>충장중</td>\n",
       "      <td>광주제일고</td>\n",
       "      <td>동국대</td>\n",
       "      <td>NC</td>\n",
       "      <td>상무</td>\n",
       "      <td>NaN</td>\n",
       "      <td>NaN</td>\n",
       "      <td>NaN</td>\n",
       "      <td>176.0</td>\n",
       "      <td>80.0</td>\n",
       "      <td>내야수</td>\n",
       "      <td>우투</td>\n",
       "      <td>우타</td>\n",
       "    </tr>\n",
       "    <tr>\n",
       "      <th>4</th>\n",
       "      <td>4</td>\n",
       "      <td>강민호</td>\n",
       "      <td>1985-08-18</td>\n",
       "      <td>9000만원</td>\n",
       "      <td>2018</td>\n",
       "      <td>삼성</td>\n",
       "      <td>제주신광초</td>\n",
       "      <td>포철중</td>\n",
       "      <td>포철공고</td>\n",
       "      <td>(국제디지털대)</td>\n",
       "      <td>롯데</td>\n",
       "      <td>NaN</td>\n",
       "      <td>NaN</td>\n",
       "      <td>NaN</td>\n",
       "      <td>NaN</td>\n",
       "      <td>185.0</td>\n",
       "      <td>100.0</td>\n",
       "      <td>포수</td>\n",
       "      <td>우투</td>\n",
       "      <td>우타</td>\n",
       "    </tr>\n",
       "  </tbody>\n",
       "</table>\n",
       "</div>"
      ],
      "text/plain": [
       "   batter_id batter_name  year_born starting_salary  year team e_school  \\\n",
       "0          0        가르시아 1985-04-12             NaN  2018   LG      NaN   \n",
       "1          1         강경학 1992-08-11         10000만원  2018   한화    광주대성초   \n",
       "2          2         강구성 1993-06-09          9000만원  2018   NC      관산초   \n",
       "3          3         강민국 1992-01-10         20000만원  2018   NC     송정동초   \n",
       "4          4         강민호 1985-08-18          9000만원  2018   삼성    제주신광초   \n",
       "\n",
       "  m_school h_school                              col_school team1 team2 team3  \\\n",
       "0      NaN      NaN  쿠바 Ciego de Avila Maximo Gomez Baez(대)   NaN   NaN   NaN   \n",
       "1    광주동성중    광주동성고                                     NaN   NaN   NaN   NaN   \n",
       "2      부천중      야탑고                                     NaN    NC    상무   NaN   \n",
       "3      충장중    광주제일고                                     동국대    NC    상무   NaN   \n",
       "4      포철중     포철공고                                (국제디지털대)    롯데   NaN   NaN   \n",
       "\n",
       "  team4 team5  height  weight posi  tu  ta  \n",
       "0   NaN   NaN   177.0    93.0  내야수  우투  우타  \n",
       "1   NaN   NaN   180.0    72.0  내야수  우투  좌타  \n",
       "2   NaN   NaN   180.0    82.0  외야수  우투  좌타  \n",
       "3   NaN   NaN   176.0    80.0  내야수  우투  우타  \n",
       "4   NaN   NaN   185.0   100.0   포수  우투  우타  "
      ]
     },
     "execution_count": 16,
     "metadata": {},
     "output_type": "execute_result"
    }
   ],
   "source": [
    "## 선수별 개인정보\n",
    "RSB_df.head()"
   ]
  },
  {
   "cell_type": "code",
   "execution_count": 16,
   "metadata": {},
   "outputs": [
    {
     "data": {
      "text/html": [
       "<div>\n",
       "<style scoped>\n",
       "    .dataframe tbody tr th:only-of-type {\n",
       "        vertical-align: middle;\n",
       "    }\n",
       "\n",
       "    .dataframe tbody tr th {\n",
       "        vertical-align: top;\n",
       "    }\n",
       "\n",
       "    .dataframe thead th {\n",
       "        text-align: right;\n",
       "    }\n",
       "</style>\n",
       "<table border=\"1\" class=\"dataframe\">\n",
       "  <thead>\n",
       "    <tr style=\"text-align: right;\">\n",
       "      <th></th>\n",
       "      <th>batter_id</th>\n",
       "      <th>batter_name</th>\n",
       "      <th>opposing_team</th>\n",
       "      <th>avg1</th>\n",
       "      <th>AB</th>\n",
       "      <th>R</th>\n",
       "      <th>H</th>\n",
       "      <th>2B</th>\n",
       "      <th>3B</th>\n",
       "      <th>HR</th>\n",
       "      <th>RBI</th>\n",
       "      <th>SB</th>\n",
       "      <th>CS</th>\n",
       "      <th>BB</th>\n",
       "      <th>HBP</th>\n",
       "      <th>SO</th>\n",
       "      <th>GDP</th>\n",
       "      <th>avg2</th>\n",
       "      <th>ymd</th>\n",
       "    </tr>\n",
       "  </thead>\n",
       "  <tbody>\n",
       "    <tr>\n",
       "      <th>0</th>\n",
       "      <td>0</td>\n",
       "      <td>가르시아</td>\n",
       "      <td>NC</td>\n",
       "      <td>0.333</td>\n",
       "      <td>3</td>\n",
       "      <td>1</td>\n",
       "      <td>1</td>\n",
       "      <td>0</td>\n",
       "      <td>0</td>\n",
       "      <td>0</td>\n",
       "      <td>0</td>\n",
       "      <td>0</td>\n",
       "      <td>0</td>\n",
       "      <td>1</td>\n",
       "      <td>0</td>\n",
       "      <td>1</td>\n",
       "      <td>0</td>\n",
       "      <td>0.333</td>\n",
       "      <td>2018-03-24</td>\n",
       "    </tr>\n",
       "    <tr>\n",
       "      <th>1</th>\n",
       "      <td>0</td>\n",
       "      <td>가르시아</td>\n",
       "      <td>NC</td>\n",
       "      <td>0.000</td>\n",
       "      <td>4</td>\n",
       "      <td>0</td>\n",
       "      <td>0</td>\n",
       "      <td>0</td>\n",
       "      <td>0</td>\n",
       "      <td>0</td>\n",
       "      <td>0</td>\n",
       "      <td>0</td>\n",
       "      <td>0</td>\n",
       "      <td>0</td>\n",
       "      <td>0</td>\n",
       "      <td>1</td>\n",
       "      <td>0</td>\n",
       "      <td>0.143</td>\n",
       "      <td>2018-03-25</td>\n",
       "    </tr>\n",
       "    <tr>\n",
       "      <th>2</th>\n",
       "      <td>0</td>\n",
       "      <td>가르시아</td>\n",
       "      <td>넥센</td>\n",
       "      <td>0.200</td>\n",
       "      <td>5</td>\n",
       "      <td>0</td>\n",
       "      <td>1</td>\n",
       "      <td>0</td>\n",
       "      <td>0</td>\n",
       "      <td>0</td>\n",
       "      <td>0</td>\n",
       "      <td>0</td>\n",
       "      <td>0</td>\n",
       "      <td>0</td>\n",
       "      <td>0</td>\n",
       "      <td>0</td>\n",
       "      <td>0</td>\n",
       "      <td>0.167</td>\n",
       "      <td>2018-03-27</td>\n",
       "    </tr>\n",
       "    <tr>\n",
       "      <th>3</th>\n",
       "      <td>0</td>\n",
       "      <td>가르시아</td>\n",
       "      <td>넥센</td>\n",
       "      <td>0.200</td>\n",
       "      <td>5</td>\n",
       "      <td>1</td>\n",
       "      <td>1</td>\n",
       "      <td>0</td>\n",
       "      <td>0</td>\n",
       "      <td>0</td>\n",
       "      <td>1</td>\n",
       "      <td>0</td>\n",
       "      <td>0</td>\n",
       "      <td>0</td>\n",
       "      <td>0</td>\n",
       "      <td>0</td>\n",
       "      <td>0</td>\n",
       "      <td>0.176</td>\n",
       "      <td>2018-03-28</td>\n",
       "    </tr>\n",
       "    <tr>\n",
       "      <th>4</th>\n",
       "      <td>0</td>\n",
       "      <td>가르시아</td>\n",
       "      <td>넥센</td>\n",
       "      <td>0.250</td>\n",
       "      <td>4</td>\n",
       "      <td>0</td>\n",
       "      <td>1</td>\n",
       "      <td>0</td>\n",
       "      <td>0</td>\n",
       "      <td>0</td>\n",
       "      <td>3</td>\n",
       "      <td>0</td>\n",
       "      <td>0</td>\n",
       "      <td>0</td>\n",
       "      <td>0</td>\n",
       "      <td>0</td>\n",
       "      <td>1</td>\n",
       "      <td>0.190</td>\n",
       "      <td>2018-03-29</td>\n",
       "    </tr>\n",
       "  </tbody>\n",
       "</table>\n",
       "</div>"
      ],
      "text/plain": [
       "   batter_id batter_name opposing_team   avg1  AB  R  H  2B  3B  HR  RBI  SB  \\\n",
       "0          0        가르시아            NC  0.333   3  1  1   0   0   0    0   0   \n",
       "1          0        가르시아            NC  0.000   4  0  0   0   0   0    0   0   \n",
       "2          0        가르시아            넥센  0.200   5  0  1   0   0   0    0   0   \n",
       "3          0        가르시아            넥센  0.200   5  1  1   0   0   0    1   0   \n",
       "4          0        가르시아            넥센  0.250   4  0  1   0   0   0    3   0   \n",
       "\n",
       "   CS  BB  HBP  SO  GDP   avg2        ymd  \n",
       "0   0   1    0   1    0  0.333 2018-03-24  \n",
       "1   0   0    0   1    0  0.143 2018-03-25  \n",
       "2   0   0    0   0    0  0.167 2018-03-27  \n",
       "3   0   0    0   0    0  0.176 2018-03-28  \n",
       "4   0   0    0   0    1  0.190 2018-03-29  "
      ]
     },
     "execution_count": 16,
     "metadata": {},
     "output_type": "execute_result"
    }
   ],
   "source": [
    "## 일별 정보\n",
    "RSB_DbD.head()"
   ]
  },
  {
   "cell_type": "code",
   "execution_count": 17,
   "metadata": {},
   "outputs": [
    {
     "data": {
      "text/plain": [
       "<matplotlib.axes._subplots.AxesSubplot at 0x1862384dda0>"
      ]
     },
     "execution_count": 17,
     "metadata": {},
     "output_type": "execute_result"
    },
    {
     "data": {
      "image/png": "[encoded data removed]",
      "text/plain": [
       "<Figure size 432x288 with 1 Axes>"
      ]
     },
     "metadata": {},
     "output_type": "display_data"
    }
   ],
   "source": [
    "RSB[(RSB['year']==2018) & (RSB['OPS']!=0)]['OPS'].hist(bins = 30)"
   ]
  },
  {
   "cell_type": "code",
   "execution_count": 18,
   "metadata": {
    "scrolled": true
   },
   "outputs": [
    {
     "data": {
      "text/plain": [
       "<matplotlib.axes._subplots.AxesSubplot at 0x1862398b780>"
      ]
     },
     "execution_count": 18,
     "metadata": {},
     "output_type": "execute_result"
    },
    {
     "data": {
      "image/png": "[encoded data removed]",
      "text/plain": [
       "<Figure size 432x288 with 1 Axes>"
      ]
     },
     "metadata": {},
     "output_type": "display_data"
    }
   ],
   "source": [
    "RSB[(RSB['year']==2018)]['OPS'].hist(bins = 30)"
   ]
  },
  {
   "cell_type": "code",
   "execution_count": 70,
   "metadata": {},
   "outputs": [
    {
     "data": {
      "text/plain": [
       "count    216.000000\n",
       "mean      79.875000\n",
       "std       46.322511\n",
       "min        2.000000\n",
       "25%       32.750000\n",
       "50%       87.000000\n",
       "75%      124.250000\n",
       "max      144.000000\n",
       "Name: G, dtype: float64"
      ]
     },
     "execution_count": 70,
     "metadata": {},
     "output_type": "execute_result"
    }
   ],
   "source": [
    "RSB[(RSB['year']==2018) & (RSB['OPS']!=0)]['G'].describe()"
   ]
  },
  {
   "cell_type": "code",
   "execution_count": 68,
   "metadata": {},
   "outputs": [
    {
     "name": "stdout",
     "output_type": "stream",
     "text": [
      "Object `pd.hist` not found.\n"
     ]
    }
   ],
   "source": []
  },
  {
   "cell_type": "code",
   "execution_count": 47,
   "metadata": {},
   "outputs": [],
   "source": [
    "RSB[RSB['batter_id']==1].to_csv('tmp.csv',encoding='CP949')"
   ]
  },
  {
   "cell_type": "code",
   "execution_count": 63,
   "metadata": {},
   "outputs": [
    {
     "data": {
      "text/plain": [
       "array([138, 297,   6,   7,  10,  13,  14,  15,  17, 230, 122,  21,  25,\n",
       "        26,  27, 121,  29,  32, 164,  47, 177,  49,  50,  78,  60,  61,\n",
       "        80,  88,  92,  93,  94,  97,  98, 102, 106, 108, 110, 114, 118,\n",
       "       125, 128, 129, 147, 150, 155, 156, 158, 159, 168, 170, 173, 181,\n",
       "       185, 186, 189, 228, 191, 196, 197, 205, 206, 213, 214, 215, 218,\n",
       "       222, 226, 237, 328, 240, 244, 246, 248, 253, 262, 267, 268, 272,\n",
       "       280, 281, 285, 287, 289, 290, 296, 298, 299, 303, 304, 305, 306,\n",
       "       320, 321, 322, 323, 330, 333, 336, 339, 340, 343])"
      ]
     },
     "execution_count": 63,
     "metadata": {},
     "output_type": "execute_result"
    }
   ],
   "source": [
    "a = RSB[RSB['height/weight'].isna()]['batter_id'].unique()"
   ]
  },
  {
   "cell_type": "code",
   "execution_count": 72,
   "metadata": {},
   "outputs": [],
   "source": [
    "b = sub['batter_id']"
   ]
  },
  {
   "cell_type": "code",
   "execution_count": null,
   "metadata": {
    "collapsed": true
   },
   "outputs": [],
   "source": []
  }
 ],
 "metadata": {
  "kernelspec": {
   "display_name": "Python 3",
   "language": "python",
   "name": "python3"
  },
  "language_info": {
   "codemirror_mode": {
    "name": "ipython",
    "version": 3
   },
   "file_extension": ".py",
   "mimetype": "text/x-python",
   "name": "python",
   "nbconvert_exporter": "python",
   "pygments_lexer": "ipython3",
   "version": "3.6.5"
  }
 },
 "nbformat": 4,
 "nbformat_minor": 2
}
