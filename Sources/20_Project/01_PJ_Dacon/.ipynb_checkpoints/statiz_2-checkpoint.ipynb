{
 "cells": [
  {
   "cell_type": "code",
   "execution_count": 1,
   "metadata": {
    "colab": {},
    "colab_type": "code",
    "id": "h9qs55ewKMWn"
   },
   "outputs": [],
   "source": [
    "import sys\n",
    "import pandas as pd\n",
    "import numpy as np\n",
    "import requests\n",
    "from bs4 import BeautifulSoup\n",
    "import urllib.request\n"
   ]
  },
  {
   "cell_type": "code",
   "execution_count": 2,
   "metadata": {
    "colab": {},
    "colab_type": "code",
    "id": "yfVDL5CQKMWt"
   },
   "outputs": [],
   "source": [
    "def get_salary(batter_name,year_born):\n",
    "    url_main = 'http://www.statiz.co.kr/player.php?'\n",
    "    url_salary = 'opt=11' \n",
    "    url_name = '&name='+str(batter_name)\n",
    "    url_birth = '&birth='+str(year_born)\n",
    "    full_url = url_main + url_salary + url_name + url_birth\n",
    "\n",
    "    html=requests.get(full_url).text\n",
    "    soup=BeautifulSoup(html,'html.parser')\n",
    "    \n",
    "    columns=soup.select('div.box-body > table > tr > th')\n",
    "    columnlist=[]\n",
    "    for column in columns:\n",
    "        columnlist.append(column.text)\n",
    "\n",
    "    contents=soup.select('div.box-body > table > tr ')\n",
    "    dfcontent=[]\n",
    "    alldfcontents=[]\n",
    "\n",
    "    for content in contents:\n",
    "        tds=content.find_all('td')\n",
    "        for td in tds:\n",
    "            dfcontent.append(td.text)\n",
    "        alldfcontents.append(dfcontent)\n",
    "        dfcontent=[]\n",
    "    \n",
    "    df_salary=pd.DataFrame(columns=columnlist,data=alldfcontents)\n",
    "    df_salary['batter_name']=str(batter_name)\n",
    "    df_salary['year_born']=str(year_born)\n",
    "    \n",
    "    return df_salary.head()"
   ]
  },
  {
   "cell_type": "code",
   "execution_count": 3,
   "metadata": {
    "colab": {},
    "colab_type": "code",
    "id": "iZDLFNZ5KMWx"
   },
   "outputs": [],
   "source": [
    "df_RSB = pd.read_csv(r'C:\\Users\\ahn92\\Dropbox\\Sources\\Dacon_PJ\\RSB.csv',na_values='-',encoding='CP949')\n",
    "df_RSB['year_born'] = pd.to_datetime(df_RSB['year_born'].map(lambda x: x.replace('년 ','-').replace('월 ','-').replace('일','')))\n",
    "\n",
    "birth_unique=df_RSB['year_born'].unique()\n",
    "name_unique=df_RSB['batter_name'].unique()"
   ]
  },
  {
   "cell_type": "code",
   "execution_count": 18,
   "metadata": {
    "colab": {},
    "colab_type": "code",
    "id": "rOYaeHnTKMW1",
    "outputId": "b4410bf9-778e-4164-8d75-b3fe42a0a908"
   },
   "outputs": [
    {
     "name": "stdout",
     "output_type": "stream",
     "text": [
      "     연도  연봉(만원)    WAR batter_name   year_born\n",
      "0  None    None   None        가르시아  1985-04-12\n",
      "1  2018  80,000  1.278        가르시아  1985-04-12\n",
      "     연도 연봉(만원)     WAR batter_name   year_born\n",
      "0  None   None    None         강경학  1992-08-11\n",
      "1  2011          0.005         강경학  1992-08-11\n",
      "2  2014  2,400   0.053         강경학  1992-08-11\n",
      "3  2015  6,500   0.010         강경학  1992-08-11\n",
      "4  2016  6,500  -0.943         강경학  1992-08-11\n",
      "     연도 연봉(만원)     WAR batter_name   year_born\n",
      "0  None   None    None         강구성  1993-06-09\n",
      "1  2013  2,400  -0.048         강구성  1993-06-09\n",
      "2  2015  2,700  -0.020         강구성  1993-06-09\n",
      "3  2016  2,700  -0.070         강구성  1993-06-09\n",
      "4  2017  2,700   0.004         강구성  1993-06-09\n",
      "     연도 연봉(만원)     WAR batter_name   year_born\n",
      "0  None   None    None         백승룡  1982-08-16\n",
      "1  2005         -0.369         백승룡  1982-08-16\n",
      "2  2006  2,470   0.048         백승룡  1982-08-16\n",
      "3  2007  3,200  -0.087         백승룡  1982-08-16\n",
      "4  2008  2,700  -0.020         백승룡  1982-08-16\n",
      "     연도 연봉(만원)     WAR batter_name   year_born\n",
      "0  None   None    None         진갑용  1974-05-08\n",
      "1  1997  2,000   1.226         진갑용  1974-05-08\n",
      "2  1998  3,200   1.217         진갑용  1974-05-08\n",
      "3  1999  3,200  -0.168         진갑용  1974-05-08\n",
      "4  2000  5,000   2.002         진갑용  1974-05-08\n"
     ]
    }
   ],
   "source": [
    "#len(str(name_unique))\n",
    "for i in range(5):\n",
    "    print(get_salary(str(name_unique[i]),str(birth_unique[i])[0:10]))"
   ]
  },
  {
   "cell_type": "code",
   "execution_count": 15,
   "metadata": {},
   "outputs": [],
   "source": [
    "import binascii\n",
    "#binascii.b2a_hex('강경학'.encode('utf-8'))join('%')\n",
    "def strkor(name):\n",
    "    seq = str(binascii.b2a_hex(name.encode('utf-8')))[2:-1].upper()\n",
    "    length=2\n",
    "    j=''\n",
    "    for i in list(map(''.join, zip(*[iter(seq)]*length))):\n",
    "        j =  j + '%'+i\n",
    "    return(j)\n",
    "def kortohex(han):\n",
    "    a = list(map(lambda x: binascii.b2a_hex(x.encode('utf-8')),han))\n",
    "    return a"
   ]
  },
  {
   "cell_type": "code",
   "execution_count": 16,
   "metadata": {
    "colab": {},
    "colab_type": "code",
    "id": "9sJK5HNsKMW6"
   },
   "outputs": [],
   "source": [
    "def get_record(batter_name,year_born):\n",
    "    url_main = 'http://www.statiz.co.kr/player.php?'\n",
    "    url_record = 'opt=1' \n",
    "    url_name = '&name='+strkor(str(batter_name))\n",
    "    #url_name =''\n",
    "    url_birth = '&birth='+str(year_born)\n",
    "    full_url = url_main + url_record + url_name + url_birth\n",
    "    #full_url = full_url.encode('utf-8').strip()\n",
    "    print(full_url)\n",
    "    html = urllib.request.urlopen(full_url)\n",
    "    soup = BeautifulSoup(html, 'lxml', from_encoding='utf-8')\n",
    "\n",
    "    #html=requests.get(full_url).text\n",
    "    #soup=BeautifulSoup(html,'html.parser')\n",
    "\n",
    "    contents=soup.select('div.box-body > table > tr ')\n",
    "    dfcontent=[]\n",
    "    alldfcontents=[]\n",
    "\n",
    "    for content in contents:\n",
    "        tds=content.find_all('td')\n",
    "        for td in tds:\n",
    "            dfcontent.append(td.text)\n",
    "        alldfcontents.append(dfcontent)\n",
    "        dfcontent=[]\n",
    "\n",
    "    df_record=pd.DataFrame(data=alldfcontents)[2:100]\n",
    "    df_record.rename(columns={0:'year',1:'team',2:'age',3:'position',4:'g',5:'타석',6:'타수',7:'득점',8:'안타',9:'2타',10:'3타',\n",
    "                          11:'HR',12:'루타',13:'타점',14:'도루',15:'도실',16:'B4',17:'사구',18:'고4',19:'삼진',20:'병살',\n",
    "                          21:'희타',22:'희비',23:'타율',24:'출루',25:'장타',26:'OPS',27:'WOBA',28:'WRC+',29:'WAR',30:'WPA'},\n",
    "                     inplace=True)\n",
    "    return df_record.head(10)"
   ]
  },
  {
   "cell_type": "code",
   "execution_count": 17,
   "metadata": {
    "colab": {},
    "colab_type": "code",
    "id": "DNdO3wBjKMW9",
    "outputId": "34afc596-da63-4f4e-d055-89c94ee348bb"
   },
   "outputs": [
    {
     "name": "stdout",
     "output_type": "stream",
     "text": [
      "http://www.statiz.co.kr/player.php?opt=1&name=%EA%B0%95%EA%B2%BD%ED%95%99&birth=1992-08-11\n",
      "    year  team   age position     g    타석    타수    득점    안타    2타  ...    \\\n",
      "2   2011    한화    19       3B     2     1     1     0     0     0  ...     \n",
      "3   2014    한화    22       SS    41   103    86    11    19     2  ...     \n",
      "4   2015    한화    23       SS   120   376   311    50    80     7  ...     \n",
      "5   2016    한화    24       SS    46   116   101    16    16     3  ...     \n",
      "6   2017    한화    25       2B    59    93    84    17    18     2  ...     \n",
      "7   2018    한화    26       2B    77   289   245    42    68    11  ...     \n",
      "8   None  None  None     None  None  None  None  None  None  None  ...     \n",
      "9   None  None  None     None  None  None  None  None  None  None  ...     \n",
      "10     6    통산    2B      345   978   828   136   201    25    11  ...     \n",
      "\n",
      "      희타     희비     타율     출루     장타    OPS   WOBA   WRC+    WAR    WPA  \n",
      "2      0      0  0.000  0.000  0.000  0.000  0.000          0.01         \n",
      "3      2      0  0.221  0.337  0.349  0.686  0.316   65.6   0.21  -0.11  \n",
      "4     18      3  0.257  0.348  0.325  0.673  0.304   66.4   0.11  -0.32  \n",
      "5      4      1  0.158  0.232  0.257  0.490  0.223   10.5  -0.69  -1.10  \n",
      "6      0      0  0.214  0.290  0.262  0.552  0.264   44.1  -0.16  -0.81  \n",
      "7      1      1  0.278  0.382  0.392  0.774  0.353  101.4   1.38   0.77  \n",
      "8   None   None   None   None   None   None   None   None   None   None  \n",
      "9   None   None   None   None   None   None   None   None   None   None  \n",
      "10     5  0.243  0.338  0.332  0.670  0.306   69.2   0.85          None  \n",
      "\n",
      "[9 rows x 31 columns]\n"
     ]
    }
   ],
   "source": [
    " print(get_record(str(name_unique[1]),str(birth_unique[1])[0:10]))"
   ]
  },
  {
   "cell_type": "code",
   "execution_count": 5,
   "metadata": {},
   "outputs": [],
   "source": []
  },
  {
   "cell_type": "code",
   "execution_count": 40,
   "metadata": {},
   "outputs": [
    {
     "data": {
      "text/plain": [
       "[b'eab095', b'eab2bd', b'ed9599']"
      ]
     },
     "execution_count": 40,
     "metadata": {},
     "output_type": "execute_result"
    }
   ],
   "source": [
    "kortohex('강경학')"
   ]
  },
  {
   "cell_type": "code",
   "execution_count": 12,
   "metadata": {},
   "outputs": [],
   "source": []
  },
  {
   "cell_type": "code",
   "execution_count": 9,
   "metadata": {},
   "outputs": [],
   "source": []
  },
  {
   "cell_type": "code",
   "execution_count": 57,
   "metadata": {},
   "outputs": [
    {
     "data": {
      "text/plain": [
       "'%EA%B0%95%EA%B2%BD%ED%95%99'"
      ]
     },
     "execution_count": 57,
     "metadata": {},
     "output_type": "execute_result"
    }
   ],
   "source": [
    "strkor('강경학')"
   ]
  },
  {
   "cell_type": "code",
   "execution_count": 8,
   "metadata": {
    "colab": {},
    "colab_type": "code",
    "id": "qDu5ccZNKMXB"
   },
   "outputs": [],
   "source": [
    "def get_scehdule(batter_name, year_born, team, year):\n",
    "    url_main = 'http://www.statiz.co.kr/player.php?'\n",
    "    url_scehdule = 'opt=3&sopt=0' \n",
    "    url_name = '&name='+str(batter_name)\n",
    "    url_birth = '&birth='+str(year_born)+'&re=0&se=&da=&year='+str(year)+'&cv='\n",
    "    full_url = url_main + url_scehdule + url_name + url_birth\n",
    "\n",
    "    html=requests.get(full_url).text\n",
    "    soup=BeautifulSoup(html,'html.parser')\n",
    "\n",
    "    #html = urllib.request.urlopen(full_url)\n",
    "    #soup = BeautifulSoup(html, 'lxml', from_encoding='utf-8')\n",
    "\n",
    "    contents=soup.select('div.box-body > table > tr ')\n",
    "    dfcontent=[]\n",
    "    alldfcontents=[]\n",
    "\n",
    "    for content in contents:\n",
    "        tds=content.find_all('td')\n",
    "        for td in tds:\n",
    "            dfcontent.append(td.text)\n",
    "            alldfcontents.append(dfcontent)\n",
    "            dfcontent=[]\n",
    "    \n",
    "    df2=pd.DataFrame(data=alldfcontents)\n",
    "    df2['year']=str(year)\n",
    "    df2['team']=str(team)\n",
    "    df2.rename(columns={0:'date',1:'opposing'}, inplace=True)\n",
    "    df3=df2[['year','date','team','opposing']]\n",
    "    return df3.head()"
   ]
  },
  {
   "cell_type": "code",
   "execution_count": 9,
   "metadata": {
    "colab": {},
    "colab_type": "code",
    "id": "4GQ4QreNKMXF",
    "outputId": "1bdedd96-5544-49a9-d02b-86fc4a883e97"
   },
   "outputs": [
    {
     "ename": "NameError",
     "evalue": "name 'df3' is not defined",
     "output_type": "error",
     "traceback": [
      "\u001b[1;31m---------------------------------------------------------------------------\u001b[0m",
      "\u001b[1;31mNameError\u001b[0m                                 Traceback (most recent call last)",
      "\u001b[1;32m<ipython-input-9-88ce1073d687>\u001b[0m in \u001b[0;36m<module>\u001b[1;34m()\u001b[0m\n\u001b[1;32m----> 1\u001b[1;33m \u001b[0mdf3\u001b[0m\u001b[1;33m.\u001b[0m\u001b[0mhead\u001b[0m\u001b[1;33m(\u001b[0m\u001b[1;33m)\u001b[0m\u001b[1;33m\u001b[0m\u001b[0m\n\u001b[0m",
      "\u001b[1;31mNameError\u001b[0m: name 'df3' is not defined"
     ]
    }
   ],
   "source": [
    "df3.head()"
   ]
  },
  {
   "cell_type": "code",
   "execution_count": 0,
   "metadata": {
    "colab": {},
    "colab_type": "code",
    "id": "ADU378AEKMXJ"
   },
   "outputs": [],
   "source": [
    "df2['year']='2018'\n",
    "df2['team']='한화'\n",
    "df2['batter_name']='강경학'"
   ]
  },
  {
   "cell_type": "code",
   "execution_count": 10,
   "metadata": {
    "colab": {},
    "colab_type": "code",
    "id": "FwyGvejiKMXM",
    "outputId": "553ed09a-8dbc-46b6-96ab-df3d337e44a2"
   },
   "outputs": [
    {
     "ename": "KeyError",
     "evalue": "\"['opposing'] not in index\"",
     "output_type": "error",
     "traceback": [
      "\u001b[1;31m---------------------------------------------------------------------------\u001b[0m",
      "\u001b[1;31mKeyError\u001b[0m                                  Traceback (most recent call last)",
      "\u001b[1;32m<ipython-input-10-bb3cb1f7ffc2>\u001b[0m in \u001b[0;36m<module>\u001b[1;34m()\u001b[0m\n\u001b[1;32m----> 1\u001b[1;33m \u001b[0mget_scehdule\u001b[0m\u001b[1;33m(\u001b[0m\u001b[1;34m'강경학'\u001b[0m\u001b[1;33m,\u001b[0m \u001b[1;34m'1992-08-11'\u001b[0m\u001b[1;33m,\u001b[0m \u001b[1;34m'한화'\u001b[0m\u001b[1;33m,\u001b[0m \u001b[1;34m'2018'\u001b[0m\u001b[1;33m)\u001b[0m\u001b[1;33m\u001b[0m\u001b[0m\n\u001b[0m",
      "\u001b[1;32m<ipython-input-8-fc9e7ddd72df>\u001b[0m in \u001b[0;36mget_scehdule\u001b[1;34m(batter_name, year_born, team, year)\u001b[0m\n\u001b[0;32m     27\u001b[0m     \u001b[0mdf2\u001b[0m\u001b[1;33m[\u001b[0m\u001b[1;34m'team'\u001b[0m\u001b[1;33m]\u001b[0m\u001b[1;33m=\u001b[0m\u001b[0mstr\u001b[0m\u001b[1;33m(\u001b[0m\u001b[0mteam\u001b[0m\u001b[1;33m)\u001b[0m\u001b[1;33m\u001b[0m\u001b[0m\n\u001b[0;32m     28\u001b[0m     \u001b[0mdf2\u001b[0m\u001b[1;33m.\u001b[0m\u001b[0mrename\u001b[0m\u001b[1;33m(\u001b[0m\u001b[0mcolumns\u001b[0m\u001b[1;33m=\u001b[0m\u001b[1;33m{\u001b[0m\u001b[1;36m0\u001b[0m\u001b[1;33m:\u001b[0m\u001b[1;34m'date'\u001b[0m\u001b[1;33m,\u001b[0m\u001b[1;36m1\u001b[0m\u001b[1;33m:\u001b[0m\u001b[1;34m'opposing'\u001b[0m\u001b[1;33m}\u001b[0m\u001b[1;33m,\u001b[0m \u001b[0minplace\u001b[0m\u001b[1;33m=\u001b[0m\u001b[1;32mTrue\u001b[0m\u001b[1;33m)\u001b[0m\u001b[1;33m\u001b[0m\u001b[0m\n\u001b[1;32m---> 29\u001b[1;33m     \u001b[0mdf3\u001b[0m\u001b[1;33m=\u001b[0m\u001b[0mdf2\u001b[0m\u001b[1;33m[\u001b[0m\u001b[1;33m[\u001b[0m\u001b[1;34m'year'\u001b[0m\u001b[1;33m,\u001b[0m\u001b[1;34m'date'\u001b[0m\u001b[1;33m,\u001b[0m\u001b[1;34m'team'\u001b[0m\u001b[1;33m,\u001b[0m\u001b[1;34m'opposing'\u001b[0m\u001b[1;33m]\u001b[0m\u001b[1;33m]\u001b[0m\u001b[1;33m\u001b[0m\u001b[0m\n\u001b[0m\u001b[0;32m     30\u001b[0m     \u001b[1;32mreturn\u001b[0m \u001b[0mdf3\u001b[0m\u001b[1;33m.\u001b[0m\u001b[0mhead\u001b[0m\u001b[1;33m(\u001b[0m\u001b[1;33m)\u001b[0m\u001b[1;33m\u001b[0m\u001b[0m\n",
      "\u001b[1;32mC:\\ProgramData\\Anaconda3\\lib\\site-packages\\pandas\\core\\frame.py\u001b[0m in \u001b[0;36m__getitem__\u001b[1;34m(self, key)\u001b[0m\n\u001b[0;32m   2677\u001b[0m         \u001b[1;32mif\u001b[0m \u001b[0misinstance\u001b[0m\u001b[1;33m(\u001b[0m\u001b[0mkey\u001b[0m\u001b[1;33m,\u001b[0m \u001b[1;33m(\u001b[0m\u001b[0mSeries\u001b[0m\u001b[1;33m,\u001b[0m \u001b[0mnp\u001b[0m\u001b[1;33m.\u001b[0m\u001b[0mndarray\u001b[0m\u001b[1;33m,\u001b[0m \u001b[0mIndex\u001b[0m\u001b[1;33m,\u001b[0m \u001b[0mlist\u001b[0m\u001b[1;33m)\u001b[0m\u001b[1;33m)\u001b[0m\u001b[1;33m:\u001b[0m\u001b[1;33m\u001b[0m\u001b[0m\n\u001b[0;32m   2678\u001b[0m             \u001b[1;31m# either boolean or fancy integer index\u001b[0m\u001b[1;33m\u001b[0m\u001b[1;33m\u001b[0m\u001b[0m\n\u001b[1;32m-> 2679\u001b[1;33m             \u001b[1;32mreturn\u001b[0m \u001b[0mself\u001b[0m\u001b[1;33m.\u001b[0m\u001b[0m_getitem_array\u001b[0m\u001b[1;33m(\u001b[0m\u001b[0mkey\u001b[0m\u001b[1;33m)\u001b[0m\u001b[1;33m\u001b[0m\u001b[0m\n\u001b[0m\u001b[0;32m   2680\u001b[0m         \u001b[1;32melif\u001b[0m \u001b[0misinstance\u001b[0m\u001b[1;33m(\u001b[0m\u001b[0mkey\u001b[0m\u001b[1;33m,\u001b[0m \u001b[0mDataFrame\u001b[0m\u001b[1;33m)\u001b[0m\u001b[1;33m:\u001b[0m\u001b[1;33m\u001b[0m\u001b[0m\n\u001b[0;32m   2681\u001b[0m             \u001b[1;32mreturn\u001b[0m \u001b[0mself\u001b[0m\u001b[1;33m.\u001b[0m\u001b[0m_getitem_frame\u001b[0m\u001b[1;33m(\u001b[0m\u001b[0mkey\u001b[0m\u001b[1;33m)\u001b[0m\u001b[1;33m\u001b[0m\u001b[0m\n",
      "\u001b[1;32mC:\\ProgramData\\Anaconda3\\lib\\site-packages\\pandas\\core\\frame.py\u001b[0m in \u001b[0;36m_getitem_array\u001b[1;34m(self, key)\u001b[0m\n\u001b[0;32m   2721\u001b[0m             \u001b[1;32mreturn\u001b[0m \u001b[0mself\u001b[0m\u001b[1;33m.\u001b[0m\u001b[0m_take\u001b[0m\u001b[1;33m(\u001b[0m\u001b[0mindexer\u001b[0m\u001b[1;33m,\u001b[0m \u001b[0maxis\u001b[0m\u001b[1;33m=\u001b[0m\u001b[1;36m0\u001b[0m\u001b[1;33m)\u001b[0m\u001b[1;33m\u001b[0m\u001b[0m\n\u001b[0;32m   2722\u001b[0m         \u001b[1;32melse\u001b[0m\u001b[1;33m:\u001b[0m\u001b[1;33m\u001b[0m\u001b[0m\n\u001b[1;32m-> 2723\u001b[1;33m             \u001b[0mindexer\u001b[0m \u001b[1;33m=\u001b[0m \u001b[0mself\u001b[0m\u001b[1;33m.\u001b[0m\u001b[0mloc\u001b[0m\u001b[1;33m.\u001b[0m\u001b[0m_convert_to_indexer\u001b[0m\u001b[1;33m(\u001b[0m\u001b[0mkey\u001b[0m\u001b[1;33m,\u001b[0m \u001b[0maxis\u001b[0m\u001b[1;33m=\u001b[0m\u001b[1;36m1\u001b[0m\u001b[1;33m)\u001b[0m\u001b[1;33m\u001b[0m\u001b[0m\n\u001b[0m\u001b[0;32m   2724\u001b[0m             \u001b[1;32mreturn\u001b[0m \u001b[0mself\u001b[0m\u001b[1;33m.\u001b[0m\u001b[0m_take\u001b[0m\u001b[1;33m(\u001b[0m\u001b[0mindexer\u001b[0m\u001b[1;33m,\u001b[0m \u001b[0maxis\u001b[0m\u001b[1;33m=\u001b[0m\u001b[1;36m1\u001b[0m\u001b[1;33m)\u001b[0m\u001b[1;33m\u001b[0m\u001b[0m\n\u001b[0;32m   2725\u001b[0m \u001b[1;33m\u001b[0m\u001b[0m\n",
      "\u001b[1;32mC:\\ProgramData\\Anaconda3\\lib\\site-packages\\pandas\\core\\indexing.py\u001b[0m in \u001b[0;36m_convert_to_indexer\u001b[1;34m(self, obj, axis, is_setter)\u001b[0m\n\u001b[0;32m   1325\u001b[0m                 \u001b[1;32mif\u001b[0m \u001b[0mmask\u001b[0m\u001b[1;33m.\u001b[0m\u001b[0many\u001b[0m\u001b[1;33m(\u001b[0m\u001b[1;33m)\u001b[0m\u001b[1;33m:\u001b[0m\u001b[1;33m\u001b[0m\u001b[0m\n\u001b[0;32m   1326\u001b[0m                     raise KeyError('{mask} not in index'\n\u001b[1;32m-> 1327\u001b[1;33m                                    .format(mask=objarr[mask]))\n\u001b[0m\u001b[0;32m   1328\u001b[0m \u001b[1;33m\u001b[0m\u001b[0m\n\u001b[0;32m   1329\u001b[0m                 \u001b[1;32mreturn\u001b[0m \u001b[0mcom\u001b[0m\u001b[1;33m.\u001b[0m\u001b[0m_values_from_object\u001b[0m\u001b[1;33m(\u001b[0m\u001b[0mindexer\u001b[0m\u001b[1;33m)\u001b[0m\u001b[1;33m\u001b[0m\u001b[0m\n",
      "\u001b[1;31mKeyError\u001b[0m: \"['opposing'] not in index\""
     ]
    }
   ],
   "source": [
    "get_scehdule('강경학', '1992-08-11', '한화', '2018')"
   ]
  },
  {
   "cell_type": "code",
   "execution_count": 0,
   "metadata": {
    "colab": {},
    "colab_type": "code",
    "id": "3D5E3iRgKMXQ"
   },
   "outputs": [],
   "source": []
  }
 ],
 "metadata": {
  "colab": {
   "collapsed_sections": [],
   "name": "statiz_2.ipynb",
   "provenance": [],
   "version": "0.3.2"
  },
  "kernelspec": {
   "display_name": "Python 3",
   "language": "python",
   "name": "python3"
  },
  "language_info": {
   "codemirror_mode": {
    "name": "ipython",
    "version": 3
   },
   "file_extension": ".py",
   "mimetype": "text/x-python",
   "name": "python",
   "nbconvert_exporter": "python",
   "pygments_lexer": "ipython3",
   "version": "3.6.5"
  }
 },
 "nbformat": 4,
 "nbformat_minor": 1
}
