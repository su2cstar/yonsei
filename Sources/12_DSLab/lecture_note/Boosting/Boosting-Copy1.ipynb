{
 "cells": [
  {
   "cell_type": "code",
   "execution_count": 1,
   "metadata": {
    "collapsed": true
   },
   "outputs": [],
   "source": [
    "import numpy as np\n",
    "import matplotlib.pyplot as plt\n",
    "from sklearn.tree import DecisionTreeRegressor"
   ]
  },
  {
   "cell_type": "code",
   "execution_count": 2,
   "metadata": {
    "collapsed": true
   },
   "outputs": [],
   "source": [
    "%matplotlib inline"
   ]
  },
  {
   "cell_type": "code",
   "execution_count": 3,
   "metadata": {
    "collapsed": true
   },
   "outputs": [],
   "source": [
    "def f(x,sd):\n",
    "    return np.sin(x)+np.random.rand(1)*sd"
   ]
  },
  {
   "cell_type": "code",
   "execution_count": 4,
   "metadata": {
    "collapsed": true
   },
   "outputs": [],
   "source": [
    "np.random.seed(123)\n",
    "# x : 0 ~ 10 \n",
    "x = np.array([x*0.1 for x in range(0,100)])\n",
    "y = np.array(list(map(lambda x:f(x,1), x)))"
   ]
  },
  {
   "cell_type": "markdown",
   "metadata": {},
   "source": [
    "## Target Data"
   ]
  },
  {
   "cell_type": "code",
   "execution_count": 5,
   "metadata": {},
   "outputs": [
    {
     "data": {
      "image/png": "[encoded data removed]",
      "text/plain": [
       "<matplotlib.figure.Figure at 0x10c3ddb70>"
      ]
     },
     "metadata": {},
     "output_type": "display_data"
    }
   ],
   "source": [
    "plt.scatter(x,y)\n",
    "plt.show()"
   ]
  },
  {
   "cell_type": "markdown",
   "metadata": {},
   "source": [
    "## Fit the first tree"
   ]
  },
  {
   "cell_type": "code",
   "execution_count": 6,
   "metadata": {
    "collapsed": true
   },
   "outputs": [],
   "source": [
    "x=x.reshape(-1,1)\n",
    "y=y.reshape(-1)"
   ]
  },
  {
   "cell_type": "code",
   "execution_count": 7,
   "metadata": {},
   "outputs": [
    {
     "data": {
      "text/plain": [
       "DecisionTreeRegressor(criterion='mse', max_depth=1, max_features=None,\n",
       "           max_leaf_nodes=None, min_impurity_decrease=0.0,\n",
       "           min_impurity_split=None, min_samples_leaf=1,\n",
       "           min_samples_split=2, min_weight_fraction_leaf=0.0,\n",
       "           presort=False, random_state=None, splitter='best')"
      ]
     },
     "execution_count": 7,
     "metadata": {},
     "output_type": "execute_result"
    }
   ],
   "source": [
    "# This is a stump model\n",
    "DT1 = DecisionTreeRegressor(max_depth=1)\n",
    "DT1.fit(x,y)"
   ]
  },
  {
   "cell_type": "code",
   "execution_count": 8,
   "metadata": {
    "collapsed": true
   },
   "outputs": [],
   "source": [
    "y1_pred = DT1.predict(x)\n",
    "r1 = y.reshape(-1,) - y1_pred"
   ]
  },
  {
   "cell_type": "code",
   "execution_count": 10,
   "metadata": {},
   "outputs": [
    {
     "data": {
      "text/plain": [
       "array([ 1.2076851 ,  1.2076851 ,  1.2076851 ,  1.2076851 ,  1.2076851 ,\n",
       "        1.2076851 ,  1.2076851 ,  1.2076851 ,  1.2076851 ,  1.2076851 ,\n",
       "        1.2076851 ,  1.2076851 ,  1.2076851 ,  1.2076851 ,  1.2076851 ,\n",
       "        1.2076851 ,  1.2076851 ,  1.2076851 ,  1.2076851 ,  1.2076851 ,\n",
       "        1.2076851 ,  1.2076851 ,  1.2076851 ,  1.2076851 ,  1.2076851 ,\n",
       "        1.2076851 ,  1.2076851 ,  0.49565463,  0.49565463,  0.49565463,\n",
       "        0.49565463,  0.49565463,  0.49565463,  0.49565463,  0.49565463,\n",
       "        0.49565463,  0.49565463,  0.49565463,  0.49565463,  0.49565463,\n",
       "        0.49565463,  0.49565463,  0.49565463,  0.49565463,  0.49565463,\n",
       "        0.49565463,  0.49565463,  0.49565463,  0.49565463,  0.49565463,\n",
       "        0.49565463,  0.49565463,  0.49565463,  0.49565463,  0.49565463,\n",
       "        0.49565463,  0.49565463,  0.49565463,  0.49565463,  0.49565463,\n",
       "        0.49565463,  0.49565463,  0.49565463,  0.49565463,  0.49565463,\n",
       "        0.49565463,  0.49565463,  0.49565463,  0.49565463,  0.49565463,\n",
       "        0.49565463,  0.49565463,  0.49565463,  0.49565463,  0.49565463,\n",
       "        0.49565463,  0.49565463,  0.49565463,  0.49565463,  0.49565463,\n",
       "        0.49565463,  0.49565463,  0.49565463,  0.49565463,  0.49565463,\n",
       "        0.49565463,  0.49565463,  0.49565463,  0.49565463,  0.49565463,\n",
       "        0.49565463,  0.49565463,  0.49565463,  0.49565463,  0.49565463,\n",
       "        0.49565463,  0.49565463,  0.49565463,  0.49565463,  0.49565463])"
      ]
     },
     "execution_count": 10,
     "metadata": {},
     "output_type": "execute_result"
    }
   ],
   "source": [
    "y1_pred"
   ]
  },
  {
   "cell_type": "markdown",
   "metadata": {},
   "source": [
    "## Target Data and Predicted Data"
   ]
  },
  {
   "cell_type": "markdown",
   "metadata": {},
   "source": [
    "A stump shows a lack of smootheness."
   ]
  },
  {
   "cell_type": "code",
   "execution_count": 11,
   "metadata": {},
   "outputs": [
    {
     "data": {
      "text/plain": [
       "[<matplotlib.lines.Line2D at 0x10c5a9e10>]"
      ]
     },
     "execution_count": 11,
     "metadata": {},
     "output_type": "execute_result"
    },
    {
     "data": {
      "image/png": "[encoded data removed]",
      "text/plain": [
       "<matplotlib.figure.Figure at 0x10c5a9fd0>"
      ]
     },
     "metadata": {},
     "output_type": "display_data"
    }
   ],
   "source": [
    "plt.scatter(x,y)\n",
    "plt.plot(x,y1_pred,color='red')"
   ]
  },
  {
   "cell_type": "markdown",
   "metadata": {},
   "source": [
    "## Residual plot"
   ]
  },
  {
   "cell_type": "markdown",
   "metadata": {},
   "source": [
    "A pattern exists yet."
   ]
  },
  {
   "cell_type": "code",
   "execution_count": 12,
   "metadata": {},
   "outputs": [
    {
     "data": {
      "text/plain": [
       "<matplotlib.collections.PathCollection at 0x10c6b2c50>"
      ]
     },
     "execution_count": 12,
     "metadata": {},
     "output_type": "execute_result"
    },
    {
     "data": {
      "image/png": "[encoded data removed]",
      "text/plain": [
       "<matplotlib.figure.Figure at 0x10c5a9a58>"
      ]
     },
     "metadata": {},
     "output_type": "display_data"
    }
   ],
   "source": [
    "plt.scatter(x.reshape(-1,),r1.reshape(-1,), color='green')"
   ]
  },
  {
   "cell_type": "markdown",
   "metadata": {},
   "source": [
    "## Construct second tree on the residual"
   ]
  },
  {
   "cell_type": "code",
   "execution_count": 13,
   "metadata": {},
   "outputs": [
    {
     "data": {
      "text/plain": [
       "DecisionTreeRegressor(criterion='mse', max_depth=1, max_features=None,\n",
       "           max_leaf_nodes=None, min_impurity_decrease=0.0,\n",
       "           min_impurity_split=None, min_samples_leaf=1,\n",
       "           min_samples_split=2, min_weight_fraction_leaf=0.0,\n",
       "           presort=False, random_state=None, splitter='best')"
      ]
     },
     "execution_count": 13,
     "metadata": {},
     "output_type": "execute_result"
    }
   ],
   "source": [
    "DT2 = DecisionTreeRegressor(max_depth=1)\n",
    "DT2.fit(x,r1)"
   ]
  },
  {
   "cell_type": "code",
   "execution_count": 14,
   "metadata": {
    "collapsed": true
   },
   "outputs": [],
   "source": [
    "y2_pred = DT2.predict(x)\n",
    "r2 = r1 - y2_pred"
   ]
  },
  {
   "cell_type": "markdown",
   "metadata": {},
   "source": [
    "## Second predicted values and residuals of first stage"
   ]
  },
  {
   "cell_type": "code",
   "execution_count": 15,
   "metadata": {},
   "outputs": [
    {
     "data": {
      "text/plain": [
       "[<matplotlib.lines.Line2D at 0x10c690c88>]"
      ]
     },
     "execution_count": 15,
     "metadata": {},
     "output_type": "execute_result"
    },
    {
     "data": {
      "image/png": "[encoded data removed]",
      "text/plain": [
       "<matplotlib.figure.Figure at 0x10c5d9668>"
      ]
     },
     "metadata": {},
     "output_type": "display_data"
    }
   ],
   "source": [
    "plt.scatter(x,r1)\n",
    "plt.plot(x,y2_pred,color='red')"
   ]
  },
  {
   "cell_type": "markdown",
   "metadata": {},
   "source": [
    "## Predicted values of boosting when $H=2$"
   ]
  },
  {
   "cell_type": "code",
   "execution_count": 16,
   "metadata": {},
   "outputs": [
    {
     "data": {
      "text/plain": [
       "[<matplotlib.lines.Line2D at 0x10c78aa58>]"
      ]
     },
     "execution_count": 16,
     "metadata": {},
     "output_type": "execute_result"
    },
    {
     "data": {
      "image/png": "[encoded data removed]",
      "text/plain": [
       "<matplotlib.figure.Figure at 0x10c78a9e8>"
      ]
     },
     "metadata": {},
     "output_type": "display_data"
    }
   ],
   "source": [
    "plt.scatter(x,y)\n",
    "plt.plot(x,y1_pred+y2_pred,color='red')"
   ]
  },
  {
   "cell_type": "markdown",
   "metadata": {},
   "source": [
    "## Likewise, let's make a simple boosting model using stump!"
   ]
  },
  {
   "cell_type": "markdown",
   "metadata": {},
   "source": [
    "- This is the forward stagewise additive modeling.\n",
    "- I skiped the weight paramters averaging weak models for simplicity."
   ]
  },
  {
   "cell_type": "code",
   "execution_count": 17,
   "metadata": {
    "collapsed": true
   },
   "outputs": [],
   "source": [
    "def Boosting_stump(x, y, H):\n",
    "    DT_dict = {}\n",
    "    y_pred_dict = {}\n",
    "    for iters in range(H):\n",
    "        stump = DecisionTreeRegressor(max_depth=1)\n",
    "        stump.fit(x,y)\n",
    "        y_pred = stump.predict(x)\n",
    "        y_pred_dict[iters] = y_pred\n",
    "        residual = y-y_pred\n",
    "        y = residual\n",
    "        DT_dict[iters] = stump\n",
    "    return y_pred_dict"
   ]
  },
  {
   "cell_type": "code",
   "execution_count": 18,
   "metadata": {
    "collapsed": true
   },
   "outputs": [],
   "source": [
    "temp_y = y.copy()"
   ]
  },
  {
   "cell_type": "code",
   "execution_count": 19,
   "metadata": {
    "collapsed": true
   },
   "outputs": [],
   "source": [
    "y_pred_dict = Boosting_stump(x, temp_y, 1000)"
   ]
  },
  {
   "cell_type": "markdown",
   "metadata": {},
   "source": [
    "- visualization"
   ]
  },
  {
   "cell_type": "code",
   "execution_count": 20,
   "metadata": {
    "collapsed": true
   },
   "outputs": [],
   "source": [
    "def sum_of_pred(y_pred_dict, iters):\n",
    "    sum_of_pred = np.zeros(len(y_pred_dict[0]))\n",
    "    for num in range(iters):\n",
    "        sum_of_pred = sum_of_pred + y_pred_dict[num]\n",
    "    return(sum_of_pred)"
   ]
  },
  {
   "cell_type": "code",
   "execution_count": 21,
   "metadata": {},
   "outputs": [
    {
     "data": {
      "image/png": "[encoded data removed]",
      "text/plain": [
       "<matplotlib.figure.Figure at 0x10c851128>"
      ]
     },
     "metadata": {},
     "output_type": "display_data"
    },
    {
     "data": {
      "image/png": "[encoded data removed]",
      "text/plain": [
       "<matplotlib.figure.Figure at 0x10c7079e8>"
      ]
     },
     "metadata": {},
     "output_type": "display_data"
    },
    {
     "data": {
      "image/png": "[encoded data removed]",
      "text/plain": [
       "<matplotlib.figure.Figure at 0x10c836a58>"
      ]
     },
     "metadata": {},
     "output_type": "display_data"
    },
    {
     "data": {
      "image/png": "[encoded data removed]",
      "text/plain": [
       "<matplotlib.figure.Figure at 0x10caa29e8>"
      ]
     },
     "metadata": {},
     "output_type": "display_data"
    },
    {
     "data": {
      "image/png": "[encoded data removed]",
      "text/plain": [
       "<matplotlib.figure.Figure at 0x10c9fbc50>"
      ]
     },
     "metadata": {},
     "output_type": "display_data"
    },
    {
     "data": {
      "image/png": "[encoded data removed]",
      "text/plain": [
       "<matplotlib.figure.Figure at 0x10cc1c4a8>"
      ]
     },
     "metadata": {},
     "output_type": "display_data"
    }
   ],
   "source": [
    "for show in [1,5,10,100,500,999]:\n",
    "    plt.scatter(x,y)\n",
    "    plt.plot(x,sum_of_pred(y_pred_dict, show),color='red')\n",
    "    plt.show()"
   ]
  },
  {
   "cell_type": "markdown",
   "metadata": {},
   "source": [
    "- This is a major concept of Boosting!\n",
    "- You can recognize that a boosting model is easy to have **overfitting!**\n",
    "- The number of trees, $H$, is an important tunining parameter."
   ]
  },
  {
   "cell_type": "markdown",
   "metadata": {},
   "source": [
    "### Practice\n",
    "- Construct a simple boosting model using simple linear regression.\n",
    "- And, report differences when the stump is used instead."
   ]
  },
  {
   "cell_type": "markdown",
   "metadata": {},
   "source": [
    "# AdaBoost"
   ]
  },
  {
   "cell_type": "code",
   "execution_count": 25,
   "metadata": {
    "collapsed": true
   },
   "outputs": [],
   "source": [
    "from sklearn.ensemble import AdaBoostClassifier\n",
    "from sklearn.ensemble import AdaBoostRegressor"
   ]
  },
  {
   "cell_type": "markdown",
   "metadata": {},
   "source": [
    "# Gradient Boosting"
   ]
  },
  {
   "cell_type": "code",
   "execution_count": 26,
   "metadata": {
    "collapsed": true
   },
   "outputs": [],
   "source": [
    "from sklearn.ensemble import GradientBoostingClassifier\n",
    "from sklearn.ensemble import GradientBoostingRegressor"
   ]
  },
  {
   "cell_type": "code",
   "execution_count": 27,
   "metadata": {
    "collapsed": true
   },
   "outputs": [],
   "source": [
    "?GradientBoostingRegressor"
   ]
  },
  {
   "cell_type": "markdown",
   "metadata": {},
   "source": [
    "# XGBoost"
   ]
  },
  {
   "cell_type": "raw",
   "metadata": {},
   "source": [
    "!pip install xgboost"
   ]
  },
  {
   "cell_type": "code",
   "execution_count": 28,
   "metadata": {},
   "outputs": [
    {
     "name": "stdout",
     "output_type": "stream",
     "text": [
      "Collecting xgboost\n",
      "  Using cached https://files.pythonhosted.org/packages/4f/4c/4969b10939c4557ae46e5569d07c0c7ce772b3d6b9c1401a6ed07059fdee/xgboost-0.81.tar.gz\n",
      "    Complete output from command python setup.py egg_info:\n",
      "    ++ pwd\n",
      "    + oldpath=/private/var/folders/y1/1sd072rd2h159qz2xrp00mnh0000gp/T/pip-build-cav9441m/xgboost\n",
      "    + cd ./xgboost/\n",
      "    + echo darwin17\n",
      "    + grep -q darwin\n",
      "    + LIB_XGBOOST=libxgboost.dylib\n",
      "    + which g++-5\n",
      "    + which g++-7\n",
      "    + which clang++\n",
      "    /usr/bin/clang++\n",
      "    + export CC=clang\n",
      "    + CC=clang\n",
      "    + export CXX=clang++\n",
      "    + CXX=clang++\n",
      "    + make clean\n",
      "    Makefile:31: MAKE [/Applications/Xcode.app/Contents/Developer/usr/bin/make] - checked OK\n",
      "    rm -f -rf build build_plugin lib bin *~ */*~ */*/*~ */*/*/*~ */*.o */*/*.o */*/*/*.o #xgboost\n",
      "    rm -f -rf build_tests *.gcov tests/cpp/xgboost_test\n",
      "    if [ -d \"R-package/src\" ]; then \\\n",
      "    \t\tcd R-package/src; \\\n",
      "    \t\trm -f -rf rabit src include dmlc-core amalgamation *.so *.dll; \\\n",
      "    \t\tcd /private/var/folders/y1/1sd072rd2h159qz2xrp00mnh0000gp/T/pip-build-cav9441m/xgboost/xgboost; \\\n",
      "    \tfi\n",
      "    + make lib/libxgboost.dylib -j4\n",
      "    Makefile:31: MAKE [/Applications/Xcode.app/Contents/Developer/usr/bin/make] - checked OK\n",
      "    clang++ -DDMLC_LOG_CUSTOMIZE=1 -std=c++11 -Wall -Wno-unknown-pragmas -Iinclude   -Idmlc-core/include -Irabit/include -I/include -O3 -funroll-loops -msse2 -fPIC -fopenmp -MM -MT build/learner.o src/learner.cc >build/learner.d\n",
      "    clang++ -DDMLC_LOG_CUSTOMIZE=1 -std=c++11 -Wall -Wno-unknown-pragmas -Iinclude   -Idmlc-core/include -Irabit/include -I/include -O3 -funroll-loops -msse2 -fPIC -fopenmp -MM -MT build/logging.o src/logging.cc >build/logging.d\n",
      "    clang++ -DDMLC_LOG_CUSTOMIZE=1 -std=c++11 -Wall -Wno-unknown-pragmas -Iinclude   -Idmlc-core/include -Irabit/include -I/include -O3 -funroll-loops -msse2 -fPIC -fopenmp -MM -MT build/c_api/c_api.o src/c_api/c_api.cc >build/c_api/c_api.d\n",
      "    clang++ -DDMLC_LOG_CUSTOMIZE=1 -std=c++11 -Wall -Wno-unknown-pragmas -Iinclude   -Idmlc-core/include -Irabit/include -I/include -O3 -funroll-loops -msse2 -fPIC -fopenmp -MM -MT build/c_api/c_api_error.o src/c_api/c_api_error.cc >build/c_api/c_api_error.d\n",
      "    clang: clang: clang: warningwarningwarning: : : clang: argument unused during compilation: '-fopenmp'argument unused during compilation: '-fopenmp'argument unused during compilation: '-fopenmp'warning:\n",
      "    \n",
      "    argument unused during compilation: '-fopenmp'\n",
      "    \n",
      "    In file included from src/c_api/c_api_error.cc:6:\n",
      "    dmlc-core/include/dmlc/thread_local.h:26:9: warning: Warning: CXX11 thread_local is not formally supported [-W#pragma-messages]\n",
      "    #pragma message(\"Warning: CXX11 thread_local is not formally supported\")\n",
      "            ^\n",
      "    In file included from src/logging.cc:7:\n",
      "    In file included from include/xgboost/logging.h:12:\n",
      "    dmlc-core/include/dmlc/thread_local.h:26:9: warning: Warning: CXX11 thread_local is not formally supported [-W#pragma-messages]\n",
      "    #pragma message(\"Warning: CXX11 thread_local is not formally supported\")\n",
      "            ^\n",
      "    1 warning generated.\n",
      "    clang++ -c -DDMLC_LOG_CUSTOMIZE=1 -std=c++11 -Wall -Wno-unknown-pragmas -Iinclude   -Idmlc-core/include -Irabit/include -I/include -O3 -funroll-loops -msse2 -fPIC -fopenmp src/c_api/c_api_error.cc -o build/c_api/c_api_error.o\n",
      "    clang: warning: argument unused during compilation: '-fopenmp'\n",
      "    1 warning generated.\n",
      "    clang++ -c -DDMLC_LOG_CUSTOMIZE=1 -std=c++11 -Wall -Wno-unknown-pragmas -Iinclude   -Idmlc-core/include -Irabit/include -I/include -O3 -funroll-loops -msse2 -fPIC -fopenmp src/logging.cc -o build/logging.o\n",
      "    In file included from src/c_api/c_api.cc:3:\n",
      "    In file included from include/xgboost/data.h:19:\n",
      "    In file included from include/xgboost/../../src/common/span.h:32:\n",
      "    In file included from include/xgboost/logging.h:12:\n",
      "    dmlc-core/include/dmlc/thread_local.h:26:9: warning: Warning: CXX11 thread_local is not formally supported [-W#pragma-messages]\n",
      "    #pragma message(\"Warning: CXX11 thread_local is not formally supported\")\n",
      "            ^\n",
      "    1 warning generated.\n",
      "    clang: warning: argument unused during compilation: '-fopenmp'\n",
      "    clang++ -c -DDMLC_LOG_CUSTOMIZE=1 -std=c++11 -Wall -Wno-unknown-pragmas -Iinclude   -Idmlc-core/include -Irabit/include -I/include -O3 -funroll-loops -msse2 -fPIC -fopenmp src/c_api/c_api.cc -o build/c_api/c_api.o\n",
      "    clang: warning: argument unused during compilation: '-fopenmp'\n",
      "    In file included from src/learner.cc:9:\n",
      "    In file included from include/xgboost/learner.h:17:\n",
      "    In file included from include/xgboost/./gbm.h:18:\n",
      "    In file included from include/xgboost/./data.h:19:\n",
      "    In file included from include/xgboost/../../src/common/span.h:32:\n",
      "    In file included from include/xgboost/logging.h:12:\n",
      "    dmlc-core/include/dmlc/thread_local.h:26:9: warning: Warning: CXX11 thread_local is not formally supported [-W#pragma-messages]\n",
      "    #pragma message(\"Warning: CXX11 thread_local is not formally supported\")\n",
      "            ^\n",
      "    1 warning generated.\n",
      "    clang++ -c -DDMLC_LOG_CUSTOMIZE=1 -std=c++11 -Wall -Wno-unknown-pragmas -Iinclude   -Idmlc-core/include -Irabit/include -I/include -O3 -funroll-loops -msse2 -fPIC -fopenmp src/learner.cc -o build/learner.o\n",
      "    clang: warning: argument unused during compilation: '-fopenmp'\n",
      "    In file included from src/c_api/c_api_error.cc:6:\n",
      "    dmlc-core/include/dmlc/thread_local.h:26:9: warning: Warning: CXX11 thread_local is not formally supported [-W#pragma-messages]\n",
      "    #pragma message(\"Warning: CXX11 thread_local is not formally supported\")\n",
      "            ^\n",
      "    In file included from src/logging.cc:7:\n",
      "    In file included from include/xgboost/logging.h:12:\n",
      "    dmlc-core/include/dmlc/thread_local.h:26:9: warning: Warning: CXX11 thread_local is not formally supported [-W#pragma-messages]\n",
      "    #pragma message(\"Warning: CXX11 thread_local is not formally supported\")\n",
      "            ^\n",
      "    1 warning generated.\n",
      "    clang++ -DDMLC_LOG_CUSTOMIZE=1 -std=c++11 -Wall -Wno-unknown-pragmas -Iinclude   -Idmlc-core/include -Irabit/include -I/include -O3 -funroll-loops -msse2 -fPIC -fopenmp -MM -MT build/common/common.o src/common/common.cc >build/common/common.d\n",
      "    clang: warning: argument unused during compilation: '-fopenmp'\n",
      "    In file included from src/common/common.cc:6:\n",
      "    dmlc-core/include/dmlc/thread_local.h:26:9: warning: Warning: CXX11 thread_local is not formally supported [-W#pragma-messages]\n",
      "    #pragma message(\"Warning: CXX11 thread_local is not formally supported\")\n",
      "            ^\n",
      "    1 warning generated.\n",
      "    clang++ -c -DDMLC_LOG_CUSTOMIZE=1 -std=c++11 -Wall -Wno-unknown-pragmas -Iinclude   -Idmlc-core/include -Irabit/include -I/include -O3 -funroll-loops -msse2 -fPIC -fopenmp src/common/common.cc -o build/common/common.o\n",
      "    clang: warning: argument unused during compilation: '-fopenmp'\n",
      "    1 warning generated.\n",
      "    clang++ -DDMLC_LOG_CUSTOMIZE=1 -std=c++11 -Wall -Wno-unknown-pragmas -Iinclude   -Idmlc-core/include -Irabit/include -I/include -O3 -funroll-loops -msse2 -fPIC -fopenmp -MM -MT build/common/hist_util.o src/common/hist_util.cc >build/common/hist_util.d\n",
      "    clang: warning: argument unused during compilation: '-fopenmp'\n",
      "    In file included from src/c_api/c_api.cc:3:\n",
      "    In file included from include/xgboost/data.h:19:\n",
      "    In file included from include/xgboost/../../src/common/span.h:32:\n",
      "    In file included from include/xgboost/logging.h:12:\n",
      "    dmlc-core/include/dmlc/thread_local.h:26:9: warning: Warning: CXX11 thread_local is not formally supported [-W#pragma-messages]\n",
      "    #pragma message(\"Warning: CXX11 thread_local is not formally supported\")\n",
      "            ^\n",
      "    clang++ -c -DDMLC_LOG_CUSTOMIZE=1 -std=c++11 -Wall -Wno-unknown-pragmas -Iinclude   -Idmlc-core/include -Irabit/include -I/include -O3 -funroll-loops -msse2 -fPIC -fopenmp src/common/hist_util.cc -o build/common/hist_util.o\n",
      "    clang: warning: argument unused during compilation: '-fopenmp'\n",
      "    In file included from src/learner.cc:9:\n",
      "    In file included from include/xgboost/learner.h:17:\n",
      "    In file included from include/xgboost/./gbm.h:18:\n",
      "    In file included from include/xgboost/./data.h:19:\n",
      "    In file included from include/xgboost/../../src/common/span.h:32:\n",
      "    In file included from include/xgboost/logging.h:12:\n",
      "    dmlc-core/include/dmlc/thread_local.h:26:9: warning: Warning: CXX11 thread_local is not formally supported [-W#pragma-messages]\n",
      "    #pragma message(\"Warning: CXX11 thread_local is not formally supported\")\n",
      "            ^\n",
      "    In file included from src/common/common.cc:6:\n",
      "    dmlc-core/include/dmlc/thread_local.h:26:9: warning: Warning: CXX11 thread_local is not formally supported [-W#pragma-messages]\n",
      "    #pragma message(\"Warning: CXX11 thread_local is not formally supported\")\n",
      "            ^\n",
      "    In file included from src/common/hist_util.cc:11:\n",
      "    In file included from src/common/./random.h:10:\n",
      "    In file included from include/xgboost/logging.h:12:\n",
      "    dmlc-core/include/dmlc/thread_local.h:40:12: error: thread-local storage is unsupported for the current target\n",
      "        static thread_local T inst;\n",
      "               ^\n",
      "    1 warning generated.\n",
      "    clang++ -DDMLC_LOG_CUSTOMIZE=1 -std=c++11 -Wall -Wno-unknown-pragmas -Iinclude   -Idmlc-core/include -Irabit/include -I/include -O3 -funroll-loops -msse2 -fPIC -fopenmp -MM -MT build/common/host_device_vector.o src/common/host_device_vector.cc >build/common/host_device_vector.d\n",
      "    clang: warning: argument unused during compilation: '-fopenmp'\n",
      "    src/learner.cc:51:20: warning: unused function 'RenderParamVal' [-Wunused-function]\n",
      "    inline std::string RenderParamVal(const std::string& str) {\n",
      "                       ^\n",
      "    In file included from src/common/host_device_vector.cc:9:\n",
      "    In file included from include/xgboost/data.h:19:\n",
      "    In file included from include/xgboost/../../src/common/span.h:32:\n",
      "    In file included from include/xgboost/logging.h:12:\n",
      "    dmlc-core/include/dmlc/thread_local.h:26:9: warning: Warning: CXX11 thread_local is not formally supported [-W#pragma-messages]\n",
      "    #pragma message(\"Warning: CXX11 thread_local is not formally supported\")\n",
      "            ^\n",
      "    1 warning generated.\n",
      "    clang++ -c -DDMLC_LOG_CUSTOMIZE=1 -std=c++11 -Wall -Wno-unknown-pragmas -Iinclude   -Idmlc-core/include -Irabit/include -I/include -O3 -funroll-loops -msse2 -fPIC -fopenmp src/common/host_device_vector.cc -o build/common/host_device_vector.o\n",
      "    clang: warning: argument unused during compilation: '-fopenmp'\n",
      "    1 error generated.\n",
      "    make: *** [build/common/hist_util.o] Error 1\n",
      "    make: *** Waiting for unfinished jobs....\n",
      "    In file included from src/common/host_device_vector.cc:9:\n",
      "    In file included from include/xgboost/data.h:19:\n",
      "    In file included from include/xgboost/../../src/common/span.h:32:\n",
      "    In file included from include/xgboost/logging.h:12:\n",
      "    dmlc-core/include/dmlc/thread_local.h:26:9: warning: Warning: CXX11 thread_local is not formally supported [-W#pragma-messages]\n",
      "    #pragma message(\"Warning: CXX11 thread_local is not formally supported\")\n",
      "            ^\n",
      "    1 warning generated.\n",
      "    2 warnings generated.\n",
      "    1 warning generated.\n",
      "    + echo -----------------------------\n",
      "    -----------------------------\n",
      "    + echo 'Building multi-thread xgboost failed'\n",
      "    Building multi-thread xgboost failed\n",
      "    + echo 'Start to build single-thread xgboost'\n",
      "    Start to build single-thread xgboost\n",
      "    + make clean\n",
      "    Makefile:31: MAKE [/Applications/Xcode.app/Contents/Developer/usr/bin/make] - checked OK\n",
      "    rm -f -rf build build_plugin lib bin *~ */*~ */*/*~ */*/*/*~ */*.o */*/*.o */*/*/*.o #xgboost\n",
      "    rm -f -rf build_tests *.gcov tests/cpp/xgboost_test\n",
      "    if [ -d \"R-package/src\" ]; then \\\n",
      "    \t\tcd R-package/src; \\\n",
      "    \t\trm -f -rf rabit src include dmlc-core amalgamation *.so *.dll; \\\n",
      "    \t\tcd /private/var/folders/y1/1sd072rd2h159qz2xrp00mnh0000gp/T/pip-build-cav9441m/xgboost/xgboost; \\\n",
      "    \tfi\n",
      "    + make lib/libxgboost.dylib -j4 USE_OPENMP=0\n",
      "    Makefile:31: MAKE [/Applications/Xcode.app/Contents/Developer/usr/bin/make] - checked OK\n",
      "    clang++ -DDMLC_LOG_CUSTOMIZE=1 -std=c++11 -Wall -Wno-unknown-pragmas -Iinclude   -Idmlc-core/include -Irabit/include -I/include -O3 -funroll-loops -msse2 -fPIC -DDISABLE_OPENMP -MM -MT build/learner.o src/learner.cc >build/learner.d\n",
      "    clang++ -DDMLC_LOG_CUSTOMIZE=1 -std=c++11 -Wall -Wno-unknown-pragmas -Iinclude   -Idmlc-core/include -Irabit/include -I/include -O3 -funroll-loops -msse2 -fPIC -DDISABLE_OPENMP -MM -MT build/logging.o src/logging.cc >build/logging.d\n",
      "    clang++ -DDMLC_LOG_CUSTOMIZE=1 -std=c++11 -Wall -Wno-unknown-pragmas -Iinclude   -Idmlc-core/include -Irabit/include -I/include -O3 -funroll-loops -msse2 -fPIC -DDISABLE_OPENMP -MM -MT build/c_api/c_api.o src/c_api/c_api.cc >build/c_api/c_api.d\n",
      "    clang++ -DDMLC_LOG_CUSTOMIZE=1 -std=c++11 -Wall -Wno-unknown-pragmas -Iinclude   -Idmlc-core/include -Irabit/include -I/include -O3 -funroll-loops -msse2 -fPIC -DDISABLE_OPENMP -MM -MT build/c_api/c_api_error.o src/c_api/c_api_error.cc >build/c_api/c_api_error.d\n",
      "    In file included from src/c_api/c_api_error.cc:6:\n",
      "    dmlc-core/include/dmlc/thread_local.h:26:9: warning: Warning: CXX11 thread_local is not formally supported [-W#pragma-messages]\n",
      "    #pragma message(\"Warning: CXX11 thread_local is not formally supported\")\n",
      "            ^\n",
      "    In file included from src/logging.cc:7:\n",
      "    In file included from include/xgboost/logging.h:12:\n",
      "    dmlc-core/include/dmlc/thread_local.h:26:9: warning: Warning: CXX11 thread_local is not formally supported [-W#pragma-messages]\n",
      "    #pragma message(\"Warning: CXX11 thread_local is not formally supported\")\n",
      "            ^\n",
      "    1 warning generated.\n",
      "    clang++ -c -DDMLC_LOG_CUSTOMIZE=1 -std=c++11 -Wall -Wno-unknown-pragmas -Iinclude   -Idmlc-core/include -Irabit/include -I/include -O3 -funroll-loops -msse2 -fPIC -DDISABLE_OPENMP src/c_api/c_api_error.cc -o build/c_api/c_api_error.o\n",
      "    1 warning generated.\n",
      "    clang++ -c -DDMLC_LOG_CUSTOMIZE=1 -std=c++11 -Wall -Wno-unknown-pragmas -Iinclude   -Idmlc-core/include -Irabit/include -I/include -O3 -funroll-loops -msse2 -fPIC -DDISABLE_OPENMP src/logging.cc -o build/logging.o\n",
      "    In file included from src/c_api/c_api.cc:3:\n",
      "    In file included from include/xgboost/data.h:19:\n",
      "    In file included from include/xgboost/../../src/common/span.h:32:\n",
      "    In file included from include/xgboost/logging.h:12:\n",
      "    dmlc-core/include/dmlc/thread_local.h:26:9: warning: Warning: CXX11 thread_local is not formally supported [-W#pragma-messages]\n",
      "    #pragma message(\"Warning: CXX11 thread_local is not formally supported\")\n",
      "            ^\n",
      "    1 warning generated.\n",
      "    clang++ -c -DDMLC_LOG_CUSTOMIZE=1 -std=c++11 -Wall -Wno-unknown-pragmas -Iinclude   -Idmlc-core/include -Irabit/include -I/include -O3 -funroll-loops -msse2 -fPIC -DDISABLE_OPENMP src/c_api/c_api.cc -o build/c_api/c_api.o\n",
      "    In file included from src/learner.cc:9:\n",
      "    In file included from include/xgboost/learner.h:17:\n",
      "    In file included from include/xgboost/./gbm.h:18:\n",
      "    In file included from include/xgboost/./data.h:19:\n",
      "    In file included from include/xgboost/../../src/common/span.h:32:\n",
      "    In file included from include/xgboost/logging.h:12:\n",
      "    dmlc-core/include/dmlc/thread_local.h:26:9: warning: Warning: CXX11 thread_local is not formally supported [-W#pragma-messages]\n",
      "    #pragma message(\"Warning: CXX11 thread_local is not formally supported\")\n",
      "            ^\n",
      "    1 warning generated.\n",
      "    clang++ -c -DDMLC_LOG_CUSTOMIZE=1 -std=c++11 -Wall -Wno-unknown-pragmas -Iinclude   -Idmlc-core/include -Irabit/include -I/include -O3 -funroll-loops -msse2 -fPIC -DDISABLE_OPENMP src/learner.cc -o build/learner.o\n",
      "    In file included from src/c_api/c_api_error.cc:6:\n",
      "    dmlc-core/include/dmlc/thread_local.h:26:9: warning: Warning: CXX11 thread_local is not formally supported [-W#pragma-messages]\n",
      "    #pragma message(\"Warning: CXX11 thread_local is not formally supported\")\n",
      "            ^\n",
      "    In file included from src/logging.cc:7:\n",
      "    In file included from include/xgboost/logging.h:12:\n",
      "    dmlc-core/include/dmlc/thread_local.h:26:9: warning: Warning: CXX11 thread_local is not formally supported [-W#pragma-messages]\n",
      "    #pragma message(\"Warning: CXX11 thread_local is not formally supported\")\n",
      "            ^\n",
      "    1 warning generated.\n",
      "    clang++ -DDMLC_LOG_CUSTOMIZE=1 -std=c++11 -Wall -Wno-unknown-pragmas -Iinclude   -Idmlc-core/include -Irabit/include -I/include -O3 -funroll-loops -msse2 -fPIC -DDISABLE_OPENMP -MM -MT build/common/common.o src/common/common.cc >build/common/common.d\n",
      "    In file included from src/common/common.cc:6:\n",
      "    dmlc-core/include/dmlc/thread_local.h:26:9: warning: Warning: CXX11 thread_local is not formally supported [-W#pragma-messages]\n",
      "    #pragma message(\"Warning: CXX11 thread_local is not formally supported\")\n",
      "            ^\n",
      "    1 warning generated.\n",
      "    clang++ -c -DDMLC_LOG_CUSTOMIZE=1 -std=c++11 -Wall -Wno-unknown-pragmas -Iinclude   -Idmlc-core/include -Irabit/include -I/include -O3 -funroll-loops -msse2 -fPIC -DDISABLE_OPENMP src/common/common.cc -o build/common/common.o\n",
      "    1 warning generated.\n",
      "    clang++ -DDMLC_LOG_CUSTOMIZE=1 -std=c++11 -Wall -Wno-unknown-pragmas -Iinclude   -Idmlc-core/include -Irabit/include -I/include -O3 -funroll-loops -msse2 -fPIC -DDISABLE_OPENMP -MM -MT build/common/hist_util.o src/common/hist_util.cc >build/common/hist_util.d\n",
      "    In file included from src/c_api/c_api.cc:3:\n",
      "    In file included from include/xgboost/data.h:19:\n",
      "    In file included from include/xgboost/../../src/common/span.h:32:\n",
      "    In file included from include/xgboost/logging.h:12:\n",
      "    dmlc-core/include/dmlc/thread_local.h:26:9: warning: Warning: CXX11 thread_local is not formally supported [-W#pragma-messages]\n",
      "    #pragma message(\"Warning: CXX11 thread_local is not formally supported\")\n",
      "            ^\n",
      "    clang++ -c -DDMLC_LOG_CUSTOMIZE=1 -std=c++11 -Wall -Wno-unknown-pragmas -Iinclude   -Idmlc-core/include -Irabit/include -I/include -O3 -funroll-loops -msse2 -fPIC -DDISABLE_OPENMP src/common/hist_util.cc -o build/common/hist_util.o\n",
      "    In file included from src/common/common.cc:6:\n",
      "    dmlc-core/include/dmlc/thread_local.h:26:9: warning: Warning: CXX11 thread_local is not formally supported [-W#pragma-messages]\n",
      "    #pragma message(\"Warning: CXX11 thread_local is not formally supported\")\n",
      "            ^\n",
      "    In file included from src/learner.cc:9:\n",
      "    In file included from include/xgboost/learner.h:17:\n",
      "    In file included from include/xgboost/./gbm.h:18:\n",
      "    In file included from include/xgboost/./data.h:19:\n",
      "    In file included from include/xgboost/../../src/common/span.h:32:\n",
      "    In file included from include/xgboost/logging.h:12:\n",
      "    dmlc-core/include/dmlc/thread_local.h:26:9: warning: Warning: CXX11 thread_local is not formally supported [-W#pragma-messages]\n",
      "    #pragma message(\"Warning: CXX11 thread_local is not formally supported\")\n",
      "            ^\n",
      "    1 warning generated.\n",
      "    clang++ -DDMLC_LOG_CUSTOMIZE=1 -std=c++11 -Wall -Wno-unknown-pragmas -Iinclude   -Idmlc-core/include -Irabit/include -I/include -O3 -funroll-loops -msse2 -fPIC -DDISABLE_OPENMP -MM -MT build/common/host_device_vector.o src/common/host_device_vector.cc >build/common/host_device_vector.d\n",
      "    In file included from src/common/host_device_vector.cc:9:\n",
      "    In file included from include/xgboost/data.h:19:\n",
      "    In file included from include/xgboost/../../src/common/span.h:32:\n",
      "    In file included from include/xgboost/logging.h:12:\n",
      "    dmlc-core/include/dmlc/thread_local.h:26:9: warning: Warning: CXX11 thread_local is not formally supported [-W#pragma-messages]\n",
      "    #pragma message(\"Warning: CXX11 thread_local is not formally supported\")\n",
      "            ^\n",
      "    1 warning generated.\n",
      "    clang++ -c -DDMLC_LOG_CUSTOMIZE=1 -std=c++11 -Wall -Wno-unknown-pragmas -Iinclude   -Idmlc-core/include -Irabit/include -I/include -O3 -funroll-loops -msse2 -fPIC -DDISABLE_OPENMP src/common/host_device_vector.cc -o build/common/host_device_vector.o\n",
      "    In file included from src/common/hist_util.cc:11:\n",
      "    In file included from src/common/./random.h:10:\n",
      "    In file included from include/xgboost/logging.h:12:\n",
      "    dmlc-core/include/dmlc/thread_local.h:40:12: error: thread-local storage is unsupported for the current target\n",
      "        static thread_local T inst;\n",
      "               ^\n",
      "    src/learner.cc:51:20: warning: unused function 'RenderParamVal' [-Wunused-function]\n",
      "    inline std::string RenderParamVal(const std::string& str) {\n",
      "                       ^\n",
      "    In file included from src/common/host_device_vector.cc:9:\n",
      "    In file included from include/xgboost/data.h:19:\n",
      "    In file included from include/xgboost/../../src/common/span.h:32:\n",
      "    In file included from include/xgboost/logging.h:12:\n",
      "    dmlc-core/include/dmlc/thread_local.h:26:9: warning: Warning: CXX11 thread_local is not formally supported [-W#pragma-messages]\n",
      "    #pragma message(\"Warning: CXX11 thread_local is not formally supported\")\n",
      "            ^\n",
      "    1 error generated.\n",
      "    make: *** [build/common/hist_util.o] Error 1\n",
      "    make: *** Waiting for unfinished jobs....\n",
      "    1 warning generated.\n",
      "    2 warnings generated.\n",
      "    1 warning generated.\n",
      "    Traceback (most recent call last):\n",
      "      File \"<string>\", line 1, in <module>\n",
      "      File \"/private/var/folders/y1/1sd072rd2h159qz2xrp00mnh0000gp/T/pip-build-cav9441m/xgboost/setup.py\", line 42, in <module>\n",
      "        LIB_PATH = libpath['find_lib_path']()\n",
      "      File \"/private/var/folders/y1/1sd072rd2h159qz2xrp00mnh0000gp/T/pip-build-cav9441m/xgboost/xgboost/libpath.py\", line 49, in find_lib_path\n",
      "        'List of candidates:\\n' + ('\\n'.join(dll_path)))\n",
      "    XGBoostLibraryNotFound: Cannot find XGBoost Library in the candidate path, did you install compilers and run build.sh in root path?\n",
      "    List of candidates:\n",
      "    /private/var/folders/y1/1sd072rd2h159qz2xrp00mnh0000gp/T/pip-build-cav9441m/xgboost/xgboost/libxgboost.dylib\n",
      "    /private/var/folders/y1/1sd072rd2h159qz2xrp00mnh0000gp/T/pip-build-cav9441m/xgboost/xgboost/../../lib/libxgboost.dylib\n",
      "    /private/var/folders/y1/1sd072rd2h159qz2xrp00mnh0000gp/T/pip-build-cav9441m/xgboost/xgboost/./lib/libxgboost.dylib\n",
      "    /anaconda3/xgboost/libxgboost.dylib\n",
      "    \n",
      "    ----------------------------------------\n"
     ]
    },
    {
     "name": "stdout",
     "output_type": "stream",
     "text": [
      "\u001b[31mCommand \"python setup.py egg_info\" failed with error code 1 in /private/var/folders/y1/1sd072rd2h159qz2xrp00mnh0000gp/T/pip-build-cav9441m/xgboost/\u001b[0m\n",
      "\u001b[33mYou are using pip version 9.0.1, however version 19.0.2 is available.\n",
      "You should consider upgrading via the 'pip install --upgrade pip' command.\u001b[0m\n"
     ]
    }
   ],
   "source": [
    "!pip install xgboost"
   ]
  },
  {
   "cell_type": "code",
   "execution_count": null,
   "metadata": {
    "collapsed": true
   },
   "outputs": [],
   "source": [
    "import xgboost as xgb\n",
    "from sklearn.model_selection import GridSearchCV"
   ]
  },
  {
   "cell_type": "markdown",
   "metadata": {},
   "source": [
    "- generating train data"
   ]
  },
  {
   "cell_type": "code",
   "execution_count": null,
   "metadata": {
    "collapsed": true
   },
   "outputs": [],
   "source": [
    "np.random.seed(123)\n",
    "# x : 0 ~ 10 \n",
    "x = np.array([x*0.01 for x in range(0,1000)]).reshape(-1,1)\n",
    "y = np.array(list(map(lambda x:f(x,1), x))).reshape(-1)"
   ]
  },
  {
   "cell_type": "markdown",
   "metadata": {},
   "source": [
    "- generating test data"
   ]
  },
  {
   "cell_type": "code",
   "execution_count": null,
   "metadata": {
    "collapsed": true
   },
   "outputs": [],
   "source": [
    "np.random.seed(321)\n",
    "# x : 0 ~ 10 \n",
    "test_x = np.array([x*0.1 for x in range(0,100)]).reshape(-1,1)\n",
    "test_y = np.array(list(map(lambda x:f(x,1), test_x))).reshape(-1)"
   ]
  },
  {
   "cell_type": "markdown",
   "metadata": {},
   "source": [
    "- Declare a XGB_regressor instance"
   ]
  },
  {
   "cell_type": "code",
   "execution_count": null,
   "metadata": {
    "collapsed": true
   },
   "outputs": [],
   "source": [
    "xgb_reg = xgb.XGBRegressor()"
   ]
  },
  {
   "cell_type": "code",
   "execution_count": null,
   "metadata": {
    "collapsed": true
   },
   "outputs": [],
   "source": [
    "params_dict = {'max_depth':[3,5,7,9],'n_estimators':[10,50,100], 'subsample':[0.1,0.5,1]}"
   ]
  },
  {
   "cell_type": "code",
   "execution_count": null,
   "metadata": {
    "collapsed": true
   },
   "outputs": [],
   "source": [
    "xgb_gdv = GridSearchCV(xgb_reg, param_grid=params_dict, cv=5)"
   ]
  },
  {
   "cell_type": "code",
   "execution_count": null,
   "metadata": {
    "collapsed": true
   },
   "outputs": [],
   "source": [
    "%%time\n",
    "xgb_gdv.fit(x,y)"
   ]
  },
  {
   "cell_type": "code",
   "execution_count": null,
   "metadata": {
    "collapsed": true
   },
   "outputs": [],
   "source": [
    "xgb_gdv.best_params_"
   ]
  },
  {
   "cell_type": "code",
   "execution_count": null,
   "metadata": {
    "collapsed": true
   },
   "outputs": [],
   "source": [
    "# Call predict on the estimator with the best found parameters.\n",
    "pred_y = xgb_gdv.predict(test_x)"
   ]
  },
  {
   "cell_type": "code",
   "execution_count": null,
   "metadata": {
    "collapsed": true
   },
   "outputs": [],
   "source": [
    "plt.scatter(x,y)\n",
    "plt.plot(test_x,pred_y, color='yellow')"
   ]
  },
  {
   "cell_type": "markdown",
   "metadata": {},
   "source": [
    "- Customizing loss function : \n",
    "please, refer to https://github.com/tqchen/xgboost/blob/master/demo/guide-python/custom_objective.py\n",
    "\n",
    "- For example, $K$-categories classification problem"
   ]
  },
  {
   "cell_type": "markdown",
   "metadata": {},
   "source": [
    "$$L\\left(\\{y_{k},F_{k}(x)\\}_{k=1}^{K}\\right)=-\\sum_{k=1}^{K}y_{k}\\log p_{k}(x)$$\n",
    "\n",
    "where \n",
    "\n",
    "$$p_{k}(x)=\\dfrac{\\exp(F_{k}(x))}{\\sum_{l}\\exp(F_{l}(x))}.$$\n",
    "\n",
    "This setting has following the first and second derivatives,\n",
    "\n",
    "$$\\dfrac{dL}{dF_{k}}=-y_{k}+p_{k}(x)\\sum y_{k}=-y_{k}+p_{k}$$\n",
    "\n",
    "\n",
    "$$\\dfrac{d^{2}L}{dF_{k}^{2}}=\\dfrac{\\exp\\left(F_{k}(x)\\right)\\left(\\sum_{l}\\exp\\left(F_{l}(x)\\right)\\right)-\\exp\\left(2F_{k}(x)\\right)}{\\left(\\sum_{l}\\exp\\left(F_{l}(x)\\right)\\right)^{2}}=p_{k}(x)\\left(1-p_{k}(x)\\right).$$"
   ]
  },
  {
   "cell_type": "code",
   "execution_count": null,
   "metadata": {
    "collapsed": true
   },
   "outputs": [],
   "source": [
    "def logregobj(preds, dtrain):\n",
    "    labels = dtrain.get_label()\n",
    "    probs = 1.0 / (1.0 + np.exp(-preds))\n",
    "    grad = probs - labels\n",
    "    hess = probs * (1.0 - probs)\n",
    "    return grad, hess"
   ]
  },
  {
   "cell_type": "markdown",
   "metadata": {},
   "source": [
    "- evaluation metric"
   ]
  },
  {
   "cell_type": "code",
   "execution_count": null,
   "metadata": {
    "collapsed": true
   },
   "outputs": [],
   "source": [
    "def evalerror(preds, dtrain):\n",
    "    labels = dtrain.get_label()\n",
    "    # return a pair metric_name, result\n",
    "    # since preds are margin(before logistic transformation, cutoff at 0)\n",
    "    return 'error', float(sum(labels != (preds > 0.0))) / len(labels)"
   ]
  },
  {
   "cell_type": "markdown",
   "metadata": {},
   "source": [
    "- Do you have an idea to assign more weights on minority class?"
   ]
  },
  {
   "cell_type": "markdown",
   "metadata": {},
   "source": [
    "# LightGBM"
   ]
  },
  {
   "cell_type": "raw",
   "metadata": {},
   "source": [
    "!pip3 install lightgbm"
   ]
  },
  {
   "cell_type": "code",
   "execution_count": 29,
   "metadata": {},
   "outputs": [
    {
     "name": "stdout",
     "output_type": "stream",
     "text": [
      "Collecting lightgbm\n",
      "  Downloading https://files.pythonhosted.org/packages/9c/b3/7b6aec53a8cd0a1378279d9f06e647298f0c66299bce0e4b2b919f6557f7/lightgbm-2.2.3-py2.py3-none-macosx_10_8_x86_64.macosx_10_9_x86_64.macosx_10_10_x86_64.macosx_10_11_x86_64.macosx_10_12_x86_64.macosx_10_13_x86_64.macosx_10_14_x86_64.whl (640kB)\n",
      "\u001b[K    100% |████████████████████████████████| 645kB 527kB/s ta 0:00:01\n",
      "\u001b[?25hRequirement already satisfied: scipy in /anaconda3/lib/python3.6/site-packages (from lightgbm)\n",
      "Requirement already satisfied: numpy in /anaconda3/lib/python3.6/site-packages (from lightgbm)\n",
      "Requirement already satisfied: scikit-learn in /anaconda3/lib/python3.6/site-packages (from lightgbm)\n",
      "Installing collected packages: lightgbm\n",
      "Successfully installed lightgbm-2.2.3\n",
      "\u001b[33mYou are using pip version 9.0.1, however version 19.0.2 is available.\n",
      "You should consider upgrading via the 'pip install --upgrade pip' command.\u001b[0m\n"
     ]
    }
   ],
   "source": [
    "!pip install lightgbm"
   ]
  },
  {
   "cell_type": "code",
   "execution_count": 30,
   "metadata": {},
   "outputs": [
    {
     "ename": "OSError",
     "evalue": "dlopen(/anaconda3/lib/python3.6/site-packages/lightgbm/lib_lightgbm.so, 6): Library not loaded: /usr/local/opt/libomp/lib/libomp.dylib\n  Referenced from: /anaconda3/lib/python3.6/site-packages/lightgbm/lib_lightgbm.so\n  Reason: image not found",
     "output_type": "error",
     "traceback": [
      "\u001b[0;31m---------------------------------------------------------------------------\u001b[0m",
      "\u001b[0;31mOSError\u001b[0m                                   Traceback (most recent call last)",
      "\u001b[0;32m<ipython-input-30-2ae3725bef24>\u001b[0m in \u001b[0;36m<module>\u001b[0;34m()\u001b[0m\n\u001b[0;32m----> 1\u001b[0;31m \u001b[0;32mimport\u001b[0m \u001b[0mlightgbm\u001b[0m \u001b[0;32mas\u001b[0m \u001b[0mlgb\u001b[0m\u001b[0;34m\u001b[0m\u001b[0m\n\u001b[0m",
      "\u001b[0;32m/anaconda3/lib/python3.6/site-packages/lightgbm/__init__.py\u001b[0m in \u001b[0;36m<module>\u001b[0;34m()\u001b[0m\n\u001b[1;32m      6\u001b[0m \u001b[0;32mfrom\u001b[0m \u001b[0m__future__\u001b[0m \u001b[0;32mimport\u001b[0m \u001b[0mabsolute_import\u001b[0m\u001b[0;34m\u001b[0m\u001b[0m\n\u001b[1;32m      7\u001b[0m \u001b[0;34m\u001b[0m\u001b[0m\n\u001b[0;32m----> 8\u001b[0;31m \u001b[0;32mfrom\u001b[0m \u001b[0;34m.\u001b[0m\u001b[0mbasic\u001b[0m \u001b[0;32mimport\u001b[0m \u001b[0mBooster\u001b[0m\u001b[0;34m,\u001b[0m \u001b[0mDataset\u001b[0m\u001b[0;34m\u001b[0m\u001b[0m\n\u001b[0m\u001b[1;32m      9\u001b[0m from .callback import (early_stopping, print_evaluation, record_evaluation,\n\u001b[1;32m     10\u001b[0m                        reset_parameter)\n",
      "\u001b[0;32m/anaconda3/lib/python3.6/site-packages/lightgbm/basic.py\u001b[0m in \u001b[0;36m<module>\u001b[0;34m()\u001b[0m\n\u001b[1;32m     32\u001b[0m \u001b[0;34m\u001b[0m\u001b[0m\n\u001b[1;32m     33\u001b[0m \u001b[0;34m\u001b[0m\u001b[0m\n\u001b[0;32m---> 34\u001b[0;31m \u001b[0m_LIB\u001b[0m \u001b[0;34m=\u001b[0m \u001b[0m_load_lib\u001b[0m\u001b[0;34m(\u001b[0m\u001b[0;34m)\u001b[0m\u001b[0;34m\u001b[0m\u001b[0m\n\u001b[0m\u001b[1;32m     35\u001b[0m \u001b[0;34m\u001b[0m\u001b[0m\n\u001b[1;32m     36\u001b[0m \u001b[0;34m\u001b[0m\u001b[0m\n",
      "\u001b[0;32m/anaconda3/lib/python3.6/site-packages/lightgbm/basic.py\u001b[0m in \u001b[0;36m_load_lib\u001b[0;34m()\u001b[0m\n\u001b[1;32m     27\u001b[0m     \u001b[0;32mif\u001b[0m \u001b[0mlen\u001b[0m\u001b[0;34m(\u001b[0m\u001b[0mlib_path\u001b[0m\u001b[0;34m)\u001b[0m \u001b[0;34m==\u001b[0m \u001b[0;36m0\u001b[0m\u001b[0;34m:\u001b[0m\u001b[0;34m\u001b[0m\u001b[0m\n\u001b[1;32m     28\u001b[0m         \u001b[0;32mreturn\u001b[0m \u001b[0;32mNone\u001b[0m\u001b[0;34m\u001b[0m\u001b[0m\n\u001b[0;32m---> 29\u001b[0;31m     \u001b[0mlib\u001b[0m \u001b[0;34m=\u001b[0m \u001b[0mctypes\u001b[0m\u001b[0;34m.\u001b[0m\u001b[0mcdll\u001b[0m\u001b[0;34m.\u001b[0m\u001b[0mLoadLibrary\u001b[0m\u001b[0;34m(\u001b[0m\u001b[0mlib_path\u001b[0m\u001b[0;34m[\u001b[0m\u001b[0;36m0\u001b[0m\u001b[0;34m]\u001b[0m\u001b[0;34m)\u001b[0m\u001b[0;34m\u001b[0m\u001b[0m\n\u001b[0m\u001b[1;32m     30\u001b[0m     \u001b[0mlib\u001b[0m\u001b[0;34m.\u001b[0m\u001b[0mLGBM_GetLastError\u001b[0m\u001b[0;34m.\u001b[0m\u001b[0mrestype\u001b[0m \u001b[0;34m=\u001b[0m \u001b[0mctypes\u001b[0m\u001b[0;34m.\u001b[0m\u001b[0mc_char_p\u001b[0m\u001b[0;34m\u001b[0m\u001b[0m\n\u001b[1;32m     31\u001b[0m     \u001b[0;32mreturn\u001b[0m \u001b[0mlib\u001b[0m\u001b[0;34m\u001b[0m\u001b[0m\n",
      "\u001b[0;32m/anaconda3/lib/python3.6/ctypes/__init__.py\u001b[0m in \u001b[0;36mLoadLibrary\u001b[0;34m(self, name)\u001b[0m\n\u001b[1;32m    424\u001b[0m \u001b[0;34m\u001b[0m\u001b[0m\n\u001b[1;32m    425\u001b[0m     \u001b[0;32mdef\u001b[0m \u001b[0mLoadLibrary\u001b[0m\u001b[0;34m(\u001b[0m\u001b[0mself\u001b[0m\u001b[0;34m,\u001b[0m \u001b[0mname\u001b[0m\u001b[0;34m)\u001b[0m\u001b[0;34m:\u001b[0m\u001b[0;34m\u001b[0m\u001b[0m\n\u001b[0;32m--> 426\u001b[0;31m         \u001b[0;32mreturn\u001b[0m \u001b[0mself\u001b[0m\u001b[0;34m.\u001b[0m\u001b[0m_dlltype\u001b[0m\u001b[0;34m(\u001b[0m\u001b[0mname\u001b[0m\u001b[0;34m)\u001b[0m\u001b[0;34m\u001b[0m\u001b[0m\n\u001b[0m\u001b[1;32m    427\u001b[0m \u001b[0;34m\u001b[0m\u001b[0m\n\u001b[1;32m    428\u001b[0m \u001b[0mcdll\u001b[0m \u001b[0;34m=\u001b[0m \u001b[0mLibraryLoader\u001b[0m\u001b[0;34m(\u001b[0m\u001b[0mCDLL\u001b[0m\u001b[0;34m)\u001b[0m\u001b[0;34m\u001b[0m\u001b[0m\n",
      "\u001b[0;32m/anaconda3/lib/python3.6/ctypes/__init__.py\u001b[0m in \u001b[0;36m__init__\u001b[0;34m(self, name, mode, handle, use_errno, use_last_error)\u001b[0m\n\u001b[1;32m    346\u001b[0m \u001b[0;34m\u001b[0m\u001b[0m\n\u001b[1;32m    347\u001b[0m         \u001b[0;32mif\u001b[0m \u001b[0mhandle\u001b[0m \u001b[0;32mis\u001b[0m \u001b[0;32mNone\u001b[0m\u001b[0;34m:\u001b[0m\u001b[0;34m\u001b[0m\u001b[0m\n\u001b[0;32m--> 348\u001b[0;31m             \u001b[0mself\u001b[0m\u001b[0;34m.\u001b[0m\u001b[0m_handle\u001b[0m \u001b[0;34m=\u001b[0m \u001b[0m_dlopen\u001b[0m\u001b[0;34m(\u001b[0m\u001b[0mself\u001b[0m\u001b[0;34m.\u001b[0m\u001b[0m_name\u001b[0m\u001b[0;34m,\u001b[0m \u001b[0mmode\u001b[0m\u001b[0;34m)\u001b[0m\u001b[0;34m\u001b[0m\u001b[0m\n\u001b[0m\u001b[1;32m    349\u001b[0m         \u001b[0;32melse\u001b[0m\u001b[0;34m:\u001b[0m\u001b[0;34m\u001b[0m\u001b[0m\n\u001b[1;32m    350\u001b[0m             \u001b[0mself\u001b[0m\u001b[0;34m.\u001b[0m\u001b[0m_handle\u001b[0m \u001b[0;34m=\u001b[0m \u001b[0mhandle\u001b[0m\u001b[0;34m\u001b[0m\u001b[0m\n",
      "\u001b[0;31mOSError\u001b[0m: dlopen(/anaconda3/lib/python3.6/site-packages/lightgbm/lib_lightgbm.so, 6): Library not loaded: /usr/local/opt/libomp/lib/libomp.dylib\n  Referenced from: /anaconda3/lib/python3.6/site-packages/lightgbm/lib_lightgbm.so\n  Reason: image not found"
     ]
    }
   ],
   "source": [
    "import lightgbm as lgb"
   ]
  },
  {
   "cell_type": "markdown",
   "metadata": {},
   "source": [
    "- train set"
   ]
  },
  {
   "cell_type": "code",
   "execution_count": null,
   "metadata": {
    "collapsed": true
   },
   "outputs": [],
   "source": [
    "np.random.seed(123)\n",
    "# x : 0 ~ 10 \n",
    "x = np.array([x*0.0001 for x in range(0,100000)]).reshape(-1,1)\n",
    "y = np.array(list(map(lambda x:f(x,2), x))).reshape(-1)"
   ]
  },
  {
   "cell_type": "markdown",
   "metadata": {},
   "source": [
    "- validation set"
   ]
  },
  {
   "cell_type": "code",
   "execution_count": null,
   "metadata": {
    "collapsed": true
   },
   "outputs": [],
   "source": [
    "np.random.seed(321)\n",
    "# x : 0 ~ 10 \n",
    "test_x = np.array([x*0.1 for x in range(0,100)]).reshape(-1,1)\n",
    "test_y = np.array(list(map(lambda x:f(x,1), test_x))).reshape(-1)"
   ]
  },
  {
   "cell_type": "code",
   "execution_count": null,
   "metadata": {
    "collapsed": true
   },
   "outputs": [],
   "source": [
    "lgb_train_data = lgb.Dataset(x,y)\n",
    "lgb_validation_data = lgb.Dataset(test_x, test_y, reference=lgb_train_data)"
   ]
  },
  {
   "cell_type": "code",
   "execution_count": null,
   "metadata": {
    "collapsed": true
   },
   "outputs": [],
   "source": [
    "params_dict = {'max_depth':2,\n",
    "               'reg_lambda':0.5, \n",
    "               'objective':'regression',\n",
    "               'metric':'mse', \n",
    "               'learning_rate':0.01}"
   ]
  },
  {
   "cell_type": "markdown",
   "metadata": {},
   "source": [
    "## early stopping"
   ]
  },
  {
   "cell_type": "markdown",
   "metadata": {},
   "source": [
    "- Boosting models are easy to be overfitted.\n",
    "- By looking for the first time to make the model overfitted, we can avoid overfitting.\n",
    "- This is early stopping."
   ]
  },
  {
   "cell_type": "code",
   "execution_count": null,
   "metadata": {
    "collapsed": true
   },
   "outputs": [],
   "source": [
    "eval_results = {}\n",
    "lgb_model = lgb.train(params_dict, \n",
    "                      num_boost_round=1000, \n",
    "                      train_set=lgb_train_data, \n",
    "                      valid_sets=lgb_validation_data, \n",
    "                      early_stopping_rounds=100, \n",
    "                      evals_result=eval_results)"
   ]
  },
  {
   "cell_type": "code",
   "execution_count": null,
   "metadata": {
    "collapsed": true,
    "scrolled": true
   },
   "outputs": [],
   "source": [
    "lgb.plot_metric(eval_results)"
   ]
  },
  {
   "cell_type": "code",
   "execution_count": null,
   "metadata": {
    "collapsed": true
   },
   "outputs": [],
   "source": [
    "lgb.plot_importance(lgb_model)"
   ]
  },
  {
   "cell_type": "raw",
   "metadata": {},
   "source": [
    "!pip3 install graphviz"
   ]
  },
  {
   "cell_type": "code",
   "execution_count": null,
   "metadata": {
    "collapsed": true
   },
   "outputs": [],
   "source": [
    "lgb.plot_tree(lgb_model,figsize=(10,5))"
   ]
  },
  {
   "cell_type": "code",
   "execution_count": null,
   "metadata": {
    "collapsed": true
   },
   "outputs": [],
   "source": [
    "params = {\n",
    "        'learning_rate':0.01,\n",
    "        'n_estimators':1000\n",
    "         }"
   ]
  },
  {
   "cell_type": "code",
   "execution_count": null,
   "metadata": {
    "collapsed": true
   },
   "outputs": [],
   "source": [
    "lgb_reg = lgb.LGBMRegressor(**params)"
   ]
  },
  {
   "cell_type": "code",
   "execution_count": null,
   "metadata": {
    "collapsed": true
   },
   "outputs": [],
   "source": [
    "lgb_reg.fit(x,y,eval_set=(test_x, test_y), eval_metric='mae', early_stopping_rounds=100)"
   ]
  },
  {
   "cell_type": "markdown",
   "metadata": {},
   "source": [
    "- For more details, please refer to \n",
    "https://www.avanwyk.com/an-overview-of-lightgbm/"
   ]
  },
  {
   "cell_type": "markdown",
   "metadata": {},
   "source": [
    "# CatBoost"
   ]
  },
  {
   "cell_type": "raw",
   "metadata": {},
   "source": [
    "!pip3 install catboost"
   ]
  },
  {
   "cell_type": "code",
   "execution_count": null,
   "metadata": {
    "collapsed": true
   },
   "outputs": [],
   "source": [
    "import catboost as cat"
   ]
  },
  {
   "cell_type": "markdown",
   "metadata": {},
   "source": [
    "- You can also use CatBoost model, such as XGBoost, lightGBM. It is your jobs to search how to use these models elaborately."
   ]
  },
  {
   "cell_type": "markdown",
   "metadata": {},
   "source": [
    "# Partial Dependence Plot"
   ]
  },
  {
   "cell_type": "code",
   "execution_count": null,
   "metadata": {
    "collapsed": true
   },
   "outputs": [],
   "source": [
    "from sklearn.datasets import make_friedman1\n",
    "import pandas as pd\n",
    "#from sklearn.ensemble.partial_dependence import  plot_partial_dependence # This supports only GB model."
   ]
  },
  {
   "cell_type": "code",
   "execution_count": null,
   "metadata": {
    "collapsed": true
   },
   "outputs": [],
   "source": [
    "X, y = make_friedman1()"
   ]
  },
  {
   "cell_type": "markdown",
   "metadata": {},
   "source": [
    "- change above numpy array into pandas format."
   ]
  },
  {
   "cell_type": "code",
   "execution_count": null,
   "metadata": {
    "collapsed": true
   },
   "outputs": [],
   "source": [
    "X = pd.DataFrame(X)\n",
    "X.columns = ['X'+str(i+1) for i in range(10)]\n",
    "y = pd.Series(y,name='reponse')\n",
    "data = X.assign(response=y)"
   ]
  },
  {
   "cell_type": "markdown",
   "metadata": {},
   "source": [
    "- Finding Hyperparameters."
   ]
  },
  {
   "cell_type": "code",
   "execution_count": null,
   "metadata": {
    "collapsed": true
   },
   "outputs": [],
   "source": [
    "from sklearn.model_selection import GridSearchCV"
   ]
  },
  {
   "cell_type": "code",
   "execution_count": null,
   "metadata": {
    "collapsed": true
   },
   "outputs": [],
   "source": [
    "params_dict = {'max_depth':[1,3,5,7],'learning_rate':[0.01,0.1,1.0],'n_estimator':[10,100,300]}\n",
    "reg = xgb.XGBRegressor()"
   ]
  },
  {
   "cell_type": "code",
   "execution_count": null,
   "metadata": {
    "collapsed": true
   },
   "outputs": [],
   "source": [
    "grid = GridSearchCV(reg,param_grid=params_dict)"
   ]
  },
  {
   "cell_type": "code",
   "execution_count": null,
   "metadata": {
    "collapsed": true
   },
   "outputs": [],
   "source": [
    "grid.fit(X=data[[x for x in data.columns if x not in 'response']], y=data['response'])"
   ]
  },
  {
   "cell_type": "code",
   "execution_count": null,
   "metadata": {
    "collapsed": true
   },
   "outputs": [],
   "source": [
    "grid.best_params_"
   ]
  },
  {
   "cell_type": "markdown",
   "metadata": {},
   "source": [
    "- Fitting the final model."
   ]
  },
  {
   "cell_type": "code",
   "execution_count": null,
   "metadata": {
    "collapsed": true
   },
   "outputs": [],
   "source": [
    "reg = xgb.XGBRegressor(**grid.best_params_)\n",
    "reg.fit(data[[x for x in data.columns if x not in ['response']]],data['response'])"
   ]
  },
  {
   "cell_type": "markdown",
   "metadata": {},
   "source": [
    "- Drawing PDP plots\n",
    "\n",
    "\n",
    "https://github.com/SauceCat/PDPbox/blob/master/tutorials/pdpbox_regression.ipynb"
   ]
  },
  {
   "cell_type": "raw",
   "metadata": {},
   "source": [
    "!pip install pdpbox"
   ]
  },
  {
   "cell_type": "code",
   "execution_count": null,
   "metadata": {
    "collapsed": true
   },
   "outputs": [],
   "source": [
    "from pdpbox import pdp"
   ]
  },
  {
   "cell_type": "code",
   "execution_count": null,
   "metadata": {
    "collapsed": true
   },
   "outputs": [],
   "source": [
    "interest = 'X10'"
   ]
  },
  {
   "cell_type": "code",
   "execution_count": null,
   "metadata": {
    "collapsed": true
   },
   "outputs": [],
   "source": [
    "pdp_get_in = pdp.pdp_isolate(\n",
    "    model = reg, dataset=data, model_features=[x for x in data.columns if x not in ['response']], feature=interest\n",
    ")\n",
    "fig, axes = pdp.pdp_plot(pdp_get_in, interest, plot_lines=True, frac_to_plot=100)"
   ]
  },
  {
   "cell_type": "code",
   "execution_count": null,
   "metadata": {
    "collapsed": true
   },
   "outputs": [],
   "source": [
    "interest=['X1', 'X5']"
   ]
  },
  {
   "cell_type": "code",
   "execution_count": null,
   "metadata": {
    "collapsed": true
   },
   "outputs": [],
   "source": [
    "pdp_get_in = pdp.pdp_interact(\n",
    "    model=reg, dataset=data, model_features=[x for x in data.columns if x not in ['response']], features=interest)\n",
    "fig, axes = pdp.pdp_interact_plot(\n",
    "    pdp_get_in, interest, x_quantile=True, plot_type='contour', plot_pdp=False\n",
    ")"
   ]
  }
 ],
 "metadata": {
  "kernelspec": {
   "display_name": "Python 3",
   "language": "python",
   "name": "python3"
  },
  "language_info": {
   "codemirror_mode": {
    "name": "ipython",
    "version": 3
   },
   "file_extension": ".py",
   "mimetype": "text/x-python",
   "name": "python",
   "nbconvert_exporter": "python",
   "pygments_lexer": "ipython3",
   "version": "3.6.3"
  }
 },
 "nbformat": 4,
 "nbformat_minor": 2
}
