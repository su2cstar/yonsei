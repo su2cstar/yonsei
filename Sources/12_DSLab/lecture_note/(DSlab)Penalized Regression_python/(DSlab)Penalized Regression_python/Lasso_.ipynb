{
 "cells": [
  {
   "cell_type": "markdown",
   "metadata": {},
   "source": [
    "## Lasso vs Group Lasso"
   ]
  },
  {
   "cell_type": "code",
   "execution_count": 1,
   "metadata": {
    "collapsed": true
   },
   "outputs": [],
   "source": [
    "import math\n",
    "import numpy as np\n",
    "import pandas as pd\n",
    "from sklearn.linear_model import Lasso, Ridge, ElasticNet\n",
    "from sklearn.metrics import mean_absolute_error, accuracy_score\n",
    "from sklearn.linear_model import LassoCV\n",
    "from sklearn import linear_model\n",
    "from sklearn.model_selection import train_test_split, cross_val_score\n",
    "from sklearn.metrics import r2_score\n",
    "from sklearn.preprocessing import StandardScaler\n",
    "import plotly.plotly as py \n",
    "import plotly.tools as tls \n",
    "import matplotlib.pyplot as plt "
   ]
  },
  {
   "cell_type": "code",
   "execution_count": 2,
   "metadata": {
    "collapsed": true
   },
   "outputs": [],
   "source": [
    "flu= pd.read_csv('flu_99_sample.csv', encoding='euc-kr')#cp949"
   ]
  },
  {
   "cell_type": "code",
   "execution_count": 3,
   "metadata": {},
   "outputs": [
    {
     "data": {
      "text/html": [
       "<div>\n",
       "<style>\n",
       "    .dataframe thead tr:only-child th {\n",
       "        text-align: right;\n",
       "    }\n",
       "\n",
       "    .dataframe thead th {\n",
       "        text-align: left;\n",
       "    }\n",
       "\n",
       "    .dataframe tbody tr th {\n",
       "        vertical-align: top;\n",
       "    }\n",
       "</style>\n",
       "<table border=\"1\" class=\"dataframe\">\n",
       "  <thead>\n",
       "    <tr style=\"text-align: right;\">\n",
       "      <th></th>\n",
       "      <th>DT</th>\n",
       "      <th>WK_CD</th>\n",
       "      <th>CNT</th>\n",
       "      <th>T_CNT</th>\n",
       "      <th>N_CNT</th>\n",
       "      <th>TEMP</th>\n",
       "      <th>HIGH_TEMP</th>\n",
       "      <th>LW_TEMP</th>\n",
       "      <th>HM</th>\n",
       "      <th>LW_HM</th>\n",
       "      <th>DR</th>\n",
       "      <th>WS</th>\n",
       "      <th>PRESS</th>\n",
       "      <th>SO2</th>\n",
       "      <th>PM10</th>\n",
       "      <th>NO2</th>\n",
       "      <th>O2</th>\n",
       "      <th>CO2</th>\n",
       "    </tr>\n",
       "  </thead>\n",
       "  <tbody>\n",
       "    <tr>\n",
       "      <th>0</th>\n",
       "      <td>20120101</td>\n",
       "      <td>Hol</td>\n",
       "      <td>43397</td>\n",
       "      <td>4676</td>\n",
       "      <td>14</td>\n",
       "      <td>-0.12</td>\n",
       "      <td>3.78</td>\n",
       "      <td>-4.40</td>\n",
       "      <td>65.62</td>\n",
       "      <td>48.67</td>\n",
       "      <td>0.52</td>\n",
       "      <td>2.61</td>\n",
       "      <td>1024.01</td>\n",
       "      <td>0.009</td>\n",
       "      <td>66.27</td>\n",
       "      <td>0.021</td>\n",
       "      <td>0.025</td>\n",
       "      <td>0.971</td>\n",
       "    </tr>\n",
       "    <tr>\n",
       "      <th>1</th>\n",
       "      <td>20120102</td>\n",
       "      <td>Hon</td>\n",
       "      <td>517123</td>\n",
       "      <td>7405</td>\n",
       "      <td>37</td>\n",
       "      <td>-2.36</td>\n",
       "      <td>2.64</td>\n",
       "      <td>-6.87</td>\n",
       "      <td>62.62</td>\n",
       "      <td>43.90</td>\n",
       "      <td>0.22</td>\n",
       "      <td>1.90</td>\n",
       "      <td>1026.00</td>\n",
       "      <td>0.007</td>\n",
       "      <td>67.37</td>\n",
       "      <td>0.024</td>\n",
       "      <td>0.022</td>\n",
       "      <td>0.871</td>\n",
       "    </tr>\n",
       "    <tr>\n",
       "      <th>2</th>\n",
       "      <td>20120103</td>\n",
       "      <td>TUE</td>\n",
       "      <td>361808</td>\n",
       "      <td>8926</td>\n",
       "      <td>33</td>\n",
       "      <td>-1.62</td>\n",
       "      <td>2.82</td>\n",
       "      <td>-5.09</td>\n",
       "      <td>66.45</td>\n",
       "      <td>43.49</td>\n",
       "      <td>0.77</td>\n",
       "      <td>2.30</td>\n",
       "      <td>1021.68</td>\n",
       "      <td>0.007</td>\n",
       "      <td>68.88</td>\n",
       "      <td>0.025</td>\n",
       "      <td>0.022</td>\n",
       "      <td>0.900</td>\n",
       "    </tr>\n",
       "    <tr>\n",
       "      <th>3</th>\n",
       "      <td>20120104</td>\n",
       "      <td>WED</td>\n",
       "      <td>336775</td>\n",
       "      <td>10793</td>\n",
       "      <td>32</td>\n",
       "      <td>-3.79</td>\n",
       "      <td>-0.94</td>\n",
       "      <td>-6.08</td>\n",
       "      <td>59.85</td>\n",
       "      <td>42.66</td>\n",
       "      <td>0.95</td>\n",
       "      <td>3.25</td>\n",
       "      <td>1025.20</td>\n",
       "      <td>0.008</td>\n",
       "      <td>52.58</td>\n",
       "      <td>0.017</td>\n",
       "      <td>0.027</td>\n",
       "      <td>0.591</td>\n",
       "    </tr>\n",
       "    <tr>\n",
       "      <th>4</th>\n",
       "      <td>20120105</td>\n",
       "      <td>THU</td>\n",
       "      <td>348399</td>\n",
       "      <td>12729</td>\n",
       "      <td>43</td>\n",
       "      <td>-3.56</td>\n",
       "      <td>1.78</td>\n",
       "      <td>-7.86</td>\n",
       "      <td>57.26</td>\n",
       "      <td>35.96</td>\n",
       "      <td>0.75</td>\n",
       "      <td>2.08</td>\n",
       "      <td>1028.96</td>\n",
       "      <td>0.005</td>\n",
       "      <td>42.04</td>\n",
       "      <td>0.023</td>\n",
       "      <td>0.026</td>\n",
       "      <td>0.626</td>\n",
       "    </tr>\n",
       "  </tbody>\n",
       "</table>\n",
       "</div>"
      ],
      "text/plain": [
       "         DT WK_CD     CNT  T_CNT  N_CNT  TEMP  HIGH_TEMP  LW_TEMP     HM  \\\n",
       "0  20120101   Hol   43397   4676     14 -0.12       3.78    -4.40  65.62   \n",
       "1  20120102   Hon  517123   7405     37 -2.36       2.64    -6.87  62.62   \n",
       "2  20120103   TUE  361808   8926     33 -1.62       2.82    -5.09  66.45   \n",
       "3  20120104   WED  336775  10793     32 -3.79      -0.94    -6.08  59.85   \n",
       "4  20120105   THU  348399  12729     43 -3.56       1.78    -7.86  57.26   \n",
       "\n",
       "   LW_HM    DR    WS    PRESS    SO2   PM10    NO2     O2    CO2  \n",
       "0  48.67  0.52  2.61  1024.01  0.009  66.27  0.021  0.025  0.971  \n",
       "1  43.90  0.22  1.90  1026.00  0.007  67.37  0.024  0.022  0.871  \n",
       "2  43.49  0.77  2.30  1021.68  0.007  68.88  0.025  0.022  0.900  \n",
       "3  42.66  0.95  3.25  1025.20  0.008  52.58  0.017  0.027  0.591  \n",
       "4  35.96  0.75  2.08  1028.96  0.005  42.04  0.023  0.026  0.626  "
      ]
     },
     "execution_count": 3,
     "metadata": {},
     "output_type": "execute_result"
    }
   ],
   "source": [
    "flu.head()"
   ]
  },
  {
   "cell_type": "code",
   "execution_count": 4,
   "metadata": {
    "collapsed": true
   },
   "outputs": [],
   "source": [
    "X_flu = flu.drop(['CNT','DT','WK_CD','PRESS'], axis=1)\n",
    "y_flu = flu['CNT']\n",
    "one_hot_day = pd.get_dummies(flu['WK_CD'])\n",
    "X_flu = X_flu.join(one_hot_day)"
   ]
  },
  {
   "cell_type": "markdown",
   "metadata": {},
   "source": [
    "#### Ridge"
   ]
  },
  {
   "cell_type": "code",
   "execution_count": 5,
   "metadata": {
    "collapsed": true
   },
   "outputs": [],
   "source": [
    "def ridge(X_train, y_train, X_test, y_test, alpha=0.1):\n",
    "    \n",
    "    def mean_absolute_percentage_error(y_true, y_pred): \n",
    "        y_true, y_pred = np.array(y_true), np.array(y_pred)\n",
    "        return np.mean(np.abs((y_true - y_pred) / y_true)) * 100\n",
    "    \n",
    "    clf = Ridge(alpha, max_iter=2000)\n",
    "    clf.fit(X_train, y_train)\n",
    "    y_pred = clf.predict(X_test)\n",
    "    y_test = y_test.ravel()\n",
    "    mse = mean_absolute_error(y_test, y_pred)\n",
    "    rmse = math.sqrt(mse)\n",
    "    rsquare = r2_score(y_test,y_pred)\n",
    "    MAPE = mean_absolute_percentage_error(y_test, y_pred)\n",
    "    print(\"Ridge's Rsquare : {}\".format(rsquare))\n",
    "    print(\"Ridge's RMSE : {}\".format(rmse))\n",
    "    print(\"Ridge's MAPE : {}\".format(MAPE))\n",
    "    return rsquare, rmse, MAPE"
   ]
  },
  {
   "cell_type": "code",
   "execution_count": 6,
   "metadata": {
    "collapsed": true
   },
   "outputs": [],
   "source": [
    "X_train, X_test, y_train, y_test = train_test_split(X_flu, y_flu, test_size=0.25, random_state=0)"
   ]
  },
  {
   "cell_type": "code",
   "execution_count": 7,
   "metadata": {},
   "outputs": [
    {
     "name": "stdout",
     "output_type": "stream",
     "text": [
      "Ridge's Rsquare : 0.8157769447815232\n",
      "Ridge's RMSE : 222.56727662129887\n",
      "Ridge's MAPE : 33.15318408708653\n",
      "Finish!\n"
     ]
    }
   ],
   "source": [
    "alpha = 10\n",
    "ridge(X_train, y_train, X_test, y_test, alpha)\n",
    "print(\"Finish!\")"
   ]
  },
  {
   "cell_type": "markdown",
   "metadata": {},
   "source": [
    "### Lasso"
   ]
  },
  {
   "cell_type": "code",
   "execution_count": 8,
   "metadata": {
    "collapsed": true
   },
   "outputs": [],
   "source": [
    "def lasso(X_train, y_train, X_test, y_test, alpha=0.1):\n",
    "    \n",
    "    def mean_absolute_percentage_error(y_true, y_pred): \n",
    "        y_true, y_pred = np.array(y_true), np.array(y_pred)\n",
    "        return np.mean(np.abs((y_true - y_pred) / y_true)) * 100\n",
    "\n",
    "    clf = Lasso(alpha, max_iter=2000 ,normalize=True)\n",
    "    clf.fit(X_train, y_train)\n",
    "    y_pred = clf.predict(X_test)\n",
    "    y_test = y_test.ravel()\n",
    "    mse = mean_absolute_error(y_test, y_pred)\n",
    "    rmse = math.sqrt(mse)\n",
    "    rsquare = r2_score(y_test,y_pred)\n",
    "    MAPE = mean_absolute_percentage_error(y_test, y_pred)\n",
    "    print(\"Lasso's Rsquare : {}\".format(rsquare))\n",
    "    print(\"Lasso's RMSE : {}\".format(rmse))\n",
    "    print(\"Lasso's MAPE : {}\".format(MAPE))\n",
    "    return clf, rsquare, rmse, MAPE"
   ]
  },
  {
   "cell_type": "code",
   "execution_count": 9,
   "metadata": {},
   "outputs": [
    {
     "name": "stdout",
     "output_type": "stream",
     "text": [
      "Lasso's Rsquare : 0.6842620512904021\n",
      "Lasso's RMSE : 254.27354545910518\n",
      "Lasso's MAPE : 42.967966604921756\n"
     ]
    }
   ],
   "source": [
    "alpha = 1000 #15\n",
    "clf, rsquare, rmse, MAPE = lasso(X_train, y_train, X_test, y_test, alpha)"
   ]
  },
  {
   "cell_type": "code",
   "execution_count": 10,
   "metadata": {},
   "outputs": [
    {
     "name": "stdout",
     "output_type": "stream",
     "text": [
      "[  0.00000000e+00   0.00000000e+00  -0.00000000e+00  -0.00000000e+00\n",
      "  -2.31092174e+03  -0.00000000e+00  -1.94401702e+02  -0.00000000e+00\n",
      "   0.00000000e+00   0.00000000e+00   0.00000000e+00   3.78610983e+05\n",
      "  -0.00000000e+00   0.00000000e+00   0.00000000e+00  -1.03228961e+05\n",
      "   0.00000000e+00   7.11500892e+04  -0.00000000e+00  -1.87570581e+05\n",
      "   0.00000000e+00   0.00000000e+00  -0.00000000e+00]\n"
     ]
    }
   ],
   "source": [
    "print(clf.coef_) #변수들의 목록과 해당 값을 같이 보여주는거 추가  "
   ]
  },
  {
   "cell_type": "code",
   "execution_count": 11,
   "metadata": {
    "collapsed": true
   },
   "outputs": [],
   "source": [
    "scaler = StandardScaler()\n",
    "X_ttrain = scaler.fit_transform(X_train)\n",
    "X_ttest = scaler.fit_transform(X_test)"
   ]
  },
  {
   "cell_type": "code",
   "execution_count": 12,
   "metadata": {},
   "outputs": [
    {
     "name": "stdout",
     "output_type": "stream",
     "text": [
      "Lasso's Rsquare : 0.8367584588260846\n",
      "Lasso's RMSE : 217.87259329914642\n",
      "Lasso's MAPE : 30.92048141400394\n"
     ]
    }
   ],
   "source": [
    "alpha = 15\n",
    "clf, rsquare, rmse, MAPE = lasso(X_ttrain, y_train, X_ttest, y_test, alpha)"
   ]
  },
  {
   "cell_type": "code",
   "execution_count": 13,
   "metadata": {},
   "outputs": [
    {
     "data": {
      "text/plain": [
       "145782.82392499596"
      ]
     },
     "execution_count": 13,
     "metadata": {},
     "output_type": "execute_result"
    }
   ],
   "source": [
    "np.std(y_test)"
   ]
  },
  {
   "cell_type": "markdown",
   "metadata": {},
   "source": [
    "### *Tuning hyperparameter "
   ]
  },
  {
   "cell_type": "markdown",
   "metadata": {},
   "source": [
    "Lasso "
   ]
  },
  {
   "cell_type": "code",
   "execution_count": 14,
   "metadata": {},
   "outputs": [
    {
     "data": {
      "image/png": "[encoded data removed]",
      "text/plain": [
       "<matplotlib.figure.Figure at 0x1a194c0668>"
      ]
     },
     "metadata": {},
     "output_type": "display_data"
    },
    {
     "name": "stdout",
     "output_type": "stream",
     "text": [
      "3.16227766017\n"
     ]
    }
   ],
   "source": [
    "alpha_space = np.logspace(0.5, 2, 50)\n",
    "Lasso_scores = []\n",
    "Lasso_scores_std = []\n",
    "\n",
    "Lasso_cv = Lasso(normalize=True)\n",
    "lasso_results = dict()\n",
    "# Compute scores over range of alphas\n",
    "for alpha in alpha_space:\n",
    "\n",
    "    # Specify the alpha value to use: ridge.alpha\n",
    "    Lasso_cv.alpha = alpha\n",
    "    \n",
    "    # Perform 10-fold CV: ridge_cv_scores\n",
    "    Lasso_cv_scores = cross_val_score(Lasso_cv, X_ttrain, y_train, cv=5)\n",
    "    \n",
    "    # Append the mean of ridge_cv_scores to ridge_scores\n",
    "    lasso_cv_avg = np.mean(Lasso_cv_scores)\n",
    "    Lasso_scores.append(lasso_cv_avg)\n",
    "    lasso_results[alpha] = lasso_cv_avg\n",
    "    \n",
    "    # Append the std of ridge_cv_scores to ridge_scores_std\n",
    "    Lasso_scores_std.append(np.std(Lasso_cv_scores))\n",
    "    \n",
    "\n",
    "# Use this function to create a plot    \n",
    "def display_plot(cv_scores, cv_scores_std):\n",
    "    fig = plt.figure()\n",
    "    ax = fig.add_subplot(1,1,1)\n",
    "    ax.plot(alpha_space, cv_scores)\n",
    "\n",
    "    std_error = cv_scores_std / np.sqrt(10)\n",
    "\n",
    "    ax.fill_between(alpha_space, cv_scores + std_error, cv_scores - std_error, alpha=0.2)\n",
    "    ax.set_ylabel('CV Score +/- Std Error')\n",
    "    ax.set_xlabel('Alpha')\n",
    "    ax.axhline(np.max(cv_scores), linestyle='--', color='.5')\n",
    "    ax.set_xlim([alpha_space[0], alpha_space[-1]])\n",
    "    ax.set_xscale('log')\n",
    "    plt.show()\n",
    "\n",
    "# Display the plot\n",
    "display_plot(Lasso_scores, Lasso_scores_std)\n",
    "lasso_lambda = max(lasso_results, key=lasso_results.get)\n",
    "print(lasso_lambda)"
   ]
  },
  {
   "cell_type": "code",
   "execution_count": 15,
   "metadata": {},
   "outputs": [
    {
     "name": "stdout",
     "output_type": "stream",
     "text": [
      "Lasso's Rsquare : 0.8339772342347973\n",
      "Lasso's RMSE : 217.2394860093321\n",
      "Lasso's MAPE : 31.268360835814935\n"
     ]
    }
   ],
   "source": [
    "alpha = 3.162\n",
    "clf, rsquare, rmse, MAPE = lasso(X_train, y_train, X_test, y_test, alpha)"
   ]
  },
  {
   "cell_type": "markdown",
   "metadata": {},
   "source": [
    "Ridge"
   ]
  },
  {
   "cell_type": "code",
   "execution_count": 16,
   "metadata": {},
   "outputs": [
    {
     "data": {
      "image/png": "[encoded data removed]",
      "text/plain": [
       "<matplotlib.figure.Figure at 0x1151a5198>"
      ]
     },
     "metadata": {},
     "output_type": "display_data"
    },
    {
     "name": "stdout",
     "output_type": "stream",
     "text": [
      "0.0719685673001\n"
     ]
    }
   ],
   "source": [
    "alpha_space = np.logspace(-4, 0, 50)\n",
    "ridge_scores = []\n",
    "ridge_scores_std = []\n",
    "\n",
    "# Create a ridge regressor: ridge\n",
    "ridge_cv = Ridge(normalize=True)\n",
    "ridge_results = dict()\n",
    "# Compute scores over range of alphas\n",
    "for alpha in alpha_space:\n",
    "\n",
    "    # Specify the alpha value to use: ridge.alpha\n",
    "    ridge_cv.alpha = alpha\n",
    "    \n",
    "    # Perform 10-fold CV: ridge_cv_scores\n",
    "    ridge_cv_scores = cross_val_score(ridge_cv, X_flu, y_flu, cv=10)\n",
    "    \n",
    "    # Append the mean of ridge_cv_scores to ridge_scores\n",
    "    ridge_cv_avg = np.mean(ridge_cv_scores)\n",
    "    ridge_scores.append(ridge_cv_avg)\n",
    "    ridge_results[alpha] = ridge_cv_avg\n",
    "    \n",
    "    # Append the std of ridge_cv_scores to ridge_scores_std\n",
    "    ridge_scores_std.append(np.std(ridge_cv_scores))\n",
    "\n",
    "# Use this function to create a plot    \n",
    "def display_plot2(cv_scores, cv_scores_std):\n",
    "    fig = plt.figure()\n",
    "    ax = fig.add_subplot(1,1,1)\n",
    "    ax.plot(alpha_space, cv_scores)\n",
    "\n",
    "    std_error = cv_scores_std / np.sqrt(10)\n",
    "\n",
    "    ax.fill_between(alpha_space, cv_scores + std_error, cv_scores - std_error, alpha=0.2)\n",
    "    ax.set_ylabel('CV Score +/- Std Error')\n",
    "    ax.set_xlabel('Alpha')\n",
    "    ax.axhline(np.max(cv_scores), linestyle='--', color='.5')\n",
    "    ax.set_xlim([alpha_space[0], alpha_space[-1]])\n",
    "    ax.set_xscale('log')\n",
    "    plt.show()\n",
    "\n",
    "# Display the plot\n",
    "display_plot2(ridge_scores, ridge_scores_std)\n",
    "ridge_lambda = max(ridge_results, key=ridge_results.get)\n",
    "print(ridge_lambda)"
   ]
  },
  {
   "cell_type": "code",
   "execution_count": 17,
   "metadata": {},
   "outputs": [
    {
     "name": "stdout",
     "output_type": "stream",
     "text": [
      "Ridge's Rsquare : 0.8283349570617053\n",
      "Ridge's RMSE : 220.4131142620762\n",
      "Ridge's MAPE : 32.111631673397916\n",
      "Finish!\n"
     ]
    }
   ],
   "source": [
    "alpha = 0.071968\n",
    "ridge(X_train, y_train, X_test, y_test, alpha)\n",
    "print(\"Finish!\")"
   ]
  },
  {
   "cell_type": "markdown",
   "metadata": {},
   "source": [
    "#### Group Lasso "
   ]
  },
  {
   "cell_type": "code",
   "execution_count": 21,
   "metadata": {},
   "outputs": [
    {
     "name": "stdout",
     "output_type": "stream",
     "text": [
      "Collecting grouplasso\n",
      "  Downloading https://files.pythonhosted.org/packages/79/f1/c409e0cb40998f9765ecec67f2c943035fe88ac57f38180314feb8f97af9/GroupLasso-0.1.0.tar.gz\n",
      "Requirement already satisfied: pandas in /anaconda3/lib/python3.6/site-packages (from grouplasso)\n",
      "Requirement already satisfied: numpy in /anaconda3/lib/python3.6/site-packages (from grouplasso)\n",
      "Collecting sklearn (from grouplasso)\n",
      "  Downloading https://files.pythonhosted.org/packages/1e/7a/dbb3be0ce9bd5c8b7e3d87328e79063f8b263b2b1bfa4774cb1147bfcd3f/sklearn-0.0.tar.gz\n",
      "Requirement already satisfied: numba in /anaconda3/lib/python3.6/site-packages (from grouplasso)\n",
      "Requirement already satisfied: python-dateutil>=2 in /anaconda3/lib/python3.6/site-packages (from pandas->grouplasso)\n",
      "Requirement already satisfied: pytz>=2011k in /anaconda3/lib/python3.6/site-packages (from pandas->grouplasso)\n",
      "Requirement already satisfied: scikit-learn in /anaconda3/lib/python3.6/site-packages (from sklearn->grouplasso)\n",
      "Requirement already satisfied: llvmlite in /anaconda3/lib/python3.6/site-packages (from numba->grouplasso)\n",
      "Requirement already satisfied: six>=1.5 in /anaconda3/lib/python3.6/site-packages (from python-dateutil>=2->pandas->grouplasso)\n",
      "Building wheels for collected packages: grouplasso, sklearn\n",
      "  Running setup.py bdist_wheel for grouplasso ... \u001b[?25ldone\n",
      "\u001b[?25h  Stored in directory: /Users/yonsei/Library/Caches/pip/wheels/77/ae/a9/0e94a7f3255ce40badb59a9c1207565f226c40113f0f9b1af6\n",
      "  Running setup.py bdist_wheel for sklearn ... \u001b[?25ldone\n",
      "\u001b[?25h  Stored in directory: /Users/yonsei/Library/Caches/pip/wheels/76/03/bb/589d421d27431bcd2c6da284d5f2286c8e3b2ea3cf1594c074\n",
      "Successfully built grouplasso sklearn\n",
      "Installing collected packages: sklearn, grouplasso\n",
      "Successfully installed grouplasso-0.1.0 sklearn-0.0\n",
      "\u001b[33mYou are using pip version 9.0.1, however version 19.0.2 is available.\n",
      "You should consider upgrading via the 'pip install --upgrade pip' command.\u001b[0m\n"
     ]
    }
   ],
   "source": [
    "!pip install grouplasso"
   ]
  },
  {
   "cell_type": "code",
   "execution_count": 22,
   "metadata": {},
   "outputs": [],
   "source": [
    "from grouplasso import GroupLassoRegressor"
   ]
  },
  {
   "cell_type": "code",
   "execution_count": 23,
   "metadata": {
    "collapsed": true
   },
   "outputs": [],
   "source": [
    "np.random.seed(0)\n",
    "X = np.random.randn(10, 3)\n",
    "# target variable is strongly correlated with 0th feature.\n",
    "y = X[:, 0] + np.random.randn(10) * 0.1"
   ]
  },
  {
   "cell_type": "code",
   "execution_count": 24,
   "metadata": {
    "collapsed": true
   },
   "outputs": [],
   "source": [
    "group_ids = np.array([0, 0, 1])"
   ]
  },
  {
   "cell_type": "code",
   "execution_count": 25,
   "metadata": {
    "collapsed": true
   },
   "outputs": [],
   "source": [
    "model = GroupLassoRegressor(group_ids=group_ids, random_state=42, verbose=False, alpha=1e-1)\n",
    "model.fit(X, y)"
   ]
  },
  {
   "cell_type": "code",
   "execution_count": 26,
   "metadata": {},
   "outputs": [
    {
     "data": {
      "text/plain": [
       "array([ 0.84795902, -0.01193463, -0.        ])"
      ]
     },
     "execution_count": 26,
     "metadata": {},
     "output_type": "execute_result"
    }
   ],
   "source": [
    "model.coef_"
   ]
  },
  {
   "cell_type": "code",
   "execution_count": 27,
   "metadata": {},
   "outputs": [
    {
     "data": {
      "text/html": [
       "<div>\n",
       "<style>\n",
       "    .dataframe thead tr:only-child th {\n",
       "        text-align: right;\n",
       "    }\n",
       "\n",
       "    .dataframe thead th {\n",
       "        text-align: left;\n",
       "    }\n",
       "\n",
       "    .dataframe tbody tr th {\n",
       "        vertical-align: top;\n",
       "    }\n",
       "</style>\n",
       "<table border=\"1\" class=\"dataframe\">\n",
       "  <thead>\n",
       "    <tr style=\"text-align: right;\">\n",
       "      <th></th>\n",
       "      <th>T_CNT</th>\n",
       "      <th>N_CNT</th>\n",
       "      <th>TEMP</th>\n",
       "      <th>HIGH_TEMP</th>\n",
       "      <th>LW_TEMP</th>\n",
       "      <th>HM</th>\n",
       "      <th>LW_HM</th>\n",
       "      <th>DR</th>\n",
       "      <th>WS</th>\n",
       "      <th>SO2</th>\n",
       "      <th>...</th>\n",
       "      <th>CO2</th>\n",
       "      <th>FRI</th>\n",
       "      <th>Hol</th>\n",
       "      <th>Hon</th>\n",
       "      <th>MON</th>\n",
       "      <th>SAT</th>\n",
       "      <th>SUN</th>\n",
       "      <th>THU</th>\n",
       "      <th>TUE</th>\n",
       "      <th>WED</th>\n",
       "    </tr>\n",
       "  </thead>\n",
       "  <tbody>\n",
       "    <tr>\n",
       "      <th>452</th>\n",
       "      <td>7148</td>\n",
       "      <td>22</td>\n",
       "      <td>9.86</td>\n",
       "      <td>17.13</td>\n",
       "      <td>3.23</td>\n",
       "      <td>49.93</td>\n",
       "      <td>23.51</td>\n",
       "      <td>0.02</td>\n",
       "      <td>2.17</td>\n",
       "      <td>0.005</td>\n",
       "      <td>...</td>\n",
       "      <td>0.582</td>\n",
       "      <td>0</td>\n",
       "      <td>0</td>\n",
       "      <td>0</td>\n",
       "      <td>0</td>\n",
       "      <td>0</td>\n",
       "      <td>0</td>\n",
       "      <td>1</td>\n",
       "      <td>0</td>\n",
       "      <td>0</td>\n",
       "    </tr>\n",
       "    <tr>\n",
       "      <th>337</th>\n",
       "      <td>15239</td>\n",
       "      <td>37</td>\n",
       "      <td>3.73</td>\n",
       "      <td>8.82</td>\n",
       "      <td>-0.68</td>\n",
       "      <td>75.11</td>\n",
       "      <td>49.17</td>\n",
       "      <td>3.71</td>\n",
       "      <td>2.82</td>\n",
       "      <td>0.005</td>\n",
       "      <td>...</td>\n",
       "      <td>0.789</td>\n",
       "      <td>0</td>\n",
       "      <td>0</td>\n",
       "      <td>0</td>\n",
       "      <td>1</td>\n",
       "      <td>0</td>\n",
       "      <td>0</td>\n",
       "      <td>0</td>\n",
       "      <td>0</td>\n",
       "      <td>0</td>\n",
       "    </tr>\n",
       "    <tr>\n",
       "      <th>509</th>\n",
       "      <td>3023</td>\n",
       "      <td>31</td>\n",
       "      <td>21.69</td>\n",
       "      <td>29.61</td>\n",
       "      <td>14.63</td>\n",
       "      <td>62.68</td>\n",
       "      <td>30.19</td>\n",
       "      <td>0.00</td>\n",
       "      <td>1.64</td>\n",
       "      <td>0.006</td>\n",
       "      <td>...</td>\n",
       "      <td>0.640</td>\n",
       "      <td>1</td>\n",
       "      <td>0</td>\n",
       "      <td>0</td>\n",
       "      <td>0</td>\n",
       "      <td>0</td>\n",
       "      <td>0</td>\n",
       "      <td>0</td>\n",
       "      <td>0</td>\n",
       "      <td>0</td>\n",
       "    </tr>\n",
       "    <tr>\n",
       "      <th>77</th>\n",
       "      <td>8435</td>\n",
       "      <td>29</td>\n",
       "      <td>7.74</td>\n",
       "      <td>12.81</td>\n",
       "      <td>3.31</td>\n",
       "      <td>75.12</td>\n",
       "      <td>52.47</td>\n",
       "      <td>0.77</td>\n",
       "      <td>2.54</td>\n",
       "      <td>0.004</td>\n",
       "      <td>...</td>\n",
       "      <td>0.652</td>\n",
       "      <td>0</td>\n",
       "      <td>0</td>\n",
       "      <td>0</td>\n",
       "      <td>0</td>\n",
       "      <td>0</td>\n",
       "      <td>1</td>\n",
       "      <td>0</td>\n",
       "      <td>0</td>\n",
       "      <td>0</td>\n",
       "    </tr>\n",
       "    <tr>\n",
       "      <th>451</th>\n",
       "      <td>6926</td>\n",
       "      <td>48</td>\n",
       "      <td>9.13</td>\n",
       "      <td>16.82</td>\n",
       "      <td>2.17</td>\n",
       "      <td>52.41</td>\n",
       "      <td>25.13</td>\n",
       "      <td>0.07</td>\n",
       "      <td>1.84</td>\n",
       "      <td>0.005</td>\n",
       "      <td>...</td>\n",
       "      <td>0.691</td>\n",
       "      <td>0</td>\n",
       "      <td>0</td>\n",
       "      <td>0</td>\n",
       "      <td>0</td>\n",
       "      <td>0</td>\n",
       "      <td>0</td>\n",
       "      <td>0</td>\n",
       "      <td>0</td>\n",
       "      <td>1</td>\n",
       "    </tr>\n",
       "  </tbody>\n",
       "</table>\n",
       "<p>5 rows × 23 columns</p>\n",
       "</div>"
      ],
      "text/plain": [
       "     T_CNT  N_CNT   TEMP  HIGH_TEMP  LW_TEMP     HM  LW_HM    DR    WS    SO2  \\\n",
       "452   7148     22   9.86      17.13     3.23  49.93  23.51  0.02  2.17  0.005   \n",
       "337  15239     37   3.73       8.82    -0.68  75.11  49.17  3.71  2.82  0.005   \n",
       "509   3023     31  21.69      29.61    14.63  62.68  30.19  0.00  1.64  0.006   \n",
       "77    8435     29   7.74      12.81     3.31  75.12  52.47  0.77  2.54  0.004   \n",
       "451   6926     48   9.13      16.82     2.17  52.41  25.13  0.07  1.84  0.005   \n",
       "\n",
       "    ...     CO2  FRI  Hol  Hon  MON  SAT  SUN  THU  TUE  WED  \n",
       "452 ...   0.582    0    0    0    0    0    0    1    0    0  \n",
       "337 ...   0.789    0    0    0    1    0    0    0    0    0  \n",
       "509 ...   0.640    1    0    0    0    0    0    0    0    0  \n",
       "77  ...   0.652    0    0    0    0    0    1    0    0    0  \n",
       "451 ...   0.691    0    0    0    0    0    0    0    0    1  \n",
       "\n",
       "[5 rows x 23 columns]"
      ]
     },
     "execution_count": 27,
     "metadata": {},
     "output_type": "execute_result"
    }
   ],
   "source": [
    "X_train.head()"
   ]
  },
  {
   "cell_type": "code",
   "execution_count": 28,
   "metadata": {},
   "outputs": [
    {
     "name": "stdout",
     "output_type": "stream",
     "text": [
      "training loss: 100636716171.0\n",
      "training loss: 4.00332210814e+24\n",
      "training loss: 2.16064076158e+38\n",
      "training loss: 1.16612362818e+52\n",
      "training loss: 6.29370851635e+65\n",
      "training loss: 3.39678966549e+79\n",
      "training loss: 1.83328795758e+93\n",
      "training loss: 9.89447409586e+106\n",
      "training loss: 5.34016586039e+120\n",
      "training loss: 2.88215130387e+134\n"
     ]
    },
    {
     "name": "stderr",
     "output_type": "stream",
     "text": [
      "/anaconda3/lib/python3.6/site-packages/grouplasso/model.py:138: UserWarning:\n",
      "\n",
      "Failed to converge. Increase the number of iterations.\n",
      "\n"
     ]
    },
    {
     "data": {
      "text/plain": [
       "1.1088491646308609e+74"
      ]
     },
     "execution_count": 28,
     "metadata": {},
     "output_type": "execute_result"
    }
   ],
   "source": [
    "group_ids = np.array([1,1,2,2,2,3,3,3,3,4,4,4,4,4,5,5,5,5,5,5,5,5,5])\n",
    "model = GroupLassoRegressor(group_ids=group_ids, alpha=0.0001, max_iter=10,verbose=True)\n",
    "model.fit(X_train, y_train)\n",
    "\n",
    "model.coef_\n",
    "y_pred = model.predict(X_test)\n",
    "mean_absolute_error(y_test, y_pred)"
   ]
  },
  {
   "cell_type": "markdown",
   "metadata": {},
   "source": [
    "![hahah2](angry.png)"
   ]
  },
  {
   "cell_type": "markdown",
   "metadata": {},
   "source": [
    "### Negative binomial regression in python"
   ]
  }
 ],
 "metadata": {
  "kernelspec": {
   "display_name": "Python 3",
   "language": "python",
   "name": "python3"
  },
  "language_info": {
   "codemirror_mode": {
    "name": "ipython",
    "version": 3
   },
   "file_extension": ".py",
   "mimetype": "text/x-python",
   "name": "python",
   "nbconvert_exporter": "python",
   "pygments_lexer": "ipython3",
   "version": "3.6.3"
  }
 },
 "nbformat": 4,
 "nbformat_minor": 2
}
