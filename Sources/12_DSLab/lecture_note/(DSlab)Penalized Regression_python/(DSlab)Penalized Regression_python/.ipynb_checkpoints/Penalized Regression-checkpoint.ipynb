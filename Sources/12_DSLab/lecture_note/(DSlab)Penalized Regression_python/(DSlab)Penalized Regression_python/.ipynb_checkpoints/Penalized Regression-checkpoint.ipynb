{
 "cells": [
  {
   "cell_type": "code",
   "execution_count": null,
   "metadata": {},
   "outputs": [
    {
     "name": "stdout",
     "output_type": "stream",
     "text": [
      "Collecting plotly\n",
      "  Downloading https://files.pythonhosted.org/packages/fd/db/003b5cfbc710f4d4982440451185b952269e4080a57ae7e760a2ceb8ce0c/plotly-3.6.1-py2.py3-none-any.whl (38.6MB)\n",
      "\u001b[K    76% |████████████████████████▌       | 29.5MB 588kB/s eta 0:00:16   21% |██████▉                         | 8.3MB 594kB/s eta 0:00:51"
     ]
    }
   ],
   "source": [
    "!pip install plotly"
   ]
  },
  {
   "cell_type": "code",
   "execution_count": 1,
   "metadata": {},
   "outputs": [
    {
     "ename": "ModuleNotFoundError",
     "evalue": "No module named 'plotly'",
     "output_type": "error",
     "traceback": [
      "\u001b[0;31m---------------------------------------------------------------------------\u001b[0m",
      "\u001b[0;31mModuleNotFoundError\u001b[0m                       Traceback (most recent call last)",
      "\u001b[0;32m<ipython-input-1-45688d46917e>\u001b[0m in \u001b[0;36m<module>\u001b[0;34m()\u001b[0m\n\u001b[1;32m      6\u001b[0m \u001b[0;32mfrom\u001b[0m \u001b[0msklearn\u001b[0m\u001b[0;34m.\u001b[0m\u001b[0mmetrics\u001b[0m \u001b[0;32mimport\u001b[0m \u001b[0mmean_absolute_error\u001b[0m\u001b[0;34m,\u001b[0m \u001b[0maccuracy_score\u001b[0m\u001b[0;34m\u001b[0m\u001b[0m\n\u001b[1;32m      7\u001b[0m \u001b[0;32mfrom\u001b[0m \u001b[0msklearn\u001b[0m\u001b[0;34m.\u001b[0m\u001b[0mmodel_selection\u001b[0m \u001b[0;32mimport\u001b[0m \u001b[0mtrain_test_split\u001b[0m\u001b[0;34m,\u001b[0m \u001b[0mKFold\u001b[0m\u001b[0;34m\u001b[0m\u001b[0m\n\u001b[0;32m----> 8\u001b[0;31m \u001b[0;32mimport\u001b[0m \u001b[0mplotly\u001b[0m\u001b[0;34m.\u001b[0m\u001b[0mplotly\u001b[0m \u001b[0;32mas\u001b[0m \u001b[0mpy\u001b[0m\u001b[0;34m\u001b[0m\u001b[0m\n\u001b[0m\u001b[1;32m      9\u001b[0m \u001b[0;32mimport\u001b[0m \u001b[0mplotly\u001b[0m\u001b[0;34m.\u001b[0m\u001b[0mtools\u001b[0m \u001b[0;32mas\u001b[0m \u001b[0mtls\u001b[0m\u001b[0;34m\u001b[0m\u001b[0m\n\u001b[1;32m     10\u001b[0m \u001b[0;32mimport\u001b[0m \u001b[0mmatplotlib\u001b[0m\u001b[0;34m.\u001b[0m\u001b[0mpyplot\u001b[0m \u001b[0;32mas\u001b[0m \u001b[0mplt\u001b[0m\u001b[0;34m\u001b[0m\u001b[0m\n",
      "\u001b[0;31mModuleNotFoundError\u001b[0m: No module named 'plotly'"
     ]
    }
   ],
   "source": [
    "import math\n",
    "import numpy as np \n",
    "import pandas as pd\n",
    "from pandas import ExcelWriter, ExcelFile \n",
    "from sklearn.linear_model import Lasso, Ridge, ElasticNet, LassoCV\n",
    "from sklearn.metrics import mean_absolute_error, accuracy_score\n",
    "from sklearn.model_selection import train_test_split, KFold\n",
    "import plotly.plotly as py \n",
    "import plotly.tools as tls \n",
    "import matplotlib.pyplot as plt\n",
    "from matplotlib.pyplot import figure\n",
    "import seaborn as sns"
   ]
  },
  {
   "cell_type": "code",
   "execution_count": null,
   "metadata": {
    "collapsed": true
   },
   "outputs": [],
   "source": [
    "file_location='C:/Users/seul/Desktop/새 폴더/대학원/학회'"
   ]
  },
  {
   "cell_type": "code",
   "execution_count": null,
   "metadata": {
    "collapsed": true
   },
   "outputs": [],
   "source": [
    "hotel_score = pd.read_csv('11_xy1.csv', encoding='euc-kr')#cp949"
   ]
  },
  {
   "cell_type": "code",
   "execution_count": null,
   "metadata": {
    "collapsed": true
   },
   "outputs": [],
   "source": [
    "hotel_score.head()"
   ]
  },
  {
   "cell_type": "code",
   "execution_count": null,
   "metadata": {
    "collapsed": true
   },
   "outputs": [],
   "source": [
    "hotel_score = hotel_score.drop('Unnamed: 0',1)"
   ]
  },
  {
   "cell_type": "code",
   "execution_count": null,
   "metadata": {
    "collapsed": true
   },
   "outputs": [],
   "source": [
    "hotel_score.rename(columns={'Unnamed: 1578':'rating'},inplace=True)"
   ]
  },
  {
   "cell_type": "code",
   "execution_count": null,
   "metadata": {
    "collapsed": true
   },
   "outputs": [],
   "source": [
    "hotel_score.head()"
   ]
  },
  {
   "cell_type": "markdown",
   "metadata": {},
   "source": [
    "#### undersampling을 통해 Sample 추출 "
   ]
  },
  {
   "cell_type": "code",
   "execution_count": null,
   "metadata": {
    "collapsed": true
   },
   "outputs": [],
   "source": [
    "plt.hist(hotel_score.rating)"
   ]
  },
  {
   "cell_type": "code",
   "execution_count": null,
   "metadata": {
    "collapsed": true
   },
   "outputs": [],
   "source": [
    "X = hotel_score.drop(['rating'], axis=1).values\n",
    "y = hotel_score[['rating']].values"
   ]
  },
  {
   "cell_type": "code",
   "execution_count": null,
   "metadata": {
    "collapsed": true
   },
   "outputs": [],
   "source": [
    "def classify_label(preds):\n",
    "    labels = []\n",
    "    for pred in preds:\n",
    "        if pred > 0:\n",
    "            labels.append(1)\n",
    "        else:\n",
    "            labels.append(-1)\n",
    "    return labels"
   ]
  },
  {
   "cell_type": "code",
   "execution_count": null,
   "metadata": {
    "collapsed": true
   },
   "outputs": [],
   "source": [
    "def lasso(X_train, y_train, X_test, y_test, alpha):\n",
    "    clf = Lasso(alpha)\n",
    "    clf.fit(X_train, y_train)\n",
    "    y_pred = clf.predict(X_test)\n",
    "    y_pred_labeled = classify_label(y_pred)\n",
    "    return accuracy_score(y_test, y_pred_labeled)"
   ]
  },
  {
   "cell_type": "code",
   "execution_count": null,
   "metadata": {
    "collapsed": true
   },
   "outputs": [],
   "source": [
    "def ridge(X_train, y_train, X_test, y_test, alpha):\n",
    "    clf = Ridge(alpha)\n",
    "    clf.fit(X_train, y_train)\n",
    "    y_pred = clf.predict(X_test)\n",
    "    y_pred_labeled = classify_label(y_pred)\n",
    "    return accuracy_score(y_test, y_pred_labeled)"
   ]
  },
  {
   "cell_type": "code",
   "execution_count": null,
   "metadata": {
    "collapsed": true
   },
   "outputs": [],
   "source": [
    "def elastic(X_train, y_train, X_test, y_test, alpha):\n",
    "    clf = ElasticNet(alpha)\n",
    "    clf.fit(X_train, y_train)\n",
    "    y_pred = clf.predict(X_test)\n",
    "    y_pred_labeled = classify_label(y_pred)\n",
    "    return accuracy_score(y_test, y_pred_labeled)"
   ]
  },
  {
   "cell_type": "code",
   "execution_count": null,
   "metadata": {
    "collapsed": true
   },
   "outputs": [],
   "source": [
    "def adaptive_lasso(X_train, y_train, X_test, y_test, alpha):\n",
    "    gprime = lambda w: 1. / (2. * np.sqrt(np.abs(w)) + np.finfo(float).eps)\n",
    "    n_samples, n_features = X_train.shape\n",
    "    weights = np.ones(n_features)\n",
    "    n_lasso_iterations = 5\n",
    "    for k in range(n_lasso_iterations):\n",
    "        X_w = X_train / weights[np.newaxis, :]\n",
    "        clf = Lasso(alpha=alpha, fit_intercept=False)\n",
    "        clf.fit(X_w, y_train)\n",
    "        coef_ = clf.coef_ / weights\n",
    "        weights = gprime(coef_)\n",
    "        \n",
    "    y_pred = clf.predict(X_test)\n",
    "    y_pred_labeled = classify_label(y_pred)\n",
    "    return accuracy_score(y_test, y_pred_labeled)"
   ]
  },
  {
   "cell_type": "code",
   "execution_count": null,
   "metadata": {
    "collapsed": true
   },
   "outputs": [],
   "source": [
    "def main():\n",
    "    X_train, X_test, y_train, y_test = train_test_split(X, y, test_size=0.25, random_state=0)\n",
    "\n",
    "    alpha = 10\n",
    "    lasso_acc = lasso(X_train, y_train, X_test, y_test, alpha)\n",
    "    ridge_acc = ridge(X_train, y_train, X_test, y_test, alpha)\n",
    "    elastic_acc = elastic(X_train, y_train, X_test, y_test, alpha)\n",
    "    adaptive_acc = adaptive_lasso(X_train, y_train, X_test, y_test, alpha)\n",
    "    print(\"Lasso's Accuracy: {:.4f} Ridge's Accuracy : {:.4f} Elastic's Accuracy : {:.4f} Adaptive's Accuracy : {:.4f}\".format(lasso_acc, ridge_acc, elastic_acc, adaptive_acc))\n",
    "    print(\"Finish!\")"
   ]
  },
  {
   "cell_type": "code",
   "execution_count": null,
   "metadata": {
    "collapsed": true
   },
   "outputs": [],
   "source": [
    "if __name__ == '__main__':\n",
    "    main()"
   ]
  },
  {
   "cell_type": "markdown",
   "metadata": {},
   "source": [
    "#### Tuning hyperparameter  -  Cross valdation"
   ]
  },
  {
   "cell_type": "code",
   "execution_count": null,
   "metadata": {
    "collapsed": true
   },
   "outputs": [],
   "source": [
    "# K-fold Cross Validation\n",
    "def cv(X, y, k_fold):\n",
    "    kf = KFold(n_splits=k_fold)\n",
    "\n",
    "    X_train_folds, X_test_folds, y_train_folds, y_test_folds = dict(), dict(), dict(), dict()\n",
    "    for fold_index, (train_index, test_index) in enumerate(kf.split(X)):\n",
    "        X_train_folds[fold_index] = X[train_index]\n",
    "        y_train_folds[fold_index] = y[train_index]\n",
    "        X_test_folds[fold_index] = X[test_index]\n",
    "        y_test_folds[fold_index] = y[test_index]\n",
    "    return X_train_folds, y_train_folds, X_test_folds, y_test_folds"
   ]
  },
  {
   "cell_type": "code",
   "execution_count": null,
   "metadata": {
    "collapsed": true
   },
   "outputs": [],
   "source": [
    "k_fold = 5\n",
    "X_train_folds, y_train_folds, X_test_folds, y_test_folds = cv(X, y, k_fold)"
   ]
  },
  {
   "cell_type": "code",
   "execution_count": null,
   "metadata": {
    "collapsed": true
   },
   "outputs": [],
   "source": [
    "alphas = np.logspace(-3, -2, 1) # alphas = np.logspace(-3,2)\n",
    "alphas"
   ]
  },
  {
   "cell_type": "code",
   "execution_count": null,
   "metadata": {
    "collapsed": true
   },
   "outputs": [],
   "source": [
    "t = time()\n",
    "lasso_results, ridge_results, elastic_results, adaptive_results = dict(), dict(), dict(), dict()\n",
    "for alpha in alphas:\n",
    "    lasso_cv, ridge_cv, elastic_cv, adaptive_cv = [], [], [], []\n",
    "    for fold_index in range(k_fold):\n",
    "        print(\"Fold : {}, Lambda : {}\".format(fold_index+1, alpha))\n",
    "        lasso_acc, ridge_acc, elastic_acc, adaptive_acc = 0, 0, 0, 0\n",
    "        lasso_acc = lasso2(X_train_folds[fold_index], y_train_folds[fold_index], X_test_folds[fold_index],\n",
    "                          y_test_folds[fold_index], alpha)\n",
    "        ridge_acc = ridge2(X_train_folds[fold_index], y_train_folds[fold_index], X_test_folds[fold_index],\n",
    "                          y_test_folds[fold_index], alpha)\n",
    "        elastic_acc = elastic2(X_train_folds[fold_index], y_train_folds[fold_index], X_test_folds[fold_index],\n",
    "                              y_test_folds[fold_index], alpha)\n",
    "        adaptive_acc = adaptive_lasso2(X_train_folds[fold_index], y_train_folds[fold_index],\n",
    "                                      X_test_folds[fold_index], y_test_folds[fold_index], alpha)\n",
    "        lasso_cv.append(lasso_acc)\n",
    "        ridge_cv.append(ridge_acc)\n",
    "        elastic_cv.append(elastic_acc)\n",
    "        adaptive_cv.append(adaptive_acc)\n",
    "        print(\"Lasso's Accuracy: {:.4f} Ridge's Accuracy : {:.4f} Elastic's Accuracy : {:.4f} Adaptive's Accuracy : {:.4f}\".format(lasso_acc, ridge_acc, elastic_acc, adaptive_acc))\n",
    "    lasso_cv_acc = np.mean(lasso_cv, axis=0)\n",
    "    ridge_cv_acc = np.mean(ridge_cv, axis=0)\n",
    "    elastic_cv_acc = np.mean(elastic_cv, axis=0)\n",
    "    adaptive_cv_acc = np.mean(adaptive_cv, axis=0)\n",
    "    lasso_results[alpha] = lasso_cv_acc\n",
    "    ridge_results[alpha] = ridge_cv_acc\n",
    "    elastic_results[alpha] = elastic_cv_acc\n",
    "    adaptive_results[alpha] = adaptive_cv_acc\n",
    "    print(\"[Average of {}-fold] Lasso : {:.4f} Ridge : {:.4f} Elastic : {:.4f} Adaptive : {:.4f}\".format(k_fold, lasso_cv_acc, ridge_cv_acc, elastic_cv_acc, adaptive_cv_acc))\n",
    "lasso_lambda = max(lasso_results, key=lasso_results.get)\n",
    "ridge_lambda = max(ridge_results, key=ridge_results.get)\n",
    "elastic_lambda = max(elastic_results, key=elastic_results.get)\n",
    "adaptive_lambda = max(adaptive_results, key=adaptive_results.get)\n",
    "print(\"Lasso's optimal lambda value : {}\".format(lasso_lambda))\n",
    "print(\"Ridge's optimal lambda value : {}\".format(ridge_lambda))\n",
    "print(\"ElasticNet's optimal lambda value : {}\".format(elastic_lambda))\n",
    "print(\"Adaptive Lasso's optimal lambda value : {}\".format(adaptive_lambda))\n",
    "print(\"Finish!\")"
   ]
  },
  {
   "cell_type": "code",
   "execution_count": null,
   "metadata": {
    "collapsed": true
   },
   "outputs": [],
   "source": [
    "def extract_key_and_value(results):\n",
    "    return [*results], list(results.values()), "
   ]
  },
  {
   "cell_type": "code",
   "execution_count": null,
   "metadata": {
    "collapsed": true
   },
   "outputs": [],
   "source": [
    "x_lasso, y_lasso = extract_key_and_value(lasso_results)\n",
    "x_ridge, y_ridge = extract_key_and_value(ridge_results)\n",
    "x_elastic, y_elastic = extract_key_and_value(elastic_results)\n",
    "x_adaptive, y_adaptive = extract_key_and_value(adaptive_results)"
   ]
  },
  {
   "cell_type": "code",
   "execution_count": null,
   "metadata": {
    "collapsed": true
   },
   "outputs": [],
   "source": [
    "plt.rcParams[\"figure.figsize\"] = [25,16]\n",
    "\n",
    "box = dict(facecolor='pink', pad=5, alpha=0.3)\n",
    "\n",
    "plt.subplot(2,2,1)\n",
    "plt.plot(x_lasso, y_lasso, '-ko')\n",
    "plt.xlabel(r'$\\lambda$') #lambda\n",
    "plt.ylabel('Lasso Score',bbox=box)\n",
    "plt.xscale('log')\n",
    "sns.despine(offset=15)\n",
    "\n",
    "plt.subplot(2,2,2)\n",
    "plt.plot(x_ridge, y_ridge, '-ko')\n",
    "plt.xlabel(r'$\\lambda$') #lambda\n",
    "plt.ylabel('Ridge Score',bbox=box)\n",
    "plt.xscale('log')\n",
    "\n",
    "labelx=-0.3\n",
    "\n",
    "plt.subplot(2, 2, 3)\n",
    "plt.plot(x_elastic, y_elastic, '-ko')\n",
    "plt.xlabel(r'$\\lambda$') #lambda\n",
    "plt.ylabel('Elastic Score',bbox=box)\n",
    "plt.xscale('log')\n",
    "sns.despine(offset=15)\n",
    "\n",
    "plt.subplot(2,2,4)\n",
    "plt.plot(x_adaptive, y_adaptive, '-ko')\n",
    "plt.xlabel(r'$\\lambda$') #lambda\n",
    "plt.ylabel('Adaptive Score',bbox=box)\n",
    "plt.xscale('log')\n",
    "sns.despine(offset=15)"
   ]
  },
  {
   "cell_type": "markdown",
   "metadata": {},
   "source": [
    "### Final "
   ]
  },
  {
   "cell_type": "code",
   "execution_count": null,
   "metadata": {
    "collapsed": true
   },
   "outputs": [],
   "source": [
    "def main():\n",
    "    X_train, X_test, y_train, y_test = train_test_split(X, y, test_size=0.25, random_state=0)\n",
    "\n",
    "    lasso_alpha = 0.013257113655901095\n",
    "    ridge_alpha = 1.4563484775012443\n",
    "    elastic_alpha = 0.02682695795279726\n",
    "    adaptvie_lasso = 0.0012648552168552957\n",
    "    \n",
    "    lasso_acc = lasso(X_train, y_train, X_test, y_test, lasso_alpha)\n",
    "    ridge_acc = ridge(X_train, y_train, X_test, y_test, ridge_alpha)\n",
    "    elastic_acc = elastic(X_train, y_train, X_test, y_test, elastic_alpha)\n",
    "    adaptive_acc = adaptive_lasso(X_train, y_train, X_test, y_test, adaptvie_lasso)\n",
    "    print(\"Lasso's Accuracy: {:.4f} Ridge's Accuracy : {:.4f} Elastic's Accuracy : {:.4f} Adaptive's Accuracy : {:.4f}\".format(lasso_acc, ridge_acc, elastic_acc, adaptive_acc))\n",
    "    print(\"Finish!\")"
   ]
  },
  {
   "cell_type": "code",
   "execution_count": null,
   "metadata": {
    "collapsed": true
   },
   "outputs": [],
   "source": [
    "if __name__ == '__main__':\n",
    "    main()"
   ]
  },
  {
   "cell_type": "markdown",
   "metadata": {},
   "source": [
    "![hahah](totoro.png)"
   ]
  }
 ],
 "metadata": {
  "kernelspec": {
   "display_name": "Python 3",
   "language": "python",
   "name": "python3"
  }
 },
 "nbformat": 4,
 "nbformat_minor": 2
}
