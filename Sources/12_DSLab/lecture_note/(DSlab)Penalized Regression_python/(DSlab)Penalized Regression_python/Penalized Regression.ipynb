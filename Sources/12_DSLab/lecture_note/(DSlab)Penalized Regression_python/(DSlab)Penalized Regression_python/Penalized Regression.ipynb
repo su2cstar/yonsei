{
 "cells": [
  {
   "cell_type": "code",
   "execution_count": 2,
   "metadata": {},
   "outputs": [
    {
     "name": "stdout",
     "output_type": "stream",
     "text": [
      "Collecting plotly\n",
      "  Downloading https://files.pythonhosted.org/packages/fd/db/003b5cfbc710f4d4982440451185b952269e4080a57ae7e760a2ceb8ce0c/plotly-3.6.1-py2.py3-none-any.whl (38.6MB)\n",
      "\u001b[K    100% |████████████████████████████████| 38.6MB 29kB/s eta 0:00:01   21% |██████▉                         | 8.3MB 594kB/s eta 0:00:51\n",
      "\u001b[?25hRequirement already satisfied: nbformat>=4.2 in /anaconda3/lib/python3.6/site-packages (from plotly)\n",
      "Requirement already satisfied: pytz in /anaconda3/lib/python3.6/site-packages (from plotly)\n",
      "Requirement already satisfied: decorator>=4.0.6 in /anaconda3/lib/python3.6/site-packages (from plotly)\n",
      "Collecting retrying>=1.3.3 (from plotly)\n",
      "\u001b[33m  Retrying (Retry(total=4, connect=None, read=None, redirect=None)) after connection broken by 'ProtocolError('Connection aborted.', ConnectionResetError(54, 'Connection reset by peer'))': /simple/retrying/\u001b[0m\n",
      "  Downloading https://files.pythonhosted.org/packages/44/ef/beae4b4ef80902f22e3af073397f079c96969c69b2c7d52a57ea9ae61c9d/retrying-1.3.3.tar.gz\n",
      "Requirement already satisfied: six in /anaconda3/lib/python3.6/site-packages (from plotly)\n",
      "Requirement already satisfied: requests in /anaconda3/lib/python3.6/site-packages (from plotly)\n",
      "Requirement already satisfied: ipython_genutils in /anaconda3/lib/python3.6/site-packages (from nbformat>=4.2->plotly)\n",
      "Requirement already satisfied: traitlets>=4.1 in /anaconda3/lib/python3.6/site-packages (from nbformat>=4.2->plotly)\n",
      "Requirement already satisfied: jsonschema!=2.5.0,>=2.4 in /anaconda3/lib/python3.6/site-packages (from nbformat>=4.2->plotly)\n",
      "Requirement already satisfied: jupyter_core in /anaconda3/lib/python3.6/site-packages (from nbformat>=4.2->plotly)\n",
      "Requirement already satisfied: chardet<3.1.0,>=3.0.2 in /anaconda3/lib/python3.6/site-packages (from requests->plotly)\n",
      "Requirement already satisfied: idna<2.7,>=2.5 in /anaconda3/lib/python3.6/site-packages (from requests->plotly)\n",
      "Requirement already satisfied: urllib3<1.23,>=1.21.1 in /anaconda3/lib/python3.6/site-packages (from requests->plotly)\n",
      "Requirement already satisfied: certifi>=2017.4.17 in /anaconda3/lib/python3.6/site-packages (from requests->plotly)\n",
      "Building wheels for collected packages: retrying\n",
      "  Running setup.py bdist_wheel for retrying ... \u001b[?25ldone\n",
      "\u001b[?25h  Stored in directory: /Users/yonsei/Library/Caches/pip/wheels/d7/a9/33/acc7b709e2a35caa7d4cae442f6fe6fbf2c43f80823d46460c\n",
      "Successfully built retrying\n",
      "Installing collected packages: retrying, plotly\n",
      "Successfully installed plotly-3.6.1 retrying-1.3.3\n",
      "\u001b[33mYou are using pip version 9.0.1, however version 19.0.2 is available.\n",
      "You should consider upgrading via the 'pip install --upgrade pip' command.\u001b[0m\n"
     ]
    }
   ],
   "source": [
    "!pip install plotly"
   ]
  },
  {
   "cell_type": "code",
   "execution_count": 3,
   "metadata": {},
   "outputs": [],
   "source": [
    "import math\n",
    "import numpy as np \n",
    "import pandas as pd\n",
    "from pandas import ExcelWriter, ExcelFile \n",
    "from sklearn.linear_model import Lasso, Ridge, ElasticNet, LassoCV\n",
    "from sklearn.metrics import mean_absolute_error, accuracy_score\n",
    "from sklearn.model_selection import train_test_split, KFold\n",
    "import plotly.plotly as py \n",
    "import plotly.tools as tls \n",
    "import matplotlib.pyplot as plt\n",
    "from matplotlib.pyplot import figure\n",
    "import seaborn as sns"
   ]
  },
  {
   "cell_type": "code",
   "execution_count": null,
   "metadata": {
    "collapsed": true
   },
   "outputs": [],
   "source": [
    "#file_location='C:/Users/seul/Desktop/새 폴더/대학원/학회'"
   ]
  },
  {
   "cell_type": "code",
   "execution_count": 4,
   "metadata": {
    "collapsed": true
   },
   "outputs": [],
   "source": [
    "hotel_score = pd.read_csv('11_xy1.csv', encoding='euc-kr')#cp949"
   ]
  },
  {
   "cell_type": "code",
   "execution_count": 5,
   "metadata": {},
   "outputs": [
    {
     "data": {
      "text/html": [
       "<div>\n",
       "<style>\n",
       "    .dataframe thead tr:only-child th {\n",
       "        text-align: right;\n",
       "    }\n",
       "\n",
       "    .dataframe thead th {\n",
       "        text-align: left;\n",
       "    }\n",
       "\n",
       "    .dataframe tbody tr th {\n",
       "        vertical-align: top;\n",
       "    }\n",
       "</style>\n",
       "<table border=\"1\" class=\"dataframe\">\n",
       "  <thead>\n",
       "    <tr style=\"text-align: right;\">\n",
       "      <th></th>\n",
       "      <th>Unnamed: 0</th>\n",
       "      <th>가격대비최고이다</th>\n",
       "      <th>가격저렴하다</th>\n",
       "      <th>저렴하다</th>\n",
       "      <th>좋다</th>\n",
       "      <th>추천</th>\n",
       "      <th>깨끗하다</th>\n",
       "      <th>엘레베이터없다</th>\n",
       "      <th>조용하다</th>\n",
       "      <th>강력추천</th>\n",
       "      <th>...</th>\n",
       "      <th>뜨거운물잘나오다</th>\n",
       "      <th>말투무뚝뚝하다</th>\n",
       "      <th>인상별로이다</th>\n",
       "      <th>이동용이하다</th>\n",
       "      <th>생수없다</th>\n",
       "      <th>시설있다</th>\n",
       "      <th>편의시설있다</th>\n",
       "      <th>물별로이다</th>\n",
       "      <th>호텔시설좋지않다</th>\n",
       "      <th>Unnamed: 1578</th>\n",
       "    </tr>\n",
       "  </thead>\n",
       "  <tbody>\n",
       "    <tr>\n",
       "      <th>0</th>\n",
       "      <td>1</td>\n",
       "      <td>1</td>\n",
       "      <td>1</td>\n",
       "      <td>1</td>\n",
       "      <td>1</td>\n",
       "      <td>1</td>\n",
       "      <td>0</td>\n",
       "      <td>0</td>\n",
       "      <td>0</td>\n",
       "      <td>0</td>\n",
       "      <td>...</td>\n",
       "      <td>0</td>\n",
       "      <td>0</td>\n",
       "      <td>0</td>\n",
       "      <td>0</td>\n",
       "      <td>0</td>\n",
       "      <td>0</td>\n",
       "      <td>0</td>\n",
       "      <td>0</td>\n",
       "      <td>0</td>\n",
       "      <td>1</td>\n",
       "    </tr>\n",
       "    <tr>\n",
       "      <th>1</th>\n",
       "      <td>2</td>\n",
       "      <td>0</td>\n",
       "      <td>0</td>\n",
       "      <td>0</td>\n",
       "      <td>1</td>\n",
       "      <td>0</td>\n",
       "      <td>1</td>\n",
       "      <td>1</td>\n",
       "      <td>1</td>\n",
       "      <td>0</td>\n",
       "      <td>...</td>\n",
       "      <td>0</td>\n",
       "      <td>0</td>\n",
       "      <td>0</td>\n",
       "      <td>0</td>\n",
       "      <td>0</td>\n",
       "      <td>0</td>\n",
       "      <td>0</td>\n",
       "      <td>0</td>\n",
       "      <td>0</td>\n",
       "      <td>1</td>\n",
       "    </tr>\n",
       "    <tr>\n",
       "      <th>2</th>\n",
       "      <td>3</td>\n",
       "      <td>0</td>\n",
       "      <td>0</td>\n",
       "      <td>0</td>\n",
       "      <td>0</td>\n",
       "      <td>1</td>\n",
       "      <td>0</td>\n",
       "      <td>0</td>\n",
       "      <td>0</td>\n",
       "      <td>1</td>\n",
       "      <td>...</td>\n",
       "      <td>0</td>\n",
       "      <td>0</td>\n",
       "      <td>0</td>\n",
       "      <td>0</td>\n",
       "      <td>0</td>\n",
       "      <td>0</td>\n",
       "      <td>0</td>\n",
       "      <td>0</td>\n",
       "      <td>0</td>\n",
       "      <td>1</td>\n",
       "    </tr>\n",
       "    <tr>\n",
       "      <th>3</th>\n",
       "      <td>4</td>\n",
       "      <td>0</td>\n",
       "      <td>0</td>\n",
       "      <td>0</td>\n",
       "      <td>1</td>\n",
       "      <td>1</td>\n",
       "      <td>1</td>\n",
       "      <td>0</td>\n",
       "      <td>1</td>\n",
       "      <td>1</td>\n",
       "      <td>...</td>\n",
       "      <td>0</td>\n",
       "      <td>0</td>\n",
       "      <td>0</td>\n",
       "      <td>0</td>\n",
       "      <td>0</td>\n",
       "      <td>0</td>\n",
       "      <td>0</td>\n",
       "      <td>0</td>\n",
       "      <td>0</td>\n",
       "      <td>1</td>\n",
       "    </tr>\n",
       "    <tr>\n",
       "      <th>4</th>\n",
       "      <td>5</td>\n",
       "      <td>0</td>\n",
       "      <td>0</td>\n",
       "      <td>0</td>\n",
       "      <td>1</td>\n",
       "      <td>0</td>\n",
       "      <td>1</td>\n",
       "      <td>0</td>\n",
       "      <td>0</td>\n",
       "      <td>0</td>\n",
       "      <td>...</td>\n",
       "      <td>0</td>\n",
       "      <td>0</td>\n",
       "      <td>0</td>\n",
       "      <td>0</td>\n",
       "      <td>0</td>\n",
       "      <td>0</td>\n",
       "      <td>0</td>\n",
       "      <td>0</td>\n",
       "      <td>0</td>\n",
       "      <td>1</td>\n",
       "    </tr>\n",
       "  </tbody>\n",
       "</table>\n",
       "<p>5 rows × 1579 columns</p>\n",
       "</div>"
      ],
      "text/plain": [
       "   Unnamed: 0  가격대비최고이다  가격저렴하다  저렴하다  좋다  추천  깨끗하다  엘레베이터없다  조용하다  강력추천  \\\n",
       "0           1         1       1     1   1   1     0        0     0     0   \n",
       "1           2         0       0     0   1   0     1        1     1     0   \n",
       "2           3         0       0     0   0   1     0        0     0     1   \n",
       "3           4         0       0     0   1   1     1        0     1     1   \n",
       "4           5         0       0     0   1   0     1        0     0     0   \n",
       "\n",
       "       ...        뜨거운물잘나오다  말투무뚝뚝하다  인상별로이다  이동용이하다  생수없다  시설있다  편의시설있다  \\\n",
       "0      ...               0        0       0       0     0     0       0   \n",
       "1      ...               0        0       0       0     0     0       0   \n",
       "2      ...               0        0       0       0     0     0       0   \n",
       "3      ...               0        0       0       0     0     0       0   \n",
       "4      ...               0        0       0       0     0     0       0   \n",
       "\n",
       "   물별로이다  호텔시설좋지않다  Unnamed: 1578  \n",
       "0      0         0              1  \n",
       "1      0         0              1  \n",
       "2      0         0              1  \n",
       "3      0         0              1  \n",
       "4      0         0              1  \n",
       "\n",
       "[5 rows x 1579 columns]"
      ]
     },
     "execution_count": 5,
     "metadata": {},
     "output_type": "execute_result"
    }
   ],
   "source": [
    "hotel_score.head()"
   ]
  },
  {
   "cell_type": "code",
   "execution_count": 6,
   "metadata": {
    "collapsed": true
   },
   "outputs": [],
   "source": [
    "hotel_score = hotel_score.drop('Unnamed: 0',1)"
   ]
  },
  {
   "cell_type": "code",
   "execution_count": 7,
   "metadata": {
    "collapsed": true
   },
   "outputs": [],
   "source": [
    "hotel_score.rename(columns={'Unnamed: 1578':'rating'},inplace=True)"
   ]
  },
  {
   "cell_type": "code",
   "execution_count": 8,
   "metadata": {},
   "outputs": [
    {
     "data": {
      "text/html": [
       "<div>\n",
       "<style>\n",
       "    .dataframe thead tr:only-child th {\n",
       "        text-align: right;\n",
       "    }\n",
       "\n",
       "    .dataframe thead th {\n",
       "        text-align: left;\n",
       "    }\n",
       "\n",
       "    .dataframe tbody tr th {\n",
       "        vertical-align: top;\n",
       "    }\n",
       "</style>\n",
       "<table border=\"1\" class=\"dataframe\">\n",
       "  <thead>\n",
       "    <tr style=\"text-align: right;\">\n",
       "      <th></th>\n",
       "      <th>가격대비최고이다</th>\n",
       "      <th>가격저렴하다</th>\n",
       "      <th>저렴하다</th>\n",
       "      <th>좋다</th>\n",
       "      <th>추천</th>\n",
       "      <th>깨끗하다</th>\n",
       "      <th>엘레베이터없다</th>\n",
       "      <th>조용하다</th>\n",
       "      <th>강력추천</th>\n",
       "      <th>친절하다</th>\n",
       "      <th>...</th>\n",
       "      <th>뜨거운물잘나오다</th>\n",
       "      <th>말투무뚝뚝하다</th>\n",
       "      <th>인상별로이다</th>\n",
       "      <th>이동용이하다</th>\n",
       "      <th>생수없다</th>\n",
       "      <th>시설있다</th>\n",
       "      <th>편의시설있다</th>\n",
       "      <th>물별로이다</th>\n",
       "      <th>호텔시설좋지않다</th>\n",
       "      <th>rating</th>\n",
       "    </tr>\n",
       "  </thead>\n",
       "  <tbody>\n",
       "    <tr>\n",
       "      <th>0</th>\n",
       "      <td>1</td>\n",
       "      <td>1</td>\n",
       "      <td>1</td>\n",
       "      <td>1</td>\n",
       "      <td>1</td>\n",
       "      <td>0</td>\n",
       "      <td>0</td>\n",
       "      <td>0</td>\n",
       "      <td>0</td>\n",
       "      <td>0</td>\n",
       "      <td>...</td>\n",
       "      <td>0</td>\n",
       "      <td>0</td>\n",
       "      <td>0</td>\n",
       "      <td>0</td>\n",
       "      <td>0</td>\n",
       "      <td>0</td>\n",
       "      <td>0</td>\n",
       "      <td>0</td>\n",
       "      <td>0</td>\n",
       "      <td>1</td>\n",
       "    </tr>\n",
       "    <tr>\n",
       "      <th>1</th>\n",
       "      <td>0</td>\n",
       "      <td>0</td>\n",
       "      <td>0</td>\n",
       "      <td>1</td>\n",
       "      <td>0</td>\n",
       "      <td>1</td>\n",
       "      <td>1</td>\n",
       "      <td>1</td>\n",
       "      <td>0</td>\n",
       "      <td>0</td>\n",
       "      <td>...</td>\n",
       "      <td>0</td>\n",
       "      <td>0</td>\n",
       "      <td>0</td>\n",
       "      <td>0</td>\n",
       "      <td>0</td>\n",
       "      <td>0</td>\n",
       "      <td>0</td>\n",
       "      <td>0</td>\n",
       "      <td>0</td>\n",
       "      <td>1</td>\n",
       "    </tr>\n",
       "    <tr>\n",
       "      <th>2</th>\n",
       "      <td>0</td>\n",
       "      <td>0</td>\n",
       "      <td>0</td>\n",
       "      <td>0</td>\n",
       "      <td>1</td>\n",
       "      <td>0</td>\n",
       "      <td>0</td>\n",
       "      <td>0</td>\n",
       "      <td>1</td>\n",
       "      <td>0</td>\n",
       "      <td>...</td>\n",
       "      <td>0</td>\n",
       "      <td>0</td>\n",
       "      <td>0</td>\n",
       "      <td>0</td>\n",
       "      <td>0</td>\n",
       "      <td>0</td>\n",
       "      <td>0</td>\n",
       "      <td>0</td>\n",
       "      <td>0</td>\n",
       "      <td>1</td>\n",
       "    </tr>\n",
       "    <tr>\n",
       "      <th>3</th>\n",
       "      <td>0</td>\n",
       "      <td>0</td>\n",
       "      <td>0</td>\n",
       "      <td>1</td>\n",
       "      <td>1</td>\n",
       "      <td>1</td>\n",
       "      <td>0</td>\n",
       "      <td>1</td>\n",
       "      <td>1</td>\n",
       "      <td>1</td>\n",
       "      <td>...</td>\n",
       "      <td>0</td>\n",
       "      <td>0</td>\n",
       "      <td>0</td>\n",
       "      <td>0</td>\n",
       "      <td>0</td>\n",
       "      <td>0</td>\n",
       "      <td>0</td>\n",
       "      <td>0</td>\n",
       "      <td>0</td>\n",
       "      <td>1</td>\n",
       "    </tr>\n",
       "    <tr>\n",
       "      <th>4</th>\n",
       "      <td>0</td>\n",
       "      <td>0</td>\n",
       "      <td>0</td>\n",
       "      <td>1</td>\n",
       "      <td>0</td>\n",
       "      <td>1</td>\n",
       "      <td>0</td>\n",
       "      <td>0</td>\n",
       "      <td>0</td>\n",
       "      <td>1</td>\n",
       "      <td>...</td>\n",
       "      <td>0</td>\n",
       "      <td>0</td>\n",
       "      <td>0</td>\n",
       "      <td>0</td>\n",
       "      <td>0</td>\n",
       "      <td>0</td>\n",
       "      <td>0</td>\n",
       "      <td>0</td>\n",
       "      <td>0</td>\n",
       "      <td>1</td>\n",
       "    </tr>\n",
       "  </tbody>\n",
       "</table>\n",
       "<p>5 rows × 1578 columns</p>\n",
       "</div>"
      ],
      "text/plain": [
       "   가격대비최고이다  가격저렴하다  저렴하다  좋다  추천  깨끗하다  엘레베이터없다  조용하다  강력추천  친절하다   ...    \\\n",
       "0         1       1     1   1   1     0        0     0     0     0   ...     \n",
       "1         0       0     0   1   0     1        1     1     0     0   ...     \n",
       "2         0       0     0   0   1     0        0     0     1     0   ...     \n",
       "3         0       0     0   1   1     1        0     1     1     1   ...     \n",
       "4         0       0     0   1   0     1        0     0     0     1   ...     \n",
       "\n",
       "   뜨거운물잘나오다  말투무뚝뚝하다  인상별로이다  이동용이하다  생수없다  시설있다  편의시설있다  물별로이다  호텔시설좋지않다  \\\n",
       "0         0        0       0       0     0     0       0      0         0   \n",
       "1         0        0       0       0     0     0       0      0         0   \n",
       "2         0        0       0       0     0     0       0      0         0   \n",
       "3         0        0       0       0     0     0       0      0         0   \n",
       "4         0        0       0       0     0     0       0      0         0   \n",
       "\n",
       "   rating  \n",
       "0       1  \n",
       "1       1  \n",
       "2       1  \n",
       "3       1  \n",
       "4       1  \n",
       "\n",
       "[5 rows x 1578 columns]"
      ]
     },
     "execution_count": 8,
     "metadata": {},
     "output_type": "execute_result"
    }
   ],
   "source": [
    "hotel_score.head()"
   ]
  },
  {
   "cell_type": "markdown",
   "metadata": {},
   "source": [
    "#### undersampling을 통해 Sample 추출 "
   ]
  },
  {
   "cell_type": "code",
   "execution_count": 10,
   "metadata": {},
   "outputs": [
    {
     "data": {
      "image/png": "[encoded data removed]",
      "text/plain": [
       "<matplotlib.figure.Figure at 0x1a0a0835c0>"
      ]
     },
     "metadata": {},
     "output_type": "display_data"
    }
   ],
   "source": [
    "plt.hist(hotel_score.rating)\n",
    "plt.show()"
   ]
  },
  {
   "cell_type": "code",
   "execution_count": 11,
   "metadata": {
    "collapsed": true
   },
   "outputs": [],
   "source": [
    "X = hotel_score.drop(['rating'], axis=1).values\n",
    "y = hotel_score[['rating']].values"
   ]
  },
  {
   "cell_type": "code",
   "execution_count": 12,
   "metadata": {
    "collapsed": true
   },
   "outputs": [],
   "source": [
    "def classify_label(preds):\n",
    "    labels = []\n",
    "    for pred in preds:\n",
    "        if pred > 0:\n",
    "            labels.append(1)\n",
    "        else:\n",
    "            labels.append(-1)\n",
    "    return labels"
   ]
  },
  {
   "cell_type": "code",
   "execution_count": 13,
   "metadata": {
    "collapsed": true
   },
   "outputs": [],
   "source": [
    "def lasso(X_train, y_train, X_test, y_test, alpha):\n",
    "    clf = Lasso(alpha)\n",
    "    clf.fit(X_train, y_train)\n",
    "    y_pred = clf.predict(X_test)\n",
    "    y_pred_labeled = classify_label(y_pred)\n",
    "    return accuracy_score(y_test, y_pred_labeled)"
   ]
  },
  {
   "cell_type": "code",
   "execution_count": 14,
   "metadata": {
    "collapsed": true
   },
   "outputs": [],
   "source": [
    "def ridge(X_train, y_train, X_test, y_test, alpha):\n",
    "    clf = Ridge(alpha)\n",
    "    clf.fit(X_train, y_train)\n",
    "    y_pred = clf.predict(X_test)\n",
    "    y_pred_labeled = classify_label(y_pred)\n",
    "    return accuracy_score(y_test, y_pred_labeled)"
   ]
  },
  {
   "cell_type": "code",
   "execution_count": 15,
   "metadata": {
    "collapsed": true
   },
   "outputs": [],
   "source": [
    "def elastic(X_train, y_train, X_test, y_test, alpha):\n",
    "    clf = ElasticNet(alpha)\n",
    "    clf.fit(X_train, y_train)\n",
    "    y_pred = clf.predict(X_test)\n",
    "    y_pred_labeled = classify_label(y_pred)\n",
    "    return accuracy_score(y_test, y_pred_labeled)"
   ]
  },
  {
   "cell_type": "code",
   "execution_count": 16,
   "metadata": {
    "collapsed": true
   },
   "outputs": [],
   "source": [
    "def adaptive_lasso(X_train, y_train, X_test, y_test, alpha):\n",
    "    gprime = lambda w: 1. / (2. * np.sqrt(np.abs(w)) + np.finfo(float).eps)\n",
    "    n_samples, n_features = X_train.shape\n",
    "    weights = np.ones(n_features)\n",
    "    n_lasso_iterations = 5\n",
    "    for k in range(n_lasso_iterations):\n",
    "        X_w = X_train / weights[np.newaxis, :]\n",
    "        clf = Lasso(alpha=alpha, fit_intercept=False)\n",
    "        clf.fit(X_w, y_train)\n",
    "        coef_ = clf.coef_ / weights\n",
    "        weights = gprime(coef_)\n",
    "        \n",
    "    y_pred = clf.predict(X_test)\n",
    "    y_pred_labeled = classify_label(y_pred)\n",
    "    return accuracy_score(y_test, y_pred_labeled)"
   ]
  },
  {
   "cell_type": "code",
   "execution_count": 17,
   "metadata": {
    "collapsed": true
   },
   "outputs": [],
   "source": [
    "def main():\n",
    "    X_train, X_test, y_train, y_test = train_test_split(X, y, test_size=0.25, random_state=0)\n",
    "\n",
    "    alpha = 10\n",
    "    lasso_acc = lasso(X_train, y_train, X_test, y_test, alpha)\n",
    "    ridge_acc = ridge(X_train, y_train, X_test, y_test, alpha)\n",
    "    elastic_acc = elastic(X_train, y_train, X_test, y_test, alpha)\n",
    "    adaptive_acc = adaptive_lasso(X_train, y_train, X_test, y_test, alpha)\n",
    "    print(\"Lasso's Accuracy: {:.4f} Ridge's Accuracy : {:.4f} Elastic's Accuracy : {:.4f} Adaptive's Accuracy : {:.4f}\".format(lasso_acc, ridge_acc, elastic_acc, adaptive_acc))\n",
    "    print(\"Finish!\")"
   ]
  },
  {
   "cell_type": "code",
   "execution_count": 18,
   "metadata": {},
   "outputs": [
    {
     "name": "stdout",
     "output_type": "stream",
     "text": [
      "Lasso's Accuracy: 0.6467 Ridge's Accuracy : 0.9280 Elastic's Accuracy : 0.6467 Adaptive's Accuracy : 0.3533\n",
      "Finish!\n"
     ]
    }
   ],
   "source": [
    "if __name__ == '__main__':\n",
    "    main()"
   ]
  },
  {
   "cell_type": "markdown",
   "metadata": {},
   "source": [
    "#### Tuning hyperparameter  -  Cross valdation"
   ]
  },
  {
   "cell_type": "code",
   "execution_count": 19,
   "metadata": {
    "collapsed": true
   },
   "outputs": [],
   "source": [
    "# K-fold Cross Validation\n",
    "def cv(X, y, k_fold):\n",
    "    kf = KFold(n_splits=k_fold)\n",
    "\n",
    "    X_train_folds, X_test_folds, y_train_folds, y_test_folds = dict(), dict(), dict(), dict()\n",
    "    for fold_index, (train_index, test_index) in enumerate(kf.split(X)):\n",
    "        X_train_folds[fold_index] = X[train_index]\n",
    "        y_train_folds[fold_index] = y[train_index]\n",
    "        X_test_folds[fold_index] = X[test_index]\n",
    "        y_test_folds[fold_index] = y[test_index]\n",
    "    return X_train_folds, y_train_folds, X_test_folds, y_test_folds"
   ]
  },
  {
   "cell_type": "code",
   "execution_count": 20,
   "metadata": {
    "collapsed": true
   },
   "outputs": [],
   "source": [
    "k_fold = 5\n",
    "X_train_folds, y_train_folds, X_test_folds, y_test_folds = cv(X, y, k_fold)"
   ]
  },
  {
   "cell_type": "code",
   "execution_count": 21,
   "metadata": {},
   "outputs": [
    {
     "data": {
      "text/plain": [
       "array([ 0.001])"
      ]
     },
     "execution_count": 21,
     "metadata": {},
     "output_type": "execute_result"
    }
   ],
   "source": [
    "alphas = np.logspace(-3, -2, 1) # alphas = np.logspace(-3,2)\n",
    "alphas"
   ]
  },
  {
   "cell_type": "code",
   "execution_count": 25,
   "metadata": {
    "collapsed": true
   },
   "outputs": [],
   "source": [
    "from time import time"
   ]
  },
  {
   "cell_type": "code",
   "execution_count": 28,
   "metadata": {},
   "outputs": [
    {
     "name": "stdout",
     "output_type": "stream",
     "text": [
      "Fold : 1, Lambda : 0.001\n",
      "Lasso's Accuracy: 0.9783 Ridge's Accuracy : 0.9067 Elastic's Accuracy : 0.9733 Adaptive's Accuracy : 0.9417\n",
      "Fold : 2, Lambda : 0.001\n",
      "Lasso's Accuracy: 0.9783 Ridge's Accuracy : 0.9300 Elastic's Accuracy : 0.9717 Adaptive's Accuracy : 0.9450\n",
      "Fold : 3, Lambda : 0.001\n",
      "Lasso's Accuracy: 0.9817 Ridge's Accuracy : 0.9350 Elastic's Accuracy : 0.9817 Adaptive's Accuracy : 0.9550\n",
      "Fold : 4, Lambda : 0.001\n",
      "Lasso's Accuracy: 0.8000 Ridge's Accuracy : 0.8367 Elastic's Accuracy : 0.8067 Adaptive's Accuracy : 0.9017\n",
      "Fold : 5, Lambda : 0.001\n",
      "Lasso's Accuracy: 0.7930 Ridge's Accuracy : 0.8264 Elastic's Accuracy : 0.7947 Adaptive's Accuracy : 0.9182\n",
      "[Average of 5-fold] Lasso : 0.9063 Ridge : 0.8869 Elastic : 0.9056 Adaptive : 0.9323\n",
      "Lasso's optimal lambda value : 0.001\n",
      "Ridge's optimal lambda value : 0.001\n",
      "ElasticNet's optimal lambda value : 0.001\n",
      "Adaptive Lasso's optimal lambda value : 0.001\n",
      "Finish!\n"
     ]
    }
   ],
   "source": [
    "t = time()\n",
    "lasso_results, ridge_results, elastic_results, adaptive_results = dict(), dict(), dict(), dict()\n",
    "for alpha in alphas:\n",
    "    lasso_cv, ridge_cv, elastic_cv, adaptive_cv = [], [], [], []\n",
    "    for fold_index in range(k_fold):\n",
    "        print(\"Fold : {}, Lambda : {}\".format(fold_index+1, alpha))\n",
    "        lasso_acc, ridge_acc, elastic_acc, adaptive_acc = 0, 0, 0, 0\n",
    "        lasso_acc = lasso(X_train_folds[fold_index], y_train_folds[fold_index], X_test_folds[fold_index],\n",
    "                          y_test_folds[fold_index], alpha)\n",
    "        ridge_acc = ridge(X_train_folds[fold_index], y_train_folds[fold_index], X_test_folds[fold_index],\n",
    "                          y_test_folds[fold_index], alpha)\n",
    "        elastic_acc = elastic(X_train_folds[fold_index], y_train_folds[fold_index], X_test_folds[fold_index],\n",
    "                              y_test_folds[fold_index], alpha)\n",
    "        adaptive_acc = adaptive_lasso(X_train_folds[fold_index], y_train_folds[fold_index],\n",
    "                                      X_test_folds[fold_index], y_test_folds[fold_index], alpha)\n",
    "        lasso_cv.append(lasso_acc)\n",
    "        ridge_cv.append(ridge_acc)\n",
    "        elastic_cv.append(elastic_acc)\n",
    "        adaptive_cv.append(adaptive_acc)\n",
    "        print(\"Lasso's Accuracy: {:.4f} Ridge's Accuracy : {:.4f} Elastic's Accuracy : {:.4f} Adaptive's Accuracy : {:.4f}\".format(lasso_acc, ridge_acc, elastic_acc, adaptive_acc))\n",
    "    lasso_cv_acc = np.mean(lasso_cv, axis=0)\n",
    "    ridge_cv_acc = np.mean(ridge_cv, axis=0)\n",
    "    elastic_cv_acc = np.mean(elastic_cv, axis=0)\n",
    "    adaptive_cv_acc = np.mean(adaptive_cv, axis=0)\n",
    "    lasso_results[alpha] = lasso_cv_acc\n",
    "    ridge_results[alpha] = ridge_cv_acc\n",
    "    elastic_results[alpha] = elastic_cv_acc\n",
    "    adaptive_results[alpha] = adaptive_cv_acc\n",
    "    print(\"[Average of {}-fold] Lasso : {:.4f} Ridge : {:.4f} Elastic : {:.4f} Adaptive : {:.4f}\".format(k_fold, lasso_cv_acc, ridge_cv_acc, elastic_cv_acc, adaptive_cv_acc))\n",
    "lasso_lambda = max(lasso_results, key=lasso_results.get)\n",
    "ridge_lambda = max(ridge_results, key=ridge_results.get)\n",
    "elastic_lambda = max(elastic_results, key=elastic_results.get)\n",
    "adaptive_lambda = max(adaptive_results, key=adaptive_results.get)\n",
    "print(\"Lasso's optimal lambda value : {}\".format(lasso_lambda))\n",
    "print(\"Ridge's optimal lambda value : {}\".format(ridge_lambda))\n",
    "print(\"ElasticNet's optimal lambda value : {}\".format(elastic_lambda))\n",
    "print(\"Adaptive Lasso's optimal lambda value : {}\".format(adaptive_lambda))\n",
    "print(\"Finish!\")"
   ]
  },
  {
   "cell_type": "code",
   "execution_count": 29,
   "metadata": {
    "collapsed": true
   },
   "outputs": [],
   "source": [
    "def extract_key_and_value(results):\n",
    "    return [*results], list(results.values()), "
   ]
  },
  {
   "cell_type": "code",
   "execution_count": 30,
   "metadata": {
    "collapsed": true
   },
   "outputs": [],
   "source": [
    "x_lasso, y_lasso = extract_key_and_value(lasso_results)\n",
    "x_ridge, y_ridge = extract_key_and_value(ridge_results)\n",
    "x_elastic, y_elastic = extract_key_and_value(elastic_results)\n",
    "x_adaptive, y_adaptive = extract_key_and_value(adaptive_results)"
   ]
  },
  {
   "cell_type": "code",
   "execution_count": 31,
   "metadata": {
    "collapsed": true
   },
   "outputs": [],
   "source": [
    "plt.rcParams[\"figure.figsize\"] = [25,16]\n",
    "\n",
    "box = dict(facecolor='pink', pad=5, alpha=0.3)\n",
    "\n",
    "plt.subplot(2,2,1)\n",
    "plt.plot(x_lasso, y_lasso, '-ko')\n",
    "plt.xlabel(r'$\\lambda$') #lambda\n",
    "plt.ylabel('Lasso Score',bbox=box)\n",
    "plt.xscale('log')\n",
    "sns.despine(offset=15)\n",
    "\n",
    "plt.subplot(2,2,2)\n",
    "plt.plot(x_ridge, y_ridge, '-ko')\n",
    "plt.xlabel(r'$\\lambda$') #lambda\n",
    "plt.ylabel('Ridge Score',bbox=box)\n",
    "plt.xscale('log')\n",
    "\n",
    "labelx=-0.3\n",
    "\n",
    "plt.subplot(2, 2, 3)\n",
    "plt.plot(x_elastic, y_elastic, '-ko')\n",
    "plt.xlabel(r'$\\lambda$') #lambda\n",
    "plt.ylabel('Elastic Score',bbox=box)\n",
    "plt.xscale('log')\n",
    "sns.despine(offset=15)\n",
    "\n",
    "plt.subplot(2,2,4)\n",
    "plt.plot(x_adaptive, y_adaptive, '-ko')\n",
    "plt.xlabel(r'$\\lambda$') #lambda\n",
    "plt.ylabel('Adaptive Score',bbox=box)\n",
    "plt.xscale('log')\n",
    "sns.despine(offset=15)"
   ]
  },
  {
   "cell_type": "markdown",
   "metadata": {},
   "source": [
    "### Final "
   ]
  },
  {
   "cell_type": "code",
   "execution_count": 32,
   "metadata": {
    "collapsed": true
   },
   "outputs": [],
   "source": [
    "def main():\n",
    "    X_train, X_test, y_train, y_test = train_test_split(X, y, test_size=0.25, random_state=0)\n",
    "\n",
    "    lasso_alpha = 0.013257113655901095\n",
    "    ridge_alpha = 1.4563484775012443\n",
    "    elastic_alpha = 0.02682695795279726\n",
    "    adaptvie_lasso = 0.0012648552168552957\n",
    "    \n",
    "    lasso_acc = lasso(X_train, y_train, X_test, y_test, lasso_alpha)\n",
    "    ridge_acc = ridge(X_train, y_train, X_test, y_test, ridge_alpha)\n",
    "    elastic_acc = elastic(X_train, y_train, X_test, y_test, elastic_alpha)\n",
    "    adaptive_acc = adaptive_lasso(X_train, y_train, X_test, y_test, adaptvie_lasso)\n",
    "    print(\"Lasso's Accuracy: {:.4f} Ridge's Accuracy : {:.4f} Elastic's Accuracy : {:.4f} Adaptive's Accuracy : {:.4f}\".format(lasso_acc, ridge_acc, elastic_acc, adaptive_acc))\n",
    "    print(\"Finish!\")"
   ]
  },
  {
   "cell_type": "code",
   "execution_count": 33,
   "metadata": {},
   "outputs": [
    {
     "name": "stdout",
     "output_type": "stream",
     "text": [
      "Lasso's Accuracy: 0.9240 Ridge's Accuracy : 0.9227 Elastic's Accuracy : 0.9240 Adaptive's Accuracy : 0.9427\n",
      "Finish!\n"
     ]
    }
   ],
   "source": [
    "if __name__ == '__main__':\n",
    "    main()"
   ]
  },
  {
   "cell_type": "markdown",
   "metadata": {},
   "source": [
    "![hahah](totoro.png)"
   ]
  }
 ],
 "metadata": {
  "kernelspec": {
   "display_name": "Python 3",
   "language": "python",
   "name": "python3"
  }
 },
 "nbformat": 4,
 "nbformat_minor": 2
}
