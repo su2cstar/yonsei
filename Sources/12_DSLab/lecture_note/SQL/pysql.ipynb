{
 "cells": [
  {
   "cell_type": "code",
   "execution_count": null,
   "metadata": {},
   "outputs": [],
   "source": [
    "!pip install pymysql"
   ]
  },
  {
   "cell_type": "code",
   "execution_count": 2,
   "metadata": {},
   "outputs": [],
   "source": [
    "import pymysql.cursors\n",
    "import pandas as pd"
   ]
  },
  {
   "cell_type": "code",
   "execution_count": 3,
   "metadata": {},
   "outputs": [],
   "source": [
    "HOST = '35.200.30.86' #본인 GCP의 외부 IP 주소 ex) 192.0.0.1\n",
    "USER = 'root' #본인이 생성한 mysql 계정\n",
    "PASSWORD = 'mysql' #비밀번호"
   ]
  },
  {
   "cell_type": "code",
   "execution_count": 4,
   "metadata": {},
   "outputs": [
    {
     "name": "stdout",
     "output_type": "stream",
     "text": [
      "(('information_schema',), ('DRUGSTROE',), ('DSLAB',), ('DSLAB3',), ('DSLAB4',), ('dslab',), ('mysql',), ('performance_schema',), ('sys',), ('testdatabase',))\n"
     ]
    }
   ],
   "source": [
    "try:\n",
    "    conn = pymysql.connect(host=HOST,\n",
    "        user=USER,\n",
    "        password=PASSWORD,\n",
    "        charset='utf8mb4')\n",
    "    \n",
    "    with conn.cursor() as cursor:\n",
    "        sql = 'SHOW DATABASES'\n",
    "        cursor.execute(sql)\n",
    "        result = cursor.fetchall()\n",
    "        print(result)\n",
    "finally:\n",
    "    conn.close()"
   ]
  },
  {
   "cell_type": "code",
   "execution_count": 5,
   "metadata": {},
   "outputs": [
    {
     "name": "stdout",
     "output_type": "stream",
     "text": [
      "((Decimal('7369'), 'SMITH', 'CLERK', Decimal('7902'), datetime.date(1980, 12, 17), Decimal('800.00'), None, Decimal('20')), (Decimal('7499'), 'ALLEN', 'SALESMAN', Decimal('7698'), datetime.date(1981, 2, 20), Decimal('1600.00'), Decimal('300.00'), Decimal('30')), (Decimal('7521'), 'WARD', 'SALESMAN', Decimal('7698'), datetime.date(1981, 2, 22), Decimal('1250.00'), Decimal('500.00'), Decimal('30')), (Decimal('7566'), 'JONES', 'MANAGER', Decimal('7839'), datetime.date(1981, 4, 2), Decimal('2975.00'), None, Decimal('20')), (Decimal('7654'), 'MARTIN', 'SALESMAN', Decimal('7698'), datetime.date(1981, 9, 28), Decimal('1250.00'), Decimal('1400.00'), Decimal('30')), (Decimal('7698'), 'BLAKE', 'MANAGER', Decimal('7839'), datetime.date(1981, 5, 1), Decimal('2850.00'), None, Decimal('30')), (Decimal('7782'), 'CLARK', 'MANAGER', Decimal('7839'), datetime.date(1981, 6, 9), Decimal('2450.00'), None, Decimal('10')), (Decimal('7788'), 'SCOTT', 'ANALYST', Decimal('7566'), datetime.date(1987, 6, 28), Decimal('3000.00'), None, Decimal('20')), (Decimal('7839'), 'KING', 'PRESIDENT', None, datetime.date(1981, 11, 17), Decimal('5000.00'), None, Decimal('10')), (Decimal('7844'), 'TURNER', 'SALESMAN', Decimal('7698'), datetime.date(1981, 9, 8), Decimal('1500.00'), Decimal('0.00'), Decimal('30')), (Decimal('7876'), 'ADAMS', 'CLERK', Decimal('7788'), datetime.date(1987, 7, 13), Decimal('1100.00'), None, Decimal('20')), (Decimal('7900'), 'JAMES', 'CLERK', Decimal('7698'), datetime.date(1981, 12, 3), Decimal('950.00'), None, Decimal('30')), (Decimal('7902'), 'FORD', 'ANALYST', Decimal('7566'), datetime.date(1981, 12, 3), Decimal('3000.00'), None, Decimal('20')), (Decimal('7934'), 'MILLER', 'CLERK', Decimal('7782'), datetime.date(1982, 1, 23), Decimal('1300.00'), None, Decimal('10')))\n"
     ]
    }
   ],
   "source": [
    "try:\n",
    "    conn = pymysql.connect(host=HOST,\n",
    "        user=USER,\n",
    "        password=PASSWORD,\n",
    "        db='DSLAB',\n",
    "        charset='utf8mb4')\n",
    "    \n",
    "    with conn.cursor() as cursor:\n",
    "        sql = 'Select * from EMP'\n",
    "        cursor.execute(sql)\n",
    "        result = cursor.fetchall()\n",
    "        print(result)\n",
    "finally:\n",
    "    conn.close()"
   ]
  },
  {
   "cell_type": "code",
   "execution_count": 12,
   "metadata": {},
   "outputs": [
    {
     "data": {
      "text/html": [
       "<div>\n",
       "<style scoped>\n",
       "    .dataframe tbody tr th:only-of-type {\n",
       "        vertical-align: middle;\n",
       "    }\n",
       "\n",
       "    .dataframe tbody tr th {\n",
       "        vertical-align: top;\n",
       "    }\n",
       "\n",
       "    .dataframe thead th {\n",
       "        text-align: right;\n",
       "    }\n",
       "</style>\n",
       "<table border=\"1\" class=\"dataframe\">\n",
       "  <thead>\n",
       "    <tr style=\"text-align: right;\">\n",
       "      <th></th>\n",
       "      <th>ENAME</th>\n",
       "      <th>DNAME</th>\n",
       "    </tr>\n",
       "  </thead>\n",
       "  <tbody>\n",
       "    <tr>\n",
       "      <th>0</th>\n",
       "      <td>CLARK</td>\n",
       "      <td>ACCOUNTING</td>\n",
       "    </tr>\n",
       "    <tr>\n",
       "      <th>1</th>\n",
       "      <td>KING</td>\n",
       "      <td>ACCOUNTING</td>\n",
       "    </tr>\n",
       "    <tr>\n",
       "      <th>2</th>\n",
       "      <td>MILLER</td>\n",
       "      <td>ACCOUNTING</td>\n",
       "    </tr>\n",
       "  </tbody>\n",
       "</table>\n",
       "</div>"
      ],
      "text/plain": [
       "    ENAME       DNAME\n",
       "0   CLARK  ACCOUNTING\n",
       "1    KING  ACCOUNTING\n",
       "2  MILLER  ACCOUNTING"
      ]
     },
     "execution_count": 12,
     "metadata": {},
     "output_type": "execute_result"
    }
   ],
   "source": [
    "try:\n",
    "    conn = pymysql.connect(host=HOST,\n",
    "        user=USER,\n",
    "        password=PASSWORD,\n",
    "        db='DSLAB',\n",
    "        charset='utf8mb4')\n",
    "    sql_for_df = '''SELECT E.ENAME,D.DNAME \n",
    "    FROM EMP E,DEPT D WHERE E.DEPTNO = D.DEPTNO\n",
    "    AND D.DEPTNO = 10;'''\n",
    "    df_from_database = pd.read_sql(sql_for_df , conn)\n",
    "finally:\n",
    "    conn.close()\n",
    "df_from_database"
   ]
  },
  {
   "cell_type": "code",
   "execution_count": 13,
   "metadata": {},
   "outputs": [
    {
     "data": {
      "text/html": [
       "<div>\n",
       "<style scoped>\n",
       "    .dataframe tbody tr th:only-of-type {\n",
       "        vertical-align: middle;\n",
       "    }\n",
       "\n",
       "    .dataframe tbody tr th {\n",
       "        vertical-align: top;\n",
       "    }\n",
       "\n",
       "    .dataframe thead th {\n",
       "        text-align: right;\n",
       "    }\n",
       "</style>\n",
       "<table border=\"1\" class=\"dataframe\">\n",
       "  <thead>\n",
       "    <tr style=\"text-align: right;\">\n",
       "      <th></th>\n",
       "      <th>EMPNO</th>\n",
       "      <th>ENAME</th>\n",
       "      <th>SAL</th>\n",
       "    </tr>\n",
       "  </thead>\n",
       "  <tbody>\n",
       "    <tr>\n",
       "      <th>0</th>\n",
       "      <td>7839.0</td>\n",
       "      <td>KING</td>\n",
       "      <td>5000.0</td>\n",
       "    </tr>\n",
       "    <tr>\n",
       "      <th>1</th>\n",
       "      <td>7788.0</td>\n",
       "      <td>SCOTT</td>\n",
       "      <td>3000.0</td>\n",
       "    </tr>\n",
       "    <tr>\n",
       "      <th>2</th>\n",
       "      <td>7902.0</td>\n",
       "      <td>FORD</td>\n",
       "      <td>3000.0</td>\n",
       "    </tr>\n",
       "    <tr>\n",
       "      <th>3</th>\n",
       "      <td>7566.0</td>\n",
       "      <td>JONES</td>\n",
       "      <td>2975.0</td>\n",
       "    </tr>\n",
       "    <tr>\n",
       "      <th>4</th>\n",
       "      <td>7698.0</td>\n",
       "      <td>BLAKE</td>\n",
       "      <td>2850.0</td>\n",
       "    </tr>\n",
       "    <tr>\n",
       "      <th>5</th>\n",
       "      <td>7782.0</td>\n",
       "      <td>CLARK</td>\n",
       "      <td>2450.0</td>\n",
       "    </tr>\n",
       "  </tbody>\n",
       "</table>\n",
       "</div>"
      ],
      "text/plain": [
       "    EMPNO  ENAME     SAL\n",
       "0  7839.0   KING  5000.0\n",
       "1  7788.0  SCOTT  3000.0\n",
       "2  7902.0   FORD  3000.0\n",
       "3  7566.0  JONES  2975.0\n",
       "4  7698.0  BLAKE  2850.0\n",
       "5  7782.0  CLARK  2450.0"
      ]
     },
     "execution_count": 13,
     "metadata": {},
     "output_type": "execute_result"
    }
   ],
   "source": [
    "try:\n",
    "    conn = pymysql.connect(host=HOST,\n",
    "        user=USER,\n",
    "        password=PASSWORD,\n",
    "        db='DSLAB',\n",
    "        charset='utf8mb4')\n",
    "    sql_for_df = '''SELECT EMPNO,ENAME,SAL\n",
    "FROM EMP\n",
    "WHERE SAL > (SELECT AVG(SAL)\n",
    "          FROM EMP)\n",
    "ORDER BY SAL DESC;'''\n",
    "    df_from_database = pd.read_sql(sql_for_df , conn)\n",
    "finally:\n",
    "    conn.close()\n",
    "df_from_database"
   ]
  },
  {
   "cell_type": "code",
   "execution_count": 14,
   "metadata": {},
   "outputs": [
    {
     "data": {
      "text/html": [
       "<div>\n",
       "<style scoped>\n",
       "    .dataframe tbody tr th:only-of-type {\n",
       "        vertical-align: middle;\n",
       "    }\n",
       "\n",
       "    .dataframe tbody tr th {\n",
       "        vertical-align: top;\n",
       "    }\n",
       "\n",
       "    .dataframe thead th {\n",
       "        text-align: right;\n",
       "    }\n",
       "</style>\n",
       "<table border=\"1\" class=\"dataframe\">\n",
       "  <thead>\n",
       "    <tr style=\"text-align: right;\">\n",
       "      <th></th>\n",
       "      <th>EMPNO</th>\n",
       "      <th>ENAME</th>\n",
       "    </tr>\n",
       "  </thead>\n",
       "  <tbody>\n",
       "    <tr>\n",
       "      <th>0</th>\n",
       "      <td>7839.0</td>\n",
       "      <td>KING</td>\n",
       "    </tr>\n",
       "  </tbody>\n",
       "</table>\n",
       "</div>"
      ],
      "text/plain": [
       "    EMPNO ENAME\n",
       "0  7839.0  KING"
      ]
     },
     "execution_count": 14,
     "metadata": {},
     "output_type": "execute_result"
    }
   ],
   "source": [
    "try:\n",
    "    conn = pymysql.connect(host=HOST,\n",
    "        user=USER,\n",
    "        password=PASSWORD,\n",
    "        db='DSLAB',\n",
    "        charset='utf8mb4')\n",
    "    sql_for_df = '''SELECT EMPNO,ENAME\n",
    "        FROM EMP\n",
    "        WHERE SAL = (SELECT MAX(SAL) \n",
    "         FROM EMP \n",
    "         WHERE DEPTNO = 10);'''\n",
    "    df_from_database = pd.read_sql(sql_for_df , conn)\n",
    "finally:\n",
    "    conn.close()\n",
    "df_from_database"
   ]
  },
  {
   "cell_type": "code",
   "execution_count": null,
   "metadata": {},
   "outputs": [],
   "source": []
  }
 ],
 "metadata": {
  "kernelspec": {
   "display_name": "Python 3",
   "language": "python",
   "name": "python3"
  },
  "language_info": {
   "codemirror_mode": {
    "name": "ipython",
    "version": 3
   },
   "file_extension": ".py",
   "mimetype": "text/x-python",
   "name": "python",
   "nbconvert_exporter": "python",
   "pygments_lexer": "ipython3",
   "version": "3.6.5"
  }
 },
 "nbformat": 4,
 "nbformat_minor": 2
}
