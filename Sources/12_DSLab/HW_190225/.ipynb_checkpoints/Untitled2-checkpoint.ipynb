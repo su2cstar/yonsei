{
 "cells": [
  {
   "cell_type": "code",
   "execution_count": 1,
   "metadata": {},
   "outputs": [],
   "source": [
    "import pandas as pd\n",
    "import numpy as np\n",
    "from sklearn.model_selection import train_test_split\n",
    "from sklearn.preprocessing import LabelEncoder"
   ]
  },
  {
   "cell_type": "code",
   "execution_count": 191,
   "metadata": {},
   "outputs": [
    {
     "ename": "ModuleNotFoundError",
     "evalue": "No module named 'imblearn'",
     "output_type": "error",
     "traceback": [
      "\u001b[1;31m---------------------------------------------------------------------------\u001b[0m",
      "\u001b[1;31mModuleNotFoundError\u001b[0m                       Traceback (most recent call last)",
      "\u001b[1;32m<ipython-input-191-f327d60d7013>\u001b[0m in \u001b[0;36m<module>\u001b[1;34m()\u001b[0m\n\u001b[1;32m----> 1\u001b[1;33m \u001b[1;32mimport\u001b[0m \u001b[0mimblearn\u001b[0m\u001b[1;33m\u001b[0m\u001b[0m\n\u001b[0m",
      "\u001b[1;31mModuleNotFoundError\u001b[0m: No module named 'imblearn'"
     ]
    }
   ],
   "source": [
    "import imblearn"
   ]
  },
  {
   "cell_type": "code",
   "execution_count": 190,
   "metadata": {},
   "outputs": [
    {
     "ename": "ModuleNotFoundError",
     "evalue": "No module named 'imblearn'",
     "output_type": "error",
     "traceback": [
      "\u001b[1;31m---------------------------------------------------------------------------\u001b[0m",
      "\u001b[1;31mModuleNotFoundError\u001b[0m                       Traceback (most recent call last)",
      "\u001b[1;32m<ipython-input-190-e913149fdc4c>\u001b[0m in \u001b[0;36m<module>\u001b[1;34m()\u001b[0m\n\u001b[0;32m      5\u001b[0m \u001b[1;33m\u001b[0m\u001b[0m\n\u001b[0;32m      6\u001b[0m \u001b[1;32mfrom\u001b[0m \u001b[0mxgboost\u001b[0m \u001b[1;32mimport\u001b[0m \u001b[0mXGBClassifier\u001b[0m\u001b[1;33m\u001b[0m\u001b[0m\n\u001b[1;32m----> 7\u001b[1;33m \u001b[1;32mfrom\u001b[0m \u001b[0mimblearn\u001b[0m\u001b[1;33m.\u001b[0m\u001b[0mover_sampling\u001b[0m \u001b[1;32mimport\u001b[0m \u001b[0mSMOTE\u001b[0m\u001b[1;33m\u001b[0m\u001b[0m\n\u001b[0m",
      "\u001b[1;31mModuleNotFoundError\u001b[0m: No module named 'imblearn'"
     ]
    }
   ],
   "source": [
    "from sklearn.linear_model import LogisticRegression\n",
    "from sklearn.ensemble import RandomForestClassifier\n",
    "from sklearn.metrics import confusion_matrix\n",
    "from sklearn.metrics import f1_score\n",
    "\n",
    "from xgboost import XGBClassifier\n",
    "from imblearn.over_sampling import SMOTE"
   ]
  },
  {
   "cell_type": "code",
   "execution_count": null,
   "metadata": {},
   "outputs": [],
   "source": [
    "#Auto encodes any dataframe column of type category or object.\n",
    "def dummyEncode(df):\n",
    "        columnsToEncode = list(df.select_dtypes(include=['category','object']))\n",
    "        le = LabelEncoder()\n",
    "        for feature in columnsToEncode:\n",
    "            try:\n",
    "                df[feature] = le.fit_transform(df[feature])\n",
    "            except:\n",
    "                print('Error encoding '+feature)\n",
    "        return df"
   ]
  },
  {
   "cell_type": "code",
   "execution_count": 179,
   "metadata": {},
   "outputs": [],
   "source": [
    "#import data\n",
    "train = pd.read_csv('train.csv')\n",
    "test = pd.read_csv('test.csv')\n",
    "#set the type of variables\n",
    "cat_var = ['Gender','Neighbourhood','Scholarship', 'Hipertension',\n",
    "           'Diabetes', 'Alcoholism', 'Handcap', 'SMS_received', 'No-show']\n",
    "time_var = ['ScheduledDay','AppointmentDay']\n",
    "#drop the time of ScheduledDay variables, since AppointmentDay does not have time information\n",
    "train['ScheduledDay']=train['ScheduledDay'].astype('str').map(lambda x: x[0:10])\n",
    "test['ScheduledDay']=test['ScheduledDay'].astype('str').map(lambda x: x[0:10])\n",
    "#change the variable type\n",
    "for i in time_var:\n",
    "    train[i]=pd.to_datetime(train[i])\n",
    "    test[i]=pd.to_datetime(test[i])\n",
    "for i in cat_var:\n",
    "    train[i] = train[i].astype('category')\n",
    "    test[i] = test[i].astype('category')\n",
    "#make new column day_diff    \n",
    "train['day_diff'] = (train['AppointmentDay'] - train['ScheduledDay']).map(lambda x : x.days)\n",
    "train = train.iloc[ :, 3:]\n",
    "\n",
    "test['day_diff'] = (test['AppointmentDay'] - test['ScheduledDay']).map(lambda x : x.days)\n",
    "test = test.iloc[ :, 3:]\n",
    "#remove the ScheduledDay AppointmentDay columns\n",
    "train = train.drop(columns=['ScheduledDay','AppointmentDay'])\n",
    "test = test.drop(columns=['ScheduledDay','AppointmentDay'])\n",
    "if 1:\n",
    "    train.drop(columns='Neighbourhood')\n",
    "    test.drop(columns='Neighbourhood')\n",
    "#imputation mode with categorical variables, median with numerical variables\n",
    "Imputation = 1\n",
    "if Imputation:\n",
    "    for i in cat_var:\n",
    "        train[i].fillna(train[i].mode()[0], inplace=True)    \n",
    "        test[i].fillna(test[i].mode()[0], inplace=True)  \n",
    "    for i in train.columns:\n",
    "        if i not in cat_var:\n",
    "            train[i].fillna(train[i].median(), inplace=True)\n",
    "            test[i].fillna(test[i].median(), inplace=True)\n",
    "        \n",
    "train = dummyEncode(train)\n",
    "test = dummyEncode(test)\n",
    "\n",
    "#set the X,Y variables\n",
    "y = train['No-show']\n",
    "X = train.drop(columns='No-show')\n",
    "#train test split for CV\n",
    "X_train, X_valid, y_train, y_valid = train_test_split(X, y, test_size=0.2, random_state=0, stratify=y)\n",
    "#test data\n",
    "test_X = test.drop(columns='No-show')\n",
    "test_y = test['No-show']"
   ]
  },
  {
   "cell_type": "code",
   "execution_count": 180,
   "metadata": {},
   "outputs": [],
   "source": [
    "clf = RandomForestClassifier(n_estimators=300, max_depth=10,random_state=0)\n",
    "clf.fit(X, y)\n",
    "\n",
    "def rf_with_cutoff(test_X=test_X,test_y=test_y,clf=clf,silence=True):\n",
    "    tmp = [x[0] for x in clf.predict_proba(test_X)]\n",
    "    cutoff = sorted(tmp)[int((train['No-show'].sum()/train.shape[0]) * len(clf.predict(test_X)))]\n",
    "    sub = pd.Series([x[0] < cutoff for x in clf.predict_proba(test_X)]).map(int)\n",
    "    print('f1 score : ' + str(f1_score(y_pred=sub,y_true=test_y)))\n",
    "    if not silence:\n",
    "        return sub"
   ]
  },
  {
   "cell_type": "code",
   "execution_count": 184,
   "metadata": {},
   "outputs": [
    {
     "name": "stdout",
     "output_type": "stream",
     "text": [
      "f1 score : 0.4251755142258899\n"
     ]
    }
   ],
   "source": [
    "rf_with_cutoff(X_valid, y_valid)"
   ]
  },
  {
   "cell_type": "code",
   "execution_count": 183,
   "metadata": {},
   "outputs": [
    {
     "name": "stdout",
     "output_type": "stream",
     "text": [
      "[0]\tvalidation_0-error:0.201925\tvalidation_1-error:0.20198\tvalidation_0-f1_err:0.992301\tvalidation_1-f1_err:0.993638\n",
      "Multiple eval metrics have been passed: 'validation_1-f1_err' will be used for early stopping.\n",
      "\n",
      "Will train until validation_1-f1_err hasn't improved in 100 rounds.\n"
     ]
    },
    {
     "name": "stderr",
     "output_type": "stream",
     "text": [
      "C:\\ProgramData\\Anaconda3\\lib\\site-packages\\sklearn\\metrics\\classification.py:1135: UndefinedMetricWarning: F-score is ill-defined and being set to 0.0 due to no predicted samples.\n",
      "  'precision', 'predicted', average, warn_for)\n"
     ]
    },
    {
     "name": "stdout",
     "output_type": "stream",
     "text": [
      "[10]\tvalidation_0-error:0.2019\tvalidation_1-error:0.202029\tvalidation_0-f1_err:0.999385\tvalidation_1-f1_err:1\n",
      "[20]\tvalidation_0-error:0.201689\tvalidation_1-error:0.20193\tvalidation_0-f1_err:0.997295\tvalidation_1-f1_err:0.998524\n",
      "[30]\tvalidation_0-error:0.201502\tvalidation_1-error:0.20193\tvalidation_0-f1_err:0.994965\tvalidation_1-f1_err:0.998033\n",
      "[40]\tvalidation_0-error:0.201129\tvalidation_1-error:0.20188\tvalidation_0-f1_err:0.989236\tvalidation_1-f1_err:0.993149\n",
      "[50]\tvalidation_0-error:0.200831\tvalidation_1-error:0.20183\tvalidation_0-f1_err:0.984517\tvalidation_1-f1_err:0.990723\n",
      "[60]\tvalidation_0-error:0.200221\tvalidation_1-error:0.20183\tvalidation_0-f1_err:0.976471\tvalidation_1-f1_err:0.986388\n",
      "[70]\tvalidation_0-error:0.199612\tvalidation_1-error:0.202377\tvalidation_0-f1_err:0.967456\tvalidation_1-f1_err:0.983563\n",
      "[80]\tvalidation_0-error:0.198941\tvalidation_1-error:0.202029\tvalidation_0-f1_err:0.955335\tvalidation_1-f1_err:0.974101\n",
      "[90]\tvalidation_0-error:0.198418\tvalidation_1-error:0.20193\tvalidation_0-f1_err:0.948974\tvalidation_1-f1_err:0.968974\n",
      "[100]\tvalidation_0-error:0.198033\tvalidation_1-error:0.201333\tvalidation_0-f1_err:0.942032\tvalidation_1-f1_err:0.959242\n",
      "[110]\tvalidation_0-error:0.197573\tvalidation_1-error:0.201383\tvalidation_0-f1_err:0.935472\tvalidation_1-f1_err:0.956984\n",
      "[120]\tvalidation_0-error:0.197249\tvalidation_1-error:0.20183\tvalidation_0-f1_err:0.929237\tvalidation_1-f1_err:0.952582\n",
      "[130]\tvalidation_0-error:0.196677\tvalidation_1-error:0.201383\tvalidation_0-f1_err:0.921575\tvalidation_1-f1_err:0.947135\n",
      "[140]\tvalidation_0-error:0.19613\tvalidation_1-error:0.201184\tvalidation_0-f1_err:0.915598\tvalidation_1-f1_err:0.943991\n",
      "[150]\tvalidation_0-error:0.195471\tvalidation_1-error:0.200985\tvalidation_0-f1_err:0.907412\tvalidation_1-f1_err:0.939986\n",
      "[160]\tvalidation_0-error:0.194874\tvalidation_1-error:0.201333\tvalidation_0-f1_err:0.902038\tvalidation_1-f1_err:0.937905\n",
      "[170]\tvalidation_0-error:0.194713\tvalidation_1-error:0.201184\tvalidation_0-f1_err:0.898033\tvalidation_1-f1_err:0.936559\n",
      "[180]\tvalidation_0-error:0.194265\tvalidation_1-error:0.201233\tvalidation_0-f1_err:0.894225\tvalidation_1-f1_err:0.933118\n",
      "[190]\tvalidation_0-error:0.194041\tvalidation_1-error:0.201582\tvalidation_0-f1_err:0.892275\tvalidation_1-f1_err:0.932796\n",
      "[200]\tvalidation_0-error:0.193855\tvalidation_1-error:0.201582\tvalidation_0-f1_err:0.888623\tvalidation_1-f1_err:0.928097\n",
      "[210]\tvalidation_0-error:0.193656\tvalidation_1-error:0.201532\tvalidation_0-f1_err:0.885792\tvalidation_1-f1_err:0.926383\n",
      "[220]\tvalidation_0-error:0.193121\tvalidation_1-error:0.201432\tvalidation_0-f1_err:0.879694\tvalidation_1-f1_err:0.919201\n",
      "[230]\tvalidation_0-error:0.192363\tvalidation_1-error:0.201731\tvalidation_0-f1_err:0.873222\tvalidation_1-f1_err:0.917647\n",
      "[240]\tvalidation_0-error:0.19235\tvalidation_1-error:0.202129\tvalidation_0-f1_err:0.871935\tvalidation_1-f1_err:0.917381\n",
      "[250]\tvalidation_0-error:0.191716\tvalidation_1-error:0.202129\tvalidation_0-f1_err:0.864625\tvalidation_1-f1_err:0.916554\n",
      "[260]\tvalidation_0-error:0.191343\tvalidation_1-error:0.20183\tvalidation_0-f1_err:0.860626\tvalidation_1-f1_err:0.913141\n",
      "[270]\tvalidation_0-error:0.190597\tvalidation_1-error:0.202328\tvalidation_0-f1_err:0.853832\tvalidation_1-f1_err:0.912517\n",
      "[280]\tvalidation_0-error:0.190398\tvalidation_1-error:0.202029\tvalidation_0-f1_err:0.851045\tvalidation_1-f1_err:0.909539\n",
      "[290]\tvalidation_0-error:0.190236\tvalidation_1-error:0.202228\tvalidation_0-f1_err:0.848389\tvalidation_1-f1_err:0.9084\n",
      "[300]\tvalidation_0-error:0.189888\tvalidation_1-error:0.202477\tvalidation_0-f1_err:0.843655\tvalidation_1-f1_err:0.904064\n",
      "[310]\tvalidation_0-error:0.189403\tvalidation_1-error:0.202527\tvalidation_0-f1_err:0.839321\tvalidation_1-f1_err:0.906097\n",
      "[320]\tvalidation_0-error:0.18913\tvalidation_1-error:0.203024\tvalidation_0-f1_err:0.836266\tvalidation_1-f1_err:0.907514\n",
      "[330]\tvalidation_0-error:0.188881\tvalidation_1-error:0.202875\tvalidation_0-f1_err:0.83434\tvalidation_1-f1_err:0.902633\n",
      "[340]\tvalidation_0-error:0.188769\tvalidation_1-error:0.202925\tvalidation_0-f1_err:0.832064\tvalidation_1-f1_err:0.90106\n",
      "[350]\tvalidation_0-error:0.188309\tvalidation_1-error:0.203322\tvalidation_0-f1_err:0.827541\tvalidation_1-f1_err:0.900044\n",
      "[360]\tvalidation_0-error:0.187787\tvalidation_1-error:0.203571\tvalidation_0-f1_err:0.824435\tvalidation_1-f1_err:0.902138\n",
      "[370]\tvalidation_0-error:0.187414\tvalidation_1-error:0.203671\tvalidation_0-f1_err:0.8202\tvalidation_1-f1_err:0.899407\n",
      "[380]\tvalidation_0-error:0.18714\tvalidation_1-error:0.20377\tvalidation_0-f1_err:0.816603\tvalidation_1-f1_err:0.895911\n",
      "[390]\tvalidation_0-error:0.18678\tvalidation_1-error:0.20377\tvalidation_0-f1_err:0.812078\tvalidation_1-f1_err:0.894737\n",
      "[400]\tvalidation_0-error:0.186531\tvalidation_1-error:0.203621\tvalidation_0-f1_err:0.810208\tvalidation_1-f1_err:0.893496\n",
      "[410]\tvalidation_0-error:0.186332\tvalidation_1-error:0.203671\tvalidation_0-f1_err:0.807251\tvalidation_1-f1_err:0.890411\n",
      "[420]\tvalidation_0-error:0.185959\tvalidation_1-error:0.203869\tvalidation_0-f1_err:0.804421\tvalidation_1-f1_err:0.890893\n",
      "[430]\tvalidation_0-error:0.185561\tvalidation_1-error:0.203621\tvalidation_0-f1_err:0.799175\tvalidation_1-f1_err:0.887684\n",
      "[440]\tvalidation_0-error:0.185263\tvalidation_1-error:0.204068\tvalidation_0-f1_err:0.796355\tvalidation_1-f1_err:0.886752\n",
      "[450]\tvalidation_0-error:0.184914\tvalidation_1-error:0.204068\tvalidation_0-f1_err:0.793162\tvalidation_1-f1_err:0.884458\n",
      "[460]\tvalidation_0-error:0.184529\tvalidation_1-error:0.204118\tvalidation_0-f1_err:0.789362\tvalidation_1-f1_err:0.883721\n",
      "[470]\tvalidation_0-error:0.184218\tvalidation_1-error:0.204068\tvalidation_0-f1_err:0.785483\tvalidation_1-f1_err:0.881797\n",
      "[480]\tvalidation_0-error:0.184007\tvalidation_1-error:0.203969\tvalidation_0-f1_err:0.784042\tvalidation_1-f1_err:0.879854\n",
      "[490]\tvalidation_0-error:0.183634\tvalidation_1-error:0.204019\tvalidation_0-f1_err:0.781624\tvalidation_1-f1_err:0.877246\n",
      "[500]\tvalidation_0-error:0.183136\tvalidation_1-error:0.203571\tvalidation_0-f1_err:0.777367\tvalidation_1-f1_err:0.873639\n",
      "[510]\tvalidation_0-error:0.183099\tvalidation_1-error:0.204417\tvalidation_0-f1_err:0.774389\tvalidation_1-f1_err:0.872611\n",
      "[520]\tvalidation_0-error:0.182577\tvalidation_1-error:0.204616\tvalidation_0-f1_err:0.770802\tvalidation_1-f1_err:0.875319\n",
      "[530]\tvalidation_0-error:0.182452\tvalidation_1-error:0.204964\tvalidation_0-f1_err:0.770358\tvalidation_1-f1_err:0.877742\n",
      "[540]\tvalidation_0-error:0.182017\tvalidation_1-error:0.205163\tvalidation_0-f1_err:0.76695\tvalidation_1-f1_err:0.877846\n",
      "[550]\tvalidation_0-error:0.18188\tvalidation_1-error:0.205262\tvalidation_0-f1_err:0.765691\tvalidation_1-f1_err:0.877152\n",
      "[560]\tvalidation_0-error:0.181706\tvalidation_1-error:0.205411\tvalidation_0-f1_err:0.76336\tvalidation_1-f1_err:0.874629\n",
      "[570]\tvalidation_0-error:0.181694\tvalidation_1-error:0.205461\tvalidation_0-f1_err:0.763667\tvalidation_1-f1_err:0.875026\n",
      "[580]\tvalidation_0-error:0.180985\tvalidation_1-error:0.205312\tvalidation_0-f1_err:0.756222\tvalidation_1-f1_err:0.868321\n",
      "[590]\tvalidation_0-error:0.180998\tvalidation_1-error:0.205163\tvalidation_0-f1_err:0.755293\tvalidation_1-f1_err:0.867873\n",
      "[600]\tvalidation_0-error:0.1805\tvalidation_1-error:0.205561\tvalidation_0-f1_err:0.751346\tvalidation_1-f1_err:0.868095\n",
      "[610]\tvalidation_0-error:0.180463\tvalidation_1-error:0.204864\tvalidation_0-f1_err:0.749832\tvalidation_1-f1_err:0.863341\n",
      "[620]\tvalidation_0-error:0.179978\tvalidation_1-error:0.204715\tvalidation_0-f1_err:0.74639\tvalidation_1-f1_err:0.861809\n",
      "[630]\tvalidation_0-error:0.179406\tvalidation_1-error:0.205013\tvalidation_0-f1_err:0.743175\tvalidation_1-f1_err:0.860184\n",
      "[640]\tvalidation_0-error:0.179194\tvalidation_1-error:0.205212\tvalidation_0-f1_err:0.741268\tvalidation_1-f1_err:0.859225\n",
      "[650]\tvalidation_0-error:0.179008\tvalidation_1-error:0.20566\tvalidation_0-f1_err:0.740535\tvalidation_1-f1_err:0.860562\n",
      "[660]\tvalidation_0-error:0.178971\tvalidation_1-error:0.206008\tvalidation_0-f1_err:0.740114\tvalidation_1-f1_err:0.861839\n",
      "[670]\tvalidation_0-error:0.178647\tvalidation_1-error:0.205909\tvalidation_0-f1_err:0.737942\tvalidation_1-f1_err:0.861782\n",
      "[680]\tvalidation_0-error:0.178486\tvalidation_1-error:0.205909\tvalidation_0-f1_err:0.735801\tvalidation_1-f1_err:0.859635\n",
      "[690]\tvalidation_0-error:0.178075\tvalidation_1-error:0.205859\tvalidation_0-f1_err:0.732644\tvalidation_1-f1_err:0.859248\n"
     ]
    },
    {
     "name": "stdout",
     "output_type": "stream",
     "text": [
      "[700]\tvalidation_0-error:0.178038\tvalidation_1-error:0.20571\tvalidation_0-f1_err:0.732004\tvalidation_1-f1_err:0.855606\n",
      "[710]\tvalidation_0-error:0.177715\tvalidation_1-error:0.205859\tvalidation_0-f1_err:0.728812\tvalidation_1-f1_err:0.855342\n",
      "[720]\tvalidation_0-error:0.177615\tvalidation_1-error:0.206108\tvalidation_0-f1_err:0.725961\tvalidation_1-f1_err:0.854081\n",
      "[730]\tvalidation_0-error:0.177379\tvalidation_1-error:0.205958\tvalidation_0-f1_err:0.723634\tvalidation_1-f1_err:0.850133\n",
      "[740]\tvalidation_0-error:0.177056\tvalidation_1-error:0.206157\tvalidation_0-f1_err:0.721437\tvalidation_1-f1_err:0.852004\n",
      "[750]\tvalidation_0-error:0.176994\tvalidation_1-error:0.205312\tvalidation_0-f1_err:0.71998\tvalidation_1-f1_err:0.846248\n",
      "[760]\tvalidation_0-error:0.176558\tvalidation_1-error:0.206307\tvalidation_0-f1_err:0.71694\tvalidation_1-f1_err:0.851745\n",
      "[770]\tvalidation_0-error:0.176509\tvalidation_1-error:0.206406\tvalidation_0-f1_err:0.717318\tvalidation_1-f1_err:0.85041\n",
      "[780]\tvalidation_0-error:0.176285\tvalidation_1-error:0.206356\tvalidation_0-f1_err:0.714819\tvalidation_1-f1_err:0.848293\n",
      "[790]\tvalidation_0-error:0.1758\tvalidation_1-error:0.206555\tvalidation_0-f1_err:0.710738\tvalidation_1-f1_err:0.849111\n",
      "[800]\tvalidation_0-error:0.1757\tvalidation_1-error:0.206456\tvalidation_0-f1_err:0.70948\tvalidation_1-f1_err:0.84697\n",
      "[810]\tvalidation_0-error:0.175427\tvalidation_1-error:0.206307\tvalidation_0-f1_err:0.707523\tvalidation_1-f1_err:0.845151\n",
      "[820]\tvalidation_0-error:0.17534\tvalidation_1-error:0.206655\tvalidation_0-f1_err:0.706215\tvalidation_1-f1_err:0.845715\n",
      "[830]\tvalidation_0-error:0.175116\tvalidation_1-error:0.207003\tvalidation_0-f1_err:0.704749\tvalidation_1-f1_err:0.848003\n",
      "[840]\tvalidation_0-error:0.174954\tvalidation_1-error:0.206506\tvalidation_0-f1_err:0.702727\tvalidation_1-f1_err:0.842191\n",
      "[850]\tvalidation_0-error:0.174619\tvalidation_1-error:0.206605\tvalidation_0-f1_err:0.700783\tvalidation_1-f1_err:0.841572\n",
      "[860]\tvalidation_0-error:0.174482\tvalidation_1-error:0.206605\tvalidation_0-f1_err:0.699571\tvalidation_1-f1_err:0.843281\n",
      "[870]\tvalidation_0-error:0.17437\tvalidation_1-error:0.206655\tvalidation_0-f1_err:0.69867\tvalidation_1-f1_err:0.843655\n",
      "[880]\tvalidation_0-error:0.174246\tvalidation_1-error:0.207053\tvalidation_0-f1_err:0.699077\tvalidation_1-f1_err:0.843908\n",
      "[890]\tvalidation_0-error:0.173611\tvalidation_1-error:0.207699\tvalidation_0-f1_err:0.694489\tvalidation_1-f1_err:0.842955\n",
      "[900]\tvalidation_0-error:0.173636\tvalidation_1-error:0.207301\tvalidation_0-f1_err:0.694243\tvalidation_1-f1_err:0.84168\n",
      "[910]\tvalidation_0-error:0.173363\tvalidation_1-error:0.207003\tvalidation_0-f1_err:0.692254\tvalidation_1-f1_err:0.83979\n",
      "[920]\tvalidation_0-error:0.173325\tvalidation_1-error:0.207152\tvalidation_0-f1_err:0.692002\tvalidation_1-f1_err:0.838534\n",
      "[930]\tvalidation_0-error:0.173102\tvalidation_1-error:0.206854\tvalidation_0-f1_err:0.689807\tvalidation_1-f1_err:0.837326\n",
      "[940]\tvalidation_0-error:0.173126\tvalidation_1-error:0.206953\tvalidation_0-f1_err:0.688882\tvalidation_1-f1_err:0.835039\n",
      "[950]\tvalidation_0-error:0.173039\tvalidation_1-error:0.206854\tvalidation_0-f1_err:0.687414\tvalidation_1-f1_err:0.834303\n",
      "[960]\tvalidation_0-error:0.172816\tvalidation_1-error:0.206754\tvalidation_0-f1_err:0.685035\tvalidation_1-f1_err:0.831234\n",
      "[970]\tvalidation_0-error:0.172368\tvalidation_1-error:0.206953\tvalidation_0-f1_err:0.682723\tvalidation_1-f1_err:0.831701\n",
      "[980]\tvalidation_0-error:0.172405\tvalidation_1-error:0.206704\tvalidation_0-f1_err:0.682433\tvalidation_1-f1_err:0.830536\n",
      "[990]\tvalidation_0-error:0.172069\tvalidation_1-error:0.206456\tvalidation_0-f1_err:0.681406\tvalidation_1-f1_err:0.829702\n",
      "[1000]\tvalidation_0-error:0.171883\tvalidation_1-error:0.206456\tvalidation_0-f1_err:0.680098\tvalidation_1-f1_err:0.827057\n",
      "[1010]\tvalidation_0-error:0.171672\tvalidation_1-error:0.206704\tvalidation_0-f1_err:0.678294\tvalidation_1-f1_err:0.828218\n",
      "[1020]\tvalidation_0-error:0.171299\tvalidation_1-error:0.206903\tvalidation_0-f1_err:0.675228\tvalidation_1-f1_err:0.827696\n",
      "[1030]\tvalidation_0-error:0.170901\tvalidation_1-error:0.207003\tvalidation_0-f1_err:0.673527\tvalidation_1-f1_err:0.825466\n",
      "[1040]\tvalidation_0-error:0.170963\tvalidation_1-error:0.207202\tvalidation_0-f1_err:0.672487\tvalidation_1-f1_err:0.826259\n",
      "[1050]\tvalidation_0-error:0.170702\tvalidation_1-error:0.206456\tvalidation_0-f1_err:0.670771\tvalidation_1-f1_err:0.825084\n",
      "[1060]\tvalidation_0-error:0.170577\tvalidation_1-error:0.206854\tvalidation_0-f1_err:0.670413\tvalidation_1-f1_err:0.825035\n",
      "[1070]\tvalidation_0-error:0.170266\tvalidation_1-error:0.206655\tvalidation_0-f1_err:0.667984\tvalidation_1-f1_err:0.822609\n",
      "[1080]\tvalidation_0-error:0.170291\tvalidation_1-error:0.206804\tvalidation_0-f1_err:0.667821\tvalidation_1-f1_err:0.822715\n",
      "[1090]\tvalidation_0-error:0.170018\tvalidation_1-error:0.206605\tvalidation_0-f1_err:0.667073\tvalidation_1-f1_err:0.822574\n",
      "[1100]\tvalidation_0-error:0.169943\tvalidation_1-error:0.207252\tvalidation_0-f1_err:0.665741\tvalidation_1-f1_err:0.824659\n",
      "[1110]\tvalidation_0-error:0.16952\tvalidation_1-error:0.207053\tvalidation_0-f1_err:0.663309\tvalidation_1-f1_err:0.821267\n",
      "[1120]\tvalidation_0-error:0.169558\tvalidation_1-error:0.206854\tvalidation_0-f1_err:0.661556\tvalidation_1-f1_err:0.817574\n",
      "[1130]\tvalidation_0-error:0.169508\tvalidation_1-error:0.206854\tvalidation_0-f1_err:0.660849\tvalidation_1-f1_err:0.819507\n",
      "[1140]\tvalidation_0-error:0.169135\tvalidation_1-error:0.206605\tvalidation_0-f1_err:0.658501\tvalidation_1-f1_err:0.820624\n",
      "[1150]\tvalidation_0-error:0.168936\tvalidation_1-error:0.207003\tvalidation_0-f1_err:0.657727\tvalidation_1-f1_err:0.820907\n",
      "[1160]\tvalidation_0-error:0.168488\tvalidation_1-error:0.207102\tvalidation_0-f1_err:0.654463\tvalidation_1-f1_err:0.819685\n",
      "[1170]\tvalidation_0-error:0.168426\tvalidation_1-error:0.206854\tvalidation_0-f1_err:0.654063\tvalidation_1-f1_err:0.819185\n",
      "[1180]\tvalidation_0-error:0.168177\tvalidation_1-error:0.207451\tvalidation_0-f1_err:0.653161\tvalidation_1-f1_err:0.821548\n",
      "[1190]\tvalidation_0-error:0.168215\tvalidation_1-error:0.2076\tvalidation_0-f1_err:0.653969\tvalidation_1-f1_err:0.821654\n",
      "[1200]\tvalidation_0-error:0.167916\tvalidation_1-error:0.207401\tvalidation_0-f1_err:0.652367\tvalidation_1-f1_err:0.82022\n",
      "[1210]\tvalidation_0-error:0.167469\tvalidation_1-error:0.207003\tvalidation_0-f1_err:0.649185\tvalidation_1-f1_err:0.819614\n",
      "[1220]\tvalidation_0-error:0.167394\tvalidation_1-error:0.207152\tvalidation_0-f1_err:0.648209\tvalidation_1-f1_err:0.819398\n",
      "[1230]\tvalidation_0-error:0.16727\tvalidation_1-error:0.2076\tvalidation_0-f1_err:0.647852\tvalidation_1-f1_err:0.819717\n",
      "Stopping. Best iteration:\n",
      "[1135]\tvalidation_0-error:0.169632\tvalidation_1-error:0.206307\tvalidation_0-f1_err:0.66095\tvalidation_1-f1_err:0.817179\n",
      "\n"
     ]
    },
    {
     "data": {
      "text/plain": [
       "XGBClassifier(base_score=0.5, booster='gbtree', colsample_bylevel=1,\n",
       "       colsample_bytree=0.7, gamma=0.2, learning_rate=0.1,\n",
       "       max_delta_step=0, max_depth=6, min_child_weight=3, missing=None,\n",
       "       n_estimators=3000, n_jobs=1, nthread=4, objective='binary:logistic',\n",
       "       random_state=0, reg_alpha=0, reg_lambda=1, scale_pos_weight=1,\n",
       "       seed=27, silent=True, subsample=0.7)"
      ]
     },
     "execution_count": 183,
     "metadata": {},
     "output_type": "execute_result"
    }
   ],
   "source": [
    "def f1_eval(y_pred, dtrain):\n",
    "    y_true = dtrain.get_label()\n",
    "    err = 1-f1_score(y_true, np.round(y_pred))\n",
    "    return 'f1_err', err\n",
    "\n",
    "alg = XGBClassifier(learning_rate=0.1, n_estimators=3000, max_depth=6,\n",
    "                    min_child_weight=3, gamma=0.2, subsample=0.7, colsample_bytree=0.7,\n",
    "                    objective='binary:logistic', nthread=4, seed=27, random_state = 0)\n",
    "\n",
    "alg.fit(X_train, y_train,\n",
    "        eval_set=[(X_train, y_train),(X_valid, y_valid)], #모델에서 자체적으로 평가에 사용할 데이터\n",
    "        eval_metric=f1_eval, #모델의 목적함수 지정(최소화할 목적함수 1-f1_score)\n",
    "        early_stopping_rounds=100, #1o0 Interations 동안 최대화 되지 않으면 stop\n",
    "        verbose=10) #Iteration 과정을 10 단위로 보여준다."
   ]
  },
  {
   "cell_type": "code",
   "execution_count": null,
   "metadata": {},
   "outputs": [],
   "source": [
    "def xgb_with_cutoff(test_X=test_X,test_y=test_y,alg=alg,silence = True):\n",
    "    [x[0] for x in alg.predict_proba(test_X)]\n",
    "    cutoff = sorted(tmp)[int((train['No-show'].sum()/train.shape[0]) * len(test_y))]\n",
    "    sub = pd.Series([x[0] < cutoff for x in alg.predict_proba(test_X)]).map(int)\n",
    "    print('f1 score : ' + str(f1_score(y_pred=sub,y_true=test_y)))\n",
    "    if not silence:\n",
    "        return sub"
   ]
  },
  {
   "cell_type": "code",
   "execution_count": 185,
   "metadata": {},
   "outputs": [
    {
     "name": "stdout",
     "output_type": "stream",
     "text": [
      "f1 score : 0.43509285518250845\n"
     ]
    }
   ],
   "source": [
    "xgb_with_cutoff(X_valid, y_valid)"
   ]
  },
  {
   "cell_type": "code",
   "execution_count": 186,
   "metadata": {},
   "outputs": [
    {
     "name": "stdout",
     "output_type": "stream",
     "text": [
      "f1 score : 0.3768259470165883\n",
      "f1 score : 0.3743315508021391\n"
     ]
    },
    {
     "data": {
      "text/plain": [
       "(None, None)"
      ]
     },
     "execution_count": 186,
     "metadata": {},
     "output_type": "execute_result"
    }
   ],
   "source": [
    "rf_with_cutoff(), xgb_with_cutoff()"
   ]
  },
  {
   "cell_type": "code",
   "execution_count": null,
   "metadata": {},
   "outputs": [],
   "source": []
  }
 ],
 "metadata": {
  "kernelspec": {
   "display_name": "Python 3",
   "language": "python",
   "name": "python3"
  },
  "language_info": {
   "codemirror_mode": {
    "name": "ipython",
    "version": 3
   },
   "file_extension": ".py",
   "mimetype": "text/x-python",
   "name": "python",
   "nbconvert_exporter": "python",
   "pygments_lexer": "ipython3",
   "version": "3.6.5"
  }
 },
 "nbformat": 4,
 "nbformat_minor": 2
}
