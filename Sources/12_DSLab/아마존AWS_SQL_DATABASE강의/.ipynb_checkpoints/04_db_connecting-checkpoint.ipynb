{
 "cells": [
  {
   "cell_type": "markdown",
   "metadata": {},
   "source": [
    "## 참고 자료 링크\n",
    "\n",
    "- git repo: <https://github.com/PyMySQL/PyMySQL>\n",
    "- <https://github.com/PyMySQL/PyMySQL/wiki/WhyPyMySQL>\n",
    "- <https://pandas.pydata.org/pandas-docs/stable/generated/pandas.read_sql.html>\n",
    "- <https://pandas.pydata.org/pandas-docs/stable/generated/pandas.DataFrame.to_sql.html>\n",
    "- <http://pythonstudy.xyz/python/article/203-MySQL-DML>\n",
    "- <https://swalloow.github.io/dataframe-to-mysql>\n"
   ]
  },
  {
   "cell_type": "markdown",
   "metadata": {},
   "source": [
    "## python을 이용해 DataBase와 통신하기"
   ]
  },
  {
   "cell_type": "code",
   "execution_count": null,
   "metadata": {
    "collapsed": false
   },
   "outputs": [],
   "source": [
    "import pymysql"
   ]
  },
  {
   "cell_type": "code",
   "execution_count": null,
   "metadata": {
    "collapsed": true
   },
   "outputs": [],
   "source": [
    "# Set information needs to connect DataBase\n",
    "\n",
    "# Fix me\n",
    "HOST='ybigta-sohn.c1f1rwosaiuw.us-east-1.rds.amazonaws.com'\n",
    "USER_NAME='wlsdnjsbu777'\n",
    "PASSWORD='qwer153426!'"
   ]
  },
  {
   "cell_type": "code",
   "execution_count": null,
   "metadata": {
    "collapsed": true
   },
   "outputs": [],
   "source": [
    "# Make connection\n",
    "connection = pymysql.connect(host=HOST,\n",
    "                             port=3306,\n",
    "                             user=USER_NAME,\n",
    "                             password=PASSWORD,\n",
    "                             db='ybigta',\n",
    "                             charset='utf8',\n",
    "                             cursorclass=pymysql.cursors.DictCursor)"
   ]
  },
  {
   "cell_type": "code",
   "execution_count": null,
   "metadata": {
    "collapsed": false
   },
   "outputs": [],
   "source": [
    "# Select one record\n",
    "try:\n",
    "    with connection.cursor() as cursor:\n",
    "        # SQL statement to execute\n",
    "        sql = \"SELECT `student_id`, `name` FROM `students`\"\n",
    "        \n",
    "        # Execute SQL statement\n",
    "        cursor.execute(sql,)\n",
    "        \n",
    "        # Get one record\n",
    "        result = cursor.fetchone()\n",
    "        \n",
    "        # Print result\n",
    "        print(result)\n",
    "finally:\n",
    "    connection.close()"
   ]
  },
  {
   "cell_type": "code",
   "execution_count": null,
   "metadata": {
    "collapsed": false,
    "scrolled": true
   },
   "outputs": [],
   "source": [
    "# Select many records\n",
    "try:\n",
    "    # Make connection    \n",
    "    connection = pymysql.connect(host=HOST,\n",
    "                             port=3306,\n",
    "                             user=USER_NAME,\n",
    "                             password=PASSWORD,\n",
    "                             db='ybigta',\n",
    "                             charset='utf8',\n",
    "                             cursorclass=pymysql.cursors.DictCursor)\n",
    "    \n",
    "    with connection.cursor() as cursor:\n",
    "        # SQL statement to execute\n",
    "        sql = \"SELECT student_id, name FROM students\"\n",
    "        \n",
    "        # Execute SQL statement\n",
    "        cursor.execute(sql,)\n",
    "        \n",
    "        # Get All records\n",
    "        result = cursor.fetchall()\n",
    "        \n",
    "        # Print result\n",
    "        print(result)\n",
    "finally:\n",
    "    connection.close()"
   ]
  },
  {
   "cell_type": "code",
   "execution_count": null,
   "metadata": {
    "collapsed": true
   },
   "outputs": [],
   "source": [
    "# Insert one record\n",
    "\n",
    "try:\n",
    "    # Make connection\n",
    "    connection = pymysql.connect(host=HOST,\n",
    "                         port=3306,\n",
    "                         user=USER_NAME,\n",
    "                         password=PASSWORD,\n",
    "                         db='ybigta',\n",
    "                         charset='utf8',\n",
    "                         cursorclass=pymysql.cursors.DictCursor)\n",
    "    \n",
    "    with connection.cursor() as cursor:\n",
    "        # SQL statement to execute\n",
    "        sql = \"INSERT INTO ybigta.students (student_id, name, sex, age) VALUES (%s, %s, %s, %s)\"\n",
    "        \n",
    "        # Execute SQL statement\n",
    "        cursor.execute(sql,('Y9999', 'TEST', '남', 99))\n",
    "        \n",
    "        # connection is not autocommit by default. So you must commit to save your changes.\n",
    "        connection.commit()\n",
    "finally:\n",
    "    connection.close()"
   ]
  },
  {
   "cell_type": "code",
   "execution_count": null,
   "metadata": {
    "collapsed": true
   },
   "outputs": [],
   "source": [
    "# Insert many records\n",
    "\n",
    "# Sample data to insert into DB\n",
    "data = (\n",
    "    ('Y5555', 'TEST2', '여', 11),\n",
    "    ('Y6666', 'TEST3', '남', 22),\n",
    "    ('Y7777', 'TEST4', '여', 33),\n",
    ")\n",
    "\n",
    "try:\n",
    "    # Make connection    \n",
    "    connection = pymysql.connect(host=HOST,\n",
    "                         port=3306,\n",
    "                         user=USER_NAME,\n",
    "                         password=PASSWORD,\n",
    "                         db='ybigta',\n",
    "                         charset='utf8',\n",
    "                         cursorclass=pymysql.cursors.DictCursor)\n",
    "    \n",
    "    with connection.cursor() as cursor:\n",
    "        # SQL statement to execute\n",
    "        sql = \"\"\"\n",
    "                INSERT INTO ybigta.students (student_id, name, sex, age)\n",
    "                VALUES (%s, %s, %s, %s)\n",
    "              \"\"\"\n",
    "        \n",
    "        # Execute SQL statement\n",
    "        cursor.executemany(sql, data)\n",
    "        \n",
    "        # connection is not autocommit by default. So you must commit to save your changes.\n",
    "        connection.commit()\n",
    "finally:\n",
    "    connection.close()"
   ]
  },
  {
   "cell_type": "code",
   "execution_count": null,
   "metadata": {
    "collapsed": false
   },
   "outputs": [],
   "source": [
    "# Select many records\n",
    "\n",
    "try:\n",
    "    # Make connection    \n",
    "    connection = pymysql.connect(host=HOST,\n",
    "                             port=3306,\n",
    "                             user=USER_NAME,\n",
    "                             password=PASSWORD,\n",
    "                             db='ybigta',\n",
    "                             charset='utf8',\n",
    "                             cursorclass=pymysql.cursors.DictCursor)\n",
    "    \n",
    "    with connection.cursor() as cursor:\n",
    "        # SQL statement to execute\n",
    "        sql = \"SELECT student_id, name FROM students\"\n",
    "        \n",
    "        # Execute SQL statement\n",
    "        cursor.execute(sql,)\n",
    "        \n",
    "        # Get All records\n",
    "        result = cursor.fetchall()\n",
    "        \n",
    "        # Print result\n",
    "        print(result)\n",
    "finally:\n",
    "    connection.close()"
   ]
  },
  {
   "cell_type": "markdown",
   "metadata": {},
   "source": [
    "## pandas를 이용해 DataBase와 통신하기"
   ]
  },
  {
   "cell_type": "code",
   "execution_count": null,
   "metadata": {
    "collapsed": true
   },
   "outputs": [],
   "source": [
    "import pymysql\n",
    "import pandas as pd\n",
    "\n",
    "from sqlalchemy import create_engine"
   ]
  },
  {
   "cell_type": "code",
   "execution_count": null,
   "metadata": {
    "collapsed": true
   },
   "outputs": [],
   "source": [
    "# Set information needs to connect DataBase\n",
    "\n",
    "# Fix me\n",
    "HOST='ybigta-sohn.c1f1rwosaiuw.us-east-1.rds.amazonaws.com'\n",
    "USER_NAME='wlsdnjsbu777'\n",
    "PASSWORD='qwer153426!'"
   ]
  },
  {
   "cell_type": "code",
   "execution_count": null,
   "metadata": {
    "collapsed": false
   },
   "outputs": [],
   "source": [
    "# Make connection\n",
    "connection = pymysql.connect(host=HOST,\n",
    "                             port=3306,\n",
    "                             user=USER_NAME,\n",
    "                             password=PASSWORD,\n",
    "                             db='ybigta',\n",
    "                             charset='utf8',\n",
    "                             cursorclass=pymysql.cursors.DictCursor)\n",
    "\n",
    "# Read from database using SQL\n",
    "# https://pandas.pydata.org/pandas-docs/stable/generated/pandas.read_sql.html\n",
    "data = pd.read_sql('SELECT * FROM students', connection)\n",
    "\n",
    "# Print result\n",
    "data.head(50)"
   ]
  },
  {
   "cell_type": "code",
   "execution_count": null,
   "metadata": {
    "collapsed": false
   },
   "outputs": [],
   "source": [
    "# Sample data to insert\n",
    "\n",
    "data = [\n",
    "    {'student_id': 'Y2222', 'name': 'TEST22', 'sex': '남', 'age': 11},\n",
    "    {'student_id': 'Y3333', 'name': 'TEST22', 'sex': '여', 'age': 22},\n",
    "    {'student_id': 'Y4444', 'name': 'TEST22', 'sex': '남', 'age': 33},\n",
    "]\n",
    "\n",
    "df = pd.DataFrame(data)\n",
    "\n",
    "df.head(10)"
   ]
  },
  {
   "cell_type": "code",
   "execution_count": null,
   "metadata": {
    "collapsed": true
   },
   "outputs": [],
   "source": [
    "# from: https://github.com/PyMySQL/PyMySQL/wiki/WhyPyMySQL\n",
    "\n",
    "# It's also a drop-in replacement for the standard way of connecting to MySQL in Python, MySQLdb\n",
    "# Just put the following code at the very top of your Python program:\n",
    "\n",
    "pymysql.install_as_MySQLdb()\n",
    "import MySQLdb"
   ]
  },
  {
   "cell_type": "code",
   "execution_count": null,
   "metadata": {
    "collapsed": false
   },
   "outputs": [],
   "source": [
    "# Host information format to connect database\n",
    "HOST_FORMAT=\"mysql+mysqldb://{USER_NAME}:{PASSWORD}@{HOST}/{DB_NAME}?charset=utf8\"\n",
    "\n",
    "try:    \n",
    "    HOST_FORMATTED = HOST_FORMAT.format(USER_NAME=USER_NAME, HOST=HOST, PASSWORD=PASSWORD, DB_NAME='ybigta')\n",
    "\n",
    "    engine = create_engine(HOST_FORMATTED, encoding='utf-8')\n",
    "    conn = engine.connect()\n",
    "\n",
    "    # Save dataframe to database\n",
    "    # https://pandas.pydata.org/pandas-docs/stable/generated/pandas.DataFrame.to_sql.html\n",
    "    df.to_sql(name='students', con=conn, if_exists='append', index=False)\n",
    "\n",
    "finally:\n",
    "    conn.close()    "
   ]
  },
  {
   "cell_type": "code",
   "execution_count": null,
   "metadata": {
    "collapsed": false
   },
   "outputs": [],
   "source": [
    "# Make connection\n",
    "connection = pymysql.connect(host=HOST,\n",
    "                             port=3306,\n",
    "                             user=USER_NAME,\n",
    "                             password=PASSWORD,\n",
    "                             db='ybigta',\n",
    "                             charset='utf8',\n",
    "                             cursorclass=pymysql.cursors.DictCursor)\n",
    "\n",
    "# Read from database using SQL\n",
    "data = pd.read_sql('SELECT * FROM students', connection)\n",
    "\n",
    "# Print result\n",
    "data.head(50)"
   ]
  },
  {
   "cell_type": "code",
   "execution_count": null,
   "metadata": {
    "collapsed": true
   },
   "outputs": [],
   "source": []
  }
 ],
 "metadata": {
  "anaconda-cloud": {},
  "kernelspec": {
   "display_name": "Python [default]",
   "language": "python",
   "name": "python3"
  },
  "language_info": {
   "codemirror_mode": {
    "name": "ipython",
    "version": 3
   },
   "file_extension": ".py",
   "mimetype": "text/x-python",
   "name": "python",
   "nbconvert_exporter": "python",
   "pygments_lexer": "ipython3",
   "version": "3.5.2"
  }
 },
 "nbformat": 4,
 "nbformat_minor": 2
}
